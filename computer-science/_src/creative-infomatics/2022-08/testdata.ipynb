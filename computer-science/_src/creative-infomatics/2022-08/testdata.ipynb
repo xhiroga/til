{
 "cells": [
  {
   "cell_type": "markdown",
   "metadata": {},
   "source": [
    "## 大問 1\n"
   ]
  },
  {
   "cell_type": "code",
   "execution_count": 1,
   "metadata": {},
   "outputs": [
    {
     "name": "stdout",
     "output_type": "stream",
     "text": [
      "0,1,0,3,0,5,2,1,2,3,2,5,4,1,4,3,4,5,6,1,6,3,6,5,1,0,1,2,1,4,1,6,3,0,3,2,3,4,3,6,5,0,5,2,5,4,5,6\n"
     ]
    }
   ],
   "source": [
    "txt = \"\"\n",
    "for i in [0, 2, 4, 6]:\n",
    "    for j in [1, 3, 5]:\n",
    "        txt += f\"{i},{j},\"\n",
    "\n",
    "for i in [1, 3, 5]:\n",
    "    for j in [0, 2, 4, 6]:\n",
    "        txt += f\"{i},{j},\"\n",
    "\n",
    "print(txt.strip(\",\"))"
   ]
  },
  {
   "cell_type": "code",
   "execution_count": 5,
   "metadata": {},
   "outputs": [],
   "source": [
    "import random\n",
    "\n",
    "\n",
    "def testdata(m: int, prob: float):\n",
    "    def is_wall():\n",
    "        return random.random() < prob\n",
    "\n",
    "    txt = \"\"\n",
    "    for i in range(m + 1):\n",
    "        row = i * 2\n",
    "        for j in range(m):\n",
    "            column = j * 2 + 1\n",
    "            if is_wall():\n",
    "                txt += f\"{row},{column},\"\n",
    "\n",
    "    for i in range(m):\n",
    "        row = i * 2 + 1\n",
    "        for j in range(m + 1):\n",
    "            column = j * 2\n",
    "            if is_wall():\n",
    "                txt += f\"{row},{column},\"\n",
    "\n",
    "    return txt.strip(\",\")"
   ]
  },
  {
   "cell_type": "code",
   "execution_count": 6,
   "metadata": {},
   "outputs": [],
   "source": [
    "expected = \"0,1,0,3,0,5,2,1,2,3,2,5,4,1,4,3,4,5,6,1,6,3,6,5,1,0,1,2,1,4,1,6,3,0,3,2,3,4,3,6,5,0,5,2,5,4,5,6\"\n",
    "actual = testdata(3, 1)\n",
    "assert expected == actual"
   ]
  },
  {
   "cell_type": "code",
   "execution_count": 10,
   "metadata": {},
   "outputs": [],
   "source": [
    "with open(\"maze0.txt\", mode=\"w\") as f:\n",
    "    f.write(testdata(3, 1))"
   ]
  },
  {
   "cell_type": "code",
   "execution_count": 11,
   "metadata": {},
   "outputs": [],
   "source": [
    "with open(\"maze1.txt\", mode=\"w\") as f:\n",
    "    f.write(testdata(3, 0.5))"
   ]
  },
  {
   "cell_type": "code",
   "execution_count": 13,
   "metadata": {},
   "outputs": [],
   "source": [
    "with open(\"maze2.txt\", mode=\"w\") as f:\n",
    "    f.write(testdata(40, 0.3))"
   ]
  },
  {
   "cell_type": "markdown",
   "metadata": {},
   "source": [
    "## 大問 2\n"
   ]
  },
  {
   "cell_type": "code",
   "execution_count": 8,
   "metadata": {},
   "outputs": [],
   "source": [
    "import random\n",
    "\n",
    "\n",
    "def testsequence(m: int = 40):\n",
    "    sqeuqnce = [str(random.randint(0, 3)) for _ in range(m**2)]\n",
    "    return \",\".join(sqeuqnce)"
   ]
  },
  {
   "cell_type": "code",
   "execution_count": 9,
   "metadata": {},
   "outputs": [],
   "source": [
    "with open(\"p.txt\", mode=\"w\") as f:\n",
    "    f.write(testsequence())"
   ]
  },
  {
   "cell_type": "code",
   "execution_count": null,
   "metadata": {},
   "outputs": [],
   "source": []
  }
 ],
 "metadata": {
  "kernelspec": {
   "display_name": ".venv",
   "language": "python",
   "name": "python3"
  },
  "language_info": {
   "codemirror_mode": {
    "name": "ipython",
    "version": 3
   },
   "file_extension": ".py",
   "mimetype": "text/x-python",
   "name": "python",
   "nbconvert_exporter": "python",
   "pygments_lexer": "ipython3",
   "version": "3.12.3"
  }
 },
 "nbformat": 4,
 "nbformat_minor": 2
}
