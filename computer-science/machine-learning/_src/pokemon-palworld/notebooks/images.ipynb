{
 "cells": [
  {
   "cell_type": "markdown",
   "metadata": {},
   "source": [
    "# Collect images"
   ]
  },
  {
   "cell_type": "markdown",
   "metadata": {},
   "source": [
    "## From GitHub"
   ]
  },
  {
   "cell_type": "code",
   "execution_count": 3,
   "metadata": {},
   "outputs": [
    {
     "name": "stderr",
     "output_type": "stream",
     "text": [
      "Cloning into '../data/mrok273/Qiita'...\n",
      "Updating files:  69% (1780/2557)\n",
      "Updating files:  70% (1790/2557)\n",
      "Updating files:  71% (1816/2557)\n",
      "Updating files:  72% (1842/2557)\n",
      "Updating files:  73% (1867/2557)\n",
      "Updating files:  74% (1893/2557)\n",
      "Updating files:  75% (1918/2557)\n",
      "Updating files:  76% (1944/2557)\n",
      "Updating files:  77% (1969/2557)\n",
      "Updating files:  78% (1995/2557)\n",
      "Updating files:  79% (2021/2557)\n",
      "Updating files:  80% (2046/2557)\n",
      "Updating files:  81% (2072/2557)\n",
      "Updating files:  82% (2097/2557)\n",
      "Updating files:  83% (2123/2557)\n",
      "Updating files:  84% (2148/2557)\n",
      "Updating files:  85% (2174/2557)\n",
      "Updating files:  86% (2200/2557)\n",
      "Updating files:  87% (2225/2557)\n",
      "Updating files:  88% (2251/2557)\n",
      "Updating files:  89% (2276/2557)\n",
      "Updating files:  90% (2302/2557)\n",
      "Updating files:  91% (2327/2557)\n",
      "Updating files:  92% (2353/2557)\n",
      "Updating files:  93% (2379/2557)\n",
      "Updating files:  94% (2404/2557)\n",
      "Updating files:  94% (2406/2557)\n",
      "Updating files:  95% (2430/2557)\n",
      "Updating files:  96% (2455/2557)\n",
      "Updating files:  97% (2481/2557)\n",
      "Updating files:  98% (2506/2557)\n",
      "Updating files:  99% (2532/2557)\n",
      "Updating files: 100% (2557/2557)\n",
      "Updating files: 100% (2557/2557), done.\n"
     ]
    }
   ],
   "source": [
    "!git clone https://github.com/mrok273/Qiita ../data/mrok273/Qiita || git -C ../data/mrok273/Qiita pull\n"
   ]
  },
  {
   "cell_type": "markdown",
   "metadata": {},
   "source": [
    "## From web"
   ]
  },
  {
   "cell_type": "markdown",
   "metadata": {},
   "source": [
    "- Install firefox\n",
    "- Open web page\n",
    "- Bulk save image (See [How to Save All the Images on a Web Page in Firefox Browser](https://www.journeybytes.com/bulk-save-images-using-firefox/))"
   ]
  },
  {
   "cell_type": "markdown",
   "metadata": {},
   "source": [
    "## From YouTube"
   ]
  },
  {
   "cell_type": "markdown",
   "metadata": {},
   "source": []
  }
 ],
 "metadata": {
  "kernelspec": {
   "display_name": "til-machine-learning",
   "language": "python",
   "name": "python3"
  },
  "language_info": {
   "codemirror_mode": {
    "name": "ipython",
    "version": 3
   },
   "file_extension": ".py",
   "mimetype": "text/x-python",
   "name": "python",
   "nbconvert_exporter": "python",
   "pygments_lexer": "ipython3",
   "version": "3.11.7"
  }
 },
 "nbformat": 4,
 "nbformat_minor": 2
}
