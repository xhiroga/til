{
 "cells": [
  {
   "cell_type": "markdown",
   "metadata": {},
   "source": [
    "# Collect resources"
   ]
  },
  {
   "cell_type": "markdown",
   "metadata": {},
   "source": [
    "## From GitHub"
   ]
  },
  {
   "cell_type": "code",
   "execution_count": 7,
   "metadata": {},
   "outputs": [],
   "source": [
    "!git clone -q https://github.com/mrok273/Qiita ../data/raw/mrok273/Qiita"
   ]
  },
  {
   "cell_type": "markdown",
   "metadata": {},
   "source": [
    "## From Kaggle"
   ]
  },
  {
   "cell_type": "code",
   "execution_count": 1,
   "metadata": {},
   "outputs": [],
   "source": [
    "!kaggle datasets download -d mikoajkolman/pokemon-images-first-generation17000-files -p \"../data/raw/\" -q"
   ]
  },
  {
   "cell_type": "markdown",
   "metadata": {},
   "source": [
    "## From Web"
   ]
  },
  {
   "cell_type": "markdown",
   "metadata": {},
   "source": [
    "- Install firefox\n",
    "- Open web page\n",
    "- Bulk save image (See [How to Save All the Images on a Web Page in Firefox Browser](https://www.journeybytes.com/bulk-save-images-using-firefox/))"
   ]
  },
  {
   "cell_type": "markdown",
   "metadata": {},
   "source": [
    "## From YouTube"
   ]
  },
  {
   "cell_type": "markdown",
   "metadata": {},
   "source": [
    "### Pal"
   ]
  },
  {
   "cell_type": "code",
   "execution_count": null,
   "metadata": {},
   "outputs": [],
   "source": [
    "# Official paldeck\n",
    "!yt-dlp --postprocessor-args \"-ss 00:00:00 -t 00:00:05\" -o \"../data/video/pocketpair/%(title)s-%(id)s-5s.%(ext)s\" -q https://www.youtube.com/playlist?list=PLptNv_Fxn9idzsTRulWNmLYKWgKhqKI5s"
   ]
  },
  {
   "cell_type": "code",
   "execution_count": 10,
   "metadata": {},
   "outputs": [],
   "source": [
    "import os\n",
    "import re\n",
    "\n",
    "directory = \"../data/video/pocketpair\"\n",
    "for filename in os.listdir(directory):\n",
    "    match = re.search(r'[Pp]aldeck.*[Nn]o.(\\d+).*.webm', filename)\n",
    "    paldeck_no, = match.groups() if match else [None]\n",
    "    if paldeck_no is None:\n",
    "        continue\n",
    "    new_filename = f\"paldeck_no{paldeck_no.zfill(3)}.webm\"\n",
    "    os.rename(os.path.join(directory, filename), os.path.join(directory, new_filename))"
   ]
  },
  {
   "cell_type": "code",
   "execution_count": 12,
   "metadata": {},
   "outputs": [
    {
     "name": "stdout",
     "output_type": "stream",
     "text": [
      "1920x1080x60/1\n"
     ]
    }
   ],
   "source": [
    "!ffprobe -v error -select_streams v:0 -show_entries stream=width,height,r_frame_rate -of csv=s=x:p=0 \"../data/video/pocketpair/paldeck_no001.webm\""
   ]
  },
  {
   "cell_type": "code",
   "execution_count": 21,
   "metadata": {},
   "outputs": [],
   "source": [
    "import sys\n",
    "sys.path.append('..')\n",
    "\n",
    "import os\n",
    "import subprocess\n",
    "\n",
    "from datetime import datetime\n",
    "from src.pipeline import *\n",
    "\n",
    "input_dir = \"../data/video/pocketpair\"\n",
    "output_dir = \"../data/raw/pocketpair\"\n",
    "\n",
    "for root, dirs, files in os.walk(input_dir):\n",
    "    for filename in files:\n",
    "        full_input_path = os.path.join(root, filename)\n",
    "        filename_without_ext, _ext = os.path.splitext(filename)\n",
    "        output_subdir = os.path.join(output_dir, filename_without_ext)\n",
    "        os.makedirs(output_subdir, exist_ok=True)\n",
    "\n",
    "        output_pattern = os.path.join(output_subdir, \"frame_%05d.png\")\n",
    "        command = ['ffmpeg', '-hwaccel', 'cuda', '-i', full_input_path, '-vf', 'fps=12', output_pattern]\n",
    "        subprocess.run(command, check=True)\n",
    "        \n",
    "        for root_out, _, files_out in os.walk(output_subdir):\n",
    "            for filename_out in files_out:\n",
    "                full_output_path = os.path.join(root_out, filename_out)\n",
    "                raw_dir = data_dir(Step.raw.value)\n",
    "                metadata = Metadata(\n",
    "                    bucket=raw_dir,\n",
    "                    path=os.path.relpath(full_output_path, raw_dir),\n",
    "                    step=Step.raw,\n",
    "                    label=Label.pal,\n",
    "                    created_at=datetime.utcnow()\n",
    "                )\n",
    "                create_metadata(metadata)\n",
    "        "
   ]
  },
  {
   "cell_type": "code",
   "execution_count": null,
   "metadata": {},
   "outputs": [],
   "source": [
    "# Fan video\n",
    "!yt-dlp -o \"../data/video/palworld-fan/%(id)s.%(ext)s\" -q https://www.youtube.com/playlist?list=PLitsLuiXBQxtd0ThPaYMqsbxUMfmdxVHc"
   ]
  },
  {
   "cell_type": "code",
   "execution_count": 24,
   "metadata": {},
   "outputs": [],
   "source": [
    "import sys\n",
    "sys.path.append('..')\n",
    "\n",
    "import os\n",
    "import subprocess\n",
    "\n",
    "from datetime import datetime\n",
    "from src.pipeline import *\n",
    "\n",
    "input_dir = \"../data/video/palworld-fan\"\n",
    "output_dir = \"../data/raw/palworld-fan\"\n",
    "\n",
    "for root, dirs, files in os.walk(input_dir):\n",
    "    for filename in files:\n",
    "        full_input_path = os.path.join(root, filename)\n",
    "        filename_without_ext, _ext = os.path.splitext(filename)\n",
    "        output_subdir = os.path.join(output_dir, filename_without_ext)\n",
    "        os.makedirs(output_subdir, exist_ok=True)\n",
    "\n",
    "        output_pattern = os.path.join(output_subdir, \"frame_%05d.png\")\n",
    "        command = ['ffmpeg', '-hwaccel', 'cuda', '-i', full_input_path, '-vf', 'fps=12', output_pattern]\n",
    "        subprocess.run(command, check=True)\n",
    "        \n",
    "        for root_out, _, files_out in os.walk(output_subdir):\n",
    "            for filename_out in files_out:\n",
    "                full_output_path = os.path.join(root_out, filename_out)\n",
    "                raw_dir = data_dir(Step.raw.value)\n",
    "                metadata = Metadata(\n",
    "                    bucket=raw_dir,\n",
    "                    path=os.path.relpath(full_output_path, raw_dir),\n",
    "                    step=Step.raw,\n",
    "                    label=Label.pal,\n",
    "                    created_at=datetime.utcnow()\n",
    "                )\n",
    "                create_metadata(metadata)\n",
    "        "
   ]
  },
  {
   "cell_type": "markdown",
   "metadata": {},
   "source": [
    "### Pokemon"
   ]
  },
  {
   "cell_type": "code",
   "execution_count": null,
   "metadata": {},
   "outputs": [],
   "source": [
    "!yt-dlp -o \"../data/video/pokemon-games/%(id)s.%(ext)s\" -q https://youtube.com/playlist?list=PLitsLuiXBQxvqH5Hv1R5ioFnCpIBMNvX3&si=nzehh3dDiU3k2Q7F"
   ]
  },
  {
   "cell_type": "code",
   "execution_count": null,
   "metadata": {},
   "outputs": [],
   "source": [
    "import os\n",
    "import subprocess\n",
    "\n",
    "input_dir = \"../data/video/pokemon-games\"\n",
    "output_dir = \"../data/raw/pokemon-games\"\n",
    "FPS = 6 # 動画の種類が多いので、動画あたりの画像数は少なくて良い\n",
    "\n",
    "for root, dirs, files in os.walk(input_dir):\n",
    "    for filename in files:\n",
    "        full_input_path = os.path.join(root, filename)\n",
    "        filename_without_ext, _ext = os.path.splitext(filename)\n",
    "        output_subdir = os.path.join(output_dir, filename_without_ext)\n",
    "        os.makedirs(output_subdir, exist_ok=True)\n",
    "        output_pattern = os.path.join(output_subdir, \"frame_%05d.png\")\n",
    "        command = ['ffmpeg', '-hwaccel', 'cuda', '-i', full_input_path, '-vf', f\"fps={FPS}\", output_pattern]\n",
    "        subprocess.run(command, check=True)\n"
   ]
  },
  {
   "cell_type": "code",
   "execution_count": 13,
   "metadata": {},
   "outputs": [],
   "source": [
    "# torchvision.dataset はフォルダ構造が`split`/`label`でないと使えない。前処理にはHuggingFace。\n",
    "import os\n",
    "from datasets import load_dataset\n",
    "from torchvision import transforms\n",
    "from typing import Tuple\n",
    "\n",
    "\n",
    "def center_crop_and_save(input_dir:str, output_dir:str, crop_size: Tuple[int, int]):\n",
    "    datasets = load_dataset(\"imagefolder\", data_dir=input_dir)\n",
    "    cropper = transforms.CenterCrop(crop_size)\n",
    "    os.makedirs(output_dir, exist_ok=True)\n",
    "\n",
    "    def _center_crop_and_save(example):\n",
    "        cropped = cropper(example[\"image\"])\n",
    "        cropped.filename = os.path.abspath(example[\"image\"].filename).lower().replace(\n",
    "            os.path.abspath(input_dir).lower(),\n",
    "            os.path.abspath(output_dir).lower(),\n",
    "        )\n",
    "        cropped.save(cropped.filename)\n",
    "        # No need to return example, just save it.\n",
    "\n",
    "    datasets.map(_center_crop_and_save)"
   ]
  },
  {
   "cell_type": "code",
   "execution_count": 15,
   "metadata": {},
   "outputs": [
    {
     "name": "stderr",
     "output_type": "stream",
     "text": [
      "Map: 100%|██████████| 11112/11112 [11:55<00:00, 15.52 examples/s]\n",
      "Generating train split: 7405 examples [00:00, 10062.70 examples/s]\n",
      "Map: 100%|██████████| 7405/7405 [18:05<00:00,  6.82 examples/s]\n",
      "Generating train split: 9862 examples [00:00, 10031.40 examples/s]\n",
      "Map: 100%|██████████| 9862/9862 [30:25<00:00,  5.40 examples/s]\n",
      "Generating train split: 12420 examples [00:01, 10197.81 examples/s]\n",
      "Map: 100%|██████████| 12420/12420 [30:12<00:00,  6.85 examples/s]\n"
     ]
    }
   ],
   "source": [
    "center_crop_and_save(\"../data/raw/pokemon-games/0Loz61U6CuE\", \"../data/raw/pokemon-games/0Loz61U6CuE_cropped\", (1028, 1028))\n",
    "center_crop_and_save(\"../data/raw/pokemon-games/AObd6oPnlyg\", \"../data/raw/pokemon-games/AObd6oPnlyg_cropped\", (1028, 1028))\n",
    "center_crop_and_save(\"../data/raw/pokemon-games/LG-LZKUUVZI\", \"../data/raw/pokemon-games/LG-LZKUUVZI_cropped\", (1028, 1028))\n",
    "center_crop_and_save(\"../data/raw/pokemon-games/Q3-fCEL-JjE\", \"../data/raw/pokemon-games/Q3-fCEL-JjE_cropped\", (1028, 1028))"
   ]
  },
  {
   "cell_type": "code",
   "execution_count": null,
   "metadata": {},
   "outputs": [],
   "source": []
  }
 ],
 "metadata": {
  "kernelspec": {
   "display_name": "til-machine-learning",
   "language": "python",
   "name": "python3"
  },
  "language_info": {
   "codemirror_mode": {
    "name": "ipython",
    "version": 3
   },
   "file_extension": ".py",
   "mimetype": "text/x-python",
   "name": "python",
   "nbconvert_exporter": "python",
   "pygments_lexer": "ipython3",
   "version": "3.12.1"
  }
 },
 "nbformat": 4,
 "nbformat_minor": 2
}
