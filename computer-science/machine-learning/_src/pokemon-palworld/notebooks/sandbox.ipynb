{
 "cells": [
  {
   "cell_type": "markdown",
   "metadata": {},
   "source": [
    "## yt-dlp"
   ]
  },
  {
   "cell_type": "code",
   "execution_count": 2,
   "metadata": {},
   "outputs": [
    {
     "name": "stdout",
     "output_type": "stream",
     "text": [
      "[youtube] Extracting URL: https://www.youtube.com/watch?v=MeIr__26dAw\n",
      "[youtube] MeIr__26dAw: Downloading webpage\n",
      "[youtube] MeIr__26dAw: Downloading ios player API JSON\n",
      "[youtube] MeIr__26dAw: Downloading android player API JSON\n",
      "[youtube] MeIr__26dAw: Downloading m3u8 information\n",
      "[info] MeIr__26dAw: Downloading 1 format(s): 302+251\n",
      "[download] ..\\data\\youtube\\bluearchive\\Let's Go!!!!!!!!!!!!!!!!!!!!!!!!!!!!!!!!!!!!!!!!!!!!!!!!!!!!!!!!!!!!!!!!!!!!!!!!!!!!!!!!!!!!!!!!!!!!.webm has already been downloaded\n"
     ]
    }
   ],
   "source": [
    "!yt-dlp -o \"../data/youtube/bluearchive/%(title)s.%(ext)s\" https://www.youtube.com/watch?v=MeIr__26dAw"
   ]
  },
  {
   "cell_type": "markdown",
   "metadata": {},
   "source": [
    "## ffmpeg"
   ]
  },
  {
   "cell_type": "code",
   "execution_count": 4,
   "metadata": {},
   "outputs": [
    {
     "name": "stderr",
     "output_type": "stream",
     "text": [
      "ffmpeg version 6.1.1 Copyright (c) 2000-2023 the FFmpeg developers\n",
      "  built with clang version 17.0.6\n",
      "  configuration: --prefix=/d/bld/ffmpeg_1705436951673/_h_env/Library --cc=clang.exe --cxx=clang++.exe --nm=llvm-nm --ar=llvm-ar --disable-doc --disable-openssl --enable-demuxer=dash --enable-hardcoded-tables --enable-libfreetype --enable-libharfbuzz --enable-libfontconfig --enable-libopenh264 --enable-libdav1d --ld=lld-link --target-os=win64 --enable-cross-compile --toolchain=msvc --host-cc=clang.exe --extra-libs=ucrt.lib --extra-libs=vcruntime.lib --extra-libs=oldnames.lib --strip=llvm-strip --disable-stripping --host-extralibs= --disable-libopenvino --enable-gpl --enable-libx264 --enable-libx265 --enable-libaom --enable-libsvtav1 --enable-libxml2 --enable-pic --enable-shared --disable-static --enable-version3 --enable-zlib --enable-libopus --pkg-config=/d/bld/ffmpeg_1705436951673/_build_env/Library/bin/pkg-config\n",
      "  libavutil      58. 29.100 / 58. 29.100\n",
      "  libavcodec     60. 31.102 / 60. 31.102\n",
      "  libavformat    60. 16.100 / 60. 16.100\n",
      "  libavdevice    60.  3.100 / 60.  3.100\n",
      "  libavfilter     9. 12.100 /  9. 12.100\n",
      "  libswscale      7.  5.100 /  7.  5.100\n",
      "  libswresample   4. 12.100 /  4. 12.100\n",
      "  libpostproc    57.  3.100 / 57.  3.100\n",
      "Input #0, matroska,webm, from '../data/youtube/bluearchive/Let's Go!!!!!!!!!!!!!!!!!!!!!!!!!!!!!!!!!!!!!!!!!!!!!!!!!!!!!!!!!!!!!!!!!!!!!!!!!!!!!!!!!!!!!!!!!!!!.webm':\n",
      "  Metadata:\n",
      "    ENCODER         : Lavf60.16.100\n",
      "  Duration: 00:00:08.05, start: 0.000000, bitrate: 924 kb/s\n",
      "  Stream #0:0(eng): Video: vp9 (Profile 0), yuv420p(tv, bt709), 1280x720, SAR 1:1 DAR 16:9, 60 fps, 60 tbr, 1k tbn (default)\n",
      "    Metadata:\n",
      "      DURATION        : 00:00:08.000000000\n",
      "  Stream #0:1(eng): Audio: opus, 48000 Hz, stereo, fltp (default)\n",
      "    Metadata:\n",
      "      DURATION        : 00:00:08.048000000\n",
      "Stream mapping:\n",
      "  Stream #0:0 -> #0:0 (vp9 (native) -> png (native))\n",
      "Press [q] to stop, [?] for help\n",
      "Output #0, image2, to '../data/raw/MeIr__26dAw/frame_%d.png':\n",
      "  Metadata:\n",
      "    encoder         : Lavf60.16.100\n",
      "  Stream #0:0(eng): Video: png, rgb24(pc, gbr/bt709/bt709, progressive), 1280x720 [SAR 1:1 DAR 16:9], q=2-31, 200 kb/s, 1 fps, 1 tbn (default)\n",
      "    Metadata:\n",
      "      DURATION        : 00:00:08.000000000\n",
      "      encoder         : Lavc60.31.102 png\n",
      "frame=    0 fps=0.0 q=0.0 size=       0kB time=N/A bitrate=N/A speed=N/A    \n",
      "[out#0/image2 @ 0000020E1511ED80] video:2157kB audio:0kB subtitle:0kB other streams:0kB global headers:0kB muxing overhead: unknown\n",
      "frame=    8 fps=0.0 q=-0.0 Lsize=N/A time=00:00:07.00 bitrate=N/A speed=43.3x    \n"
     ]
    }
   ],
   "source": [
    "!ffmpeg -i \"../data/youtube/bluearchive/Let's Go!!!!!!!!!!!!!!!!!!!!!!!!!!!!!!!!!!!!!!!!!!!!!!!!!!!!!!!!!!!!!!!!!!!!!!!!!!!!!!!!!!!!!!!!!!!!.webm\" -vf \"fps=1\" \"../data/raw/MeIr__26dAw/frame_%d.png\""
   ]
  },
  {
   "cell_type": "markdown",
   "metadata": {},
   "source": [
    "## Caption"
   ]
  },
  {
   "cell_type": "code",
   "execution_count": 6,
   "metadata": {},
   "outputs": [
    {
     "name": "stderr",
     "output_type": "stream",
     "text": [
      "tokenizer_config.json: 100%|██████████| 711/711 [00:00<?, ?B/s] \n",
      "spiece.model: 100%|██████████| 4.31M/4.31M [00:00<00:00, 96.3MB/s]\n",
      "special_tokens_map.json: 100%|██████████| 409/409 [00:00<00:00, 409kB/s]\n"
     ]
    },
    {
     "name": "stdout",
     "output_type": "stream",
     "text": [
      "27.0% that image 0 is 'a photo of 2 cats'\n"
     ]
    }
   ],
   "source": [
    "from PIL import Image\n",
    "import requests\n",
    "from transformers import AutoProcessor, AutoModel\n",
    "import torch\n",
    "\n",
    "model = AutoModel.from_pretrained(\"google/siglip-base-patch16-256-i18n\")\n",
    "processor = AutoProcessor.from_pretrained(\"google/siglip-base-patch16-256-i18n\")\n",
    "\n",
    "url = \"http://images.cocodataset.org/val2017/000000039769.jpg\"\n",
    "image = Image.open(requests.get(url, stream=True).raw)\n",
    "\n",
    "texts = [\"a photo of 2 cats\", \"a photo of 2 dogs\"]\n",
    "inputs = processor(text=texts, images=image, padding=\"max_length\", return_tensors=\"pt\")\n",
    "\n",
    "with torch.no_grad():\n",
    "    outputs = model(**inputs)\n",
    "\n",
    "logits_per_image = outputs.logits_per_image\n",
    "probs = torch.sigmoid(logits_per_image) # these are the probabilities\n",
    "print(f\"{probs[0][0]:.1%} that image 0 is '{texts[0]}'\")\n"
   ]
  },
  {
   "cell_type": "markdown",
   "metadata": {},
   "source": [
    "## Crop"
   ]
  },
  {
   "cell_type": "code",
   "execution_count": 4,
   "metadata": {},
   "outputs": [
    {
     "name": "stdout",
     "output_type": "stream",
     "text": [
      "Red channel:\n",
      "tensor([[0.0000],\n",
      "        [0.9294]])\n",
      "Green channel:\n",
      "tensor([[0.0000],\n",
      "        [0.1098]])\n",
      "Blue channel:\n",
      "tensor([[0.0000],\n",
      "        [0.1412]])\n",
      "Alpha channel:\n",
      "tensor([[0.],\n",
      "        [1.]])\n"
     ]
    },
    {
     "data": {
      "image/png": "[encoded data removed]",
      "text/plain": [
       "<Figure size 640x480 with 1 Axes>"
      ]
     },
     "metadata": {},
     "output_type": "display_data"
    }
   ],
   "source": [
    "import matplotlib.pyplot as plt\n",
    "\n",
    "from PIL import Image\n",
    "from torchvision import transforms\n",
    "\n",
    "\n",
    "def show_rgba(image_path):\n",
    "    # See RGBA data\n",
    "    image = Image.open(image_path)\n",
    "    to_tensor = transforms.ToTensor()\n",
    "    tensor = to_tensor(image)\n",
    "\n",
    "    for i, color in enumerate(['Red', 'Green', 'Blue', 'Alpha']):\n",
    "        print(f\"{color} channel:\")\n",
    "        print(tensor[i])\n",
    "    plt.imshow(tensor.permute(1, 2, 0))\n",
    "    plt.axis('off')\n",
    "    plt.show()\n",
    "\n",
    "\n",
    "show_rgba('../data/samples/transparent_indonesia_flag.png')\n",
    "# Alpha channel: tensor([[0.], [1.]]). It means alpha 0 is transparent.\n"
   ]
  }
 ],
 "metadata": {
  "kernelspec": {
   "display_name": "pokemon-pal",
   "language": "python",
   "name": "python3"
  },
  "language_info": {
   "codemirror_mode": {
    "name": "ipython",
    "version": 3
   },
   "file_extension": ".py",
   "mimetype": "text/x-python",
   "name": "python",
   "nbconvert_exporter": "python",
   "pygments_lexer": "ipython3",
   "version": "3.11.7"
  }
 },
 "nbformat": 4,
 "nbformat_minor": 2
}
