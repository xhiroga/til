{
 "cells": [
  {
   "cell_type": "code",
   "execution_count": 1,
   "metadata": {},
   "outputs": [],
   "source": [
    "from torch.utils.data import random_split\n",
    "from torchvision.datasets import ImageFolder\n",
    "\n",
    "dataset = ImageFolder('../data/merged')"
   ]
  },
  {
   "cell_type": "code",
   "execution_count": 5,
   "metadata": {},
   "outputs": [],
   "source": [
    "import torch\n",
    "import wandb\n",
    "\n",
    "def train(model, optimizer, criterion, train_loader, test_loader, num_epochs, device):\n",
    "    for epoch in range(num_epochs):\n",
    "        model.train()\n",
    "        running_loss = 0.0\n",
    "        running_correct = 0\n",
    "        total = 0\n",
    "        \n",
    "        for images, labels in train_loader:\n",
    "            images, labels = images.to(device), labels.to(device)\n",
    "            optimizer.zero_grad()\n",
    "            outputs = model(images)\n",
    "            _, predicted = torch.max(outputs, 1)\n",
    "            loss = criterion(outputs, labels)\n",
    "\n",
    "            loss.backward()\n",
    "            optimizer.step()\n",
    "\n",
    "            running_loss += loss.item()\n",
    "            running_correct += torch.sum(predicted == labels.data)\n",
    "            total += len(labels)\n",
    "        \n",
    "        model.eval()\n",
    "        running_test_loss = 0.0\n",
    "        running_test_correct = 0\n",
    "        test_total = 0\n",
    "        \n",
    "        with torch.no_grad():\n",
    "            for images, labels in test_loader:\n",
    "                images, labels = images.to(device), labels.to(device)\n",
    "                outputs = model(images)\n",
    "                _, predicted = torch.max(outputs, 1)\n",
    "                loss = criterion(outputs, labels)\n",
    "                test_total += len(labels)\n",
    "\n",
    "                running_test_loss += loss.item()\n",
    "                running_test_correct += torch.sum(predicted == labels.data)\n",
    "        \n",
    "        log = {\n",
    "            \"epoch\": epoch +1,\n",
    "            \"train_loss\": running_loss / len(train_loader),\n",
    "            \"train_acc\": running_correct / total,\n",
    "            \"test_loss\": running_test_loss / len(test_loader),\n",
    "            \"test_acc\": running_test_correct / test_total\n",
    "        }\n",
    "        print(log)\n",
    "        wandb.log(log)\n"
   ]
  },
  {
   "cell_type": "code",
   "execution_count": 6,
   "metadata": {},
   "outputs": [
    {
     "data": {
      "text/html": [
       "Finishing last run (ID:tk9wsl01) before initializing another..."
      ],
      "text/plain": [
       "<IPython.core.display.HTML object>"
      ]
     },
     "metadata": {},
     "output_type": "display_data"
    },
    {
     "data": {
      "text/html": [
       " View run <strong style=\"color:#cdcd00\">bright-festival-26</strong> at: <a href='https://wandb.ai/hiroga/pokemon-palworld/runs/tk9wsl01' target=\"_blank\">https://wandb.ai/hiroga/pokemon-palworld/runs/tk9wsl01</a><br/>Synced 5 W&B file(s), 0 media file(s), 0 artifact file(s) and 0 other file(s)"
      ],
      "text/plain": [
       "<IPython.core.display.HTML object>"
      ]
     },
     "metadata": {},
     "output_type": "display_data"
    },
    {
     "data": {
      "text/html": [
       "Find logs at: <code>.\\wandb\\run-20240210_214357-tk9wsl01\\logs</code>"
      ],
      "text/plain": [
       "<IPython.core.display.HTML object>"
      ]
     },
     "metadata": {},
     "output_type": "display_data"
    },
    {
     "data": {
      "text/html": [
       "Successfully finished last run (ID:tk9wsl01). Initializing new run:<br/>"
      ],
      "text/plain": [
       "<IPython.core.display.HTML object>"
      ]
     },
     "metadata": {},
     "output_type": "display_data"
    },
    {
     "data": {
      "text/html": [
       "Tracking run with wandb version 0.16.3"
      ],
      "text/plain": [
       "<IPython.core.display.HTML object>"
      ]
     },
     "metadata": {},
     "output_type": "display_data"
    },
    {
     "data": {
      "text/html": [
       "Run data is saved locally in <code>c:\\Users\\hiroga\\Documents\\GitHub\\til\\computer-science\\machine-learning\\_src\\pokemon-palworld\\notebooks\\wandb\\run-20240210_214513-n10hb84q</code>"
      ],
      "text/plain": [
       "<IPython.core.display.HTML object>"
      ]
     },
     "metadata": {},
     "output_type": "display_data"
    },
    {
     "data": {
      "text/html": [
       "Syncing run <strong><a href='https://wandb.ai/hiroga/pokemon-palworld/runs/n10hb84q' target=\"_blank\">bright-peony-27</a></strong> to <a href='https://wandb.ai/hiroga/pokemon-palworld' target=\"_blank\">Weights & Biases</a> (<a href='https://wandb.me/run' target=\"_blank\">docs</a>)<br/>"
      ],
      "text/plain": [
       "<IPython.core.display.HTML object>"
      ]
     },
     "metadata": {},
     "output_type": "display_data"
    },
    {
     "data": {
      "text/html": [
       " View project at <a href='https://wandb.ai/hiroga/pokemon-palworld' target=\"_blank\">https://wandb.ai/hiroga/pokemon-palworld</a>"
      ],
      "text/plain": [
       "<IPython.core.display.HTML object>"
      ]
     },
     "metadata": {},
     "output_type": "display_data"
    },
    {
     "data": {
      "text/html": [
       " View run at <a href='https://wandb.ai/hiroga/pokemon-palworld/runs/n10hb84q' target=\"_blank\">https://wandb.ai/hiroga/pokemon-palworld/runs/n10hb84q</a>"
      ],
      "text/plain": [
       "<IPython.core.display.HTML object>"
      ]
     },
     "metadata": {},
     "output_type": "display_data"
    },
    {
     "name": "stderr",
     "output_type": "stream",
     "text": [
      "c:\\Users\\hiroga\\miniconda3\\envs\\pokemon-palworld-v2\\Lib\\site-packages\\PIL\\Image.py:981: UserWarning: Palette images with Transparency expressed in bytes should be converted to RGBA images\n",
      "  warnings.warn(\n"
     ]
    },
    {
     "name": "stdout",
     "output_type": "stream",
     "text": [
      "{'epoch': 1, 'train_loss': 2.0058670265910528, 'train_acc': tensor(0.7567, device='cuda:0'), 'test_loss': 0.29579666070640087, 'test_acc': tensor(0.8963, device='cuda:0')}\n",
      "{'epoch': 2, 'train_loss': 0.25133627191341174, 'train_acc': tensor(0.9179, device='cuda:0'), 'test_loss': 0.2427434492856264, 'test_acc': tensor(0.9081, device='cuda:0')}\n",
      "{'epoch': 3, 'train_loss': 0.17301090178079903, 'train_acc': tensor(0.9396, device='cuda:0'), 'test_loss': 0.18246092647314072, 'test_acc': tensor(0.9488, device='cuda:0')}\n",
      "{'epoch': 4, 'train_loss': 0.1345923683353855, 'train_acc': tensor(0.9507, device='cuda:0'), 'test_loss': 0.1817974865746995, 'test_acc': tensor(0.9396, device='cuda:0')}\n",
      "{'epoch': 5, 'train_loss': 0.10805761968367733, 'train_acc': tensor(0.9619, device='cuda:0'), 'test_loss': 0.25233888734752935, 'test_acc': tensor(0.9304, device='cuda:0')}\n"
     ]
    }
   ],
   "source": [
    "# SimpleCNN\n",
    "import sys\n",
    "\n",
    "sys.path.append('..')\n",
    "\n",
    "import torch\n",
    "import wandb\n",
    "from safetensors.torch import save_file\n",
    "from torch.utils.data import DataLoader\n",
    "from torchvision import transforms\n",
    "\n",
    "from src.SimpleCNN import SimpleCNN\n",
    "\n",
    "model_name = \"SimpleCNN\"\n",
    "learning_rate = 0.001\n",
    "epochs = 5\n",
    "image_size = 256\n",
    "batch_size = 32\n",
    "\n",
    "dataset.transform = transforms.Compose([\n",
    "    transforms.Resize((image_size, image_size)),\n",
    "    transforms.ToTensor(),\n",
    "])\n",
    "train_size = int(0.8 * len(dataset))\n",
    "test_size = len(dataset) - train_size\n",
    "train_dataset, test_dataset = random_split(dataset, [train_size, test_size])\n",
    "train_dataloader = DataLoader(train_dataset, batch_size=batch_size, shuffle=True)\n",
    "test_dataloader = DataLoader(test_dataset, batch_size=batch_size, shuffle=False)\n",
    "\n",
    "wandb.init(\n",
    "    project=\"pokemon-palworld\",\n",
    "    config={\n",
    "        \"model_name\": model_name,\n",
    "        \"learning_rate\": learning_rate,\n",
    "        \"architecture\": \"CNN\",\n",
    "        \"dataset\": \"pokemon-palworld\",\n",
    "        \"epochs\": epochs,\n",
    "        \"image_size\": image_size,\n",
    "        \"train_size\": train_size,\n",
    "        \"test_size\": test_size,\n",
    "        \"batch_size\": batch_size,\n",
    "    }\n",
    ")\n",
    "\n",
    "device = torch.device(\"cuda\" if torch.cuda.is_available() else \"cpu\")\n",
    "model = SimpleCNN(image_size=image_size).to(device)\n",
    "optimizer = torch.optim.Adam(model.parameters(), lr=learning_rate)\n",
    "criterion = torch.nn.CrossEntropyLoss()\n",
    "\n",
    "train(model, optimizer, criterion, train_dataloader, test_dataloader, num_epochs=epochs, device=device)\n",
    "\n",
    "save_file(model.state_dict(), f\"../models/{model_name}_epoch{epochs}.safetensors\")"
   ]
  },
  {
   "cell_type": "code",
   "execution_count": 7,
   "metadata": {},
   "outputs": [
    {
     "data": {
      "text/html": [
       "Finishing last run (ID:n10hb84q) before initializing another..."
      ],
      "text/plain": [
       "<IPython.core.display.HTML object>"
      ]
     },
     "metadata": {},
     "output_type": "display_data"
    },
    {
     "data": {
      "text/html": [
       "<style>\n",
       "    table.wandb td:nth-child(1) { padding: 0 10px; text-align: left ; width: auto;} td:nth-child(2) {text-align: left ; width: 100%}\n",
       "    .wandb-row { display: flex; flex-direction: row; flex-wrap: wrap; justify-content: flex-start; width: 100% }\n",
       "    .wandb-col { display: flex; flex-direction: column; flex-basis: 100%; flex: 1; padding: 10px; }\n",
       "    </style>\n",
       "<div class=\"wandb-row\"><div class=\"wandb-col\"><h3>Run history:</h3><br/><table class=\"wandb\"><tr><td>epoch</td><td>▁▃▅▆█</td></tr><tr><td>test_acc</td><td>▁▃█▇▆</td></tr><tr><td>test_loss</td><td>█▅▁▁▅</td></tr><tr><td>train_acc</td><td>▁▆▇██</td></tr><tr><td>train_loss</td><td>█▂▁▁▁</td></tr></table><br/></div><div class=\"wandb-col\"><h3>Run summary:</h3><br/><table class=\"wandb\"><tr><td>epoch</td><td>5</td></tr><tr><td>test_acc</td><td>0.93045</td></tr><tr><td>test_loss</td><td>0.25234</td></tr><tr><td>train_acc</td><td>0.9619</td></tr><tr><td>train_loss</td><td>0.10806</td></tr></table><br/></div></div>"
      ],
      "text/plain": [
       "<IPython.core.display.HTML object>"
      ]
     },
     "metadata": {},
     "output_type": "display_data"
    },
    {
     "data": {
      "text/html": [
       " View run <strong style=\"color:#cdcd00\">bright-peony-27</strong> at: <a href='https://wandb.ai/hiroga/pokemon-palworld/runs/n10hb84q' target=\"_blank\">https://wandb.ai/hiroga/pokemon-palworld/runs/n10hb84q</a><br/>Synced 5 W&B file(s), 0 media file(s), 0 artifact file(s) and 0 other file(s)"
      ],
      "text/plain": [
       "<IPython.core.display.HTML object>"
      ]
     },
     "metadata": {},
     "output_type": "display_data"
    },
    {
     "data": {
      "text/html": [
       "Find logs at: <code>.\\wandb\\run-20240210_214513-n10hb84q\\logs</code>"
      ],
      "text/plain": [
       "<IPython.core.display.HTML object>"
      ]
     },
     "metadata": {},
     "output_type": "display_data"
    },
    {
     "data": {
      "text/html": [
       "Successfully finished last run (ID:n10hb84q). Initializing new run:<br/>"
      ],
      "text/plain": [
       "<IPython.core.display.HTML object>"
      ]
     },
     "metadata": {},
     "output_type": "display_data"
    },
    {
     "data": {
      "text/html": [
       "Tracking run with wandb version 0.16.3"
      ],
      "text/plain": [
       "<IPython.core.display.HTML object>"
      ]
     },
     "metadata": {},
     "output_type": "display_data"
    },
    {
     "data": {
      "text/html": [
       "Run data is saved locally in <code>c:\\Users\\hiroga\\Documents\\GitHub\\til\\computer-science\\machine-learning\\_src\\pokemon-palworld\\notebooks\\wandb\\run-20240210_215006-wvdwmwva</code>"
      ],
      "text/plain": [
       "<IPython.core.display.HTML object>"
      ]
     },
     "metadata": {},
     "output_type": "display_data"
    },
    {
     "data": {
      "text/html": [
       "Syncing run <strong><a href='https://wandb.ai/hiroga/pokemon-palworld/runs/wvdwmwva' target=\"_blank\">resplendent-envelope-28</a></strong> to <a href='https://wandb.ai/hiroga/pokemon-palworld' target=\"_blank\">Weights & Biases</a> (<a href='https://wandb.me/run' target=\"_blank\">docs</a>)<br/>"
      ],
      "text/plain": [
       "<IPython.core.display.HTML object>"
      ]
     },
     "metadata": {},
     "output_type": "display_data"
    },
    {
     "data": {
      "text/html": [
       " View project at <a href='https://wandb.ai/hiroga/pokemon-palworld' target=\"_blank\">https://wandb.ai/hiroga/pokemon-palworld</a>"
      ],
      "text/plain": [
       "<IPython.core.display.HTML object>"
      ]
     },
     "metadata": {},
     "output_type": "display_data"
    },
    {
     "data": {
      "text/html": [
       " View run at <a href='https://wandb.ai/hiroga/pokemon-palworld/runs/wvdwmwva' target=\"_blank\">https://wandb.ai/hiroga/pokemon-palworld/runs/wvdwmwva</a>"
      ],
      "text/plain": [
       "<IPython.core.display.HTML object>"
      ]
     },
     "metadata": {},
     "output_type": "display_data"
    },
    {
     "name": "stderr",
     "output_type": "stream",
     "text": [
      "c:\\Users\\hiroga\\miniconda3\\envs\\pokemon-palworld-v2\\Lib\\site-packages\\torchvision\\models\\_utils.py:208: UserWarning: The parameter 'pretrained' is deprecated since 0.13 and may be removed in the future, please use 'weights' instead.\n",
      "  warnings.warn(\n",
      "c:\\Users\\hiroga\\miniconda3\\envs\\pokemon-palworld-v2\\Lib\\site-packages\\torchvision\\models\\_utils.py:223: UserWarning: Arguments other than a weight enum or `None` for 'weights' are deprecated since 0.13 and may be removed in the future. The current behavior is equivalent to passing `weights=ResNet18_Weights.IMAGENET1K_V1`. You can also use `weights=ResNet18_Weights.DEFAULT` to get the most up-to-date weights.\n",
      "  warnings.warn(msg)\n",
      "c:\\Users\\hiroga\\miniconda3\\envs\\pokemon-palworld-v2\\Lib\\site-packages\\PIL\\Image.py:981: UserWarning: Palette images with Transparency expressed in bytes should be converted to RGBA images\n",
      "  warnings.warn(\n"
     ]
    },
    {
     "name": "stdout",
     "output_type": "stream",
     "text": [
      "{'epoch': 1, 'train_loss': 0.3158972087015475, 'train_acc': tensor(0.8906, device='cuda:0'), 'test_loss': 0.15371598408091813, 'test_acc': tensor(0.9606, device='cuda:0')}\n",
      "{'epoch': 2, 'train_loss': 0.2375155989296521, 'train_acc': tensor(0.9323, device='cuda:0'), 'test_loss': 0.1321556754410267, 'test_acc': tensor(0.9567, device='cuda:0')}\n",
      "{'epoch': 3, 'train_loss': 0.17485199307157018, 'train_acc': tensor(0.9448, device='cuda:0'), 'test_loss': 0.0980549325128474, 'test_acc': tensor(0.9777, device='cuda:0')}\n",
      "{'epoch': 4, 'train_loss': 0.16236812840149165, 'train_acc': tensor(0.9603, device='cuda:0'), 'test_loss': 0.15898253349102257, 'test_acc': tensor(0.9633, device='cuda:0')}\n",
      "{'epoch': 5, 'train_loss': 0.12463321681146529, 'train_acc': tensor(0.9586, device='cuda:0'), 'test_loss': 0.07893073613134523, 'test_acc': tensor(0.9724, device='cuda:0')}\n",
      "{'epoch': 1, 'train_loss': 0.07786970144358445, 'train_acc': tensor(0.9777, device='cuda:0'), 'test_loss': 0.071285109166638, 'test_acc': tensor(0.9764, device='cuda:0')}\n",
      "{'epoch': 2, 'train_loss': 0.045772435193309015, 'train_acc': tensor(0.9836, device='cuda:0'), 'test_loss': 0.07295981426432263, 'test_acc': tensor(0.9790, device='cuda:0')}\n",
      "{'epoch': 3, 'train_loss': 0.033284605482246356, 'train_acc': tensor(0.9875, device='cuda:0'), 'test_loss': 0.06670773062311734, 'test_acc': tensor(0.9764, device='cuda:0')}\n",
      "{'epoch': 4, 'train_loss': 0.028745104563616525, 'train_acc': tensor(0.9898, device='cuda:0'), 'test_loss': 0.05832779881408593, 'test_acc': tensor(0.9829, device='cuda:0')}\n",
      "{'epoch': 5, 'train_loss': 0.019964520830702288, 'train_acc': tensor(0.9944, device='cuda:0'), 'test_loss': 0.06166736023927418, 'test_acc': tensor(0.9777, device='cuda:0')}\n",
      "{'epoch': 6, 'train_loss': 0.016467201154076367, 'train_acc': tensor(0.9951, device='cuda:0'), 'test_loss': 0.058490198522728555, 'test_acc': tensor(0.9790, device='cuda:0')}\n",
      "{'epoch': 7, 'train_loss': 0.01425331079553871, 'train_acc': tensor(0.9961, device='cuda:0'), 'test_loss': 0.0583716047622147, 'test_acc': tensor(0.9816, device='cuda:0')}\n",
      "{'epoch': 8, 'train_loss': 0.010325185295187111, 'train_acc': tensor(0.9974, device='cuda:0'), 'test_loss': 0.05147630213468801, 'test_acc': tensor(0.9843, device='cuda:0')}\n",
      "{'epoch': 9, 'train_loss': 0.009032063972275258, 'train_acc': tensor(0.9987, device='cuda:0'), 'test_loss': 0.05407051600438232, 'test_acc': tensor(0.9816, device='cuda:0')}\n",
      "{'epoch': 10, 'train_loss': 0.011314572649704738, 'train_acc': tensor(0.9967, device='cuda:0'), 'test_loss': 0.062059649242049396, 'test_acc': tensor(0.9777, device='cuda:0')}\n"
     ]
    }
   ],
   "source": [
    "# Fine Tuning from ResNet18\n",
    "import torchvision.models as models\n",
    "import wandb\n",
    "from safetensors.torch import save_file\n",
    "from torch.utils.data import DataLoader\n",
    "from torchvision import transforms\n",
    "\n",
    "model_name = \"ResNet18_FineTuned\"\n",
    "last_layer_learning_rate = 0.01\n",
    "last_layer_momentum = 0.9\n",
    "last_layer_epoches = 5\n",
    "full_layer_learning_rate = 0.001\n",
    "full_layer_momentum = 0.001\n",
    "full_layer_epoches = 10\n",
    "image_size = 256\n",
    "batch_size = 32\n",
    "\n",
    "dataset.transform = transforms.Compose([\n",
    "    transforms.Resize(image_size),\n",
    "    transforms.CenterCrop(224),\n",
    "    transforms.ToTensor(),\n",
    "    transforms.Normalize(mean=[0.485, 0.456, 0.406], std=[0.229, 0.224, 0.225])\n",
    "])\n",
    "train_size = int(0.8 * len(dataset))\n",
    "test_size = len(dataset) - train_size\n",
    "train_dataset, test_dataset = random_split(dataset, [train_size, test_size])\n",
    "train_dataloader = DataLoader(train_dataset, batch_size=batch_size, shuffle=True)\n",
    "test_dataloader = DataLoader(test_dataset, batch_size=batch_size, shuffle=False)\n",
    "\n",
    "wandb.init(\n",
    "    project=\"pokemon-palworld\",\n",
    "    config={\n",
    "        \"model_name\": model_name,\n",
    "        \"last_layer_learning_rate\": last_layer_learning_rate,\n",
    "        \"last_layer_momentum\": last_layer_momentum,\n",
    "        \"last_layer_epochs\": last_layer_epoches,\n",
    "        \"full_layer_learning_rate\": full_layer_learning_rate,\n",
    "        \"full_layer_momentum\": full_layer_momentum,\n",
    "        \"full_layer_epochs\": full_layer_epoches,\n",
    "        \"architecture\": \"CNN\",\n",
    "        \"dataset\": \"pokemon-palworld\",\n",
    "        \"image_size\": image_size,\n",
    "        \"train_size\": train_size,\n",
    "        \"test_size\": test_size,\n",
    "        \"batch_size\": batch_size,\n",
    "    }\n",
    ")\n",
    "\n",
    "\n",
    "model = models.resnet18(pretrained=True)\n",
    "for param in model.parameters():\n",
    "    param.requires_grad = False\n",
    "model.fc = torch.nn.Linear(model.fc.in_features, len(dataset.class_to_idx.keys()))\n",
    "device = torch.device('cuda' if torch.cuda.is_available() else 'cpu')\n",
    "model.to(device)\n",
    "\n",
    "criterion = torch.nn.CrossEntropyLoss()\n",
    "\n",
    "# Fine-tune the last layer for a few epochs\n",
    "optimizer = torch.optim.SGD(model.fc.parameters(), lr=last_layer_learning_rate, momentum=last_layer_momentum)\n",
    "train(model, optimizer, criterion, train_dataloader, test_dataloader, num_epochs=last_layer_epoches, device=device)\n",
    "\n",
    "# Unfreeze all the layers and fine-tune the entire network for a few more epochs\n",
    "for param in model.parameters():\n",
    "    param.requires_grad = True\n",
    "optimizer = torch.optim.SGD(model.parameters(), lr=full_layer_learning_rate, momentum=full_layer_momentum)\n",
    "train(model, optimizer, criterion, train_dataloader, test_dataloader, num_epochs=full_layer_epoches, device=device)\n",
    "\n",
    "save_file(model.state_dict(), f\"../models/{model_name}_epoch{last_layer_epoches}_{full_layer_epoches}.safetensors\")"
   ]
  },
  {
   "cell_type": "code",
   "execution_count": null,
   "metadata": {},
   "outputs": [],
   "source": []
  }
 ],
 "metadata": {
  "kernelspec": {
   "display_name": "til-machine-learning",
   "language": "python",
   "name": "python3"
  },
  "language_info": {
   "codemirror_mode": {
    "name": "ipython",
    "version": 3
   },
   "file_extension": ".py",
   "mimetype": "text/x-python",
   "name": "python",
   "nbconvert_exporter": "python",
   "pygments_lexer": "ipython3",
   "version": "3.12.1"
  }
 },
 "nbformat": 4,
 "nbformat_minor": 2
}
