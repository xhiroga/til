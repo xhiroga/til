{
 "cells": [
  {
   "cell_type": "code",
   "execution_count": 1,
   "metadata": {},
   "outputs": [],
   "source": [
    "import os\n",
    "import requests\n",
    "from bs4 import BeautifulSoup\n",
    "from urllib.parse import urljoin\n",
    "from PIL import Image\n",
    "from io import BytesIO\n",
    "\n",
    "# ウェブページのURL\n",
    "url = 'https://www.gameleap.com/articles/every-pal-in-palworld-a-complete-paldeck-list'\n",
    "\n",
    "# ウェブページからHTMLを取得\n",
    "response = requests.get(url)\n",
    "html = response.text\n",
    "\n",
    "# BeautifulSoupでHTMLを解析\n",
    "soup = BeautifulSoup(html, 'html.parser')\n",
    "\n",
    "# \"large-section-container\"クラスの子要素にあるすべてのimgタグを検索\n",
    "image_tags = soup.select('.large-section-container img')\n",
    "\n",
    "# 保存先フォルダのパス\n",
    "folder_path = 'data/every-pal-in-palworld-a-complete-paldeck-list'\n",
    "\n",
    "# フォルダが存在しない場合は作成\n",
    "if not os.path.exists(folder_path):\n",
    "    os.makedirs(folder_path)\n",
    "\n",
    "# 画像のダウンロードと保存\n",
    "for i, img in enumerate(image_tags):\n",
    "    # 画像のURLを取得\n",
    "    img_url = urljoin(url, img['src'])\n",
    "\n",
    "    # 画像をダウンロード\n",
    "    img_response = requests.get(img_url)\n",
    "    if img_response.status_code == 200:\n",
    "\n",
    "        file_name = img.get('alt', 'default_name') + '.webp'\n",
    "\n",
    "        # 画像を開いて保存\n",
    "        image = Image.open(BytesIO(img_response.content))\n",
    "        image.save(os.path.join(folder_path, file_name))\n"
   ]
  },
  {
   "cell_type": "code",
   "execution_count": null,
   "metadata": {},
   "outputs": [],
   "source": []
  }
 ],
 "metadata": {
  "kernelspec": {
   "display_name": "til-machine-learning",
   "language": "python",
   "name": "python3"
  },
  "language_info": {
   "codemirror_mode": {
    "name": "ipython",
    "version": 3
   },
   "file_extension": ".py",
   "mimetype": "text/x-python",
   "name": "python",
   "nbconvert_exporter": "python",
   "pygments_lexer": "ipython3",
   "version": "3.11.7"
  }
 },
 "nbformat": 4,
 "nbformat_minor": 2
}
