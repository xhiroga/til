{
 "cells": [
  {
   "cell_type": "code",
   "execution_count": 3,
   "id": "b38a46cc",
   "metadata": {},
   "outputs": [
    {
     "name": "stdout",
     "output_type": "stream",
     "text": [
      "sys.float_info(max=1.7976931348623157e+308, max_exp=1024, max_10_exp=308, min=2.2250738585072014e-308, min_exp=-1021, min_10_exp=-307, dig=15, mant_dig=53, epsilon=2.220446049250313e-16, radix=2, rounds=1)\n"
     ]
    }
   ],
   "source": [
    "import sys\n",
    "\n",
    "print(sys.float_info)"
   ]
  },
  {
   "cell_type": "markdown",
   "id": "9ece041c",
   "metadata": {},
   "source": [
    "$$符号部: 1bit + 仮数部: 53bit + 指数部: 10bit = 64bit$$"
   ]
  },
  {
   "cell_type": "code",
   "execution_count": 4,
   "id": "4a605e0c",
   "metadata": {},
   "outputs": [
    {
     "name": "stdout",
     "output_type": "stream",
     "text": [
      "mantissa=0.7853981633974483, exponent=2\n"
     ]
    }
   ],
   "source": [
    "import math\n",
    "\n",
    "some_floating_point_number = 3.141592653589793238462\n",
    "mantissa, exponent = math.frexp(some_floating_point_number)\n",
    "print(f\"{mantissa=}, {exponent=}\")"
   ]
  },
  {
   "cell_type": "markdown",
   "id": "6beb6698",
   "metadata": {},
   "source": [
    "floatは少数を仮数部と指数部で分けて保存するが、仮数部と10の冪乗との積で表すわけではない！その代わりに、仮数部と2の冪乗の積で表す。  \n",
    "3.1415... = 0.7853 * 2^2 で表される。"
   ]
  },
  {
   "cell_type": "code",
   "execution_count": null,
   "id": "ff354b2c",
   "metadata": {},
   "outputs": [],
   "source": []
  }
 ],
 "metadata": {
  "kernelspec": {
   "display_name": ".venv",
   "language": "python",
   "name": "python3"
  },
  "language_info": {
   "codemirror_mode": {
    "name": "ipython",
    "version": 3
   },
   "file_extension": ".py",
   "mimetype": "text/x-python",
   "name": "python",
   "nbconvert_exporter": "python",
   "pygments_lexer": "ipython3",
   "version": "3.13.3"
  }
 },
 "nbformat": 4,
 "nbformat_minor": 5
}
