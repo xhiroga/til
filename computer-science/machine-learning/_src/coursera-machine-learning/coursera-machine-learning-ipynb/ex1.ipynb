{
 "cells": [
  {
   "cell_type": "markdown",
   "metadata": {},
   "source": [
    "## Compute Cost Tutorial"
   ]
  },
  {
   "cell_type": "code",
   "execution_count": null,
   "metadata": {},
   "outputs": [],
   "source": []
  }
 ],
 "metadata": {
  "interpreter": {
   "hash": "e1c8b6e1fb575220ff170fc3182685874c1d1a485e0045da8cb968441ce6175a"
  },
  "kernelspec": {
   "display_name": "Python 3.10.1 64-bit ('.venv': poetry)",
   "language": "python",
   "name": "python3"
  },
  "language_info": {
   "name": "python",
   "version": "3.10.1"
  },
  "orig_nbformat": 4
 },
 "nbformat": 4,
 "nbformat_minor": 2
}
