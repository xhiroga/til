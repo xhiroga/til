{
 "cells": [
  {
   "cell_type": "code",
   "execution_count": 5,
   "metadata": {},
   "outputs": [],
   "source": [
    "import numpy as np"
   ]
  },
  {
   "cell_type": "code",
   "execution_count": 6,
   "metadata": {},
   "outputs": [],
   "source": [
    "# テスト用のデータを作成する\n",
    "X = np.array([\n",
    "    [0, 1, 2, 3, 4, 5],\n",
    "    [1, 2, 3, 4, 5, 6],\n",
    "    [2, 3, 4, 5, 6, 7],\n",
    "    [3, 4, 5, 6, 7, 8],\n",
    "    [4, 5, 6, 7, 8, 9],\n",
    "])\n",
    "\n",
    "y = np.array([6, 7, 8, 9, 10])\n",
    "\n",
    "# ハイパーパラメータを設定する\n",
    "input_size = 1\n",
    "hidden_size = 10\n",
    "output_size = 1\n",
    "learning_rate = 0.1\n",
    "\n",
    "# 重みの初期化\n",
    "Wxh = np.random.randn(hidden_size, input_size) * 0.01\n",
    "Whh = np.random.randn(hidden_size, hidden_size) * 0.01\n",
    "Why = np.random.randn(output_size, hidden_size) * 0.01\n",
    "\n",
    "# バイアスの初期化\n",
    "bh = np.zeros((hidden_size, 1))\n",
    "by = np.zeros((output_size, 1))\n"
   ]
  },
  {
   "cell_type": "code",
   "execution_count": 8,
   "metadata": {},
   "outputs": [
    {
     "ename": "TypeError",
     "evalue": "'int' object is not iterable",
     "output_type": "error",
     "traceback": [
      "\u001b[1;31m---------------------------------------------------------------------------\u001b[0m",
      "\u001b[1;31mTypeError\u001b[0m                                 Traceback (most recent call last)",
      "\u001b[1;32mc:\\Users\\hiroga\\Documents\\GitHub\\til\\computer-science\\machine-learning\\rnn.ipynb Cell 3\u001b[0m in \u001b[0;36m<cell line: 2>\u001b[1;34m()\u001b[0m\n\u001b[0;32m      <a href='vscode-notebook-cell:/c%3A/Users/hiroga/Documents/GitHub/til/computer-science/machine-learning/rnn.ipynb#W2sZmlsZQ%3D%3D?line=6'>7</a>\u001b[0m h \u001b[39m=\u001b[39m np\u001b[39m.\u001b[39mzeros((hidden_size, \u001b[39m1\u001b[39m))\n\u001b[0;32m      <a href='vscode-notebook-cell:/c%3A/Users/hiroga/Documents/GitHub/til/computer-science/machine-learning/rnn.ipynb#W2sZmlsZQ%3D%3D?line=8'>9</a>\u001b[0m \u001b[39m# 時系列データを順伝播させる\u001b[39;00m\n\u001b[1;32m---> <a href='vscode-notebook-cell:/c%3A/Users/hiroga/Documents/GitHub/til/computer-science/machine-learning/rnn.ipynb#W2sZmlsZQ%3D%3D?line=9'>10</a>\u001b[0m \u001b[39mfor\u001b[39;00m \u001b[39minput\u001b[39m \u001b[39min\u001b[39;00m inputs\u001b[39m.\u001b[39mshape[\u001b[39m0\u001b[39m]:\n\u001b[0;32m     <a href='vscode-notebook-cell:/c%3A/Users/hiroga/Documents/GitHub/til/computer-science/machine-learning/rnn.ipynb#W2sZmlsZQ%3D%3D?line=10'>11</a>\u001b[0m     \u001b[39m# 隠れ層の計算。隠れ層が全結合層ではないことに注意。\u001b[39;00m\n\u001b[0;32m     <a href='vscode-notebook-cell:/c%3A/Users/hiroga/Documents/GitHub/til/computer-science/machine-learning/rnn.ipynb#W2sZmlsZQ%3D%3D?line=11'>12</a>\u001b[0m     h \u001b[39m=\u001b[39m np\u001b[39m.\u001b[39mtanh(np\u001b[39m.\u001b[39mdot(Wxh, \u001b[39minput\u001b[39m) \u001b[39m+\u001b[39m np\u001b[39m.\u001b[39mdot(Whh, h) \u001b[39m+\u001b[39m bh)\n\u001b[0;32m     <a href='vscode-notebook-cell:/c%3A/Users/hiroga/Documents/GitHub/til/computer-science/machine-learning/rnn.ipynb#W2sZmlsZQ%3D%3D?line=13'>14</a>\u001b[0m \u001b[39m# 出力層の計算\u001b[39;00m\n",
      "\u001b[1;31mTypeError\u001b[0m: 'int' object is not iterable"
     ]
    }
   ],
   "source": [
    "# RNNの実装\n",
    "for i in range(X.shape[0]):\n",
    "    # 時系列データの入力\n",
    "    inputs = X[i].reshape(-1, 1)\n",
    "    \n",
    "    # 隠れ状態の初期化\n",
    "    h = np.zeros((hidden_size, 1))\n",
    "    \n",
    "    # 時系列データを順伝播させる\n",
    "    for input in inputs.shape[0]:\n",
    "        # 隠れ層の計算。隠れ層が全結合層ではないことに注意。\n",
    "        h = np.tanh(np.dot(Wxh, input) + np.dot(Whh, h) + bh)\n",
    "    \n",
    "    # 出力層の計算\n",
    "    y_pred = np.dot(Why, h) + by\n",
    "    \n",
    "    # 誤差の計算\n",
    "    loss = np.square(y_pred - y[i])\n",
    "    \n",
    "    # 誤差の逆伝播\n",
    "    dWhy = np.dot(loss, h.T)\n",
    "    dby = loss\n",
    "    dh = np.dot(Why.T, loss)\n",
    "    dbh = dh * (1 - h * h)\n",
    "    \n",
    "    # 勾配の計算\n",
    "    dWxh = np.dot(dbh, inputs.T)\n",
    "    dWhh = np.dot(dbh, h.T)\n",
    "    \n",
    "    # パラメータの更新\n",
    "    Wxh -= learning_rate * dWxh\n",
    "    Whh -= learning_rate * dWhh\n",
    "    Why -= learning_rate * dWhy\n",
    "    bh -= learning_rate * dbh\n",
    "    by -= learning_rate * dby"
   ]
  }
 ],
 "metadata": {
  "kernelspec": {
   "display_name": "base",
   "language": "python",
   "name": "python3"
  },
  "language_info": {
   "codemirror_mode": {
    "name": "ipython",
    "version": 3
   },
   "file_extension": ".py",
   "mimetype": "text/x-python",
   "name": "python",
   "nbconvert_exporter": "python",
   "pygments_lexer": "ipython3",
   "version": "3.9.12"
  },
  "orig_nbformat": 4,
  "vscode": {
   "interpreter": {
    "hash": "561cfb824a645460ec5d41199b5182b67a0e291b0c50dd6c314e06fae9d9cb0d"
   }
  }
 },
 "nbformat": 4,
 "nbformat_minor": 2
}
