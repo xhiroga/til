{
 "cells": [
  {
   "cell_type": "code",
   "execution_count": 4,
   "metadata": {},
   "outputs": [],
   "source": [
    "import CaboCha\n",
    "import pandas as pd\n"
   ]
  },
  {
   "cell_type": "code",
   "execution_count": 5,
   "metadata": {},
   "outputs": [],
   "source": [
    "from pandas import DataFrame\n",
    "df: DataFrame = pd.read_table('./data/ai.ja/ai.ja.txt', header=None, names=['sentence'])"
   ]
  },
  {
   "cell_type": "code",
   "execution_count": 6,
   "metadata": {},
   "outputs": [],
   "source": [
    "from CaboCha import Tree\n",
    "from typing import List\n",
    "\n",
    "def printTree(tree: Tree):\n",
    "    print(tree.toString(CaboCha.FORMAT_LATTICE))\n",
    "\n",
    "def headTrees(trees: List[Tree], from_int: int, to_int: int) -> None:\n",
    "    for tree in trees[from_int:to_int]:\n",
    "        printTree(tree)\n",
    "\n"
   ]
  },
  {
   "cell_type": "code",
   "execution_count": 7,
   "metadata": {},
   "outputs": [],
   "source": [
    "# parse()の返り値が最新のTreeオブジェクトになっている問題に対する試み(1)\n",
    "# toString() を呼び出せばポイント参照から実態の参照へと切り替わるのでは？と期待したのだが、失敗。\n",
    "# def noLazyParse(sentence: str) -> Tree:\n",
    "#     parsed = c.parse(sentence)\n",
    "#     parsed.toString(CaboCha.FORMAT_LATTICE)\n",
    "#     return parsed\n",
    "\n",
    "# trees = df['sentence'].map(noLazyParse)\n",
    "# trees.head()"
   ]
  },
  {
   "cell_type": "code",
   "execution_count": 8,
   "metadata": {},
   "outputs": [],
   "source": [
    "# parse()の返り値が最新のTreeオブジェクトになっている問題に対する試み(2)\n",
    "# いっそ要素ごとにParserを作ってしまおう、とやってみたが、iPhythonのKernelが落ちる。\n",
    "# trees = df['sentence'].map(CaboCha.Parser().parse)\n",
    "# trees.head()"
   ]
  },
  {
   "cell_type": "code",
   "execution_count": 16,
   "metadata": {},
   "outputs": [
    {
     "data": {
      "text/plain": [
       "0    * 0 -1D 1/1 0.000000\\n人工\\t名詞,一般,*,*,*,*,人工,ジンコ...\n",
       "1    * 0 17D 1/1 0.388993\\n人工\\t名詞,一般,*,*,*,*,人工,ジンコ...\n",
       "2    * 0 1D 6/7 3.194287\\n『\\t記号,括弧開,*,*,*,*,『,『,『\\n...\n",
       "3    * 0 1D 0/1 1.813378\\n人間\\t名詞,一般,*,*,*,*,人間,ニンゲン...\n",
       "4    * 0 1D 1/2 0.906609\\nプログラミング\\t名詞,サ変接続,*,*,*,*,...\n",
       "Name: sentence, dtype: object"
      ]
     },
     "execution_count": 16,
     "metadata": {},
     "output_type": "execute_result"
    }
   ],
   "source": [
    "# parse()の返り値が最新のTreeオブジェクトになっている問題に対する試み(3)\n",
    "# parse()実行直後にプロパティをコピーするしかない。\n",
    "\n",
    "from CaboCha import Tree\n",
    "class TreeObject:\n",
    "    def __init__(self, tree: Tree):\n",
    "        self._str = tree.toString(CaboCha.FORMAT_LATTICE)\n",
    "        self.sentence = tree.sentence()\n",
    "        self.chunks = [tree.chunk(i) for i in range(tree.chunk_size())]\n",
    "        self.tokens = [tree.token(i) for i in range(tree.token_size())]\n",
    "\n",
    "    def __str__(self) -> str:\n",
    "        return self._str\n",
    "\n",
    "    def __repr__(self) -> str:\n",
    "        return self._str\n",
    "\n",
    "c = CaboCha.Parser()\n",
    "\n",
    "trees = df['sentence'].map(lambda s: TreeObject(c.parse(s)))\n",
    "trees.head()"
   ]
  },
  {
   "cell_type": "code",
   "execution_count": null,
   "metadata": {},
   "outputs": [],
   "source": []
  }
 ],
 "metadata": {
  "interpreter": {
   "hash": "9829b077c52378d5e1bc55420cf8cc5a4f9f459501a552e8de61cb75f7311e5d"
  },
  "kernelspec": {
   "display_name": "Python 3.9.9 64-bit ('.venv': venv)",
   "language": "python",
   "name": "python3"
  },
  "language_info": {
   "codemirror_mode": {
    "name": "ipython",
    "version": 3
   },
   "file_extension": ".py",
   "mimetype": "text/x-python",
   "name": "python",
   "nbconvert_exporter": "python",
   "pygments_lexer": "ipython3",
   "version": "3.9.9"
  },
  "orig_nbformat": 4
 },
 "nbformat": 4,
 "nbformat_minor": 2
}
