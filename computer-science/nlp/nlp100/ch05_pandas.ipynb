{
 "cells": [
  {
   "cell_type": "code",
   "execution_count": 1,
   "metadata": {},
   "outputs": [],
   "source": [
    "import pandas as pd"
   ]
  },
  {
   "cell_type": "code",
   "execution_count": 2,
   "metadata": {},
   "outputs": [
    {
     "name": "stderr",
     "output_type": "stream",
     "text": [
      "/Users/hiroga/.ghq/github.com/xhiroga/til/computer-science/nlp/nlp100/.venv/lib/python3.9/site-packages/pandas/util/_decorators.py:311: ParserWarning: Falling back to the 'python' engine because the 'c' engine does not support regex separators (separators > 1 char and different from '\\s+' are interpreted as regex); you can avoid this warning by specifying engine='python'.\n",
      "  return func(*args, **kwargs)\n"
     ]
    }
   ],
   "source": [
    "df = pd.read_table('./data/ai.ja.txt.parsed', sep='\\t|,', header=None, usecols=[0, 1, 2, 7], names=['surface', 'pos', 'pos1', 'base'], skiprows=2)\n",
    "df_with_eos = df[(df['pos'].isna() == False) | (df['surface'] == 'EOS')] # cabochaによる形態素解析は、若干EOSの入れ方が誤っている気がするが、気にしないことにする。"
   ]
  },
  {
   "cell_type": "code",
   "execution_count": 3,
   "metadata": {},
   "outputs": [],
   "source": [
    "# 40. 係り受け解析結果の読み込み（形態素）\n",
    "class Morph:\n",
    "    def __init__(self, surface, base, pos, pos1):\n",
    "        self.surface = surface\n",
    "        self.base = base\n",
    "        self.pos = pos\n",
    "        self.pos1 = pos1\n",
    "\n",
    "    def __str__(self):\n",
    "        return 'surface[{}]\\tbase[{}]\\tpos[{}]\\tpos1[{}]'.format(self.surface, self.base, self.pos, self.pos1)"
   ]
  },
  {
   "cell_type": "code",
   "execution_count": 4,
   "metadata": {},
   "outputs": [
    {
     "name": "stderr",
     "output_type": "stream",
     "text": [
      "/var/folders/vt/s15n0wxx10zgxq87t9mrzgqh0000gp/T/ipykernel_59000/2924014788.py:5: SettingWithCopyWarning: \n",
      "A value is trying to be set on a copy of a slice from a DataFrame.\n",
      "Try using .loc[row_indexer,col_indexer] = value instead\n",
      "\n",
      "See the caveats in the documentation: https://pandas.pydata.org/pandas-docs/stable/user_guide/indexing.html#returning-a-view-versus-a-copy\n",
      "  df_with_eos['sentense_id'] = getSentenseId(df_with_eos['surface'])\n"
     ]
    }
   ],
   "source": [
    "from pandas import Series\n",
    "def getSentenseId(s: Series) -> Series:\n",
    "    return (s.shift() == 'EOS').cumsum()\n",
    "\n",
    "df_with_eos['sentense_id'] = getSentenseId(df_with_eos['surface'])"
   ]
  },
  {
   "cell_type": "code",
   "execution_count": 5,
   "metadata": {},
   "outputs": [],
   "source": [
    "morphs = df_with_eos.groupby('sentense_id').apply(lambda x: [Morph(row['surface'], row['base'], row['pos'], row['pos1']) for index, row in x.iterrows()])"
   ]
  },
  {
   "cell_type": "code",
   "execution_count": 6,
   "metadata": {},
   "outputs": [],
   "source": [
    "# 41. 係り受け解析結果の読み込み（文節・係り受け）\n",
    "class Chunk():\n",
    "    def __init__(self, morphs, dst):\n",
    "        self.morphs = morphs\n",
    "        self.dst = dst\n",
    "        self.srcs = []\n",
    "\n",
    "    def __str__(self):\n",
    "        return 'morphs[{}]\\tdst[{}]\\tsrcs[{}]'.format(self.morphs, self.dst, self.srcs)"
   ]
  },
  {
   "cell_type": "code",
   "execution_count": 13,
   "metadata": {},
   "outputs": [],
   "source": [
    "def getChunkId(s: Series) -> Series:\n",
    "    return (s.isna()).cumsum()\n",
    "\n",
    "df['sentense_id'] = getSentenseId(df['surface'])\n",
    "df['chunk_id'] = getChunkId(df['pos'])\n"
   ]
  },
  {
   "cell_type": "code",
   "execution_count": null,
   "metadata": {},
   "outputs": [],
   "source": [
    "from pandas import DataFrame\n",
    "\n",
    "def sentenseToArrayOfChunk(sentense_df: DataFrame):\n",
    "    sentense_df.groupby('chunk_id').apply(lambda chunk: Chunk(chunkToArrayOfMorph(chunk), chunk['dst']))\n",
    "\n",
    "def chunkToArrayOfMorph(chunk_df: DataFrame):\n",
    "    chunk_df.apply(lambda morph: Morph(morph['surface'], morph['base'], morph['pos'], morph['pos1']))"
   ]
  }
 ],
 "metadata": {
  "interpreter": {
   "hash": "9829b077c52378d5e1bc55420cf8cc5a4f9f459501a552e8de61cb75f7311e5d"
  },
  "kernelspec": {
   "display_name": "Python 3.9.9 64-bit ('.venv': venv)",
   "language": "python",
   "name": "python3"
  },
  "language_info": {
   "codemirror_mode": {
    "name": "ipython",
    "version": 3
   },
   "file_extension": ".py",
   "mimetype": "text/x-python",
   "name": "python",
   "nbconvert_exporter": "python",
   "pygments_lexer": "ipython3",
   "version": "3.9.9"
  },
  "orig_nbformat": 4
 },
 "nbformat": 4,
 "nbformat_minor": 2
}
