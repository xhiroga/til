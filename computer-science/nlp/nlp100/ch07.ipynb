{
 "cells": [
  {
   "cell_type": "markdown",
   "metadata": {},
   "source": [
    "## 60. 単語ベクトルの読み込みと表示"
   ]
  },
  {
   "cell_type": "code",
   "execution_count": 1,
   "metadata": {},
   "outputs": [],
   "source": [
    "from gensim.models import KeyedVectors\n",
    "\n",
    "model: KeyedVectors = KeyedVectors.load_word2vec_format('./data/GoogleNews-vectors-negative300.bin.gz', binary=True)\n",
    "# 実行に50秒弱かかる。"
   ]
  },
  {
   "cell_type": "markdown",
   "metadata": {},
   "source": [
    "## 61. 単語の類似度"
   ]
  },
  {
   "cell_type": "markdown",
   "metadata": {},
   "source": [
    "コサイン類似度について...  \n",
    "要するにコサインのことらしい。\n",
    "ベクトルの内積の求め方に2通りあることを利用すると簡単に算出できる。すなわち、`（ベクトルの要素同士をかけ合わせたものの合計）/（長さを全てかけ合わせたもの）＝コサイン`\n",
    "\n",
    "もちろん実際には、ライブラリにn次元のベクトルを渡せば計算してくれる。\n"
   ]
  },
  {
   "cell_type": "code",
   "execution_count": 2,
   "metadata": {},
   "outputs": [
    {
     "data": {
      "text/plain": [
       "0.73107743"
      ]
     },
     "execution_count": 2,
     "metadata": {},
     "output_type": "execute_result"
    }
   ],
   "source": [
    "model.similarity('United_States', \"U.S.\")\n"
   ]
  },
  {
   "cell_type": "code",
   "execution_count": 3,
   "metadata": {},
   "outputs": [
    {
     "name": "stdout",
     "output_type": "stream",
     "text": [
      "0.60190696\n",
      "0.52173746\n",
      "0.50480795\n",
      "0.055387232\n",
      "0.0290211\n",
      "0.08729957\n",
      "0.11877319\n",
      "0.13579674\n",
      "0.19138478\n",
      "0.114507645\n",
      "0.0017238103\n",
      "-0.05492107\n"
     ]
    }
   ],
   "source": [
    "print(model.similarity('United_States', \"Canada\"))\n",
    "print(model.similarity('United_States', \"Japan\"))\n",
    "print(model.similarity('United_States', \"China\"))\n",
    "print(model.similarity('United_States', \"Liberty\"))\n",
    "print(model.similarity('United_States', \"Hamburger\"))\n",
    "print(model.similarity('United_States', \"Hollywood\"))\n",
    "print(model.similarity('United_States', \"Donald_Trump\"))\n",
    "print(model.similarity('United_States', \"MLB\"))\n",
    "print(model.similarity('United_States', \"NBA\"))\n",
    "print(model.similarity('United_States', \"McDonald's\"))\n",
    "print(model.similarity('United_States', \"BBQ\"))\n",
    "print(model.similarity('United_States', \"Sushi\"))\n"
   ]
  },
  {
   "cell_type": "markdown",
   "metadata": {},
   "source": [
    "## 62. 類似度の高い単語10件"
   ]
  },
  {
   "cell_type": "code",
   "execution_count": 4,
   "metadata": {},
   "outputs": [
    {
     "data": {
      "text/plain": [
       "[('Unites_States', 0.7877248525619507),\n",
       " ('Untied_States', 0.7541370987892151),\n",
       " ('United_Sates', 0.7400724291801453),\n",
       " ('U.S.', 0.7310774326324463),\n",
       " ('theUnited_States', 0.6404393911361694),\n",
       " ('America', 0.6178410053253174),\n",
       " ('UnitedStates', 0.6167312264442444),\n",
       " ('Europe', 0.6132988929748535),\n",
       " ('countries', 0.6044804453849792),\n",
       " ('Canada', 0.601906955242157)]"
      ]
     },
     "execution_count": 4,
     "metadata": {},
     "output_type": "execute_result"
    }
   ],
   "source": [
    "model.most_similar('United_States', topn=10)\n"
   ]
  },
  {
   "cell_type": "markdown",
   "metadata": {},
   "source": [
    "## 63. 加法構成性によるアナロジー"
   ]
  },
  {
   "cell_type": "code",
   "execution_count": 5,
   "metadata": {},
   "outputs": [
    {
     "data": {
      "text/plain": [
       "[('Athens', 0.6826056838035583),\n",
       " ('Greece', 0.4856836199760437),\n",
       " ('Athens_Greece', 0.46644291281700134),\n",
       " ('Spain', 0.4448360204696655),\n",
       " ('Rome', 0.41419845819473267),\n",
       " ('Organising_Committee_ATHOC', 0.41101542115211487),\n",
       " ('prosecutor_Costas_Simitzoglou', 0.4097808599472046),\n",
       " ('bronze_medalist_Alicia_Molik', 0.3909006416797638),\n",
       " ('Greek', 0.39005470275878906),\n",
       " ('silver_medalist_Mardy_Fish', 0.38434845209121704)]"
      ]
     },
     "execution_count": 5,
     "metadata": {},
     "output_type": "execute_result"
    }
   ],
   "source": [
    "vec = model['Spain'] - model['madrid'] + model['Athens'] # スペインの首都はマドリード、ギリシャの首都はアテネ\n",
    "model.most_similar(vec, topn=10)\n"
   ]
  },
  {
   "cell_type": "markdown",
   "metadata": {},
   "source": [
    "## 64. アナロジーデータでの実験"
   ]
  },
  {
   "cell_type": "code",
   "execution_count": 4,
   "metadata": {},
   "outputs": [],
   "source": [
    "import pandas as pd\n",
    "df = pd.read_csv('./data/questions-words.txt', sep=' ', header=None, names=['vec1', 'vec2', 'vec3', 'vec4'], skiprows=1)\n"
   ]
  },
  {
   "cell_type": "code",
   "execution_count": 7,
   "metadata": {},
   "outputs": [],
   "source": [
    "df = df[df['vec1'].str.startswith(':') == False]"
   ]
  },
  {
   "cell_type": "code",
   "execution_count": 8,
   "metadata": {},
   "outputs": [],
   "source": [
    "from typing import Tuple\n",
    "\n",
    "def get_most_similar_word_and_similarity(word: str) -> Tuple[str, float]:\n",
    "    return model.most_similar(word, topn=1)\n"
   ]
  },
  {
   "cell_type": "code",
   "execution_count": 9,
   "metadata": {},
   "outputs": [],
   "source": [
    "vec1: pd.Series = df[0:10]['vec1']\n",
    "df_most_similar_word_and_similarity = vec1.map(get_most_similar_word_and_similarity) # WIP: 本当は2列にしたかった\n"
   ]
  },
  {
   "cell_type": "markdown",
   "metadata": {},
   "source": [
    "## 65. アナロジータスクでの正解率"
   ]
  },
  {
   "cell_type": "code",
   "execution_count": 10,
   "metadata": {},
   "outputs": [],
   "source": [
    "semantic = df[df.index <= 8872] # 手抜き\n",
    "syntactic = df[df.index > 8872]\n"
   ]
  },
  {
   "cell_type": "markdown",
   "metadata": {},
   "source": [
    "## 66. WordSimilarity-353での評価"
   ]
  },
  {
   "cell_type": "code",
   "execution_count": 11,
   "metadata": {},
   "outputs": [],
   "source": [
    "word_sim_df = pd.read_csv('./data/wordsim353/set1.csv', sep=',')\n"
   ]
  },
  {
   "cell_type": "code",
   "execution_count": 12,
   "metadata": {},
   "outputs": [],
   "source": [
    "def get_similarity(row):\n",
    "    # print(row['Word 1'], row['Word 2'])\n",
    "    return model.similarity(row['Word 1'], row['Word 2'])\n"
   ]
  },
  {
   "cell_type": "code",
   "execution_count": 13,
   "metadata": {},
   "outputs": [
    {
     "data": {
      "text/html": [
       "<div>\n",
       "<style scoped>\n",
       "    .dataframe tbody tr th:only-of-type {\n",
       "        vertical-align: middle;\n",
       "    }\n",
       "\n",
       "    .dataframe tbody tr th {\n",
       "        vertical-align: top;\n",
       "    }\n",
       "\n",
       "    .dataframe thead th {\n",
       "        text-align: right;\n",
       "    }\n",
       "</style>\n",
       "<table border=\"1\" class=\"dataframe\">\n",
       "  <thead>\n",
       "    <tr style=\"text-align: right;\">\n",
       "      <th></th>\n",
       "      <th>Word 1</th>\n",
       "      <th>Word 2</th>\n",
       "      <th>Human (mean)</th>\n",
       "      <th>1</th>\n",
       "      <th>2</th>\n",
       "      <th>3</th>\n",
       "      <th>4</th>\n",
       "      <th>5</th>\n",
       "      <th>6</th>\n",
       "      <th>7</th>\n",
       "      <th>8</th>\n",
       "      <th>9</th>\n",
       "      <th>10</th>\n",
       "      <th>11</th>\n",
       "      <th>12</th>\n",
       "      <th>13</th>\n",
       "      <th>Machine</th>\n",
       "    </tr>\n",
       "  </thead>\n",
       "  <tbody>\n",
       "    <tr>\n",
       "      <th>0</th>\n",
       "      <td>love</td>\n",
       "      <td>sex</td>\n",
       "      <td>6.77</td>\n",
       "      <td>9.0</td>\n",
       "      <td>6.0</td>\n",
       "      <td>8.0</td>\n",
       "      <td>8</td>\n",
       "      <td>7</td>\n",
       "      <td>8</td>\n",
       "      <td>8.0</td>\n",
       "      <td>4</td>\n",
       "      <td>7.0</td>\n",
       "      <td>2</td>\n",
       "      <td>6.0</td>\n",
       "      <td>7</td>\n",
       "      <td>8</td>\n",
       "      <td>0.263938</td>\n",
       "    </tr>\n",
       "    <tr>\n",
       "      <th>1</th>\n",
       "      <td>tiger</td>\n",
       "      <td>cat</td>\n",
       "      <td>7.35</td>\n",
       "      <td>9.0</td>\n",
       "      <td>7.0</td>\n",
       "      <td>8.0</td>\n",
       "      <td>7</td>\n",
       "      <td>8</td>\n",
       "      <td>9</td>\n",
       "      <td>8.5</td>\n",
       "      <td>5</td>\n",
       "      <td>6.0</td>\n",
       "      <td>9</td>\n",
       "      <td>7.0</td>\n",
       "      <td>5</td>\n",
       "      <td>7</td>\n",
       "      <td>0.517296</td>\n",
       "    </tr>\n",
       "    <tr>\n",
       "      <th>2</th>\n",
       "      <td>tiger</td>\n",
       "      <td>tiger</td>\n",
       "      <td>10.00</td>\n",
       "      <td>10.0</td>\n",
       "      <td>10.0</td>\n",
       "      <td>10.0</td>\n",
       "      <td>10</td>\n",
       "      <td>10</td>\n",
       "      <td>10</td>\n",
       "      <td>10.0</td>\n",
       "      <td>10</td>\n",
       "      <td>10.0</td>\n",
       "      <td>10</td>\n",
       "      <td>10.0</td>\n",
       "      <td>10</td>\n",
       "      <td>10</td>\n",
       "      <td>1.000000</td>\n",
       "    </tr>\n",
       "    <tr>\n",
       "      <th>3</th>\n",
       "      <td>book</td>\n",
       "      <td>paper</td>\n",
       "      <td>7.46</td>\n",
       "      <td>8.0</td>\n",
       "      <td>8.0</td>\n",
       "      <td>7.0</td>\n",
       "      <td>7</td>\n",
       "      <td>8</td>\n",
       "      <td>9</td>\n",
       "      <td>7.0</td>\n",
       "      <td>6</td>\n",
       "      <td>7.0</td>\n",
       "      <td>8</td>\n",
       "      <td>9.0</td>\n",
       "      <td>4</td>\n",
       "      <td>9</td>\n",
       "      <td>0.363463</td>\n",
       "    </tr>\n",
       "    <tr>\n",
       "      <th>4</th>\n",
       "      <td>computer</td>\n",
       "      <td>keyboard</td>\n",
       "      <td>7.62</td>\n",
       "      <td>8.0</td>\n",
       "      <td>7.0</td>\n",
       "      <td>9.0</td>\n",
       "      <td>9</td>\n",
       "      <td>8</td>\n",
       "      <td>8</td>\n",
       "      <td>7.0</td>\n",
       "      <td>7</td>\n",
       "      <td>6.0</td>\n",
       "      <td>8</td>\n",
       "      <td>10.0</td>\n",
       "      <td>3</td>\n",
       "      <td>9</td>\n",
       "      <td>0.396392</td>\n",
       "    </tr>\n",
       "  </tbody>\n",
       "</table>\n",
       "</div>"
      ],
      "text/plain": [
       "     Word 1    Word 2  Human (mean)     1     2     3   4   5   6     7   8  \\\n",
       "0      love       sex          6.77   9.0   6.0   8.0   8   7   8   8.0   4   \n",
       "1     tiger       cat          7.35   9.0   7.0   8.0   7   8   9   8.5   5   \n",
       "2     tiger     tiger         10.00  10.0  10.0  10.0  10  10  10  10.0  10   \n",
       "3      book     paper          7.46   8.0   8.0   7.0   7   8   9   7.0   6   \n",
       "4  computer  keyboard          7.62   8.0   7.0   9.0   9   8   8   7.0   7   \n",
       "\n",
       "      9  10    11  12  13   Machine  \n",
       "0   7.0   2   6.0   7   8  0.263938  \n",
       "1   6.0   9   7.0   5   7  0.517296  \n",
       "2  10.0  10  10.0  10  10  1.000000  \n",
       "3   7.0   8   9.0   4   9  0.363463  \n",
       "4   6.0   8  10.0   3   9  0.396392  "
      ]
     },
     "execution_count": 13,
     "metadata": {},
     "output_type": "execute_result"
    }
   ],
   "source": [
    "word_sim_df['Machine'] = word_sim_df[['Word 1', 'Word 2',]].apply(lambda row: get_similarity(row), axis=1)\n",
    "word_sim_df.head()"
   ]
  },
  {
   "cell_type": "code",
   "execution_count": 14,
   "metadata": {},
   "outputs": [
    {
     "data": {
      "text/html": [
       "<div>\n",
       "<style scoped>\n",
       "    .dataframe tbody tr th:only-of-type {\n",
       "        vertical-align: middle;\n",
       "    }\n",
       "\n",
       "    .dataframe tbody tr th {\n",
       "        vertical-align: top;\n",
       "    }\n",
       "\n",
       "    .dataframe thead th {\n",
       "        text-align: right;\n",
       "    }\n",
       "</style>\n",
       "<table border=\"1\" class=\"dataframe\">\n",
       "  <thead>\n",
       "    <tr style=\"text-align: right;\">\n",
       "      <th></th>\n",
       "      <th>Human (mean)</th>\n",
       "      <th>Machine</th>\n",
       "    </tr>\n",
       "  </thead>\n",
       "  <tbody>\n",
       "    <tr>\n",
       "      <th>Human (mean)</th>\n",
       "      <td>1.000000</td>\n",
       "      <td>0.665139</td>\n",
       "    </tr>\n",
       "    <tr>\n",
       "      <th>Machine</th>\n",
       "      <td>0.665139</td>\n",
       "      <td>1.000000</td>\n",
       "    </tr>\n",
       "  </tbody>\n",
       "</table>\n",
       "</div>"
      ],
      "text/plain": [
       "              Human (mean)   Machine\n",
       "Human (mean)      1.000000  0.665139\n",
       "Machine           0.665139  1.000000"
      ]
     },
     "execution_count": 14,
     "metadata": {},
     "output_type": "execute_result"
    }
   ],
   "source": [
    "word_sim_df[['Human (mean)', 'Machine']].corr(method='spearman')"
   ]
  },
  {
   "cell_type": "markdown",
   "metadata": {},
   "source": [
    "## 67. k-meansクラスタリング"
   ]
  },
  {
   "cell_type": "code",
   "execution_count": 2,
   "metadata": {},
   "outputs": [
    {
     "data": {
      "text/html": [
       "<div>\n",
       "<style scoped>\n",
       "    .dataframe tbody tr th:only-of-type {\n",
       "        vertical-align: middle;\n",
       "    }\n",
       "\n",
       "    .dataframe tbody tr th {\n",
       "        vertical-align: top;\n",
       "    }\n",
       "\n",
       "    .dataframe thead th {\n",
       "        text-align: right;\n",
       "    }\n",
       "</style>\n",
       "<table border=\"1\" class=\"dataframe\">\n",
       "  <thead>\n",
       "    <tr style=\"text-align: right;\">\n",
       "      <th></th>\n",
       "      <th>pop_est</th>\n",
       "      <th>continent</th>\n",
       "      <th>name</th>\n",
       "      <th>iso_a3</th>\n",
       "      <th>gdp_md_est</th>\n",
       "      <th>geometry</th>\n",
       "    </tr>\n",
       "  </thead>\n",
       "  <tbody>\n",
       "    <tr>\n",
       "      <th>0</th>\n",
       "      <td>889953.0</td>\n",
       "      <td>Oceania</td>\n",
       "      <td>Fiji</td>\n",
       "      <td>FJI</td>\n",
       "      <td>5496</td>\n",
       "      <td>MULTIPOLYGON (((180.00000 -16.06713, 180.00000...</td>\n",
       "    </tr>\n",
       "    <tr>\n",
       "      <th>1</th>\n",
       "      <td>58005463.0</td>\n",
       "      <td>Africa</td>\n",
       "      <td>Tanzania</td>\n",
       "      <td>TZA</td>\n",
       "      <td>63177</td>\n",
       "      <td>POLYGON ((33.90371 -0.95000, 34.07262 -1.05982...</td>\n",
       "    </tr>\n",
       "    <tr>\n",
       "      <th>2</th>\n",
       "      <td>603253.0</td>\n",
       "      <td>Africa</td>\n",
       "      <td>W. Sahara</td>\n",
       "      <td>ESH</td>\n",
       "      <td>907</td>\n",
       "      <td>POLYGON ((-8.66559 27.65643, -8.66512 27.58948...</td>\n",
       "    </tr>\n",
       "    <tr>\n",
       "      <th>3</th>\n",
       "      <td>37589262.0</td>\n",
       "      <td>North America</td>\n",
       "      <td>Canada</td>\n",
       "      <td>CAN</td>\n",
       "      <td>1736425</td>\n",
       "      <td>MULTIPOLYGON (((-122.84000 49.00000, -122.9742...</td>\n",
       "    </tr>\n",
       "    <tr>\n",
       "      <th>4</th>\n",
       "      <td>328239523.0</td>\n",
       "      <td>North America</td>\n",
       "      <td>United States of America</td>\n",
       "      <td>USA</td>\n",
       "      <td>21433226</td>\n",
       "      <td>MULTIPOLYGON (((-122.84000 49.00000, -120.0000...</td>\n",
       "    </tr>\n",
       "    <tr>\n",
       "      <th>...</th>\n",
       "      <td>...</td>\n",
       "      <td>...</td>\n",
       "      <td>...</td>\n",
       "      <td>...</td>\n",
       "      <td>...</td>\n",
       "      <td>...</td>\n",
       "    </tr>\n",
       "    <tr>\n",
       "      <th>172</th>\n",
       "      <td>6944975.0</td>\n",
       "      <td>Europe</td>\n",
       "      <td>Serbia</td>\n",
       "      <td>SRB</td>\n",
       "      <td>51475</td>\n",
       "      <td>POLYGON ((18.82982 45.90887, 18.82984 45.90888...</td>\n",
       "    </tr>\n",
       "    <tr>\n",
       "      <th>173</th>\n",
       "      <td>622137.0</td>\n",
       "      <td>Europe</td>\n",
       "      <td>Montenegro</td>\n",
       "      <td>MNE</td>\n",
       "      <td>5542</td>\n",
       "      <td>POLYGON ((20.07070 42.58863, 19.80161 42.50009...</td>\n",
       "    </tr>\n",
       "    <tr>\n",
       "      <th>174</th>\n",
       "      <td>1794248.0</td>\n",
       "      <td>Europe</td>\n",
       "      <td>Kosovo</td>\n",
       "      <td>KOS</td>\n",
       "      <td>7926</td>\n",
       "      <td>POLYGON ((20.59025 41.85541, 20.52295 42.21787...</td>\n",
       "    </tr>\n",
       "    <tr>\n",
       "      <th>175</th>\n",
       "      <td>1394973.0</td>\n",
       "      <td>North America</td>\n",
       "      <td>Trinidad and Tobago</td>\n",
       "      <td>TTO</td>\n",
       "      <td>24269</td>\n",
       "      <td>POLYGON ((-61.68000 10.76000, -61.10500 10.890...</td>\n",
       "    </tr>\n",
       "    <tr>\n",
       "      <th>176</th>\n",
       "      <td>11062113.0</td>\n",
       "      <td>Africa</td>\n",
       "      <td>S. Sudan</td>\n",
       "      <td>SSD</td>\n",
       "      <td>11998</td>\n",
       "      <td>POLYGON ((30.83385 3.50917, 29.95350 4.17370, ...</td>\n",
       "    </tr>\n",
       "  </tbody>\n",
       "</table>\n",
       "<p>177 rows × 6 columns</p>\n",
       "</div>"
      ],
      "text/plain": [
       "         pop_est      continent                      name iso_a3  gdp_md_est  \\\n",
       "0       889953.0        Oceania                      Fiji    FJI        5496   \n",
       "1     58005463.0         Africa                  Tanzania    TZA       63177   \n",
       "2       603253.0         Africa                 W. Sahara    ESH         907   \n",
       "3     37589262.0  North America                    Canada    CAN     1736425   \n",
       "4    328239523.0  North America  United States of America    USA    21433226   \n",
       "..           ...            ...                       ...    ...         ...   \n",
       "172    6944975.0         Europe                    Serbia    SRB       51475   \n",
       "173     622137.0         Europe                Montenegro    MNE        5542   \n",
       "174    1794248.0         Europe                    Kosovo    KOS        7926   \n",
       "175    1394973.0  North America       Trinidad and Tobago    TTO       24269   \n",
       "176   11062113.0         Africa                  S. Sudan    SSD       11998   \n",
       "\n",
       "                                              geometry  \n",
       "0    MULTIPOLYGON (((180.00000 -16.06713, 180.00000...  \n",
       "1    POLYGON ((33.90371 -0.95000, 34.07262 -1.05982...  \n",
       "2    POLYGON ((-8.66559 27.65643, -8.66512 27.58948...  \n",
       "3    MULTIPOLYGON (((-122.84000 49.00000, -122.9742...  \n",
       "4    MULTIPOLYGON (((-122.84000 49.00000, -120.0000...  \n",
       "..                                                 ...  \n",
       "172  POLYGON ((18.82982 45.90887, 18.82984 45.90888...  \n",
       "173  POLYGON ((20.07070 42.58863, 19.80161 42.50009...  \n",
       "174  POLYGON ((20.59025 41.85541, 20.52295 42.21787...  \n",
       "175  POLYGON ((-61.68000 10.76000, -61.10500 10.890...  \n",
       "176  POLYGON ((30.83385 3.50917, 29.95350 4.17370, ...  \n",
       "\n",
       "[177 rows x 6 columns]"
      ]
     },
     "execution_count": 2,
     "metadata": {},
     "output_type": "execute_result"
    }
   ],
   "source": [
    "import geopandas\n",
    "world_raw = geopandas.read_file(geopandas.datasets.get_path('naturalearth_lowres'))\n",
    "world_raw"
   ]
  },
  {
   "cell_type": "code",
   "execution_count": 4,
   "metadata": {},
   "outputs": [
    {
     "data": {
      "text/html": [
       "<div>\n",
       "<style scoped>\n",
       "    .dataframe tbody tr th:only-of-type {\n",
       "        vertical-align: middle;\n",
       "    }\n",
       "\n",
       "    .dataframe tbody tr th {\n",
       "        vertical-align: top;\n",
       "    }\n",
       "\n",
       "    .dataframe thead th {\n",
       "        text-align: right;\n",
       "    }\n",
       "</style>\n",
       "<table border=\"1\" class=\"dataframe\">\n",
       "  <thead>\n",
       "    <tr style=\"text-align: right;\">\n",
       "      <th></th>\n",
       "      <th>pop_est</th>\n",
       "      <th>continent</th>\n",
       "      <th>name</th>\n",
       "      <th>iso_a3</th>\n",
       "      <th>gdp_md_est</th>\n",
       "      <th>geometry</th>\n",
       "    </tr>\n",
       "  </thead>\n",
       "  <tbody>\n",
       "    <tr>\n",
       "      <th>0</th>\n",
       "      <td>889953.0</td>\n",
       "      <td>Oceania</td>\n",
       "      <td>Fiji</td>\n",
       "      <td>FJI</td>\n",
       "      <td>5496</td>\n",
       "      <td>MULTIPOLYGON (((180.00000 -16.06713, 180.00000...</td>\n",
       "    </tr>\n",
       "    <tr>\n",
       "      <th>1</th>\n",
       "      <td>58005463.0</td>\n",
       "      <td>Africa</td>\n",
       "      <td>Tanzania</td>\n",
       "      <td>TZA</td>\n",
       "      <td>63177</td>\n",
       "      <td>POLYGON ((33.90371 -0.95000, 34.07262 -1.05982...</td>\n",
       "    </tr>\n",
       "    <tr>\n",
       "      <th>3</th>\n",
       "      <td>37589262.0</td>\n",
       "      <td>North America</td>\n",
       "      <td>Canada</td>\n",
       "      <td>CAN</td>\n",
       "      <td>1736425</td>\n",
       "      <td>MULTIPOLYGON (((-122.84000 49.00000, -122.9742...</td>\n",
       "    </tr>\n",
       "    <tr>\n",
       "      <th>5</th>\n",
       "      <td>18513930.0</td>\n",
       "      <td>Asia</td>\n",
       "      <td>Kazakhstan</td>\n",
       "      <td>KAZ</td>\n",
       "      <td>181665</td>\n",
       "      <td>POLYGON ((87.35997 49.21498, 86.59878 48.54918...</td>\n",
       "    </tr>\n",
       "    <tr>\n",
       "      <th>6</th>\n",
       "      <td>33580650.0</td>\n",
       "      <td>Asia</td>\n",
       "      <td>Uzbekistan</td>\n",
       "      <td>UZB</td>\n",
       "      <td>57921</td>\n",
       "      <td>POLYGON ((55.96819 41.30864, 55.92892 44.99586...</td>\n",
       "    </tr>\n",
       "    <tr>\n",
       "      <th>...</th>\n",
       "      <td>...</td>\n",
       "      <td>...</td>\n",
       "      <td>...</td>\n",
       "      <td>...</td>\n",
       "      <td>...</td>\n",
       "      <td>...</td>\n",
       "    </tr>\n",
       "    <tr>\n",
       "      <th>168</th>\n",
       "      <td>44269594.0</td>\n",
       "      <td>Africa</td>\n",
       "      <td>Uganda</td>\n",
       "      <td>UGA</td>\n",
       "      <td>35165</td>\n",
       "      <td>POLYGON ((33.90371 -0.95000, 31.86617 -1.02736...</td>\n",
       "    </tr>\n",
       "    <tr>\n",
       "      <th>169</th>\n",
       "      <td>12626950.0</td>\n",
       "      <td>Africa</td>\n",
       "      <td>Rwanda</td>\n",
       "      <td>RWA</td>\n",
       "      <td>10354</td>\n",
       "      <td>POLYGON ((30.41910 -1.13466, 30.81613 -1.69891...</td>\n",
       "    </tr>\n",
       "    <tr>\n",
       "      <th>172</th>\n",
       "      <td>6944975.0</td>\n",
       "      <td>Europe</td>\n",
       "      <td>Serbia</td>\n",
       "      <td>SRB</td>\n",
       "      <td>51475</td>\n",
       "      <td>POLYGON ((18.82982 45.90887, 18.82984 45.90888...</td>\n",
       "    </tr>\n",
       "    <tr>\n",
       "      <th>173</th>\n",
       "      <td>622137.0</td>\n",
       "      <td>Europe</td>\n",
       "      <td>Montenegro</td>\n",
       "      <td>MNE</td>\n",
       "      <td>5542</td>\n",
       "      <td>POLYGON ((20.07070 42.58863, 19.80161 42.50009...</td>\n",
       "    </tr>\n",
       "    <tr>\n",
       "      <th>174</th>\n",
       "      <td>1794248.0</td>\n",
       "      <td>Europe</td>\n",
       "      <td>Kosovo</td>\n",
       "      <td>KOS</td>\n",
       "      <td>7926</td>\n",
       "      <td>POLYGON ((20.59025 41.85541, 20.52295 42.21787...</td>\n",
       "    </tr>\n",
       "  </tbody>\n",
       "</table>\n",
       "<p>144 rows × 6 columns</p>\n",
       "</div>"
      ],
      "text/plain": [
       "        pop_est      continent        name iso_a3  gdp_md_est  \\\n",
       "0      889953.0        Oceania        Fiji    FJI        5496   \n",
       "1    58005463.0         Africa    Tanzania    TZA       63177   \n",
       "3    37589262.0  North America      Canada    CAN     1736425   \n",
       "5    18513930.0           Asia  Kazakhstan    KAZ      181665   \n",
       "6    33580650.0           Asia  Uzbekistan    UZB       57921   \n",
       "..          ...            ...         ...    ...         ...   \n",
       "168  44269594.0         Africa      Uganda    UGA       35165   \n",
       "169  12626950.0         Africa      Rwanda    RWA       10354   \n",
       "172   6944975.0         Europe      Serbia    SRB       51475   \n",
       "173    622137.0         Europe  Montenegro    MNE        5542   \n",
       "174   1794248.0         Europe      Kosovo    KOS        7926   \n",
       "\n",
       "                                              geometry  \n",
       "0    MULTIPOLYGON (((180.00000 -16.06713, 180.00000...  \n",
       "1    POLYGON ((33.90371 -0.95000, 34.07262 -1.05982...  \n",
       "3    MULTIPOLYGON (((-122.84000 49.00000, -122.9742...  \n",
       "5    POLYGON ((87.35997 49.21498, 86.59878 48.54918...  \n",
       "6    POLYGON ((55.96819 41.30864, 55.92892 44.99586...  \n",
       "..                                                 ...  \n",
       "168  POLYGON ((33.90371 -0.95000, 31.86617 -1.02736...  \n",
       "169  POLYGON ((30.41910 -1.13466, 30.81613 -1.69891...  \n",
       "172  POLYGON ((18.82982 45.90887, 18.82984 45.90888...  \n",
       "173  POLYGON ((20.07070 42.58863, 19.80161 42.50009...  \n",
       "174  POLYGON ((20.59025 41.85541, 20.52295 42.21787...  \n",
       "\n",
       "[144 rows x 6 columns]"
      ]
     },
     "execution_count": 4,
     "metadata": {},
     "output_type": "execute_result"
    }
   ],
   "source": [
    "world = world_raw[world_raw['name'].isin(model.index_to_key)]\n",
    "world"
   ]
  },
  {
   "cell_type": "code",
   "execution_count": 5,
   "metadata": {},
   "outputs": [
    {
     "name": "stderr",
     "output_type": "stream",
     "text": [
      "/Users/hiroga/.ghq/github.com/xhiroga/til/computer-science/nlp/nlp100/.venv/lib/python3.9/site-packages/geopandas/geodataframe.py:1456: SettingWithCopyWarning: \n",
      "A value is trying to be set on a copy of a slice from a DataFrame.\n",
      "Try using .loc[row_indexer,col_indexer] = value instead\n",
      "\n",
      "See the caveats in the documentation: https://pandas.pydata.org/pandas-docs/stable/user_guide/indexing.html#returning-a-view-versus-a-copy\n",
      "  super().__setitem__(key, value)\n"
     ]
    },
    {
     "data": {
      "text/html": [
       "<div>\n",
       "<style scoped>\n",
       "    .dataframe tbody tr th:only-of-type {\n",
       "        vertical-align: middle;\n",
       "    }\n",
       "\n",
       "    .dataframe tbody tr th {\n",
       "        vertical-align: top;\n",
       "    }\n",
       "\n",
       "    .dataframe thead th {\n",
       "        text-align: right;\n",
       "    }\n",
       "</style>\n",
       "<table border=\"1\" class=\"dataframe\">\n",
       "  <thead>\n",
       "    <tr style=\"text-align: right;\">\n",
       "      <th></th>\n",
       "      <th>pop_est</th>\n",
       "      <th>continent</th>\n",
       "      <th>name</th>\n",
       "      <th>iso_a3</th>\n",
       "      <th>gdp_md_est</th>\n",
       "      <th>geometry</th>\n",
       "      <th>vector</th>\n",
       "    </tr>\n",
       "  </thead>\n",
       "  <tbody>\n",
       "    <tr>\n",
       "      <th>0</th>\n",
       "      <td>889953.0</td>\n",
       "      <td>Oceania</td>\n",
       "      <td>Fiji</td>\n",
       "      <td>FJI</td>\n",
       "      <td>5496</td>\n",
       "      <td>MULTIPOLYGON (((180.00000 -16.06713, 180.00000...</td>\n",
       "      <td>[-0.04638672, -0.3125, 0.09423828, -0.3984375,...</td>\n",
       "    </tr>\n",
       "    <tr>\n",
       "      <th>1</th>\n",
       "      <td>58005463.0</td>\n",
       "      <td>Africa</td>\n",
       "      <td>Tanzania</td>\n",
       "      <td>TZA</td>\n",
       "      <td>63177</td>\n",
       "      <td>POLYGON ((33.90371 -0.95000, 34.07262 -1.05982...</td>\n",
       "      <td>[0.0390625, 0.12109375, -0.072265625, 0.100097...</td>\n",
       "    </tr>\n",
       "    <tr>\n",
       "      <th>3</th>\n",
       "      <td>37589262.0</td>\n",
       "      <td>North America</td>\n",
       "      <td>Canada</td>\n",
       "      <td>CAN</td>\n",
       "      <td>1736425</td>\n",
       "      <td>MULTIPOLYGON (((-122.84000 49.00000, -122.9742...</td>\n",
       "      <td>[-0.13671875, -0.15429688, 0.26953125, 0.27343...</td>\n",
       "    </tr>\n",
       "    <tr>\n",
       "      <th>5</th>\n",
       "      <td>18513930.0</td>\n",
       "      <td>Asia</td>\n",
       "      <td>Kazakhstan</td>\n",
       "      <td>KAZ</td>\n",
       "      <td>181665</td>\n",
       "      <td>POLYGON ((87.35997 49.21498, 86.59878 48.54918...</td>\n",
       "      <td>[-0.27148438, -0.07128906, 0.018066406, 0.0427...</td>\n",
       "    </tr>\n",
       "    <tr>\n",
       "      <th>6</th>\n",
       "      <td>33580650.0</td>\n",
       "      <td>Asia</td>\n",
       "      <td>Uzbekistan</td>\n",
       "      <td>UZB</td>\n",
       "      <td>57921</td>\n",
       "      <td>POLYGON ((55.96819 41.30864, 55.92892 44.99586...</td>\n",
       "      <td>[-0.07421875, -0.08251953, 0.29492188, 0.08544...</td>\n",
       "    </tr>\n",
       "    <tr>\n",
       "      <th>...</th>\n",
       "      <td>...</td>\n",
       "      <td>...</td>\n",
       "      <td>...</td>\n",
       "      <td>...</td>\n",
       "      <td>...</td>\n",
       "      <td>...</td>\n",
       "      <td>...</td>\n",
       "    </tr>\n",
       "    <tr>\n",
       "      <th>168</th>\n",
       "      <td>44269594.0</td>\n",
       "      <td>Africa</td>\n",
       "      <td>Uganda</td>\n",
       "      <td>UGA</td>\n",
       "      <td>35165</td>\n",
       "      <td>POLYGON ((33.90371 -0.95000, 31.86617 -1.02736...</td>\n",
       "      <td>[0.16699219, 0.13378906, -0.001335144, 0.05786...</td>\n",
       "    </tr>\n",
       "    <tr>\n",
       "      <th>169</th>\n",
       "      <td>12626950.0</td>\n",
       "      <td>Africa</td>\n",
       "      <td>Rwanda</td>\n",
       "      <td>RWA</td>\n",
       "      <td>10354</td>\n",
       "      <td>POLYGON ((30.41910 -1.13466, 30.81613 -1.69891...</td>\n",
       "      <td>[0.024536133, 0.17871094, 0.19824219, -0.00109...</td>\n",
       "    </tr>\n",
       "    <tr>\n",
       "      <th>172</th>\n",
       "      <td>6944975.0</td>\n",
       "      <td>Europe</td>\n",
       "      <td>Serbia</td>\n",
       "      <td>SRB</td>\n",
       "      <td>51475</td>\n",
       "      <td>POLYGON ((18.82982 45.90887, 18.82984 45.90888...</td>\n",
       "      <td>[0.118652344, -0.06347656, 0.28125, -0.0116577...</td>\n",
       "    </tr>\n",
       "    <tr>\n",
       "      <th>173</th>\n",
       "      <td>622137.0</td>\n",
       "      <td>Europe</td>\n",
       "      <td>Montenegro</td>\n",
       "      <td>MNE</td>\n",
       "      <td>5542</td>\n",
       "      <td>POLYGON ((20.07070 42.58863, 19.80161 42.50009...</td>\n",
       "      <td>[0.07519531, -0.20996094, 0.17871094, -0.05249...</td>\n",
       "    </tr>\n",
       "    <tr>\n",
       "      <th>174</th>\n",
       "      <td>1794248.0</td>\n",
       "      <td>Europe</td>\n",
       "      <td>Kosovo</td>\n",
       "      <td>KOS</td>\n",
       "      <td>7926</td>\n",
       "      <td>POLYGON ((20.59025 41.85541, 20.52295 42.21787...</td>\n",
       "      <td>[0.1875, -0.20507812, 0.056396484, 0.2734375, ...</td>\n",
       "    </tr>\n",
       "  </tbody>\n",
       "</table>\n",
       "<p>144 rows × 7 columns</p>\n",
       "</div>"
      ],
      "text/plain": [
       "        pop_est      continent        name iso_a3  gdp_md_est  \\\n",
       "0      889953.0        Oceania        Fiji    FJI        5496   \n",
       "1    58005463.0         Africa    Tanzania    TZA       63177   \n",
       "3    37589262.0  North America      Canada    CAN     1736425   \n",
       "5    18513930.0           Asia  Kazakhstan    KAZ      181665   \n",
       "6    33580650.0           Asia  Uzbekistan    UZB       57921   \n",
       "..          ...            ...         ...    ...         ...   \n",
       "168  44269594.0         Africa      Uganda    UGA       35165   \n",
       "169  12626950.0         Africa      Rwanda    RWA       10354   \n",
       "172   6944975.0         Europe      Serbia    SRB       51475   \n",
       "173    622137.0         Europe  Montenegro    MNE        5542   \n",
       "174   1794248.0         Europe      Kosovo    KOS        7926   \n",
       "\n",
       "                                              geometry  \\\n",
       "0    MULTIPOLYGON (((180.00000 -16.06713, 180.00000...   \n",
       "1    POLYGON ((33.90371 -0.95000, 34.07262 -1.05982...   \n",
       "3    MULTIPOLYGON (((-122.84000 49.00000, -122.9742...   \n",
       "5    POLYGON ((87.35997 49.21498, 86.59878 48.54918...   \n",
       "6    POLYGON ((55.96819 41.30864, 55.92892 44.99586...   \n",
       "..                                                 ...   \n",
       "168  POLYGON ((33.90371 -0.95000, 31.86617 -1.02736...   \n",
       "169  POLYGON ((30.41910 -1.13466, 30.81613 -1.69891...   \n",
       "172  POLYGON ((18.82982 45.90887, 18.82984 45.90888...   \n",
       "173  POLYGON ((20.07070 42.58863, 19.80161 42.50009...   \n",
       "174  POLYGON ((20.59025 41.85541, 20.52295 42.21787...   \n",
       "\n",
       "                                                vector  \n",
       "0    [-0.04638672, -0.3125, 0.09423828, -0.3984375,...  \n",
       "1    [0.0390625, 0.12109375, -0.072265625, 0.100097...  \n",
       "3    [-0.13671875, -0.15429688, 0.26953125, 0.27343...  \n",
       "5    [-0.27148438, -0.07128906, 0.018066406, 0.0427...  \n",
       "6    [-0.07421875, -0.08251953, 0.29492188, 0.08544...  \n",
       "..                                                 ...  \n",
       "168  [0.16699219, 0.13378906, -0.001335144, 0.05786...  \n",
       "169  [0.024536133, 0.17871094, 0.19824219, -0.00109...  \n",
       "172  [0.118652344, -0.06347656, 0.28125, -0.0116577...  \n",
       "173  [0.07519531, -0.20996094, 0.17871094, -0.05249...  \n",
       "174  [0.1875, -0.20507812, 0.056396484, 0.2734375, ...  \n",
       "\n",
       "[144 rows x 7 columns]"
      ]
     },
     "execution_count": 5,
     "metadata": {},
     "output_type": "execute_result"
    }
   ],
   "source": [
    "world['vector'] = world.apply(lambda row: model[row['name']], axis=1)\n",
    "world.to_pickle('data/dst/world_obj.zip')\n",
    "world"
   ]
  },
  {
   "cell_type": "code",
   "execution_count": 7,
   "metadata": {},
   "outputs": [
    {
     "name": "stderr",
     "output_type": "stream",
     "text": [
      "/Users/hiroga/.ghq/github.com/xhiroga/til/computer-science/nlp/nlp100/.venv/lib/python3.9/site-packages/geopandas/geodataframe.py:1456: SettingWithCopyWarning: \n",
      "A value is trying to be set on a copy of a slice from a DataFrame.\n",
      "Try using .loc[row_indexer,col_indexer] = value instead\n",
      "\n",
      "See the caveats in the documentation: https://pandas.pydata.org/pandas-docs/stable/user_guide/indexing.html#returning-a-view-versus-a-copy\n",
      "  super().__setitem__(key, value)\n"
     ]
    },
    {
     "data": {
      "text/plain": [
       "<AxesSubplot:>"
      ]
     },
     "execution_count": 7,
     "metadata": {},
     "output_type": "execute_result"
    },
    {
     "data": {
      "image/png": "[encoded data removed]",
      "text/plain": [
       "<Figure size 432x288 with 1 Axes>"
      ]
     },
     "metadata": {
      "needs_background": "light"
     },
     "output_type": "display_data"
    }
   ],
   "source": [
    "from sklearn import cluster\n",
    "\n",
    "NUM_CLUSTERS=5\n",
    "kmeans = cluster.KMeans(n_clusters=NUM_CLUSTERS)\n",
    "kmeans.fit(world['vector'].to_list())\n",
    "world['label'] = kmeans.labels_\n",
    "world.plot(column='label', categorical=True, legend=True, legend_kwds={'loc': 'center left'})\n"
   ]
  },
  {
   "cell_type": "markdown",
   "metadata": {},
   "source": [
    "## 67. k-meansクラスタリング（別解）"
   ]
  },
  {
   "cell_type": "code",
   "execution_count": 19,
   "metadata": {},
   "outputs": [
    {
     "data": {
      "text/html": [
       "<div>\n",
       "<style scoped>\n",
       "    .dataframe tbody tr th:only-of-type {\n",
       "        vertical-align: middle;\n",
       "    }\n",
       "\n",
       "    .dataframe tbody tr th {\n",
       "        vertical-align: top;\n",
       "    }\n",
       "\n",
       "    .dataframe thead th {\n",
       "        text-align: right;\n",
       "    }\n",
       "</style>\n",
       "<table border=\"1\" class=\"dataframe\">\n",
       "  <thead>\n",
       "    <tr style=\"text-align: right;\">\n",
       "      <th></th>\n",
       "      <th>country</th>\n",
       "      <th>latitude</th>\n",
       "      <th>longitude</th>\n",
       "      <th>name</th>\n",
       "    </tr>\n",
       "  </thead>\n",
       "  <tbody>\n",
       "    <tr>\n",
       "      <th>0</th>\n",
       "      <td>AD</td>\n",
       "      <td>42.546245</td>\n",
       "      <td>1.601554</td>\n",
       "      <td>Andorra</td>\n",
       "    </tr>\n",
       "    <tr>\n",
       "      <th>1</th>\n",
       "      <td>AE</td>\n",
       "      <td>23.424076</td>\n",
       "      <td>53.847818</td>\n",
       "      <td>United Arab Emirates</td>\n",
       "    </tr>\n",
       "    <tr>\n",
       "      <th>2</th>\n",
       "      <td>AF</td>\n",
       "      <td>33.939110</td>\n",
       "      <td>67.709953</td>\n",
       "      <td>Afghanistan</td>\n",
       "    </tr>\n",
       "    <tr>\n",
       "      <th>3</th>\n",
       "      <td>AG</td>\n",
       "      <td>17.060816</td>\n",
       "      <td>-61.796428</td>\n",
       "      <td>Antigua and Barbuda</td>\n",
       "    </tr>\n",
       "    <tr>\n",
       "      <th>4</th>\n",
       "      <td>AI</td>\n",
       "      <td>18.220554</td>\n",
       "      <td>-63.068615</td>\n",
       "      <td>Anguilla</td>\n",
       "    </tr>\n",
       "  </tbody>\n",
       "</table>\n",
       "</div>"
      ],
      "text/plain": [
       "  country   latitude  longitude                  name\n",
       "0      AD  42.546245   1.601554               Andorra\n",
       "1      AE  23.424076  53.847818  United Arab Emirates\n",
       "2      AF  33.939110  67.709953           Afghanistan\n",
       "3      AG  17.060816 -61.796428   Antigua and Barbuda\n",
       "4      AI  18.220554 -63.068615              Anguilla"
      ]
     },
     "execution_count": 19,
     "metadata": {},
     "output_type": "execute_result"
    }
   ],
   "source": [
    "countries_df = pd.read_csv('./data/google-countries.tsv', sep='\\t')\n",
    "countries_df.head()\n"
   ]
  },
  {
   "cell_type": "code",
   "execution_count": 20,
   "metadata": {},
   "outputs": [
    {
     "data": {
      "text/html": [
       "<div>\n",
       "<style scoped>\n",
       "    .dataframe tbody tr th:only-of-type {\n",
       "        vertical-align: middle;\n",
       "    }\n",
       "\n",
       "    .dataframe tbody tr th {\n",
       "        vertical-align: top;\n",
       "    }\n",
       "\n",
       "    .dataframe thead th {\n",
       "        text-align: right;\n",
       "    }\n",
       "</style>\n",
       "<table border=\"1\" class=\"dataframe\">\n",
       "  <thead>\n",
       "    <tr style=\"text-align: right;\">\n",
       "      <th></th>\n",
       "      <th>country</th>\n",
       "      <th>latitude</th>\n",
       "      <th>longitude</th>\n",
       "      <th>name</th>\n",
       "      <th>vector</th>\n",
       "    </tr>\n",
       "  </thead>\n",
       "  <tbody>\n",
       "    <tr>\n",
       "      <th>0</th>\n",
       "      <td>AD</td>\n",
       "      <td>42.546245</td>\n",
       "      <td>1.601554</td>\n",
       "      <td>Andorra</td>\n",
       "      <td>[-0.05102539, -0.44921875, -0.13964844, 0.2041...</td>\n",
       "    </tr>\n",
       "    <tr>\n",
       "      <th>2</th>\n",
       "      <td>AF</td>\n",
       "      <td>33.939110</td>\n",
       "      <td>67.709953</td>\n",
       "      <td>Afghanistan</td>\n",
       "      <td>[-0.057373047, 0.038330078, 0.026000977, 0.206...</td>\n",
       "    </tr>\n",
       "    <tr>\n",
       "      <th>4</th>\n",
       "      <td>AI</td>\n",
       "      <td>18.220554</td>\n",
       "      <td>-63.068615</td>\n",
       "      <td>Anguilla</td>\n",
       "      <td>[-0.15429688, -0.24316406, -0.20800781, -0.129...</td>\n",
       "    </tr>\n",
       "    <tr>\n",
       "      <th>5</th>\n",
       "      <td>AL</td>\n",
       "      <td>41.153332</td>\n",
       "      <td>20.168331</td>\n",
       "      <td>Albania</td>\n",
       "      <td>[-0.014038086, -0.1015625, 0.24023438, 0.02832...</td>\n",
       "    </tr>\n",
       "    <tr>\n",
       "      <th>6</th>\n",
       "      <td>AM</td>\n",
       "      <td>40.069099</td>\n",
       "      <td>45.038189</td>\n",
       "      <td>Armenia</td>\n",
       "      <td>[0.027832031, -0.08203125, 0.24804688, 0.22558...</td>\n",
       "    </tr>\n",
       "  </tbody>\n",
       "</table>\n",
       "</div>"
      ],
      "text/plain": [
       "  country   latitude  longitude         name  \\\n",
       "0      AD  42.546245   1.601554      Andorra   \n",
       "2      AF  33.939110  67.709953  Afghanistan   \n",
       "4      AI  18.220554 -63.068615     Anguilla   \n",
       "5      AL  41.153332  20.168331      Albania   \n",
       "6      AM  40.069099  45.038189      Armenia   \n",
       "\n",
       "                                              vector  \n",
       "0  [-0.05102539, -0.44921875, -0.13964844, 0.2041...  \n",
       "2  [-0.057373047, 0.038330078, 0.026000977, 0.206...  \n",
       "4  [-0.15429688, -0.24316406, -0.20800781, -0.129...  \n",
       "5  [-0.014038086, -0.1015625, 0.24023438, 0.02832...  \n",
       "6  [0.027832031, -0.08203125, 0.24804688, 0.22558...  "
      ]
     },
     "execution_count": 20,
     "metadata": {},
     "output_type": "execute_result"
    }
   ],
   "source": [
    "countries_df = countries_df[countries_df['name'].isin(model.key_to_index)]\n",
    "countries_df['vector'] = countries_df.apply(lambda row: model[row['name']], axis=1)\n",
    "countries_df.head()"
   ]
  },
  {
   "cell_type": "code",
   "execution_count": 21,
   "metadata": {},
   "outputs": [
    {
     "data": {
      "text/plain": [
       "KMeans(n_clusters=5)"
      ]
     },
     "execution_count": 21,
     "metadata": {},
     "output_type": "execute_result"
    }
   ],
   "source": [
    "from sklearn import cluster\n",
    "\n",
    "NUM_CLUSTERS=5\n",
    "kmeans = cluster.KMeans(n_clusters=NUM_CLUSTERS)\n",
    "kmeans.fit(countries_df['vector'].to_list())\n"
   ]
  },
  {
   "cell_type": "code",
   "execution_count": 22,
   "metadata": {},
   "outputs": [
    {
     "data": {
      "text/html": [
       "<div>\n",
       "<style scoped>\n",
       "    .dataframe tbody tr th:only-of-type {\n",
       "        vertical-align: middle;\n",
       "    }\n",
       "\n",
       "    .dataframe tbody tr th {\n",
       "        vertical-align: top;\n",
       "    }\n",
       "\n",
       "    .dataframe thead th {\n",
       "        text-align: right;\n",
       "    }\n",
       "</style>\n",
       "<table border=\"1\" class=\"dataframe\">\n",
       "  <thead>\n",
       "    <tr style=\"text-align: right;\">\n",
       "      <th></th>\n",
       "      <th>country</th>\n",
       "      <th>latitude</th>\n",
       "      <th>longitude</th>\n",
       "      <th>name</th>\n",
       "      <th>vector</th>\n",
       "      <th>label</th>\n",
       "    </tr>\n",
       "  </thead>\n",
       "  <tbody>\n",
       "    <tr>\n",
       "      <th>0</th>\n",
       "      <td>AD</td>\n",
       "      <td>42.546245</td>\n",
       "      <td>1.601554</td>\n",
       "      <td>Andorra</td>\n",
       "      <td>[-0.05102539, -0.44921875, -0.13964844, 0.2041...</td>\n",
       "      <td>4</td>\n",
       "    </tr>\n",
       "    <tr>\n",
       "      <th>2</th>\n",
       "      <td>AF</td>\n",
       "      <td>33.939110</td>\n",
       "      <td>67.709953</td>\n",
       "      <td>Afghanistan</td>\n",
       "      <td>[-0.057373047, 0.038330078, 0.026000977, 0.206...</td>\n",
       "      <td>0</td>\n",
       "    </tr>\n",
       "    <tr>\n",
       "      <th>4</th>\n",
       "      <td>AI</td>\n",
       "      <td>18.220554</td>\n",
       "      <td>-63.068615</td>\n",
       "      <td>Anguilla</td>\n",
       "      <td>[-0.15429688, -0.24316406, -0.20800781, -0.129...</td>\n",
       "      <td>3</td>\n",
       "    </tr>\n",
       "    <tr>\n",
       "      <th>5</th>\n",
       "      <td>AL</td>\n",
       "      <td>41.153332</td>\n",
       "      <td>20.168331</td>\n",
       "      <td>Albania</td>\n",
       "      <td>[-0.014038086, -0.1015625, 0.24023438, 0.02832...</td>\n",
       "      <td>4</td>\n",
       "    </tr>\n",
       "    <tr>\n",
       "      <th>6</th>\n",
       "      <td>AM</td>\n",
       "      <td>40.069099</td>\n",
       "      <td>45.038189</td>\n",
       "      <td>Armenia</td>\n",
       "      <td>[0.027832031, -0.08203125, 0.24804688, 0.22558...</td>\n",
       "      <td>4</td>\n",
       "    </tr>\n",
       "    <tr>\n",
       "      <th>...</th>\n",
       "      <td>...</td>\n",
       "      <td>...</td>\n",
       "      <td>...</td>\n",
       "      <td>...</td>\n",
       "      <td>...</td>\n",
       "      <td>...</td>\n",
       "    </tr>\n",
       "    <tr>\n",
       "      <th>239</th>\n",
       "      <td>XK</td>\n",
       "      <td>42.602636</td>\n",
       "      <td>20.902977</td>\n",
       "      <td>Kosovo</td>\n",
       "      <td>[0.1875, -0.20507812, 0.056396484, 0.2734375, ...</td>\n",
       "      <td>4</td>\n",
       "    </tr>\n",
       "    <tr>\n",
       "      <th>240</th>\n",
       "      <td>YE</td>\n",
       "      <td>15.552727</td>\n",
       "      <td>48.516388</td>\n",
       "      <td>Yemen</td>\n",
       "      <td>[0.13867188, 0.037353516, -0.36523438, 0.28515...</td>\n",
       "      <td>0</td>\n",
       "    </tr>\n",
       "    <tr>\n",
       "      <th>241</th>\n",
       "      <td>YT</td>\n",
       "      <td>-12.827500</td>\n",
       "      <td>45.166244</td>\n",
       "      <td>Mayotte</td>\n",
       "      <td>[0.28320312, 0.107910156, 0.041015625, 0.01953...</td>\n",
       "      <td>2</td>\n",
       "    </tr>\n",
       "    <tr>\n",
       "      <th>243</th>\n",
       "      <td>ZM</td>\n",
       "      <td>-13.133897</td>\n",
       "      <td>27.849332</td>\n",
       "      <td>Zambia</td>\n",
       "      <td>[-0.033691406, 0.076660156, 0.008239746, 0.010...</td>\n",
       "      <td>2</td>\n",
       "    </tr>\n",
       "    <tr>\n",
       "      <th>244</th>\n",
       "      <td>ZW</td>\n",
       "      <td>-19.015438</td>\n",
       "      <td>29.154857</td>\n",
       "      <td>Zimbabwe</td>\n",
       "      <td>[-0.055419922, -0.0048828125, -0.0009841919, -...</td>\n",
       "      <td>2</td>\n",
       "    </tr>\n",
       "  </tbody>\n",
       "</table>\n",
       "<p>175 rows × 6 columns</p>\n",
       "</div>"
      ],
      "text/plain": [
       "    country   latitude  longitude         name  \\\n",
       "0        AD  42.546245   1.601554      Andorra   \n",
       "2        AF  33.939110  67.709953  Afghanistan   \n",
       "4        AI  18.220554 -63.068615     Anguilla   \n",
       "5        AL  41.153332  20.168331      Albania   \n",
       "6        AM  40.069099  45.038189      Armenia   \n",
       "..      ...        ...        ...          ...   \n",
       "239      XK  42.602636  20.902977       Kosovo   \n",
       "240      YE  15.552727  48.516388        Yemen   \n",
       "241      YT -12.827500  45.166244      Mayotte   \n",
       "243      ZM -13.133897  27.849332       Zambia   \n",
       "244      ZW -19.015438  29.154857     Zimbabwe   \n",
       "\n",
       "                                                vector  label  \n",
       "0    [-0.05102539, -0.44921875, -0.13964844, 0.2041...      4  \n",
       "2    [-0.057373047, 0.038330078, 0.026000977, 0.206...      0  \n",
       "4    [-0.15429688, -0.24316406, -0.20800781, -0.129...      3  \n",
       "5    [-0.014038086, -0.1015625, 0.24023438, 0.02832...      4  \n",
       "6    [0.027832031, -0.08203125, 0.24804688, 0.22558...      4  \n",
       "..                                                 ...    ...  \n",
       "239  [0.1875, -0.20507812, 0.056396484, 0.2734375, ...      4  \n",
       "240  [0.13867188, 0.037353516, -0.36523438, 0.28515...      0  \n",
       "241  [0.28320312, 0.107910156, 0.041015625, 0.01953...      2  \n",
       "243  [-0.033691406, 0.076660156, 0.008239746, 0.010...      2  \n",
       "244  [-0.055419922, -0.0048828125, -0.0009841919, -...      2  \n",
       "\n",
       "[175 rows x 6 columns]"
      ]
     },
     "execution_count": 22,
     "metadata": {},
     "output_type": "execute_result"
    }
   ],
   "source": [
    "countries_df['label'] = kmeans.labels_\n",
    "countries_df"
   ]
  },
  {
   "cell_type": "markdown",
   "metadata": {},
   "source": [
    "## 68. Ward法によるクラスタリング"
   ]
  },
  {
   "cell_type": "code",
   "execution_count": 8,
   "metadata": {},
   "outputs": [
    {
     "data": {
      "image/png": "[encoded data removed]",
      "text/plain": [
       "<Figure size 2000x5000 with 1 Axes>"
      ]
     },
     "metadata": {},
     "output_type": "display_data"
    }
   ],
   "source": [
    "import matplotlib.pyplot as plt\n",
    "import pandas as pd\n",
    "from scipy.cluster.hierarchy import dendrogram, linkage\n",
    "\n",
    "world = pd.read_pickle('data/dst/world_obj.zip')\n",
    "world_vector = world['vector']\n",
    "clustered = linkage(world['vector'].tolist(), method='ward')\n",
    "plt.figure(figsize=(20, 50), dpi=100, facecolor='c')\n",
    "dendrogram(clustered, labels=world['name'].tolist(), leaf_font_size=8, orientation='right')\n",
    "plt.show()\n"
   ]
  },
  {
   "cell_type": "markdown",
   "metadata": {},
   "source": [
    "## 68. Ward法によるクラスタリング（別解: 次元削減してから実行）"
   ]
  },
  {
   "cell_type": "code",
   "execution_count": 6,
   "metadata": {},
   "outputs": [
    {
     "data": {
      "application/vnd.plotly.v1+json": {
       "config": {
        "plotlyServerURL": "https://plot.ly"
       },
       "data": [
        {
         "hovertemplate": "0=%{x}<br>1=%{y}<br>2=%{z}<extra></extra>",
         "legendgroup": "",
         "marker": {
          "color": "#636efa",
          "symbol": "circle"
         },
         "mode": "markers",
         "name": "",
         "scene": "scene",
         "showlegend": false,
         "type": "scatter3d",
         "x": [
          0.6279823336721593,
          1.1694257921311175,
          -0.5216026737361522,
          -0.795664867063499,
          -0.5150341156592332,
          0.20245134428583658,
          -0.7632088568921332,
          -0.4193504683992567,
          1.5399258786385868,
          1.2554452477215072,
          1.453229667079436,
          0.40994851261746357,
          0.9072660506489962,
          -1.172466190471531,
          0.01318486959557789,
          -0.6678564337606648,
          -0.19701487001366919,
          1.2287342785336928,
          -0.37593412758413774,
          -0.48466976159631175,
          -0.4029421202464013,
          -0.04528850532017734,
          0.003472517586123503,
          -0.02778471237985485,
          -0.1592791701985181,
          0.1404628160343383,
          0.25615173951167125,
          0.04686745159860211,
          0.4137505618363149,
          -0.24195801384737106,
          0.7775907973247596,
          0.44482249918999983,
          -0.6357295636283135,
          -0.10946145043161706,
          0.369667662394855,
          -0.10713310173446494,
          1.2891495246928548,
          1.1284634097535402,
          0.6450368787661838,
          0.855037458028517,
          0.9240779067094558,
          1.1724069400845303,
          1.1124614048659613,
          1.7125205455196055,
          0.9709756541693267,
          0.8433546543738848,
          0.9460182567404505,
          0.8771547623157221,
          1.080939707469779,
          1.62072982664291,
          1.3657536430035617,
          0.9253477728802527,
          1.186782803651242,
          1.348799529135705,
          0.8747924049214337,
          0.5375782280607151,
          1.39284584980988,
          -0.46978177614500183,
          0.1910652005885925,
          1.105427498114393,
          -0.004164415649432284,
          1.1034811091239534,
          0.39957628252698635,
          0.23908823164634713,
          -0.253977006948596,
          -0.21744005890814275,
          -0.07472885853355966,
          0.08786986394727551,
          0.030809752348742246,
          0.5444745354857856,
          0.47439170769827244,
          -0.03581250403390334,
          0.2810663588519905,
          0.9445851641486889,
          -0.07966235254401645,
          -0.06139240918592636,
          -0.13006648968685972,
          0.4415595450240597,
          0.38460280582329304,
          0.528420921038472,
          0.2298592689410462,
          0.20450236468905347,
          -0.03899779792009561,
          -0.002100941899516515,
          -0.30247585839056784,
          -0.2506456309036971,
          0.042685715760779695,
          -0.8224394910188307,
          -0.9806861968264025,
          -1.0368471974814535,
          -1.2355749750118628,
          -1.4216664887765107,
          -1.3253966055219844,
          -1.3734794779723896,
          -0.85009204434704,
          -1.137854047165944,
          -1.5630405926974633,
          -1.4197970513599114,
          -1.5111515429549205,
          -1.1009651095862223,
          -1.2747289105494426,
          -0.9506508299187401,
          -0.8211963477104858,
          -0.6720850799760378,
          -1.321758321174785,
          -0.8674302626533847,
          -0.986732986394289,
          -0.7035940836888094,
          -0.8238507437343359,
          -0.6829663586561032,
          -0.9075255519548042,
          -0.6223112088188684,
          -0.41492387591467045,
          -0.3059217855885416,
          -0.23152120298422452,
          -0.9992394119970153,
          -0.8564741969986185,
          -0.789603044369616,
          -0.8820831969269624,
          -0.7301850128445957,
          0.03969315456562742,
          -0.1229710045592168,
          0.18077350790541993,
          -1.370140245693684,
          -1.1321906703687872,
          -1.6384934661656823,
          -1.2394380622059953,
          1.1800759598124906,
          -0.6376576714365128,
          -0.47058045147314576,
          0.947750989425692,
          -0.0029415783915410294,
          -0.636727625366902,
          0.09480730917754453,
          0.301238012737225,
          0.5043555845744885,
          1.0972878113626936,
          1.1783550230004272,
          1.3167359263139304,
          1.4248115099936516,
          1.1150811558642582,
          -1.0071461583013384,
          -0.8691436021293794,
          -0.37021057910765953
         ],
         "y": [
          -0.7055411253061118,
          -0.3240566773325795,
          -0.6700983063127537,
          0.8241982535062706,
          1.1044246173014813,
          -0.15434756606403344,
          -1.2921503479179204,
          -1.1401469530173969,
          1.3392874174605716,
          -0.2359896813023328,
          0.9970824910326724,
          0.226809647625157,
          -0.3079902577485562,
          0.8118766090448207,
          -0.9073274467008382,
          -0.30440665793658334,
          0.051981272003138713,
          -0.5453190326706578,
          -0.8928603197390355,
          -1.438879485972945,
          -1.2419031875751119,
          -0.5488592383837999,
          -0.9637652884680168,
          -0.8430636217762334,
          -0.9907159150871461,
          -0.5640408648731414,
          -0.9164049073701992,
          -0.9545109429694573,
          -1.0304288092557048,
          -0.4163641217459892,
          -0.9977158396897596,
          -1.096616335335869,
          -0.41839476730815656,
          -0.9767371234652317,
          -1.1204406213278308,
          -0.3270667987272646,
          0.0006974397185920822,
          -0.5785937599245129,
          -0.4328752669583765,
          -0.3678862401601101,
          -0.39006337017335635,
          0.31274860763953083,
          -0.4701043338412604,
          0.4693381310759005,
          -0.3342278502094107,
          -0.7360138060074171,
          -0.37299525028552954,
          -0.656311376988542,
          -0.34747526312546884,
          0.04077232716559171,
          0.2206239846502139,
          -0.43679815637055996,
          -0.4542827035973772,
          -0.5888547378798409,
          -0.6926462601167379,
          -0.4527285943641394,
          0.13999960036993547,
          0.7119856704558272,
          0.9062122141251898,
          -0.31440214712165204,
          0.9300328132414494,
          -0.34419858992223124,
          0.2748308822130998,
          -0.04418245138398268,
          0.2499901319992336,
          0.21348151145648833,
          0.5917163938866601,
          1.0375900059394418,
          0.19503872665178942,
          -0.8108337774402474,
          0.3463500733061061,
          -0.09572807862773458,
          0.1786948186782285,
          1.0517661407230958,
          0.23145458030625557,
          0.3383254742447623,
          -0.1127399962700672,
          0.17188296703631994,
          0.30042379730441265,
          0.42676219930559955,
          0.8166273349291593,
          1.156959656832858,
          1.236962756812498,
          1.5057366884509276,
          1.453563515736812,
          1.2794549456609439,
          1.5314278327277924,
          1.1911070763598486,
          -0.47429553888662707,
          0.8021025603621409,
          0.8854216157506459,
          0.100432944369046,
          -0.26544549906211,
          0.01655421561421777,
          0.8356313731442165,
          0.006376541119311866,
          0.15833380540193653,
          0.1992915668569838,
          0.28208610265055134,
          -0.2917454967832212,
          0.4411936385208138,
          0.20486751446274398,
          0.823253325426496,
          0.47972896369526624,
          -0.045625403576938145,
          -0.5809587188143818,
          -0.42404464199109937,
          -0.46440896284385375,
          -0.8390294073772647,
          -0.9106152115991644,
          -0.8477332800638784,
          -0.5101258844448814,
          -0.5944055426890321,
          0.1603921240076673,
          -0.05685730795494198,
          -0.49747474752315357,
          -0.31931033483447263,
          -0.16316278580965482,
          1.3844958851405158,
          0.43067164253199236,
          -0.6244224117641557,
          -0.1606563102926011,
          0.07672824642719568,
          -0.19139460117039642,
          -0.20133880476976038,
          -0.17704635759693524,
          0.5608130813390098,
          1.1165535276145289,
          -0.20726950516878756,
          -1.4078867019074313,
          0.9705330277132269,
          -0.214678203615793,
          0.5306773220953068,
          -0.13064414291416893,
          0.65945165699414,
          1.022087102700197,
          0.6089071514097095,
          0.6498385231082503,
          1.5177666734167399,
          0.008765944223530072,
          0.23069118386992837,
          0.557732822017734,
          -0.18475340317295755,
          1.5558147698141498
         ],
         "z": [
          -0.5758825473989181,
          0.44525235061489743,
          -0.606978565243549,
          0.3241803707696772,
          0.08866160608870344,
          -0.6097171098363232,
          -0.1058435035183988,
          -0.6974792562422916,
          -0.2460436479820092,
          0.4051573597271308,
          0.006868160625216236,
          -0.2584110810790582,
          -0.9478696146248741,
          -0.13485689756773928,
          -0.8277418559607228,
          0.34260327992772405,
          -0.37724583849465587,
          0.8283301577124439,
          -1.1497332340312274,
          0.2753261743242409,
          -0.33066793430550195,
          -0.81637189325867,
          -0.9761925620618263,
          -0.8603961626630354,
          -1.170519734605058,
          -1.0928401356430635,
          -0.7489600019871752,
          -0.8244857178272327,
          -1.0014103853302208,
          -0.8186433200329976,
          -0.4096938533589516,
          -0.11949551873181022,
          0.30378350049655195,
          -0.4842792623164934,
          -0.528833422120368,
          -1.1509126921971415,
          0.3878586178414218,
          0.6981931417029532,
          0.8970805448741963,
          0.8252430864341458,
          0.8365220752026283,
          0.383030854714403,
          0.914431317857683,
          0.7303006286318697,
          0.6896052413540591,
          1.2144573627953494,
          1.1265491037892235,
          1.129941322248738,
          0.21145574365449818,
          0.13457644146130096,
          0.5382129942361051,
          1.0077164038894348,
          0.794350774437958,
          0.8310789741731074,
          0.4798654289577421,
          0.6196462201927156,
          0.9068393384035001,
          -0.8195346297448886,
          -0.8120569258672161,
          0.18186611733361052,
          -0.9484745645930667,
          0.6343244230922173,
          0.6190292586188737,
          0.8430250401081871,
          -0.7054278375933754,
          -0.1733428192075486,
          -0.6505443037523571,
          -0.994582439581165,
          -0.3698277583861967,
          -0.26947981053130693,
          -0.887211415719692,
          -0.8455682458865689,
          -0.6805165150690935,
          -0.9333054124782608,
          -1.0174814901859284,
          -0.4500872662771175,
          -0.7856031307696257,
          -0.278333321685417,
          -0.57104221306713,
          -0.7051331856373424,
          -0.7525970116965941,
          -0.9379291276079443,
          0.07669764830236277,
          -0.18986697128649338,
          0.19336017440436623,
          -0.6058322559567613,
          -0.6908905871825135,
          0.35657754470587344,
          0.5836295304752399,
          0.6274147146961753,
          0.46661541612407276,
          0.08404341175914277,
          0.5763227223227136,
          0.3397557320175709,
          0.6874205921354561,
          0.5731151230805799,
          0.6814913845300749,
          0.8572662672431943,
          0.7848962141933319,
          0.37665951362972167,
          0.7009230779170358,
          0.31583727422803887,
          -0.08510097950459053,
          0.5244770686867066,
          0.7287587488022097,
          0.3094547741620539,
          0.3077837696664628,
          0.4891664756787728,
          0.41919975498236456,
          0.47329531553086734,
          -0.1262490597378886,
          0.09400521195170698,
          -0.6235416473837931,
          -0.7657606083696799,
          -0.9157016489245454,
          0.2507548579841482,
          0.39083687822175367,
          0.11353319375381539,
          0.418467112907246,
          -0.2581980384949185,
          -0.9365670807367256,
          -0.47074639623147374,
          -0.30967071771273663,
          1.1771449656297153,
          0.6186137671418642,
          0.8606153694188985,
          0.21318853286209044,
          0.31136008322492215,
          -0.7038436857286648,
          0.25196094192713586,
          -0.25998825400359443,
          -0.8122222008330161,
          0.2916437436232633,
          0.11843008517440745,
          -0.14131403298502695,
          -0.37320309152358744,
          0.11715543010762988,
          0.3059580825773882,
          0.4779402400878355,
          0.6071021077374823,
          0.5023334367812902,
          0.884010586030963,
          0.4749031035393978,
          0.05879903410330714
         ]
        }
       ],
       "layout": {
        "legend": {
         "tracegroupgap": 0
        },
        "margin": {
         "t": 60
        },
        "scene": {
         "domain": {
          "x": [
           0,
           1
          ],
          "y": [
           0,
           1
          ]
         },
         "xaxis": {
          "title": {
           "text": "0"
          }
         },
         "yaxis": {
          "title": {
           "text": "1"
          }
         },
         "zaxis": {
          "title": {
           "text": "2"
          }
         }
        },
        "template": {
         "data": {
          "bar": [
           {
            "error_x": {
             "color": "#2a3f5f"
            },
            "error_y": {
             "color": "#2a3f5f"
            },
            "marker": {
             "line": {
              "color": "#E5ECF6",
              "width": 0.5
             },
             "pattern": {
              "fillmode": "overlay",
              "size": 10,
              "solidity": 0.2
             }
            },
            "type": "bar"
           }
          ],
          "barpolar": [
           {
            "marker": {
             "line": {
              "color": "#E5ECF6",
              "width": 0.5
             },
             "pattern": {
              "fillmode": "overlay",
              "size": 10,
              "solidity": 0.2
             }
            },
            "type": "barpolar"
           }
          ],
          "carpet": [
           {
            "aaxis": {
             "endlinecolor": "#2a3f5f",
             "gridcolor": "white",
             "linecolor": "white",
             "minorgridcolor": "white",
             "startlinecolor": "#2a3f5f"
            },
            "baxis": {
             "endlinecolor": "#2a3f5f",
             "gridcolor": "white",
             "linecolor": "white",
             "minorgridcolor": "white",
             "startlinecolor": "#2a3f5f"
            },
            "type": "carpet"
           }
          ],
          "choropleth": [
           {
            "colorbar": {
             "outlinewidth": 0,
             "ticks": ""
            },
            "type": "choropleth"
           }
          ],
          "contour": [
           {
            "colorbar": {
             "outlinewidth": 0,
             "ticks": ""
            },
            "colorscale": [
             [
              0,
              "#0d0887"
             ],
             [
              0.1111111111111111,
              "#46039f"
             ],
             [
              0.2222222222222222,
              "#7201a8"
             ],
             [
              0.3333333333333333,
              "#9c179e"
             ],
             [
              0.4444444444444444,
              "#bd3786"
             ],
             [
              0.5555555555555556,
              "#d8576b"
             ],
             [
              0.6666666666666666,
              "#ed7953"
             ],
             [
              0.7777777777777778,
              "#fb9f3a"
             ],
             [
              0.8888888888888888,
              "#fdca26"
             ],
             [
              1,
              "#f0f921"
             ]
            ],
            "type": "contour"
           }
          ],
          "contourcarpet": [
           {
            "colorbar": {
             "outlinewidth": 0,
             "ticks": ""
            },
            "type": "contourcarpet"
           }
          ],
          "heatmap": [
           {
            "colorbar": {
             "outlinewidth": 0,
             "ticks": ""
            },
            "colorscale": [
             [
              0,
              "#0d0887"
             ],
             [
              0.1111111111111111,
              "#46039f"
             ],
             [
              0.2222222222222222,
              "#7201a8"
             ],
             [
              0.3333333333333333,
              "#9c179e"
             ],
             [
              0.4444444444444444,
              "#bd3786"
             ],
             [
              0.5555555555555556,
              "#d8576b"
             ],
             [
              0.6666666666666666,
              "#ed7953"
             ],
             [
              0.7777777777777778,
              "#fb9f3a"
             ],
             [
              0.8888888888888888,
              "#fdca26"
             ],
             [
              1,
              "#f0f921"
             ]
            ],
            "type": "heatmap"
           }
          ],
          "heatmapgl": [
           {
            "colorbar": {
             "outlinewidth": 0,
             "ticks": ""
            },
            "colorscale": [
             [
              0,
              "#0d0887"
             ],
             [
              0.1111111111111111,
              "#46039f"
             ],
             [
              0.2222222222222222,
              "#7201a8"
             ],
             [
              0.3333333333333333,
              "#9c179e"
             ],
             [
              0.4444444444444444,
              "#bd3786"
             ],
             [
              0.5555555555555556,
              "#d8576b"
             ],
             [
              0.6666666666666666,
              "#ed7953"
             ],
             [
              0.7777777777777778,
              "#fb9f3a"
             ],
             [
              0.8888888888888888,
              "#fdca26"
             ],
             [
              1,
              "#f0f921"
             ]
            ],
            "type": "heatmapgl"
           }
          ],
          "histogram": [
           {
            "marker": {
             "pattern": {
              "fillmode": "overlay",
              "size": 10,
              "solidity": 0.2
             }
            },
            "type": "histogram"
           }
          ],
          "histogram2d": [
           {
            "colorbar": {
             "outlinewidth": 0,
             "ticks": ""
            },
            "colorscale": [
             [
              0,
              "#0d0887"
             ],
             [
              0.1111111111111111,
              "#46039f"
             ],
             [
              0.2222222222222222,
              "#7201a8"
             ],
             [
              0.3333333333333333,
              "#9c179e"
             ],
             [
              0.4444444444444444,
              "#bd3786"
             ],
             [
              0.5555555555555556,
              "#d8576b"
             ],
             [
              0.6666666666666666,
              "#ed7953"
             ],
             [
              0.7777777777777778,
              "#fb9f3a"
             ],
             [
              0.8888888888888888,
              "#fdca26"
             ],
             [
              1,
              "#f0f921"
             ]
            ],
            "type": "histogram2d"
           }
          ],
          "histogram2dcontour": [
           {
            "colorbar": {
             "outlinewidth": 0,
             "ticks": ""
            },
            "colorscale": [
             [
              0,
              "#0d0887"
             ],
             [
              0.1111111111111111,
              "#46039f"
             ],
             [
              0.2222222222222222,
              "#7201a8"
             ],
             [
              0.3333333333333333,
              "#9c179e"
             ],
             [
              0.4444444444444444,
              "#bd3786"
             ],
             [
              0.5555555555555556,
              "#d8576b"
             ],
             [
              0.6666666666666666,
              "#ed7953"
             ],
             [
              0.7777777777777778,
              "#fb9f3a"
             ],
             [
              0.8888888888888888,
              "#fdca26"
             ],
             [
              1,
              "#f0f921"
             ]
            ],
            "type": "histogram2dcontour"
           }
          ],
          "mesh3d": [
           {
            "colorbar": {
             "outlinewidth": 0,
             "ticks": ""
            },
            "type": "mesh3d"
           }
          ],
          "parcoords": [
           {
            "line": {
             "colorbar": {
              "outlinewidth": 0,
              "ticks": ""
             }
            },
            "type": "parcoords"
           }
          ],
          "pie": [
           {
            "automargin": true,
            "type": "pie"
           }
          ],
          "scatter": [
           {
            "fillpattern": {
             "fillmode": "overlay",
             "size": 10,
             "solidity": 0.2
            },
            "type": "scatter"
           }
          ],
          "scatter3d": [
           {
            "line": {
             "colorbar": {
              "outlinewidth": 0,
              "ticks": ""
             }
            },
            "marker": {
             "colorbar": {
              "outlinewidth": 0,
              "ticks": ""
             }
            },
            "type": "scatter3d"
           }
          ],
          "scattercarpet": [
           {
            "marker": {
             "colorbar": {
              "outlinewidth": 0,
              "ticks": ""
             }
            },
            "type": "scattercarpet"
           }
          ],
          "scattergeo": [
           {
            "marker": {
             "colorbar": {
              "outlinewidth": 0,
              "ticks": ""
             }
            },
            "type": "scattergeo"
           }
          ],
          "scattergl": [
           {
            "marker": {
             "colorbar": {
              "outlinewidth": 0,
              "ticks": ""
             }
            },
            "type": "scattergl"
           }
          ],
          "scattermapbox": [
           {
            "marker": {
             "colorbar": {
              "outlinewidth": 0,
              "ticks": ""
             }
            },
            "type": "scattermapbox"
           }
          ],
          "scatterpolar": [
           {
            "marker": {
             "colorbar": {
              "outlinewidth": 0,
              "ticks": ""
             }
            },
            "type": "scatterpolar"
           }
          ],
          "scatterpolargl": [
           {
            "marker": {
             "colorbar": {
              "outlinewidth": 0,
              "ticks": ""
             }
            },
            "type": "scatterpolargl"
           }
          ],
          "scatterternary": [
           {
            "marker": {
             "colorbar": {
              "outlinewidth": 0,
              "ticks": ""
             }
            },
            "type": "scatterternary"
           }
          ],
          "surface": [
           {
            "colorbar": {
             "outlinewidth": 0,
             "ticks": ""
            },
            "colorscale": [
             [
              0,
              "#0d0887"
             ],
             [
              0.1111111111111111,
              "#46039f"
             ],
             [
              0.2222222222222222,
              "#7201a8"
             ],
             [
              0.3333333333333333,
              "#9c179e"
             ],
             [
              0.4444444444444444,
              "#bd3786"
             ],
             [
              0.5555555555555556,
              "#d8576b"
             ],
             [
              0.6666666666666666,
              "#ed7953"
             ],
             [
              0.7777777777777778,
              "#fb9f3a"
             ],
             [
              0.8888888888888888,
              "#fdca26"
             ],
             [
              1,
              "#f0f921"
             ]
            ],
            "type": "surface"
           }
          ],
          "table": [
           {
            "cells": {
             "fill": {
              "color": "#EBF0F8"
             },
             "line": {
              "color": "white"
             }
            },
            "header": {
             "fill": {
              "color": "#C8D4E3"
             },
             "line": {
              "color": "white"
             }
            },
            "type": "table"
           }
          ]
         },
         "layout": {
          "annotationdefaults": {
           "arrowcolor": "#2a3f5f",
           "arrowhead": 0,
           "arrowwidth": 1
          },
          "autotypenumbers": "strict",
          "coloraxis": {
           "colorbar": {
            "outlinewidth": 0,
            "ticks": ""
           }
          },
          "colorscale": {
           "diverging": [
            [
             0,
             "#8e0152"
            ],
            [
             0.1,
             "#c51b7d"
            ],
            [
             0.2,
             "#de77ae"
            ],
            [
             0.3,
             "#f1b6da"
            ],
            [
             0.4,
             "#fde0ef"
            ],
            [
             0.5,
             "#f7f7f7"
            ],
            [
             0.6,
             "#e6f5d0"
            ],
            [
             0.7,
             "#b8e186"
            ],
            [
             0.8,
             "#7fbc41"
            ],
            [
             0.9,
             "#4d9221"
            ],
            [
             1,
             "#276419"
            ]
           ],
           "sequential": [
            [
             0,
             "#0d0887"
            ],
            [
             0.1111111111111111,
             "#46039f"
            ],
            [
             0.2222222222222222,
             "#7201a8"
            ],
            [
             0.3333333333333333,
             "#9c179e"
            ],
            [
             0.4444444444444444,
             "#bd3786"
            ],
            [
             0.5555555555555556,
             "#d8576b"
            ],
            [
             0.6666666666666666,
             "#ed7953"
            ],
            [
             0.7777777777777778,
             "#fb9f3a"
            ],
            [
             0.8888888888888888,
             "#fdca26"
            ],
            [
             1,
             "#f0f921"
            ]
           ],
           "sequentialminus": [
            [
             0,
             "#0d0887"
            ],
            [
             0.1111111111111111,
             "#46039f"
            ],
            [
             0.2222222222222222,
             "#7201a8"
            ],
            [
             0.3333333333333333,
             "#9c179e"
            ],
            [
             0.4444444444444444,
             "#bd3786"
            ],
            [
             0.5555555555555556,
             "#d8576b"
            ],
            [
             0.6666666666666666,
             "#ed7953"
            ],
            [
             0.7777777777777778,
             "#fb9f3a"
            ],
            [
             0.8888888888888888,
             "#fdca26"
            ],
            [
             1,
             "#f0f921"
            ]
           ]
          },
          "colorway": [
           "#636efa",
           "#EF553B",
           "#00cc96",
           "#ab63fa",
           "#FFA15A",
           "#19d3f3",
           "#FF6692",
           "#B6E880",
           "#FF97FF",
           "#FECB52"
          ],
          "font": {
           "color": "#2a3f5f"
          },
          "geo": {
           "bgcolor": "white",
           "lakecolor": "white",
           "landcolor": "#E5ECF6",
           "showlakes": true,
           "showland": true,
           "subunitcolor": "white"
          },
          "hoverlabel": {
           "align": "left"
          },
          "hovermode": "closest",
          "mapbox": {
           "style": "light"
          },
          "paper_bgcolor": "white",
          "plot_bgcolor": "#E5ECF6",
          "polar": {
           "angularaxis": {
            "gridcolor": "white",
            "linecolor": "white",
            "ticks": ""
           },
           "bgcolor": "#E5ECF6",
           "radialaxis": {
            "gridcolor": "white",
            "linecolor": "white",
            "ticks": ""
           }
          },
          "scene": {
           "xaxis": {
            "backgroundcolor": "#E5ECF6",
            "gridcolor": "white",
            "gridwidth": 2,
            "linecolor": "white",
            "showbackground": true,
            "ticks": "",
            "zerolinecolor": "white"
           },
           "yaxis": {
            "backgroundcolor": "#E5ECF6",
            "gridcolor": "white",
            "gridwidth": 2,
            "linecolor": "white",
            "showbackground": true,
            "ticks": "",
            "zerolinecolor": "white"
           },
           "zaxis": {
            "backgroundcolor": "#E5ECF6",
            "gridcolor": "white",
            "gridwidth": 2,
            "linecolor": "white",
            "showbackground": true,
            "ticks": "",
            "zerolinecolor": "white"
           }
          },
          "shapedefaults": {
           "line": {
            "color": "#2a3f5f"
           }
          },
          "ternary": {
           "aaxis": {
            "gridcolor": "white",
            "linecolor": "white",
            "ticks": ""
           },
           "baxis": {
            "gridcolor": "white",
            "linecolor": "white",
            "ticks": ""
           },
           "bgcolor": "#E5ECF6",
           "caxis": {
            "gridcolor": "white",
            "linecolor": "white",
            "ticks": ""
           }
          },
          "title": {
           "x": 0.05
          },
          "xaxis": {
           "automargin": true,
           "gridcolor": "white",
           "linecolor": "white",
           "ticks": "",
           "title": {
            "standoff": 15
           },
           "zerolinecolor": "white",
           "zerolinewidth": 2
          },
          "yaxis": {
           "automargin": true,
           "gridcolor": "white",
           "linecolor": "white",
           "ticks": "",
           "title": {
            "standoff": 15
           },
           "zerolinecolor": "white",
           "zerolinewidth": 2
          }
         }
        }
       }
      }
     },
     "metadata": {},
     "output_type": "display_data"
    }
   ],
   "source": [
    "from sklearn.decomposition import PCA\n",
    "import plotly.express as px\n",
    "import pandas as pd\n",
    "\n",
    "world = pd.read_pickle(\"data/dst/world_obj.zip\")\n",
    "\n",
    "pca = PCA(n_components=3)\n",
    "vector_3d = pd.DataFrame(pca.fit_transform(world[\"vector\"].tolist()))\n",
    "\n",
    "fig = px.scatter_3d(vector_3d, x=0, y=1, z=2)\n",
    "fig.show()\n"
   ]
  },
  {
   "cell_type": "code",
   "execution_count": 9,
   "metadata": {},
   "outputs": [
    {
     "data": {
      "image/png": "[encoded data removed]",
      "text/plain": [
       "<Figure size 2000x5000 with 1 Axes>"
      ]
     },
     "metadata": {},
     "output_type": "display_data"
    }
   ],
   "source": [
    "import matplotlib.pyplot as plt\n",
    "import pandas as pd\n",
    "from scipy.cluster.hierarchy import dendrogram, linkage\n",
    "\n",
    "world = pd.read_pickle('data/dst/world_obj.zip')\n",
    "clustered = linkage(vector_3d.values.tolist(), method='ward', )\n",
    "plt.figure(figsize=(20, 50), dpi=100, facecolor='c')\n",
    "dendrogram(clustered, labels=world['name'].tolist(), leaf_font_size=8, orientation='right')\n",
    "plt.show()\n",
    "\n",
    "# それなりに納得感があるクラスタリングになっている。"
   ]
  },
  {
   "cell_type": "markdown",
   "metadata": {},
   "source": [
    "## References\n",
    "\n",
    "- [countries\\.csv  \\|  Dataset Publishing Language  \\|  Google Developers](https://developers.google.com/public-data/docs/canonical/countries_csv)\n",
    "- [【言語処理100本ノック 2020】 7章をPythonで解いた \\- ギークなエンジニアを目指す男](https://www.takapy.work/entry/2021/06/20/191606)\n",
    "- [言語処理100本ノック2020年版を解いてみた【第7章：単語ベクトル 67】 \\| DevLog](https://www.soh-devlog.tokyo/nlp100-7-67/)\n",
    "- [K Means Clustering Example with Word2Vec in Data Mining or Machine Learning \\- Text Analytics Techniques](https://ai.intelligentonlinetools.com/ml/k-means-clustering-example-word2vec/)"
   ]
  }
 ],
 "metadata": {
  "interpreter": {
   "hash": "9829b077c52378d5e1bc55420cf8cc5a4f9f459501a552e8de61cb75f7311e5d"
  },
  "kernelspec": {
   "display_name": "Python 3.9.9 64-bit ('.venv': venv)",
   "language": "python",
   "name": "python3"
  },
  "language_info": {
   "codemirror_mode": {
    "name": "ipython",
    "version": 3
   },
   "file_extension": ".py",
   "mimetype": "text/x-python",
   "name": "python",
   "nbconvert_exporter": "python",
   "pygments_lexer": "ipython3",
   "version": "3.9.9"
  },
  "orig_nbformat": 4
 },
 "nbformat": 4,
 "nbformat_minor": 2
}
