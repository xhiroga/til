{
 "cells": [
  {
   "cell_type": "code",
   "execution_count": 1,
   "metadata": {},
   "outputs": [],
   "source": [
    "import pandas as pd"
   ]
  },
  {
   "cell_type": "markdown",
   "metadata": {},
   "source": [
    "## 50. データの入手・整形"
   ]
  },
  {
   "cell_type": "code",
   "execution_count": 2,
   "metadata": {},
   "outputs": [],
   "source": [
    "df = pd.read_csv('data/NewsAggregatorDataset/newsCorpora.csv', header=None, sep='\\t',\n",
    "                 names=['id', 'title', 'url', 'publisher', 'category', 'story', 'hostname', 'timestamp'])\n",
    "cols = ['Reuters', 'Huffington Post', 'Businessweek', 'Contactmusic.com', 'Daily Mail']\n",
    "df = df[df['publisher'].isin(cols)]"
   ]
  },
  {
   "cell_type": "code",
   "execution_count": 3,
   "metadata": {},
   "outputs": [
    {
     "data": {
      "text/html": [
       "<div>\n",
       "<style scoped>\n",
       "    .dataframe tbody tr th:only-of-type {\n",
       "        vertical-align: middle;\n",
       "    }\n",
       "\n",
       "    .dataframe tbody tr th {\n",
       "        vertical-align: top;\n",
       "    }\n",
       "\n",
       "    .dataframe thead th {\n",
       "        text-align: right;\n",
       "    }\n",
       "</style>\n",
       "<table border=\"1\" class=\"dataframe\">\n",
       "  <thead>\n",
       "    <tr style=\"text-align: right;\">\n",
       "      <th></th>\n",
       "      <th>id</th>\n",
       "      <th>title</th>\n",
       "      <th>url</th>\n",
       "      <th>publisher</th>\n",
       "      <th>category</th>\n",
       "      <th>story</th>\n",
       "      <th>hostname</th>\n",
       "      <th>timestamp</th>\n",
       "    </tr>\n",
       "  </thead>\n",
       "  <tbody>\n",
       "    <tr>\n",
       "      <th>0</th>\n",
       "      <td>351350</td>\n",
       "      <td>Beloved Young Adult Writer Walter Dean Myers D...</td>\n",
       "      <td>http://www.contactmusic.com/article/monster-au...</td>\n",
       "      <td>Contactmusic.com</td>\n",
       "      <td>e</td>\n",
       "      <td>d8ffUOxditMOG7MLsJtv-MEuTgZwM</td>\n",
       "      <td>www.contactmusic.com</td>\n",
       "      <td>1404396394745</td>\n",
       "    </tr>\n",
       "    <tr>\n",
       "      <th>1</th>\n",
       "      <td>56195</td>\n",
       "      <td>Bitcoin: the New Era of Wildcat Banking</td>\n",
       "      <td>http://www.huffingtonpost.com/jason-gordo/wild...</td>\n",
       "      <td>Huffington Post</td>\n",
       "      <td>b</td>\n",
       "      <td>de0dBu9KqC-vjPMnsC-wC_kui-1SM</td>\n",
       "      <td>www.huffingtonpost.com</td>\n",
       "      <td>1396010852000</td>\n",
       "    </tr>\n",
       "    <tr>\n",
       "      <th>2</th>\n",
       "      <td>203544</td>\n",
       "      <td>Drone Almost Hit US Airways Jet Over Florida i...</td>\n",
       "      <td>http://www.businessweek.com/news/2014-05-10/dr...</td>\n",
       "      <td>Businessweek</td>\n",
       "      <td>b</td>\n",
       "      <td>d84jnFyV6DXI8FMbgrDu2O6JMzqRM</td>\n",
       "      <td>www.businessweek.com</td>\n",
       "      <td>1399750142749</td>\n",
       "    </tr>\n",
       "    <tr>\n",
       "      <th>3</th>\n",
       "      <td>107050</td>\n",
       "      <td>Summit Will Split 'Divergent' Finale 'Allegian...</td>\n",
       "      <td>http://www.huffingtonpost.com/2014/04/11/alleg...</td>\n",
       "      <td>Huffington Post</td>\n",
       "      <td>e</td>\n",
       "      <td>dgbsxQzsw6Y5ixMWUWnv2iVmooMZM</td>\n",
       "      <td>www.huffingtonpost.com</td>\n",
       "      <td>1397354660593</td>\n",
       "    </tr>\n",
       "    <tr>\n",
       "      <th>4</th>\n",
       "      <td>36286</td>\n",
       "      <td>UPDATE 1-'Divergent' teen warriors defeat 'Mup...</td>\n",
       "      <td>http://in.reuters.com/article/2014/03/23/boxof...</td>\n",
       "      <td>Reuters</td>\n",
       "      <td>e</td>\n",
       "      <td>d_oUk702ysXcmLMXRJe0R-XgNycCM</td>\n",
       "      <td>in.reuters.com</td>\n",
       "      <td>1395624050892</td>\n",
       "    </tr>\n",
       "  </tbody>\n",
       "</table>\n",
       "</div>"
      ],
      "text/plain": [
       "       id                                              title  \\\n",
       "0  351350  Beloved Young Adult Writer Walter Dean Myers D...   \n",
       "1   56195            Bitcoin: the New Era of Wildcat Banking   \n",
       "2  203544  Drone Almost Hit US Airways Jet Over Florida i...   \n",
       "3  107050  Summit Will Split 'Divergent' Finale 'Allegian...   \n",
       "4   36286  UPDATE 1-'Divergent' teen warriors defeat 'Mup...   \n",
       "\n",
       "                                                 url         publisher  \\\n",
       "0  http://www.contactmusic.com/article/monster-au...  Contactmusic.com   \n",
       "1  http://www.huffingtonpost.com/jason-gordo/wild...   Huffington Post   \n",
       "2  http://www.businessweek.com/news/2014-05-10/dr...      Businessweek   \n",
       "3  http://www.huffingtonpost.com/2014/04/11/alleg...   Huffington Post   \n",
       "4  http://in.reuters.com/article/2014/03/23/boxof...           Reuters   \n",
       "\n",
       "  category                          story                hostname  \\\n",
       "0        e  d8ffUOxditMOG7MLsJtv-MEuTgZwM    www.contactmusic.com   \n",
       "1        b  de0dBu9KqC-vjPMnsC-wC_kui-1SM  www.huffingtonpost.com   \n",
       "2        b  d84jnFyV6DXI8FMbgrDu2O6JMzqRM    www.businessweek.com   \n",
       "3        e  dgbsxQzsw6Y5ixMWUWnv2iVmooMZM  www.huffingtonpost.com   \n",
       "4        e  d_oUk702ysXcmLMXRJe0R-XgNycCM          in.reuters.com   \n",
       "\n",
       "       timestamp  \n",
       "0  1404396394745  \n",
       "1  1396010852000  \n",
       "2  1399750142749  \n",
       "3  1397354660593  \n",
       "4  1395624050892  "
      ]
     },
     "execution_count": 3,
     "metadata": {},
     "output_type": "execute_result"
    }
   ],
   "source": [
    "df = df.sample(frac=1).reset_index(drop=True)\n",
    "df.head()"
   ]
  },
  {
   "cell_type": "code",
   "execution_count": 4,
   "metadata": {},
   "outputs": [],
   "source": [
    "from sklearn.model_selection import train_test_split\n",
    "\n",
    "train, rest = train_test_split(df, test_size=0.2, random_state=42, stratify=df['category'])\n",
    "valid, test = train_test_split(rest, test_size=0.5, random_state=42, stratify=rest['category'])"
   ]
  },
  {
   "cell_type": "markdown",
   "metadata": {},
   "source": [
    "## 51. 特徴量抽出"
   ]
  },
  {
   "cell_type": "code",
   "execution_count": 5,
   "metadata": {},
   "outputs": [
    {
     "name": "stderr",
     "output_type": "stream",
     "text": [
      "/var/folders/vt/s15n0wxx10zgxq87t9mrzgqh0000gp/T/ipykernel_5737/2601455879.py:2: FutureWarning: Indexing with multiple keys (implicitly converted to a tuple of keys) will be deprecated, use a list instead.\n",
      "  train.groupby('category')['title_words', 'publisher'].describe()\n"
     ]
    },
    {
     "data": {
      "text/html": [
       "<div>\n",
       "<style scoped>\n",
       "    .dataframe tbody tr th:only-of-type {\n",
       "        vertical-align: middle;\n",
       "    }\n",
       "\n",
       "    .dataframe tbody tr th {\n",
       "        vertical-align: top;\n",
       "    }\n",
       "\n",
       "    .dataframe thead tr th {\n",
       "        text-align: left;\n",
       "    }\n",
       "\n",
       "    .dataframe thead tr:last-of-type th {\n",
       "        text-align: right;\n",
       "    }\n",
       "</style>\n",
       "<table border=\"1\" class=\"dataframe\">\n",
       "  <thead>\n",
       "    <tr>\n",
       "      <th></th>\n",
       "      <th colspan=\"4\" halign=\"left\">title_words</th>\n",
       "      <th colspan=\"4\" halign=\"left\">publisher</th>\n",
       "    </tr>\n",
       "    <tr>\n",
       "      <th></th>\n",
       "      <th>count</th>\n",
       "      <th>unique</th>\n",
       "      <th>top</th>\n",
       "      <th>freq</th>\n",
       "      <th>count</th>\n",
       "      <th>unique</th>\n",
       "      <th>top</th>\n",
       "      <th>freq</th>\n",
       "    </tr>\n",
       "    <tr>\n",
       "      <th>category</th>\n",
       "      <th></th>\n",
       "      <th></th>\n",
       "      <th></th>\n",
       "      <th></th>\n",
       "      <th></th>\n",
       "      <th></th>\n",
       "      <th></th>\n",
       "      <th></th>\n",
       "    </tr>\n",
       "  </thead>\n",
       "  <tbody>\n",
       "    <tr>\n",
       "      <th>b</th>\n",
       "      <td>4502</td>\n",
       "      <td>4432</td>\n",
       "      <td>[Deals, of, the, day-, Mergers, and, acquisiti...</td>\n",
       "      <td>5</td>\n",
       "      <td>4502</td>\n",
       "      <td>5</td>\n",
       "      <td>Reuters</td>\n",
       "      <td>2512</td>\n",
       "    </tr>\n",
       "    <tr>\n",
       "      <th>e</th>\n",
       "      <td>4223</td>\n",
       "      <td>4179</td>\n",
       "      <td>[The, top, films, at, the, North, American, bo...</td>\n",
       "      <td>5</td>\n",
       "      <td>4223</td>\n",
       "      <td>5</td>\n",
       "      <td>Contactmusic.com</td>\n",
       "      <td>1865</td>\n",
       "    </tr>\n",
       "    <tr>\n",
       "      <th>m</th>\n",
       "      <td>728</td>\n",
       "      <td>717</td>\n",
       "      <td>[Air, Pollution, Kills, 7, Million, People, Ev...</td>\n",
       "      <td>2</td>\n",
       "      <td>728</td>\n",
       "      <td>5</td>\n",
       "      <td>Huffington Post</td>\n",
       "      <td>253</td>\n",
       "    </tr>\n",
       "    <tr>\n",
       "      <th>t</th>\n",
       "      <td>1219</td>\n",
       "      <td>1190</td>\n",
       "      <td>[UPDATE, 4-Honda, and, others, recall, nearly,...</td>\n",
       "      <td>2</td>\n",
       "      <td>1219</td>\n",
       "      <td>5</td>\n",
       "      <td>Huffington Post</td>\n",
       "      <td>370</td>\n",
       "    </tr>\n",
       "  </tbody>\n",
       "</table>\n",
       "</div>"
      ],
      "text/plain": [
       "         title_words         \\\n",
       "               count unique   \n",
       "category                      \n",
       "b               4502   4432   \n",
       "e               4223   4179   \n",
       "m                728    717   \n",
       "t               1219   1190   \n",
       "\n",
       "                                                                 publisher  \\\n",
       "                                                        top freq     count   \n",
       "category                                                                     \n",
       "b         [Deals, of, the, day-, Mergers, and, acquisiti...    5      4502   \n",
       "e         [The, top, films, at, the, North, American, bo...    5      4223   \n",
       "m         [Air, Pollution, Kills, 7, Million, People, Ev...    2       728   \n",
       "t         [UPDATE, 4-Honda, and, others, recall, nearly,...    2      1219   \n",
       "\n",
       "                                         \n",
       "         unique               top  freq  \n",
       "category                                 \n",
       "b             5           Reuters  2512  \n",
       "e             5  Contactmusic.com  1865  \n",
       "m             5   Huffington Post   253  \n",
       "t             5   Huffington Post   370  "
      ]
     },
     "execution_count": 5,
     "metadata": {},
     "output_type": "execute_result"
    }
   ],
   "source": [
    "train['title_words'] = train['title'].apply(lambda x: x.split(' '))\n",
    "train.groupby('category')['title_words', 'publisher'].describe()"
   ]
  },
  {
   "cell_type": "markdown",
   "metadata": {},
   "source": [
    "## 52. 学習\n",
    "\n"
   ]
  },
  {
   "cell_type": "code",
   "execution_count": 14,
   "metadata": {},
   "outputs": [
    {
     "data": {
      "text/plain": [
       "(13340, 8)"
      ]
     },
     "execution_count": 14,
     "metadata": {},
     "output_type": "execute_result"
    }
   ],
   "source": [
    "df.shape"
   ]
  },
  {
   "cell_type": "code",
   "execution_count": 15,
   "metadata": {},
   "outputs": [],
   "source": [
    "from sklearn.pipeline import Pipeline\n",
    "from sklearn.feature_extraction.text import CountVectorizer\n",
    "from sklearn.feature_extraction.text import TfidfTransformer\n",
    "from sklearn.naive_bayes import MultinomialNB\n",
    "\n",
    "# [Choosing the right estimator — scikit\\-learn 1\\.0\\.2 documentation](https://scikit-learn.org/stable/tutorial/machine_learning_map/index.html)\n",
    "# As cheat sheet, Use LinearSVC or Naive Bayes for Text Classification.\n",
    "\n",
    "text_lsvc_clf = Pipeline([('vect', CountVectorizer()), ('tfidf', TfidfTransformer()), ('clf', ())])\n",
    "text_nb_clf = Pipeline([('vect', CountVectorizer()), ('tfidf', TfidfTransformer()), ('clf', MultinomialNB())])"
   ]
  },
  {
   "cell_type": "code",
   "execution_count": null,
   "metadata": {},
   "outputs": [],
   "source": []
  }
 ],
 "metadata": {
  "interpreter": {
   "hash": "9829b077c52378d5e1bc55420cf8cc5a4f9f459501a552e8de61cb75f7311e5d"
  },
  "kernelspec": {
   "display_name": "Python 3.9.9 64-bit ('.venv': venv)",
   "language": "python",
   "name": "python3"
  },
  "language_info": {
   "codemirror_mode": {
    "name": "ipython",
    "version": 3
   },
   "file_extension": ".py",
   "mimetype": "text/x-python",
   "name": "python",
   "nbconvert_exporter": "python",
   "pygments_lexer": "ipython3",
   "version": "3.9.9"
  },
  "orig_nbformat": 4
 },
 "nbformat": 4,
 "nbformat_minor": 2
}
