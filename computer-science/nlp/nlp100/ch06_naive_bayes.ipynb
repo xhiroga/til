{
 "cells": [
  {
   "cell_type": "code",
   "execution_count": 32,
   "metadata": {},
   "outputs": [],
   "source": [
    "import pandas as pd"
   ]
  },
  {
   "cell_type": "code",
   "execution_count": 33,
   "metadata": {},
   "outputs": [],
   "source": [
    "df = pd.read_csv('data/NewsAggregatorDataset/newsCorpora.csv', header=None, sep='\\t',\n",
    "                 names=['id', 'title', 'url', 'publisher', 'category', 'story', 'hostname', 'timestamp'])\n",
    "cols = ['Reuters', 'Huffington Post', 'Businessweek', 'Contactmusic.com', 'Daily Mail']\n",
    "df = df[df['publisher'].isin(cols)]"
   ]
  },
  {
   "cell_type": "code",
   "execution_count": 34,
   "metadata": {},
   "outputs": [
    {
     "data": {
      "text/html": [
       "<div>\n",
       "<style scoped>\n",
       "    .dataframe tbody tr th:only-of-type {\n",
       "        vertical-align: middle;\n",
       "    }\n",
       "\n",
       "    .dataframe tbody tr th {\n",
       "        vertical-align: top;\n",
       "    }\n",
       "\n",
       "    .dataframe thead th {\n",
       "        text-align: right;\n",
       "    }\n",
       "</style>\n",
       "<table border=\"1\" class=\"dataframe\">\n",
       "  <thead>\n",
       "    <tr style=\"text-align: right;\">\n",
       "      <th></th>\n",
       "      <th>id</th>\n",
       "      <th>title</th>\n",
       "      <th>url</th>\n",
       "      <th>publisher</th>\n",
       "      <th>category</th>\n",
       "      <th>story</th>\n",
       "      <th>hostname</th>\n",
       "      <th>timestamp</th>\n",
       "    </tr>\n",
       "  </thead>\n",
       "  <tbody>\n",
       "    <tr>\n",
       "      <th>0</th>\n",
       "      <td>33280</td>\n",
       "      <td>Paul Walker's Mom Seeks Guardianship Of Grandd...</td>\n",
       "      <td>http://www.huffingtonpost.com/2014/03/20/paul-...</td>\n",
       "      <td>Huffington Post</td>\n",
       "      <td>e</td>\n",
       "      <td>dt8OZkPGSykQVBMpihvPfWq5hDaLM</td>\n",
       "      <td>www.huffingtonpost.com</td>\n",
       "      <td>1395519611299</td>\n",
       "    </tr>\n",
       "    <tr>\n",
       "      <th>1</th>\n",
       "      <td>130445</td>\n",
       "      <td>Ken Loach - Ken Loach and Mike Leigh go head-t...</td>\n",
       "      <td>http://www.contactmusic.com/story/ken-loach-an...</td>\n",
       "      <td>Contactmusic.com</td>\n",
       "      <td>e</td>\n",
       "      <td>dUoA8cGKI_9rzIM_oLwMUIoMlF-SM</td>\n",
       "      <td>www.contactmusic.com</td>\n",
       "      <td>1397774986192</td>\n",
       "    </tr>\n",
       "    <tr>\n",
       "      <th>2</th>\n",
       "      <td>194245</td>\n",
       "      <td>Kim Kardashian blogs about racism and raising ...</td>\n",
       "      <td>http://www.dailymail.co.uk/tvshowbiz/article-2...</td>\n",
       "      <td>Daily Mail</td>\n",
       "      <td>e</td>\n",
       "      <td>dKpBJ9x0LO9dFOMvR0aNemATGECSM</td>\n",
       "      <td>www.dailymail.co.uk</td>\n",
       "      <td>1399569379718</td>\n",
       "    </tr>\n",
       "    <tr>\n",
       "      <th>3</th>\n",
       "      <td>157373</td>\n",
       "      <td>Kendall Jenner shows support for Kanye West in...</td>\n",
       "      <td>http://www.dailymail.co.uk/tvshowbiz/article-2...</td>\n",
       "      <td>Daily Mail</td>\n",
       "      <td>e</td>\n",
       "      <td>dBu--P82jxm-znMo_j6K5f8UOKeTM</td>\n",
       "      <td>www.dailymail.co.uk</td>\n",
       "      <td>1398342895471</td>\n",
       "    </tr>\n",
       "    <tr>\n",
       "      <th>4</th>\n",
       "      <td>99246</td>\n",
       "      <td>Watch 15 Seconds Of Miley Cyrus Covering The B...</td>\n",
       "      <td>http://www.huffingtonpost.com/2014/04/11/miley...</td>\n",
       "      <td>Huffington Post</td>\n",
       "      <td>e</td>\n",
       "      <td>dFA6Pex-ZX47b4M1wbyvVnYiTz13M</td>\n",
       "      <td>www.huffingtonpost.com</td>\n",
       "      <td>1397241791028</td>\n",
       "    </tr>\n",
       "  </tbody>\n",
       "</table>\n",
       "</div>"
      ],
      "text/plain": [
       "       id                                              title  \\\n",
       "0   33280  Paul Walker's Mom Seeks Guardianship Of Grandd...   \n",
       "1  130445  Ken Loach - Ken Loach and Mike Leigh go head-t...   \n",
       "2  194245  Kim Kardashian blogs about racism and raising ...   \n",
       "3  157373  Kendall Jenner shows support for Kanye West in...   \n",
       "4   99246  Watch 15 Seconds Of Miley Cyrus Covering The B...   \n",
       "\n",
       "                                                 url         publisher  \\\n",
       "0  http://www.huffingtonpost.com/2014/03/20/paul-...   Huffington Post   \n",
       "1  http://www.contactmusic.com/story/ken-loach-an...  Contactmusic.com   \n",
       "2  http://www.dailymail.co.uk/tvshowbiz/article-2...        Daily Mail   \n",
       "3  http://www.dailymail.co.uk/tvshowbiz/article-2...        Daily Mail   \n",
       "4  http://www.huffingtonpost.com/2014/04/11/miley...   Huffington Post   \n",
       "\n",
       "  category                          story                hostname  \\\n",
       "0        e  dt8OZkPGSykQVBMpihvPfWq5hDaLM  www.huffingtonpost.com   \n",
       "1        e  dUoA8cGKI_9rzIM_oLwMUIoMlF-SM    www.contactmusic.com   \n",
       "2        e  dKpBJ9x0LO9dFOMvR0aNemATGECSM     www.dailymail.co.uk   \n",
       "3        e  dBu--P82jxm-znMo_j6K5f8UOKeTM     www.dailymail.co.uk   \n",
       "4        e  dFA6Pex-ZX47b4M1wbyvVnYiTz13M  www.huffingtonpost.com   \n",
       "\n",
       "       timestamp  \n",
       "0  1395519611299  \n",
       "1  1397774986192  \n",
       "2  1399569379718  \n",
       "3  1398342895471  \n",
       "4  1397241791028  "
      ]
     },
     "execution_count": 34,
     "metadata": {},
     "output_type": "execute_result"
    }
   ],
   "source": [
    "df = df.sample(frac=1).reset_index(drop=True)\n",
    "df.head()"
   ]
  },
  {
   "cell_type": "markdown",
   "metadata": {},
   "source": [
    "(b = business, t = science and technology, e = entertainment, m = health)"
   ]
  },
  {
   "cell_type": "code",
   "execution_count": 35,
   "metadata": {},
   "outputs": [
    {
     "data": {
      "text/plain": [
       "(13340, 8)"
      ]
     },
     "execution_count": 35,
     "metadata": {},
     "output_type": "execute_result"
    }
   ],
   "source": [
    "df.shape"
   ]
  },
  {
   "cell_type": "markdown",
   "metadata": {},
   "source": [
    "## 51. 特徴量抽出"
   ]
  },
  {
   "cell_type": "code",
   "execution_count": 36,
   "metadata": {},
   "outputs": [],
   "source": [
    "from sklearn.model_selection import train_test_split\n",
    "\n",
    "train, rest = train_test_split(df, test_size=0.2, random_state=42, stratify=df['category'])\n",
    "valid, test = train_test_split(rest, test_size=0.5, random_state=42, stratify=rest['category'])"
   ]
  },
  {
   "cell_type": "markdown",
   "metadata": {},
   "source": [
    "## 52. 学習, 53. 予測"
   ]
  },
  {
   "cell_type": "code",
   "execution_count": 37,
   "metadata": {},
   "outputs": [],
   "source": [
    "from sklearn.pipeline import Pipeline\n",
    "from sklearn.feature_extraction.text import CountVectorizer\n",
    "from sklearn.feature_extraction.text import TfidfTransformer\n",
    "from sklearn.naive_bayes import MultinomialNB\n",
    "\n",
    "# [Choosing the right estimator — scikit\\-learn 1\\.0\\.2 documentation](https://scikit-learn.org/stable/tutorial/machine_learning_map/index.html)\n",
    "# As cheat sheet, Use LinearSVC or Naive Bayes for Text Classification.\n",
    "\n",
    "text_nb_clf = Pipeline([('vect', CountVectorizer()), ('tfidf', TfidfTransformer()), ('clf', MultinomialNB())])"
   ]
  },
  {
   "cell_type": "code",
   "execution_count": 38,
   "metadata": {},
   "outputs": [
    {
     "data": {
      "text/plain": [
       "Pipeline(steps=[('vect', CountVectorizer()), ('tfidf', TfidfTransformer()),\n",
       "                ('clf', MultinomialNB())])"
      ]
     },
     "execution_count": 38,
     "metadata": {},
     "output_type": "execute_result"
    }
   ],
   "source": [
    "text_nb_clf.fit(train['title'], train['category'])"
   ]
  },
  {
   "cell_type": "markdown",
   "metadata": {},
   "source": [
    "## 54. 正解率の計測"
   ]
  },
  {
   "cell_type": "code",
   "execution_count": 39,
   "metadata": {},
   "outputs": [
    {
     "data": {
      "text/plain": [
       "0.8816529235382309"
      ]
     },
     "execution_count": 39,
     "metadata": {},
     "output_type": "execute_result"
    }
   ],
   "source": [
    "import numpy as np\n",
    "np.mean(text_nb_clf.predict(train['title']) == train['category'])\n"
   ]
  },
  {
   "cell_type": "code",
   "execution_count": 40,
   "metadata": {},
   "outputs": [
    {
     "data": {
      "text/plain": [
       "0.8253373313343328"
      ]
     },
     "execution_count": 40,
     "metadata": {},
     "output_type": "execute_result"
    }
   ],
   "source": [
    "np.mean(text_nb_clf.predict(valid['title']) == valid['category'])"
   ]
  },
  {
   "cell_type": "markdown",
   "metadata": {},
   "source": [
    "## 55. 混同行列の作成"
   ]
  },
  {
   "cell_type": "code",
   "execution_count": 73,
   "metadata": {},
   "outputs": [
    {
     "data": {
      "text/plain": [
       "array(['b', 'e', 't', 'm'], dtype=object)"
      ]
     },
     "execution_count": 73,
     "metadata": {},
     "output_type": "execute_result"
    }
   ],
   "source": [
    "labels = valid['category'].unique()\n",
    "labels"
   ]
  },
  {
   "cell_type": "code",
   "execution_count": 74,
   "metadata": {},
   "outputs": [
    {
     "data": {
      "text/plain": [
       "array([[540,  20,   2,   0],\n",
       "       [  9, 519,   0,   0],\n",
       "       [ 83,  47,  23,   0],\n",
       "       [ 38,  34,   0,  19]])"
      ]
     },
     "execution_count": 74,
     "metadata": {},
     "output_type": "execute_result"
    }
   ],
   "source": [
    "from sklearn.metrics import confusion_matrix\n",
    "\n",
    "confusion_matrix(valid['category'], text_nb_clf.predict(valid['title']), labels=labels)\n",
    "# 混同行列は y_true に現れた順 https://stackoverflow.com/questions/63649660/how-to-know-scikit-learn-confusion-matrixs-label-order-and-change-it"
   ]
  },
  {
   "cell_type": "markdown",
   "metadata": {},
   "source": [
    "## 56. 適合率，再現率，F1スコアの計測"
   ]
  },
  {
   "cell_type": "code",
   "execution_count": 75,
   "metadata": {},
   "outputs": [
    {
     "name": "stdout",
     "output_type": "stream",
     "text": [
      "0.8253373313343328\n",
      "              precision    recall  f1-score   support\n",
      "\n",
      "           b       0.81      0.96      0.88       562\n",
      "           e       0.84      0.98      0.90       528\n",
      "           t       0.92      0.15      0.26       153\n",
      "           m       1.00      0.21      0.35        91\n",
      "\n",
      "    accuracy                           0.83      1334\n",
      "   macro avg       0.89      0.58      0.60      1334\n",
      "weighted avg       0.84      0.83      0.78      1334\n",
      "\n"
     ]
    }
   ],
   "source": [
    "from sklearn import  metrics\n",
    "\n",
    "print(metrics.accuracy_score(valid['category'], text_nb_clf.predict(valid['title'])))\n",
    "# accuracy: 正解率\n",
    "\n",
    "print(metrics.classification_report(valid['category'], text_nb_clf.predict(valid['title']), labels=labels))\n",
    "# precision: 適合率. TP / (TP + FP). FNを許容できる、つまり多少の足切りがOKな場合に使う。\n",
    "# recall: 再現率. TP / (TP + FN). FPを許容できる、つまり取りこぼしを減らしたいときに使う。\n",
    "# f1-score: F1スコア. 適合率と再現率の調和平均。つまり、適合率と再現率のどちらか一方が大きいときに、片方犠牲にしてませんか？というのを確かめるために使う。"
   ]
  },
  {
   "cell_type": "markdown",
   "metadata": {},
   "source": [
    "分析結果を見ると、m(health)とt(science and technology)のf1-scoreが低い。原因はrecallの低さだ。  \n",
    "つまり、health と science and technologyがbusinessやentertainmentに誤ってカテゴライズされている可能性がある（それらのprecision...合格者の成績優秀率...が低いことも裏付けになる。)  \n",
    "もしかして、検証データのカテゴリの数を揃えたらうまくいくのか？"
   ]
  },
  {
   "cell_type": "markdown",
   "metadata": {},
   "source": [
    "## 57. 特徴量の重みの確認"
   ]
  },
  {
   "cell_type": "code",
   "execution_count": 68,
   "metadata": {},
   "outputs": [
    {
     "data": {
      "text/plain": [
       "array([[ -9.87781835,  -9.79759664,  -9.85390126, ..., -10.17534004,\n",
       "        -10.17534004, -10.17534004],\n",
       "       [-10.14357132, -10.14357132, -10.14357132, ...,  -9.78364884,\n",
       "         -9.813382  ,  -9.79818251],\n",
       "       [ -9.61419708,  -9.61419708,  -9.61419708, ...,  -9.61419708,\n",
       "         -9.61419708,  -9.61419708],\n",
       "       [ -9.70613006,  -9.70613006,  -9.70613006, ...,  -9.70613006,\n",
       "         -9.70613006,  -9.70613006]])"
      ]
     },
     "execution_count": 68,
     "metadata": {},
     "output_type": "execute_result"
    }
   ],
   "source": [
    "clf: MultinomialNB = text_nb_clf['clf']\n",
    "# clf.coef_ # deprecated\n",
    "feature_log_prob_ = clf.feature_log_prob_\n",
    "feature_log_prob_\n",
    "\n",
    "# それぞれのfeatureにおける、それぞれのcategoryについての事前確率を求める。元々の値は 0.XXXX... だが、自然対数に変換されている。"
   ]
  },
  {
   "cell_type": "code",
   "execution_count": 48,
   "metadata": {},
   "outputs": [
    {
     "name": "stderr",
     "output_type": "stream",
     "text": [
      "/Users/hiroga/.ghq/github.com/xhiroga/til/computer-science/nlp/nlp100/.venv/lib/python3.9/site-packages/sklearn/utils/deprecation.py:103: FutureWarning: Attribute `coef_` was deprecated in version 0.24 and will be removed in 1.1 (renaming of 0.26).\n",
      "  warnings.warn(msg, category=FutureWarning)\n"
     ]
    },
    {
     "data": {
      "text/plain": [
       "(4, 12763)"
      ]
     },
     "execution_count": 48,
     "metadata": {},
     "output_type": "execute_result"
    }
   ],
   "source": [
    "clf.coef_.shape"
   ]
  },
  {
   "cell_type": "code",
   "execution_count": 65,
   "metadata": {},
   "outputs": [
    {
     "data": {
      "text/plain": [
       "numpy.ndarray"
      ]
     },
     "execution_count": 65,
     "metadata": {},
     "output_type": "execute_result"
    }
   ],
   "source": [
    "type(feature_log_prob_)"
   ]
  },
  {
   "cell_type": "code",
   "execution_count": 76,
   "metadata": {},
   "outputs": [
    {
     "data": {
      "text/plain": [
       "array(['b', 'e', 'm', 't'], dtype='<U1')"
      ]
     },
     "execution_count": 76,
     "metadata": {},
     "output_type": "execute_result"
    }
   ],
   "source": [
    "clf.classes_"
   ]
  },
  {
   "cell_type": "code",
   "execution_count": 67,
   "metadata": {},
   "outputs": [
    {
     "data": {
      "text/plain": [
       "array(['00', '08', '09', ..., 'œlousyâ', 'œpiece', 'œwaist'], dtype=object)"
      ]
     },
     "execution_count": 67,
     "metadata": {},
     "output_type": "execute_result"
    }
   ],
   "source": [
    "feature_names =  text_nb_clf[:-1].get_feature_names_out()\n",
    "feature_names"
   ]
  },
  {
   "cell_type": "code",
   "execution_count": 79,
   "metadata": {},
   "outputs": [
    {
     "data": {
      "text/html": [
       "<div>\n",
       "<style scoped>\n",
       "    .dataframe tbody tr th:only-of-type {\n",
       "        vertical-align: middle;\n",
       "    }\n",
       "\n",
       "    .dataframe tbody tr th {\n",
       "        vertical-align: top;\n",
       "    }\n",
       "\n",
       "    .dataframe thead th {\n",
       "        text-align: right;\n",
       "    }\n",
       "</style>\n",
       "<table border=\"1\" class=\"dataframe\">\n",
       "  <thead>\n",
       "    <tr style=\"text-align: right;\">\n",
       "      <th></th>\n",
       "      <th>00</th>\n",
       "      <th>08</th>\n",
       "      <th>09</th>\n",
       "      <th>10</th>\n",
       "      <th>100</th>\n",
       "      <th>1000</th>\n",
       "      <th>100000</th>\n",
       "      <th>100k</th>\n",
       "      <th>100th</th>\n",
       "      <th>101</th>\n",
       "      <th>...</th>\n",
       "      <th>zombie</th>\n",
       "      <th>zombies</th>\n",
       "      <th>zone</th>\n",
       "      <th>zoosk</th>\n",
       "      <th>zuckerberg</th>\n",
       "      <th>zynga</th>\n",
       "      <th>zâ</th>\n",
       "      <th>œlousyâ</th>\n",
       "      <th>œpiece</th>\n",
       "      <th>œwaist</th>\n",
       "    </tr>\n",
       "  </thead>\n",
       "  <tbody>\n",
       "    <tr>\n",
       "      <th>b</th>\n",
       "      <td>-9.877818</td>\n",
       "      <td>-9.797597</td>\n",
       "      <td>-9.853901</td>\n",
       "      <td>-7.625679</td>\n",
       "      <td>-8.047377</td>\n",
       "      <td>-9.435618</td>\n",
       "      <td>-9.592183</td>\n",
       "      <td>-10.175340</td>\n",
       "      <td>-10.175340</td>\n",
       "      <td>-9.549174</td>\n",
       "      <td>...</td>\n",
       "      <td>-10.175340</td>\n",
       "      <td>-9.804108</td>\n",
       "      <td>-7.313599</td>\n",
       "      <td>-9.805473</td>\n",
       "      <td>-9.874870</td>\n",
       "      <td>-9.418763</td>\n",
       "      <td>-10.175340</td>\n",
       "      <td>-10.175340</td>\n",
       "      <td>-10.175340</td>\n",
       "      <td>-10.175340</td>\n",
       "    </tr>\n",
       "    <tr>\n",
       "      <th>e</th>\n",
       "      <td>-10.143571</td>\n",
       "      <td>-10.143571</td>\n",
       "      <td>-10.143571</td>\n",
       "      <td>-8.351772</td>\n",
       "      <td>-8.790078</td>\n",
       "      <td>-9.855233</td>\n",
       "      <td>-10.143571</td>\n",
       "      <td>-9.822957</td>\n",
       "      <td>-9.820330</td>\n",
       "      <td>-10.143571</td>\n",
       "      <td>...</td>\n",
       "      <td>-10.143571</td>\n",
       "      <td>-10.143571</td>\n",
       "      <td>-10.143571</td>\n",
       "      <td>-10.143571</td>\n",
       "      <td>-10.143571</td>\n",
       "      <td>-10.143571</td>\n",
       "      <td>-9.789245</td>\n",
       "      <td>-9.783649</td>\n",
       "      <td>-9.813382</td>\n",
       "      <td>-9.798183</td>\n",
       "    </tr>\n",
       "    <tr>\n",
       "      <th>m</th>\n",
       "      <td>-9.614197</td>\n",
       "      <td>-9.614197</td>\n",
       "      <td>-9.614197</td>\n",
       "      <td>-9.127658</td>\n",
       "      <td>-8.669316</td>\n",
       "      <td>-9.111801</td>\n",
       "      <td>-9.614197</td>\n",
       "      <td>-9.614197</td>\n",
       "      <td>-9.614197</td>\n",
       "      <td>-9.614197</td>\n",
       "      <td>...</td>\n",
       "      <td>-9.614197</td>\n",
       "      <td>-9.614197</td>\n",
       "      <td>-9.386251</td>\n",
       "      <td>-9.614197</td>\n",
       "      <td>-9.614197</td>\n",
       "      <td>-9.614197</td>\n",
       "      <td>-9.614197</td>\n",
       "      <td>-9.614197</td>\n",
       "      <td>-9.614197</td>\n",
       "      <td>-9.614197</td>\n",
       "    </tr>\n",
       "    <tr>\n",
       "      <th>t</th>\n",
       "      <td>-9.706130</td>\n",
       "      <td>-9.706130</td>\n",
       "      <td>-9.706130</td>\n",
       "      <td>-8.675680</td>\n",
       "      <td>-9.460100</td>\n",
       "      <td>-9.404062</td>\n",
       "      <td>-9.378791</td>\n",
       "      <td>-9.706130</td>\n",
       "      <td>-9.706130</td>\n",
       "      <td>-9.706130</td>\n",
       "      <td>...</td>\n",
       "      <td>-9.173786</td>\n",
       "      <td>-9.706130</td>\n",
       "      <td>-9.481236</td>\n",
       "      <td>-9.706130</td>\n",
       "      <td>-8.780237</td>\n",
       "      <td>-9.706130</td>\n",
       "      <td>-9.706130</td>\n",
       "      <td>-9.706130</td>\n",
       "      <td>-9.706130</td>\n",
       "      <td>-9.706130</td>\n",
       "    </tr>\n",
       "  </tbody>\n",
       "</table>\n",
       "<p>4 rows × 12763 columns</p>\n",
       "</div>"
      ],
      "text/plain": [
       "          00         08         09        10       100      1000     100000  \\\n",
       "b  -9.877818  -9.797597  -9.853901 -7.625679 -8.047377 -9.435618  -9.592183   \n",
       "e -10.143571 -10.143571 -10.143571 -8.351772 -8.790078 -9.855233 -10.143571   \n",
       "m  -9.614197  -9.614197  -9.614197 -9.127658 -8.669316 -9.111801  -9.614197   \n",
       "t  -9.706130  -9.706130  -9.706130 -8.675680 -9.460100 -9.404062  -9.378791   \n",
       "\n",
       "        100k      100th        101  ...     zombie    zombies       zone  \\\n",
       "b -10.175340 -10.175340  -9.549174  ... -10.175340  -9.804108  -7.313599   \n",
       "e  -9.822957  -9.820330 -10.143571  ... -10.143571 -10.143571 -10.143571   \n",
       "m  -9.614197  -9.614197  -9.614197  ...  -9.614197  -9.614197  -9.386251   \n",
       "t  -9.706130  -9.706130  -9.706130  ...  -9.173786  -9.706130  -9.481236   \n",
       "\n",
       "       zoosk  zuckerberg      zynga         zâ    œlousyâ     œpiece  \\\n",
       "b  -9.805473   -9.874870  -9.418763 -10.175340 -10.175340 -10.175340   \n",
       "e -10.143571  -10.143571 -10.143571  -9.789245  -9.783649  -9.813382   \n",
       "m  -9.614197   -9.614197  -9.614197  -9.614197  -9.614197  -9.614197   \n",
       "t  -9.706130   -8.780237  -9.706130  -9.706130  -9.706130  -9.706130   \n",
       "\n",
       "      œwaist  \n",
       "b -10.175340  \n",
       "e  -9.798183  \n",
       "m  -9.614197  \n",
       "t  -9.706130  \n",
       "\n",
       "[4 rows x 12763 columns]"
      ]
     },
     "execution_count": 79,
     "metadata": {},
     "output_type": "execute_result"
    }
   ],
   "source": [
    "features_df = pd.DataFrame(feature_log_prob_, columns=feature_names, index=clf.classes_).head()\n",
    "features_df"
   ]
  },
  {
   "cell_type": "code",
   "execution_count": 80,
   "metadata": {},
   "outputs": [
    {
     "data": {
      "text/plain": [
       "<AxesSubplot:>"
      ]
     },
     "execution_count": 80,
     "metadata": {},
     "output_type": "execute_result"
    },
    {
     "data": {
      "image/png": "[encoded data removed]",
      "text/plain": [
       "<Figure size 432x288 with 2 Axes>"
      ]
     },
     "metadata": {
      "needs_background": "light"
     },
     "output_type": "display_data"
    }
   ],
   "source": [
    "import seaborn as sns\n",
    "sns.heatmap(features_df, annot=True, fmt='.2f')\n",
    "# 実行に2分かかる。 "
   ]
  },
  {
   "cell_type": "markdown",
   "metadata": {},
   "source": [
    "## 58. 正則化パラメータの変更 & 59. ハイパーパラメータの探索"
   ]
  },
  {
   "cell_type": "code",
   "execution_count": 81,
   "metadata": {},
   "outputs": [],
   "source": [
    "from sklearn.model_selection import GridSearchCV\n",
    "parameters = {\n",
    "    'vect__ngram_range': [(1, 1), (1, 2)],\n",
    "    'tfidf__use_idf': (True, False),\n",
    "    'clf__alpha': (1e-2, 1e-3),\n",
    "}\n"
   ]
  },
  {
   "cell_type": "code",
   "execution_count": 83,
   "metadata": {},
   "outputs": [],
   "source": [
    "gs_clf = GridSearchCV(text_nb_clf, parameters, cv=5, n_jobs=-1) # n_jobs=-1 means all CPUs"
   ]
  },
  {
   "cell_type": "code",
   "execution_count": 84,
   "metadata": {},
   "outputs": [],
   "source": [
    "gs_clf = gs_clf.fit(train['title'], train['category'])"
   ]
  },
  {
   "cell_type": "code",
   "execution_count": 85,
   "metadata": {},
   "outputs": [
    {
     "data": {
      "text/plain": [
       "0.9151989973859165"
      ]
     },
     "execution_count": 85,
     "metadata": {},
     "output_type": "execute_result"
    }
   ],
   "source": [
    "gs_clf.best_score_"
   ]
  },
  {
   "cell_type": "code",
   "execution_count": null,
   "metadata": {},
   "outputs": [],
   "source": []
  }
 ],
 "metadata": {
  "interpreter": {
   "hash": "9829b077c52378d5e1bc55420cf8cc5a4f9f459501a552e8de61cb75f7311e5d"
  },
  "kernelspec": {
   "display_name": "Python 3.9.9 64-bit ('.venv': venv)",
   "language": "python",
   "name": "python3"
  },
  "language_info": {
   "codemirror_mode": {
    "name": "ipython",
    "version": 3
   },
   "file_extension": ".py",
   "mimetype": "text/x-python",
   "name": "python",
   "nbconvert_exporter": "python",
   "pygments_lexer": "ipython3",
   "version": "3.9.9"
  },
  "orig_nbformat": 4
 },
 "nbformat": 4,
 "nbformat_minor": 2
}
