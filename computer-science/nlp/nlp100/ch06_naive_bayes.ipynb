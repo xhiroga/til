{
 "cells": [
  {
   "cell_type": "code",
   "execution_count": 1,
   "metadata": {},
   "outputs": [],
   "source": [
    "import pandas as pd\n"
   ]
  },
  {
   "cell_type": "code",
   "execution_count": 2,
   "metadata": {},
   "outputs": [],
   "source": [
    "df = pd.read_csv(\n",
    "    \"data/NewsAggregatorDataset/newsCorpora.csv\",\n",
    "    header=None,\n",
    "    sep=\"\\t\",\n",
    "    names=[\"id\", \"title\", \"url\", \"publisher\", \"category\", \"story\", \"hostname\", \"timestamp\"],\n",
    ")\n",
    "cols = [\"Reuters\", \"Huffington Post\", \"Businessweek\", \"Contactmusic.com\", \"Daily Mail\"]\n",
    "df = df[df[\"publisher\"].isin(cols)]\n"
   ]
  },
  {
   "cell_type": "code",
   "execution_count": 3,
   "metadata": {},
   "outputs": [
    {
     "data": {
      "text/html": [
       "<div>\n",
       "<style scoped>\n",
       "    .dataframe tbody tr th:only-of-type {\n",
       "        vertical-align: middle;\n",
       "    }\n",
       "\n",
       "    .dataframe tbody tr th {\n",
       "        vertical-align: top;\n",
       "    }\n",
       "\n",
       "    .dataframe thead th {\n",
       "        text-align: right;\n",
       "    }\n",
       "</style>\n",
       "<table border=\"1\" class=\"dataframe\">\n",
       "  <thead>\n",
       "    <tr style=\"text-align: right;\">\n",
       "      <th></th>\n",
       "      <th>id</th>\n",
       "      <th>title</th>\n",
       "      <th>url</th>\n",
       "      <th>publisher</th>\n",
       "      <th>category</th>\n",
       "      <th>story</th>\n",
       "      <th>hostname</th>\n",
       "      <th>timestamp</th>\n",
       "    </tr>\n",
       "  </thead>\n",
       "  <tbody>\n",
       "    <tr>\n",
       "      <th>0</th>\n",
       "      <td>822</td>\n",
       "      <td>GLOBAL MARKETS-World stocks, copper and oil fa...</td>\n",
       "      <td>http://in.reuters.com/article/2014/03/10/marke...</td>\n",
       "      <td>Reuters</td>\n",
       "      <td>b</td>\n",
       "      <td>dn8H6sYjpAZnsgM2qvfMRDttKqhXM</td>\n",
       "      <td>in.reuters.com</td>\n",
       "      <td>1394490293060</td>\n",
       "    </tr>\n",
       "    <tr>\n",
       "      <th>1</th>\n",
       "      <td>243226</td>\n",
       "      <td>Phil Robertson Is A Modern-Day Prophet Akin To...</td>\n",
       "      <td>http://www.huffingtonpost.com/2014/05/23/phil-...</td>\n",
       "      <td>Huffington Post</td>\n",
       "      <td>e</td>\n",
       "      <td>dWycSTQ-r2QSfRMaSLcJbYR8u3xeM</td>\n",
       "      <td>www.huffingtonpost.com</td>\n",
       "      <td>1400876539212</td>\n",
       "    </tr>\n",
       "    <tr>\n",
       "      <th>2</th>\n",
       "      <td>352577</td>\n",
       "      <td>Beyonce Changes Lyrics To 'Resentment,' Intern...</td>\n",
       "      <td>http://www.huffingtonpost.com/2014/07/02/beyon...</td>\n",
       "      <td>Huffington Post</td>\n",
       "      <td>e</td>\n",
       "      <td>dITwFC605fYT0CM7vjCojyB27rL4M</td>\n",
       "      <td>www.huffingtonpost.com</td>\n",
       "      <td>1404403216532</td>\n",
       "    </tr>\n",
       "    <tr>\n",
       "      <th>3</th>\n",
       "      <td>73971</td>\n",
       "      <td>Apple-Samsung Jury Is Seated in Patent Trial i...</td>\n",
       "      <td>http://www.businessweek.com/news/2014-03-31/ap...</td>\n",
       "      <td>Businessweek</td>\n",
       "      <td>t</td>\n",
       "      <td>dh64qhIU4xsjuWM2ePux8Jlw-c2JM</td>\n",
       "      <td>www.businessweek.com</td>\n",
       "      <td>1396346573625</td>\n",
       "    </tr>\n",
       "    <tr>\n",
       "      <th>4</th>\n",
       "      <td>293409</td>\n",
       "      <td>Pucker up! Daddy's girl Nicole Kidman plays th...</td>\n",
       "      <td>http://www.dailymail.co.uk/tvshowbiz/article-2...</td>\n",
       "      <td>Daily Mail</td>\n",
       "      <td>e</td>\n",
       "      <td>dtbVc8ZNz17etAMR19iaXK0PzVoNM</td>\n",
       "      <td>www.dailymail.co.uk</td>\n",
       "      <td>1402954444732</td>\n",
       "    </tr>\n",
       "  </tbody>\n",
       "</table>\n",
       "</div>"
      ],
      "text/plain": [
       "       id                                              title  \\\n",
       "0     822  GLOBAL MARKETS-World stocks, copper and oil fa...   \n",
       "1  243226  Phil Robertson Is A Modern-Day Prophet Akin To...   \n",
       "2  352577  Beyonce Changes Lyrics To 'Resentment,' Intern...   \n",
       "3   73971  Apple-Samsung Jury Is Seated in Patent Trial i...   \n",
       "4  293409  Pucker up! Daddy's girl Nicole Kidman plays th...   \n",
       "\n",
       "                                                 url        publisher  \\\n",
       "0  http://in.reuters.com/article/2014/03/10/marke...          Reuters   \n",
       "1  http://www.huffingtonpost.com/2014/05/23/phil-...  Huffington Post   \n",
       "2  http://www.huffingtonpost.com/2014/07/02/beyon...  Huffington Post   \n",
       "3  http://www.businessweek.com/news/2014-03-31/ap...     Businessweek   \n",
       "4  http://www.dailymail.co.uk/tvshowbiz/article-2...       Daily Mail   \n",
       "\n",
       "  category                          story                hostname  \\\n",
       "0        b  dn8H6sYjpAZnsgM2qvfMRDttKqhXM          in.reuters.com   \n",
       "1        e  dWycSTQ-r2QSfRMaSLcJbYR8u3xeM  www.huffingtonpost.com   \n",
       "2        e  dITwFC605fYT0CM7vjCojyB27rL4M  www.huffingtonpost.com   \n",
       "3        t  dh64qhIU4xsjuWM2ePux8Jlw-c2JM    www.businessweek.com   \n",
       "4        e  dtbVc8ZNz17etAMR19iaXK0PzVoNM     www.dailymail.co.uk   \n",
       "\n",
       "       timestamp  \n",
       "0  1394490293060  \n",
       "1  1400876539212  \n",
       "2  1404403216532  \n",
       "3  1396346573625  \n",
       "4  1402954444732  "
      ]
     },
     "execution_count": 3,
     "metadata": {},
     "output_type": "execute_result"
    }
   ],
   "source": [
    "df = df.sample(frac=1).reset_index(drop=True)\n",
    "df.head()\n"
   ]
  },
  {
   "cell_type": "markdown",
   "metadata": {},
   "source": [
    "(b = business, t = science and technology, e = entertainment, m = health)"
   ]
  },
  {
   "cell_type": "code",
   "execution_count": 4,
   "metadata": {},
   "outputs": [
    {
     "data": {
      "text/plain": [
       "(13340, 8)"
      ]
     },
     "execution_count": 4,
     "metadata": {},
     "output_type": "execute_result"
    }
   ],
   "source": [
    "df.shape\n"
   ]
  },
  {
   "cell_type": "markdown",
   "metadata": {},
   "source": [
    "## 51. 特徴量抽出"
   ]
  },
  {
   "cell_type": "code",
   "execution_count": 5,
   "metadata": {},
   "outputs": [],
   "source": [
    "from sklearn.model_selection import train_test_split\n",
    "\n",
    "train, rest = train_test_split(df, test_size=0.2, random_state=42, stratify=df[\"category\"])\n",
    "valid, test = train_test_split(rest, test_size=0.5, random_state=42, stratify=rest[\"category\"])\n"
   ]
  },
  {
   "cell_type": "markdown",
   "metadata": {},
   "source": [
    "## 52. 学習, 53. 予測"
   ]
  },
  {
   "cell_type": "code",
   "execution_count": 6,
   "metadata": {},
   "outputs": [],
   "source": [
    "from sklearn.feature_extraction.text import CountVectorizer, TfidfTransformer\n",
    "from sklearn.naive_bayes import MultinomialNB\n",
    "from sklearn.pipeline import Pipeline\n",
    "\n",
    "# [Choosing the right estimator — scikit\\-learn 1\\.0\\.2 documentation](https://scikit-learn.org/stable/tutorial/machine_learning_map/index.html)\n",
    "# As cheat sheet, Use LinearSVC or Naive Bayes for Text Classification.\n",
    "\n",
    "text_nb_clf = Pipeline([(\"vect\", CountVectorizer()), (\"tfidf\", TfidfTransformer()), (\"clf\", MultinomialNB())])\n"
   ]
  },
  {
   "cell_type": "code",
   "execution_count": 7,
   "metadata": {},
   "outputs": [
    {
     "data": {
      "text/plain": [
       "Pipeline(steps=[('vect', CountVectorizer()), ('tfidf', TfidfTransformer()),\n",
       "                ('clf', MultinomialNB())])"
      ]
     },
     "execution_count": 7,
     "metadata": {},
     "output_type": "execute_result"
    }
   ],
   "source": [
    "text_nb_clf.fit(train[\"title\"], train[\"category\"])\n"
   ]
  },
  {
   "cell_type": "markdown",
   "metadata": {},
   "source": [
    "## 54. 正解率の計測"
   ]
  },
  {
   "cell_type": "code",
   "execution_count": 8,
   "metadata": {},
   "outputs": [
    {
     "data": {
      "text/plain": [
       "0.8794977511244377"
      ]
     },
     "execution_count": 8,
     "metadata": {},
     "output_type": "execute_result"
    }
   ],
   "source": [
    "import numpy as np\n",
    "\n",
    "np.mean(text_nb_clf.predict(train[\"title\"]) == train[\"category\"])\n"
   ]
  },
  {
   "cell_type": "code",
   "execution_count": 9,
   "metadata": {},
   "outputs": [
    {
     "data": {
      "text/plain": [
       "0.841079460269865"
      ]
     },
     "execution_count": 9,
     "metadata": {},
     "output_type": "execute_result"
    }
   ],
   "source": [
    "np.mean(text_nb_clf.predict(valid[\"title\"]) == valid[\"category\"])\n"
   ]
  },
  {
   "cell_type": "markdown",
   "metadata": {},
   "source": [
    "## 55. 混同行列の作成"
   ]
  },
  {
   "cell_type": "code",
   "execution_count": 10,
   "metadata": {},
   "outputs": [
    {
     "data": {
      "text/plain": [
       "array(['b', 'e', 't', 'm'], dtype=object)"
      ]
     },
     "execution_count": 10,
     "metadata": {},
     "output_type": "execute_result"
    }
   ],
   "source": [
    "labels = valid[\"category\"].unique()\n",
    "labels\n"
   ]
  },
  {
   "cell_type": "code",
   "execution_count": 11,
   "metadata": {},
   "outputs": [
    {
     "data": {
      "text/plain": [
       "array([[544,  18,   0,   0],\n",
       "       [  5, 523,   0,   0],\n",
       "       [ 67,  44,  42,   0],\n",
       "       [ 38,  39,   1,  13]])"
      ]
     },
     "execution_count": 11,
     "metadata": {},
     "output_type": "execute_result"
    }
   ],
   "source": [
    "from sklearn.metrics import confusion_matrix\n",
    "\n",
    "confusion_matrix(valid[\"category\"], text_nb_clf.predict(valid[\"title\"]), labels=labels)\n",
    "# 混同行列は y_true に現れた順 https://stackoverflow.com/questions/63649660/how-to-know-scikit-learn-confusion-matrixs-label-order-and-change-it\n"
   ]
  },
  {
   "cell_type": "markdown",
   "metadata": {},
   "source": [
    "## 56. 適合率，再現率，F1スコアの計測"
   ]
  },
  {
   "cell_type": "code",
   "execution_count": 12,
   "metadata": {},
   "outputs": [
    {
     "name": "stdout",
     "output_type": "stream",
     "text": [
      "0.841079460269865\n",
      "              precision    recall  f1-score   support\n",
      "\n",
      "           b       0.83      0.97      0.89       562\n",
      "           e       0.84      0.99      0.91       528\n",
      "           t       0.98      0.27      0.43       153\n",
      "           m       1.00      0.14      0.25        91\n",
      "\n",
      "    accuracy                           0.84      1334\n",
      "   macro avg       0.91      0.59      0.62      1334\n",
      "weighted avg       0.86      0.84      0.80      1334\n",
      "\n"
     ]
    }
   ],
   "source": [
    "from sklearn import metrics\n",
    "\n",
    "print(metrics.accuracy_score(valid[\"category\"], text_nb_clf.predict(valid[\"title\"])))\n",
    "# accuracy: 正解率\n",
    "\n",
    "print(metrics.classification_report(valid[\"category\"], text_nb_clf.predict(valid[\"title\"]), labels=labels))\n",
    "# precision: 適合率. TP / (TP + FP). FNを許容できる、つまり多少の足切りがOKな場合に使う。\n",
    "# recall: 再現率. TP / (TP + FN). FPを許容できる、つまり取りこぼしを減らしたいときに使う。\n",
    "# f1-score: F1スコア. 適合率と再現率の調和平均。つまり、適合率と再現率のどちらか一方が大きいときに、片方犠牲にしてませんか？というのを確かめるために使う。\n"
   ]
  },
  {
   "cell_type": "markdown",
   "metadata": {},
   "source": [
    "分析結果を見ると、m(health)とt(science and technology)のf1-scoreが低い。原因はrecallの低さだ。  \n",
    "つまり、health と science and technologyがbusinessやentertainmentに誤ってカテゴライズされている可能性がある（それらのprecision...合格者の成績優秀率...が低いことも裏付けになる。)  \n",
    "もしかして、検証データのカテゴリの数を揃えたらうまくいくのか？"
   ]
  },
  {
   "cell_type": "markdown",
   "metadata": {},
   "source": [
    "## 57. 特徴量の重みの確認"
   ]
  },
  {
   "cell_type": "code",
   "execution_count": 13,
   "metadata": {},
   "outputs": [
    {
     "data": {
      "text/plain": [
       "array([[ -9.66390573,  -9.84145788,  -9.79903366, ..., -10.17741708,\n",
       "        -10.17741708, -10.17741708],\n",
       "       [-10.14486092, -10.14486092, -10.14486092, ...,  -9.78548793,\n",
       "         -9.81401107,  -9.79927393],\n",
       "       [ -9.61751889,  -9.61751889,  -9.61751889, ...,  -9.61751889,\n",
       "         -9.61751889,  -9.61751889],\n",
       "       [ -9.70939119,  -9.70939119,  -9.70939119, ...,  -9.70939119,\n",
       "         -9.70939119,  -9.70939119]])"
      ]
     },
     "execution_count": 13,
     "metadata": {},
     "output_type": "execute_result"
    }
   ],
   "source": [
    "clf: MultinomialNB = text_nb_clf[\"clf\"]\n",
    "# clf.coef_ # deprecated\n",
    "feature_log_prob_ = clf.feature_log_prob_\n",
    "feature_log_prob_\n",
    "\n",
    "# それぞれのfeatureにおける、それぞれのcategoryについての事前確率を求める。元々の値は 0.XXXX... だが、自然対数に変換されている。\n"
   ]
  },
  {
   "cell_type": "code",
   "execution_count": 14,
   "metadata": {},
   "outputs": [
    {
     "name": "stderr",
     "output_type": "stream",
     "text": [
      "/Users/hiroga/.ghq/github.com/xhiroga/til/computer-science/nlp/nlp100/.venv/lib/python3.9/site-packages/sklearn/utils/deprecation.py:103: FutureWarning: Attribute `coef_` was deprecated in version 0.24 and will be removed in 1.1 (renaming of 0.26).\n",
      "  warnings.warn(msg, category=FutureWarning)\n"
     ]
    },
    {
     "data": {
      "text/plain": [
       "(4, 12810)"
      ]
     },
     "execution_count": 14,
     "metadata": {},
     "output_type": "execute_result"
    }
   ],
   "source": [
    "clf.coef_.shape\n"
   ]
  },
  {
   "cell_type": "code",
   "execution_count": 15,
   "metadata": {},
   "outputs": [
    {
     "data": {
      "text/plain": [
       "numpy.ndarray"
      ]
     },
     "execution_count": 15,
     "metadata": {},
     "output_type": "execute_result"
    }
   ],
   "source": [
    "type(feature_log_prob_)\n"
   ]
  },
  {
   "cell_type": "code",
   "execution_count": 16,
   "metadata": {},
   "outputs": [
    {
     "data": {
      "text/plain": [
       "array(['b', 'e', 'm', 't'], dtype='<U1')"
      ]
     },
     "execution_count": 16,
     "metadata": {},
     "output_type": "execute_result"
    }
   ],
   "source": [
    "clf.classes_\n"
   ]
  },
  {
   "cell_type": "code",
   "execution_count": 17,
   "metadata": {},
   "outputs": [
    {
     "data": {
      "text/plain": [
       "array(['00', '07', '08', ..., 'œlousyâ', 'œpiece', 'œwaist'], dtype=object)"
      ]
     },
     "execution_count": 17,
     "metadata": {},
     "output_type": "execute_result"
    }
   ],
   "source": [
    "feature_names = text_nb_clf[:-1].get_feature_names_out()\n",
    "feature_names\n"
   ]
  },
  {
   "cell_type": "code",
   "execution_count": 18,
   "metadata": {},
   "outputs": [
    {
     "data": {
      "text/html": [
       "<div>\n",
       "<style scoped>\n",
       "    .dataframe tbody tr th:only-of-type {\n",
       "        vertical-align: middle;\n",
       "    }\n",
       "\n",
       "    .dataframe tbody tr th {\n",
       "        vertical-align: top;\n",
       "    }\n",
       "\n",
       "    .dataframe thead th {\n",
       "        text-align: right;\n",
       "    }\n",
       "</style>\n",
       "<table border=\"1\" class=\"dataframe\">\n",
       "  <thead>\n",
       "    <tr style=\"text-align: right;\">\n",
       "      <th></th>\n",
       "      <th>00</th>\n",
       "      <th>07</th>\n",
       "      <th>08</th>\n",
       "      <th>09</th>\n",
       "      <th>0ff</th>\n",
       "      <th>0ut</th>\n",
       "      <th>10</th>\n",
       "      <th>100</th>\n",
       "      <th>1000</th>\n",
       "      <th>10000</th>\n",
       "      <th>...</th>\n",
       "      <th>zombies</th>\n",
       "      <th>zone</th>\n",
       "      <th>zooey</th>\n",
       "      <th>zoosk</th>\n",
       "      <th>zuckerberg</th>\n",
       "      <th>zynga</th>\n",
       "      <th>œf</th>\n",
       "      <th>œlousyâ</th>\n",
       "      <th>œpiece</th>\n",
       "      <th>œwaist</th>\n",
       "    </tr>\n",
       "  </thead>\n",
       "  <tbody>\n",
       "    <tr>\n",
       "      <th>b</th>\n",
       "      <td>-9.663906</td>\n",
       "      <td>-9.841458</td>\n",
       "      <td>-9.799034</td>\n",
       "      <td>-9.856387</td>\n",
       "      <td>-10.177417</td>\n",
       "      <td>-9.833884</td>\n",
       "      <td>-7.592240</td>\n",
       "      <td>-8.282525</td>\n",
       "      <td>-9.429783</td>\n",
       "      <td>-10.177417</td>\n",
       "      <td>...</td>\n",
       "      <td>-9.807179</td>\n",
       "      <td>-7.456849</td>\n",
       "      <td>-10.177417</td>\n",
       "      <td>-9.810089</td>\n",
       "      <td>-10.177417</td>\n",
       "      <td>-9.601588</td>\n",
       "      <td>-10.177417</td>\n",
       "      <td>-10.177417</td>\n",
       "      <td>-10.177417</td>\n",
       "      <td>-10.177417</td>\n",
       "    </tr>\n",
       "    <tr>\n",
       "      <th>e</th>\n",
       "      <td>-10.144861</td>\n",
       "      <td>-10.144861</td>\n",
       "      <td>-10.144861</td>\n",
       "      <td>-10.144861</td>\n",
       "      <td>-9.819477</td>\n",
       "      <td>-10.144861</td>\n",
       "      <td>-8.214506</td>\n",
       "      <td>-8.741159</td>\n",
       "      <td>-10.144861</td>\n",
       "      <td>-10.144861</td>\n",
       "      <td>...</td>\n",
       "      <td>-10.144861</td>\n",
       "      <td>-10.144861</td>\n",
       "      <td>-9.810165</td>\n",
       "      <td>-10.144861</td>\n",
       "      <td>-10.144861</td>\n",
       "      <td>-10.144861</td>\n",
       "      <td>-9.830686</td>\n",
       "      <td>-9.785488</td>\n",
       "      <td>-9.814011</td>\n",
       "      <td>-9.799274</td>\n",
       "    </tr>\n",
       "    <tr>\n",
       "      <th>m</th>\n",
       "      <td>-9.617519</td>\n",
       "      <td>-9.617519</td>\n",
       "      <td>-9.617519</td>\n",
       "      <td>-9.617519</td>\n",
       "      <td>-9.617519</td>\n",
       "      <td>-9.617519</td>\n",
       "      <td>-8.927160</td>\n",
       "      <td>-8.707421</td>\n",
       "      <td>-9.107889</td>\n",
       "      <td>-9.617519</td>\n",
       "      <td>...</td>\n",
       "      <td>-9.617519</td>\n",
       "      <td>-9.387898</td>\n",
       "      <td>-9.617519</td>\n",
       "      <td>-9.617519</td>\n",
       "      <td>-9.617519</td>\n",
       "      <td>-9.617519</td>\n",
       "      <td>-9.617519</td>\n",
       "      <td>-9.617519</td>\n",
       "      <td>-9.617519</td>\n",
       "      <td>-9.617519</td>\n",
       "    </tr>\n",
       "    <tr>\n",
       "      <th>t</th>\n",
       "      <td>-9.709391</td>\n",
       "      <td>-9.709391</td>\n",
       "      <td>-9.709391</td>\n",
       "      <td>-9.709391</td>\n",
       "      <td>-9.709391</td>\n",
       "      <td>-9.709391</td>\n",
       "      <td>-8.836892</td>\n",
       "      <td>-9.230319</td>\n",
       "      <td>-9.401655</td>\n",
       "      <td>-9.387534</td>\n",
       "      <td>...</td>\n",
       "      <td>-9.709391</td>\n",
       "      <td>-9.479985</td>\n",
       "      <td>-9.709391</td>\n",
       "      <td>-9.709391</td>\n",
       "      <td>-8.934037</td>\n",
       "      <td>-9.709391</td>\n",
       "      <td>-9.709391</td>\n",
       "      <td>-9.709391</td>\n",
       "      <td>-9.709391</td>\n",
       "      <td>-9.709391</td>\n",
       "    </tr>\n",
       "  </tbody>\n",
       "</table>\n",
       "<p>4 rows × 12810 columns</p>\n",
       "</div>"
      ],
      "text/plain": [
       "          00         07         08         09        0ff        0ut        10  \\\n",
       "b  -9.663906  -9.841458  -9.799034  -9.856387 -10.177417  -9.833884 -7.592240   \n",
       "e -10.144861 -10.144861 -10.144861 -10.144861  -9.819477 -10.144861 -8.214506   \n",
       "m  -9.617519  -9.617519  -9.617519  -9.617519  -9.617519  -9.617519 -8.927160   \n",
       "t  -9.709391  -9.709391  -9.709391  -9.709391  -9.709391  -9.709391 -8.836892   \n",
       "\n",
       "        100       1000      10000  ...    zombies       zone      zooey  \\\n",
       "b -8.282525  -9.429783 -10.177417  ...  -9.807179  -7.456849 -10.177417   \n",
       "e -8.741159 -10.144861 -10.144861  ... -10.144861 -10.144861  -9.810165   \n",
       "m -8.707421  -9.107889  -9.617519  ...  -9.617519  -9.387898  -9.617519   \n",
       "t -9.230319  -9.401655  -9.387534  ...  -9.709391  -9.479985  -9.709391   \n",
       "\n",
       "       zoosk  zuckerberg      zynga         œf    œlousyâ     œpiece  \\\n",
       "b  -9.810089  -10.177417  -9.601588 -10.177417 -10.177417 -10.177417   \n",
       "e -10.144861  -10.144861 -10.144861  -9.830686  -9.785488  -9.814011   \n",
       "m  -9.617519   -9.617519  -9.617519  -9.617519  -9.617519  -9.617519   \n",
       "t  -9.709391   -8.934037  -9.709391  -9.709391  -9.709391  -9.709391   \n",
       "\n",
       "      œwaist  \n",
       "b -10.177417  \n",
       "e  -9.799274  \n",
       "m  -9.617519  \n",
       "t  -9.709391  \n",
       "\n",
       "[4 rows x 12810 columns]"
      ]
     },
     "execution_count": 18,
     "metadata": {},
     "output_type": "execute_result"
    }
   ],
   "source": [
    "features_df = pd.DataFrame(feature_log_prob_, columns=feature_names, index=clf.classes_).head()\n",
    "features_df\n"
   ]
  },
  {
   "cell_type": "code",
   "execution_count": 19,
   "metadata": {},
   "outputs": [
    {
     "data": {
      "text/plain": [
       "<AxesSubplot:>"
      ]
     },
     "execution_count": 19,
     "metadata": {},
     "output_type": "execute_result"
    },
    {
     "data": {
      "image/png": "[encoded data removed]",
      "text/plain": [
       "<Figure size 432x288 with 2 Axes>"
      ]
     },
     "metadata": {
      "needs_background": "light"
     },
     "output_type": "display_data"
    }
   ],
   "source": [
    "import seaborn as sns\n",
    "\n",
    "sns.heatmap(features_df, annot=True, fmt=\".2f\")\n",
    "# 実行に2分かかる。\n"
   ]
  },
  {
   "cell_type": "markdown",
   "metadata": {},
   "source": [
    "## 58. 正則化パラメータの変更 & 59. ハイパーパラメータの探索"
   ]
  },
  {
   "cell_type": "code",
   "execution_count": 20,
   "metadata": {},
   "outputs": [],
   "source": [
    "from sklearn.model_selection import GridSearchCV\n",
    "\n",
    "parameters = {\n",
    "    \"vect__ngram_range\": [(1, 1), (1, 2)],\n",
    "    \"tfidf__use_idf\": (True, False),\n",
    "    \"clf__alpha\": (1e-2, 1e-3),\n",
    "}\n"
   ]
  },
  {
   "cell_type": "code",
   "execution_count": 21,
   "metadata": {},
   "outputs": [],
   "source": [
    "gs_clf = GridSearchCV(text_nb_clf, parameters, cv=5, n_jobs=-1)  # n_jobs=-1 means all CPUs\n"
   ]
  },
  {
   "cell_type": "code",
   "execution_count": 22,
   "metadata": {},
   "outputs": [],
   "source": [
    "gs_clf = gs_clf.fit(train[\"title\"], train[\"category\"])\n"
   ]
  },
  {
   "cell_type": "code",
   "execution_count": 23,
   "metadata": {},
   "outputs": [
    {
     "data": {
      "text/plain": [
       "0.9133239246810314"
      ]
     },
     "execution_count": 23,
     "metadata": {},
     "output_type": "execute_result"
    }
   ],
   "source": [
    "gs_clf.best_score_\n"
   ]
  },
  {
   "cell_type": "code",
   "execution_count": null,
   "metadata": {},
   "outputs": [],
   "source": [
    "gs_clf != None\n"
   ]
  }
 ],
 "metadata": {
  "interpreter": {
   "hash": "9829b077c52378d5e1bc55420cf8cc5a4f9f459501a552e8de61cb75f7311e5d"
  },
  "kernelspec": {
   "display_name": "Python 3.9.9 64-bit ('.venv': venv)",
   "language": "python",
   "name": "python3"
  },
  "language_info": {
   "codemirror_mode": {
    "name": "ipython",
    "version": 3
   },
   "file_extension": ".py",
   "mimetype": "text/x-python",
   "name": "python",
   "nbconvert_exporter": "python",
   "pygments_lexer": "ipython3",
   "version": "3.9.9"
  },
  "orig_nbformat": 4
 },
 "nbformat": 4,
 "nbformat_minor": 2
}
