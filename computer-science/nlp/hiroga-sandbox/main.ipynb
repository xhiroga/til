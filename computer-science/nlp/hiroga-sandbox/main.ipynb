{
 "cells": [
  {
   "cell_type": "code",
   "execution_count": null,
   "metadata": {},
   "outputs": [],
   "source": []
  },
  {
   "cell_type": "code",
   "execution_count": null,
   "metadata": {},
   "outputs": [],
   "source": [
    "# ③ルールベースによる処理\n",
    "rures = [\n",
    "    # 名詞と用言の連続\n",
    "    # 同じ助詞の連続\n",
    "    # 助詞「を」が2つ以上含まれる\n",
    "    # 隣接できない助詞を使用\n",
    "]\n",
    "\n",
    "\n",
    "def rule_base():"
   ]
  },
  {
   "cell_type": "code",
   "execution_count": null,
   "metadata": {},
   "outputs": [],
   "source": [
    "# ④格フレーム照合処理\n",
    "\n",
    "\n"
   ]
  }
 ],
 "metadata": {
  "language_info": {
   "name": "python"
  },
  "orig_nbformat": 4
 },
 "nbformat": 4,
 "nbformat_minor": 2
}
