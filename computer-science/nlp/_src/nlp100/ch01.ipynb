{
 "cells": [
  {
   "cell_type": "code",
   "execution_count": 42,
   "metadata": {},
   "outputs": [
    {
     "name": "stdout",
     "output_type": "stream",
     "text": [
      "desserts\n"
     ]
    }
   ],
   "source": [
    "# 00. 文字列の逆順\n",
    "print(\"stressed\"[::-1])"
   ]
  },
  {
   "cell_type": "code",
   "execution_count": 43,
   "metadata": {},
   "outputs": [
    {
     "data": {
      "text/plain": [
       "['パ', 'ト', 'カ', 'ー']"
      ]
     },
     "execution_count": 43,
     "metadata": {},
     "output_type": "execute_result"
    }
   ],
   "source": [
    "# 01. 「パタトクカシーー」\n",
    "txt = \"パタトクカシー\"\n",
    "[t for i, t in enumerate(txt) if i%2 == 0]"
   ]
  },
  {
   "cell_type": "code",
   "execution_count": 44,
   "metadata": {},
   "outputs": [
    {
     "data": {
      "text/plain": [
       "['パタ', 'トク', 'カシ', 'ーー']"
      ]
     },
     "execution_count": 44,
     "metadata": {},
     "output_type": "execute_result"
    }
   ],
   "source": [
    "# 02. 「パトカー」＋「タクシー」＝「パタトクカシーー」\n",
    "txt1 = \"パトカー\"\n",
    "txt2 = \"タクシー\"\n",
    "[t1+t2 for t1, t2 in zip(txt1, txt2)]"
   ]
  },
  {
   "cell_type": "code",
   "execution_count": 45,
   "metadata": {},
   "outputs": [
    {
     "data": {
      "text/plain": [
       "[3, 1, 4, 1, 6, 9, 2, 7, 5, 3, 5, 8, 9, 7, 9]"
      ]
     },
     "execution_count": 45,
     "metadata": {},
     "output_type": "execute_result"
    }
   ],
   "source": [
    "# 03. 円周率\n",
    "txt = \"Now I need a drink, alcoholic of course, after the heavy lectures involving quantum mechanics.\"\n",
    "[len(t) for t in txt.replace(\".\", \"\").split(\" \")]"
   ]
  },
  {
   "cell_type": "code",
   "execution_count": 46,
   "metadata": {},
   "outputs": [
    {
     "data": {
      "text/plain": [
       "['Hi',\n",
       " 'H',\n",
       " 'Li',\n",
       " 'Be',\n",
       " 'Bo',\n",
       " 'C',\n",
       " 'N',\n",
       " 'O',\n",
       " 'F',\n",
       " 'N',\n",
       " 'Na',\n",
       " 'Mi',\n",
       " 'Al',\n",
       " 'Si',\n",
       " 'Pe',\n",
       " 'S',\n",
       " 'C',\n",
       " 'Ar',\n",
       " 'Ki',\n",
       " 'C']"
      ]
     },
     "execution_count": 46,
     "metadata": {},
     "output_type": "execute_result"
    }
   ],
   "source": [
    "# 04. 元素記号\n",
    "txt = \"Hi He Lied Because Boron Could Not Oxidize Fluorine. New Nations Might Also Sign Peace Security Clause. Arthur King Can.\"\n",
    "[t[0] if i in [1, 5, 6, 7, 8, 9, 15, 16, 19] else t[:2] for i, t in enumerate(txt.replace(\".\", \"\").split(\" \"))]"
   ]
  },
  {
   "cell_type": "code",
   "execution_count": 47,
   "metadata": {},
   "outputs": [
    {
     "data": {
      "text/plain": [
       "['Iam', 'aman', 'anNLPer']"
      ]
     },
     "execution_count": 47,
     "metadata": {},
     "output_type": "execute_result"
    }
   ],
   "source": [
    "# 05. n-gram\n",
    "txt = \"I am an NLPer\"\n",
    "words = txt.split(\" \")\n",
    "def nGram(words, n):\n",
    "    return [\"\".join(words[i:i+n]) for i in range(len(words)-n+1)]\n",
    "\n",
    "nGram(txt, 2)\n",
    "nGram(words, 2)\n",
    "\n",
    "# [N\\-gramの作り方 \\- Qiita](https://qiita.com/kazmaw/items/4df328cba6429ec210fb)"
   ]
  },
  {
   "cell_type": "code",
   "execution_count": 54,
   "metadata": {},
   "outputs": [
    {
     "name": "stdout",
     "output_type": "stream",
     "text": [
      "se is not in y\n"
     ]
    }
   ],
   "source": [
    "# 06. 集合\n",
    "txt = \"paraparaparadise\"\n",
    "txt2 = \"paragraph\"\n",
    "\n",
    "x = nGram(txt, 2)\n",
    "y = nGram(txt2, 2)\n",
    "\n",
    "union = set(x) | set(y)\n",
    "intersection = set(x) & set(y)\n",
    "difference = set(x) - set(y)\n",
    "\n",
    "\"se\" in x or print(\"se is not in x\")\n",
    "\"se\" in y or print(\"se is not in y\")"
   ]
  },
  {
   "cell_type": "code",
   "execution_count": 55,
   "metadata": {},
   "outputs": [
    {
     "data": {
      "text/plain": [
       "'12時の気温は22.4'"
      ]
     },
     "execution_count": 55,
     "metadata": {},
     "output_type": "execute_result"
    }
   ],
   "source": [
    "# 07. テンプレートによる文生成\n",
    "def template(x,y,z):\n",
    "    return \"{}時の{}は{}\".format(x,y,z)\n",
    "\n",
    "template(12, \"気温\", 22.4)"
   ]
  },
  {
   "cell_type": "code",
   "execution_count": 7,
   "metadata": {},
   "outputs": [
    {
     "data": {
      "text/plain": [
       "'I zn zm NLPvi'"
      ]
     },
     "execution_count": 7,
     "metadata": {},
     "output_type": "execute_result"
    }
   ],
   "source": [
    "# 08. 暗号文\n",
    "def encrypt(t):\n",
    "    return chr(219 - ord(t))\n",
    "\n",
    "def cipher(txt):\n",
    "    return \"\".join([encrypt(t) if t.islower() else t for t in txt])\n",
    "\n",
    "cipher(\"I am an NLPer\")"
   ]
  },
  {
   "cell_type": "code",
   "execution_count": 9,
   "metadata": {},
   "outputs": [
    {
     "data": {
      "text/plain": [
       "\"I cdnol'ut bveleie that I culod atlacluy usdrtnenad what I was rindeag : the peonemhnal pwoer of the haumn mind .\""
      ]
     },
     "execution_count": 9,
     "metadata": {},
     "output_type": "execute_result"
    }
   ],
   "source": [
    "# 09. Typoglycemia\n",
    "import random\n",
    "\n",
    "def shuffleInside(txt):\n",
    "    return txt[0] + \"\".join(random.sample(txt[1:-1], len(txt[1:-1]))) + txt[-1]\n",
    "\n",
    "def typoglycemia(txt):\n",
    "    return \" \".join([shuffleInside(t) if len(t) > 4 else t for t in txt.split(\" \")])\n",
    "\n",
    "txt = \"I couldn't believe that I could actually understand what I was reading : the phenomenal power of the human mind .\"\n",
    "typoglycemia(txt)"
   ]
  }
 ],
 "metadata": {
  "interpreter": {
   "hash": "9829b077c52378d5e1bc55420cf8cc5a4f9f459501a552e8de61cb75f7311e5d"
  },
  "kernelspec": {
   "display_name": "Python 3.9.9 64-bit ('.venv': venv)",
   "language": "python",
   "name": "python3"
  },
  "language_info": {
   "codemirror_mode": {
    "name": "ipython",
    "version": 3
   },
   "file_extension": ".py",
   "mimetype": "text/x-python",
   "name": "python",
   "nbconvert_exporter": "python",
   "pygments_lexer": "ipython3",
   "version": "3.9.9"
  },
  "orig_nbformat": 4
 },
 "nbformat": 4,
 "nbformat_minor": 2
}
