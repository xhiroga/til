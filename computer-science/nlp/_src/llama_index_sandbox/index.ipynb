{
 "cells": [
  {
   "cell_type": "code",
   "execution_count": 3,
   "metadata": {},
   "outputs": [],
   "source": [
    "from llama_index import SimpleWebPageReader\n",
    "\n",
    "documents = SimpleWebPageReader().load_data([\n",
    "    \"https://www.pokemon.co.jp/ex/sv/ja/pokemon/220601_04/\"\n",
    "])"
   ]
  },
  {
   "cell_type": "code",
   "execution_count": 4,
   "metadata": {},
   "outputs": [
    {
     "name": "stderr",
     "output_type": "stream",
     "text": [
      "INFO:llama_index.token_counter.token_counter:> [build_index_from_nodes] Total LLM token usage: 0 tokens\n",
      "INFO:llama_index.token_counter.token_counter:> [build_index_from_nodes] Total embedding token usage: 749631 tokens\n"
     ]
    }
   ],
   "source": [
    "from llama_index import GPTSimpleVectorIndex\n",
    "\n",
    "simple_index = GPTSimpleVectorIndex.from_documents(documents)\n",
    "simple_index.save_to_disk('tmp/pokemon.simple_index.json')"
   ]
  },
  {
   "cell_type": "code",
   "execution_count": 5,
   "metadata": {},
   "outputs": [
    {
     "name": "stderr",
     "output_type": "stream",
     "text": [
      "INFO:llama_index.indices.common_tree.base:> Building index from nodes: 20 chunks\n",
      "INFO:openai:error_code=None error_message='Request failed due to server shutdown' error_param=None error_type=server_error message='OpenAI API error received' stream_error=False\n",
      "WARNING:langchain.llms.openai:Retrying langchain.llms.openai.completion_with_retry.<locals>._completion_with_retry in 4.0 seconds as it raised APIError: Request failed due to server shutdown {\n",
      "  \"error\": {\n",
      "    \"message\": \"Request failed due to server shutdown\",\n",
      "    \"type\": \"server_error\",\n",
      "    \"param\": null,\n",
      "    \"code\": null\n",
      "  }\n",
      "}\n",
      " 500 {'error': {'message': 'Request failed due to server shutdown', 'type': 'server_error', 'param': None, 'code': None}} {'Date': 'Sun, 23 Apr 2023 11:19:02 GMT', 'Content-Type': 'application/json', 'Content-Length': '141', 'Connection': 'keep-alive', 'access-control-allow-origin': '*', 'openai-model': 'text-davinci-003', 'openai-organization': 'hiroga', 'openai-processing-ms': '4866', 'openai-version': '2020-10-01', 'strict-transport-security': 'max-age=15724800; includeSubDomains', 'x-ratelimit-limit-requests': '3000', 'x-ratelimit-limit-tokens': '250000', 'x-ratelimit-remaining-requests': '2999', 'x-ratelimit-remaining-tokens': '249488', 'x-ratelimit-reset-requests': '20ms', 'x-ratelimit-reset-tokens': '122ms', 'x-request-id': '5cb2e44b13be5957190320e110bcbb34', 'CF-Cache-Status': 'DYNAMIC', 'Server': 'cloudflare', 'CF-RAY': '7bc5b56fba3d3481-NRT', 'alt-svc': 'h3=\":443\"; ma=86400, h3-29=\":443\"; ma=86400'}.\n",
      "INFO:llama_index.indices.common_tree.base:> Building index from nodes: 2 chunks\n",
      "INFO:llama_index.token_counter.token_counter:> [build_index_from_nodes] Total LLM token usage: 50990 tokens\n",
      "INFO:llama_index.token_counter.token_counter:> [build_index_from_nodes] Total embedding token usage: 0 tokens\n"
     ]
    }
   ],
   "source": [
    "from llama_index import GPTTreeIndex\n",
    "\n",
    "tree_index = GPTTreeIndex.from_documents(documents)\n",
    "tree_index.save_to_disk('tmp/pokemon.tree_index.json')"
   ]
  },
  {
   "cell_type": "code",
   "execution_count": 11,
   "metadata": {},
   "outputs": [
    {
     "name": "stderr",
     "output_type": "stream",
     "text": [
      "INFO:llama_index.token_counter.token_counter:> [query] Total LLM token usage: 4831 tokens\n",
      "INFO:llama_index.token_counter.token_counter:> [query] Total embedding token usage: 20 tokens\n"
     ]
    },
    {
     "name": "stdout",
     "output_type": "stream",
     "text": [
      "\n",
      "\n",
      "コライドンは、パラドックスポケモンのかくとう・ドラゴンタイプで、2.5mの高さと303.0kgの重さを持ちます。特性は「ひひいろのこどう」で、バトルに登場した時、天気を晴れにします。技には「アクセルブレイク」を覚えており、空高く跳躍して回転しながら相手を目掛けて急降下し、大爆発を伴いながら体当たりします。また、コライドンは、「ポケモンサン・ムーン」では、「アローラのすがた」を覚えることができます。\n"
     ]
    }
   ],
   "source": [
    "simple_answer = simple_index.query(\"コライドンについて教えて下さい。\")\n",
    "print(simple_answer)\n"
   ]
  },
  {
   "cell_type": "code",
   "execution_count": 16,
   "metadata": {},
   "outputs": [
    {
     "name": "stderr",
     "output_type": "stream",
     "text": [
      "INFO:llama_index.indices.tree.leaf_query:> Starting query: コライドンについて教えて下さい。\n",
      "INFO:llama_index.token_counter.token_counter:> [query] Total LLM token usage: 796 tokens\n",
      "INFO:llama_index.token_counter.token_counter:> [query] Total embedding token usage: 0 tokens\n"
     ]
    },
    {
     "name": "stdout",
     "output_type": "stream",
     "text": [
      "ANSWER: None of the Above. None of the summaries provided are relevant to the question, which is asking for information about the Pokemon Coraidon.\n"
     ]
    }
   ],
   "source": [
    "tree_answer = tree_index.query(\"コライドンについて教えて下さい。\")\n",
    "print(tree_answer)\n"
   ]
  },
  {
   "cell_type": "code",
   "execution_count": null,
   "metadata": {},
   "outputs": [],
   "source": []
  }
 ],
 "metadata": {
  "kernelspec": {
   "display_name": ".venv",
   "language": "python",
   "name": "python3"
  },
  "language_info": {
   "codemirror_mode": {
    "name": "ipython",
    "version": 3
   },
   "file_extension": ".py",
   "mimetype": "text/x-python",
   "name": "python",
   "nbconvert_exporter": "python",
   "pygments_lexer": "ipython3",
   "version": "3.9.12"
  },
  "orig_nbformat": 4
 },
 "nbformat": 4,
 "nbformat_minor": 2
}
