{
 "cells": [
  {
   "cell_type": "code",
   "execution_count": 2,
   "metadata": {},
   "outputs": [],
   "source": [
    "import tiktoken"
   ]
  },
  {
   "cell_type": "code",
   "execution_count": 11,
   "metadata": {},
   "outputs": [],
   "source": [
    "cl100k_base = tiktoken.get_encoding(\"cl100k_base\")\n",
    "p50k_base = tiktoken.get_encoding(\"p50k_base\")\n",
    "r50k_base = tiktoken.get_encoding(\"gpt2\")"
   ]
  },
  {
   "cell_type": "code",
   "execution_count": 15,
   "metadata": {},
   "outputs": [
    {
     "name": "stdout",
     "output_type": "stream",
     "text": [
      "cl100k_base:\t[83, 1609, 5963, 374, 2294, 0],\n",
      "p50k_base:\t[83, 1134, 30001, 318, 1049, 0],\n",
      "r50k_base(gpt2):\t[83, 1134, 30001, 318, 1049, 0]\n",
      "\n"
     ]
    }
   ],
   "source": [
    "def print_encoded(text):\n",
    "    print(f\"\"\"cl100k_base:\\t{cl100k_base.encode(text)},\n",
    "p50k_base:\\t{p50k_base.encode(text)},\n",
    "r50k_base(gpt2):\\t{r50k_base.encode(text)}\n",
    "\"\"\")\n",
    "\n",
    "text = \"tiktoken is great!\"\n",
    "print_encoded(text)"
   ]
  },
  {
   "cell_type": "code",
   "execution_count": null,
   "metadata": {},
   "outputs": [],
   "source": []
  }
 ],
 "metadata": {
  "kernelspec": {
   "display_name": ".venv",
   "language": "python",
   "name": "python3"
  },
  "language_info": {
   "codemirror_mode": {
    "name": "ipython",
    "version": 3
   },
   "file_extension": ".py",
   "mimetype": "text/x-python",
   "name": "python",
   "nbconvert_exporter": "python",
   "pygments_lexer": "ipython3",
   "version": "3.9.12"
  },
  "orig_nbformat": 4
 },
 "nbformat": 4,
 "nbformat_minor": 2
}
