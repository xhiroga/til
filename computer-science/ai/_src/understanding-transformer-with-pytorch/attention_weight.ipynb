{
 "cells": [
  {
   "cell_type": "code",
   "execution_count": 1,
   "metadata": {},
   "outputs": [
    {
     "name": "stdout",
     "output_type": "stream",
     "text": [
      "['c:\\\\Users\\\\hiroga\\\\Documents\\\\GitHub\\\\til\\\\computer-science\\\\ai\\\\_src\\\\understanding-transformer-with-pytorch',\n",
      " 'c:\\\\Users\\\\hiroga\\\\miniconda3\\\\envs\\\\understanding-transformer-with-pytorch\\\\python38.zip',\n",
      " 'c:\\\\Users\\\\hiroga\\\\miniconda3\\\\envs\\\\understanding-transformer-with-pytorch\\\\DLLs',\n",
      " 'c:\\\\Users\\\\hiroga\\\\miniconda3\\\\envs\\\\understanding-transformer-with-pytorch\\\\lib',\n",
      " 'c:\\\\Users\\\\hiroga\\\\miniconda3\\\\envs\\\\understanding-transformer-with-pytorch',\n",
      " '',\n",
      " 'c:\\\\Users\\\\hiroga\\\\miniconda3\\\\envs\\\\understanding-transformer-with-pytorch\\\\lib\\\\site-packages',\n",
      " 'c:\\\\Users\\\\hiroga\\\\miniconda3\\\\envs\\\\understanding-transformer-with-pytorch\\\\lib\\\\site-packages\\\\win32',\n",
      " 'c:\\\\Users\\\\hiroga\\\\miniconda3\\\\envs\\\\understanding-transformer-with-pytorch\\\\lib\\\\site-packages\\\\win32\\\\lib',\n",
      " 'c:\\\\Users\\\\hiroga\\\\miniconda3\\\\envs\\\\understanding-transformer-with-pytorch\\\\lib\\\\site-packages\\\\Pythonwin']\n"
     ]
    }
   ],
   "source": [
    "import pprint\n",
    "import sys\n",
    "\n",
    "pprint.pprint(sys.path)"
   ]
  },
  {
   "cell_type": "code",
   "execution_count": 2,
   "metadata": {},
   "outputs": [],
   "source": [
    "import torch"
   ]
  },
  {
   "cell_type": "code",
   "execution_count": 3,
   "metadata": {},
   "outputs": [],
   "source": [
    "from src.layers.transformer.ScaleDotProductAttention import ScaleDotProductAttention"
   ]
  },
  {
   "cell_type": "code",
   "execution_count": 4,
   "metadata": {},
   "outputs": [],
   "source": [
    "seq_len = 3\n",
    "d_k = 3\n",
    "\n",
    "query = torch.randn(seq_len, d_k)\n",
    "key = torch.randn(seq_len, d_k)\n",
    "value = torch.randn(seq_len, d_k)"
   ]
  },
  {
   "cell_type": "code",
   "execution_count": 5,
   "metadata": {},
   "outputs": [],
   "source": [
    "scaleDotProductAttention = ScaleDotProductAttention(d_k)\n",
    "output = scaleDotProductAttention.forward(query, key, value)"
   ]
  },
  {
   "cell_type": "markdown",
   "metadata": {},
   "source": [
    "## Text to attention"
   ]
  },
  {
   "cell_type": "code",
   "execution_count": null,
   "metadata": {},
   "outputs": [],
   "source": [
    "# ”The animal didn't cross the street because it was too tired”\n"
   ]
  }
 ],
 "metadata": {
  "kernelspec": {
   "display_name": "understanding-transformer-with-pytorch",
   "language": "python",
   "name": "python3"
  },
  "language_info": {
   "codemirror_mode": {
    "name": "ipython",
    "version": 3
   },
   "file_extension": ".py",
   "mimetype": "text/x-python",
   "name": "python",
   "nbconvert_exporter": "python",
   "pygments_lexer": "ipython3",
   "version": "3.8.18"
  }
 },
 "nbformat": 4,
 "nbformat_minor": 2
}
