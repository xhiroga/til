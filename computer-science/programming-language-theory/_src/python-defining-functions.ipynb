{
 "cells": [
  {
   "cell_type": "markdown",
   "metadata": {},
   "source": [
    "# Pythonにおける関数呼び出し時の引数の扱い"
   ]
  },
  {
   "cell_type": "markdown",
   "metadata": {},
   "source": [
    "前提として、Pythonにおける代入の挙動をおさらい。"
   ]
  },
  {
   "cell_type": "code",
   "execution_count": 6,
   "metadata": {},
   "outputs": [
    {
     "name": "stdout",
     "output_type": "stream",
     "text": [
      "id(a_1)=4376655696, a_1=1\n",
      "id(a_1)=4376655728, a_1=2\n"
     ]
    }
   ],
   "source": [
    "a_1 = 1\n",
    "print(f\"{id(a_1)=}, {a_1=}\")\n",
    "\n",
    "a_1 += 1\n",
    "print(f\"{id(a_1)=}, {a_1=}\")"
   ]
  },
  {
   "cell_type": "markdown",
   "metadata": {},
   "source": [
    "Pythonで変数への再代入を行った場合、変数の指すインスタンスのID（メモリアドレス）が変わる。それを踏まえて、関数内で同様の操作を行う。"
   ]
  },
  {
   "cell_type": "code",
   "execution_count": 5,
   "metadata": {},
   "outputs": [
    {
     "name": "stdout",
     "output_type": "stream",
     "text": [
      "id(x_1)=4376655696, id(x_2)=4376655728\n",
      "add\n",
      "id(x_1)=4376655696, id(x_2)=4376655728\n",
      "x_1 = x_1 + x_2\n",
      "id(x_1)=4376655760, id(x_2)=4376655728\n",
      "added\n",
      "id(x_1)=4376655760\n"
     ]
    }
   ],
   "source": [
    "x_1 = 1\n",
    "x_2 = 2\n",
    "\n",
    "def add(x_1: int, x_2: int) -> int:\n",
    "    print(\"add\")\n",
    "    print(f\"{id(x_1)=}, {id(x_2)=}\")\n",
    "    x_1 = x_1 + x_2\n",
    "    print(\"x_1 = x_1 + x_2\")\n",
    "    print(f\"{id(x_1)=}, {id(x_2)=}\")\n",
    "    return x_1\n",
    "\n",
    "print(f\"{id(x_1)=}, {id(x_2)=}\")\n",
    "x_1 = add(x_1, x_2)\n",
    "print(\"added\")\n",
    "print(f\"{id(x_1)=}\")"
   ]
  },
  {
   "cell_type": "markdown",
   "metadata": {},
   "source": [
    "ここまでint型の挙動を見てきた。int型のようなプリミティブ型（違うが）の変数は、再代入によって値が更新されるから、関数内で呼び出しのメモリアドレスを持っていても意図せぬ挙動を生むことはない（メモリアドレスを直指定して値を書き換えるようなことをしない限りは）。では配列のような高水準オブジェクトではどうか。"
   ]
  },
  {
   "cell_type": "code",
   "execution_count": 10,
   "metadata": {},
   "outputs": [
    {
     "name": "stdout",
     "output_type": "stream",
     "text": [
      "id(ls_1)=4422151232, ls_1=[1]\n",
      "append_5\n",
      "id(ls_1)=4422151232, ls_1=[1, 5]\n",
      "appended\n",
      "id(ls_1)=4422151232, ls_1=[1, 5]\n"
     ]
    }
   ],
   "source": [
    "ls_1 = [1]\n",
    "\n",
    "def append_5(ls_1: list[int]) -> list[int]:\n",
    "    print(\"append_5\")\n",
    "    ls_1.append(5)\n",
    "    print(f\"{id(ls_1)=}, {ls_1=}\")\n",
    "    return ls_1\n",
    "\n",
    "print(f\"{id(ls_1)=}, {ls_1=}\")\n",
    "ls_1 = append_5(ls_1)\n",
    "print(\"appended\")\n",
    "print(f\"{id(ls_1)=}, {ls_1=}\")\n"
   ]
  },
  {
   "cell_type": "markdown",
   "metadata": {},
   "source": [
    "再代入を伴わない操作の場合、メソッドの内側での操作であったとしても、操作は実引数のリストに対して行われる。"
   ]
  },
  {
   "cell_type": "markdown",
   "metadata": {},
   "source": [
    "## 何が問題なのか"
   ]
  },
  {
   "cell_type": "markdown",
   "metadata": {},
   "source": [
    "まず、オブジェクトを可変にするのであれば、再代入によって参照するメモリアドレスが変わることで、値が期待通りに変わらないバグがあり得る。\n"
   ]
  },
  {
   "cell_type": "code",
   "execution_count": 19,
   "metadata": {},
   "outputs": [
    {
     "name": "stdout",
     "output_type": "stream",
     "text": [
      "Before\n",
      "ls_1=[1, 3, 5]\n",
      "After\n",
      "ls_1=[1, 3, 5]\n"
     ]
    }
   ],
   "source": [
    "def extend_with_sort(ls_1: list[int], ls_2: list[int]):\n",
    "    ls_1 = ls_1 + ls_2\n",
    "    ls_1.sort()\n",
    "\n",
    "ls_1 = [1,3,5]\n",
    "ls_2 = [2,4,6]\n",
    "print(\"Before\")\n",
    "print(f\"{ls_1=}\")\n",
    "extend_with_sort(ls_1, ls_2)\n",
    "print(\"After\")\n",
    "print(f\"{ls_1=}\")  # 意図せずextendされていない\n"
   ]
  },
  {
   "cell_type": "markdown",
   "metadata": {},
   "source": [
    "逆に、再代入を許すのであれば、オブジェクトの不変性を強調しないと、呼び出し元の値が意図せず変わってしまうバグがあり得る。"
   ]
  },
  {
   "cell_type": "code",
   "execution_count": 17,
   "metadata": {},
   "outputs": [
    {
     "name": "stdout",
     "output_type": "stream",
     "text": [
      "Before\n",
      "point=[1.0, 2.0]\n",
      "After\n",
      "point=[1.0, 2.0, 1]\n",
      "result=[2.0, 4.0, 1.0]\n"
     ]
    }
   ],
   "source": [
    "def affine_transform_immutable(point: list[float], matrix):\n",
    "    # オブジェクトに対する変更が、意図せずに伝播する\n",
    "    point.append(1)\n",
    "\n",
    "    transformed = [\n",
    "        matrix[0][0] * point[0] + matrix[0][1] * point[1] + matrix[0][2] * point[2],\n",
    "        matrix[1][0] * point[0] + matrix[1][1] * point[1] + matrix[1][2] * point[2],\n",
    "        matrix[2][0] * point[0] + matrix[2][1] * point[1] + matrix[2][2] * point[2]\n",
    "    ]\n",
    "\n",
    "    return transformed\n",
    "\n",
    "point = [1.0, 2.0]\n",
    "scaling = [\n",
    "    [2, 0, 0],\n",
    "    [0, 2, 0],\n",
    "    [0, 0, 1]\n",
    "]\n",
    "\n",
    "print(\"Before\")\n",
    "print(f\"{point=}\")\n",
    "result = affine_transform_immutable(point, scaling)\n",
    "print(\"After\")\n",
    "print(f\"{point=}\")  # 意図せず同次座標になってしまっている\n",
    "print(f\"{result=}\")\n"
   ]
  },
  {
   "cell_type": "markdown",
   "metadata": {},
   "source": [
    "## 考えられる対策\n",
    "\n",
    "再代入の禁止、またはミュータブルなメソッドの禁止が考えられる。ただしリンターなどにそのような設定があるかは調べきれていない。"
   ]
  },
  {
   "cell_type": "markdown",
   "metadata": {},
   "source": []
  }
 ],
 "metadata": {
  "kernelspec": {
   "display_name": ".venv",
   "language": "python",
   "name": "python3"
  },
  "language_info": {
   "codemirror_mode": {
    "name": "ipython",
    "version": 3
   },
   "file_extension": ".py",
   "mimetype": "text/x-python",
   "name": "python",
   "nbconvert_exporter": "python",
   "pygments_lexer": "ipython3",
   "version": "3.12.3"
  }
 },
 "nbformat": 4,
 "nbformat_minor": 2
}
