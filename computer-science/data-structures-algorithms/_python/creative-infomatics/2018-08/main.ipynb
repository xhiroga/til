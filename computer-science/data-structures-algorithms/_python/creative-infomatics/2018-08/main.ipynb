{
 "cells": [
  {
   "cell_type": "code",
   "execution_count": 85,
   "metadata": {},
   "outputs": [],
   "source": [
    "def get_pixels(file_name: str) -> list[tuple[int]]:\n",
    "    with open(file_name, \"r\") as f:\n",
    "        line = f.readline().strip()\n",
    "        elms = line.split(\" \")\n",
    "        pixels = []\n",
    "        r, g = None, None\n",
    "        for elm in elms:\n",
    "            if r is None:\n",
    "                r = elm\n",
    "            elif g is None:\n",
    "                g = elm\n",
    "            else:\n",
    "                pixels.append((int(r), int(g), int(elm)))\n",
    "                r, g = None, None\n",
    "        return pixels"
   ]
  },
  {
   "cell_type": "code",
   "execution_count": 86,
   "metadata": {},
   "outputs": [],
   "source": [
    "# テキストファイルを改行した結果と照らし合わせる\n",
    "pixels = get_pixels(\"./data/image1.txt\")\n",
    "with open(\"out/pixels\", mode=\"w\") as f:\n",
    "    f.write(str(pixels))\n",
    "assert len(pixels) == 388800 / 3"
   ]
  },
  {
   "cell_type": "markdown",
   "metadata": {},
   "source": [
    "## (2)\n"
   ]
  },
  {
   "cell_type": "code",
   "execution_count": 15,
   "metadata": {},
   "outputs": [
    {
     "name": "stdout",
     "output_type": "stream",
     "text": [
      "[{'width': 479, 'to': 479}, {'width': 479, 'to': 959}, {'width': 479, 'to': 1439}, {'width': 479, 'to': 1919}, {'width': 479, 'to': 2399}, {'width': 479, 'to': 2879}, {'width': 479, 'to': 3359}, {'width': 479, 'to': 3839}, {'width': 479, 'to': 4319}, {'width': 479, 'to': 4799}, {'width': 479, 'to': 5279}, {'width': 479, 'to': 5759}, {'width': 479, 'to': 6239}, {'width': 479, 'to': 6719}, {'width': 479, 'to': 7199}, {'width': 479, 'to': 7679}, {'width': 479, 'to': 8159}, {'width': 479, 'to': 8639}, {'width': 479, 'to': 9119}, {'width': 479, 'to': 9599}, {'width': 479, 'to': 10079}, {'width': 479, 'to': 10559}, {'width': 479, 'to': 11039}, {'width': 479, 'to': 11519}, {'width': 479, 'to': 11999}, {'width': 479, 'to': 12479}, {'width': 479, 'to': 12959}, {'width': 479, 'to': 13439}, {'width': 479, 'to': 13919}, {'width': 479, 'to': 14399}, {'width': 479, 'to': 14879}, {'width': 479, 'to': 15359}, {'width': 479, 'to': 15839}, {'width': 479, 'to': 16319}, {'width': 479, 'to': 16799}, {'width': 479, 'to': 17279}, {'width': 479, 'to': 17759}, {'width': 479, 'to': 18239}, {'width': 479, 'to': 18719}, {'width': 479, 'to': 19199}, {'width': 479, 'to': 19679}, {'width': 479, 'to': 20159}, {'width': 479, 'to': 20639}, {'width': 479, 'to': 21119}, {'width': 479, 'to': 21599}, {'width': 479, 'to': 22079}, {'width': 479, 'to': 22559}, {'width': 479, 'to': 23039}, {'width': 479, 'to': 23519}, {'width': 479, 'to': 23999}, {'width': 479, 'to': 24479}, {'width': 479, 'to': 24959}, {'width': 479, 'to': 25439}, {'width': 479, 'to': 25919}, {'width': 479, 'to': 26399}, {'width': 479, 'to': 26879}, {'width': 479, 'to': 27359}, {'width': 479, 'to': 27839}, {'width': 479, 'to': 28319}, {'width': 479, 'to': 28799}, {'width': 479, 'to': 29279}, {'width': 479, 'to': 29759}, {'width': 479, 'to': 30239}, {'width': 479, 'to': 30719}, {'width': 479, 'to': 31199}, {'width': 479, 'to': 31679}, {'width': 479, 'to': 32159}, {'width': 479, 'to': 32639}, {'width': 479, 'to': 33119}, {'width': 479, 'to': 33599}, {'width': 479, 'to': 34079}, {'width': 479, 'to': 34559}, {'width': 479, 'to': 35039}, {'width': 479, 'to': 35519}, {'width': 479, 'to': 35999}, {'width': 479, 'to': 36479}, {'width': 479, 'to': 36959}, {'width': 479, 'to': 37439}, {'width': 479, 'to': 37919}, {'width': 479, 'to': 38399}, {'width': 479, 'to': 38879}, {'width': 479, 'to': 39359}, {'width': 479, 'to': 39839}, {'width': 479, 'to': 40319}, {'width': 479, 'to': 40799}, {'width': 479, 'to': 41279}, {'width': 479, 'to': 41759}, {'width': 479, 'to': 42239}, {'width': 479, 'to': 42719}, {'width': 479, 'to': 43199}, {'width': 479, 'to': 43679}, {'width': 479, 'to': 44159}, {'width': 479, 'to': 44639}, {'width': 479, 'to': 45119}, {'width': 479, 'to': 45599}, {'width': 479, 'to': 46079}, {'width': 479, 'to': 46559}, {'width': 479, 'to': 47039}, {'width': 479, 'to': 47519}, {'width': 479, 'to': 47999}, {'width': 479, 'to': 48479}, {'width': 479, 'to': 48959}, {'width': 479, 'to': 49439}, {'width': 479, 'to': 49919}, {'width': 479, 'to': 50399}, {'width': 479, 'to': 50879}, {'width': 479, 'to': 51359}, {'width': 479, 'to': 51839}, {'width': 479, 'to': 52319}, {'width': 479, 'to': 52799}, {'width': 479, 'to': 53279}, {'width': 479, 'to': 53759}, {'width': 479, 'to': 54239}, {'width': 479, 'to': 54719}, {'width': 479, 'to': 55199}, {'width': 479, 'to': 55679}, {'width': 479, 'to': 56159}, {'width': 479, 'to': 56639}, {'width': 479, 'to': 57119}, {'width': 479, 'to': 57599}, {'width': 479, 'to': 58079}, {'width': 479, 'to': 58559}, {'width': 479, 'to': 59039}, {'width': 479, 'to': 59519}, {'width': 479, 'to': 59999}, {'width': 479, 'to': 60479}, {'width': 479, 'to': 60959}, {'width': 479, 'to': 61439}, {'width': 479, 'to': 61919}, {'width': 479, 'to': 62399}, {'width': 479, 'to': 62879}, {'width': 479, 'to': 63359}, {'width': 479, 'to': 63839}, {'width': 479, 'to': 64319}, {'width': 479, 'to': 64799}, {'width': 479, 'to': 65279}, {'width': 479, 'to': 65759}, {'width': 479, 'to': 66239}, {'width': 479, 'to': 66719}, {'width': 479, 'to': 67199}, {'width': 479, 'to': 67679}, {'width': 479, 'to': 68159}, {'width': 479, 'to': 68639}, {'width': 479, 'to': 69119}, {'width': 479, 'to': 69599}, {'width': 479, 'to': 70079}, {'width': 479, 'to': 70559}, {'width': 479, 'to': 71039}, {'width': 479, 'to': 71519}, {'width': 479, 'to': 71999}, {'width': 479, 'to': 72479}, {'width': 479, 'to': 72959}, {'width': 479, 'to': 73439}, {'width': 479, 'to': 73919}, {'width': 479, 'to': 74399}, {'width': 479, 'to': 74879}, {'width': 479, 'to': 75359}, {'width': 479, 'to': 75839}, {'width': 479, 'to': 76319}, {'width': 479, 'to': 76799}, {'width': 479, 'to': 77279}, {'width': 479, 'to': 77759}, {'width': 479, 'to': 78239}, {'width': 479, 'to': 78719}, {'width': 479, 'to': 79199}, {'width': 479, 'to': 79679}, {'width': 479, 'to': 80159}, {'width': 479, 'to': 80639}, {'width': 479, 'to': 81119}, {'width': 479, 'to': 81599}, {'width': 479, 'to': 82079}, {'width': 479, 'to': 82559}, {'width': 479, 'to': 83039}, {'width': 479, 'to': 83519}, {'width': 479, 'to': 83999}, {'width': 479, 'to': 84479}, {'width': 479, 'to': 84959}, {'width': 479, 'to': 85439}, {'width': 479, 'to': 85919}, {'width': 479, 'to': 86399}, {'width': 479, 'to': 86879}, {'width': 479, 'to': 87359}, {'width': 479, 'to': 87839}, {'width': 479, 'to': 88319}, {'width': 479, 'to': 88799}, {'width': 479, 'to': 89279}, {'width': 479, 'to': 89759}, {'width': 479, 'to': 90239}, {'width': 479, 'to': 90719}, {'width': 479, 'to': 91199}, {'width': 479, 'to': 91679}, {'width': 479, 'to': 92159}, {'width': 479, 'to': 92639}, {'width': 479, 'to': 93119}, {'width': 479, 'to': 93599}, {'width': 479, 'to': 94079}, {'width': 479, 'to': 94559}, {'width': 479, 'to': 95039}, {'width': 479, 'to': 95519}, {'width': 479, 'to': 95999}, {'width': 479, 'to': 96479}, {'width': 479, 'to': 96959}, {'width': 479, 'to': 97439}, {'width': 479, 'to': 97919}, {'width': 479, 'to': 98399}, {'width': 479, 'to': 98879}, {'width': 479, 'to': 99359}, {'width': 479, 'to': 99839}, {'width': 479, 'to': 100319}, {'width': 479, 'to': 100799}, {'width': 479, 'to': 101279}, {'width': 479, 'to': 101759}, {'width': 479, 'to': 102239}, {'width': 479, 'to': 102719}, {'width': 479, 'to': 103199}, {'width': 479, 'to': 103679}, {'width': 479, 'to': 104159}, {'width': 479, 'to': 104639}, {'width': 479, 'to': 105119}, {'width': 479, 'to': 105599}, {'width': 479, 'to': 106079}, {'width': 479, 'to': 106559}, {'width': 479, 'to': 107039}, {'width': 479, 'to': 107519}, {'width': 479, 'to': 107999}, {'width': 479, 'to': 108479}, {'width': 479, 'to': 108959}, {'width': 479, 'to': 109439}, {'width': 479, 'to': 109919}, {'width': 479, 'to': 110399}, {'width': 479, 'to': 110879}, {'width': 479, 'to': 111359}, {'width': 479, 'to': 111839}, {'width': 479, 'to': 112319}, {'width': 479, 'to': 112799}, {'width': 479, 'to': 113279}, {'width': 479, 'to': 113759}, {'width': 479, 'to': 114239}, {'width': 479, 'to': 114719}, {'width': 479, 'to': 115199}, {'width': 479, 'to': 115679}, {'width': 479, 'to': 116159}, {'width': 479, 'to': 116639}, {'width': 479, 'to': 117119}, {'width': 479, 'to': 117599}, {'width': 479, 'to': 118079}, {'width': 479, 'to': 118559}, {'width': 479, 'to': 119039}, {'width': 479, 'to': 119519}, {'width': 479, 'to': 119999}, {'width': 479, 'to': 120479}, {'width': 479, 'to': 120959}, {'width': 479, 'to': 121439}, {'width': 479, 'to': 121919}, {'width': 479, 'to': 122399}, {'width': 479, 'to': 122879}, {'width': 479, 'to': 123359}, {'width': 479, 'to': 123839}, {'width': 479, 'to': 124319}, {'width': 479, 'to': 124799}, {'width': 479, 'to': 125279}, {'width': 479, 'to': 125759}, {'width': 479, 'to': 126239}, {'width': 479, 'to': 126719}, {'width': 479, 'to': 127199}, {'width': 479, 'to': 127679}, {'width': 479, 'to': 128159}, {'width': 479, 'to': 128639}, {'width': 479, 'to': 129119}, {'width': 479, 'to': 129599}]\n"
     ]
    }
   ],
   "source": [
    "# とりあえず実験として、直前の(255, 255, 255)から次の(255, 255, 255)の間隔がどうなっているかを見る。\n",
    "pixels = get_pixels(\"./data/image1.txt\")\n",
    "\n",
    "rows = []\n",
    "width = 0\n",
    "for i, pixel in enumerate(pixels):\n",
    "    if pixel[0] == 255 and pixel[1] == 255 and pixel[2] == 255:\n",
    "        rows.append({\"width\": width, \"to\": i})\n",
    "        width = 0\n",
    "    else:\n",
    "        width += 1\n",
    "\n",
    "print(rows)"
   ]
  },
  {
   "cell_type": "code",
   "execution_count": 19,
   "metadata": {},
   "outputs": [
    {
     "name": "stdout",
     "output_type": "stream",
     "text": [
      "479\n"
     ]
    }
   ],
   "source": [
    "# おそらく479ピクセルだが、念のためそれ以上の値がないか確かめる\n",
    "max = 479\n",
    "for row in rows:\n",
    "    if row[\"width\"] > max:\n",
    "        max = row[\"width\"]\n",
    "print(max)"
   ]
  },
  {
   "cell_type": "markdown",
   "metadata": {},
   "source": [
    "## (3)\n"
   ]
  },
  {
   "cell_type": "code",
   "execution_count": 21,
   "metadata": {},
   "outputs": [],
   "source": [
    "# とりあえず明るさを配列に加える\n",
    "pixels = get_pixels(\"./data/image1.txt\")\n",
    "\n",
    "brightnesses = []\n",
    "for i, pixel in enumerate(pixels):\n",
    "    brightnesses.append((i, pixel[0] ** 2 + pixel[1] ** 2 + pixel[2] ** 2))\n",
    "\n",
    "# ファイルに書き出す。これは検証でも使える。\n",
    "with open(\"out/brightnesses\", mode=\"w\") as f:\n",
    "    f.write(\"\\n\".join([str(brightness) for brightness in brightnesses]))"
   ]
  },
  {
   "cell_type": "code",
   "execution_count": 22,
   "metadata": {},
   "outputs": [
    {
     "data": {
      "text/plain": [
       "True"
      ]
     },
     "execution_count": 22,
     "metadata": {},
     "output_type": "execute_result"
    }
   ],
   "source": [
    "255**2 * 3 == 195075"
   ]
  },
  {
   "cell_type": "code",
   "execution_count": 26,
   "metadata": {},
   "outputs": [
    {
     "name": "stdout",
     "output_type": "stream",
     "text": [
      "(11997, 79896)\n"
     ]
    }
   ],
   "source": [
    "# ソートして中央の値を取る\n",
    "sorted_brightnesses = sorted(brightnesses, key=lambda x: x[1])\n",
    "print(sorted_brightnesses[len(sorted_brightnesses) // 2])\n",
    "\n",
    "# 目視でも確認する。\n",
    "with open(\"out/sorted_brightnesses\", mode=\"w\") as f:\n",
    "    f.write(\"\\n\".join([str(brightness) for brightness in sorted_brightnesses]))"
   ]
  },
  {
   "cell_type": "markdown",
   "metadata": {},
   "source": [
    "## (4)\n"
   ]
  },
  {
   "cell_type": "code",
   "execution_count": 18,
   "metadata": {},
   "outputs": [],
   "source": [
    "def append_index_and_brightness(pixels: list[tuple[int]]) -> list[tuple[int]]:\n",
    "    with_index_and_brightness = []\n",
    "    for i, pixel in enumerate(pixels):\n",
    "        with_index_and_brightness.append(\n",
    "            (\n",
    "                i,\n",
    "                pixel[0],\n",
    "                pixel[1],\n",
    "                pixel[2],\n",
    "                pixel[0] ** 2 + pixel[1] ** 2 + pixel[2] ** 2,\n",
    "            )\n",
    "        )\n",
    "\n",
    "    return sorted(with_index_and_brightness, key=lambda x: x[4])"
   ]
  },
  {
   "cell_type": "code",
   "execution_count": 19,
   "metadata": {},
   "outputs": [
    {
     "name": "stdout",
     "output_type": "stream",
     "text": [
      "[(1, 0, 0, 0, 0), (0, 1, 1, 1, 3)]\n"
     ]
    }
   ],
   "source": [
    "origin = [(1, 1, 1), (0, 0, 0)]\n",
    "expected = [(1, 0, 0, 0, 0), (0, 1, 1, 1, 3)]\n",
    "actual = append_index_and_brightness(origin)\n",
    "print(actual)\n",
    "assert expected == actual"
   ]
  },
  {
   "cell_type": "code",
   "execution_count": 20,
   "metadata": {},
   "outputs": [
    {
     "ename": "NameError",
     "evalue": "name 'get_pixels' is not defined",
     "output_type": "error",
     "traceback": [
      "\u001b[0;31m---------------------------------------------------------------------------\u001b[0m",
      "\u001b[0;31mNameError\u001b[0m                                 Traceback (most recent call last)",
      "Cell \u001b[0;32mIn[20], line 2\u001b[0m\n\u001b[1;32m      1\u001b[0m \u001b[38;5;66;03m# とりあえず整形したデータを眺める\u001b[39;00m\n\u001b[0;32m----> 2\u001b[0m pixels2 \u001b[38;5;241m=\u001b[39m \u001b[43mget_pixels\u001b[49m(\u001b[38;5;124m\"\u001b[39m\u001b[38;5;124m./data/image2.txt\u001b[39m\u001b[38;5;124m\"\u001b[39m)\n\u001b[1;32m      3\u001b[0m \u001b[38;5;28;01mwith\u001b[39;00m \u001b[38;5;28mopen\u001b[39m(\u001b[38;5;124m\"\u001b[39m\u001b[38;5;124mout/pixels2\u001b[39m\u001b[38;5;124m\"\u001b[39m, mode\u001b[38;5;241m=\u001b[39m\u001b[38;5;124m\"\u001b[39m\u001b[38;5;124mw\u001b[39m\u001b[38;5;124m\"\u001b[39m) \u001b[38;5;28;01mas\u001b[39;00m f:\n\u001b[1;32m      4\u001b[0m     f\u001b[38;5;241m.\u001b[39mwrite(\u001b[38;5;124m\"\u001b[39m\u001b[38;5;130;01m\\n\u001b[39;00m\u001b[38;5;124m\"\u001b[39m\u001b[38;5;241m.\u001b[39mjoin([\u001b[38;5;28mstr\u001b[39m(pixel2) \u001b[38;5;28;01mfor\u001b[39;00m pixel2 \u001b[38;5;129;01min\u001b[39;00m pixels2]))\n",
      "\u001b[0;31mNameError\u001b[0m: name 'get_pixels' is not defined"
     ]
    }
   ],
   "source": [
    "# とりあえず整形したデータを眺める\n",
    "pixels2 = get_pixels(\"./data/image2.txt\")\n",
    "with open(\"out/pixels2\", mode=\"w\") as f:\n",
    "    f.write(\"\\n\".join([str(pixel2) for pixel2 in pixels2]))\n",
    "\n",
    "sorted_brightnesses2 = append_index_and_brightness(pixels2)\n",
    "print(len(sorted_brightnesses2))"
   ]
  },
  {
   "cell_type": "code",
   "execution_count": 71,
   "metadata": {},
   "outputs": [],
   "source": [
    "def get_initial_cluster_core(pixels, k):\n",
    "    cores = []\n",
    "    n = len(pixels)\n",
    "    for i in range(k):\n",
    "        cores.append({\"core\": pixels[n * i // k], \"members\": []})\n",
    "    return cores"
   ]
  },
  {
   "cell_type": "code",
   "execution_count": 72,
   "metadata": {},
   "outputs": [
    {
     "ename": "NameError",
     "evalue": "name 'sorted_brightnesses2' is not defined",
     "output_type": "error",
     "traceback": [
      "\u001b[0;31m---------------------------------------------------------------------------\u001b[0m",
      "\u001b[0;31mNameError\u001b[0m                                 Traceback (most recent call last)",
      "Cell \u001b[0;32mIn[72], line 2\u001b[0m\n\u001b[1;32m      1\u001b[0m k \u001b[38;5;241m=\u001b[39m \u001b[38;5;241m4\u001b[39m\n\u001b[0;32m----> 2\u001b[0m actual \u001b[38;5;241m=\u001b[39m get_initial_cluster_core(\u001b[43msorted_brightnesses2\u001b[49m, k)\n\u001b[1;32m      3\u001b[0m \u001b[38;5;28mprint\u001b[39m(actual)\n",
      "\u001b[0;31mNameError\u001b[0m: name 'sorted_brightnesses2' is not defined"
     ]
    }
   ],
   "source": [
    "k = 4\n",
    "actual = get_initial_cluster_core(sorted_brightnesses2, k)\n",
    "print(actual)"
   ]
  },
  {
   "cell_type": "markdown",
   "metadata": {},
   "source": [
    "## (5) k 近傍法\n"
   ]
  },
  {
   "cell_type": "code",
   "execution_count": 73,
   "metadata": {},
   "outputs": [],
   "source": [
    "# 複雑なのでテストがあった方が良い。とりあえず、2パターン考えよう。\n",
    "# ケース1: 黒ピクセル500, 白ピクセル500の画像。k=100とすると、i=25ではまず黒, i=75ではまず白になるはずだ\n",
    "# → これは誤りだった（何も分類されないクラスターができてバグの原因になる）\n",
    "# ケース2: ランダムな0~255の値を取る白黒画像。十分なピクセル数があればi=k/2で(128, 128, 128)くらいになるはずだ。"
   ]
  },
  {
   "cell_type": "code",
   "execution_count": 74,
   "metadata": {},
   "outputs": [],
   "source": [
    "def testcase1():\n",
    "    pixels = []\n",
    "    for _ in range(0, 500):\n",
    "        pixels.append((0, 0, 0))\n",
    "        pixels.append((255, 255, 255))\n",
    "    return pixels\n",
    "\n",
    "\n",
    "testcase1_pixels = testcase1()\n",
    "with open(\"out/testcase1_pixels\", mode=\"w\") as f:\n",
    "    f.write(\"\\n\".join([str(pixel) for pixel in testcase1_pixels]))"
   ]
  },
  {
   "cell_type": "code",
   "execution_count": 75,
   "metadata": {},
   "outputs": [],
   "source": [
    "import random\n",
    "\n",
    "\n",
    "def testcase2():\n",
    "    pixels = []\n",
    "    for _ in range(0, 100000):\n",
    "        brightness = random.randint(0, 255)\n",
    "        pixels.append((brightness, brightness, brightness))\n",
    "    return pixels\n",
    "\n",
    "\n",
    "testcase2_pixels = testcase2()\n",
    "with open(\"out/testcase2_pixels\", mode=\"w\") as f:\n",
    "    f.write(\"\\n\".join([str(pixel) for pixel in testcase2_pixels]))"
   ]
  },
  {
   "cell_type": "code",
   "execution_count": 76,
   "metadata": {},
   "outputs": [],
   "source": [
    "def get_distance(pix1, pix2) -> int:\n",
    "    _, r1, g1, b1, _ = pix1\n",
    "    _, r2, g2, b2, _ = pix2\n",
    "    return abs(r1 - r2) + abs(g1 - g2) + abs(b1 - b2)"
   ]
  },
  {
   "cell_type": "code",
   "execution_count": 77,
   "metadata": {},
   "outputs": [],
   "source": [
    "expected = 30\n",
    "actual = get_distance(\n",
    "    (0, 100, 100, 100, 300000), (1, 100, 90, 120, 100**2 + 90**2 + 120**2)\n",
    ")\n",
    "assert actual == expected"
   ]
  },
  {
   "cell_type": "code",
   "execution_count": 78,
   "metadata": {},
   "outputs": [],
   "source": [
    "def member_updated(clusters, members):\n",
    "    MAX_INT = 2**63 - 1\n",
    "\n",
    "    assigned = [{\"core\": cluster[\"core\"], \"members\": []} for cluster in clusters]\n",
    "    for pixel in members:\n",
    "        champion = -1\n",
    "        champion_distance = MAX_INT\n",
    "        for index, cluster in enumerate(assigned):\n",
    "            distance = get_distance(pixel, cluster[\"core\"])\n",
    "            if distance <= champion_distance:\n",
    "                champion = index\n",
    "                champion_distance = distance\n",
    "\n",
    "        assigned[champion][\"members\"].append(pixel)\n",
    "    return assigned"
   ]
  },
  {
   "cell_type": "code",
   "execution_count": 79,
   "metadata": {},
   "outputs": [
    {
     "name": "stdout",
     "output_type": "stream",
     "text": [
      "[{'core': (0, 1, 1, 1, 3), 'members': [(0, 0, 0, 0, 0), (0, 1, 1, 1, 3)]}, {'core': (0, 100, 100, 100, 30000), 'members': [(0, 100, 100, 100, 30000), (0, 100, 100, 100, 30000)]}]\n"
     ]
    }
   ],
   "source": [
    "original_members = [\n",
    "    (0, 0, 0, 0, 0),\n",
    "    (0, 1, 1, 1, 3),\n",
    "    (0, 100, 100, 100, 30000),\n",
    "    (0, 100, 100, 100, 30000),\n",
    "]\n",
    "original_clusters = [\n",
    "    {\n",
    "        \"core\": (0, 1, 1, 1, 3),\n",
    "        \"members\": [(0, 100, 100, 100, 30000), (0, 100, 100, 100, 30000)],\n",
    "    },\n",
    "    {\"core\": (0, 100, 100, 100, 30000), \"members\": [(0, 0, 0, 0, 0), (0, 1, 1, 1, 3)]},\n",
    "]\n",
    "expected = clusters = [\n",
    "    {\"core\": (0, 1, 1, 1, 3), \"members\": [(0, 0, 0, 0, 0), (0, 1, 1, 1, 3)]},\n",
    "    {\n",
    "        \"core\": (0, 100, 100, 100, 30000),\n",
    "        \"members\": [(0, 100, 100, 100, 30000), (0, 100, 100, 100, 30000)],\n",
    "    },\n",
    "]\n",
    "actual = member_updated(original_clusters, original_members)\n",
    "print(actual)\n",
    "assert actual == expected"
   ]
  },
  {
   "cell_type": "code",
   "execution_count": 80,
   "metadata": {},
   "outputs": [],
   "source": [
    "def core_updated(cluster):\n",
    "    MAX_INT = 2**63 - 1\n",
    "    members = cluster[\"members\"]\n",
    "    r_total, g_total, b_total = -1, -1, -1\n",
    "    for member in members:\n",
    "        _, r, g, b, _ = member\n",
    "        r_total += r\n",
    "        g_total += g\n",
    "        b_total += b\n",
    "    r_c, g_c, b_c = (\n",
    "        r_total / len(members),\n",
    "        g_total / len(members),\n",
    "        b_total / len(members),\n",
    "    )\n",
    "\n",
    "    champion = None\n",
    "    champion_dist = MAX_INT\n",
    "    for member in members:\n",
    "        dist = get_distance((-1, r_c, g_c, b_c, -1), member)\n",
    "        # print(f\"{champion=}, {champion_dist=}, {member=}, {dist=}\")\n",
    "        if dist <= champion_dist:\n",
    "            champion = member\n",
    "            champion_dist = dist\n",
    "\n",
    "    return {\"core\": champion, \"members\": members}"
   ]
  },
  {
   "cell_type": "code",
   "execution_count": 81,
   "metadata": {},
   "outputs": [],
   "source": [
    "origin = {\n",
    "    \"core\": (0, 0, 0, 0, 0),\n",
    "    \"members\": [(0, 0, 0, 0, 0), (0, 100, 100, 100, 30000), (0, 200, 200, 200, 120000)],\n",
    "}\n",
    "expected = {\n",
    "    \"core\": (0, 100, 100, 100, 30000),\n",
    "    \"members\": [(0, 0, 0, 0, 0), (0, 100, 100, 100, 30000), (0, 200, 200, 200, 120000)],\n",
    "}\n",
    "actual = core_updated(origin)\n",
    "\n",
    "assert actual == expected"
   ]
  },
  {
   "cell_type": "code",
   "execution_count": 82,
   "metadata": {},
   "outputs": [],
   "source": [
    "# TODO: tqdmインストールしておく\n",
    "\n",
    "\n",
    "def k_neighbor(pixels: list[tuple[int]], k: int, iteration: int):\n",
    "    with_index_and_brightness = append_index_and_brightness(pixels)\n",
    "    clusters = get_initial_cluster_core(with_index_and_brightness, k)\n",
    "    # print(clusters)\n",
    "\n",
    "    for _ in range(iteration):\n",
    "        member_updated_clusters = member_updated(clusters, with_index_and_brightness)\n",
    "        clusters = [core_updated(cluster) for cluster in member_updated_clusters]\n",
    "\n",
    "    return clusters"
   ]
  },
  {
   "cell_type": "code",
   "execution_count": 83,
   "metadata": {},
   "outputs": [],
   "source": [
    "k_neighbor_clusters = k_neighbor(testcase2_pixels, 128, 3)\n",
    "with open(\"out/k_neighbor\", mode=\"w\") as f:\n",
    "    f.write(\"\\n\".join([str(cluster) for cluster in k_neighbor_clusters]))"
   ]
  },
  {
   "cell_type": "code",
   "execution_count": 88,
   "metadata": {},
   "outputs": [
    {
     "ename": "KeyboardInterrupt",
     "evalue": "",
     "output_type": "error",
     "traceback": [
      "\u001b[0;31m---------------------------------------------------------------------------\u001b[0m",
      "\u001b[0;31mKeyboardInterrupt\u001b[0m                         Traceback (most recent call last)",
      "Cell \u001b[0;32mIn[88], line 3\u001b[0m\n\u001b[1;32m      1\u001b[0m pixels2 \u001b[38;5;241m=\u001b[39m get_pixels(\u001b[38;5;124m\"\u001b[39m\u001b[38;5;124m./data/image2.txt\u001b[39m\u001b[38;5;124m\"\u001b[39m)\n\u001b[1;32m      2\u001b[0m sorted_brightnesses2 \u001b[38;5;241m=\u001b[39m append_index_and_brightness(pixels2)\n\u001b[0;32m----> 3\u001b[0m k_neighbor_clusters2 \u001b[38;5;241m=\u001b[39m \u001b[43mk_neighbor\u001b[49m\u001b[43m(\u001b[49m\u001b[43msorted_brightnesses2\u001b[49m\u001b[43m,\u001b[49m\u001b[43m \u001b[49m\u001b[38;5;241;43m128\u001b[39;49m\u001b[43m,\u001b[49m\u001b[43m \u001b[49m\u001b[38;5;241;43m10\u001b[39;49m\u001b[43m)\u001b[49m\n\u001b[1;32m      4\u001b[0m \u001b[38;5;28;01mwith\u001b[39;00m \u001b[38;5;28mopen\u001b[39m(\u001b[38;5;124m\"\u001b[39m\u001b[38;5;124mout/k_neighbor_clusters2\u001b[39m\u001b[38;5;124m\"\u001b[39m, mode\u001b[38;5;241m=\u001b[39m\u001b[38;5;124m\"\u001b[39m\u001b[38;5;124mw\u001b[39m\u001b[38;5;124m\"\u001b[39m) \u001b[38;5;28;01mas\u001b[39;00m f:\n\u001b[1;32m      5\u001b[0m     f\u001b[38;5;241m.\u001b[39mwrite(\u001b[38;5;124m\"\u001b[39m\u001b[38;5;130;01m\\n\u001b[39;00m\u001b[38;5;124m\"\u001b[39m\u001b[38;5;241m.\u001b[39mjoin([\u001b[38;5;28mstr\u001b[39m(cluster) \u001b[38;5;28;01mfor\u001b[39;00m cluster \u001b[38;5;129;01min\u001b[39;00m k_neighbor_clusters2]))\n",
      "Cell \u001b[0;32mIn[82], line 10\u001b[0m, in \u001b[0;36mk_neighbor\u001b[0;34m(pixels, k, iteration)\u001b[0m\n\u001b[1;32m      7\u001b[0m \u001b[38;5;66;03m# print(clusters)\u001b[39;00m\n\u001b[1;32m      9\u001b[0m \u001b[38;5;28;01mfor\u001b[39;00m _ \u001b[38;5;129;01min\u001b[39;00m \u001b[38;5;28mrange\u001b[39m(iteration):\n\u001b[0;32m---> 10\u001b[0m     member_updated_clusters \u001b[38;5;241m=\u001b[39m \u001b[43mmember_updated\u001b[49m\u001b[43m(\u001b[49m\u001b[43mclusters\u001b[49m\u001b[43m,\u001b[49m\u001b[43m \u001b[49m\u001b[43mwith_index_and_brightness\u001b[49m\u001b[43m)\u001b[49m\n\u001b[1;32m     11\u001b[0m     clusters \u001b[38;5;241m=\u001b[39m [core_updated(cluster) \u001b[38;5;28;01mfor\u001b[39;00m cluster \u001b[38;5;129;01min\u001b[39;00m member_updated_clusters]\n\u001b[1;32m     13\u001b[0m \u001b[38;5;28;01mreturn\u001b[39;00m clusters\n",
      "Cell \u001b[0;32mIn[78], line 9\u001b[0m, in \u001b[0;36mmember_updated\u001b[0;34m(clusters, members)\u001b[0m\n\u001b[1;32m      7\u001b[0m champion_distance \u001b[38;5;241m=\u001b[39m MAX_INT\n\u001b[1;32m      8\u001b[0m \u001b[38;5;28;01mfor\u001b[39;00m index, cluster \u001b[38;5;129;01min\u001b[39;00m \u001b[38;5;28menumerate\u001b[39m(assigned):\n\u001b[0;32m----> 9\u001b[0m     distance \u001b[38;5;241m=\u001b[39m \u001b[43mget_distance\u001b[49m\u001b[43m(\u001b[49m\u001b[43mpixel\u001b[49m\u001b[43m,\u001b[49m\u001b[43m \u001b[49m\u001b[43mcluster\u001b[49m\u001b[43m[\u001b[49m\u001b[38;5;124;43m\"\u001b[39;49m\u001b[38;5;124;43mcore\u001b[39;49m\u001b[38;5;124;43m\"\u001b[39;49m\u001b[43m]\u001b[49m\u001b[43m)\u001b[49m\n\u001b[1;32m     10\u001b[0m     \u001b[38;5;28;01mif\u001b[39;00m distance \u001b[38;5;241m<\u001b[39m\u001b[38;5;241m=\u001b[39m champion_distance:\n\u001b[1;32m     11\u001b[0m         champion \u001b[38;5;241m=\u001b[39m index\n",
      "Cell \u001b[0;32mIn[76], line 1\u001b[0m, in \u001b[0;36mget_distance\u001b[0;34m(pix1, pix2)\u001b[0m\n\u001b[0;32m----> 1\u001b[0m \u001b[38;5;28;01mdef\u001b[39;00m \u001b[38;5;21mget_distance\u001b[39m(pix1, pix2) \u001b[38;5;241m-\u001b[39m\u001b[38;5;241m>\u001b[39m \u001b[38;5;28mint\u001b[39m:\n\u001b[1;32m      2\u001b[0m     _, r1, g1, b1, _ \u001b[38;5;241m=\u001b[39m pix1\n\u001b[1;32m      3\u001b[0m     _, r2, g2, b2, _ \u001b[38;5;241m=\u001b[39m pix2\n",
      "\u001b[0;31mKeyboardInterrupt\u001b[0m: "
     ]
    }
   ],
   "source": [
    "pixels2 = get_pixels(\"./data/image2.txt\")\n",
    "sorted_brightnesses2 = append_index_and_brightness(pixels2)\n",
    "k_neighbor_clusters2 = k_neighbor(sorted_brightnesses2, 128, 10)\n",
    "with open(\"out/k_neighbor_clusters2\", mode=\"w\") as f:\n",
    "    f.write(\"\\n\".join([str(cluster) for cluster in k_neighbor_clusters2]))"
   ]
  },
  {
   "cell_type": "code",
   "execution_count": null,
   "metadata": {},
   "outputs": [],
   "source": []
  }
 ],
 "metadata": {
  "kernelspec": {
   "display_name": ".venv",
   "language": "python",
   "name": "python3"
  },
  "language_info": {
   "codemirror_mode": {
    "name": "ipython",
    "version": 3
   },
   "file_extension": ".py",
   "mimetype": "text/x-python",
   "name": "python",
   "nbconvert_exporter": "python",
   "pygments_lexer": "ipython3",
   "version": "3.12.3"
  }
 },
 "nbformat": 4,
 "nbformat_minor": 2
}
