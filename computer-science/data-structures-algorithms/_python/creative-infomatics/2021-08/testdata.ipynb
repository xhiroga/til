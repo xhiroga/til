{
 "cells": [
  {
   "cell_type": "code",
   "execution_count": 2,
   "metadata": {},
   "outputs": [],
   "source": [
    "from random import randint\n",
    "\n",
    "testdata = \"\"\n",
    "for _ in range(100):\n",
    "    testdata += f\"{randint(0,999)}:\"\n",
    "testdata = testdata.strip(\":\")\n",
    "\n",
    "with open(\"infections_test.txt\", mode=\"w\") as f:\n",
    "    f.write(testdata)"
   ]
  },
  {
   "cell_type": "code",
   "execution_count": 3,
   "metadata": {},
   "outputs": [],
   "source": [
    "from random import randint\n",
    "\n",
    "for i in range(1, 4):\n",
    "    testdata = \"\"\n",
    "    for _ in range(100):\n",
    "        testdata += f\"{randint(0,999)}:\"\n",
    "    testdata = testdata.strip(\":\")\n",
    "\n",
    "    with open(f\"data/infections_test{i}.txt\", mode=\"w\") as f:\n",
    "        f.write(testdata)"
   ]
  },
  {
   "cell_type": "code",
   "execution_count": null,
   "metadata": {},
   "outputs": [],
   "source": []
  }
 ],
 "metadata": {
  "kernelspec": {
   "display_name": ".venv",
   "language": "python",
   "name": "python3"
  },
  "language_info": {
   "codemirror_mode": {
    "name": "ipython",
    "version": 3
   },
   "file_extension": ".py",
   "mimetype": "text/x-python",
   "name": "python",
   "nbconvert_exporter": "python",
   "pygments_lexer": "ipython3",
   "version": "3.12.3"
  }
 },
 "nbformat": 4,
 "nbformat_minor": 2
}
