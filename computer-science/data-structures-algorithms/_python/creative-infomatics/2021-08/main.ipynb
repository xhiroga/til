{
 "cells": [
  {
   "cell_type": "code",
   "execution_count": 2,
   "metadata": {},
   "outputs": [],
   "source": [
    "def read_infections(file_name: str) -> list[int]:\n",
    "    with open(file_name, \"r\") as f:\n",
    "        line = f.readline().strip()\n",
    "        return [int(word) for word in line.split(\":\")]"
   ]
  },
  {
   "cell_type": "code",
   "execution_count": 4,
   "metadata": {},
   "outputs": [
    {
     "name": "stdout",
     "output_type": "stream",
     "text": [
      "desc[9]=926, desc=[996, 993, 988, 975, 971, 964, 946, 939, 934, 926, 911, 905, 898, 880, 879, 873, 869, 867, 853, 843, 836, 830, 826, 811, 807, 799, 778, 760, 742, 717, 697, 691, 689, 688, 686, 641, 624, 618, 617, 604, 587, 583, 581, 579, 578, 557, 552, 532, 529, 527, 516, 514, 513, 497, 484, 481, 469, 465, 453, 438, 426, 412, 398, 383, 382, 357, 334, 330, 322, 310, 295, 292, 276, 274, 271, 214, 209, 199, 188, 179, 176, 174, 171, 163, 151, 136, 109, 107, 102, 74, 72, 58, 27, 23, 11, 6, 5, 3]\n"
     ]
    }
   ],
   "source": [
    "def question1_1():\n",
    "    infections = read_infections(\"infections_test.txt\")\n",
    "    # remove duplications\n",
    "    desc = sorted(set(infections), reverse=True)\n",
    "    print(f\"{desc[9]=}, {desc=}\")\n",
    "\n",
    "\n",
    "question1_1()"
   ]
  },
  {
   "cell_type": "code",
   "execution_count": 7,
   "metadata": {},
   "outputs": [
    {
     "name": "stdout",
     "output_type": "stream",
     "text": [
      "n_10=923\n",
      "n_10=867\n",
      "n_10=892\n",
      "total=2682\n"
     ]
    }
   ],
   "source": [
    "def question1_2():\n",
    "    total = 0\n",
    "    for file_name in [\n",
    "        \"data/infections_ex1_test.txt\",\n",
    "        \"data/infections_ex2_test.txt\",\n",
    "        \"data/infections_ex3_test.txt\",\n",
    "    ]:\n",
    "        infections = read_infections(file_name)\n",
    "        n_10 = sorted(set(infections), reverse=True)[9]\n",
    "        print(f\"{n_10=}\")\n",
    "        total += n_10\n",
    "    print(f\"{total=}\")\n",
    "\n",
    "\n",
    "question1_2()"
   ]
  },
  {
   "cell_type": "code",
   "execution_count": 12,
   "metadata": {},
   "outputs": [],
   "source": [
    "def to_diffs(infections: list[int]) -> list[int]:\n",
    "    yesterday = 0\n",
    "    diffs = []\n",
    "    for infection in infections:\n",
    "        diff = infection - yesterday\n",
    "        diffs.append(diff)\n",
    "        yesterday = infection\n",
    "\n",
    "    print(f\"{diffs=}\")\n",
    "    return diffs"
   ]
  },
  {
   "cell_type": "code",
   "execution_count": 13,
   "metadata": {},
   "outputs": [
    {
     "name": "stdout",
     "output_type": "stream",
     "text": [
      "diffs=[10, 5, -15]\n"
     ]
    }
   ],
   "source": [
    "origin = [10, 15, 0]\n",
    "expected = [10, 5, -15]\n",
    "actual = to_diffs(origin)\n",
    "assert actual == expected"
   ]
  },
  {
   "cell_type": "code",
   "execution_count": 19,
   "metadata": {},
   "outputs": [
    {
     "name": "stdout",
     "output_type": "stream",
     "text": [
      "diffs=[689, -48, -258, 543, -655, 210, -16, -170, 616, -760, 401, -39, 184, -363, 519, -296, -551, 867, -461, 399, -279, 51, 381, -95, -355, -509, 966, -545, -212, -105, -35, 612, -157, -237, 538, 166, -117, -80, 8, -485, -113, 766, -799, 23, 668, 67, -98, -367, 374, -771, 35, -49, 521, -52, -504, -20, 823, -248, -390, -17, 822, -251, -640, 676, -174, -222, -25, 631, -115, -292, 394, -284, -555, 762, -568, -303, 853, -163, -100, 329, -41, -287, -31, -71, -32, -210, 414, 251, -486, 171, -314, -34, -97, 318, -323, 586, -749, 427, -40, -235]\n",
      "len(text)=375, text='+689-48-258+543-655+210-16-170+616-760+401-39+184-363+519-296-551+867-461+399-279+51+381-95-355-509+966-545-212-105-35+612-157-237+538+166-117-80+8-485-113+766-799+23+668+67-98-367+374-771+35-49+521-52-504-20+823-248-390-17+822-251-640+676-174-222-25+631-115-292+394-284-555+762-568-303+853-163-100+329-41-287-31-71-32-210+414+251-486+171-314-34-97+318-323+586-749+427-40-235'\n"
     ]
    }
   ],
   "source": [
    "def question1_3():\n",
    "    infections = read_infections(\"infections_test.txt\")\n",
    "    diffs = to_diffs(infections)\n",
    "    text = \"\"\n",
    "    for diff in diffs:\n",
    "        if diff >= 0:\n",
    "            text += f\"+{diff}\"\n",
    "        else:\n",
    "            text += f\"{diff}\"\n",
    "    print(f\"{len(text)=}, {text=}\")\n",
    "\n",
    "    with open(\"out/diff.txt\", mode=\"w\") as f:\n",
    "        f.write(text)\n",
    "\n",
    "\n",
    "question1_3()"
   ]
  },
  {
   "cell_type": "code",
   "execution_count": 29,
   "metadata": {},
   "outputs": [],
   "source": [
    "# まず増加数の和が最大となる期間を全て抽出する\n",
    "def find_maximum_sum_period(diffs: list[int]) -> list[tuple[int]]:\n",
    "    最大の増加数の和 = 0\n",
    "    最大の増加数の和の期間s = []\n",
    "    現在の増加数の和 = 0\n",
    "    現在の増加が開始した日 = None\n",
    "\n",
    "    for i, diff in enumerate(diffs):\n",
    "        print(f\"{i=}, {diff=}\")\n",
    "        現在の増加数の和 += diff\n",
    "        if 現在の増加が開始した日 is None:\n",
    "            現在の増加が開始した日 = i\n",
    "\n",
    "        if 現在の増加数の和 <= 0:\n",
    "            現在の増加数の和 = 0\n",
    "            現在の増加が開始した日 = None\n",
    "            print(f\"{i=}, {diff=}, {現在の増加数の和=} <= 0\")\n",
    "            continue\n",
    "\n",
    "        if (\n",
    "            最大の増加数の和 == 現在の増加数の和\n",
    "            and 最大の増加数の和の期間s[-1][0] != 現在の増加が開始した日\n",
    "        ):\n",
    "            最大の増加数の和の期間s.append((現在の増加が開始した日, i))\n",
    "            print(\n",
    "                f\"{i=}, {diff=}, {最大の増加数の和=}, {現在の増加数の和=}, {最大の増加数の和の期間s=}\"\n",
    "            )\n",
    "        elif 最大の増加数の和 < 現在の増加数の和:\n",
    "            最大の増加数の和 = 現在の増加数の和\n",
    "            最大の増加数の和の期間s = [(現在の増加が開始した日, i)]\n",
    "            print(\n",
    "                f\"{i=}, {diff=}, {最大の増加数の和=}, {現在の増加数の和=}, {最大の増加数の和の期間s=}\"\n",
    "            )\n",
    "\n",
    "    return 最大の増加数の和の期間s"
   ]
  },
  {
   "cell_type": "code",
   "execution_count": 32,
   "metadata": {},
   "outputs": [
    {
     "name": "stdout",
     "output_type": "stream",
     "text": [
      "i=0, diff=10\n",
      "i=0, diff=10, 最大の増加数の和=10, 現在の増加数の和=10, 最大の増加数の和の期間s=[(0, 0)]\n",
      "i=1, diff=20\n",
      "i=1, diff=20, 最大の増加数の和=30, 現在の増加数の和=30, 最大の増加数の和の期間s=[(0, 1)]\n",
      "i=2, diff=-20\n",
      "i=3, diff=100\n",
      "i=3, diff=100, 最大の増加数の和=110, 現在の増加数の和=110, 最大の増加数の和の期間s=[(0, 3)]\n"
     ]
    }
   ],
   "source": [
    "# 微減する日もあるが、最終的に最大になるケース\n",
    "origin = [10, 20, -20, 100]\n",
    "expected = [(0, 3)]\n",
    "actual = find_maximum_sum_period(origin)\n",
    "assert actual == expected"
   ]
  },
  {
   "cell_type": "code",
   "execution_count": 30,
   "metadata": {},
   "outputs": [
    {
     "name": "stdout",
     "output_type": "stream",
     "text": [
      "i=0, diff=10\n",
      "i=0, diff=10, 最大の増加数の和=10, 現在の増加数の和=10, 最大の増加数の和の期間s=[(0, 0)]\n",
      "i=1, diff=20\n",
      "i=1, diff=20, 最大の増加数の和=30, 現在の増加数の和=30, 最大の増加数の和の期間s=[(0, 1)]\n",
      "i=2, diff=-50\n",
      "i=2, diff=-50, 現在の増加数の和=0 <= 0\n",
      "i=3, diff=15\n",
      "i=4, diff=15\n",
      "i=4, diff=15, 最大の増加数の和=30, 現在の増加数の和=30, 最大の増加数の和の期間s=[(0, 1), (3, 4)]\n",
      "i=5, diff=-20\n"
     ]
    }
   ],
   "source": [
    "# 最大の増加数の和を持つ期間が複数あるケース\n",
    "origin = [10, 20, -50, 15, 15, -20]\n",
    "expected = [(0, 1), (3, 4)]\n",
    "actual = find_maximum_sum_period(origin)\n",
    "assert actual == expected"
   ]
  },
  {
   "cell_type": "code",
   "execution_count": 31,
   "metadata": {},
   "outputs": [
    {
     "name": "stdout",
     "output_type": "stream",
     "text": [
      "i=0, diff=10\n",
      "i=0, diff=10, 最大の増加数の和=10, 現在の増加数の和=10, 最大の増加数の和の期間s=[(0, 0)]\n",
      "i=1, diff=20\n",
      "i=1, diff=20, 最大の増加数の和=30, 現在の増加数の和=30, 最大の増加数の和の期間s=[(0, 1)]\n",
      "i=2, diff=-50\n",
      "i=2, diff=-50, 現在の増加数の和=0 <= 0\n",
      "i=3, diff=15\n",
      "i=4, diff=15\n",
      "i=4, diff=15, 最大の増加数の和=30, 現在の増加数の和=30, 最大の増加数の和の期間s=[(0, 1), (3, 4)]\n",
      "i=5, diff=0\n"
     ]
    }
   ],
   "source": [
    "# 増加数が0の期間があるケース\n",
    "origin = [10, 20, -50, 15, 15, 0]\n",
    "expected = [(0, 1), (3, 4)]\n",
    "actual = find_maximum_sum_period(origin)\n",
    "assert actual == expected"
   ]
  },
  {
   "cell_type": "code",
   "execution_count": 34,
   "metadata": {},
   "outputs": [
    {
     "name": "stdout",
     "output_type": "stream",
     "text": [
      "diffs=[689, -48, -258, 543, -655, 210, -16, -170, 616, -760, 401, -39, 184, -363, 519, -296, -551, 867, -461, 399, -279, 51, 381, -95, -355, -509, 966, -545, -212, -105, -35, 612, -157, -237, 538, 166, -117, -80, 8, -485, -113, 766, -799, 23, 668, 67, -98, -367, 374, -771, 35, -49, 521, -52, -504, -20, 823, -248, -390, -17, 822, -251, -640, 676, -174, -222, -25, 631, -115, -292, 394, -284, -555, 762, -568, -303, 853, -163, -100, 329, -41, -287, -31, -71, -32, -210, 414, 251, -486, 171, -314, -34, -97, 318, -323, 586, -749, 427, -40, -235]\n",
      "i=0, diff=689\n",
      "i=0, diff=689, 最大の増加数の和=689, 現在の増加数の和=689, 最大の増加数の和の期間s=[(0, 0)]\n",
      "i=1, diff=-48\n",
      "i=2, diff=-258\n",
      "i=3, diff=543\n",
      "i=3, diff=543, 最大の増加数の和=926, 現在の増加数の和=926, 最大の増加数の和の期間s=[(0, 3)]\n",
      "i=4, diff=-655\n",
      "i=5, diff=210\n",
      "i=6, diff=-16\n",
      "i=7, diff=-170\n",
      "i=8, diff=616\n",
      "i=9, diff=-760\n",
      "i=10, diff=401\n",
      "i=11, diff=-39\n",
      "i=12, diff=184\n",
      "i=13, diff=-363\n",
      "i=14, diff=519\n",
      "i=15, diff=-296\n",
      "i=16, diff=-551\n",
      "i=17, diff=867\n",
      "i=18, diff=-461\n",
      "i=19, diff=399\n",
      "i=20, diff=-279\n",
      "i=21, diff=51\n",
      "i=22, diff=381\n",
      "i=22, diff=381, 最大の増加数の和=964, 現在の増加数の和=964, 最大の増加数の和の期間s=[(0, 22)]\n",
      "i=23, diff=-95\n",
      "i=24, diff=-355\n",
      "i=25, diff=-509\n",
      "i=26, diff=966\n",
      "i=26, diff=966, 最大の増加数の和=971, 現在の増加数の和=971, 最大の増加数の和の期間s=[(0, 26)]\n",
      "i=27, diff=-545\n",
      "i=28, diff=-212\n",
      "i=29, diff=-105\n",
      "i=30, diff=-35\n",
      "i=31, diff=612\n",
      "i=32, diff=-157\n",
      "i=33, diff=-237\n",
      "i=34, diff=538\n",
      "i=35, diff=166\n",
      "i=35, diff=166, 最大の増加数の和=996, 現在の増加数の和=996, 最大の増加数の和の期間s=[(0, 35)]\n",
      "i=36, diff=-117\n",
      "i=37, diff=-80\n",
      "i=38, diff=8\n",
      "i=39, diff=-485\n",
      "i=40, diff=-113\n",
      "i=41, diff=766\n",
      "i=42, diff=-799\n",
      "i=43, diff=23\n",
      "i=44, diff=668\n",
      "i=45, diff=67\n",
      "i=46, diff=-98\n",
      "i=47, diff=-367\n",
      "i=48, diff=374\n",
      "i=49, diff=-771\n",
      "i=50, diff=35\n",
      "i=51, diff=-49\n",
      "i=52, diff=521\n",
      "i=53, diff=-52\n",
      "i=54, diff=-504\n",
      "i=55, diff=-20\n",
      "i=56, diff=823\n",
      "i=57, diff=-248\n",
      "i=58, diff=-390\n",
      "i=59, diff=-17\n",
      "i=60, diff=822\n",
      "i=61, diff=-251\n",
      "i=62, diff=-640\n",
      "i=63, diff=676\n",
      "i=64, diff=-174\n",
      "i=65, diff=-222\n",
      "i=66, diff=-25\n",
      "i=67, diff=631\n",
      "i=68, diff=-115\n",
      "i=69, diff=-292\n",
      "i=70, diff=394\n",
      "i=71, diff=-284\n",
      "i=72, diff=-555\n",
      "i=73, diff=762\n",
      "i=74, diff=-568\n",
      "i=75, diff=-303\n",
      "i=76, diff=853\n",
      "i=77, diff=-163\n",
      "i=78, diff=-100\n",
      "i=79, diff=329\n",
      "i=80, diff=-41\n",
      "i=81, diff=-287\n",
      "i=82, diff=-31\n",
      "i=83, diff=-71\n",
      "i=84, diff=-32\n",
      "i=85, diff=-210\n",
      "i=86, diff=414\n",
      "i=87, diff=251\n",
      "i=88, diff=-486\n",
      "i=89, diff=171\n",
      "i=90, diff=-314\n",
      "i=91, diff=-34\n",
      "i=92, diff=-97\n",
      "i=93, diff=318\n",
      "i=94, diff=-323\n",
      "i=95, diff=586\n",
      "i=96, diff=-749\n",
      "i=97, diff=427\n",
      "i=98, diff=-40\n",
      "i=99, diff=-235\n",
      "[(0, 35)]\n"
     ]
    }
   ],
   "source": [
    "def question1_4():\n",
    "    infections = read_infections(\"infections_test.txt\")\n",
    "    diffs = to_diffs(infections)\n",
    "    periods = find_maximum_sum_period(diffs)\n",
    "    print(periods)\n",
    "\n",
    "\n",
    "question1_4()"
   ]
  },
  {
   "cell_type": "code",
   "execution_count": 38,
   "metadata": {},
   "outputs": [],
   "source": [
    "def to_week_average(infections: list[int]):\n",
    "    averages = []\n",
    "    for i in range(3, len(infections) - 3):\n",
    "        averages.append(sum(infections[i - 3 : i + 4]) / 7)\n",
    "    return averages"
   ]
  },
  {
   "cell_type": "code",
   "execution_count": 39,
   "metadata": {},
   "outputs": [],
   "source": [
    "origin = [1, 2, 1, 2, 1, 2, 1, 3, 4]\n",
    "expected = [10 / 7, 12 / 7, 2]\n",
    "actual = to_week_average(origin)\n",
    "assert actual == expected"
   ]
  },
  {
   "cell_type": "code",
   "execution_count": 41,
   "metadata": {},
   "outputs": [
    {
     "name": "stdout",
     "output_type": "stream",
     "text": [
      "sum(infections)=52773\n",
      "len(averages)=94, min(averages)=195.57142857142858, max(averages)=752.8571428571429, sum(averages)=50041.71428571428\n"
     ]
    }
   ],
   "source": [
    "def question2_1():\n",
    "    infections = read_infections(\"infections_test.txt\")\n",
    "    print(f\"{sum(infections)=}\")  # sum(averages) が概ね合っていることの確認用\n",
    "    averages = to_week_average(infections)\n",
    "    print(f\"{len(averages)=}, {min(averages)=}, {max(averages)=}, {sum(averages)=}\")\n",
    "\n",
    "\n",
    "question2_1()"
   ]
  },
  {
   "cell_type": "code",
   "execution_count": 45,
   "metadata": {},
   "outputs": [],
   "source": [
    "def calc_similarity(infection_x: list[int], infection_y: list[int]):\n",
    "    sims = []\n",
    "    for i in range(0, len(infection_x) - len(infection_y) + 1):\n",
    "        diff = 0\n",
    "        for k in range(0, len(infection_y)):\n",
    "            diff += (infection_x[k + i] - infection_y[k]) ** 2\n",
    "\n",
    "        sims.append(-1 * diff / len(infection_y))\n",
    "        print(f\"{i=}, {sims=}\")\n",
    "    return max(sims)"
   ]
  },
  {
   "cell_type": "code",
   "execution_count": 46,
   "metadata": {},
   "outputs": [
    {
     "name": "stdout",
     "output_type": "stream",
     "text": [
      "i=0, sims=[-1.0]\n",
      "i=1, sims=[-1.0, 0.0]\n",
      "i=2, sims=[-1.0, 0.0, -1.0]\n",
      "i=3, sims=[-1.0, 0.0, -1.0, -4.0]\n",
      "i=4, sims=[-1.0, 0.0, -1.0, -4.0, -9.0]\n",
      "i=5, sims=[-1.0, 0.0, -1.0, -4.0, -9.0, -16.0]\n"
     ]
    }
   ],
   "source": [
    "testdata_x = [1, 2, 3, 4, 5, 6, 7, 8, 9]\n",
    "testdata_y = [2, 3, 4, 5]\n",
    "expected = 0\n",
    "actual = calc_similarity(testdata_x, testdata_y)\n",
    "assert actual == expected"
   ]
  },
  {
   "cell_type": "code",
   "execution_count": 54,
   "metadata": {},
   "outputs": [
    {
     "name": "stdout",
     "output_type": "stream",
     "text": [
      "i=0, len(infections_x)=100, len(infections_y)=100\n",
      "i=0, j=0, len(infections_x)=100, len(infections_y)=100, continue\n",
      "i=0, len(infections_x)=100, len(infections_y)=100\n",
      "i=0, sims=[-142041.42]\n",
      "i=0, j=1, len(infections_x)=100, len(infections_y)=100, update\n",
      "i=0, len(infections_x)=100, len(infections_y)=100\n",
      "i=0, sims=[-177042.82]\n",
      "i=1, len(infections_x)=100, len(infections_y)=100\n",
      "i=1, j=0, len(infections_x)=100, len(infections_y)=100, continue\n",
      "i=1, len(infections_x)=100, len(infections_y)=100\n",
      "i=1, j=1, len(infections_x)=100, len(infections_y)=100, continue\n",
      "i=1, len(infections_x)=100, len(infections_y)=100\n",
      "i=0, sims=[-148065.88]\n",
      "i=2, len(infections_x)=100, len(infections_y)=100\n",
      "i=2, j=0, len(infections_x)=100, len(infections_y)=100, continue\n",
      "i=2, len(infections_x)=100, len(infections_y)=100\n",
      "i=2, j=1, len(infections_x)=100, len(infections_y)=100, continue\n",
      "i=2, len(infections_x)=100, len(infections_y)=100\n",
      "i=2, j=2, len(infections_x)=100, len(infections_y)=100, continue\n",
      "max_sim=-142041.42, max_sim_pairs=[(0, 1)]\n"
     ]
    },
    {
     "data": {
      "text/plain": [
       "(-142041.42, [(0, 1)])"
      ]
     },
     "execution_count": 54,
     "metadata": {},
     "output_type": "execute_result"
    }
   ],
   "source": [
    "import sys\n",
    "\n",
    "max_int = sys.maxsize\n",
    "min_int = -max_int - 1\n",
    "\n",
    "\n",
    "def question2_2():\n",
    "    infections_list = []\n",
    "    for file_name in [\n",
    "        \"data/infections_ex1_test.txt\",\n",
    "        \"data/infections_ex2_test.txt\",\n",
    "        \"data/infections_ex3_test.txt\",\n",
    "    ]:\n",
    "        infections_x = read_infections(file_name)\n",
    "        infections_list.append(infections_x)\n",
    "\n",
    "    max_sim = min_int\n",
    "    max_sim_pairs = []\n",
    "    for i, infections_x in enumerate(infections_list):\n",
    "        for j, infections_y in enumerate(infections_list):\n",
    "            print(f\"{i=}, {len(infections_x)=}, {len(infections_y)=}\")\n",
    "            if i >= j or not (len(infections_x) >= len(infections_y)):\n",
    "                print(\n",
    "                    f\"{i=}, {j=}, {len(infections_x)=}, {len(infections_y)=}, continue\"\n",
    "                )\n",
    "                continue\n",
    "\n",
    "            sim = calc_similarity(infections_x, infections_y)\n",
    "            if max_sim == sim:\n",
    "                max_sim_pairs.append(i, j)\n",
    "                print(f\"{i=}, {j=}, {len(infections_x)=}, {len(infections_y)=}, append\")\n",
    "            elif max_sim < sim:\n",
    "                max_sim = sim\n",
    "                max_sim_pairs = [(i, j)]\n",
    "                print(f\"{i=}, {j=}, {len(infections_x)=}, {len(infections_y)=}, update\")\n",
    "\n",
    "    print(f\"{max_sim=}, {max_sim_pairs=}\")\n",
    "    return (max_sim, max_sim_pairs)\n",
    "\n",
    "\n",
    "question2_2()"
   ]
  },
  {
   "cell_type": "code",
   "execution_count": null,
   "metadata": {},
   "outputs": [],
   "source": []
  }
 ],
 "metadata": {
  "kernelspec": {
   "display_name": ".venv",
   "language": "python",
   "name": "python3"
  },
  "language_info": {
   "codemirror_mode": {
    "name": "ipython",
    "version": 3
   },
   "file_extension": ".py",
   "mimetype": "text/x-python",
   "name": "python",
   "nbconvert_exporter": "python",
   "pygments_lexer": "ipython3",
   "version": "3.12.3"
  }
 },
 "nbformat": 4,
 "nbformat_minor": 2
}
