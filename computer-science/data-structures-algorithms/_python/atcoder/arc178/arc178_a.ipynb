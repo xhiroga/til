{
 "cells": [
  {
   "cell_type": "markdown",
   "metadata": {},
   "source": [
    "https://atcoder.jp/contests/arc178/tasks/arc178_a\n"
   ]
  },
  {
   "cell_type": "code",
   "execution_count": 55,
   "metadata": {},
   "outputs": [],
   "source": [
    "# はじめに考えた方法だが、計算量がO(n!)のためTLEする。\n",
    "import itertools\n",
    "\n",
    "\n",
    "def func(n: int, m: int, a: list[int]):\n",
    "    combinations = itertools.permutations(range(1, n + 1))\n",
    "    for comb in combinations:\n",
    "        # (1,2,...,A_i)の順列がPの連続部分列であるということは、A_i以下の数字がA_i連続で続くということ\n",
    "        has_partial = False\n",
    "        for a_i in a:\n",
    "            count = 0\n",
    "            for num in comb:\n",
    "                if a_i >= num:\n",
    "                    count += 1\n",
    "                elif count > 0:\n",
    "                    break\n",
    "            if count == a_i:\n",
    "                has_partial = True\n",
    "                break\n",
    "        if not has_partial:\n",
    "            return \" \".join(str(comb))\n",
    "    return \"-1\"\n"
   ]
  },
  {
   "cell_type": "code",
   "execution_count": 56,
   "metadata": {},
   "outputs": [],
   "source": [
    "def func(n: int, m: int, a: list[int]):  # noqa: F811\n",
    "    if n <= max(a) or 1 in a:\n",
    "        return \"-1\"\n",
    "    a_asc = sorted(a)\n",
    "    permutation = list(range(1, n + 1))\n",
    "    for a_i in a_asc:\n",
    "        permutation[a_i - 1], permutation[a_i] = permutation[a_i], permutation[a_i - 1]\n",
    "    return \" \".join([str(p) for p in permutation])\n"
   ]
  },
  {
   "cell_type": "code",
   "execution_count": 57,
   "metadata": {},
   "outputs": [],
   "source": [
    "expected = \"1 3 2 4\"\n",
    "actual = func(4, 1, [2])\n",
    "assert actual == expected\n"
   ]
  },
  {
   "cell_type": "code",
   "execution_count": 58,
   "metadata": {},
   "outputs": [],
   "source": [
    "expected = \"1 3 4 5 2\"\n",
    "actual = func(5, 3, [4, 3, 2])\n",
    "assert actual == expected\n"
   ]
  },
  {
   "cell_type": "code",
   "execution_count": 59,
   "metadata": {},
   "outputs": [],
   "source": [
    "expected = \"-1\"\n",
    "actual = func(43, 2, [43, 2])\n",
    "assert actual == expected\n"
   ]
  },
  {
   "cell_type": "code",
   "execution_count": 60,
   "metadata": {},
   "outputs": [],
   "source": [
    "expected = \"-1\"\n",
    "actual = func(92, 4, [16, 7, 1, 67])\n",
    "assert actual == expected\n"
   ]
  },
  {
   "cell_type": "code",
   "execution_count": 65,
   "metadata": {},
   "outputs": [],
   "source": [
    "def parse() -> tuple[int, int, list[int]]:\n",
    "    n, m = (int(num) for num in input().split(\" \"))\n",
    "    a = [int(num) for num in input().split(\" \")]\n",
    "    return (n, m, a)\n"
   ]
  },
  {
   "cell_type": "code",
   "execution_count": 66,
   "metadata": {},
   "outputs": [],
   "source": [
    "from unittest.mock import patch\n",
    "\n",
    "with patch(\"builtins.input\", side_effect=[\"43 2\", \"43 2\"]):\n",
    "    expected = (43, 2, [43, 2])\n",
    "    actual = parse()\n",
    "    assert expected == actual\n"
   ]
  },
  {
   "cell_type": "code",
   "execution_count": 68,
   "metadata": {},
   "outputs": [],
   "source": [
    "with patch(\"builtins.input\", side_effect=[\"92 4\", \"16 7 1 67\"]):\n",
    "    expected = \"-1\"\n",
    "    n, m, a = parse()\n",
    "    actual = func(n, m, a)\n",
    "    assert expected == actual\n"
   ]
  },
  {
   "cell_type": "code",
   "execution_count": null,
   "metadata": {},
   "outputs": [],
   "source": []
  }
 ],
 "metadata": {
  "kernelspec": {
   "display_name": "til_machine_learning_py312",
   "language": "python",
   "name": "python3"
  },
  "language_info": {
   "codemirror_mode": {
    "name": "ipython",
    "version": 3
   },
   "file_extension": ".py",
   "mimetype": "text/x-python",
   "name": "python",
   "nbconvert_exporter": "python",
   "pygments_lexer": "ipython3",
   "version": "3.12.2"
  }
 },
 "nbformat": 4,
 "nbformat_minor": 2
}
