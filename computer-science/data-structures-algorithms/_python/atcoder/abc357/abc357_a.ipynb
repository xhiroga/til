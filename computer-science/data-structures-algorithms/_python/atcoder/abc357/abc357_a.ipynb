{
 "cells": [
  {
   "cell_type": "code",
   "execution_count": 1,
   "metadata": {},
   "outputs": [
    {
     "name": "stdout",
     "output_type": "stream",
     "text": [
      "env: PYTHON_LOGLEVEL=DEBUG\n"
     ]
    }
   ],
   "source": [
    "%env PYTHON_LOGLEVEL=DEBUG"
   ]
  },
  {
   "cell_type": "code",
   "execution_count": 2,
   "metadata": {},
   "outputs": [],
   "source": [
    "from logging import getLogger, StreamHandler, WARNING\n",
    "import os\n",
    "\n",
    "PYTHON_LOGLEVEL = os.environ.get(\"PYTHON_LOGLEVEL\", WARNING)\n",
    "logger = getLogger(__name__)\n",
    "handler = StreamHandler()\n",
    "handler.setLevel(PYTHON_LOGLEVEL)\n",
    "logger.setLevel(PYTHON_LOGLEVEL)\n",
    "logger.addHandler(handler)\n",
    "logger.propagate = False"
   ]
  },
  {
   "cell_type": "code",
   "execution_count": 3,
   "metadata": {},
   "outputs": [],
   "source": [
    "def sanitize_hands(m: int, hands: list[tuple[int, int]]):\n",
    "    count = 0\n",
    "    h = hands.pop(0)\n",
    "    while m >= h:\n",
    "        m = m - h\n",
    "        count += 1\n",
    "        logger.debug(f\"{m=}, {h=}, {count=}, {hands=}\")\n",
    "        if len(hands) == 0:\n",
    "            return count\n",
    "        h = hands.pop(0)\n",
    "    return count"
   ]
  },
  {
   "cell_type": "code",
   "execution_count": 4,
   "metadata": {},
   "outputs": [],
   "source": [
    "def parse() -> tuple[int, int, list[int]]:\n",
    "    n, m = (int(num) for num in input().split(\" \"))\n",
    "    hands = [int(num) for num in input().split(\" \")]\n",
    "    return (n, m, hands)"
   ]
  },
  {
   "cell_type": "code",
   "execution_count": 5,
   "metadata": {},
   "outputs": [
    {
     "name": "stdout",
     "output_type": "stream",
     "text": [
      "(5, 10, [2, 3, 2, 5, 3])\n"
     ]
    }
   ],
   "source": [
    "from unittest.mock import patch\n",
    "\n",
    "with patch(\"builtins.input\", side_effect=[\"5 10\", \"2 3 2 5 3\"]):\n",
    "    expected = (5, 10, [2, 3, 2, 5, 3])\n",
    "    actual = parse()\n",
    "    print(actual)\n",
    "    assert expected == actual"
   ]
  },
  {
   "cell_type": "code",
   "execution_count": 8,
   "metadata": {},
   "outputs": [
    {
     "name": "stderr",
     "output_type": "stream",
     "text": [
      "m=8, h=2, count=1, hands=[3, 2, 5, 3]\n",
      "m=5, h=3, count=2, hands=[2, 5, 3]\n",
      "m=3, h=2, count=3, hands=[5, 3]\n"
     ]
    },
    {
     "name": "stdout",
     "output_type": "stream",
     "text": [
      "3\n"
     ]
    }
   ],
   "source": [
    "from unittest.mock import patch\n",
    "\n",
    "with patch(\"builtins.input\", side_effect=[\"5 10\", \"2 3 2 5 3\"]):\n",
    "    expected = 3\n",
    "    n, m, hands = parse()\n",
    "    actual = sanitize_hands(m, hands)\n",
    "    print(actual)\n",
    "    assert expected == actual"
   ]
  },
  {
   "cell_type": "code",
   "execution_count": 7,
   "metadata": {},
   "outputs": [
    {
     "name": "stderr",
     "output_type": "stream",
     "text": [
      "m=8, h=2, count=1, hands=[3, 2, 3, 5]\n",
      "m=5, h=3, count=2, hands=[2, 3, 5]\n",
      "m=3, h=2, count=3, hands=[3, 5]\n",
      "m=0, h=3, count=4, hands=[5]\n"
     ]
    },
    {
     "name": "stdout",
     "output_type": "stream",
     "text": [
      "4\n"
     ]
    }
   ],
   "source": [
    "from unittest.mock import patch\n",
    "\n",
    "with patch(\"builtins.input\", side_effect=[\"5 10\", \"2 3 2 3 5\"]):\n",
    "    expected = 4\n",
    "    n, m, hands = parse()\n",
    "    actual = sanitize_hands(m, hands)\n",
    "    print(actual)\n",
    "    assert expected == actual"
   ]
  },
  {
   "cell_type": "code",
   "execution_count": 9,
   "metadata": {},
   "outputs": [
    {
     "name": "stderr",
     "output_type": "stream",
     "text": [
      "m=4, h=1, count=1, hands=[]\n"
     ]
    },
    {
     "name": "stdout",
     "output_type": "stream",
     "text": [
      "1\n"
     ]
    }
   ],
   "source": [
    "from unittest.mock import patch\n",
    "\n",
    "with patch(\"builtins.input\", side_effect=[\"1 5\", \"1\"]):\n",
    "    expected = 1\n",
    "    n, m, hands = parse()\n",
    "    actual = sanitize_hands(m, hands)\n",
    "    print(actual)\n",
    "    assert expected == actual"
   ]
  },
  {
   "cell_type": "code",
   "execution_count": 10,
   "metadata": {},
   "outputs": [
    {
     "name": "stdout",
     "output_type": "stream",
     "text": [
      "0\n"
     ]
    }
   ],
   "source": [
    "from unittest.mock import patch\n",
    "\n",
    "with patch(\"builtins.input\", side_effect=[\"1 1\", \"2\"]):\n",
    "    expected = 0\n",
    "    n, m, hands = parse()\n",
    "    actual = sanitize_hands(m, hands)\n",
    "    print(actual)\n",
    "    assert expected == actual"
   ]
  },
  {
   "cell_type": "code",
   "execution_count": 12,
   "metadata": {},
   "outputs": [
    {
     "name": "stdout",
     "output_type": "stream",
     "text": [
      "1\n"
     ]
    }
   ],
   "source": [
    "from unittest.mock import patch\n",
    "\n",
    "with patch(\"builtins.input\", side_effect=[\"2 100\", \"1 100\"]):\n",
    "    expected = 1\n",
    "    n, m, hands = parse()\n",
    "    actual = sanitize_hands(m, hands)\n",
    "    print(actual)\n",
    "    assert expected == actual"
   ]
  },
  {
   "cell_type": "code",
   "execution_count": null,
   "metadata": {},
   "outputs": [],
   "source": []
  }
 ],
 "metadata": {
  "kernelspec": {
   "display_name": ".venv",
   "language": "python",
   "name": "python3"
  },
  "language_info": {
   "codemirror_mode": {
    "name": "ipython",
    "version": 3
   },
   "file_extension": ".py",
   "mimetype": "text/x-python",
   "name": "python",
   "nbconvert_exporter": "python",
   "pygments_lexer": "ipython3",
   "version": "3.12.3"
  }
 },
 "nbformat": 4,
 "nbformat_minor": 2
}
