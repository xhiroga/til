{
 "cells": [
  {
   "cell_type": "markdown",
   "metadata": {},
   "source": [
    "# D - トレジャーハント"
   ]
  },
  {
   "cell_type": "markdown",
   "metadata": {},
   "source": [
    "networkxの練習のために挑戦。[AtCoderで使えるnetworkx ケーススタディ](https://qiita.com/yH3PO4/items/ffd81081c254895939c0)を参考にした。"
   ]
  },
  {
   "cell_type": "code",
   "execution_count": 1,
   "metadata": {},
   "outputs": [],
   "source": [
    "# networkxを用いない実装\n",
    "from collections import defaultdict\n",
    "from heapq import heappop, heappush\n",
    "\n",
    "\n",
    "def dijkstra(edges, start):\n",
    "    graph = defaultdict(lambda: [])\n",
    "    for u, v, w in edges:\n",
    "        graph[u].append((v, w))\n",
    "\n",
    "    dist = defaultdict(lambda: float(\"inf\"))\n",
    "    dist[start] = 0\n",
    "    heap = [(0, start)]\n",
    "\n",
    "    # heapはlistなので、__len__で評価される\n",
    "    while heap:\n",
    "        # 現在地を更新\n",
    "        d, u = heappop(heap)\n",
    "        if d > dist[u]:\n",
    "            continue\n",
    "        # 周辺を見渡す\n",
    "        for v, w in graph[u]:\n",
    "            if dist[u] + w < dist[v]:\n",
    "                dist[v] = dist[u] + w\n",
    "                heappush(heap, (dist[v], v))\n",
    "\n",
    "    return dist\n",
    "\n",
    "\n",
    "def treasure_hunt():\n",
    "    _, m, t = map(int, input().split())\n",
    "    vs = list(map(int, input().split()))\n",
    "    edges = [tuple(map(int, input().split())) for _ in range(m)]\n",
    "\n",
    "    # 経路の中で最も得点の高い頂点に、移動時間以外ずっといれば良い\n",
    "    # したがって、全ての頂点に対して最短閉路を求め、それを用いて得点を算出する\n",
    "    START = 1\n",
    "    forward_dists = dijkstra(edges, START)\n",
    "    reversed_edges = [(v, u, w) for u, v, w in edges]\n",
    "    backward_dists = dijkstra(reversed_edges, START)\n",
    "\n",
    "    max_score = 0\n",
    "    for i, w in enumerate(vs):\n",
    "        travel = forward_dists[i + 1] + backward_dists[i + 1]\n",
    "        if travel <= t:\n",
    "            score = w * (t - travel)\n",
    "            max_score = max(max_score, score)\n",
    "\n",
    "    return max_score"
   ]
  },
  {
   "cell_type": "code",
   "execution_count": 2,
   "metadata": {},
   "outputs": [],
   "source": [
    "from unittest.mock import patch\n",
    "\n",
    "with patch(\"builtins.input\", side_effect=[\"2 2 5\", \"1 3\", \"1 2 2\", \"2 1 1\"]):\n",
    "    expected = 6\n",
    "    actual = treasure_hunt()\n",
    "    assert expected == actual, print(f\"{expected=}, {actual=}\")"
   ]
  },
  {
   "cell_type": "code",
   "execution_count": 3,
   "metadata": {},
   "outputs": [],
   "source": [
    "from unittest.mock import patch\n",
    "\n",
    "with patch(\n",
    "    \"builtins.input\",\n",
    "    side_effect=\"\"\"\n",
    "2 2 3\n",
    "1 3\n",
    "1 2 2\n",
    "2 1 1\"\"\".strip().splitlines(),\n",
    "):\n",
    "    expected = 3\n",
    "    actual = treasure_hunt()\n",
    "    assert expected == actual, print(f\"{expected=}, {actual=}\")"
   ]
  },
  {
   "cell_type": "code",
   "execution_count": 4,
   "metadata": {},
   "outputs": [],
   "source": [
    "from unittest.mock import patch\n",
    "\n",
    "with patch(\n",
    "    \"builtins.input\",\n",
    "    side_effect=\"\"\"\n",
    "8 15 120\n",
    "1 2 6 16 1 3 11 9\n",
    "1 8 1\n",
    "7 3 14\n",
    "8 2 13\n",
    "3 5 4\n",
    "5 7 5\n",
    "6 4 1\n",
    "6 8 17\n",
    "7 8 5\n",
    "1 4 2\n",
    "4 7 1\n",
    "6 1 3\n",
    "3 1 10\n",
    "2 6 5\n",
    "2 4 12\n",
    "5 1 30\n",
    "\"\"\".strip().splitlines(),\n",
    "):\n",
    "    expected = 1488\n",
    "    actual = treasure_hunt()\n",
    "    assert expected == actual, print(f\"{expected=}, {actual=}\")"
   ]
  },
  {
   "cell_type": "code",
   "execution_count": 8,
   "metadata": {},
   "outputs": [],
   "source": [
    "# networkxを用いる実装\n",
    "import networkx as nx\n",
    "\n",
    "\n",
    "def treasure_hunt_x():\n",
    "    n, m, t = map(int, input().split())\n",
    "    vs = list(map(int, input().split()))\n",
    "    # add_edges_fromはtupleではなくmapを受け取っても機能する\n",
    "    edges = [map(int, input().split()) for _ in range(m)]\n",
    "\n",
    "    graph = nx.DiGraph()\n",
    "    graph.add_nodes_from(range(1, n + 1))\n",
    "    graph.add_weighted_edges_from(edges)\n",
    "\n",
    "    forward_dists = nx.single_source_dijkstra_path_length(graph, 1)\n",
    "    backward_dists = nx.single_source_dijkstra_path_length(graph.reverse(copy=False), 1)\n",
    "\n",
    "    max_score = 0\n",
    "    for i, w in enumerate(vs):\n",
    "        travel = forward_dists[i + 1] + backward_dists[i + 1]\n",
    "        if travel <= t:\n",
    "            score = w * (t - travel)\n",
    "            max_score = max(max_score, score)\n",
    "\n",
    "    return max_score"
   ]
  },
  {
   "cell_type": "code",
   "execution_count": 9,
   "metadata": {},
   "outputs": [],
   "source": [
    "from unittest.mock import patch\n",
    "\n",
    "with patch(\"builtins.input\", side_effect=[\"2 2 5\", \"1 3\", \"1 2 2\", \"2 1 1\"]):\n",
    "    expected = 6\n",
    "    actual = treasure_hunt_x()\n",
    "    assert expected == actual, print(f\"{expected=}, {actual=}\")"
   ]
  },
  {
   "cell_type": "code",
   "execution_count": 10,
   "metadata": {},
   "outputs": [],
   "source": [
    "from unittest.mock import patch\n",
    "\n",
    "with patch(\n",
    "    \"builtins.input\",\n",
    "    side_effect=\"\"\"\n",
    "2 2 3\n",
    "1 3\n",
    "1 2 2\n",
    "2 1 1\"\"\".strip().splitlines(),\n",
    "):\n",
    "    expected = 3\n",
    "    actual = treasure_hunt_x()\n",
    "    assert expected == actual, print(f\"{expected=}, {actual=}\")"
   ]
  },
  {
   "cell_type": "code",
   "execution_count": 11,
   "metadata": {},
   "outputs": [],
   "source": [
    "from unittest.mock import patch\n",
    "\n",
    "with patch(\n",
    "    \"builtins.input\",\n",
    "    side_effect=\"\"\"\n",
    "8 15 120\n",
    "1 2 6 16 1 3 11 9\n",
    "1 8 1\n",
    "7 3 14\n",
    "8 2 13\n",
    "3 5 4\n",
    "5 7 5\n",
    "6 4 1\n",
    "6 8 17\n",
    "7 8 5\n",
    "1 4 2\n",
    "4 7 1\n",
    "6 1 3\n",
    "3 1 10\n",
    "2 6 5\n",
    "2 4 12\n",
    "5 1 30\n",
    "\"\"\".strip().splitlines(),\n",
    "):\n",
    "    expected = 1488\n",
    "    actual = treasure_hunt_x()\n",
    "    assert expected == actual, print(f\"{expected=}, {actual=}\")"
   ]
  },
  {
   "cell_type": "code",
   "execution_count": null,
   "metadata": {},
   "outputs": [],
   "source": []
  }
 ],
 "metadata": {
  "kernelspec": {
   "display_name": ".venv",
   "language": "python",
   "name": "python3"
  },
  "language_info": {
   "codemirror_mode": {
    "name": "ipython",
    "version": 3
   },
   "file_extension": ".py",
   "mimetype": "text/x-python",
   "name": "python",
   "nbconvert_exporter": "python",
   "pygments_lexer": "ipython3",
   "version": "3.12.3"
  }
 },
 "nbformat": 4,
 "nbformat_minor": 2
}
