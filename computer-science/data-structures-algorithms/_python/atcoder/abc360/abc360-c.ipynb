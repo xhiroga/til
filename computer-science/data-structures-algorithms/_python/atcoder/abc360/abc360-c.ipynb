{
 "cells": [
  {
   "cell_type": "code",
   "execution_count": 7,
   "metadata": {},
   "outputs": [],
   "source": [
    "from collections import defaultdict\n",
    "\n",
    "\n",
    "def move_it():\n",
    "    _ = input()\n",
    "    a_list = tuple(map(int, input().split()))\n",
    "    w_list = tuple(map(int, input().split()))\n",
    "    boxes = defaultdict(lambda: [])\n",
    "    cost = 0\n",
    "    for i, a in enumerate(a_list):\n",
    "        boxes[a].append(w_list[i])\n",
    "    for a, ws in boxes.items():\n",
    "        if len(ws) > 1:\n",
    "            cost += sum(ws) - max(ws)\n",
    "    return cost"
   ]
  },
  {
   "cell_type": "code",
   "execution_count": 9,
   "metadata": {},
   "outputs": [
    {
     "name": "stdout",
     "output_type": "stream",
     "text": [
      "35\n"
     ]
    }
   ],
   "source": [
    "from unittest.mock import patch\n",
    "\n",
    "with patch(\"builtins.input\", side_effect=[\"5\", \"2 2 3 3 5\", \"33 40 2 12 16\"]):\n",
    "    expected = 35\n",
    "    actual = move_it()\n",
    "    print(actual)\n",
    "    assert expected == actual"
   ]
  },
  {
   "cell_type": "code",
   "execution_count": 10,
   "metadata": {},
   "outputs": [
    {
     "name": "stdout",
     "output_type": "stream",
     "text": [
      "17254\n"
     ]
    }
   ],
   "source": [
    "from unittest.mock import patch\n",
    "\n",
    "with patch(\n",
    "    \"builtins.input\",\n",
    "    side_effect=[\n",
    "        \"12\",\n",
    "        \"3 6 7 4 12 4 8 11 11 1 8 11\",\n",
    "        \"3925 9785 9752 3587 4013 1117 3937 7045 6437 6208 3391 6309\",\n",
    "    ],\n",
    "):\n",
    "    expected = 17254\n",
    "    actual = move_it()\n",
    "    print(actual)\n",
    "    assert expected == actual"
   ]
  },
  {
   "cell_type": "code",
   "execution_count": null,
   "metadata": {},
   "outputs": [],
   "source": []
  }
 ],
 "metadata": {
  "kernelspec": {
   "display_name": ".venv",
   "language": "python",
   "name": "python3"
  },
  "language_info": {
   "codemirror_mode": {
    "name": "ipython",
    "version": 3
   },
   "file_extension": ".py",
   "mimetype": "text/x-python",
   "name": "python",
   "nbconvert_exporter": "python",
   "pygments_lexer": "ipython3",
   "version": "3.12.3"
  }
 },
 "nbformat": 4,
 "nbformat_minor": 2
}
