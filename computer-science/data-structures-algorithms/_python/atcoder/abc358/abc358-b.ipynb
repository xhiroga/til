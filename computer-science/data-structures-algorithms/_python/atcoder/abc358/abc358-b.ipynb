{
 "cells": [
  {
   "cell_type": "code",
   "execution_count": 1,
   "metadata": {},
   "outputs": [
    {
     "name": "stdout",
     "output_type": "stream",
     "text": [
      "env: PYTHON_LOGLEVEL=DEBUG\n"
     ]
    }
   ],
   "source": [
    "%env PYTHON_LOGLEVEL=DEBUG"
   ]
  },
  {
   "cell_type": "code",
   "execution_count": 2,
   "metadata": {},
   "outputs": [],
   "source": [
    "from logging import getLogger, StreamHandler, WARNING\n",
    "import os\n",
    "\n",
    "PYTHON_LOGLEVEL = os.environ.get(\"PYTHON_LOGLEVEL\", WARNING)\n",
    "logger = getLogger(__name__)\n",
    "handler = StreamHandler()\n",
    "handler.setLevel(PYTHON_LOGLEVEL)\n",
    "logger.setLevel(PYTHON_LOGLEVEL)\n",
    "logger.addHandler(handler)\n",
    "logger.propagate = False"
   ]
  },
  {
   "cell_type": "code",
   "execution_count": 3,
   "metadata": {},
   "outputs": [],
   "source": [
    "def ticket_counter(購入にかかる時間: int, t: list[int]):\n",
    "    now = 0\n",
    "    line = []\n",
    "    購入進捗 = 0\n",
    "    done = []\n",
    "    while True:\n",
    "        logger.debug(f\"{now=}, {t=}, {line=}\")\n",
    "        if len(t) == 0 and len(line) == 0:\n",
    "            break\n",
    "        if len(line) > 0:\n",
    "            購入進捗 += 1\n",
    "            logger.debug(f\"{now=}, {t=}, {line=}, {購入進捗=}, 購入進捗++\")\n",
    "            if 購入進捗 == 購入にかかる時間:\n",
    "                line.pop(0)\n",
    "                done.append(now)\n",
    "                購入進捗 = 0\n",
    "                logger.debug(f\"{now=}, {t=}, {line=}, {購入進捗=}, done.append\")\n",
    "        if len(t) > 0 and t[0] == now:\n",
    "            line.append(t.pop(0))\n",
    "            logger.debug(f\"{now=}, {t=}, {line=}, line.append\")\n",
    "        now += 1\n",
    "    logger.debug(f\"{done=}\")\n",
    "    return \"\\n\".join([str(num) for num in done])"
   ]
  },
  {
   "cell_type": "code",
   "execution_count": 4,
   "metadata": {},
   "outputs": [],
   "source": [
    "def ticket_counter_v2(購入にかかる時間: int, 来園客: list[int]):\n",
    "    購入にかかった時間s = []\n",
    "    前の人の購入が終わった時間 = 0\n",
    "    for 到着時間 in 来園客:\n",
    "        購入にかかった時間 = (\n",
    "            max(前の人の購入が終わった時間, 到着時間) + 購入にかかる時間\n",
    "        )\n",
    "        購入にかかった時間s.append(購入にかかった時間)\n",
    "        前の人の購入が終わった時間 = 購入にかかった時間\n",
    "    return \"\\n\".join([str(num) for num in 購入にかかった時間s])"
   ]
  },
  {
   "cell_type": "code",
   "execution_count": 5,
   "metadata": {},
   "outputs": [],
   "source": [
    "def parse() -> tuple[int, int, list[int]]:\n",
    "    line1 = input()\n",
    "    n, a = (int(word) for word in line1.split())\n",
    "    line2 = input()\n",
    "    t = [int(word) for word in line2.split()]\n",
    "    return (n, a, t)"
   ]
  },
  {
   "cell_type": "code",
   "execution_count": 6,
   "metadata": {},
   "outputs": [
    {
     "name": "stdout",
     "output_type": "stream",
     "text": [
      "4\n",
      "8\n",
      "14\n"
     ]
    }
   ],
   "source": [
    "from unittest.mock import patch\n",
    "\n",
    "with patch(\"builtins.input\", side_effect=[\"3 4\", \"0 2 10\"]):\n",
    "    expected = \"4\\n8\\n14\"\n",
    "    _, a, t = parse()\n",
    "    actual = ticket_counter_v2(a, t)\n",
    "    print(actual)\n",
    "    assert expected == actual"
   ]
  },
  {
   "cell_type": "code",
   "execution_count": 7,
   "metadata": {},
   "outputs": [
    {
     "name": "stdout",
     "output_type": "stream",
     "text": [
      "4\n",
      "7\n",
      "10\n"
     ]
    }
   ],
   "source": [
    "from unittest.mock import patch\n",
    "\n",
    "with patch(\"builtins.input\", side_effect=[\"3 3\", \"1 4 7\"]):\n",
    "    expected = \"4\\n7\\n10\"\n",
    "    _, a, t = parse()\n",
    "    actual = ticket_counter_v2(a, t)\n",
    "    print(actual)\n",
    "    assert expected == actual"
   ]
  },
  {
   "cell_type": "code",
   "execution_count": 8,
   "metadata": {},
   "outputs": [
    {
     "name": "stdout",
     "output_type": "stream",
     "text": [
      "170\n",
      "220\n",
      "270\n",
      "506\n",
      "590\n",
      "640\n",
      "690\n",
      "793\n",
      "843\n",
      "1041\n"
     ]
    }
   ],
   "source": [
    "from logging import WARNING\n",
    "from unittest.mock import patch\n",
    "\n",
    "handler.setLevel(WARNING)\n",
    "\n",
    "with patch(\n",
    "    \"builtins.input\",\n",
    "    side_effect=[\n",
    "        \"10 50\",\n",
    "        \"120 165 196 456 540 552 561 743 757 991\",\n",
    "    ],\n",
    "):\n",
    "    expected = \"\"\"170\n",
    "220\n",
    "270\n",
    "506\n",
    "590\n",
    "640\n",
    "690\n",
    "793\n",
    "843\n",
    "1041\n",
    "\"\"\".strip()\n",
    "    _, a, t = parse()\n",
    "    actual = ticket_counter_v2(a, t)\n",
    "    print(actual)\n",
    "    assert expected == actual"
   ]
  },
  {
   "cell_type": "code",
   "execution_count": 9,
   "metadata": {},
   "outputs": [
    {
     "name": "stdout",
     "output_type": "stream",
     "text": [
      "170190\n",
      "220190\n",
      "270190\n",
      "506895\n",
      "590000\n",
      "640000\n",
      "690000\n",
      "793796\n",
      "843796\n",
      "1041216\n"
     ]
    }
   ],
   "source": [
    "from logging import WARNING\n",
    "from unittest.mock import patch\n",
    "\n",
    "handler.setLevel(WARNING)\n",
    "\n",
    "with patch(\n",
    "    \"builtins.input\",\n",
    "    side_effect=[\n",
    "        \"10 50000\",\n",
    "        \"120190 165111 196897 456895 540000 552614 561627 743796 757613 991216\",\n",
    "    ],\n",
    "):\n",
    "    expected = \"\"\"\n",
    "170190\n",
    "220190\n",
    "270190\n",
    "506895\n",
    "590000\n",
    "640000\n",
    "690000\n",
    "793796\n",
    "843796\n",
    "1041216\n",
    "\"\"\".strip()\n",
    "    _, a, t = parse()\n",
    "    actual = ticket_counter_v2(a, t)\n",
    "    print(actual)\n",
    "    assert expected == actual"
   ]
  },
  {
   "cell_type": "code",
   "execution_count": null,
   "metadata": {},
   "outputs": [],
   "source": []
  }
 ],
 "metadata": {
  "kernelspec": {
   "display_name": ".venv",
   "language": "python",
   "name": "python3"
  },
  "language_info": {
   "codemirror_mode": {
    "name": "ipython",
    "version": 3
   },
   "file_extension": ".py",
   "mimetype": "text/x-python",
   "name": "python",
   "nbconvert_exporter": "python",
   "pygments_lexer": "ipython3",
   "version": "3.12.3"
  }
 },
 "nbformat": 4,
 "nbformat_minor": 2
}
