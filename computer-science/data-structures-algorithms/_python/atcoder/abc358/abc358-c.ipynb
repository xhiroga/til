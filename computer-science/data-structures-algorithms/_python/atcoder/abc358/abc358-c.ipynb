{
 "cells": [
  {
   "cell_type": "code",
   "execution_count": 1,
   "metadata": {},
   "outputs": [
    {
     "name": "stdout",
     "output_type": "stream",
     "text": [
      "env: PYTHON_LOGLEVEL=DEBUG\n"
     ]
    }
   ],
   "source": [
    "%env PYTHON_LOGLEVEL=DEBUG"
   ]
  },
  {
   "cell_type": "code",
   "execution_count": 8,
   "metadata": {},
   "outputs": [],
   "source": [
    "from logging import getLogger, StreamHandler, WARNING\n",
    "import os\n",
    "\n",
    "PYTHON_LOGLEVEL = os.environ.get(\"PYTHON_LOGLEVEL\", WARNING)\n",
    "logger = getLogger(__name__)\n",
    "handler = StreamHandler()\n",
    "handler.setLevel(PYTHON_LOGLEVEL)\n",
    "logger.setLevel(PYTHON_LOGLEVEL)\n",
    "logger.addHandler(handler)\n",
    "logger.propagate = False"
   ]
  },
  {
   "cell_type": "code",
   "execution_count": 9,
   "metadata": {},
   "outputs": [],
   "source": [
    "from collections import defaultdict\n",
    "\n",
    "dp = defaultdict(lambda: None)\n",
    "\n",
    "\n",
    "def count_move(tastes: int, shops: list[str]):\n",
    "    logger.debug(f\"{bin(tastes)=}, shops: {[bin(shop) for shop in shops]}\")\n",
    "    if dp[tastes] is not None:\n",
    "        return dp[tastes]\n",
    "\n",
    "    if tastes == 0:\n",
    "        return 0\n",
    "\n",
    "    i = 0\n",
    "    while True:\n",
    "        # 持っていない味の場合、その味を探しに行く\n",
    "        if tastes & 2**i:\n",
    "            break\n",
    "        else:\n",
    "            i += 1\n",
    "    探す味 = 2**i\n",
    "    logger.debug(f\"{bin(探す味)=}\")\n",
    "\n",
    "    counts = []\n",
    "    for j, shop in enumerate(shops):\n",
    "        # 売っていた場合\n",
    "        if shop & 探す味:\n",
    "            last_tastes = ~(~tastes | shop)\n",
    "            logger.debug(\n",
    "                f\"{bin(tastes)=}, {bin(探す味)=}, {bin(shop)=}, {bin(last_tastes)=}\"\n",
    "            )\n",
    "            if last_tastes == 0:\n",
    "                counts.append(1)\n",
    "                break\n",
    "            else:\n",
    "                counts.append(\n",
    "                    1 + count_move(last_tastes, shops[0:j] + shops[j + 1 : len(shops)])\n",
    "                )\n",
    "\n",
    "    dp[tastes] = min(counts)\n",
    "    return min(counts)\n",
    "\n",
    "\n",
    "def popcorn(inputs: tuple[int, int, list[str]]):\n",
    "    _, m, shops = inputs\n",
    "    shops = [int(shop.replace(\"x\", \"0\").replace(\"o\", \"1\"), 2) for shop in shops]\n",
    "    last_tastes = int(\"1\" * m, 2)  # 持っていない味リスト\n",
    "    count = count_move(last_tastes, shops)\n",
    "    return str(count)"
   ]
  },
  {
   "cell_type": "code",
   "execution_count": 10,
   "metadata": {},
   "outputs": [],
   "source": [
    "def parse():\n",
    "    line = input()\n",
    "    n, m = [int(word) for word in line.split()]\n",
    "    shops = []\n",
    "    for _ in range(n):\n",
    "        shop = input()\n",
    "        shops.append(shop)\n",
    "    return (n, m, shops)"
   ]
  },
  {
   "cell_type": "code",
   "execution_count": 11,
   "metadata": {},
   "outputs": [
    {
     "name": "stderr",
     "output_type": "stream",
     "text": [
      "bin(tastes)='0b11111', shops: ['0b11100', '0b1110', '0b111']\n",
      "bin(tastes)='0b11111', shops: ['0b11100', '0b1110', '0b111']\n",
      "bin(探す味)='0b1'\n",
      "bin(探す味)='0b1'\n",
      "bin(tastes)='0b11111', bin(探す味)='0b1', bin(shop)='0b111', bin(last_tastes)='0b11000'\n",
      "bin(tastes)='0b11111', bin(探す味)='0b1', bin(shop)='0b111', bin(last_tastes)='0b11000'\n",
      "bin(tastes)='0b11000', shops: ['0b11100', '0b1110']\n",
      "bin(tastes)='0b11000', shops: ['0b11100', '0b1110']\n",
      "bin(探す味)='0b1000'\n",
      "bin(探す味)='0b1000'\n",
      "bin(tastes)='0b11000', bin(探す味)='0b1000', bin(shop)='0b11100', bin(last_tastes)='0b0'\n",
      "bin(tastes)='0b11000', bin(探す味)='0b1000', bin(shop)='0b11100', bin(last_tastes)='0b0'\n"
     ]
    },
    {
     "name": "stdout",
     "output_type": "stream",
     "text": [
      "2\n"
     ]
    }
   ],
   "source": [
    "from unittest.mock import patch\n",
    "\n",
    "with patch(\"builtins.input\", side_effect=[\"3 5\", \"oooxx\", \"xooox\", \"xxooo\"]):\n",
    "    expected = \"2\"\n",
    "    actual = popcorn(parse())\n",
    "    print(actual)\n",
    "    assert expected == actual"
   ]
  },
  {
   "cell_type": "code",
   "execution_count": 12,
   "metadata": {},
   "outputs": [
    {
     "name": "stderr",
     "output_type": "stream",
     "text": [
      "bin(tastes)='0b11', shops: ['0b11', '0b10', '0b1']\n",
      "bin(tastes)='0b11', shops: ['0b11', '0b10', '0b1']\n",
      "bin(探す味)='0b1'\n",
      "bin(探す味)='0b1'\n",
      "bin(tastes)='0b11', bin(探す味)='0b1', bin(shop)='0b11', bin(last_tastes)='0b0'\n",
      "bin(tastes)='0b11', bin(探す味)='0b1', bin(shop)='0b11', bin(last_tastes)='0b0'\n"
     ]
    },
    {
     "name": "stdout",
     "output_type": "stream",
     "text": [
      "1\n"
     ]
    }
   ],
   "source": [
    "from unittest.mock import patch\n",
    "\n",
    "with patch(\"builtins.input\", side_effect=[\"3 2\", \"oo\", \"ox\", \"xo\"]):\n",
    "    expected = \"1\"\n",
    "    actual = popcorn(parse())\n",
    "    print(actual)\n",
    "    assert expected == actual"
   ]
  },
  {
   "cell_type": "code",
   "execution_count": 13,
   "metadata": {},
   "outputs": [
    {
     "name": "stderr",
     "output_type": "stream",
     "text": [
      "bin(tastes)='0b111111', shops: ['0b1001', '0b1000', '0b10000', '0b100', '0b1111', '0b10', '0b10010', '0b101001']\n",
      "bin(tastes)='0b111111', shops: ['0b1001', '0b1000', '0b10000', '0b100', '0b1111', '0b10', '0b10010', '0b101001']\n",
      "bin(探す味)='0b1'\n",
      "bin(探す味)='0b1'\n",
      "bin(tastes)='0b111111', bin(探す味)='0b1', bin(shop)='0b1001', bin(last_tastes)='0b110110'\n",
      "bin(tastes)='0b111111', bin(探す味)='0b1', bin(shop)='0b1001', bin(last_tastes)='0b110110'\n",
      "bin(tastes)='0b110110', shops: ['0b1000', '0b10000', '0b100', '0b1111', '0b10', '0b10010', '0b101001']\n",
      "bin(tastes)='0b110110', shops: ['0b1000', '0b10000', '0b100', '0b1111', '0b10', '0b10010', '0b101001']\n",
      "bin(探す味)='0b10'\n",
      "bin(探す味)='0b10'\n",
      "bin(tastes)='0b110110', bin(探す味)='0b10', bin(shop)='0b1111', bin(last_tastes)='0b110000'\n",
      "bin(tastes)='0b110110', bin(探す味)='0b10', bin(shop)='0b1111', bin(last_tastes)='0b110000'\n",
      "bin(tastes)='0b110000', shops: ['0b1000', '0b10000', '0b100', '0b10', '0b10010', '0b101001']\n",
      "bin(tastes)='0b110000', shops: ['0b1000', '0b10000', '0b100', '0b10', '0b10010', '0b101001']\n",
      "bin(探す味)='0b10000'\n",
      "bin(探す味)='0b10000'\n",
      "bin(tastes)='0b110000', bin(探す味)='0b10000', bin(shop)='0b10000', bin(last_tastes)='0b100000'\n",
      "bin(tastes)='0b110000', bin(探す味)='0b10000', bin(shop)='0b10000', bin(last_tastes)='0b100000'\n",
      "bin(tastes)='0b100000', shops: ['0b1000', '0b100', '0b10', '0b10010', '0b101001']\n",
      "bin(tastes)='0b100000', shops: ['0b1000', '0b100', '0b10', '0b10010', '0b101001']\n",
      "bin(探す味)='0b100000'\n",
      "bin(探す味)='0b100000'\n",
      "bin(tastes)='0b100000', bin(探す味)='0b100000', bin(shop)='0b101001', bin(last_tastes)='0b0'\n",
      "bin(tastes)='0b100000', bin(探す味)='0b100000', bin(shop)='0b101001', bin(last_tastes)='0b0'\n",
      "bin(tastes)='0b110000', bin(探す味)='0b10000', bin(shop)='0b10010', bin(last_tastes)='0b100000'\n",
      "bin(tastes)='0b110000', bin(探す味)='0b10000', bin(shop)='0b10010', bin(last_tastes)='0b100000'\n",
      "bin(tastes)='0b100000', shops: ['0b1000', '0b10000', '0b100', '0b10', '0b101001']\n",
      "bin(tastes)='0b100000', shops: ['0b1000', '0b10000', '0b100', '0b10', '0b101001']\n",
      "bin(tastes)='0b110110', bin(探す味)='0b10', bin(shop)='0b10', bin(last_tastes)='0b110100'\n",
      "bin(tastes)='0b110110', bin(探す味)='0b10', bin(shop)='0b10', bin(last_tastes)='0b110100'\n",
      "bin(tastes)='0b110100', shops: ['0b1000', '0b10000', '0b100', '0b1111', '0b10010', '0b101001']\n",
      "bin(tastes)='0b110100', shops: ['0b1000', '0b10000', '0b100', '0b1111', '0b10010', '0b101001']\n",
      "bin(探す味)='0b100'\n",
      "bin(探す味)='0b100'\n",
      "bin(tastes)='0b110100', bin(探す味)='0b100', bin(shop)='0b100', bin(last_tastes)='0b110000'\n",
      "bin(tastes)='0b110100', bin(探す味)='0b100', bin(shop)='0b100', bin(last_tastes)='0b110000'\n",
      "bin(tastes)='0b110000', shops: ['0b1000', '0b10000', '0b1111', '0b10010', '0b101001']\n",
      "bin(tastes)='0b110000', shops: ['0b1000', '0b10000', '0b1111', '0b10010', '0b101001']\n",
      "bin(tastes)='0b110100', bin(探す味)='0b100', bin(shop)='0b1111', bin(last_tastes)='0b110000'\n",
      "bin(tastes)='0b110100', bin(探す味)='0b100', bin(shop)='0b1111', bin(last_tastes)='0b110000'\n",
      "bin(tastes)='0b110000', shops: ['0b1000', '0b10000', '0b100', '0b10010', '0b101001']\n",
      "bin(tastes)='0b110000', shops: ['0b1000', '0b10000', '0b100', '0b10010', '0b101001']\n",
      "bin(tastes)='0b110110', bin(探す味)='0b10', bin(shop)='0b10010', bin(last_tastes)='0b100100'\n",
      "bin(tastes)='0b110110', bin(探す味)='0b10', bin(shop)='0b10010', bin(last_tastes)='0b100100'\n",
      "bin(tastes)='0b100100', shops: ['0b1000', '0b10000', '0b100', '0b1111', '0b10', '0b101001']\n",
      "bin(tastes)='0b100100', shops: ['0b1000', '0b10000', '0b100', '0b1111', '0b10', '0b101001']\n",
      "bin(探す味)='0b100'\n",
      "bin(探す味)='0b100'\n",
      "bin(tastes)='0b100100', bin(探す味)='0b100', bin(shop)='0b100', bin(last_tastes)='0b100000'\n",
      "bin(tastes)='0b100100', bin(探す味)='0b100', bin(shop)='0b100', bin(last_tastes)='0b100000'\n",
      "bin(tastes)='0b100000', shops: ['0b1000', '0b10000', '0b1111', '0b10', '0b101001']\n",
      "bin(tastes)='0b100000', shops: ['0b1000', '0b10000', '0b1111', '0b10', '0b101001']\n",
      "bin(tastes)='0b100100', bin(探す味)='0b100', bin(shop)='0b1111', bin(last_tastes)='0b100000'\n",
      "bin(tastes)='0b100100', bin(探す味)='0b100', bin(shop)='0b1111', bin(last_tastes)='0b100000'\n",
      "bin(tastes)='0b100000', shops: ['0b1000', '0b10000', '0b100', '0b10', '0b101001']\n",
      "bin(tastes)='0b100000', shops: ['0b1000', '0b10000', '0b100', '0b10', '0b101001']\n",
      "bin(tastes)='0b111111', bin(探す味)='0b1', bin(shop)='0b1111', bin(last_tastes)='0b110000'\n",
      "bin(tastes)='0b111111', bin(探す味)='0b1', bin(shop)='0b1111', bin(last_tastes)='0b110000'\n",
      "bin(tastes)='0b110000', shops: ['0b1001', '0b1000', '0b10000', '0b100', '0b10', '0b10010', '0b101001']\n",
      "bin(tastes)='0b110000', shops: ['0b1001', '0b1000', '0b10000', '0b100', '0b10', '0b10010', '0b101001']\n",
      "bin(tastes)='0b111111', bin(探す味)='0b1', bin(shop)='0b101001', bin(last_tastes)='0b10110'\n",
      "bin(tastes)='0b111111', bin(探す味)='0b1', bin(shop)='0b101001', bin(last_tastes)='0b10110'\n",
      "bin(tastes)='0b10110', shops: ['0b1001', '0b1000', '0b10000', '0b100', '0b1111', '0b10', '0b10010']\n",
      "bin(tastes)='0b10110', shops: ['0b1001', '0b1000', '0b10000', '0b100', '0b1111', '0b10', '0b10010']\n",
      "bin(探す味)='0b10'\n",
      "bin(探す味)='0b10'\n",
      "bin(tastes)='0b10110', bin(探す味)='0b10', bin(shop)='0b1111', bin(last_tastes)='0b10000'\n",
      "bin(tastes)='0b10110', bin(探す味)='0b10', bin(shop)='0b1111', bin(last_tastes)='0b10000'\n",
      "bin(tastes)='0b10000', shops: ['0b1001', '0b1000', '0b10000', '0b100', '0b10', '0b10010']\n",
      "bin(tastes)='0b10000', shops: ['0b1001', '0b1000', '0b10000', '0b100', '0b10', '0b10010']\n",
      "bin(探す味)='0b10000'\n",
      "bin(探す味)='0b10000'\n",
      "bin(tastes)='0b10000', bin(探す味)='0b10000', bin(shop)='0b10000', bin(last_tastes)='0b0'\n",
      "bin(tastes)='0b10000', bin(探す味)='0b10000', bin(shop)='0b10000', bin(last_tastes)='0b0'\n",
      "bin(tastes)='0b10110', bin(探す味)='0b10', bin(shop)='0b10', bin(last_tastes)='0b10100'\n",
      "bin(tastes)='0b10110', bin(探す味)='0b10', bin(shop)='0b10', bin(last_tastes)='0b10100'\n",
      "bin(tastes)='0b10100', shops: ['0b1001', '0b1000', '0b10000', '0b100', '0b1111', '0b10010']\n",
      "bin(tastes)='0b10100', shops: ['0b1001', '0b1000', '0b10000', '0b100', '0b1111', '0b10010']\n",
      "bin(探す味)='0b100'\n",
      "bin(探す味)='0b100'\n",
      "bin(tastes)='0b10100', bin(探す味)='0b100', bin(shop)='0b100', bin(last_tastes)='0b10000'\n",
      "bin(tastes)='0b10100', bin(探す味)='0b100', bin(shop)='0b100', bin(last_tastes)='0b10000'\n",
      "bin(tastes)='0b10000', shops: ['0b1001', '0b1000', '0b10000', '0b1111', '0b10010']\n",
      "bin(tastes)='0b10000', shops: ['0b1001', '0b1000', '0b10000', '0b1111', '0b10010']\n",
      "bin(tastes)='0b10100', bin(探す味)='0b100', bin(shop)='0b1111', bin(last_tastes)='0b10000'\n",
      "bin(tastes)='0b10100', bin(探す味)='0b100', bin(shop)='0b1111', bin(last_tastes)='0b10000'\n",
      "bin(tastes)='0b10000', shops: ['0b1001', '0b1000', '0b10000', '0b100', '0b10010']\n",
      "bin(tastes)='0b10000', shops: ['0b1001', '0b1000', '0b10000', '0b100', '0b10010']\n",
      "bin(tastes)='0b10110', bin(探す味)='0b10', bin(shop)='0b10010', bin(last_tastes)='0b100'\n",
      "bin(tastes)='0b10110', bin(探す味)='0b10', bin(shop)='0b10010', bin(last_tastes)='0b100'\n",
      "bin(tastes)='0b100', shops: ['0b1001', '0b1000', '0b10000', '0b100', '0b1111', '0b10']\n",
      "bin(tastes)='0b100', shops: ['0b1001', '0b1000', '0b10000', '0b100', '0b1111', '0b10']\n",
      "bin(探す味)='0b100'\n",
      "bin(探す味)='0b100'\n",
      "bin(tastes)='0b100', bin(探す味)='0b100', bin(shop)='0b100', bin(last_tastes)='0b0'\n",
      "bin(tastes)='0b100', bin(探す味)='0b100', bin(shop)='0b100', bin(last_tastes)='0b0'\n"
     ]
    },
    {
     "name": "stdout",
     "output_type": "stream",
     "text": [
      "3\n"
     ]
    }
   ],
   "source": [
    "from unittest.mock import patch\n",
    "\n",
    "with patch(\n",
    "    \"builtins.input\",\n",
    "    side_effect=[\n",
    "        \"8 6\",\n",
    "        \"xxoxxo\",\n",
    "        \"xxoxxx\",\n",
    "        \"xoxxxx\",\n",
    "        \"xxxoxx\",\n",
    "        \"xxoooo\",\n",
    "        \"xxxxox\",\n",
    "        \"xoxxox\",\n",
    "        \"oxoxxo\",\n",
    "    ],\n",
    "):\n",
    "    expected = \"3\"\n",
    "    actual = popcorn(parse())\n",
    "    print(actual)\n",
    "    assert expected == actual"
   ]
  },
  {
   "cell_type": "code",
   "execution_count": null,
   "metadata": {},
   "outputs": [],
   "source": []
  }
 ],
 "metadata": {
  "kernelspec": {
   "display_name": ".venv",
   "language": "python",
   "name": "python3"
  },
  "language_info": {
   "codemirror_mode": {
    "name": "ipython",
    "version": 3
   },
   "file_extension": ".py",
   "mimetype": "text/x-python",
   "name": "python",
   "nbconvert_exporter": "python",
   "pygments_lexer": "ipython3",
   "version": "3.12.3"
  }
 },
 "nbformat": 4,
 "nbformat_minor": 2
}
