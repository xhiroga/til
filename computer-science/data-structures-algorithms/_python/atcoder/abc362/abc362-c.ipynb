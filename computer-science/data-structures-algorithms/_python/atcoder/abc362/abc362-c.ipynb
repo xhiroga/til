{
 "cells": [
  {
   "cell_type": "code",
   "execution_count": 10,
   "metadata": {},
   "outputs": [],
   "source": [
    "def sum_equal_0() -> str:\n",
    "    n = int(input())\n",
    "    lrs = [tuple(map(int, input().split())) for _ in range(n)]\n",
    "    minimum = sum(lr[0] for lr in lrs)\n",
    "    maximum = sum(lr[1] for lr in lrs)\n",
    "    if minimum <= 0 and 0 <= maximum:\n",
    "        target = maximum\n",
    "        solution = []\n",
    "        for lr in lrs:\n",
    "            if 0 < target:\n",
    "                delta = lr[1] - lr[0]\n",
    "                required = min(target, delta)\n",
    "                solution.append(lr[1] - required)\n",
    "                target -= required\n",
    "            else:\n",
    "                solution.append(lr[1])\n",
    "        return f\"\"\"Yes\\n{\" \".join(map(str, solution))}\"\"\"\n",
    "    else:\n",
    "        return \"No\""
   ]
  },
  {
   "cell_type": "code",
   "execution_count": 16,
   "metadata": {},
   "outputs": [
    {
     "name": "stdout",
     "output_type": "stream",
     "text": [
      "Yes\n",
      "3 -4 1\n"
     ]
    }
   ],
   "source": [
    "from unittest.mock import patch\n",
    "\n",
    "with patch(\n",
    "    \"builtins.input\",\n",
    "    side_effect=\"\"\"\n",
    "3\n",
    "3 5\n",
    "-4 1\n",
    "-2 3\n",
    "\"\"\".strip().splitlines(),\n",
    "):\n",
    "    expected_sum = 0\n",
    "    actual = sum_equal_0()\n",
    "    print(actual)\n",
    "    actual_sum = sum(map(int, actual.split(\"\\n\")[1].split()))\n",
    "    assert expected_sum == actual_sum, print(f\"{expected_sum=}, {actual_sum=}\")"
   ]
  },
  {
   "cell_type": "code",
   "execution_count": 17,
   "metadata": {},
   "outputs": [
    {
     "name": "stdout",
     "output_type": "stream",
     "text": [
      "No\n"
     ]
    }
   ],
   "source": [
    "from unittest.mock import patch\n",
    "\n",
    "with patch(\n",
    "    \"builtins.input\",\n",
    "    side_effect=\"\"\"\n",
    "3\n",
    "1 2\n",
    "1 2\n",
    "1 2\n",
    "\"\"\".strip().splitlines(),\n",
    "):\n",
    "    expected = \"No\"\n",
    "    actual = sum_equal_0()\n",
    "    print(actual)\n",
    "    assert expected == actual, print(f\"{expected=}, {actual=}\")"
   ]
  },
  {
   "cell_type": "code",
   "execution_count": 18,
   "metadata": {},
   "outputs": [
    {
     "name": "stdout",
     "output_type": "stream",
     "text": [
      "Yes\n",
      "-87 -60 7 6 96 38\n"
     ]
    }
   ],
   "source": [
    "from unittest.mock import patch\n",
    "\n",
    "with patch(\n",
    "    \"builtins.input\",\n",
    "    side_effect=\"\"\"\n",
    "6\n",
    "-87 12\n",
    "-60 -54\n",
    "2 38\n",
    "-76 6\n",
    "87 96\n",
    "-17 38\n",
    "\"\"\".strip().splitlines(),\n",
    "):\n",
    "    expected_sum = 0\n",
    "    actual = sum_equal_0()\n",
    "    print(actual)\n",
    "    actual_sum = sum(map(int, actual.split(\"\\n\")[1].split()))\n",
    "    assert expected_sum == actual_sum, print(f\"{expected_sum=}, {actual_sum=}\")"
   ]
  },
  {
   "cell_type": "code",
   "execution_count": null,
   "metadata": {},
   "outputs": [],
   "source": []
  }
 ],
 "metadata": {
  "kernelspec": {
   "display_name": ".venv",
   "language": "python",
   "name": "python3"
  },
  "language_info": {
   "codemirror_mode": {
    "name": "ipython",
    "version": 3
   },
   "file_extension": ".py",
   "mimetype": "text/x-python",
   "name": "python",
   "nbconvert_exporter": "python",
   "pygments_lexer": "ipython3",
   "version": "3.12.3"
  }
 },
 "nbformat": 4,
 "nbformat_minor": 2
}
