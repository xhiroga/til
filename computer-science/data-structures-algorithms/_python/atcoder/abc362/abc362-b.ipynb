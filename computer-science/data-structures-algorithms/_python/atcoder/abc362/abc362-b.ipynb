{
 "cells": [
  {
   "cell_type": "code",
   "execution_count": 9,
   "metadata": {},
   "outputs": [
    {
     "name": "stderr",
     "output_type": "stream",
     "text": [
      "<cell>25: \u001b[1m\u001b[31merror:\u001b[m Unsupported operand types for * (\u001b[m\u001b[1m\"float\"\u001b[m and \u001b[m\u001b[1m\"None\"\u001b[m)  \u001b[m\u001b[33m[operator]\u001b[m\n",
      "<cell>25: \u001b[1m\u001b[31merror:\u001b[m Unsupported operand types for * (\u001b[m\u001b[1m\"None\"\u001b[m and \u001b[m\u001b[1m\"float\"\u001b[m)  \u001b[m\u001b[33m[operator]\u001b[m\n",
      "<cell>25: \u001b[1m\u001b[31merror:\u001b[m Unsupported left operand type for * (\u001b[m\u001b[1m\"None\"\u001b[m)  \u001b[m\u001b[33m[operator]\u001b[m\n",
      "<cell>25: \u001b[34mnote:\u001b[m Both left and right operands are unions\u001b[m\n",
      "<cell>26: \u001b[1m\u001b[31merror:\u001b[m Unsupported operand types for * (\u001b[m\u001b[1m\"float\"\u001b[m and \u001b[m\u001b[1m\"None\"\u001b[m)  \u001b[m\u001b[33m[operator]\u001b[m\n",
      "<cell>26: \u001b[1m\u001b[31merror:\u001b[m Unsupported operand types for * (\u001b[m\u001b[1m\"None\"\u001b[m and \u001b[m\u001b[1m\"float\"\u001b[m)  \u001b[m\u001b[33m[operator]\u001b[m\n",
      "<cell>26: \u001b[1m\u001b[31merror:\u001b[m Unsupported left operand type for * (\u001b[m\u001b[1m\"None\"\u001b[m)  \u001b[m\u001b[33m[operator]\u001b[m\n",
      "<cell>26: \u001b[34mnote:\u001b[m Both left and right operands are unions\u001b[m\n",
      "<cell>27: \u001b[1m\u001b[31merror:\u001b[m Unsupported operand types for * (\u001b[m\u001b[1m\"float\"\u001b[m and \u001b[m\u001b[1m\"None\"\u001b[m)  \u001b[m\u001b[33m[operator]\u001b[m\n",
      "<cell>27: \u001b[1m\u001b[31merror:\u001b[m Unsupported operand types for * (\u001b[m\u001b[1m\"None\"\u001b[m and \u001b[m\u001b[1m\"float\"\u001b[m)  \u001b[m\u001b[33m[operator]\u001b[m\n",
      "<cell>27: \u001b[1m\u001b[31merror:\u001b[m Unsupported left operand type for * (\u001b[m\u001b[1m\"None\"\u001b[m)  \u001b[m\u001b[33m[operator]\u001b[m\n",
      "<cell>27: \u001b[34mnote:\u001b[m Both left and right operands are unions\u001b[m\n"
     ]
    }
   ],
   "source": [
    "def calc_slope(x1: int, y1: int, x2: int, y2: int) -> float | None:\n",
    "    try:\n",
    "        return (y2 - y1) / (x2 - x1)\n",
    "    except ZeroDivisionError:\n",
    "        return None\n",
    "\n",
    "\n",
    "def right_triangle() -> str:\n",
    "    x_a, y_a = map(int, input().split())\n",
    "    x_b, y_b = map(int, input().split())\n",
    "    x_c, y_c = map(int, input().split())\n",
    "\n",
    "    # Calculate the slopes of the edges\n",
    "    slope_ab = calc_slope(x_a, y_a, x_b, y_b)\n",
    "    slope_bc = calc_slope(x_b, y_b, x_c, y_c)\n",
    "    slope_ac = calc_slope(x_a, y_a, x_c, y_c)\n",
    "    slopes = [slope_ab, slope_bc, slope_ac]\n",
    "\n",
    "    if any([slope is None for slope in slopes]):\n",
    "        slopes = [slope for slope in slopes if slope is not None]\n",
    "        if any([slope == 0 for slope in slopes]):\n",
    "            return \"Yes\"\n",
    "\n",
    "    if (\n",
    "        abs(1 + slope_ab * slope_bc) < 1e-9\n",
    "        or abs(1 + slope_bc * slope_ac) < 1e-9\n",
    "        or abs(1 + slope_ab * slope_ac) < 1e-9\n",
    "    ):\n",
    "        return \"Yes\"\n",
    "\n",
    "    return \"No\""
   ]
  },
  {
   "cell_type": "code",
   "execution_count": 10,
   "metadata": {},
   "outputs": [
    {
     "name": "stdout",
     "output_type": "stream",
     "text": [
      "Yes\n"
     ]
    }
   ],
   "source": [
    "from unittest.mock import patch\n",
    "\n",
    "with patch(\n",
    "    \"builtins.input\",\n",
    "    side_effect=\"\"\"\n",
    "0 0\n",
    "4 0\n",
    "0 3\n",
    "\"\"\".strip().splitlines(),\n",
    "):\n",
    "    expected = \"Yes\"\n",
    "    actual = right_triangle()\n",
    "    print(actual)\n",
    "    assert expected == actual, print(f\"{expected=}, {actual=}\")"
   ]
  },
  {
   "cell_type": "code",
   "execution_count": 11,
   "metadata": {},
   "outputs": [
    {
     "name": "stdout",
     "output_type": "stream",
     "text": [
      "Yes\n"
     ]
    }
   ],
   "source": [
    "from unittest.mock import patch\n",
    "\n",
    "with patch(\n",
    "    \"builtins.input\",\n",
    "    side_effect=\"\"\"\n",
    "-4 3\n",
    "2 1\n",
    "3 4\n",
    "\"\"\".strip().splitlines(),\n",
    "):\n",
    "    expected = \"Yes\"\n",
    "    actual = right_triangle()\n",
    "    print(actual)\n",
    "    assert expected == actual, print(f\"{expected=}, {actual=}\")"
   ]
  },
  {
   "cell_type": "code",
   "execution_count": 12,
   "metadata": {},
   "outputs": [
    {
     "name": "stdout",
     "output_type": "stream",
     "text": [
      "No\n"
     ]
    }
   ],
   "source": [
    "from unittest.mock import patch\n",
    "\n",
    "with patch(\n",
    "    \"builtins.input\",\n",
    "    side_effect=\"\"\"\n",
    "2 4\n",
    "-3 2\n",
    "1 -2\n",
    "\"\"\".strip().splitlines(),\n",
    "):\n",
    "    expected = \"No\"\n",
    "    actual = right_triangle()\n",
    "    print(actual)\n",
    "    assert expected == actual, print(f\"{expected=}, {actual=}\")"
   ]
  },
  {
   "cell_type": "code",
   "execution_count": null,
   "metadata": {},
   "outputs": [],
   "source": []
  }
 ],
 "metadata": {
  "kernelspec": {
   "display_name": ".venv",
   "language": "python",
   "name": "python3"
  },
  "language_info": {
   "codemirror_mode": {
    "name": "ipython",
    "version": 3
   },
   "file_extension": ".py",
   "mimetype": "text/x-python",
   "name": "python",
   "nbconvert_exporter": "python",
   "pygments_lexer": "ipython3",
   "version": "3.12.3"
  }
 },
 "nbformat": 4,
 "nbformat_minor": 2
}
