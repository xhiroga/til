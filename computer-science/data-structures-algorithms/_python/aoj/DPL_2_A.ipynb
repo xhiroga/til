{
 "cells": [
  {
   "cell_type": "markdown",
   "metadata": {},
   "source": [
    "# [巡回セールスマン問題](https://judge.u-aizu.ac.jp/onlinejudge/description.jsp?id=DPL_2_A)"
   ]
  },
  {
   "cell_type": "markdown",
   "metadata": {},
   "source": [
    "巡回セールスマン問題における最適な小構造は次の通り。\n",
    "\n",
    "頂点AからBまでの最短路があるとき、経路内に頂点Cが含まれるとして、頂点Aから頂点Cと、頂点Bから頂点Cのいずれも、その途中に通る頂点が同じであるという前提の元、最短経路である。"
   ]
  },
  {
   "cell_type": "code",
   "execution_count": 5,
   "metadata": {},
   "outputs": [],
   "source": [
    "from bitarray import bitarray\n",
    "from collections import defaultdict\n",
    "\n",
    "\n",
    "def traveling_salesman_problem(input):\n",
    "    lines = input.split(\"\\n\")\n",
    "    v, _ = [int(n) for n in lines[0].split(\" \")]\n",
    "    edges = [(int(word) for word in line.split(\" \")) for line in lines[1:]]\n",
    "    matrix = defaultdict(lambda: defaultdict(lambda: None))\n",
    "    for s, t, distance in edges:\n",
    "        matrix[s][t] = distance\n",
    "\n",
    "    dp = defaultdict(lambda: defaultdict(lambda: None))\n",
    "\n",
    "    def bit_dp(terminals: bitarray, source, target):\n",
    "        print(f\"{terminals=}, {source=}, {target=}\")\n",
    "        if dp[terminals.to01()][source] is not None:\n",
    "            return dp[terminals.to01()][source]\n",
    "        if terminals.count(1) == 1 and matrix[source][target] is not None:\n",
    "            return matrix[source][target]\n",
    "\n",
    "        shortest = float(\"inf\")\n",
    "        for neighbor, distance in matrix[source].items():\n",
    "            if terminals[neighbor] == 0:\n",
    "                continue\n",
    "\n",
    "            terminals_from_neighbor = terminals.copy()\n",
    "            terminals_from_neighbor[source] = 0\n",
    "            distance_through_neighbor = (\n",
    "                bit_dp(terminals_from_neighbor, neighbor, target) + distance\n",
    "            )\n",
    "            if distance_through_neighbor < shortest:\n",
    "                shortest = distance_through_neighbor\n",
    "        dp[terminals.to01()][source] = shortest\n",
    "\n",
    "        return dp[terminals.to01()][source]\n",
    "\n",
    "    shortest_cycle = bit_dp(bitarray(\"1\" * v), 0, 0)\n",
    "    return -1 if shortest_cycle == float(\"inf\") else shortest_cycle"
   ]
  },
  {
   "cell_type": "code",
   "execution_count": 6,
   "metadata": {},
   "outputs": [
    {
     "name": "stdout",
     "output_type": "stream",
     "text": [
      "terminals=bitarray('1111'), source=0, target=0\n",
      "terminals=bitarray('0111'), source=1, target=0\n",
      "terminals=bitarray('0011'), source=2, target=0\n",
      "terminals=bitarray('0001'), source=3, target=0\n",
      "terminals=bitarray('0011'), source=3, target=0\n",
      "terminals=bitarray('0010'), source=2, target=0\n"
     ]
    }
   ],
   "source": [
    "input = \"\"\"\n",
    "4 6\n",
    "0 1 2\n",
    "1 2 3\n",
    "1 3 9\n",
    "2 0 1\n",
    "2 3 6\n",
    "3 2 4\n",
    "\"\"\".strip()\n",
    "\n",
    "expected = 16\n",
    "\n",
    "actual = traveling_salesman_problem(input)\n",
    "\n",
    "assert expected == actual"
   ]
  },
  {
   "cell_type": "code",
   "execution_count": 7,
   "metadata": {},
   "outputs": [
    {
     "name": "stdout",
     "output_type": "stream",
     "text": [
      "terminals=bitarray('111'), source=0, target=0\n",
      "terminals=bitarray('011'), source=1, target=0\n",
      "terminals=bitarray('001'), source=2, target=0\n",
      "terminals=bitarray('011'), source=2, target=0\n"
     ]
    }
   ],
   "source": [
    "input = \"\"\"\n",
    "3 3\n",
    "0 1 1\n",
    "1 2 1\n",
    "0 2 1\n",
    "\"\"\".strip()\n",
    "\n",
    "expected = -1\n",
    "\n",
    "actual = traveling_salesman_problem(input)\n",
    "\n",
    "assert expected == actual"
   ]
  },
  {
   "cell_type": "code",
   "execution_count": null,
   "metadata": {},
   "outputs": [],
   "source": []
  }
 ],
 "metadata": {
  "kernelspec": {
   "display_name": ".venv",
   "language": "python",
   "name": "python3"
  },
  "language_info": {
   "codemirror_mode": {
    "name": "ipython",
    "version": 3
   },
   "file_extension": ".py",
   "mimetype": "text/x-python",
   "name": "python",
   "nbconvert_exporter": "python",
   "pygments_lexer": "ipython3",
   "version": "3.12.3"
  }
 },
 "nbformat": 4,
 "nbformat_minor": 2
}
