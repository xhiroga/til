{
 "cells": [
  {
   "cell_type": "markdown",
   "metadata": {},
   "source": [
    "# 選択ソート"
   ]
  },
  {
   "cell_type": "markdown",
   "metadata": {},
   "source": [
    "データの先頭（または後方）が徐々に整理済みになっていく点は、挿入ソートと変わらない。\n",
    "\n",
    "1番小さい（大きい）値、2番目に小さい（大きい）値…と順番に探していく点と、値が見つかった後は元々n番目にいた値が入れ替わりで飛ばされてしまう点が異なる。この入れ替わりで飛ばされてしまう点が面白いので、（ダンジョン飯の）ミスルンソートと個人的には呼びたい。"
   ]
  },
  {
   "cell_type": "code",
   "execution_count": 12,
   "metadata": {},
   "outputs": [],
   "source": [
    "def selection_sort(nums: list[int]) -> tuple[list[int], int]:\n",
    "    exchanged = 0\n",
    "    for i, num in enumerate(nums):\n",
    "        min_index = i\n",
    "        min_num = num\n",
    "\n",
    "        # for j, challenger in enumerate(nums[i:]):\n",
    "        # WARNING: 配列のソート時、内側のループで部分配列を使わないこと。インデックスjが相対的な値であることを忘れてバグを埋めるため。\n",
    "        # WARNING: range(0, 5) は [0,1,2,3,4] である。第2引数 stop は出力されない。\n",
    "\n",
    "        for j in range(i, len(nums)):\n",
    "            challenger = nums[j]\n",
    "            if challenger < min_num:\n",
    "                min_index = j\n",
    "                min_num = challenger\n",
    "        if min_index != i:\n",
    "            tmp = nums[i]\n",
    "            nums[i] = nums[min_index]\n",
    "            nums[min_index] = tmp\n",
    "            exchanged += 1\n",
    "        \n",
    "        print(nums)\n",
    "\n",
    "    return (nums, exchanged)\n",
    "    "
   ]
  },
  {
   "cell_type": "code",
   "execution_count": 13,
   "metadata": {},
   "outputs": [],
   "source": [
    "def parse(input: str):\n",
    "    lines = input.splitlines()\n",
    "    return [int(num) for num in lines[1].split(\" \")]"
   ]
  },
  {
   "cell_type": "code",
   "execution_count": 14,
   "metadata": {},
   "outputs": [],
   "source": [
    "input = \"\"\"5\n",
    "5 6 4 2 1 3\"\"\"\n",
    "assert(parse(input) == [5,6,4,2,1,3])"
   ]
  },
  {
   "cell_type": "code",
   "execution_count": 15,
   "metadata": {},
   "outputs": [
    {
     "name": "stdout",
     "output_type": "stream",
     "text": [
      "[1, 6, 4, 2, 5, 3]\n",
      "[1, 2, 4, 6, 5, 3]\n",
      "[1, 2, 3, 6, 5, 4]\n",
      "[1, 2, 3, 4, 5, 6]\n",
      "[1, 2, 3, 4, 5, 6]\n",
      "[1, 2, 3, 4, 5, 6]\n"
     ]
    }
   ],
   "source": [
    "actual = selection_sort(parse(input))\n",
    "expected = ([1,2,3,4,5,6], 4)\n",
    "assert(actual == expected)"
   ]
  }
 ],
 "metadata": {
  "kernelspec": {
   "display_name": "til_machine_learning_py312",
   "language": "python",
   "name": "python3"
  },
  "language_info": {
   "codemirror_mode": {
    "name": "ipython",
    "version": 3
   },
   "file_extension": ".py",
   "mimetype": "text/x-python",
   "name": "python",
   "nbconvert_exporter": "python",
   "pygments_lexer": "ipython3",
   "version": "3.12.2"
  }
 },
 "nbformat": 4,
 "nbformat_minor": 2
}
