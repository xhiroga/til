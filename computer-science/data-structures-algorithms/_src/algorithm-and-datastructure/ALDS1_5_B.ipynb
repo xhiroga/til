{
 "cells": [
  {
   "cell_type": "markdown",
   "metadata": {},
   "source": [
    "# マージソート\n"
   ]
  },
  {
   "cell_type": "markdown",
   "metadata": {},
   "source": [
    "クラス内で男女別の成績順のリストを、男女問わずの成績順のリストに合体するようなイメージ。\n"
   ]
  },
  {
   "cell_type": "code",
   "execution_count": 33,
   "metadata": {},
   "outputs": [],
   "source": [
    "from logging import getLogger, StreamHandler, DEBUG\n",
    "\n",
    "logger = getLogger(__name__)\n",
    "handler = StreamHandler()\n",
    "handler.setLevel(DEBUG)\n",
    "logger.setLevel(DEBUG)\n",
    "logger.addHandler(handler)\n",
    "logger.propagate = False\n"
   ]
  },
  {
   "cell_type": "code",
   "execution_count": 34,
   "metadata": {},
   "outputs": [],
   "source": [
    "def merge(left_list: list[int], right_list: list[int]):\n",
    "    logger.debug(f\"{left_list=}, {right_list=}\")\n",
    "    merged = []\n",
    "    left = left_list.pop(0)\n",
    "    right = right_list.pop(0)\n",
    "\n",
    "    while True:\n",
    "        if left < right:\n",
    "            merged.append(left)\n",
    "            logger.debug(f\"{merged=}, {left=}, {left_list=}, {right=}, {right_list=}\")\n",
    "            try:\n",
    "                left = left_list.pop(0)\n",
    "            except IndexError as _:\n",
    "                return merged + [right] + right_list\n",
    "        else:\n",
    "            merged.append(right)\n",
    "            logger.debug(f\"{merged=}, {left=}, {left_list=}, {right=}, {right_list=}\")\n",
    "            try:\n",
    "                right = right_list.pop(0)\n",
    "            except IndentationError as _:\n",
    "                return merged + [left] + left_list\n"
   ]
  },
  {
   "cell_type": "code",
   "execution_count": 35,
   "metadata": {},
   "outputs": [
    {
     "name": "stderr",
     "output_type": "stream",
     "text": [
      "left_list=[1, 2, 5], right_list=[3, 4, 6]\n",
      "left_list=[1, 2, 5], right_list=[3, 4, 6]\n",
      "merged=[1], left=1, left_list=[2, 5], right=3, right_list=[4, 6]\n",
      "merged=[1], left=1, left_list=[2, 5], right=3, right_list=[4, 6]\n",
      "merged=[1, 2], left=2, left_list=[5], right=3, right_list=[4, 6]\n",
      "merged=[1, 2], left=2, left_list=[5], right=3, right_list=[4, 6]\n",
      "merged=[1, 2, 3], left=5, left_list=[], right=3, right_list=[4, 6]\n",
      "merged=[1, 2, 3], left=5, left_list=[], right=3, right_list=[4, 6]\n",
      "merged=[1, 2, 3, 4], left=5, left_list=[], right=4, right_list=[6]\n",
      "merged=[1, 2, 3, 4], left=5, left_list=[], right=4, right_list=[6]\n",
      "merged=[1, 2, 3, 4, 5], left=5, left_list=[], right=6, right_list=[]\n",
      "merged=[1, 2, 3, 4, 5], left=5, left_list=[], right=6, right_list=[]\n"
     ]
    }
   ],
   "source": [
    "expected = [1, 2, 3, 4, 5, 6]\n",
    "actual = merge([1, 2, 5], [3, 4, 6])\n",
    "assert expected == actual\n"
   ]
  },
  {
   "cell_type": "code",
   "execution_count": 40,
   "metadata": {},
   "outputs": [],
   "source": [
    "def merge_sort(nums: list[int]):\n",
    "    logger.debug(f\"{nums=}\")\n",
    "    if len(nums) == 1:\n",
    "        return nums\n",
    "\n",
    "    mid = len(nums) // 2\n",
    "    left_list = merge_sort(nums[:mid])\n",
    "    right_list = merge_sort(nums[mid:])\n",
    "    logger.debug(f\"{left_list=}, {right_list=}\")\n",
    "    return merge(left_list, right_list)\n"
   ]
  },
  {
   "cell_type": "code",
   "execution_count": 42,
   "metadata": {},
   "outputs": [
    {
     "name": "stderr",
     "output_type": "stream",
     "text": [
      "nums=[1, 2, 5, 3, 4, 6]\n",
      "nums=[1, 2, 5, 3, 4, 6]\n",
      "nums=[1, 2, 5]\n",
      "nums=[1, 2, 5]\n",
      "nums=[1]\n",
      "nums=[1]\n",
      "nums=[2, 5]\n",
      "nums=[2, 5]\n",
      "nums=[2]\n",
      "nums=[2]\n",
      "nums=[5]\n",
      "nums=[5]\n",
      "left_list=[2], right_list=[5]\n",
      "left_list=[2], right_list=[5]\n",
      "left_list=[2], right_list=[5]\n",
      "left_list=[2], right_list=[5]\n",
      "merged=[2], left=2, left_list=[], right=5, right_list=[]\n",
      "merged=[2], left=2, left_list=[], right=5, right_list=[]\n",
      "left_list=[1], right_list=[2, 5]\n",
      "left_list=[1], right_list=[2, 5]\n",
      "left_list=[1], right_list=[2, 5]\n",
      "left_list=[1], right_list=[2, 5]\n",
      "merged=[1], left=1, left_list=[], right=2, right_list=[5]\n",
      "merged=[1], left=1, left_list=[], right=2, right_list=[5]\n",
      "nums=[3, 4, 6]\n",
      "nums=[3, 4, 6]\n",
      "nums=[3]\n",
      "nums=[3]\n",
      "nums=[4, 6]\n",
      "nums=[4, 6]\n",
      "nums=[4]\n",
      "nums=[4]\n",
      "nums=[6]\n",
      "nums=[6]\n",
      "left_list=[4], right_list=[6]\n",
      "left_list=[4], right_list=[6]\n",
      "left_list=[4], right_list=[6]\n",
      "left_list=[4], right_list=[6]\n",
      "merged=[4], left=4, left_list=[], right=6, right_list=[]\n",
      "merged=[4], left=4, left_list=[], right=6, right_list=[]\n",
      "left_list=[3], right_list=[4, 6]\n",
      "left_list=[3], right_list=[4, 6]\n",
      "left_list=[3], right_list=[4, 6]\n",
      "left_list=[3], right_list=[4, 6]\n",
      "merged=[3], left=3, left_list=[], right=4, right_list=[6]\n",
      "merged=[3], left=3, left_list=[], right=4, right_list=[6]\n",
      "left_list=[1, 2, 5], right_list=[3, 4, 6]\n",
      "left_list=[1, 2, 5], right_list=[3, 4, 6]\n",
      "left_list=[1, 2, 5], right_list=[3, 4, 6]\n",
      "left_list=[1, 2, 5], right_list=[3, 4, 6]\n",
      "merged=[1], left=1, left_list=[2, 5], right=3, right_list=[4, 6]\n",
      "merged=[1], left=1, left_list=[2, 5], right=3, right_list=[4, 6]\n",
      "merged=[1, 2], left=2, left_list=[5], right=3, right_list=[4, 6]\n",
      "merged=[1, 2], left=2, left_list=[5], right=3, right_list=[4, 6]\n",
      "merged=[1, 2, 3], left=5, left_list=[], right=3, right_list=[4, 6]\n",
      "merged=[1, 2, 3], left=5, left_list=[], right=3, right_list=[4, 6]\n",
      "merged=[1, 2, 3, 4], left=5, left_list=[], right=4, right_list=[6]\n",
      "merged=[1, 2, 3, 4], left=5, left_list=[], right=4, right_list=[6]\n",
      "merged=[1, 2, 3, 4, 5], left=5, left_list=[], right=6, right_list=[]\n",
      "merged=[1, 2, 3, 4, 5], left=5, left_list=[], right=6, right_list=[]\n"
     ]
    }
   ],
   "source": [
    "expected = [1, 2, 3, 4, 5, 6]\n",
    "actual = merge_sort([1, 2, 5, 3, 4, 6])\n",
    "assert expected == actual\n"
   ]
  },
  {
   "cell_type": "code",
   "execution_count": null,
   "metadata": {},
   "outputs": [],
   "source": []
  }
 ],
 "metadata": {
  "kernelspec": {
   "display_name": "til_machine_learning_py312",
   "language": "python",
   "name": "python3"
  },
  "language_info": {
   "codemirror_mode": {
    "name": "ipython",
    "version": 3
   },
   "file_extension": ".py",
   "mimetype": "text/x-python",
   "name": "python",
   "nbconvert_exporter": "python",
   "pygments_lexer": "ipython3",
   "version": "3.12.2"
  }
 },
 "nbformat": 4,
 "nbformat_minor": 2
}
