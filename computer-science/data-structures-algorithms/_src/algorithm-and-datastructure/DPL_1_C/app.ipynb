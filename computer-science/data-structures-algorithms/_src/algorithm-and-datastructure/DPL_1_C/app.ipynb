{
 "cells": [
  {
   "cell_type": "markdown",
   "metadata": {},
   "source": [
    "# 個数制限なしナップサック問題"
   ]
  },
  {
   "cell_type": "markdown",
   "metadata": {},
   "source": [
    "https://judge.u-aizu.ac.jp/onlinejudge/description.jsp?id=DPL_1_C"
   ]
  },
  {
   "cell_type": "code",
   "execution_count": 77,
   "metadata": {},
   "outputs": [],
   "source": [
    "from collections import defaultdict\n",
    "\n",
    "type value_and_weight = tuple[int, int]\n",
    "def kp(knapsack: value_and_weight, items: list[value_and_weight]):\n",
    "    print(knapsack, items)\n",
    "    \n",
    "    # 1 ~ ナップサックの重さ までの階級別に、コスパのチャンピオンを求める。\n",
    "    # 1周目はアイテム1つのみ、2周目はアイテム2つ目まで、のように参加者を徐々に増やす。最新の参加者を含むアイテムの組み合わせが、その階級における周回統一チャンピオンに挑戦する形を採る。\n",
    "\n",
    "    _, knapsack_weight = knapsack\n",
    "    champions = defaultdict(lambda: 0)\n",
    "    for j in range(1, knapsack_weight + 1):\n",
    "        # print(j)\n",
    "        for item in items:\n",
    "            current_value = 0\n",
    "            item_value, item_weight = item\n",
    "            if (item_weight <= j):\n",
    "                current_value += item_value\n",
    "            if (item_weight < j):\n",
    "                champion_value = champions[j - item_weight]\n",
    "                current_value += champion_value\n",
    "            if champions[j] < current_value:\n",
    "                champions[j] = current_value\n",
    "    \n",
    "    return champions[knapsack_weight]\n"
   ]
  },
  {
   "cell_type": "code",
   "execution_count": 78,
   "metadata": {},
   "outputs": [
    {
     "name": "stdout",
     "output_type": "stream",
     "text": [
      "(0, 0) []\n",
      "(1, 10) [(1, 10)]\n"
     ]
    }
   ],
   "source": [
    "# Test\n",
    "assert kp((0, 0), []) == 0\n",
    "assert kp((1, 10), [(1, 10)]) == 1\n"
   ]
  },
  {
   "cell_type": "code",
   "execution_count": 80,
   "metadata": {},
   "outputs": [
    {
     "name": "stdout",
     "output_type": "stream",
     "text": [
      "(4, 8) [(4, 2), (5, 2), (2, 1), (8, 3)]\n",
      "(2, 20) [(5, 9), (4, 10)]\n",
      "(3, 9) [(2, 1), (3, 1), (5, 2)]\n"
     ]
    }
   ],
   "source": [
    "# Exec\n",
    "def exec(filename: str, output: int):\n",
    "    with open(filename, \"r\") as f:\n",
    "        lines = f.read().splitlines()\n",
    "        items = [tuple([int(num) for num in item.split()]) for item in lines]\n",
    "        assert kp(items[0], items[1:]) == output\n",
    "\n",
    "exec(\"sample1.txt\", 21)\n",
    "exec(\"sample2.txt\", 10)\n",
    "exec(\"sample3.txt\", 27)\n"
   ]
  },
  {
   "cell_type": "code",
   "execution_count": null,
   "metadata": {},
   "outputs": [],
   "source": []
  }
 ],
 "metadata": {
  "kernelspec": {
   "display_name": "til-machine-learning",
   "language": "python",
   "name": "python3"
  },
  "language_info": {
   "codemirror_mode": {
    "name": "ipython",
    "version": 3
   },
   "file_extension": ".py",
   "mimetype": "text/x-python",
   "name": "python",
   "nbconvert_exporter": "python",
   "pygments_lexer": "ipython3",
   "version": "3.12.2"
  }
 },
 "nbformat": 4,
 "nbformat_minor": 2
}
