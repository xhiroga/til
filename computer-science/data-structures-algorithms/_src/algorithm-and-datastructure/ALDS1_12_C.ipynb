{
 "cells": [
  {
   "cell_type": "markdown",
   "metadata": {},
   "source": [
    "# 単一始点最短経路\n"
   ]
  },
  {
   "cell_type": "code",
   "execution_count": 18,
   "metadata": {},
   "outputs": [],
   "source": [
    "from logging import getLogger, StreamHandler, DEBUG\n",
    "\n",
    "logger = getLogger(__name__)\n",
    "handler = StreamHandler()\n",
    "handler.setLevel(DEBUG)\n",
    "logger.setLevel(DEBUG)\n",
    "logger.addHandler(handler)\n",
    "logger.propagate = False\n"
   ]
  },
  {
   "cell_type": "code",
   "execution_count": 25,
   "metadata": {},
   "outputs": [],
   "source": [
    "import heapq\n",
    "\n",
    "\n",
    "def dijkstra(adjacency_list: list[list[set[int, int]]]) -> str:\n",
    "    pq = []\n",
    "    distances = [float(\"inf\")] * len(adjacency_list)\n",
    "    distances[0] = 0\n",
    "\n",
    "    heapq.heapify(pq)\n",
    "    heapq.heappush(pq, (0, 0))\n",
    "    parent_cost, parent = heapq.heappop(pq)\n",
    "    while True:\n",
    "        for vertex, cost in adjacency_list[parent]:\n",
    "            total_cost = parent_cost + cost\n",
    "            logger.debug(f\"{parent=}, {parent_cost=}, {vertex=}, {cost=}, {distances=}\")\n",
    "            if total_cost < distances[vertex]:\n",
    "                distances[vertex] = total_cost\n",
    "                logger.debug(\n",
    "                    f\"{parent=}, {parent_cost=}, {vertex=}, {cost=}, {distances=}\"\n",
    "                )\n",
    "                heapq.heappush(pq, (total_cost, vertex))\n",
    "                logger.debug(f\"{pq=}\")\n",
    "        try:\n",
    "            parent_cost, parent = heapq.heappop(pq)\n",
    "            logger.debug(f\"{pq=}\")\n",
    "        except IndexError as _:\n",
    "            joined = \"\\n\".join([f\"{i} {cost}\" for i, cost in enumerate(distances)])\n",
    "            return joined\n"
   ]
  },
  {
   "cell_type": "code",
   "execution_count": 26,
   "metadata": {},
   "outputs": [
    {
     "name": "stderr",
     "output_type": "stream",
     "text": [
      "parent=0, parent_cost=0, vertex=2, cost=3, distances=[0, inf, inf, inf, inf]\n",
      "parent=0, parent_cost=0, vertex=2, cost=3, distances=[0, inf, 3, inf, inf]\n",
      "pq=[(3, 2)]\n",
      "parent=0, parent_cost=0, vertex=3, cost=1, distances=[0, inf, 3, inf, inf]\n",
      "parent=0, parent_cost=0, vertex=3, cost=1, distances=[0, inf, 3, 1, inf]\n",
      "pq=[(1, 3), (3, 2)]\n",
      "parent=0, parent_cost=0, vertex=1, cost=2, distances=[0, inf, 3, 1, inf]\n",
      "parent=0, parent_cost=0, vertex=1, cost=2, distances=[0, 2, 3, 1, inf]\n",
      "pq=[(1, 3), (3, 2), (2, 1)]\n",
      "pq=[(2, 1), (3, 2)]\n",
      "parent=3, parent_cost=1, vertex=2, cost=1, distances=[0, 2, 3, 1, inf]\n",
      "parent=3, parent_cost=1, vertex=2, cost=1, distances=[0, 2, 2, 1, inf]\n",
      "pq=[(2, 1), (3, 2), (2, 2)]\n",
      "parent=3, parent_cost=1, vertex=0, cost=1, distances=[0, 2, 2, 1, inf]\n",
      "parent=3, parent_cost=1, vertex=1, cost=4, distances=[0, 2, 2, 1, inf]\n",
      "parent=3, parent_cost=1, vertex=4, cost=3, distances=[0, 2, 2, 1, inf]\n",
      "parent=3, parent_cost=1, vertex=4, cost=3, distances=[0, 2, 2, 1, 4]\n",
      "pq=[(2, 1), (3, 2), (2, 2), (4, 4)]\n",
      "pq=[(2, 2), (3, 2), (4, 4)]\n",
      "parent=1, parent_cost=2, vertex=0, cost=2, distances=[0, 2, 2, 1, 4]\n",
      "parent=1, parent_cost=2, vertex=3, cost=4, distances=[0, 2, 2, 1, 4]\n",
      "pq=[(3, 2), (4, 4)]\n",
      "parent=2, parent_cost=2, vertex=0, cost=3, distances=[0, 2, 2, 1, 4]\n",
      "parent=2, parent_cost=2, vertex=3, cost=1, distances=[0, 2, 2, 1, 4]\n",
      "parent=2, parent_cost=2, vertex=4, cost=1, distances=[0, 2, 2, 1, 4]\n",
      "parent=2, parent_cost=2, vertex=4, cost=1, distances=[0, 2, 2, 1, 3]\n",
      "pq=[(3, 2), (4, 4), (3, 4)]\n",
      "pq=[(3, 4), (4, 4)]\n",
      "parent=2, parent_cost=3, vertex=0, cost=3, distances=[0, 2, 2, 1, 3]\n",
      "parent=2, parent_cost=3, vertex=3, cost=1, distances=[0, 2, 2, 1, 3]\n",
      "parent=2, parent_cost=3, vertex=4, cost=1, distances=[0, 2, 2, 1, 3]\n",
      "pq=[(4, 4)]\n",
      "parent=4, parent_cost=3, vertex=2, cost=1, distances=[0, 2, 2, 1, 3]\n",
      "parent=4, parent_cost=3, vertex=3, cost=3, distances=[0, 2, 2, 1, 3]\n",
      "pq=[]\n",
      "parent=4, parent_cost=4, vertex=2, cost=1, distances=[0, 2, 2, 1, 3]\n",
      "parent=4, parent_cost=4, vertex=3, cost=3, distances=[0, 2, 2, 1, 3]\n"
     ]
    }
   ],
   "source": [
    "expected = \"\"\"0 0\n",
    "1 2\n",
    "2 2\n",
    "3 1\n",
    "4 3\"\"\"\n",
    "actual = dijkstra(\n",
    "    [\n",
    "        [(2, 3), (3, 1), (1, 2)],\n",
    "        [(0, 2), (3, 4)],\n",
    "        [(0, 3), (3, 1), (4, 1)],\n",
    "        [(2, 1), (0, 1), (1, 4), (4, 3)],\n",
    "        [(2, 1), (3, 3)],\n",
    "    ]\n",
    ")\n",
    "assert expected == actual\n"
   ]
  },
  {
   "cell_type": "code",
   "execution_count": null,
   "metadata": {},
   "outputs": [],
   "source": [
    "heapq.heappop([])"
   ]
  }
 ],
 "metadata": {
  "kernelspec": {
   "display_name": "til_machine_learning_py312",
   "language": "python",
   "name": "python3"
  },
  "language_info": {
   "codemirror_mode": {
    "name": "ipython",
    "version": 3
   },
   "file_extension": ".py",
   "mimetype": "text/x-python",
   "name": "python",
   "nbconvert_exporter": "python",
   "pygments_lexer": "ipython3",
   "version": "3.12.2"
  }
 },
 "nbformat": 4,
 "nbformat_minor": 2
}
