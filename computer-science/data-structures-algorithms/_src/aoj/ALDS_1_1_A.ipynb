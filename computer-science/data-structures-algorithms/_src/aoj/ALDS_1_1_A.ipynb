{
 "cells": [
  {
   "cell_type": "markdown",
   "metadata": {},
   "source": [
    "# 挿入ソート"
   ]
  },
  {
   "cell_type": "code",
   "execution_count": 47,
   "metadata": {},
   "outputs": [],
   "source": [
    "# 本来は交換で実装すべきところ、Mutableなのが趣味に合わなかったのでソート済み配列を別途作っている。\n",
    "# 利用できるメモリに制約があるなら交換で実装すべき。\n",
    "def insertion_sort(unsorted: list[int]):\n",
    "    sorted = []\n",
    "    for num in unsorted:\n",
    "        if (len(sorted) == 0):\n",
    "            sorted.append(num)\n",
    "        else:\n",
    "            count_in_sort = 0\n",
    "            while count_in_sort < len(sorted):\n",
    "                if num <= sorted[count_in_sort]:\n",
    "                    sorted = sorted[:count_in_sort] + [num] + sorted[count_in_sort:]\n",
    "                    break\n",
    "                else:\n",
    "                    count_in_sort += 1\n",
    "            if count_in_sort == len(sorted):\n",
    "                sorted.append(num)\n",
    "        print(sorted)\n",
    "            \n",
    "    return sorted"
   ]
  },
  {
   "cell_type": "code",
   "execution_count": 44,
   "metadata": {},
   "outputs": [],
   "source": [
    "def parse(input: str):\n",
    "    lines = input.splitlines()\n",
    "    return [int(num) for num in lines[1].split(\" \")]"
   ]
  },
  {
   "cell_type": "code",
   "execution_count": 45,
   "metadata": {},
   "outputs": [],
   "source": [
    "input = \"\"\"6\n",
    "5 2 4 6 1 3\"\"\"\n",
    "assert(parse(input) == [5, 2, 4, 6, 1, 3])"
   ]
  },
  {
   "cell_type": "code",
   "execution_count": 46,
   "metadata": {},
   "outputs": [
    {
     "name": "stdout",
     "output_type": "stream",
     "text": [
      "[5]\n",
      "[2, 5]\n",
      "[2, 4, 5]\n",
      "[2, 4, 5, 6]\n",
      "[1, 2, 4, 5, 6]\n",
      "[1, 2, 3, 4, 5, 6]\n"
     ]
    }
   ],
   "source": [
    "assert(isinstance(insertion_sort(parse(input)), list))"
   ]
  },
  {
   "cell_type": "markdown",
   "metadata": {},
   "source": [
    "（時間）計算量としては、最悪の場合の交換回数が、\n",
    "\n",
    "$ 1/2 * (1 + 2 + 3 + ... + N-1) * (N - 1) = (N^2 - N)$ となり、 $O(N^2)$ となる。\n",
    "\n",
    "オーダーの計算では最も影響力のある項を残し、それ以外を無視してよい。"
   ]
  },
  {
   "cell_type": "markdown",
   "metadata": {},
   "source": [
    "（この実装では新たに配列を作っているが、）挿入ソートでは、ある程度元々のデータが整列されていれば、大半のデータを比較のみで済ませられるため高速になる特長がある。"
   ]
  },
  {
   "cell_type": "code",
   "execution_count": null,
   "metadata": {},
   "outputs": [],
   "source": []
  }
 ],
 "metadata": {
  "kernelspec": {
   "display_name": "til_machine_learning_py312",
   "language": "python",
   "name": "python3"
  },
  "language_info": {
   "codemirror_mode": {
    "name": "ipython",
    "version": 3
   },
   "file_extension": ".py",
   "mimetype": "text/x-python",
   "name": "python",
   "nbconvert_exporter": "python",
   "pygments_lexer": "ipython3",
   "version": "3.12.2"
  }
 },
 "nbformat": 4,
 "nbformat_minor": 2
}
