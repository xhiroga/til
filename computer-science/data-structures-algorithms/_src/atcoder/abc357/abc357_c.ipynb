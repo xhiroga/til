{
 "cells": [
  {
   "cell_type": "code",
   "execution_count": 1,
   "metadata": {},
   "outputs": [
    {
     "name": "stdout",
     "output_type": "stream",
     "text": [
      "env: PYTHON_LOGLEVEL=DEBUG\n"
     ]
    }
   ],
   "source": [
    "%env PYTHON_LOGLEVEL=DEBUG"
   ]
  },
  {
   "cell_type": "code",
   "execution_count": 2,
   "metadata": {},
   "outputs": [],
   "source": [
    "from logging import getLogger, StreamHandler, WARNING\n",
    "import os\n",
    "\n",
    "PYTHON_LOGLEVEL = os.environ.get(\"PYTHON_LOGLEVEL\", WARNING)\n",
    "logger = getLogger(__name__)\n",
    "handler = StreamHandler()\n",
    "handler.setLevel(PYTHON_LOGLEVEL)\n",
    "logger.setLevel(PYTHON_LOGLEVEL)\n",
    "logger.addHandler(handler)\n",
    "logger.propagate = False"
   ]
  },
  {
   "cell_type": "code",
   "execution_count": 25,
   "metadata": {},
   "outputs": [],
   "source": [
    "def encode(ss: list[str]) -> str:\n",
    "    encoded = _encode(\"\", ss[0], ss[1], ss[2])\n",
    "    encoded = _encode(encoded, ss[3], ss[4], ss[5])\n",
    "    encoded = _encode(encoded, ss[6], ss[7], ss[8])\n",
    "    return encoded.rstrip()\n",
    "\n",
    "\n",
    "def _encode(encoded, block1, block2, block3):\n",
    "    s0, s1, s2 = block1.split(\"\\n\"), block2.split(\"\\n\"), block3.split(\"\\n\")\n",
    "    for i, s in enumerate(s0):\n",
    "        encoded += s + s1[i] + s2[i] + \"\\n\"\n",
    "\n",
    "    return encoded"
   ]
  },
  {
   "cell_type": "code",
   "execution_count": 28,
   "metadata": {},
   "outputs": [],
   "source": [
    "carpets = {0: \"#\"}\n",
    "\n",
    "\n",
    "def sierpinski_carpet(n: int):\n",
    "    carpet = carpets.get(n)\n",
    "    if carpet is not None:\n",
    "        return carpet\n",
    "    else:\n",
    "        carpet = [\n",
    "            sierpinski_carpet(n - 1),\n",
    "            sierpinski_carpet(n - 1),\n",
    "            sierpinski_carpet(n - 1),\n",
    "            sierpinski_carpet(n - 1),\n",
    "            \"\\n\".join([\".\" * 3 ** (n - 1) for _ in range(3 ** (n - 1))]),\n",
    "            sierpinski_carpet(n - 1),\n",
    "            sierpinski_carpet(n - 1),\n",
    "            sierpinski_carpet(n - 1),\n",
    "            sierpinski_carpet(n - 1),\n",
    "        ]\n",
    "        logger.debug(f\"{n=}, {carpet=}\")\n",
    "        encoded = encode(carpet)\n",
    "        carpets[n] = encoded\n",
    "        return encoded"
   ]
  },
  {
   "cell_type": "code",
   "execution_count": 29,
   "metadata": {},
   "outputs": [
    {
     "name": "stdout",
     "output_type": "stream",
     "text": [
      "###\n",
      "#.#\n",
      "###\n"
     ]
    }
   ],
   "source": [
    "expected = \"###\\n#.#\\n###\"\n",
    "actual = encode([\"#\", \"#\", \"#\", \"#\", \".\", \"#\", \"#\", \"#\", \"#\"])\n",
    "print(actual)\n",
    "assert expected == actual"
   ]
  },
  {
   "cell_type": "code",
   "execution_count": 30,
   "metadata": {},
   "outputs": [
    {
     "name": "stdout",
     "output_type": "stream",
     "text": [
      "#\n"
     ]
    }
   ],
   "source": [
    "from unittest.mock import patch\n",
    "\n",
    "with patch(\"builtins.input\", side_effect=[\"0\"]):\n",
    "    expected = \"#\"\n",
    "    actual = sierpinski_carpet(int(input()))\n",
    "    print(actual)\n",
    "    assert expected == actual"
   ]
  },
  {
   "cell_type": "code",
   "execution_count": 31,
   "metadata": {},
   "outputs": [
    {
     "name": "stderr",
     "output_type": "stream",
     "text": [
      "n=1, carpet=['#', '#', '#', '#', '.', '#', '#', '#', '#']\n"
     ]
    },
    {
     "name": "stdout",
     "output_type": "stream",
     "text": [
      "###\n",
      "#.#\n",
      "###\n"
     ]
    }
   ],
   "source": [
    "from unittest.mock import patch\n",
    "\n",
    "with patch(\"builtins.input\", side_effect=[\"1\"]):\n",
    "    expected = \"###\\n#.#\\n###\"\n",
    "    actual = sierpinski_carpet(int(input()))\n",
    "    print(actual)\n",
    "    assert expected == actual"
   ]
  },
  {
   "cell_type": "code",
   "execution_count": 34,
   "metadata": {},
   "outputs": [
    {
     "name": "stdout",
     "output_type": "stream",
     "text": [
      "#########\n",
      "#.##.##.#\n",
      "#########\n",
      "###...###\n",
      "#.#...#.#\n",
      "###...###\n",
      "#########\n",
      "#.##.##.#\n",
      "#########\n"
     ]
    }
   ],
   "source": [
    "from unittest.mock import patch\n",
    "\n",
    "with patch(\"builtins.input\", side_effect=[\"2\"]):\n",
    "    expected = \"\"\"#########\n",
    "#.##.##.#\n",
    "#########\n",
    "###...###\n",
    "#.#...#.#\n",
    "###...###\n",
    "#########\n",
    "#.##.##.#\n",
    "#########\"\"\"\n",
    "    actual = sierpinski_carpet(int(input()))\n",
    "    print(actual)\n",
    "    assert expected == actual"
   ]
  },
  {
   "cell_type": "code",
   "execution_count": null,
   "metadata": {},
   "outputs": [],
   "source": []
  }
 ],
 "metadata": {
  "kernelspec": {
   "display_name": ".venv",
   "language": "python",
   "name": "python3"
  },
  "language_info": {
   "codemirror_mode": {
    "name": "ipython",
    "version": 3
   },
   "file_extension": ".py",
   "mimetype": "text/x-python",
   "name": "python",
   "nbconvert_exporter": "python",
   "pygments_lexer": "ipython3",
   "version": "3.12.3"
  }
 },
 "nbformat": 4,
 "nbformat_minor": 2
}
