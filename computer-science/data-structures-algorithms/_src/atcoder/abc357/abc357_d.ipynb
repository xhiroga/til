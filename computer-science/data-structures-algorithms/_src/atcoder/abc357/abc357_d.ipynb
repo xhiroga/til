{
 "cells": [
  {
   "cell_type": "code",
   "execution_count": 1,
   "metadata": {},
   "outputs": [
    {
     "name": "stdout",
     "output_type": "stream",
     "text": [
      "env: PYTHON_LOGLEVEL=DEBUG\n"
     ]
    }
   ],
   "source": [
    "%env PYTHON_LOGLEVEL=DEBUG"
   ]
  },
  {
   "cell_type": "code",
   "execution_count": 2,
   "metadata": {},
   "outputs": [],
   "source": [
    "from logging import getLogger, StreamHandler, WARNING\n",
    "import os\n",
    "\n",
    "PYTHON_LOGLEVEL = os.environ.get(\"PYTHON_LOGLEVEL\", WARNING)\n",
    "logger = getLogger(__name__)\n",
    "handler = StreamHandler()\n",
    "handler.setLevel(PYTHON_LOGLEVEL)\n",
    "logger.setLevel(PYTHON_LOGLEVEL)\n",
    "logger.addHandler(handler)\n",
    "logger.propagate = False"
   ]
  },
  {
   "cell_type": "markdown",
   "metadata": {},
   "source": [
    "### 没案: 0,1,2,3...n-1 のループが終わらないくらい長い\n",
    "\n",
    "1. n の桁数を求め、m 桁とする\n",
    "2. n^(m\\*0,1,2,3...n-1)の中で、初めて 998244353 よりも大きくなる数字を取得する\n",
    "3. 998244353 よりも小さかった数と、998244353 より大きい数の余りの合計を算出する\n",
    "4. 余りの合計を更に 998244353 で割り、余りを求める（ここで更に 32bit 超えるようなら分からん...）\n"
   ]
  },
  {
   "cell_type": "markdown",
   "metadata": {},
   "source": [
    "### 没案 2: 10 億で割って、商に 10 億の補数を掛けて、余りを足す、という操作を再帰的に行う。\n",
    "\n",
    "文字列を連結する操作そのものが終わらないくらい長い\n"
   ]
  },
  {
   "cell_type": "code",
   "execution_count": 12,
   "metadata": {},
   "outputs": [],
   "source": [
    "def eight_eight(n: str):\n",
    "    v_n = n * int(n)\n",
    "    large, small = v_n[: len(v_n) - 11], v_n[-10:]\n",
    "    logger.debug(f\"{large=}, {small=}\")"
   ]
  },
  {
   "cell_type": "code",
   "execution_count": 13,
   "metadata": {},
   "outputs": [],
   "source": [
    "from unittest.mock import patch\n",
    "\n",
    "with patch(\"builtins.input\", side_effect=[\"88888888\"]):\n",
    "    expected = \"88888888\"\n",
    "    actual = eight_eight(input())\n",
    "    print(actual)\n",
    "    assert expected == actual"
   ]
  },
  {
   "cell_type": "code",
   "execution_count": null,
   "metadata": {},
   "outputs": [],
   "source": []
  }
 ],
 "metadata": {
  "kernelspec": {
   "display_name": ".venv",
   "language": "python",
   "name": "python3"
  },
  "language_info": {
   "codemirror_mode": {
    "name": "ipython",
    "version": 3
   },
   "file_extension": ".py",
   "mimetype": "text/x-python",
   "name": "python",
   "nbconvert_exporter": "python",
   "pygments_lexer": "ipython3",
   "version": "3.12.3"
  }
 },
 "nbformat": 4,
 "nbformat_minor": 2
}
