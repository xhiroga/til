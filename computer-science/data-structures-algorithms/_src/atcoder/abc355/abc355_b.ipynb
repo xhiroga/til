{
 "cells": [
  {
   "cell_type": "code",
   "execution_count": 19,
   "metadata": {},
   "outputs": [],
   "source": [
    "def b(nums: tuple[list[int]]):\n",
    "    nums_a_sorted, nums_b_sorted = sorted(nums[0]), sorted(nums[1])\n",
    "    a = nums_a_sorted.pop(0)\n",
    "    b = nums_b_sorted.pop(0)\n",
    "    count = 0\n",
    "    while True:\n",
    "        if a < b:\n",
    "            count += 1\n",
    "            if count >= 2:\n",
    "                return \"Yes\"\n",
    "            try:\n",
    "                a = nums_a_sorted.pop(0)\n",
    "            except IndexError as _:\n",
    "                return \"No\"\n",
    "        elif b < a:\n",
    "            count = 0\n",
    "            try:\n",
    "                b = nums_b_sorted.pop(0)\n",
    "            except IndexError as _:\n",
    "                b = 999"
   ]
  },
  {
   "cell_type": "code",
   "execution_count": 20,
   "metadata": {},
   "outputs": [],
   "source": [
    "def parse() -> tuple[list[int], list[int]]:\n",
    "    input()\n",
    "    a = [int(num) for num in input().split(\" \")]\n",
    "    b = [int(num) for num in input().split(\" \")]\n",
    "    return (a, b)"
   ]
  },
  {
   "cell_type": "code",
   "execution_count": 21,
   "metadata": {},
   "outputs": [],
   "source": [
    "from unittest.mock import patch\n",
    "\n",
    "with patch(\"builtins.input\", side_effect=[\"3 2\", \"3 1 5\", \"4 2\"]):\n",
    "    expected = \"No\"\n",
    "    actual = b(parse())\n",
    "    assert expected == actual"
   ]
  },
  {
   "cell_type": "code",
   "execution_count": 22,
   "metadata": {},
   "outputs": [],
   "source": [
    "from unittest.mock import patch\n",
    "\n",
    "with patch(\"builtins.input\", side_effect=[\"2 3\", \"1 2 3\", \"98 99 100\"]):\n",
    "    expected = \"Yes\"\n",
    "    actual = b(parse())\n",
    "    assert expected == actual"
   ]
  },
  {
   "cell_type": "code",
   "execution_count": 23,
   "metadata": {},
   "outputs": [],
   "source": [
    "from unittest.mock import patch\n",
    "\n",
    "with patch(\"builtins.input\", side_effect=[\"1 1\", \"1\", \"2\"]):\n",
    "    expected = \"No\"\n",
    "    actual = b(parse())\n",
    "    assert expected == actual"
   ]
  },
  {
   "cell_type": "code",
   "execution_count": null,
   "metadata": {},
   "outputs": [],
   "source": []
  }
 ],
 "metadata": {
  "kernelspec": {
   "display_name": "Python 3",
   "language": "python",
   "name": "python3"
  },
  "language_info": {
   "codemirror_mode": {
    "name": "ipython",
    "version": 3
   },
   "file_extension": ".py",
   "mimetype": "text/x-python",
   "name": "python",
   "nbconvert_exporter": "python",
   "pygments_lexer": "ipython3",
   "version": "3.9.6"
  }
 },
 "nbformat": 4,
 "nbformat_minor": 2
}
