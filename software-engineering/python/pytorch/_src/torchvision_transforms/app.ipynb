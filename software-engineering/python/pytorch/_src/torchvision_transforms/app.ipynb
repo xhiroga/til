{
 "cells": [
  {
   "cell_type": "code",
   "execution_count": 1,
   "metadata": {},
   "outputs": [
    {
     "name": "stderr",
     "output_type": "stream",
     "text": [
      "c:\\Users\\hiroga\\miniconda3\\envs\\til-machine-learning\\Lib\\site-packages\\tqdm\\auto.py:21: TqdmWarning: IProgress not found. Please update jupyter and ipywidgets. See https://ipywidgets.readthedocs.io/en/stable/user_install.html\n",
      "  from .autonotebook import tqdm as notebook_tqdm\n"
     ]
    }
   ],
   "source": [
    "import os\n",
    "from io import BytesIO\n",
    "\n",
    "import matplotlib.pyplot as plt\n",
    "import requests\n",
    "import torch\n",
    "from PIL import Image\n",
    "from torchvision import transforms"
   ]
  },
  {
   "cell_type": "code",
   "execution_count": 2,
   "metadata": {},
   "outputs": [
    {
     "name": "stdout",
     "output_type": "stream",
     "text": [
      "Image downloaded successfully.\n"
     ]
    }
   ],
   "source": [
    "os.makedirs(\"images\", exist_ok=True)\n",
    "\n",
    "url = \"https://images.unsplash.com/photo-1569383746724-6f1b882b8f46\"\n",
    "response = requests.get(url)\n",
    "\n",
    "if response.status_code == 200:\n",
    "    image = Image.open(BytesIO(response.content))\n",
    "    image.save(\"images/Chefchaouen.jpg\") # シャウエン\n",
    "    print(\"Image downloaded successfully.\")\n",
    "else:\n",
    "    print(\"Failed to download the image.\")"
   ]
  },
  {
   "cell_type": "code",
   "execution_count": 3,
   "metadata": {},
   "outputs": [],
   "source": [
    "cropper = transforms.CenterCrop(100)\n",
    "cropped = cropper(image)\n",
    "cropped.save(\"images/Chefchaouen-cropped.jpg\")"
   ]
  },
  {
   "cell_type": "code",
   "execution_count": 4,
   "metadata": {},
   "outputs": [
    {
     "name": "stdout",
     "output_type": "stream",
     "text": [
      "torch.Size([3, 100, 100])\n",
      "R: tensor([[0.4745, 0.4392, 0.2784],\n",
      "        [0.4902, 0.4431, 0.3020],\n",
      "        [0.5059, 0.3608, 0.2627]]), G: tensor([[0.6118, 0.6196, 0.5294],\n",
      "        [0.6275, 0.6314, 0.5686],\n",
      "        [0.6392, 0.5529, 0.5451]]), B: tensor([[0.7294, 0.7608, 0.7020],\n",
      "        [0.7529, 0.7804, 0.7451],\n",
      "        [0.7765, 0.7137, 0.7333]])\n"
     ]
    },
    {
     "data": {
      "image/png": "[encoded data removed]",
      "text/plain": [
       "<Figure size 640x480 with 1 Axes>"
      ]
     },
     "metadata": {},
     "output_type": "display_data"
    }
   ],
   "source": [
    "# See image converted as tensor\n",
    "traonsform = transforms.Compose([\n",
    "    transforms.CenterCrop(100),\n",
    "    transforms.ToTensor()\n",
    "])\n",
    "tensor = traonsform(image)\n",
    "print(tensor.shape)\n",
    "\n",
    "# RGBの順番であること、値が0から1の間であることを確認\n",
    "print(f\"R: {tensor[0, :3, :3]}, G: {tensor[1, :3, :3]}, B: {tensor[2, :3, :3]}\")\n",
    "\n",
    "plt.imshow(tensor.permute(1, 2, 0))\n",
    "plt.axis('off')\n",
    "plt.show()"
   ]
  },
  {
   "cell_type": "code",
   "execution_count": 5,
   "metadata": {},
   "outputs": [],
   "source": [
    "normalizer = transforms.Compose([\n",
    "    transforms.ToTensor(),\n",
    "    transforms.Normalize((0.5, 0.5, 0.5),\n",
    "                         (0.5, 0.5, 0.5))\n",
    "])\n",
    "normalized = normalizer(image)\n",
    "normalized_image = transforms.ToPILImage()(normalized)\n",
    "normalized_image.save(\"images/Chefchaouen-normalized.jpg\")\n"
   ]
  },
  {
   "cell_type": "code",
   "execution_count": 6,
   "metadata": {},
   "outputs": [
    {
     "name": "stdout",
     "output_type": "stream",
     "text": [
      "R: tensor([[-0.6965, -0.6794, -0.6452],\n",
      "        [-0.6794, -0.6794, -0.6623],\n",
      "        [-0.6623, -0.6623, -0.6623]]), G: tensor([[1.7983, 1.8158, 1.8508],\n",
      "        [1.8158, 1.8158, 1.8333],\n",
      "        [1.8333, 1.8333, 1.8333]]), B: tensor([[2.2914, 2.3088, 2.3437],\n",
      "        [2.3088, 2.3088, 2.3263],\n",
      "        [2.3263, 2.3263, 2.3263]])\n"
     ]
    }
   ],
   "source": [
    "# 平均と標準偏差に、ImageNetの平均と標準偏差を使用する\n",
    "normalizer = transforms.Compose(\n",
    "    [\n",
    "        transforms.ToTensor(),\n",
    "        transforms.Normalize(mean=[0.485, 0.456, 0.406], std=[0.229, 0.224, 0.225]),\n",
    "    ]\n",
    ")\n",
    "normalized = normalizer(image)\n",
    "normalized_image = transforms.ToPILImage()(normalized)\n",
    "normalized_image.save(\"images/Chefchaouen-normalizedbyimagenet.jpg\")\n",
    "\n",
    "# 正規化すると、RGBの値が負の値を取りうるので、プレビューしても自然な画像にはならない。\n",
    "print(f\"R: {normalized[0, :3, :3]}, G: {normalized[1, :3, :3]}, B: {normalized[2, :3, :3]}\")"
   ]
  },
  {
   "cell_type": "code",
   "execution_count": 7,
   "metadata": {},
   "outputs": [],
   "source": [
    "# 正規化した画像のRGB値にImageNetの平均を足して、正規化の影響を可視化する。\n",
    "normalized_plus_mean = normalized + torch.tensor([0.485, 0.456, 0.406]).view(-1, 1, 1)\n",
    "normalized_plus_mean_image = transforms.ToPILImage()(normalized_plus_mean)\n",
    "normalized_plus_mean_image.save(\"images/Chefchaouen-normalizedplusmean.jpg\")"
   ]
  },
  {
   "cell_type": "code",
   "execution_count": null,
   "metadata": {},
   "outputs": [],
   "source": []
  }
 ],
 "metadata": {
  "kernelspec": {
   "display_name": "til-machine-learning",
   "language": "python",
   "name": "python3"
  },
  "language_info": {
   "codemirror_mode": {
    "name": "ipython",
    "version": 3
   },
   "file_extension": ".py",
   "mimetype": "text/x-python",
   "name": "python",
   "nbconvert_exporter": "python",
   "pygments_lexer": "ipython3",
   "version": "3.11.7"
  }
 },
 "nbformat": 4,
 "nbformat_minor": 2
}
