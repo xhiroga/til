{
 "cells": [
  {
   "cell_type": "code",
   "execution_count": 3,
   "metadata": {
    "vscode": {
     "languageId": "powershell"
    }
   },
   "outputs": [
    {
     "name": "stdout",
     "output_type": "stream",
     "text": [
      "Loading channels: ...working... done\n",
      "# Name                       Version           Build  Channel             \n",
      "gradio                        3.16.2    pyhd8ed1ab_0  conda-forge         \n",
      "gradio                        3.18.0    pyhd8ed1ab_0  conda-forge         \n",
      "gradio                        3.19.1    pyhd8ed1ab_0  conda-forge         \n",
      "gradio                        3.20.0    pyhd8ed1ab_0  conda-forge         \n",
      "gradio                        3.20.1    pyhd8ed1ab_0  conda-forge         \n",
      "gradio                        3.21.0    pyhd8ed1ab_0  conda-forge         \n",
      "gradio                        3.22.0    pyhd8ed1ab_0  conda-forge         \n",
      "gradio                        3.22.1    pyhd8ed1ab_0  conda-forge         \n",
      "gradio                        3.22.1    pyhd8ed1ab_1  conda-forge         \n",
      "gradio                        3.23.0    pyhd8ed1ab_0  conda-forge         \n",
      "gradio                        3.24.1    pyhd8ed1ab_0  conda-forge         \n",
      "gradio                        3.46.1    pyhd8ed1ab_0  conda-forge         \n",
      "gradio                        3.47.1    pyhd8ed1ab_0  conda-forge         \n",
      "gradio                        3.48.0    pyhd8ed1ab_0  conda-forge         \n",
      "gradio                        3.49.0    pyhd8ed1ab_0  conda-forge         \n",
      "gradio                        3.50.0    pyhd8ed1ab_0  conda-forge         \n",
      "gradio                        3.50.1    pyhd8ed1ab_0  conda-forge         \n",
      "gradio                        3.50.2    pyhd8ed1ab_0  conda-forge         \n",
      "gradio                         4.0.2    pyhd8ed1ab_0  conda-forge         \n",
      "gradio                         4.1.0    pyhd8ed1ab_0  conda-forge         \n",
      "gradio                         4.1.1    pyhd8ed1ab_0  conda-forge         \n",
      "gradio                         4.1.2    pyhd8ed1ab_0  conda-forge         \n",
      "gradio                         4.2.0    pyhd8ed1ab_0  conda-forge         \n",
      "gradio                         4.3.0    pyhd8ed1ab_0  conda-forge         \n",
      "gradio                         4.3.0    pyhd8ed1ab_1  conda-forge         \n",
      "gradio                         4.4.0    pyhd8ed1ab_0  conda-forge         \n",
      "gradio                         4.4.1    pyhd8ed1ab_0  conda-forge         \n",
      "gradio                         4.5.0    pyhd8ed1ab_0  conda-forge         \n",
      "gradio                         4.7.1    pyhd8ed1ab_0  conda-forge         \n",
      "gradio                         4.8.0    pyhd8ed1ab_0  conda-forge         \n",
      "gradio                         4.9.0    pyhd8ed1ab_0  conda-forge         \n",
      "gradio                         4.9.1    pyhd8ed1ab_0  conda-forge         \n",
      "gradio                        4.10.0    pyhd8ed1ab_0  conda-forge         \n",
      "gradio                        4.11.0    pyhd8ed1ab_0  conda-forge         \n",
      "gradio                        4.12.0    pyhd8ed1ab_0  conda-forge         \n",
      "gradio                        4.13.0    pyhd8ed1ab_0  conda-forge         \n",
      "gradio                        4.13.0    pyhd8ed1ab_1  conda-forge         \n"
     ]
    }
   ],
   "source": [
    "!conda search gradio"
   ]
  },
  {
   "cell_type": "code",
   "execution_count": 4,
   "metadata": {
    "vscode": {
     "languageId": "powershell"
    }
   },
   "outputs": [
    {
     "name": "stdout",
     "output_type": "stream",
     "text": [
      "Channels:\n",
      " - conda-forge\n",
      " - defaults\n",
      "Platform: win-64\n",
      "Collecting package metadata (repodata.json): ...working... done\n",
      "Solving environment: ...working... done\n",
      "\n",
      "# All requested packages already installed.\n",
      "\n"
     ]
    }
   ],
   "source": [
    "!conda install gradio=4.13.0=pyhd8ed1ab_0 -c conda-forge -n til_grayskull_gradio_feedstock_issue_48_before_fix"
   ]
  },
  {
   "cell_type": "code",
   "execution_count": 5,
   "metadata": {
    "vscode": {
     "languageId": "powershell"
    }
   },
   "outputs": [
    {
     "name": "stderr",
     "output_type": "stream",
     "text": [
      "Traceback (most recent call last):\n",
      "\n",
      "  File \"C:\\Users\\hiroga\\miniconda3\\envs\\til_grayskull_gradio_feedstock_issue_48_before_fix\\Scripts\\gradio-script.py\", line 5, in <module>\n",
      "\n",
      "    from gradio.reload import run_in_reload_mode\n",
      "\n",
      "ModuleNotFoundError: No module named 'gradio.reload'\n",
      "\n",
      "\n",
      "ERROR conda.cli.main_run:execute(124): `conda run gradio environment` failed. (See above for error)\n"
     ]
    }
   ],
   "source": [
    "!conda run -n til_grayskull_gradio_feedstock_issue_48_before_fix gradio environment"
   ]
  },
  {
   "cell_type": "code",
   "execution_count": null,
   "metadata": {
    "vscode": {
     "languageId": "powershell"
    }
   },
   "outputs": [],
   "source": []
  }
 ],
 "metadata": {
  "kernelspec": {
   "display_name": "til_grayskull_gradio_feedstock_issue_48_before_fix",
   "language": "python",
   "name": "python3"
  },
  "language_info": {
   "codemirror_mode": {
    "name": "ipython",
    "version": 3
   },
   "file_extension": ".py",
   "mimetype": "text/x-python",
   "name": "python",
   "nbconvert_exporter": "python",
   "pygments_lexer": "ipython3",
   "version": "3.12.1"
  }
 },
 "nbformat": 4,
 "nbformat_minor": 2
}
