{
 "cells": [
  {
   "cell_type": "code",
   "execution_count": 1,
   "metadata": {
    "vscode": {
     "languageId": "powershell"
    }
   },
   "outputs": [
    {
     "name": "stdout",
     "output_type": "stream",
     "text": [
      "Loading channels: ...working... done\n",
      "# Name                       Version           Build  Channel             \n",
      "gradio                        3.16.2    pyhd8ed1ab_0  conda-forge         \n",
      "gradio                        3.18.0    pyhd8ed1ab_0  conda-forge         \n",
      "gradio                        3.19.1    pyhd8ed1ab_0  conda-forge         \n",
      "gradio                        3.20.0    pyhd8ed1ab_0  conda-forge         \n",
      "gradio                        3.20.1    pyhd8ed1ab_0  conda-forge         \n",
      "gradio                        3.21.0    pyhd8ed1ab_0  conda-forge         \n",
      "gradio                        3.22.0    pyhd8ed1ab_0  conda-forge         \n",
      "gradio                        3.22.1    pyhd8ed1ab_0  conda-forge         \n",
      "gradio                        3.22.1    pyhd8ed1ab_1  conda-forge         \n",
      "gradio                        3.23.0    pyhd8ed1ab_0  conda-forge         \n",
      "gradio                        3.24.1    pyhd8ed1ab_0  conda-forge         \n",
      "gradio                        3.46.1    pyhd8ed1ab_0  conda-forge         \n",
      "gradio                        3.47.1    pyhd8ed1ab_0  conda-forge         \n",
      "gradio                        3.48.0    pyhd8ed1ab_0  conda-forge         \n",
      "gradio                        3.49.0    pyhd8ed1ab_0  conda-forge         \n",
      "gradio                        3.50.0    pyhd8ed1ab_0  conda-forge         \n",
      "gradio                        3.50.1    pyhd8ed1ab_0  conda-forge         \n",
      "gradio                        3.50.2    pyhd8ed1ab_0  conda-forge         \n",
      "gradio                         4.0.2    pyhd8ed1ab_0  conda-forge         \n",
      "gradio                         4.1.0    pyhd8ed1ab_0  conda-forge         \n",
      "gradio                         4.1.1    pyhd8ed1ab_0  conda-forge         \n",
      "gradio                         4.1.2    pyhd8ed1ab_0  conda-forge         \n",
      "gradio                         4.2.0    pyhd8ed1ab_0  conda-forge         \n",
      "gradio                         4.3.0    pyhd8ed1ab_0  conda-forge         \n",
      "gradio                         4.3.0    pyhd8ed1ab_1  conda-forge         \n",
      "gradio                         4.4.0    pyhd8ed1ab_0  conda-forge         \n",
      "gradio                         4.4.1    pyhd8ed1ab_0  conda-forge         \n",
      "gradio                         4.5.0    pyhd8ed1ab_0  conda-forge         \n",
      "gradio                         4.7.1    pyhd8ed1ab_0  conda-forge         \n",
      "gradio                         4.8.0    pyhd8ed1ab_0  conda-forge         \n",
      "gradio                         4.9.0    pyhd8ed1ab_0  conda-forge         \n",
      "gradio                         4.9.1    pyhd8ed1ab_0  conda-forge         \n",
      "gradio                        4.10.0    pyhd8ed1ab_0  conda-forge         \n",
      "gradio                        4.11.0    pyhd8ed1ab_0  conda-forge         \n",
      "gradio                        4.12.0    pyhd8ed1ab_0  conda-forge         \n",
      "gradio                        4.13.0    pyhd8ed1ab_0  conda-forge         \n",
      "gradio                        4.13.0    pyhd8ed1ab_1  conda-forge         \n"
     ]
    }
   ],
   "source": [
    "!conda search gradio"
   ]
  },
  {
   "cell_type": "code",
   "execution_count": 3,
   "metadata": {
    "vscode": {
     "languageId": "powershell"
    }
   },
   "outputs": [
    {
     "name": "stdout",
     "output_type": "stream",
     "text": [
      "Channels:\n",
      " - conda-forge\n",
      " - defaults\n",
      "Platform: win-64\n",
      "Collecting package metadata (repodata.json): ...working... done\n",
      "Solving environment: ...working... done\n",
      "\n",
      "# All requested packages already installed.\n",
      "\n"
     ]
    }
   ],
   "source": [
    "!conda install gradio=4.13.0=pyhd8ed1ab_1 -c conda-forge -n til_grayskull_gradio_feedstock_issue_48_after_fix"
   ]
  },
  {
   "cell_type": "code",
   "execution_count": 4,
   "metadata": {
    "vscode": {
     "languageId": "powershell"
    }
   },
   "outputs": [
    {
     "name": "stdout",
     "output_type": "stream",
     "text": [
      "Gradio Environment Information:\n",
      "\n",
      "------------------------------\n",
      "\n",
      "Operating System: Windows\n",
      "\n",
      "gradio version: 4.13.0\n",
      "\n",
      "gradio_client version: 0.8.0\n",
      "\n",
      "\n",
      "\n",
      "------------------------------------------------\n",
      "\n",
      "gradio dependencies in your environment:\n",
      "\n",
      "\n",
      "\n",
      "aiofiles: 23.2.1\n",
      "\n",
      "altair: 5.2.0\n",
      "\n",
      "fastapi: 0.108.0\n",
      "\n",
      "ffmpy: 0.3.0\n",
      "\n",
      "gradio-client==0.8.0 is not installed.\n",
      "\n",
      "httpx: 0.26.0\n",
      "\n",
      "huggingface-hub: 0.20.2\n",
      "\n",
      "importlib-resources: 6.1.1\n",
      "\n",
      "jinja2: 3.1.2\n",
      "\n",
      "markupsafe: 2.1.3\n",
      "\n",
      "matplotlib: 3.8.2\n",
      "\n",
      "numpy: 1.26.3\n",
      "\n",
      "orjson: 3.9.10\n",
      "\n",
      "packaging: 23.2\n",
      "\n",
      "pandas: 2.1.4\n",
      "\n",
      "pillow: 10.2.0\n",
      "\n",
      "pydantic: 2.5.3\n",
      "\n",
      "pydub: 0.25.1\n",
      "\n",
      "python-multipart: 0.0.6\n",
      "\n",
      "pyyaml: 6.0.1\n",
      "\n",
      "semantic-version: 2.10.0\n",
      "\n",
      "tomlkit==0.12.0 is not installed.\n",
      "\n",
      "typer: 0.9.0\n",
      "\n",
      "typing-extensions: 4.9.0\n",
      "\n",
      "uvicorn: 0.25.0\n",
      "\n",
      "authlib; extra == 'oauth' is not installed.\n",
      "\n",
      "itsdangerous; extra == 'oauth' is not installed.\n",
      "\n",
      "\n",
      "\n",
      "\n",
      "\n",
      "gradio_client dependencies in your environment:\n",
      "\n",
      "\n",
      "\n",
      "fsspec: 2023.12.2\n",
      "\n",
      "httpx: 0.26.0\n",
      "\n",
      "huggingface-hub: 0.20.2\n",
      "\n",
      "packaging: 23.2\n",
      "\n",
      "typing-extensions: 4.9.0\n",
      "\n",
      "websockets: 11.0.3\n",
      "\n",
      "\n",
      "\n",
      "\n",
      "\n",
      "\n"
     ]
    }
   ],
   "source": [
    "!conda run -n til_grayskull_gradio_feedstock_issue_48_after_fix gradio environment"
   ]
  },
  {
   "cell_type": "code",
   "execution_count": null,
   "metadata": {
    "vscode": {
     "languageId": "powershell"
    }
   },
   "outputs": [],
   "source": []
  }
 ],
 "metadata": {
  "kernelspec": {
   "display_name": "til_grayskull_gradio_feedstock_issue_48_after_fix",
   "language": "python",
   "name": "python3"
  },
  "language_info": {
   "codemirror_mode": {
    "name": "ipython",
    "version": 3
   },
   "file_extension": ".py",
   "mimetype": "text/x-python",
   "name": "python",
   "nbconvert_exporter": "python",
   "pygments_lexer": "ipython3",
   "version": "3.12.1"
  }
 },
 "nbformat": 4,
 "nbformat_minor": 2
}
