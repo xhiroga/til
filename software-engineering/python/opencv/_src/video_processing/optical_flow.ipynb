{
 "cells": [
  {
   "cell_type": "code",
   "execution_count": 1,
   "metadata": {},
   "outputs": [],
   "source": [
    "# オプティカルフロー: 特徴点を見つけて追いかけていく画像処理\n",
    "# 1. 特徴点を見つける 2.流れを出す 3.1~2を繰り返す"
   ]
  },
  {
   "cell_type": "code",
   "execution_count": null,
   "metadata": {},
   "outputs": [],
   "source": [
    "import cv2"
   ]
  },
  {
   "cell_type": "code",
   "execution_count": null,
   "metadata": {},
   "outputs": [],
   "source": [
    "cv2.namedWindow(\"img\", cv2.WINDOW_NORMAL)\n",
    "cv2.resizeWindow(\"img\", 1200, 800)\n",
    "COUNT = 500\n",
    "criteria = (cv2.TERM_CRITERIA_MAX_ITER | cv2.TERM_CRITERIA_EPS, 20, 0.03) # 最大の反復回数に至るか、止まるまで継続する条件\n",
    "# 画像ピラミッドの用意: 低解像度の画像で特徴点を抽出し、それを高解像度の画像にリレーすることを繰り返す \n",
    "lk_params = dict(winSize=(10,10), maxLevel=4, criteria=criteria)\n",
    "cap = cv2.VideoCapture(\"data/movie/Cosmos.mp4\")\n",
    "ret, frame = cap.read()\n",
    "frame_pre = cv2.cvtColor(frame, cv2.COLOR_BGR2GRAY)\n",
    "while True:\n",
    "    ret, frame = cap.read()\n",
    "    if ret == False:\n",
    "        break\n",
    "    frame_now = cv2.cvtColor(frame, cv2.COLOR_BGR2GRAY)\n",
    "    feature_pre = cv2.goodFeaturesToTrack(frame_pre, COUNT, 0.001, 5) # 0.001: コーナー間の最小距離\n",
    "    if feature_pre is None:\n",
    "        continue\n",
    "    feature_now, status, err = cv2.calcOpticalFlowPyrLK(frame_pre, frame_now, feature_pre, None, **lk_params)\n",
    "    for i in range(COUNT):\n",
    "        pre_x = feature_pre[i][0][0]\n",
    "        pre_y = feature_pre[i][0][1]\n",
    "        now_x = feature_now[i][0][0]\n",
    "        now_y = feature_now[i][0][1]\n",
    "        cv2.line(frame, (pre_x, pre_y), (now_x, now_y), (255,0,0), 3)\n",
    "    cv2.imshow(\"img\", frame)\n",
    "    frame_pre = frame_now.copy()\n",
    "    if cv2.waitKey(10) == 27:\n",
    "        break\n",
    "    cv2.destroyAllWindows()"
   ]
  },
  {
   "cell_type": "code",
   "execution_count": null,
   "metadata": {},
   "outputs": [],
   "source": []
  }
 ],
 "metadata": {
  "kernelspec": {
   "display_name": "Python 3",
   "language": "python",
   "name": "python3"
  },
  "language_info": {
   "codemirror_mode": {
    "name": "ipython",
    "version": 3
   },
   "file_extension": ".py",
   "mimetype": "text/x-python",
   "name": "python",
   "nbconvert_exporter": "python",
   "pygments_lexer": "ipython3",
   "version": "3.5.5"
  }
 },
 "nbformat": 4,
 "nbformat_minor": 2
}
