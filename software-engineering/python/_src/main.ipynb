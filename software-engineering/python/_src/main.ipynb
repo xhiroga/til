{
 "cells": [
  {
   "cell_type": "markdown",
   "metadata": {},
   "source": [
    "## ビット演算"
   ]
  },
  {
   "cell_type": "code",
   "execution_count": 1,
   "metadata": {},
   "outputs": [],
   "source": [
    "# シフト\n",
    "assert 0b100 << 1 == 0b1000\n",
    "assert 0b111 >> 1 == 0b11\n",
    "\n",
    "# シフト演算子の右辺がシフト回数なので注意! 次の書き方は1を8回シフトしている。\n",
    "assert 1 << 0b1000 == 256\n",
    "\n",
    "# これと等価\n",
    "assert 0b1 << 8 == 256"
   ]
  },
  {
   "cell_type": "code",
   "execution_count": 27,
   "metadata": {},
   "outputs": [
    {
     "data": {
      "text/plain": [
       "True"
      ]
     },
     "execution_count": 27,
     "metadata": {},
     "output_type": "execute_result"
    }
   ],
   "source": [
    "# rank・桁数を求める\n",
    "0b1001.bit_count() == 2\n",
    "0b1001.bit_length() == 4"
   ]
  },
  {
   "cell_type": "markdown",
   "metadata": {},
   "source": [
    "## イテレーター・ジェネレーター"
   ]
  },
  {
   "cell_type": "code",
   "execution_count": 8,
   "metadata": {},
   "outputs": [
    {
     "name": "stdout",
     "output_type": "stream",
     "text": [
      "1\n",
      "2\n",
      "3\n",
      "1\n",
      "2\n",
      "3\n"
     ]
    }
   ],
   "source": [
    "class OneTwoThree:\n",
    "    def __init__(self):\n",
    "        self.index = 0\n",
    "\n",
    "    def __iter__(self):\n",
    "        return self\n",
    "\n",
    "    def __next__(self):\n",
    "        self.index += 1\n",
    "        if self.index <= 3:\n",
    "            return self.index\n",
    "        else:\n",
    "            raise StopIteration\n",
    "\n",
    "\n",
    "n_list = [1, 2, 3]\n",
    "for n in n_list:\n",
    "    print(n)\n",
    "\n",
    "one_two_three = OneTwoThree()\n",
    "for n in one_two_three:\n",
    "    print(n)"
   ]
  },
  {
   "cell_type": "code",
   "execution_count": 9,
   "metadata": {},
   "outputs": [
    {
     "name": "stdout",
     "output_type": "stream",
     "text": [
      "1\n",
      "2\n",
      "3\n"
     ]
    }
   ],
   "source": [
    "def generate123():\n",
    "    yield 1\n",
    "    yield 2\n",
    "    yield 3\n",
    "\n",
    "\n",
    "for i in generate123():\n",
    "    print(i)"
   ]
  },
  {
   "cell_type": "code",
   "execution_count": null,
   "metadata": {},
   "outputs": [],
   "source": []
  }
 ],
 "metadata": {
  "kernelspec": {
   "display_name": "Python 3",
   "language": "python",
   "name": "python3"
  },
  "language_info": {
   "codemirror_mode": {
    "name": "ipython",
    "version": 3
   },
   "file_extension": ".py",
   "mimetype": "text/x-python",
   "name": "python",
   "nbconvert_exporter": "python",
   "pygments_lexer": "ipython3",
   "version": "3.12.3"
  }
 },
 "nbformat": 4,
 "nbformat_minor": 2
}
