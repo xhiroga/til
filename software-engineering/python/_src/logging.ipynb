{
 "cells": [
  {
   "cell_type": "markdown",
   "metadata": {},
   "source": [
    "## loggingにまつわる疑問\n",
    "\n",
    "注意: 特に指定がない限り、セルの実行前にPythonランタイムをRestartすること"
   ]
  },
  {
   "cell_type": "code",
   "execution_count": 2,
   "metadata": {},
   "outputs": [
    {
     "name": "stderr",
     "output_type": "stream",
     "text": [
      "INFO:__main__:information 2\n"
     ]
    }
   ],
   "source": [
    "# logging.basicConfig() は、すでに生成済みのloggerインスタンスにも影響するか？\n",
    "# → 影響する\n",
    "\n",
    "from logging import basicConfig, getLogger, DEBUG\n",
    "\n",
    "def play_basic_config():\n",
    "    logger = getLogger(__name__)\n",
    "    logger.info('information 1')\n",
    "    basicConfig(level=DEBUG)\n",
    "    logger.info('information 2')\n",
    "    \n",
    "play_basic_config()"
   ]
  },
  {
   "cell_type": "code",
   "execution_count": 1,
   "metadata": {},
   "outputs": [
    {
     "name": "stdout",
     "output_type": "stream",
     "text": [
      "Default: root.handlers=[]\n",
      "basicConfig called (1): root.handlers=[<StreamHandler stderr (NOTSET)>]\n",
      "basicConfig called (2): root.handlers=[<StreamHandler stderr (NOTSET)>]\n",
      "basicConfig called (3), but different parameter: root.handlers=[<StreamHandler stderr (NOTSET)>]\n"
     ]
    }
   ],
   "source": [
    "# logging.basicConfig()は冪等か？つまり、複数呼び出してもStreamHandlerを1つだけ追加するか？\n",
    "# → 冪等 (force=Trueの場合を除く)\n",
    "\n",
    "from logging import basicConfig, getLogger\n",
    "\n",
    "def play_basic_config_idempotency():\n",
    "    root = getLogger('root')\n",
    "    print(f\"Default: {root.handlers=}\")\n",
    "    basicConfig()\n",
    "    print(f\"basicConfig called (1): {root.handlers=}\")\n",
    "    basicConfig()\n",
    "    print(f\"basicConfig called (2): {root.handlers=}\")\n",
    "    basicConfig()\n",
    "    print(f\"basicConfig called (3), but different parameter: {root.handlers=}\")\n",
    "\n",
    "play_basic_config_idempotency()"
   ]
  },
  {
   "cell_type": "code",
   "execution_count": 1,
   "metadata": {},
   "outputs": [
    {
     "name": "stderr",
     "output_type": "stream",
     "text": [
      "warning message\n"
     ]
    },
    {
     "name": "stdout",
     "output_type": "stream",
     "text": [
      "handlers before logging: []\n",
      "handlers after logging: []\n"
     ]
    }
   ],
   "source": [
    "# basicConfig()を呼び出さずにロギングしたら、ハンドラが生成されるの？\n",
    "# → されない。logging.lastResort ハンドラが利用される\n",
    "\n",
    "from logging import getLogger\n",
    "\n",
    "def when_handler_generated():\n",
    "    root = getLogger('root')\n",
    "    print(f\"handlers before logging: {root.handlers}\")\n",
    "    root.warning('warning message')\n",
    "    print(f\"handlers after logging: {root.handlers}\")\n",
    "\n",
    "when_handler_generated()"
   ]
  },
  {
   "cell_type": "code",
   "execution_count": 4,
   "metadata": {},
   "outputs": [
    {
     "name": "stderr",
     "output_type": "stream",
     "text": [
      "warning message\n"
     ]
    },
    {
     "name": "stdout",
     "output_type": "stream",
     "text": [
      "[]\n"
     ]
    }
   ],
   "source": [
    "# propagateがFalseの場合も、子のloggerはlogging.lastResortを利用できるの？\n",
    "# → できる\n",
    "\n",
    "from logging import getLogger\n",
    "\n",
    "def child_logger_default_handler_without_propagate():\n",
    "    child = getLogger('child')\n",
    "    child.propagate = False\n",
    "    print(f\"{child.handlers}\")\n",
    "    child.warning('warning message')\n",
    "\n",
    "child_logger_default_handler_without_propagate()"
   ]
  },
  {
   "cell_type": "code",
   "execution_count": 3,
   "metadata": {},
   "outputs": [
    {
     "name": "stderr",
     "output_type": "stream",
     "text": [
      "INFO:root:root information\n",
      "INFO:child:child information\n",
      "DEBUG:root:root debug\n",
      "DEBUG:child:child debug\n"
     ]
    },
    {
     "name": "stdout",
     "output_type": "stream",
     "text": [
      "Level just after generation: root.level=20, child.level=0\n",
      "Level after logging: root.level=20, child.level=0\n",
      "Level after change root level: root.level=10, child.level=0\n",
      "Level after logging: root.level=10, child.level=0\n"
     ]
    }
   ],
   "source": [
    "# 子のloggerが親のloggerのログレベルを継承するというのは、どのタイミングの話？\n",
    "# → ログレベルの継承は、実際に数字を継承する訳ではなく、ログレベルが0の場合に親のログレベルを参照するようだ\n",
    "\n",
    "from logging import basicConfig, getLogger, DEBUG, INFO\n",
    "\n",
    "def when_level_inherited():\n",
    "    # 子のloggerの生成前に、ルートロガーのlevelをINFOに設定する\n",
    "    root = getLogger('root')\n",
    "    basicConfig(level=INFO)\n",
    "\n",
    "    # 子のloggerを生成する\n",
    "    child = getLogger('child')\n",
    "    print(f\"Level just after generation: {root.level=}, {child.level=}\")\n",
    "\n",
    "    root.info('root information')\n",
    "    child.info('child information')\n",
    "    print(f\"Level after logging: {root.level=}, {child.level=}\")\n",
    "\n",
    "    # ルートロガーのlevelをDEBUGに変更する\n",
    "    basicConfig(force=True, level=DEBUG)\n",
    "    print(f\"Level after change root level: {root.level=}, {child.level=}\")\n",
    "\n",
    "    root.debug('root debug')\n",
    "    child.debug('child debug')\n",
    "    print(f\"Level after logging: {root.level=}, {child.level=}\")\n",
    "\n",
    "when_level_inherited()"
   ]
  },
  {
   "cell_type": "code",
   "execution_count": 3,
   "metadata": {},
   "outputs": [
    {
     "name": "stdout",
     "output_type": "stream",
     "text": [
      "__name__='__main__'\n"
     ]
    }
   ],
   "source": [
    "# Jupyter Notebookのセルで`__name__`は何？\n",
    "# → __main__\n",
    "\n",
    "print(f\"{__name__=}\")"
   ]
  },
  {
   "cell_type": "code",
   "execution_count": 4,
   "metadata": {},
   "outputs": [
    {
     "name": "stdout",
     "output_type": "stream",
     "text": [
      "'get_ipython' in globals()=True\n",
      "This is a Jupyter environment, <ipykernel.zmqshell.ZMQInteractiveShell object at 0x10408c470>\n",
      "__IPYTHON__=True\n",
      "'__IPYTHON__' in globals()=False\n",
      "'ipykernel' in sys.modules=True\n"
     ]
    }
   ],
   "source": [
    "# ランタイムがJupyter Notebookであることを確認する楽な方法は？\n",
    "# → get_ipython が定義されているかを確認すれば良い。\n",
    "\n",
    "print(f\"{'get_ipython' in globals()=}\")\n",
    "\n",
    "# get_ipython() を実行する方法。エラーハンドリングが必要になる。\n",
    "print(f\"This is a Jupyter environment, {get_ipython()}\") # type: ignore\n",
    "\n",
    "# __IPYTHON__ を参照する方法。`__IPYTHON__`は扱いが特殊らしく、globals()に定義されていない。\n",
    "print(f\"{__IPYTHON__=}\") # type: ignore\n",
    "print(f\"{'__IPYTHON__' in globals()=}\")\n",
    "\n",
    "# ipykernelがモジュールに存在するかを確かめる方法\n",
    "import sys\n",
    "\n",
    "print(f\"{'ipykernel' in sys.modules=}\")"
   ]
  },
  {
   "cell_type": "markdown",
   "metadata": {},
   "source": [
    "## Jupyter Notebookでloggingを用いる上での考察"
   ]
  },
  {
   "cell_type": "code",
   "execution_count": 2,
   "metadata": {},
   "outputs": [
    {
     "name": "stderr",
     "output_type": "stream",
     "text": [
      "DEBUG:root:hello\n"
     ]
    }
   ],
   "source": [
    "from logging import basicConfig, root, DEBUG, WARNING\n",
    "\n",
    "def some_algorithm():\n",
    "    # Jupyter Notebookでloggingをしていると、同じセルを複数回実行した際にStreamHandlerが複数追加されることが悩ましい。\n",
    "    # basicConfigはStreamHandlerの追加が冪等なため、ルートロガーの利用またはpropagateを認めることになるが、メリットの方が大きいと判断した。\n",
    "    basicConfig(level=DEBUG if 'get_ipython' in globals() else WARNING)\n",
    "\n",
    "    # どうせルートロガーを使うなら明示的に使ったほうがトラブルが少ないと考える。\n",
    "    root.debug('hello')\n",
    "\n",
    "some_algorithm()"
   ]
  },
  {
   "cell_type": "code",
   "execution_count": null,
   "metadata": {},
   "outputs": [],
   "source": []
  }
 ],
 "metadata": {
  "kernelspec": {
   "display_name": ".venv",
   "language": "python",
   "name": "python3"
  },
  "language_info": {
   "codemirror_mode": {
    "name": "ipython",
    "version": 3
   },
   "file_extension": ".py",
   "mimetype": "text/x-python",
   "name": "python",
   "nbconvert_exporter": "python",
   "pygments_lexer": "ipython3",
   "version": "3.12.3"
  }
 },
 "nbformat": 4,
 "nbformat_minor": 2
}
