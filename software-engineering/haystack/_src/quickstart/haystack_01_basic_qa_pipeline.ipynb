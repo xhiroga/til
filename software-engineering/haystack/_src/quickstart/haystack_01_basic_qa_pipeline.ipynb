{
  "nbformat": 4,
  "nbformat_minor": 0,
  "metadata": {
    "colab": {
      "provenance": [],
      "machine_shape": "hm",
      "gpuType": "A100",
      "authorship_tag": "ABX9TyMMHLStbcYfqqm1rzGP2FnH",
      "include_colab_link": true
    },
    "kernelspec": {
      "name": "python3",
      "display_name": "Python 3"
    },
    "language_info": {
      "name": "python"
    },
    "accelerator": "GPU"
  },
  "cells": [
    {
      "cell_type": "markdown",
      "metadata": {
        "id": "view-in-github",
        "colab_type": "text"
      },
      "source": [
        "<a href=\"https://colab.research.google.com/github/xhiroga/til/blob/main/software-engineering/haystack/quickstart/haystack_01_basic_qa_pipeline.ipynb\" target=\"_parent\"><img src=\"https://colab.research.google.com/assets/colab-badge.svg\" alt=\"Open In Colab\"/></a>"
      ]
    },
    {
      "cell_type": "markdown",
      "source": [
        "# [Build Your First Question Answering System | Haystack](https://haystack.deepset.ai/tutorials/01_basic_qa_pipeline)"
      ],
      "metadata": {
        "id": "gXz29yxk7rxH"
      }
    },
    {
      "cell_type": "code",
      "source": [
        "%%bash\n",
        "\n",
        "nvidia-smi"
      ],
      "metadata": {
        "colab": {
          "base_uri": "https://localhost:8080/"
        },
        "id": "nM7PMwgQCTX-",
        "outputId": "75317b42-66fc-4ce2-f923-99ea0a82afcc"
      },
      "execution_count": 15,
      "outputs": [
        {
          "output_type": "stream",
          "name": "stdout",
          "text": [
            "Sun Sep 24 03:15:45 2023       \n",
            "+-----------------------------------------------------------------------------+\n",
            "| NVIDIA-SMI 525.105.17   Driver Version: 525.105.17   CUDA Version: 12.0     |\n",
            "|-------------------------------+----------------------+----------------------+\n",
            "| GPU  Name        Persistence-M| Bus-Id        Disp.A | Volatile Uncorr. ECC |\n",
            "| Fan  Temp  Perf  Pwr:Usage/Cap|         Memory-Usage | GPU-Util  Compute M. |\n",
            "|                               |                      |               MIG M. |\n",
            "|===============================+======================+======================|\n",
            "|   0  NVIDIA A100-SXM...  Off  | 00000000:00:04.0 Off |                    0 |\n",
            "| N/A   31C    P0    48W / 400W |   2367MiB / 40960MiB |      0%      Default |\n",
            "|                               |                      |             Disabled |\n",
            "+-------------------------------+----------------------+----------------------+\n",
            "                                                                               \n",
            "+-----------------------------------------------------------------------------+\n",
            "| Processes:                                                                  |\n",
            "|  GPU   GI   CI        PID   Type   Process name                  GPU Memory |\n",
            "|        ID   ID                                                   Usage      |\n",
            "|=============================================================================|\n",
            "+-----------------------------------------------------------------------------+\n"
          ]
        }
      ]
    },
    {
      "cell_type": "code",
      "execution_count": 16,
      "metadata": {
        "colab": {
          "base_uri": "https://localhost:8080/"
        },
        "id": "RcZBuVy77lVU",
        "outputId": "6c38d24c-d632-4ebb-83a4-33b25e0433ae"
      },
      "outputs": [
        {
          "output_type": "stream",
          "name": "stdout",
          "text": [
            "Requirement already satisfied: pip in /usr/local/lib/python3.10/dist-packages (23.2.1)\n",
            "Requirement already satisfied: farm-haystack[colab,inference] in /usr/local/lib/python3.10/dist-packages (1.20.1)\n",
            "Requirement already satisfied: boilerpy3 in /usr/local/lib/python3.10/dist-packages (from farm-haystack[colab,inference]) (1.0.6)\n",
            "Requirement already satisfied: canals==0.7.0 in /usr/local/lib/python3.10/dist-packages (from farm-haystack[colab,inference]) (0.7.0)\n",
            "Requirement already satisfied: events in /usr/local/lib/python3.10/dist-packages (from farm-haystack[colab,inference]) (0.5)\n",
            "Requirement already satisfied: jsonschema in /usr/local/lib/python3.10/dist-packages (from farm-haystack[colab,inference]) (4.19.0)\n",
            "Requirement already satisfied: lazy-imports==0.3.1 in /usr/local/lib/python3.10/dist-packages (from farm-haystack[colab,inference]) (0.3.1)\n",
            "Requirement already satisfied: more-itertools in /usr/local/lib/python3.10/dist-packages (from farm-haystack[colab,inference]) (10.1.0)\n",
            "Requirement already satisfied: networkx in /usr/local/lib/python3.10/dist-packages (from farm-haystack[colab,inference]) (3.1)\n",
            "Requirement already satisfied: pandas in /usr/local/lib/python3.10/dist-packages (from farm-haystack[colab,inference]) (1.5.3)\n",
            "Requirement already satisfied: pillow in /usr/local/lib/python3.10/dist-packages (from farm-haystack[colab,inference]) (9.0.0)\n",
            "Requirement already satisfied: platformdirs in /usr/local/lib/python3.10/dist-packages (from farm-haystack[colab,inference]) (3.10.0)\n",
            "Requirement already satisfied: posthog in /usr/local/lib/python3.10/dist-packages (from farm-haystack[colab,inference]) (3.0.2)\n",
            "Requirement already satisfied: prompthub-py==4.0.0 in /usr/local/lib/python3.10/dist-packages (from farm-haystack[colab,inference]) (4.0.0)\n",
            "Requirement already satisfied: pydantic<2 in /usr/local/lib/python3.10/dist-packages (from farm-haystack[colab,inference]) (1.10.12)\n",
            "Requirement already satisfied: quantulum3 in /usr/local/lib/python3.10/dist-packages (from farm-haystack[colab,inference]) (0.9.0)\n",
            "Requirement already satisfied: rank-bm25 in /usr/local/lib/python3.10/dist-packages (from farm-haystack[colab,inference]) (0.2.2)\n",
            "Requirement already satisfied: requests in /usr/local/lib/python3.10/dist-packages (from farm-haystack[colab,inference]) (2.31.0)\n",
            "Requirement already satisfied: requests-cache<1.0.0 in /usr/local/lib/python3.10/dist-packages (from farm-haystack[colab,inference]) (0.9.8)\n",
            "Requirement already satisfied: scikit-learn>=1.3.0 in /usr/local/lib/python3.10/dist-packages (from farm-haystack[colab,inference]) (1.3.1)\n",
            "Requirement already satisfied: sseclient-py in /usr/local/lib/python3.10/dist-packages (from farm-haystack[colab,inference]) (1.8.0)\n",
            "Requirement already satisfied: tenacity in /usr/local/lib/python3.10/dist-packages (from farm-haystack[colab,inference]) (8.2.3)\n",
            "Requirement already satisfied: tiktoken<0.5.0,>=0.3.2 in /usr/local/lib/python3.10/dist-packages (from farm-haystack[colab,inference]) (0.4.0)\n",
            "Requirement already satisfied: tqdm in /usr/local/lib/python3.10/dist-packages (from farm-haystack[colab,inference]) (4.66.1)\n",
            "Requirement already satisfied: transformers==4.32.1 in /usr/local/lib/python3.10/dist-packages (from farm-haystack[colab,inference]) (4.32.1)\n",
            "Requirement already satisfied: huggingface-hub>=0.5.0 in /usr/local/lib/python3.10/dist-packages (from farm-haystack[colab,inference]) (0.17.2)\n",
            "Requirement already satisfied: sentence-transformers>=2.2.0 in /usr/local/lib/python3.10/dist-packages (from farm-haystack[colab,inference]) (2.2.2)\n",
            "Requirement already satisfied: pyyaml<7.0,>=6.0 in /usr/local/lib/python3.10/dist-packages (from prompthub-py==4.0.0->farm-haystack[colab,inference]) (6.0.1)\n",
            "Requirement already satisfied: filelock in /usr/local/lib/python3.10/dist-packages (from transformers==4.32.1->farm-haystack[colab,inference]) (3.12.2)\n",
            "Requirement already satisfied: numpy>=1.17 in /usr/local/lib/python3.10/dist-packages (from transformers==4.32.1->farm-haystack[colab,inference]) (1.23.5)\n",
            "Requirement already satisfied: packaging>=20.0 in /usr/local/lib/python3.10/dist-packages (from transformers==4.32.1->farm-haystack[colab,inference]) (23.1)\n",
            "Requirement already satisfied: regex!=2019.12.17 in /usr/local/lib/python3.10/dist-packages (from transformers==4.32.1->farm-haystack[colab,inference]) (2023.6.3)\n",
            "Requirement already satisfied: tokenizers!=0.11.3,<0.14,>=0.11.1 in /usr/local/lib/python3.10/dist-packages (from transformers==4.32.1->farm-haystack[colab,inference]) (0.13.3)\n",
            "Requirement already satisfied: safetensors>=0.3.1 in /usr/local/lib/python3.10/dist-packages (from transformers==4.32.1->farm-haystack[colab,inference]) (0.3.3)\n",
            "Requirement already satisfied: torch!=1.12.0,>=1.9 in /usr/local/lib/python3.10/dist-packages (from transformers==4.32.1->farm-haystack[colab,inference]) (2.0.1+cu118)\n",
            "Requirement already satisfied: accelerate>=0.20.3 in /usr/local/lib/python3.10/dist-packages (from transformers==4.32.1->farm-haystack[colab,inference]) (0.23.0)\n",
            "Requirement already satisfied: sentencepiece!=0.1.92,>=0.1.91 in /usr/local/lib/python3.10/dist-packages (from transformers==4.32.1->farm-haystack[colab,inference]) (0.1.99)\n",
            "Requirement already satisfied: protobuf in /usr/local/lib/python3.10/dist-packages (from transformers==4.32.1->farm-haystack[colab,inference]) (3.20.3)\n",
            "Requirement already satisfied: fsspec in /usr/local/lib/python3.10/dist-packages (from huggingface-hub>=0.5.0->farm-haystack[colab,inference]) (2023.6.0)\n",
            "Requirement already satisfied: typing-extensions>=3.7.4.3 in /usr/local/lib/python3.10/dist-packages (from huggingface-hub>=0.5.0->farm-haystack[colab,inference]) (4.5.0)\n",
            "Requirement already satisfied: charset-normalizer<4,>=2 in /usr/local/lib/python3.10/dist-packages (from requests->farm-haystack[colab,inference]) (3.2.0)\n",
            "Requirement already satisfied: idna<4,>=2.5 in /usr/local/lib/python3.10/dist-packages (from requests->farm-haystack[colab,inference]) (3.4)\n",
            "Requirement already satisfied: urllib3<3,>=1.21.1 in /usr/local/lib/python3.10/dist-packages (from requests->farm-haystack[colab,inference]) (2.0.4)\n",
            "Requirement already satisfied: certifi>=2017.4.17 in /usr/local/lib/python3.10/dist-packages (from requests->farm-haystack[colab,inference]) (2023.7.22)\n",
            "Requirement already satisfied: appdirs>=1.4.4 in /usr/local/lib/python3.10/dist-packages (from requests-cache<1.0.0->farm-haystack[colab,inference]) (1.4.4)\n",
            "Requirement already satisfied: attrs>=21.2 in /usr/local/lib/python3.10/dist-packages (from requests-cache<1.0.0->farm-haystack[colab,inference]) (23.1.0)\n",
            "Requirement already satisfied: cattrs>=22.2 in /usr/local/lib/python3.10/dist-packages (from requests-cache<1.0.0->farm-haystack[colab,inference]) (23.1.2)\n",
            "Requirement already satisfied: url-normalize>=1.4 in /usr/local/lib/python3.10/dist-packages (from requests-cache<1.0.0->farm-haystack[colab,inference]) (1.4.3)\n",
            "Requirement already satisfied: scipy>=1.5.0 in /usr/local/lib/python3.10/dist-packages (from scikit-learn>=1.3.0->farm-haystack[colab,inference]) (1.11.2)\n",
            "Requirement already satisfied: joblib>=1.1.1 in /usr/local/lib/python3.10/dist-packages (from scikit-learn>=1.3.0->farm-haystack[colab,inference]) (1.3.2)\n",
            "Requirement already satisfied: threadpoolctl>=2.0.0 in /usr/local/lib/python3.10/dist-packages (from scikit-learn>=1.3.0->farm-haystack[colab,inference]) (3.2.0)\n",
            "Requirement already satisfied: torchvision in /usr/local/lib/python3.10/dist-packages (from sentence-transformers>=2.2.0->farm-haystack[colab,inference]) (0.15.2+cu118)\n",
            "Requirement already satisfied: nltk in /usr/local/lib/python3.10/dist-packages (from sentence-transformers>=2.2.0->farm-haystack[colab,inference]) (3.8.1)\n",
            "Requirement already satisfied: jsonschema-specifications>=2023.03.6 in /usr/local/lib/python3.10/dist-packages (from jsonschema->farm-haystack[colab,inference]) (2023.7.1)\n",
            "Requirement already satisfied: referencing>=0.28.4 in /usr/local/lib/python3.10/dist-packages (from jsonschema->farm-haystack[colab,inference]) (0.30.2)\n",
            "Requirement already satisfied: rpds-py>=0.7.1 in /usr/local/lib/python3.10/dist-packages (from jsonschema->farm-haystack[colab,inference]) (0.10.2)\n",
            "Requirement already satisfied: python-dateutil>=2.8.1 in /usr/local/lib/python3.10/dist-packages (from pandas->farm-haystack[colab,inference]) (2.8.2)\n",
            "Requirement already satisfied: pytz>=2020.1 in /usr/local/lib/python3.10/dist-packages (from pandas->farm-haystack[colab,inference]) (2023.3.post1)\n",
            "Requirement already satisfied: six>=1.5 in /usr/local/lib/python3.10/dist-packages (from posthog->farm-haystack[colab,inference]) (1.16.0)\n",
            "Requirement already satisfied: monotonic>=1.5 in /usr/local/lib/python3.10/dist-packages (from posthog->farm-haystack[colab,inference]) (1.6)\n",
            "Requirement already satisfied: backoff>=1.10.0 in /usr/local/lib/python3.10/dist-packages (from posthog->farm-haystack[colab,inference]) (2.2.1)\n",
            "Requirement already satisfied: inflect in /usr/local/lib/python3.10/dist-packages (from quantulum3->farm-haystack[colab,inference]) (7.0.0)\n",
            "Requirement already satisfied: num2words in /usr/local/lib/python3.10/dist-packages (from quantulum3->farm-haystack[colab,inference]) (0.5.12)\n",
            "Requirement already satisfied: psutil in /usr/local/lib/python3.10/dist-packages (from accelerate>=0.20.3->transformers==4.32.1->farm-haystack[colab,inference]) (5.9.5)\n",
            "Requirement already satisfied: exceptiongroup in /usr/local/lib/python3.10/dist-packages (from cattrs>=22.2->requests-cache<1.0.0->farm-haystack[colab,inference]) (1.1.3)\n",
            "Requirement already satisfied: sympy in /usr/local/lib/python3.10/dist-packages (from torch!=1.12.0,>=1.9->transformers==4.32.1->farm-haystack[colab,inference]) (1.12)\n",
            "Requirement already satisfied: jinja2 in /usr/local/lib/python3.10/dist-packages (from torch!=1.12.0,>=1.9->transformers==4.32.1->farm-haystack[colab,inference]) (3.1.2)\n",
            "Requirement already satisfied: triton==2.0.0 in /usr/local/lib/python3.10/dist-packages (from torch!=1.12.0,>=1.9->transformers==4.32.1->farm-haystack[colab,inference]) (2.0.0)\n",
            "Requirement already satisfied: cmake in /usr/local/lib/python3.10/dist-packages (from triton==2.0.0->torch!=1.12.0,>=1.9->transformers==4.32.1->farm-haystack[colab,inference]) (3.27.4.1)\n",
            "Requirement already satisfied: lit in /usr/local/lib/python3.10/dist-packages (from triton==2.0.0->torch!=1.12.0,>=1.9->transformers==4.32.1->farm-haystack[colab,inference]) (16.0.6)\n",
            "Requirement already satisfied: click in /usr/local/lib/python3.10/dist-packages (from nltk->sentence-transformers>=2.2.0->farm-haystack[colab,inference]) (8.1.7)\n",
            "Requirement already satisfied: docopt>=0.6.2 in /usr/local/lib/python3.10/dist-packages (from num2words->quantulum3->farm-haystack[colab,inference]) (0.6.2)\n",
            "Requirement already satisfied: MarkupSafe>=2.0 in /usr/local/lib/python3.10/dist-packages (from jinja2->torch!=1.12.0,>=1.9->transformers==4.32.1->farm-haystack[colab,inference]) (2.1.3)\n",
            "Requirement already satisfied: mpmath>=0.19 in /usr/local/lib/python3.10/dist-packages (from sympy->torch!=1.12.0,>=1.9->transformers==4.32.1->farm-haystack[colab,inference]) (1.3.0)\n"
          ]
        },
        {
          "output_type": "stream",
          "name": "stderr",
          "text": [
            "WARNING: Running pip as the 'root' user can result in broken permissions and conflicting behaviour with the system package manager. It is recommended to use a virtual environment instead: https://pip.pypa.io/warnings/venv\n",
            "WARNING: Running pip as the 'root' user can result in broken permissions and conflicting behaviour with the system package manager. It is recommended to use a virtual environment instead: https://pip.pypa.io/warnings/venv\n"
          ]
        }
      ],
      "source": [
        "%%bash\n",
        "\n",
        "pip install --upgrade pip\n",
        "pip install farm-haystack[colab,inference]"
      ]
    },
    {
      "cell_type": "code",
      "source": [
        "from haystack.telemetry import tutorial_running\n",
        "\n",
        "tutorial_running(1)"
      ],
      "metadata": {
        "id": "5tXQCZas7rHy"
      },
      "execution_count": 17,
      "outputs": []
    },
    {
      "cell_type": "code",
      "source": [
        "import logging\n",
        "\n",
        "logging.basicConfig(format=\"%(levelname)s - %(name)s -  %(message)s\", level=logging.WARNING)\n",
        "logging.getLogger(\"haystack\").setLevel(logging.INFO)"
      ],
      "metadata": {
        "id": "Woyf8qNqCjf2"
      },
      "execution_count": 18,
      "outputs": []
    },
    {
      "cell_type": "code",
      "source": [
        "from haystack.document_stores import InMemoryDocumentStore\n",
        "\n",
        "document_store = InMemoryDocumentStore(use_bm25=True)"
      ],
      "metadata": {
        "colab": {
          "base_uri": "https://localhost:8080/"
        },
        "id": "FwEXt9TACnaC",
        "outputId": "aafcd20f-3ab6-48be-90b8-30c4093f3e7f"
      },
      "execution_count": 19,
      "outputs": [
        {
          "output_type": "stream",
          "name": "stderr",
          "text": [
            "INFO:haystack.modeling.utils:Using devices: CUDA:0 - Number of GPUs: 1\n"
          ]
        }
      ]
    },
    {
      "cell_type": "code",
      "source": [
        "from haystack.utils import fetch_archive_from_http\n",
        "\n",
        "doc_dir = \"data/build_your_first_question_answering_system\"\n",
        "\n",
        "fetch_archive_from_http(\n",
        "    url=\"https://s3.eu-central-1.amazonaws.com/deepset.ai-farm-qa/datasets/documents/wiki_gameofthrones_txt1.zip\",\n",
        "    output_dir=doc_dir,\n",
        ")"
      ],
      "metadata": {
        "colab": {
          "base_uri": "https://localhost:8080/"
        },
        "id": "hKAtar3DCt7Q",
        "outputId": "8dc3ebe1-b081-4b78-9915-f157dbcd0e8d"
      },
      "execution_count": 20,
      "outputs": [
        {
          "output_type": "stream",
          "name": "stderr",
          "text": [
            "INFO:haystack.utils.import_utils:Found data stored in 'data/build_your_first_question_answering_system'. Delete this first if you really want to fetch new data.\n"
          ]
        },
        {
          "output_type": "execute_result",
          "data": {
            "text/plain": [
              "False"
            ]
          },
          "metadata": {},
          "execution_count": 20
        }
      ]
    },
    {
      "cell_type": "code",
      "source": [
        "import os\n",
        "from haystack.pipelines.standard_pipelines import TextIndexingPipeline\n",
        "\n",
        "files_to_index = [doc_dir + \"/\" + f for f in os.listdir(doc_dir)]\n",
        "indexing_pipeline = TextIndexingPipeline(document_store)\n",
        "indexing_pipeline.run_batch(file_paths=files_to_index)"
      ],
      "metadata": {
        "id": "9zGWqeqHCy9e"
      },
      "execution_count": null,
      "outputs": []
    },
    {
      "cell_type": "code",
      "source": [
        "!ls data/build_your_first_question_answering_system"
      ],
      "metadata": {
        "colab": {
          "base_uri": "https://localhost:8080/"
        },
        "id": "TlYg-fdtC8u4",
        "outputId": "ed5b0491-b55b-45f7-d99d-ff721dae6fec"
      },
      "execution_count": 22,
      "outputs": [
        {
          "output_type": "stream",
          "name": "stdout",
          "text": [
            "0_Game_of_Thrones__season_8_.txt\n",
            "101_Titties_and_Dragons.txt\n",
            "102_The_Princess_and_the_Queen.txt\n",
            "10_Beyond_the_Wall__Game_of_Thrones_.txt\n",
            "118_Dark_Wings__Dark_Words.txt\n",
            "119_Walk_of_Punishment.txt\n",
            "11_The_Dragon_and_the_Wolf.txt\n",
            "120_And_Now_His_Watch_Is_Ended.txt\n",
            "121_The_Bear_and_the_Maiden_Fair.txt\n",
            "126_Kissed_by_Fire.txt\n",
            "127_The_Climb__Game_of_Thrones_.txt\n",
            "129_Second_Sons.txt\n",
            "12_Fire.txt\n",
            "130_Game_of_Thrones_title_sequence.txt\n",
            "131_Mhysa.txt\n",
            "133_Game_of_Thrones__Season_5__soundtrack_.txt\n",
            "134_Game_of_Thrones__Season_6__soundtrack_.txt\n",
            "135_Game_of_Thrones__Season_7__soundtrack_.txt\n",
            "136_Game_of_Thrones__Season_8__soundtrack_.txt\n",
            "145_Elio_M._García_Jr._and_Linda_Antonsson.txt\n",
            "146_The_Sons_of_the_Dragon.txt\n",
            "148_Game_of_Thrones__Winter_Is_Coming.txt\n",
            "151_Ellaria_Sand.txt\n",
            "154_Margaery_Tyrell.txt\n",
            "160_Viserys_Targaryen.txt\n",
            "191_Gendry.txt\n",
            "193_Lord_Snow.txt\n",
            "194_A_Song_of_Ice_and_Fire.txt\n",
            "195_World_of_A_Song_of_Ice_and_Fire.txt\n",
            "197_A_Game_of_Thrones.txt\n",
            "198_A_Clash_of_Kings.txt\n",
            "199_A_Storm_of_Swords.txt\n",
            "1_Dragonstone__Game_of_Thrones_episode_.txt\n",
            "201_A_Game_of_Thrones__card_game_.txt\n",
            "202_A_Feast_for_Crows.txt\n",
            "207_Jon_Snow__character_.txt\n",
            "208_Robb_Stark.txt\n",
            "209_Mockingbird__Game_of_Thrones_.txt\n",
            "20_Light_of_the_Seven.txt\n",
            "210_The_Mountain_and_the_Viper.txt\n",
            "211_The_Watchers_on_the_Wall.txt\n",
            "212_The_Children__Game_of_Thrones_.txt\n",
            "213_Valyrian_languages.txt\n",
            "214_Dothraki_language.txt\n",
            "217_The_Rogue_Prince.txt\n",
            "218_Olenna_Tyrell.txt\n",
            "21_The_Bear_and_the_Maiden_Fair__song_.txt\n",
            "224_The_Night_Lands.txt\n",
            "228_Souad_Faress.txt\n",
            "229_Game_of_Thrones.txt\n",
            "22_The_Rains_of_Castamere__song_.txt\n",
            "232_Tommen_Baratheon.txt\n",
            "233_Myrcella_Baratheon.txt\n",
            "23_Game_of_Thrones_Live_Concert_Experience.txt\n",
            "24_Game_of_Thrones__Season_1__soundtrack_.txt\n",
            "25_Game_of_Thrones__Season_2__soundtrack_.txt\n",
            "262_Gilly__character_.txt\n",
            "263_Tormund_Giantsbane.txt\n",
            "26_Game_of_Thrones__Season_3__soundtrack_.txt\n",
            "273_High_Sparrow.txt\n",
            "27_Game_of_Thrones__Season_4__soundtrack_.txt\n",
            "28_Jorah_Mormont.txt\n",
            "299_Rani_Mahal__TV_series_.txt\n",
            "2_Stormborn.txt\n",
            "304_Hardhome.txt\n",
            "306_The_Dance_of_Dragons.txt\n",
            "30_List_of_A_Song_of_Ice_and_Fire_characters.txt\n",
            "310_Mother_s_Mercy.txt\n",
            "311_Game_of_Thrones__season_7_.txt\n",
            "317_The_Broken_Man.txt\n",
            "329_Robert_Baratheon.txt\n",
            "330_Oberyn_Martell.txt\n",
            "331_Bran_Stark.txt\n",
            "332_Sansa_Stark.txt\n",
            "334_Rickon_Stark.txt\n",
            "33_David_Benioff.txt\n",
            "340_Roose_Bolton.txt\n",
            "341_Ned_Stark.txt\n",
            "342_Theon_Greyjoy.txt\n",
            "343_Catelyn_Stark.txt\n",
            "345_A_Game_of_Thrones__comics_.txt\n",
            "346_Ygritte.txt\n",
            "347_Game_of_Thrones__season_2_.txt\n",
            "348_The_Winds_of_Winter.txt\n",
            "349_List_of_Game_of_Thrones_characters.txt\n",
            "356_Tales_of_Dunk_and_Egg.txt\n",
            "358_A_Game_of_Thrones__Genesis.txt\n",
            "359_Kill_the_Boy.txt\n",
            "360_List_of_Game_of_Thrones_episodes.txt\n",
            "362_Winter_Is_Coming.txt\n",
            "365_A_Song_of_Ice_and_Fire_Roleplaying.txt\n",
            "367_Gregor_Clegane.txt\n",
            "368_Jaime_Lannister.txt\n",
            "369_Samwell_Tarly.txt\n",
            "371_Cersei_Lannister.txt\n",
            "373_Tywin_Lannister.txt\n",
            "378_A_Game_of_Thrones__board_game_.txt\n",
            "379_Davos_Seaworth.txt\n",
            "37_Joffrey_Baratheon.txt\n",
            "394_Game_of_Thrones__2014_video_game_.txt\n",
            "395_Game_of_Thrones__season_5_.txt\n",
            "396_Game_of_Thrones__season_6_.txt\n",
            "399_For_the_Throne__Music_Inspired_by_the_HBO_Series_Game_of_Thrones.txt\n",
            "39_Renly_Baratheon.txt\n",
            "3_The_Queen_s_Justice.txt\n",
            "400_Winterfell__Game_of_Thrones_episode_.txt\n",
            "401_Power_Is_Power.txt\n",
            "402_A_Knight_of_the_Seven_Kingdoms__Game_of_Thrones_.txt\n",
            "403_Jenny_of_Oldstones.txt\n",
            "407_The_Long_Night__Game_of_Thrones_.txt\n",
            "408_The_Last_of_the_Starks.txt\n",
            "40_Stannis_Baratheon.txt\n",
            "410_The_Bells__Game_of_Thrones_.txt\n",
            "411_The_Iron_Throne__Game_of_Thrones_.txt\n",
            "420_Blood_of_My_Blood.txt\n",
            "424_Night_King.txt\n",
            "425_No_One__Game_of_Thrones_.txt\n",
            "435_White_Walker.txt\n",
            "439_Melisandre.txt\n",
            "43_Arya_Stark.txt\n",
            "442_Game_of_Thrones__season_1_.txt\n",
            "443_The_Kingsroad.txt\n",
            "444_Cripples__Bastards__and_Broken_Things.txt\n",
            "445_The_Wolf_and_the_Lion.txt\n",
            "446_A_Golden_Crown.txt\n",
            "447_You_Win_or_You_Die.txt\n",
            "449_The_Pointy_End.txt\n",
            "44_Daenerys_Targaryen.txt\n",
            "450_Baelor.txt\n",
            "452_Fire_and_Blood__Game_of_Thrones_.txt\n",
            "453_Game_of_Thrones__2012_video_game_.txt\n",
            "454_Music_of_Game_of_Thrones.txt\n",
            "456_Works_based_on_A_Song_of_Ice_and_Fire.txt\n",
            "460_Battle_of_the_Bastards.txt\n",
            "461_The_Winds_of_Winter__Game_of_Thrones_.txt\n",
            "469_Outline_of_A_Song_of_Ice_and_Fire_franchise.txt\n",
            "474_Bronn__character_.txt\n",
            "475_A_Game_of_Thrones__role-playing_game_.txt\n",
            "477_A_Dance_with_Dragons.txt\n",
            "480_Varys.txt\n",
            "481_Sandor_Clegane.txt\n",
            "482_Petyr_Baelish.txt\n",
            "485_Oathkeeper.txt\n",
            "487_Ramsay_Bolton.txt\n",
            "488_Brienne_of_Tarth.txt\n",
            "495_Hodor.txt\n",
            "501_Khal_Drogo.txt\n",
            "504_List_of_A_Song_of_Ice_and_Fire_video_games.txt\n",
            "506_Game_of_Thrones_Theme.txt\n",
            "508_A_Game_of_Thrones__Second_Edition__card_game_.txt\n",
            "511_After_the_Thrones.txt\n",
            "512_Home__Game_of_Thrones_.txt\n",
            "513_Oathbreaker__Game_of_Thrones_.txt\n",
            "514_Book_of_the_Stranger.txt\n",
            "515_The_Door__Game_of_Thrones_.txt\n",
            "51_Iron_Throne__A_Song_of_Ice_and_Fire_.txt\n",
            "52_Catch_the_Throne.txt\n",
            "53_The_Lion_and_the_Rose.txt\n",
            "54_Two_Swords__Game_of_Thrones_.txt\n",
            "55_Breaker_of_Chains.txt\n",
            "56_First_of_His_Name.txt\n",
            "57_The_Laws_of_Gods_and_Men.txt\n",
            "67_Unbowed__Unbent__Unbroken.txt\n",
            "68_The_Gift__Game_of_Thrones_.txt\n",
            "69_The_Red_Woman.txt\n",
            "73_A_Man_Without_Honor.txt\n",
            "74_The_Prince_of_Winterfell.txt\n",
            "75_Blackwater__Game_of_Thrones_.txt\n",
            "76_Valar_Morghulis.txt\n",
            "77_Game_of_Thrones_Ascent.txt\n",
            "78_The_Rains_of_Castamere.txt\n",
            "79_Thronecast.txt\n",
            "7_The_Spoils_of_War__Game_of_Thrones_.txt\n",
            "80_A_Song_of_Ice_and_Fire_fandom.txt\n",
            "84_List_of_awards_and_nominations_received_by_Game_of_Thrones.txt\n",
            "85_Game_of_Thrones__Seven_Kingdoms.txt\n",
            "86_Game_of_Thrones__season_4_.txt\n",
            "87_Valar_Dohaeris.txt\n",
            "8_Eastwatch.txt\n",
            "97_Tyrion_Lannister.txt\n",
            "98_Black_Friday__South_Park_.txt\n",
            "99_A_Song_of_Ass_and_Fire.txt\n",
            "9_Game_of_Thrones_Tapestry.txt\n"
          ]
        }
      ]
    },
    {
      "cell_type": "markdown",
      "source": [
        "## Initializing the Retriever"
      ],
      "metadata": {
        "id": "J8R80qZAD0Tv"
      }
    },
    {
      "cell_type": "code",
      "source": [
        "from haystack.nodes import BM25Retriever  # 文書のランク付けアルゴリズム。TF-IDF（Term Frequency-Inverse Document Frequency）の拡張と見なすことができるが、単語の出現率の増加が飽和するとマッチ度の増加率が緩やかになる改良がされている。\n",
        "\n",
        "retriever = BM25Retriever(document_store=document_store)\n"
      ],
      "metadata": {
        "id": "TbOleYqzDWGD"
      },
      "execution_count": 23,
      "outputs": []
    },
    {
      "cell_type": "markdown",
      "source": [
        "## Initializing the Reader"
      ],
      "metadata": {
        "id": "2HVH5WvrE2ys"
      }
    },
    {
      "cell_type": "code",
      "source": [
        "from haystack.nodes import FARMReader\n",
        "\n",
        "reader = FARMReader(model_name_or_path=\"deepset/roberta-base-squad2\", use_gpu=True)\n"
      ],
      "metadata": {
        "colab": {
          "base_uri": "https://localhost:8080/"
        },
        "id": "7pQJt_OGEywW",
        "outputId": "d5edc169-bfe8-4200-c0f3-5b40da094c18"
      },
      "execution_count": 24,
      "outputs": [
        {
          "output_type": "stream",
          "name": "stderr",
          "text": [
            "INFO:haystack.modeling.utils:Using devices: CUDA:0 - Number of GPUs: 1\n",
            "INFO:haystack.modeling.utils:Using devices: CUDA:0 - Number of GPUs: 1\n",
            "INFO:haystack.modeling.model.language_model: * LOADING MODEL: 'deepset/roberta-base-squad2' (Roberta)\n",
            "INFO:haystack.modeling.model.language_model:Auto-detected model language: english\n",
            "INFO:haystack.modeling.model.language_model:Loaded 'deepset/roberta-base-squad2' (Roberta model) from model hub.\n",
            "INFO:haystack.modeling.utils:Using devices: CUDA:0 - Number of GPUs: 1\n"
          ]
        }
      ]
    },
    {
      "cell_type": "markdown",
      "source": [
        "## Creating the Retriever-Reader Pipeline"
      ],
      "metadata": {
        "id": "XGzhZA1yFJQh"
      }
    },
    {
      "cell_type": "code",
      "source": [
        "from haystack.pipelines import ExtractiveQAPipeline\n",
        "\n",
        "pipe = ExtractiveQAPipeline(reader, retriever)\n"
      ],
      "metadata": {
        "id": "yXBuzibUE9fI"
      },
      "execution_count": null,
      "outputs": []
    },
    {
      "cell_type": "markdown",
      "source": [
        "## Asking a Question"
      ],
      "metadata": {
        "id": "37ekyyf7Ki91"
      }
    },
    {
      "cell_type": "code",
      "source": [
        "prediction = pipe.run(\n",
        "    query=\"Who is the father of Arya Stark?\", params={\"Retriever\": {\"top_k\": 10}, \"Reader\": {\"top_k\": 5}}\n",
        ")\n"
      ],
      "metadata": {
        "colab": {
          "base_uri": "https://localhost:8080/"
        },
        "id": "oJ1ZING0FKvU",
        "outputId": "75a27e5c-6e76-4d7e-dbe3-2bd6ad7670db"
      },
      "execution_count": null,
      "outputs": [
        {
          "output_type": "stream",
          "name": "stderr",
          "text": [
            "Inferencing Samples: 100%|██████████| 1/1 [00:03<00:00,  3.30s/ Batches]\n"
          ]
        }
      ]
    },
    {
      "cell_type": "code",
      "source": [
        "from pprint import pprint\n",
        "\n",
        "pprint(prediction)\n"
      ],
      "metadata": {
        "colab": {
          "base_uri": "https://localhost:8080/"
        },
        "id": "IwXqKmfoKokG",
        "outputId": "2599d8ab-9dd5-4a02-a5f3-e30a11ab51d0"
      },
      "execution_count": null,
      "outputs": [
        {
          "output_type": "stream",
          "name": "stdout",
          "text": [
            "{'answers': [<Answer {'answer': 'Eddard', 'type': 'extractive', 'score': 0.993372917175293, 'context': \"s Nymeria after a legendary warrior queen. She travels with her father, Eddard, to King's Landing when he is made Hand of the King. Before she leaves,\", 'offsets_in_document': [{'start': 207, 'end': 213}], 'offsets_in_context': [{'start': 72, 'end': 78}], 'document_ids': ['9e3c863097d66aeed9992e0b6bf1f2f4'], 'meta': {'_split_id': 3}}>,\n",
            "             <Answer {'answer': 'Ned', 'type': 'extractive', 'score': 0.9753613471984863, 'context': \"k in the television series.\\n\\n====Season 1====\\nArya accompanies her father Ned and her sister Sansa to King's Landing. Before their departure, Arya's h\", 'offsets_in_document': [{'start': 630, 'end': 633}], 'offsets_in_context': [{'start': 74, 'end': 77}], 'document_ids': ['7d3360fa29130e69ea6b2ba5c5a8f9c8'], 'meta': {'_split_id': 10}}>,\n",
            "             <Answer {'answer': 'Lord Eddard Stark', 'type': 'extractive', 'score': 0.9177325367927551, 'context': 'rk daughters.\\n\\nDuring the Tourney of the Hand to honour her father Lord Eddard Stark, Sansa Stark is enchanted by the knights performing in the event.', 'offsets_in_document': [{'start': 280, 'end': 297}], 'offsets_in_context': [{'start': 67, 'end': 84}], 'document_ids': ['5dbccad397381605eba063f71dd500a6'], 'meta': {'_split_id': 3}}>,\n",
            "             <Answer {'answer': 'Ned', 'type': 'extractive', 'score': 0.8396497964859009, 'context': \" girl disguised as a boy all along and is surprised to learn she is Arya, Ned Stark's daughter. After the Goldcloaks get help from Ser Amory Lorch and\", 'offsets_in_document': [{'start': 848, 'end': 851}], 'offsets_in_context': [{'start': 74, 'end': 77}], 'document_ids': ['257088f56d2faba55e2ef2ebd19502dc'], 'meta': {'_split_id': 31}}>,\n",
            "             <Answer {'answer': 'King Robert', 'type': 'extractive', 'score': 0.6922298669815063, 'context': \"en refuses to yield Gendry, who is actually a bastard son of the late King Robert, to the Lannisters.  The Night's Watch convoy is overrun and massacr\", 'offsets_in_document': [{'start': 579, 'end': 590}], 'offsets_in_context': [{'start': 70, 'end': 81}], 'document_ids': ['4d51b1876e8a7eac8132b97e2af04401'], 'meta': {'_split_id': 4}}>],\n",
            " 'documents': [<Document: {'content': \"She names her direwolf Lady; she is the smallest of the pack and the first to die, sentenced to death by Cersei after Arya's direwolf, Nymeria, bit a violent Joffrey.\\n\\n===Arya Stark===\\nMaisie Williams\\n\\n'''Arya Stark''' portrayed by Maisie Williams. Arya Stark of House Stark is the younger daughter and third child of Lord Eddard and Catelyn Stark of Winterfell. Ever the tomboy, Arya would rather be training to use weapons than sewing with a needle. She names her direwolf Nymeria, after a legendary warrior queen.\\n\\n===Robb Stark===\\nRichard Madden\\n\\n'''Robb Stark''' (seasons 1–3) portrayed by Richard Madden. Robb Stark of House Stark is the eldest son of Eddard and Catelyn Stark and the heir to Winterfell. His dire wolf is called Grey Wind. Robb becomes involved in the war against the Lannisters after his father, Ned Stark, is arrested for treason. Robb summons his bannermen for war against House Lannister and marches to the Riverlands. Eventually, crossing the river at the Twins becomes strategically necessary. To win permission to cross, Robb agrees to marry a daughter of Walder Frey, Lord of the Twins. Robb leads the war effort against the Lannisters and successfully captures Jaime. \", 'content_type': 'text', 'score': 0.8972880480457258, 'meta': {'_split_id': 15}, 'id_hash_keys': ['content'], 'embedding': None, 'id': '26af9634a6cb6995e9dc2f06ad097764'}>,\n",
            "               <Document: {'content': 'Theon Greyjoy is a prisoner of the Boltons, mutilated and driven nearly insane by torture at the hands of Roose\\'s sadistic son Ramsay, who renames him \"Reek\". To cement his rule over the North, Roose Bolton has Ramsay apparently married to Arya Stark; his bride is actually Jeyne Poole, a friend of Arya\\'s sister Sansa forced to impersonate Arya. Ramsay abuses Jeyne physically and sexually. Mance Rayder arrives at Winterfell in disguise and enlists Theon to help him free the false Arya. Mance and his spearwives are left behind while Theon and Jeyne escape, leaping from the castle wall into the snow to be captured by Stannis\\'s forces.\\n\\n====The South====\\n\\nJaime Lannister, the uncle (and, secretly, father) of the young king Tommen Baratheon, negotiates the surrender of the last of the late Robb Stark\\'s allies, nominally putting an end to the Stark–Lannister war in the Riverlands. Brienne of Tarth, whom Jaime had sent to search for Sansa Stark (and who unbeknownst to Jaime was captured by Sansa\\'s undead, vengeful mother Catelyn), finds Jaime and tells him Sansa is in danger; he follows after her.\\n\\n', 'content_type': 'text', 'score': 0.8944335671589808, 'meta': {'_split_id': 7}, 'id_hash_keys': ['content'], 'embedding': None, 'id': '34ba43cba62916a0192f5d9095fa7e67'}>,\n",
            "               <Document: {'content': 'Sansa lies to King Robert about the circumstances of the fight in order to protect both Joffrey and her sister Arya.  Since Arya ran off with her wolf to save it, Sansa\\'s wolf is killed instead, estranging the Stark daughters.\\n\\nDuring the Tourney of the Hand to honour her father Lord Eddard Stark, Sansa Stark is enchanted by the knights performing in the event.  At the request of his mother, Queen Cersei Lannister, Joffrey spends a portion of the tourney with Sansa, but near the end he commands his guard Sandor Clegane, better known as The Hound, to take her back to her quarters. Sandor explains how his older brother, Gregor, aka \"Mountain that Rides\" pushed his face into a brazier of hot coals, for playing with one of his wooden toys.\\n\\nAfter Eddard discovers the truth of Joffrey\\'s paternity, he tells Sansa that they will be heading back to Winterfell. Sansa is devastated and wishes to stay in King\\'s Landing, so she runs off to inform Queen Cersei of her father\\'s plans, unwittingly providing Cersei with the information needed to arrest her father. ', 'content_type': 'text', 'score': 0.8944116483150242, 'meta': {'_split_id': 3}, 'id_hash_keys': ['content'], 'embedding': None, 'id': '5dbccad397381605eba063f71dd500a6'}>,\n",
            "               <Document: {'content': '== Storylines ==\\n=== Novels ===\\n==== \\'\\'A Game of Thrones\\'\\' ====\\nCoat of arms of House Stark\\n\\nArya adopts a direwolf cub, which she names Nymeria after a legendary warrior queen. She travels with her father, Eddard, to King\\'s Landing when he is made Hand of the King. Before she leaves, her half-brother Jon Snow has a smallsword made for her as a parting gift, which she names \"Needle\" after her least favorite ladylike activity.\\n\\nWhile taking a walk together, Prince Joffrey and her sister Sansa happen upon Arya and her friend, the low-born butcher apprentice Mycah, sparring in the woods with broomsticks.  Arya defends Mycah from Joffrey\\'s torments and her direwolf Nymeria helps Arya fight off Joffrey, wounding his arm in the process.  Knowing that Nymeria will likely be killed in retribution, Arya chases her wolf away; but Sansa\\'s direwolf Lady is killed in Nymeria\\'s stead and Mycah is hunted down and killed by Sandor Clegane, Joffrey\\'s bodyguard.\\n\\nIn King\\'s Landing, her father discovers Arya\\'s possession of Needle, but instead of confiscating it he arranges for fencing lessons under the Braavosi swordmaster Syrio Forel, who teaches her the style of fighting known as \"water dancing\".  ', 'content_type': 'text', 'score': 0.8911998637494196, 'meta': {'_split_id': 3}, 'id_hash_keys': ['content'], 'embedding': None, 'id': '9e3c863097d66aeed9992e0b6bf1f2f4'}>,\n",
            "               <Document: {'content': 'When Rafford begs for a healer, Arya cuts his throat in the same fashion as he had killed Lommy and throws his corpse into a canal.  She heads back to perform the play, knowing this murder will most likely ruin her Mercedene identity.\\n\\n=== Family tree of House Stark ===\\n\\n=== Television series ===\\n\\nArya Stark is portrayed by English actress Maisie Williams in the television adaption of the book series, this being Williams\\' first role as an actress. Williams was chosen from among 300 actresses across England.\\nMaisie Williams plays the role of Arya Stark in the television series.\\n\\n====Season 1====\\nArya accompanies her father Ned and her sister Sansa to King\\'s Landing. Before their departure, Arya\\'s half-brother Jon Snow gifts Arya a sword which she dubs \"Needle\". On the Kingsroad, Arya is sparring with a butcher\\'s boy, Mycah, when Sansa\\'s betrothed Prince Joffrey Baratheon attacks Mycah, prompting Arya\\'s direwolf Nymeria to bite Joffrey. Arya shoos Nymeria away so she is not killed, but is furious when Sansa later refuses to support her version of events. Mycah is later killed by Joffrey\\'s bodyguard Sandor \"The Hound\" Clegane, earning him Arya\\'s hatred. ', 'content_type': 'text', 'score': 0.8887660099616107, 'meta': {'_split_id': 10}, 'id_hash_keys': ['content'], 'embedding': None, 'id': '7d3360fa29130e69ea6b2ba5c5a8f9c8'}>,\n",
            "               <Document: {'content': \"After her father's arrest, Syrio is killed protecting her and Arya narrowly escapes capture.  She later witnesses the public execution of her father before falling under the protection of the Night's Watch recruiter Yoren.\\n\\n==== ''A Clash of Kings'' ====\\nArya escapes King's Landing with Yoren and his party of recruits; and on the road, she clashes with the other Night's Watch child recruits Lommy, Gendry, and Hot Pie but eventually befriends them. On the way, the party is attacked by Amory Lorch when Yoren refuses to yield Gendry, who is actually a bastard son of the late King Robert, to the Lannisters.  The Night's Watch convoy is overrun and massacred, but Arya and the other children escape through a tunnel.  Before escaping, she rescues three prisoners locked in a wagon cage, among them a mysterious man named Jaqen H'ghar.\\n\\nArya and her friends are later captured by Ser Gregor Clegane and taken to Harrenhal as slave laborers.  After witnessing the torture death of her fellow prisoners, Arya begins nightly reciting the names of the people upon whom she wishes to exact revenge.  \", 'content_type': 'text', 'score': 0.8883622030478118, 'meta': {'_split_id': 4}, 'id_hash_keys': ['content'], 'embedding': None, 'id': '4d51b1876e8a7eac8132b97e2af04401'}>,\n",
            "               <Document: {'content': \"Gendry refuses, to the shame of the master smith. After Ned's arrest and eventual execution, arrangements are made for Yoren of the Night's Watch to take Gendry to the Wall with him.\\n\\n===Season 2===\\nGendry travels North with Yoren and other Night's Watch recruits, including Arya Stark (disguised as an orphan boy named 'Arry), Lommy Greenhands, Hot Pie and Jaqen H'ghar. During their journey, they are stopped by the Goldcloaks of the City Watch, who demand that Yoren hand Gendry over to them - King Joffrey has ordered that all of his father Robert's bastards be killed, but Yoren turns the Goldcloaks away. Later, Gendry forces Arya to reveal her true identity, and is surprised to learn she is in fact Ned Stark's daughter. After the Goldcloaks get help from Ser Amory Lorch and his men, they ambush the travelling party. In the chaos, Yoren is killed. Gendry's life is then saved by Arya, who convinces the Goldcloaks that Lommy, who was killed during the attack, was in fact Gendry. Gendry and the rest of the recruits are then escorted to Harrenhal, the ruined castle-turned-prison. \", 'content_type': 'text', 'score': 0.8882209947131413, 'meta': {'_split_id': 6}, 'id_hash_keys': ['content'], 'embedding': None, 'id': '685a2d32df2b2312acf9c6c19062fe2'}>,\n",
            "               <Document: {'content': \"In ''A Feast for Crows'', Jon Snow sends him to the Citadel by sea, but Maester Aemon dies on the voyage between Braavos and Oldtown.\\n\\nIn the HBO television adaptation, he is portrayed by Peter Vaughan.\\n\\n=== Yoren ===\\nYoren is a recruiter of the Night's Watch. In ''A Game of Thrones'' Yoren travels with Tyrion Lannister from the Wall to King's Landing, and is present when Tyrion is arrested by Catelyn Stark. He then races to King's Landing to inform Eddard Stark. During Lord Eddard's execution, he finds Arya Stark and shields her from seeing her father's death. In ''A Clash of Kings'' he disguises Arya as a boy recruit to smuggle her to Winterfell, but is killed by Lannister soldiers.\\n\\nIn the HBO television adaptation, he is portrayed by Francis Magee.\\n\\n=== Samwell Tarly ===\\n\\nSamwell Tarly, called 'Sam', is the elder son of Lord Randyll Tarly of Horn Hill. Ten chapters throughout ''A Storm of Swords'' and ''A Feast for Crows'' are told from his point of view. In spite of his self-professed cowardice, Sam is highly intelligent, resourceful, and loyal. \", 'content_type': 'text', 'score': 0.8836797822763027, 'meta': {'_split_id': 76}, 'id_hash_keys': ['content'], 'embedding': None, 'id': '10e153b615f441b825f454e8c3909778'}>,\n",
            "               <Document: {'content': \"Gendry is an apprentice blacksmith in King's Landing and an unacknowledged bastard of King Robert. Gendry shows promise as a smith and makes a helmet in the shape of a bull's head; Eddard compliments the helmet, offering to purchase it. Gendry refuses, to the shame of the master smith. After Eddard Stark's fall and eventual execution, arrangements are made for Yoren of the Night's Watch to take Gendry to the Wall with him; he travels North with Yoren and other recruits, including Arry, Lommy Greenhands, Hot Pie and Jaqen H'ghar. During their journey, they are stopped by the Goldcloaks, who demand that Yoren give up Gendry as King Joffrey wants all of his father's bastards killed but are forced to leave by Yoren. Later, Gendry reveals to Arry that he knows she is a girl disguised as a boy all along and is surprised to learn she is Arya, Ned Stark's daughter. After the Goldcloaks get help from Ser Amory Lorch and his men who kill Yoren, Gendry's life is saved by Arya when she lies to the Goldcloaks that Lommy, who was killed during the attack, was Gendry. \", 'content_type': 'text', 'score': 0.8834753753880299, 'meta': {'_split_id': 31}, 'id_hash_keys': ['content'], 'embedding': None, 'id': '257088f56d2faba55e2ef2ebd19502dc'}>,\n",
            "               <Document: {'content': \"Yara accuses him of killing their father; to her surprise, Euron freely admits to it, declaring that Balon was leading the Ironborn to ruin. He promises to conquer Westeros by marrying Daenerys and offering her the Iron Fleet. He is subsequently chosen as King. Theon and Yara, realising Euron will have them put to death, flee with the best ships of the Iron Fleet. Undaunted, Euron orders the Ironborn to begin construction of a new fleet.\\n\\n===In Braavos===\\nJaqen offers Arya the assignment of killing an actress named Lady Crane, who is playing Cersei in a play recounting the deaths of Robert Baratheon and Ned Stark. While observing the play, Arya is noticeably distressed by the play's portrayal of Ned.\\n\\n===In Meereen===\\nTyrion and Varys note that peace has fallen over Meereen since they forged their pact with the Masters. In order to preserve this, Tyrion summons the red priestess Kinvara, who agrees to preach to the people that Daenerys is the chosen one of the Lord of Light. She also claims to know what originally happened to Varys and why, unnerving the eunuch.\\n\\n\", 'content_type': 'text', 'score': 0.8807893650320425, 'meta': {'_split_id': 2}, 'id_hash_keys': ['content'], 'embedding': None, 'id': 'f419fcbf20cc435a12445877cd2983d3'}>],\n",
            " 'no_ans_gap': 11.405390739440918,\n",
            " 'node_id': 'Reader',\n",
            " 'params': {'Reader': {'top_k': 5}, 'Retriever': {'top_k': 10}},\n",
            " 'query': 'Who is the father of Arya Stark?',\n",
            " 'root_node': 'Query'}\n"
          ]
        }
      ]
    },
    {
      "cell_type": "code",
      "source": [],
      "metadata": {
        "id": "dswZPJ26KsOh"
      },
      "execution_count": null,
      "outputs": []
    }
  ]
}