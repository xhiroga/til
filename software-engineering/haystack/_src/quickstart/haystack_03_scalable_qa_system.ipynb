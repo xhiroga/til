{
  "nbformat": 4,
  "nbformat_minor": 0,
  "metadata": {
    "colab": {
      "provenance": [],
      "machine_shape": "hm",
      "gpuType": "A100",
      "authorship_tag": "ABX9TyO0USHDwWESwdVwl2Nu8M1R",
      "include_colab_link": true
    },
    "kernelspec": {
      "name": "python3",
      "display_name": "Python 3"
    },
    "language_info": {
      "name": "python"
    },
    "accelerator": "GPU",
    "widgets": {
      "application/vnd.jupyter.widget-state+json": {
        "34c88c435c064b4c9bb07425c534b5be": {
          "model_module": "@jupyter-widgets/controls",
          "model_name": "HBoxModel",
          "model_module_version": "1.5.0",
          "state": {
            "_dom_classes": [],
            "_model_module": "@jupyter-widgets/controls",
            "_model_module_version": "1.5.0",
            "_model_name": "HBoxModel",
            "_view_count": null,
            "_view_module": "@jupyter-widgets/controls",
            "_view_module_version": "1.5.0",
            "_view_name": "HBoxView",
            "box_style": "",
            "children": [
              "IPY_MODEL_335a95951c9e42d2a5a76176612c48d5",
              "IPY_MODEL_bf53acc3a9da412dba67e3c8d4f636bf",
              "IPY_MODEL_4edccde750b94c228f260d1d407a36c9"
            ],
            "layout": "IPY_MODEL_c79965b9670c44bf9434ce27d0f48f33"
          }
        },
        "335a95951c9e42d2a5a76176612c48d5": {
          "model_module": "@jupyter-widgets/controls",
          "model_name": "HTMLModel",
          "model_module_version": "1.5.0",
          "state": {
            "_dom_classes": [],
            "_model_module": "@jupyter-widgets/controls",
            "_model_module_version": "1.5.0",
            "_model_name": "HTMLModel",
            "_view_count": null,
            "_view_module": "@jupyter-widgets/controls",
            "_view_module_version": "1.5.0",
            "_view_name": "HTMLView",
            "description": "",
            "description_tooltip": null,
            "layout": "IPY_MODEL_05e9d1fa5b0244508c97475318599661",
            "placeholder": "​",
            "style": "IPY_MODEL_1b179c7dcda34441a0c237cb12c384b0",
            "value": "Downloading (…)lve/main/config.json: 100%"
          }
        },
        "bf53acc3a9da412dba67e3c8d4f636bf": {
          "model_module": "@jupyter-widgets/controls",
          "model_name": "FloatProgressModel",
          "model_module_version": "1.5.0",
          "state": {
            "_dom_classes": [],
            "_model_module": "@jupyter-widgets/controls",
            "_model_module_version": "1.5.0",
            "_model_name": "FloatProgressModel",
            "_view_count": null,
            "_view_module": "@jupyter-widgets/controls",
            "_view_module_version": "1.5.0",
            "_view_name": "ProgressView",
            "bar_style": "success",
            "description": "",
            "description_tooltip": null,
            "layout": "IPY_MODEL_80ebde6317ce43dc92b4a3c9fb8c557f",
            "max": 571,
            "min": 0,
            "orientation": "horizontal",
            "style": "IPY_MODEL_8df49a7fbb8c4f4ab8eafd099a360e3a",
            "value": 571
          }
        },
        "4edccde750b94c228f260d1d407a36c9": {
          "model_module": "@jupyter-widgets/controls",
          "model_name": "HTMLModel",
          "model_module_version": "1.5.0",
          "state": {
            "_dom_classes": [],
            "_model_module": "@jupyter-widgets/controls",
            "_model_module_version": "1.5.0",
            "_model_name": "HTMLModel",
            "_view_count": null,
            "_view_module": "@jupyter-widgets/controls",
            "_view_module_version": "1.5.0",
            "_view_name": "HTMLView",
            "description": "",
            "description_tooltip": null,
            "layout": "IPY_MODEL_023d987d8c06419c9c0edee5b9ed2ba4",
            "placeholder": "​",
            "style": "IPY_MODEL_62091db671254ae090d990e16f3f5b6e",
            "value": " 571/571 [00:00&lt;00:00, 50.1kB/s]"
          }
        },
        "c79965b9670c44bf9434ce27d0f48f33": {
          "model_module": "@jupyter-widgets/base",
          "model_name": "LayoutModel",
          "model_module_version": "1.2.0",
          "state": {
            "_model_module": "@jupyter-widgets/base",
            "_model_module_version": "1.2.0",
            "_model_name": "LayoutModel",
            "_view_count": null,
            "_view_module": "@jupyter-widgets/base",
            "_view_module_version": "1.2.0",
            "_view_name": "LayoutView",
            "align_content": null,
            "align_items": null,
            "align_self": null,
            "border": null,
            "bottom": null,
            "display": null,
            "flex": null,
            "flex_flow": null,
            "grid_area": null,
            "grid_auto_columns": null,
            "grid_auto_flow": null,
            "grid_auto_rows": null,
            "grid_column": null,
            "grid_gap": null,
            "grid_row": null,
            "grid_template_areas": null,
            "grid_template_columns": null,
            "grid_template_rows": null,
            "height": null,
            "justify_content": null,
            "justify_items": null,
            "left": null,
            "margin": null,
            "max_height": null,
            "max_width": null,
            "min_height": null,
            "min_width": null,
            "object_fit": null,
            "object_position": null,
            "order": null,
            "overflow": null,
            "overflow_x": null,
            "overflow_y": null,
            "padding": null,
            "right": null,
            "top": null,
            "visibility": null,
            "width": null
          }
        },
        "05e9d1fa5b0244508c97475318599661": {
          "model_module": "@jupyter-widgets/base",
          "model_name": "LayoutModel",
          "model_module_version": "1.2.0",
          "state": {
            "_model_module": "@jupyter-widgets/base",
            "_model_module_version": "1.2.0",
            "_model_name": "LayoutModel",
            "_view_count": null,
            "_view_module": "@jupyter-widgets/base",
            "_view_module_version": "1.2.0",
            "_view_name": "LayoutView",
            "align_content": null,
            "align_items": null,
            "align_self": null,
            "border": null,
            "bottom": null,
            "display": null,
            "flex": null,
            "flex_flow": null,
            "grid_area": null,
            "grid_auto_columns": null,
            "grid_auto_flow": null,
            "grid_auto_rows": null,
            "grid_column": null,
            "grid_gap": null,
            "grid_row": null,
            "grid_template_areas": null,
            "grid_template_columns": null,
            "grid_template_rows": null,
            "height": null,
            "justify_content": null,
            "justify_items": null,
            "left": null,
            "margin": null,
            "max_height": null,
            "max_width": null,
            "min_height": null,
            "min_width": null,
            "object_fit": null,
            "object_position": null,
            "order": null,
            "overflow": null,
            "overflow_x": null,
            "overflow_y": null,
            "padding": null,
            "right": null,
            "top": null,
            "visibility": null,
            "width": null
          }
        },
        "1b179c7dcda34441a0c237cb12c384b0": {
          "model_module": "@jupyter-widgets/controls",
          "model_name": "DescriptionStyleModel",
          "model_module_version": "1.5.0",
          "state": {
            "_model_module": "@jupyter-widgets/controls",
            "_model_module_version": "1.5.0",
            "_model_name": "DescriptionStyleModel",
            "_view_count": null,
            "_view_module": "@jupyter-widgets/base",
            "_view_module_version": "1.2.0",
            "_view_name": "StyleView",
            "description_width": ""
          }
        },
        "80ebde6317ce43dc92b4a3c9fb8c557f": {
          "model_module": "@jupyter-widgets/base",
          "model_name": "LayoutModel",
          "model_module_version": "1.2.0",
          "state": {
            "_model_module": "@jupyter-widgets/base",
            "_model_module_version": "1.2.0",
            "_model_name": "LayoutModel",
            "_view_count": null,
            "_view_module": "@jupyter-widgets/base",
            "_view_module_version": "1.2.0",
            "_view_name": "LayoutView",
            "align_content": null,
            "align_items": null,
            "align_self": null,
            "border": null,
            "bottom": null,
            "display": null,
            "flex": null,
            "flex_flow": null,
            "grid_area": null,
            "grid_auto_columns": null,
            "grid_auto_flow": null,
            "grid_auto_rows": null,
            "grid_column": null,
            "grid_gap": null,
            "grid_row": null,
            "grid_template_areas": null,
            "grid_template_columns": null,
            "grid_template_rows": null,
            "height": null,
            "justify_content": null,
            "justify_items": null,
            "left": null,
            "margin": null,
            "max_height": null,
            "max_width": null,
            "min_height": null,
            "min_width": null,
            "object_fit": null,
            "object_position": null,
            "order": null,
            "overflow": null,
            "overflow_x": null,
            "overflow_y": null,
            "padding": null,
            "right": null,
            "top": null,
            "visibility": null,
            "width": null
          }
        },
        "8df49a7fbb8c4f4ab8eafd099a360e3a": {
          "model_module": "@jupyter-widgets/controls",
          "model_name": "ProgressStyleModel",
          "model_module_version": "1.5.0",
          "state": {
            "_model_module": "@jupyter-widgets/controls",
            "_model_module_version": "1.5.0",
            "_model_name": "ProgressStyleModel",
            "_view_count": null,
            "_view_module": "@jupyter-widgets/base",
            "_view_module_version": "1.2.0",
            "_view_name": "StyleView",
            "bar_color": null,
            "description_width": ""
          }
        },
        "023d987d8c06419c9c0edee5b9ed2ba4": {
          "model_module": "@jupyter-widgets/base",
          "model_name": "LayoutModel",
          "model_module_version": "1.2.0",
          "state": {
            "_model_module": "@jupyter-widgets/base",
            "_model_module_version": "1.2.0",
            "_model_name": "LayoutModel",
            "_view_count": null,
            "_view_module": "@jupyter-widgets/base",
            "_view_module_version": "1.2.0",
            "_view_name": "LayoutView",
            "align_content": null,
            "align_items": null,
            "align_self": null,
            "border": null,
            "bottom": null,
            "display": null,
            "flex": null,
            "flex_flow": null,
            "grid_area": null,
            "grid_auto_columns": null,
            "grid_auto_flow": null,
            "grid_auto_rows": null,
            "grid_column": null,
            "grid_gap": null,
            "grid_row": null,
            "grid_template_areas": null,
            "grid_template_columns": null,
            "grid_template_rows": null,
            "height": null,
            "justify_content": null,
            "justify_items": null,
            "left": null,
            "margin": null,
            "max_height": null,
            "max_width": null,
            "min_height": null,
            "min_width": null,
            "object_fit": null,
            "object_position": null,
            "order": null,
            "overflow": null,
            "overflow_x": null,
            "overflow_y": null,
            "padding": null,
            "right": null,
            "top": null,
            "visibility": null,
            "width": null
          }
        },
        "62091db671254ae090d990e16f3f5b6e": {
          "model_module": "@jupyter-widgets/controls",
          "model_name": "DescriptionStyleModel",
          "model_module_version": "1.5.0",
          "state": {
            "_model_module": "@jupyter-widgets/controls",
            "_model_module_version": "1.5.0",
            "_model_name": "DescriptionStyleModel",
            "_view_count": null,
            "_view_module": "@jupyter-widgets/base",
            "_view_module_version": "1.2.0",
            "_view_name": "StyleView",
            "description_width": ""
          }
        },
        "bce31734560648e99f7a622bd7d4441a": {
          "model_module": "@jupyter-widgets/controls",
          "model_name": "HBoxModel",
          "model_module_version": "1.5.0",
          "state": {
            "_dom_classes": [],
            "_model_module": "@jupyter-widgets/controls",
            "_model_module_version": "1.5.0",
            "_model_name": "HBoxModel",
            "_view_count": null,
            "_view_module": "@jupyter-widgets/controls",
            "_view_module_version": "1.5.0",
            "_view_name": "HBoxView",
            "box_style": "",
            "children": [
              "IPY_MODEL_307d348f507846d397bf8e6fb8dc6907",
              "IPY_MODEL_265964e813a14e1b93cde6a81de4461f",
              "IPY_MODEL_60c087ad945f446bab9cdf9e1be29331"
            ],
            "layout": "IPY_MODEL_9c42d8c099d041569304045855abe056"
          }
        },
        "307d348f507846d397bf8e6fb8dc6907": {
          "model_module": "@jupyter-widgets/controls",
          "model_name": "HTMLModel",
          "model_module_version": "1.5.0",
          "state": {
            "_dom_classes": [],
            "_model_module": "@jupyter-widgets/controls",
            "_model_module_version": "1.5.0",
            "_model_name": "HTMLModel",
            "_view_count": null,
            "_view_module": "@jupyter-widgets/controls",
            "_view_module_version": "1.5.0",
            "_view_name": "HTMLView",
            "description": "",
            "description_tooltip": null,
            "layout": "IPY_MODEL_198634006b4b44208db29f8b4a647da2",
            "placeholder": "​",
            "style": "IPY_MODEL_902604a71f684c83bffa86f9ad3552ce",
            "value": "Downloading model.safetensors: 100%"
          }
        },
        "265964e813a14e1b93cde6a81de4461f": {
          "model_module": "@jupyter-widgets/controls",
          "model_name": "FloatProgressModel",
          "model_module_version": "1.5.0",
          "state": {
            "_dom_classes": [],
            "_model_module": "@jupyter-widgets/controls",
            "_model_module_version": "1.5.0",
            "_model_name": "FloatProgressModel",
            "_view_count": null,
            "_view_module": "@jupyter-widgets/controls",
            "_view_module_version": "1.5.0",
            "_view_name": "ProgressView",
            "bar_style": "success",
            "description": "",
            "description_tooltip": null,
            "layout": "IPY_MODEL_60aabc865029416fa9f1651997b8ed3c",
            "max": 496254442,
            "min": 0,
            "orientation": "horizontal",
            "style": "IPY_MODEL_0b983c98f6a34503be3247abdca1d6b1",
            "value": 496254442
          }
        },
        "60c087ad945f446bab9cdf9e1be29331": {
          "model_module": "@jupyter-widgets/controls",
          "model_name": "HTMLModel",
          "model_module_version": "1.5.0",
          "state": {
            "_dom_classes": [],
            "_model_module": "@jupyter-widgets/controls",
            "_model_module_version": "1.5.0",
            "_model_name": "HTMLModel",
            "_view_count": null,
            "_view_module": "@jupyter-widgets/controls",
            "_view_module_version": "1.5.0",
            "_view_name": "HTMLView",
            "description": "",
            "description_tooltip": null,
            "layout": "IPY_MODEL_ae2f7ffc7af54cba91130045a7e72a4c",
            "placeholder": "​",
            "style": "IPY_MODEL_34c45e90b6c646ab8ac5515123af5b95",
            "value": " 496M/496M [00:01&lt;00:00, 444MB/s]"
          }
        },
        "9c42d8c099d041569304045855abe056": {
          "model_module": "@jupyter-widgets/base",
          "model_name": "LayoutModel",
          "model_module_version": "1.2.0",
          "state": {
            "_model_module": "@jupyter-widgets/base",
            "_model_module_version": "1.2.0",
            "_model_name": "LayoutModel",
            "_view_count": null,
            "_view_module": "@jupyter-widgets/base",
            "_view_module_version": "1.2.0",
            "_view_name": "LayoutView",
            "align_content": null,
            "align_items": null,
            "align_self": null,
            "border": null,
            "bottom": null,
            "display": null,
            "flex": null,
            "flex_flow": null,
            "grid_area": null,
            "grid_auto_columns": null,
            "grid_auto_flow": null,
            "grid_auto_rows": null,
            "grid_column": null,
            "grid_gap": null,
            "grid_row": null,
            "grid_template_areas": null,
            "grid_template_columns": null,
            "grid_template_rows": null,
            "height": null,
            "justify_content": null,
            "justify_items": null,
            "left": null,
            "margin": null,
            "max_height": null,
            "max_width": null,
            "min_height": null,
            "min_width": null,
            "object_fit": null,
            "object_position": null,
            "order": null,
            "overflow": null,
            "overflow_x": null,
            "overflow_y": null,
            "padding": null,
            "right": null,
            "top": null,
            "visibility": null,
            "width": null
          }
        },
        "198634006b4b44208db29f8b4a647da2": {
          "model_module": "@jupyter-widgets/base",
          "model_name": "LayoutModel",
          "model_module_version": "1.2.0",
          "state": {
            "_model_module": "@jupyter-widgets/base",
            "_model_module_version": "1.2.0",
            "_model_name": "LayoutModel",
            "_view_count": null,
            "_view_module": "@jupyter-widgets/base",
            "_view_module_version": "1.2.0",
            "_view_name": "LayoutView",
            "align_content": null,
            "align_items": null,
            "align_self": null,
            "border": null,
            "bottom": null,
            "display": null,
            "flex": null,
            "flex_flow": null,
            "grid_area": null,
            "grid_auto_columns": null,
            "grid_auto_flow": null,
            "grid_auto_rows": null,
            "grid_column": null,
            "grid_gap": null,
            "grid_row": null,
            "grid_template_areas": null,
            "grid_template_columns": null,
            "grid_template_rows": null,
            "height": null,
            "justify_content": null,
            "justify_items": null,
            "left": null,
            "margin": null,
            "max_height": null,
            "max_width": null,
            "min_height": null,
            "min_width": null,
            "object_fit": null,
            "object_position": null,
            "order": null,
            "overflow": null,
            "overflow_x": null,
            "overflow_y": null,
            "padding": null,
            "right": null,
            "top": null,
            "visibility": null,
            "width": null
          }
        },
        "902604a71f684c83bffa86f9ad3552ce": {
          "model_module": "@jupyter-widgets/controls",
          "model_name": "DescriptionStyleModel",
          "model_module_version": "1.5.0",
          "state": {
            "_model_module": "@jupyter-widgets/controls",
            "_model_module_version": "1.5.0",
            "_model_name": "DescriptionStyleModel",
            "_view_count": null,
            "_view_module": "@jupyter-widgets/base",
            "_view_module_version": "1.2.0",
            "_view_name": "StyleView",
            "description_width": ""
          }
        },
        "60aabc865029416fa9f1651997b8ed3c": {
          "model_module": "@jupyter-widgets/base",
          "model_name": "LayoutModel",
          "model_module_version": "1.2.0",
          "state": {
            "_model_module": "@jupyter-widgets/base",
            "_model_module_version": "1.2.0",
            "_model_name": "LayoutModel",
            "_view_count": null,
            "_view_module": "@jupyter-widgets/base",
            "_view_module_version": "1.2.0",
            "_view_name": "LayoutView",
            "align_content": null,
            "align_items": null,
            "align_self": null,
            "border": null,
            "bottom": null,
            "display": null,
            "flex": null,
            "flex_flow": null,
            "grid_area": null,
            "grid_auto_columns": null,
            "grid_auto_flow": null,
            "grid_auto_rows": null,
            "grid_column": null,
            "grid_gap": null,
            "grid_row": null,
            "grid_template_areas": null,
            "grid_template_columns": null,
            "grid_template_rows": null,
            "height": null,
            "justify_content": null,
            "justify_items": null,
            "left": null,
            "margin": null,
            "max_height": null,
            "max_width": null,
            "min_height": null,
            "min_width": null,
            "object_fit": null,
            "object_position": null,
            "order": null,
            "overflow": null,
            "overflow_x": null,
            "overflow_y": null,
            "padding": null,
            "right": null,
            "top": null,
            "visibility": null,
            "width": null
          }
        },
        "0b983c98f6a34503be3247abdca1d6b1": {
          "model_module": "@jupyter-widgets/controls",
          "model_name": "ProgressStyleModel",
          "model_module_version": "1.5.0",
          "state": {
            "_model_module": "@jupyter-widgets/controls",
            "_model_module_version": "1.5.0",
            "_model_name": "ProgressStyleModel",
            "_view_count": null,
            "_view_module": "@jupyter-widgets/base",
            "_view_module_version": "1.2.0",
            "_view_name": "StyleView",
            "bar_color": null,
            "description_width": ""
          }
        },
        "ae2f7ffc7af54cba91130045a7e72a4c": {
          "model_module": "@jupyter-widgets/base",
          "model_name": "LayoutModel",
          "model_module_version": "1.2.0",
          "state": {
            "_model_module": "@jupyter-widgets/base",
            "_model_module_version": "1.2.0",
            "_model_name": "LayoutModel",
            "_view_count": null,
            "_view_module": "@jupyter-widgets/base",
            "_view_module_version": "1.2.0",
            "_view_name": "LayoutView",
            "align_content": null,
            "align_items": null,
            "align_self": null,
            "border": null,
            "bottom": null,
            "display": null,
            "flex": null,
            "flex_flow": null,
            "grid_area": null,
            "grid_auto_columns": null,
            "grid_auto_flow": null,
            "grid_auto_rows": null,
            "grid_column": null,
            "grid_gap": null,
            "grid_row": null,
            "grid_template_areas": null,
            "grid_template_columns": null,
            "grid_template_rows": null,
            "height": null,
            "justify_content": null,
            "justify_items": null,
            "left": null,
            "margin": null,
            "max_height": null,
            "max_width": null,
            "min_height": null,
            "min_width": null,
            "object_fit": null,
            "object_position": null,
            "order": null,
            "overflow": null,
            "overflow_x": null,
            "overflow_y": null,
            "padding": null,
            "right": null,
            "top": null,
            "visibility": null,
            "width": null
          }
        },
        "34c45e90b6c646ab8ac5515123af5b95": {
          "model_module": "@jupyter-widgets/controls",
          "model_name": "DescriptionStyleModel",
          "model_module_version": "1.5.0",
          "state": {
            "_model_module": "@jupyter-widgets/controls",
            "_model_module_version": "1.5.0",
            "_model_name": "DescriptionStyleModel",
            "_view_count": null,
            "_view_module": "@jupyter-widgets/base",
            "_view_module_version": "1.2.0",
            "_view_name": "StyleView",
            "description_width": ""
          }
        },
        "b3ad74586bbe4272ae959d8ed39e841b": {
          "model_module": "@jupyter-widgets/controls",
          "model_name": "HBoxModel",
          "model_module_version": "1.5.0",
          "state": {
            "_dom_classes": [],
            "_model_module": "@jupyter-widgets/controls",
            "_model_module_version": "1.5.0",
            "_model_name": "HBoxModel",
            "_view_count": null,
            "_view_module": "@jupyter-widgets/controls",
            "_view_module_version": "1.5.0",
            "_view_name": "HBoxView",
            "box_style": "",
            "children": [
              "IPY_MODEL_494b985f885341e5b2c4dc59fdfc19bc",
              "IPY_MODEL_6eead9e105474f76a167f95c842b03c9",
              "IPY_MODEL_9fb57c09af7046e0bacd9cf472e20619"
            ],
            "layout": "IPY_MODEL_3f42a1d589e543d8979cb617290ff6d3"
          }
        },
        "494b985f885341e5b2c4dc59fdfc19bc": {
          "model_module": "@jupyter-widgets/controls",
          "model_name": "HTMLModel",
          "model_module_version": "1.5.0",
          "state": {
            "_dom_classes": [],
            "_model_module": "@jupyter-widgets/controls",
            "_model_module_version": "1.5.0",
            "_model_name": "HTMLModel",
            "_view_count": null,
            "_view_module": "@jupyter-widgets/controls",
            "_view_module_version": "1.5.0",
            "_view_name": "HTMLView",
            "description": "",
            "description_tooltip": null,
            "layout": "IPY_MODEL_eb9aef2ead404edabb923457e5535efb",
            "placeholder": "​",
            "style": "IPY_MODEL_677ec8d77d1448b5b347a37301a954e0",
            "value": "Downloading (…)okenizer_config.json: 100%"
          }
        },
        "6eead9e105474f76a167f95c842b03c9": {
          "model_module": "@jupyter-widgets/controls",
          "model_name": "FloatProgressModel",
          "model_module_version": "1.5.0",
          "state": {
            "_dom_classes": [],
            "_model_module": "@jupyter-widgets/controls",
            "_model_module_version": "1.5.0",
            "_model_name": "FloatProgressModel",
            "_view_count": null,
            "_view_module": "@jupyter-widgets/controls",
            "_view_module_version": "1.5.0",
            "_view_name": "ProgressView",
            "bar_style": "success",
            "description": "",
            "description_tooltip": null,
            "layout": "IPY_MODEL_8b4a230ff1444de687521d16b21c054b",
            "max": 79,
            "min": 0,
            "orientation": "horizontal",
            "style": "IPY_MODEL_5d47187da29a4aa5a2bdfc5ad426b9e7",
            "value": 79
          }
        },
        "9fb57c09af7046e0bacd9cf472e20619": {
          "model_module": "@jupyter-widgets/controls",
          "model_name": "HTMLModel",
          "model_module_version": "1.5.0",
          "state": {
            "_dom_classes": [],
            "_model_module": "@jupyter-widgets/controls",
            "_model_module_version": "1.5.0",
            "_model_name": "HTMLModel",
            "_view_count": null,
            "_view_module": "@jupyter-widgets/controls",
            "_view_module_version": "1.5.0",
            "_view_name": "HTMLView",
            "description": "",
            "description_tooltip": null,
            "layout": "IPY_MODEL_2086a42a71b84551a003e2207288ef43",
            "placeholder": "​",
            "style": "IPY_MODEL_72e169c5cc7c4f52918597b42d7a90d0",
            "value": " 79.0/79.0 [00:00&lt;00:00, 6.60kB/s]"
          }
        },
        "3f42a1d589e543d8979cb617290ff6d3": {
          "model_module": "@jupyter-widgets/base",
          "model_name": "LayoutModel",
          "model_module_version": "1.2.0",
          "state": {
            "_model_module": "@jupyter-widgets/base",
            "_model_module_version": "1.2.0",
            "_model_name": "LayoutModel",
            "_view_count": null,
            "_view_module": "@jupyter-widgets/base",
            "_view_module_version": "1.2.0",
            "_view_name": "LayoutView",
            "align_content": null,
            "align_items": null,
            "align_self": null,
            "border": null,
            "bottom": null,
            "display": null,
            "flex": null,
            "flex_flow": null,
            "grid_area": null,
            "grid_auto_columns": null,
            "grid_auto_flow": null,
            "grid_auto_rows": null,
            "grid_column": null,
            "grid_gap": null,
            "grid_row": null,
            "grid_template_areas": null,
            "grid_template_columns": null,
            "grid_template_rows": null,
            "height": null,
            "justify_content": null,
            "justify_items": null,
            "left": null,
            "margin": null,
            "max_height": null,
            "max_width": null,
            "min_height": null,
            "min_width": null,
            "object_fit": null,
            "object_position": null,
            "order": null,
            "overflow": null,
            "overflow_x": null,
            "overflow_y": null,
            "padding": null,
            "right": null,
            "top": null,
            "visibility": null,
            "width": null
          }
        },
        "eb9aef2ead404edabb923457e5535efb": {
          "model_module": "@jupyter-widgets/base",
          "model_name": "LayoutModel",
          "model_module_version": "1.2.0",
          "state": {
            "_model_module": "@jupyter-widgets/base",
            "_model_module_version": "1.2.0",
            "_model_name": "LayoutModel",
            "_view_count": null,
            "_view_module": "@jupyter-widgets/base",
            "_view_module_version": "1.2.0",
            "_view_name": "LayoutView",
            "align_content": null,
            "align_items": null,
            "align_self": null,
            "border": null,
            "bottom": null,
            "display": null,
            "flex": null,
            "flex_flow": null,
            "grid_area": null,
            "grid_auto_columns": null,
            "grid_auto_flow": null,
            "grid_auto_rows": null,
            "grid_column": null,
            "grid_gap": null,
            "grid_row": null,
            "grid_template_areas": null,
            "grid_template_columns": null,
            "grid_template_rows": null,
            "height": null,
            "justify_content": null,
            "justify_items": null,
            "left": null,
            "margin": null,
            "max_height": null,
            "max_width": null,
            "min_height": null,
            "min_width": null,
            "object_fit": null,
            "object_position": null,
            "order": null,
            "overflow": null,
            "overflow_x": null,
            "overflow_y": null,
            "padding": null,
            "right": null,
            "top": null,
            "visibility": null,
            "width": null
          }
        },
        "677ec8d77d1448b5b347a37301a954e0": {
          "model_module": "@jupyter-widgets/controls",
          "model_name": "DescriptionStyleModel",
          "model_module_version": "1.5.0",
          "state": {
            "_model_module": "@jupyter-widgets/controls",
            "_model_module_version": "1.5.0",
            "_model_name": "DescriptionStyleModel",
            "_view_count": null,
            "_view_module": "@jupyter-widgets/base",
            "_view_module_version": "1.2.0",
            "_view_name": "StyleView",
            "description_width": ""
          }
        },
        "8b4a230ff1444de687521d16b21c054b": {
          "model_module": "@jupyter-widgets/base",
          "model_name": "LayoutModel",
          "model_module_version": "1.2.0",
          "state": {
            "_model_module": "@jupyter-widgets/base",
            "_model_module_version": "1.2.0",
            "_model_name": "LayoutModel",
            "_view_count": null,
            "_view_module": "@jupyter-widgets/base",
            "_view_module_version": "1.2.0",
            "_view_name": "LayoutView",
            "align_content": null,
            "align_items": null,
            "align_self": null,
            "border": null,
            "bottom": null,
            "display": null,
            "flex": null,
            "flex_flow": null,
            "grid_area": null,
            "grid_auto_columns": null,
            "grid_auto_flow": null,
            "grid_auto_rows": null,
            "grid_column": null,
            "grid_gap": null,
            "grid_row": null,
            "grid_template_areas": null,
            "grid_template_columns": null,
            "grid_template_rows": null,
            "height": null,
            "justify_content": null,
            "justify_items": null,
            "left": null,
            "margin": null,
            "max_height": null,
            "max_width": null,
            "min_height": null,
            "min_width": null,
            "object_fit": null,
            "object_position": null,
            "order": null,
            "overflow": null,
            "overflow_x": null,
            "overflow_y": null,
            "padding": null,
            "right": null,
            "top": null,
            "visibility": null,
            "width": null
          }
        },
        "5d47187da29a4aa5a2bdfc5ad426b9e7": {
          "model_module": "@jupyter-widgets/controls",
          "model_name": "ProgressStyleModel",
          "model_module_version": "1.5.0",
          "state": {
            "_model_module": "@jupyter-widgets/controls",
            "_model_module_version": "1.5.0",
            "_model_name": "ProgressStyleModel",
            "_view_count": null,
            "_view_module": "@jupyter-widgets/base",
            "_view_module_version": "1.2.0",
            "_view_name": "StyleView",
            "bar_color": null,
            "description_width": ""
          }
        },
        "2086a42a71b84551a003e2207288ef43": {
          "model_module": "@jupyter-widgets/base",
          "model_name": "LayoutModel",
          "model_module_version": "1.2.0",
          "state": {
            "_model_module": "@jupyter-widgets/base",
            "_model_module_version": "1.2.0",
            "_model_name": "LayoutModel",
            "_view_count": null,
            "_view_module": "@jupyter-widgets/base",
            "_view_module_version": "1.2.0",
            "_view_name": "LayoutView",
            "align_content": null,
            "align_items": null,
            "align_self": null,
            "border": null,
            "bottom": null,
            "display": null,
            "flex": null,
            "flex_flow": null,
            "grid_area": null,
            "grid_auto_columns": null,
            "grid_auto_flow": null,
            "grid_auto_rows": null,
            "grid_column": null,
            "grid_gap": null,
            "grid_row": null,
            "grid_template_areas": null,
            "grid_template_columns": null,
            "grid_template_rows": null,
            "height": null,
            "justify_content": null,
            "justify_items": null,
            "left": null,
            "margin": null,
            "max_height": null,
            "max_width": null,
            "min_height": null,
            "min_width": null,
            "object_fit": null,
            "object_position": null,
            "order": null,
            "overflow": null,
            "overflow_x": null,
            "overflow_y": null,
            "padding": null,
            "right": null,
            "top": null,
            "visibility": null,
            "width": null
          }
        },
        "72e169c5cc7c4f52918597b42d7a90d0": {
          "model_module": "@jupyter-widgets/controls",
          "model_name": "DescriptionStyleModel",
          "model_module_version": "1.5.0",
          "state": {
            "_model_module": "@jupyter-widgets/controls",
            "_model_module_version": "1.5.0",
            "_model_name": "DescriptionStyleModel",
            "_view_count": null,
            "_view_module": "@jupyter-widgets/base",
            "_view_module_version": "1.2.0",
            "_view_name": "StyleView",
            "description_width": ""
          }
        },
        "162877c1b3ed44cfac433050b0126a8c": {
          "model_module": "@jupyter-widgets/controls",
          "model_name": "HBoxModel",
          "model_module_version": "1.5.0",
          "state": {
            "_dom_classes": [],
            "_model_module": "@jupyter-widgets/controls",
            "_model_module_version": "1.5.0",
            "_model_name": "HBoxModel",
            "_view_count": null,
            "_view_module": "@jupyter-widgets/controls",
            "_view_module_version": "1.5.0",
            "_view_name": "HBoxView",
            "box_style": "",
            "children": [
              "IPY_MODEL_72c57af4b74e42ed97154bcc496ddf71",
              "IPY_MODEL_26346f5105214f1e889e87dd4a7fd4da",
              "IPY_MODEL_4e18d63694364a7b91c1f0aaa4920275"
            ],
            "layout": "IPY_MODEL_24f840bbe1724a17b48f33bdc4768bce"
          }
        },
        "72c57af4b74e42ed97154bcc496ddf71": {
          "model_module": "@jupyter-widgets/controls",
          "model_name": "HTMLModel",
          "model_module_version": "1.5.0",
          "state": {
            "_dom_classes": [],
            "_model_module": "@jupyter-widgets/controls",
            "_model_module_version": "1.5.0",
            "_model_name": "HTMLModel",
            "_view_count": null,
            "_view_module": "@jupyter-widgets/controls",
            "_view_module_version": "1.5.0",
            "_view_name": "HTMLView",
            "description": "",
            "description_tooltip": null,
            "layout": "IPY_MODEL_d5484ef6166944d5979e57cb6440369f",
            "placeholder": "​",
            "style": "IPY_MODEL_bae50e9f971d48b4801850aa85553008",
            "value": "Downloading (…)olve/main/vocab.json: 100%"
          }
        },
        "26346f5105214f1e889e87dd4a7fd4da": {
          "model_module": "@jupyter-widgets/controls",
          "model_name": "FloatProgressModel",
          "model_module_version": "1.5.0",
          "state": {
            "_dom_classes": [],
            "_model_module": "@jupyter-widgets/controls",
            "_model_module_version": "1.5.0",
            "_model_name": "FloatProgressModel",
            "_view_count": null,
            "_view_module": "@jupyter-widgets/controls",
            "_view_module_version": "1.5.0",
            "_view_name": "ProgressView",
            "bar_style": "success",
            "description": "",
            "description_tooltip": null,
            "layout": "IPY_MODEL_e59be2dad20e43fa8963360145dbc09e",
            "max": 898822,
            "min": 0,
            "orientation": "horizontal",
            "style": "IPY_MODEL_ed1540c87dcb40e6bdae8311635cd432",
            "value": 898822
          }
        },
        "4e18d63694364a7b91c1f0aaa4920275": {
          "model_module": "@jupyter-widgets/controls",
          "model_name": "HTMLModel",
          "model_module_version": "1.5.0",
          "state": {
            "_dom_classes": [],
            "_model_module": "@jupyter-widgets/controls",
            "_model_module_version": "1.5.0",
            "_model_name": "HTMLModel",
            "_view_count": null,
            "_view_module": "@jupyter-widgets/controls",
            "_view_module_version": "1.5.0",
            "_view_name": "HTMLView",
            "description": "",
            "description_tooltip": null,
            "layout": "IPY_MODEL_a701ec9eb5f2493e9883483d08599bfd",
            "placeholder": "​",
            "style": "IPY_MODEL_0df47e26994b4660a51f6b1c7c8a3914",
            "value": " 899k/899k [00:00&lt;00:00, 3.62MB/s]"
          }
        },
        "24f840bbe1724a17b48f33bdc4768bce": {
          "model_module": "@jupyter-widgets/base",
          "model_name": "LayoutModel",
          "model_module_version": "1.2.0",
          "state": {
            "_model_module": "@jupyter-widgets/base",
            "_model_module_version": "1.2.0",
            "_model_name": "LayoutModel",
            "_view_count": null,
            "_view_module": "@jupyter-widgets/base",
            "_view_module_version": "1.2.0",
            "_view_name": "LayoutView",
            "align_content": null,
            "align_items": null,
            "align_self": null,
            "border": null,
            "bottom": null,
            "display": null,
            "flex": null,
            "flex_flow": null,
            "grid_area": null,
            "grid_auto_columns": null,
            "grid_auto_flow": null,
            "grid_auto_rows": null,
            "grid_column": null,
            "grid_gap": null,
            "grid_row": null,
            "grid_template_areas": null,
            "grid_template_columns": null,
            "grid_template_rows": null,
            "height": null,
            "justify_content": null,
            "justify_items": null,
            "left": null,
            "margin": null,
            "max_height": null,
            "max_width": null,
            "min_height": null,
            "min_width": null,
            "object_fit": null,
            "object_position": null,
            "order": null,
            "overflow": null,
            "overflow_x": null,
            "overflow_y": null,
            "padding": null,
            "right": null,
            "top": null,
            "visibility": null,
            "width": null
          }
        },
        "d5484ef6166944d5979e57cb6440369f": {
          "model_module": "@jupyter-widgets/base",
          "model_name": "LayoutModel",
          "model_module_version": "1.2.0",
          "state": {
            "_model_module": "@jupyter-widgets/base",
            "_model_module_version": "1.2.0",
            "_model_name": "LayoutModel",
            "_view_count": null,
            "_view_module": "@jupyter-widgets/base",
            "_view_module_version": "1.2.0",
            "_view_name": "LayoutView",
            "align_content": null,
            "align_items": null,
            "align_self": null,
            "border": null,
            "bottom": null,
            "display": null,
            "flex": null,
            "flex_flow": null,
            "grid_area": null,
            "grid_auto_columns": null,
            "grid_auto_flow": null,
            "grid_auto_rows": null,
            "grid_column": null,
            "grid_gap": null,
            "grid_row": null,
            "grid_template_areas": null,
            "grid_template_columns": null,
            "grid_template_rows": null,
            "height": null,
            "justify_content": null,
            "justify_items": null,
            "left": null,
            "margin": null,
            "max_height": null,
            "max_width": null,
            "min_height": null,
            "min_width": null,
            "object_fit": null,
            "object_position": null,
            "order": null,
            "overflow": null,
            "overflow_x": null,
            "overflow_y": null,
            "padding": null,
            "right": null,
            "top": null,
            "visibility": null,
            "width": null
          }
        },
        "bae50e9f971d48b4801850aa85553008": {
          "model_module": "@jupyter-widgets/controls",
          "model_name": "DescriptionStyleModel",
          "model_module_version": "1.5.0",
          "state": {
            "_model_module": "@jupyter-widgets/controls",
            "_model_module_version": "1.5.0",
            "_model_name": "DescriptionStyleModel",
            "_view_count": null,
            "_view_module": "@jupyter-widgets/base",
            "_view_module_version": "1.2.0",
            "_view_name": "StyleView",
            "description_width": ""
          }
        },
        "e59be2dad20e43fa8963360145dbc09e": {
          "model_module": "@jupyter-widgets/base",
          "model_name": "LayoutModel",
          "model_module_version": "1.2.0",
          "state": {
            "_model_module": "@jupyter-widgets/base",
            "_model_module_version": "1.2.0",
            "_model_name": "LayoutModel",
            "_view_count": null,
            "_view_module": "@jupyter-widgets/base",
            "_view_module_version": "1.2.0",
            "_view_name": "LayoutView",
            "align_content": null,
            "align_items": null,
            "align_self": null,
            "border": null,
            "bottom": null,
            "display": null,
            "flex": null,
            "flex_flow": null,
            "grid_area": null,
            "grid_auto_columns": null,
            "grid_auto_flow": null,
            "grid_auto_rows": null,
            "grid_column": null,
            "grid_gap": null,
            "grid_row": null,
            "grid_template_areas": null,
            "grid_template_columns": null,
            "grid_template_rows": null,
            "height": null,
            "justify_content": null,
            "justify_items": null,
            "left": null,
            "margin": null,
            "max_height": null,
            "max_width": null,
            "min_height": null,
            "min_width": null,
            "object_fit": null,
            "object_position": null,
            "order": null,
            "overflow": null,
            "overflow_x": null,
            "overflow_y": null,
            "padding": null,
            "right": null,
            "top": null,
            "visibility": null,
            "width": null
          }
        },
        "ed1540c87dcb40e6bdae8311635cd432": {
          "model_module": "@jupyter-widgets/controls",
          "model_name": "ProgressStyleModel",
          "model_module_version": "1.5.0",
          "state": {
            "_model_module": "@jupyter-widgets/controls",
            "_model_module_version": "1.5.0",
            "_model_name": "ProgressStyleModel",
            "_view_count": null,
            "_view_module": "@jupyter-widgets/base",
            "_view_module_version": "1.2.0",
            "_view_name": "StyleView",
            "bar_color": null,
            "description_width": ""
          }
        },
        "a701ec9eb5f2493e9883483d08599bfd": {
          "model_module": "@jupyter-widgets/base",
          "model_name": "LayoutModel",
          "model_module_version": "1.2.0",
          "state": {
            "_model_module": "@jupyter-widgets/base",
            "_model_module_version": "1.2.0",
            "_model_name": "LayoutModel",
            "_view_count": null,
            "_view_module": "@jupyter-widgets/base",
            "_view_module_version": "1.2.0",
            "_view_name": "LayoutView",
            "align_content": null,
            "align_items": null,
            "align_self": null,
            "border": null,
            "bottom": null,
            "display": null,
            "flex": null,
            "flex_flow": null,
            "grid_area": null,
            "grid_auto_columns": null,
            "grid_auto_flow": null,
            "grid_auto_rows": null,
            "grid_column": null,
            "grid_gap": null,
            "grid_row": null,
            "grid_template_areas": null,
            "grid_template_columns": null,
            "grid_template_rows": null,
            "height": null,
            "justify_content": null,
            "justify_items": null,
            "left": null,
            "margin": null,
            "max_height": null,
            "max_width": null,
            "min_height": null,
            "min_width": null,
            "object_fit": null,
            "object_position": null,
            "order": null,
            "overflow": null,
            "overflow_x": null,
            "overflow_y": null,
            "padding": null,
            "right": null,
            "top": null,
            "visibility": null,
            "width": null
          }
        },
        "0df47e26994b4660a51f6b1c7c8a3914": {
          "model_module": "@jupyter-widgets/controls",
          "model_name": "DescriptionStyleModel",
          "model_module_version": "1.5.0",
          "state": {
            "_model_module": "@jupyter-widgets/controls",
            "_model_module_version": "1.5.0",
            "_model_name": "DescriptionStyleModel",
            "_view_count": null,
            "_view_module": "@jupyter-widgets/base",
            "_view_module_version": "1.2.0",
            "_view_name": "StyleView",
            "description_width": ""
          }
        },
        "120ef9bf003a43ca96cc9c9af4d42ac4": {
          "model_module": "@jupyter-widgets/controls",
          "model_name": "HBoxModel",
          "model_module_version": "1.5.0",
          "state": {
            "_dom_classes": [],
            "_model_module": "@jupyter-widgets/controls",
            "_model_module_version": "1.5.0",
            "_model_name": "HBoxModel",
            "_view_count": null,
            "_view_module": "@jupyter-widgets/controls",
            "_view_module_version": "1.5.0",
            "_view_name": "HBoxView",
            "box_style": "",
            "children": [
              "IPY_MODEL_473c7751de604a8b9abab3de34707a44",
              "IPY_MODEL_b000d908186b4603b561bbb351cf7477",
              "IPY_MODEL_e719ddc5335b4f08b4b2d7a727603209"
            ],
            "layout": "IPY_MODEL_a08915d0522346f68440d3630057ab0c"
          }
        },
        "473c7751de604a8b9abab3de34707a44": {
          "model_module": "@jupyter-widgets/controls",
          "model_name": "HTMLModel",
          "model_module_version": "1.5.0",
          "state": {
            "_dom_classes": [],
            "_model_module": "@jupyter-widgets/controls",
            "_model_module_version": "1.5.0",
            "_model_name": "HTMLModel",
            "_view_count": null,
            "_view_module": "@jupyter-widgets/controls",
            "_view_module_version": "1.5.0",
            "_view_name": "HTMLView",
            "description": "",
            "description_tooltip": null,
            "layout": "IPY_MODEL_9a5bfc4d21144544b44e0822f05e9fb1",
            "placeholder": "​",
            "style": "IPY_MODEL_0a106c8537ac49cfaf676b08dd79aa8e",
            "value": "Downloading (…)olve/main/merges.txt: 100%"
          }
        },
        "b000d908186b4603b561bbb351cf7477": {
          "model_module": "@jupyter-widgets/controls",
          "model_name": "FloatProgressModel",
          "model_module_version": "1.5.0",
          "state": {
            "_dom_classes": [],
            "_model_module": "@jupyter-widgets/controls",
            "_model_module_version": "1.5.0",
            "_model_name": "FloatProgressModel",
            "_view_count": null,
            "_view_module": "@jupyter-widgets/controls",
            "_view_module_version": "1.5.0",
            "_view_name": "ProgressView",
            "bar_style": "success",
            "description": "",
            "description_tooltip": null,
            "layout": "IPY_MODEL_0e0008b71649454498956f3df048f24c",
            "max": 456318,
            "min": 0,
            "orientation": "horizontal",
            "style": "IPY_MODEL_8e55cd5a46c84424b25056ff20384ace",
            "value": 456318
          }
        },
        "e719ddc5335b4f08b4b2d7a727603209": {
          "model_module": "@jupyter-widgets/controls",
          "model_name": "HTMLModel",
          "model_module_version": "1.5.0",
          "state": {
            "_dom_classes": [],
            "_model_module": "@jupyter-widgets/controls",
            "_model_module_version": "1.5.0",
            "_model_name": "HTMLModel",
            "_view_count": null,
            "_view_module": "@jupyter-widgets/controls",
            "_view_module_version": "1.5.0",
            "_view_name": "HTMLView",
            "description": "",
            "description_tooltip": null,
            "layout": "IPY_MODEL_2baa357b20a4472ab53a59cafb96d49c",
            "placeholder": "​",
            "style": "IPY_MODEL_2c838092f6b849738ab6b9ca0bfdc7b2",
            "value": " 456k/456k [00:00&lt;00:00, 33.6MB/s]"
          }
        },
        "a08915d0522346f68440d3630057ab0c": {
          "model_module": "@jupyter-widgets/base",
          "model_name": "LayoutModel",
          "model_module_version": "1.2.0",
          "state": {
            "_model_module": "@jupyter-widgets/base",
            "_model_module_version": "1.2.0",
            "_model_name": "LayoutModel",
            "_view_count": null,
            "_view_module": "@jupyter-widgets/base",
            "_view_module_version": "1.2.0",
            "_view_name": "LayoutView",
            "align_content": null,
            "align_items": null,
            "align_self": null,
            "border": null,
            "bottom": null,
            "display": null,
            "flex": null,
            "flex_flow": null,
            "grid_area": null,
            "grid_auto_columns": null,
            "grid_auto_flow": null,
            "grid_auto_rows": null,
            "grid_column": null,
            "grid_gap": null,
            "grid_row": null,
            "grid_template_areas": null,
            "grid_template_columns": null,
            "grid_template_rows": null,
            "height": null,
            "justify_content": null,
            "justify_items": null,
            "left": null,
            "margin": null,
            "max_height": null,
            "max_width": null,
            "min_height": null,
            "min_width": null,
            "object_fit": null,
            "object_position": null,
            "order": null,
            "overflow": null,
            "overflow_x": null,
            "overflow_y": null,
            "padding": null,
            "right": null,
            "top": null,
            "visibility": null,
            "width": null
          }
        },
        "9a5bfc4d21144544b44e0822f05e9fb1": {
          "model_module": "@jupyter-widgets/base",
          "model_name": "LayoutModel",
          "model_module_version": "1.2.0",
          "state": {
            "_model_module": "@jupyter-widgets/base",
            "_model_module_version": "1.2.0",
            "_model_name": "LayoutModel",
            "_view_count": null,
            "_view_module": "@jupyter-widgets/base",
            "_view_module_version": "1.2.0",
            "_view_name": "LayoutView",
            "align_content": null,
            "align_items": null,
            "align_self": null,
            "border": null,
            "bottom": null,
            "display": null,
            "flex": null,
            "flex_flow": null,
            "grid_area": null,
            "grid_auto_columns": null,
            "grid_auto_flow": null,
            "grid_auto_rows": null,
            "grid_column": null,
            "grid_gap": null,
            "grid_row": null,
            "grid_template_areas": null,
            "grid_template_columns": null,
            "grid_template_rows": null,
            "height": null,
            "justify_content": null,
            "justify_items": null,
            "left": null,
            "margin": null,
            "max_height": null,
            "max_width": null,
            "min_height": null,
            "min_width": null,
            "object_fit": null,
            "object_position": null,
            "order": null,
            "overflow": null,
            "overflow_x": null,
            "overflow_y": null,
            "padding": null,
            "right": null,
            "top": null,
            "visibility": null,
            "width": null
          }
        },
        "0a106c8537ac49cfaf676b08dd79aa8e": {
          "model_module": "@jupyter-widgets/controls",
          "model_name": "DescriptionStyleModel",
          "model_module_version": "1.5.0",
          "state": {
            "_model_module": "@jupyter-widgets/controls",
            "_model_module_version": "1.5.0",
            "_model_name": "DescriptionStyleModel",
            "_view_count": null,
            "_view_module": "@jupyter-widgets/base",
            "_view_module_version": "1.2.0",
            "_view_name": "StyleView",
            "description_width": ""
          }
        },
        "0e0008b71649454498956f3df048f24c": {
          "model_module": "@jupyter-widgets/base",
          "model_name": "LayoutModel",
          "model_module_version": "1.2.0",
          "state": {
            "_model_module": "@jupyter-widgets/base",
            "_model_module_version": "1.2.0",
            "_model_name": "LayoutModel",
            "_view_count": null,
            "_view_module": "@jupyter-widgets/base",
            "_view_module_version": "1.2.0",
            "_view_name": "LayoutView",
            "align_content": null,
            "align_items": null,
            "align_self": null,
            "border": null,
            "bottom": null,
            "display": null,
            "flex": null,
            "flex_flow": null,
            "grid_area": null,
            "grid_auto_columns": null,
            "grid_auto_flow": null,
            "grid_auto_rows": null,
            "grid_column": null,
            "grid_gap": null,
            "grid_row": null,
            "grid_template_areas": null,
            "grid_template_columns": null,
            "grid_template_rows": null,
            "height": null,
            "justify_content": null,
            "justify_items": null,
            "left": null,
            "margin": null,
            "max_height": null,
            "max_width": null,
            "min_height": null,
            "min_width": null,
            "object_fit": null,
            "object_position": null,
            "order": null,
            "overflow": null,
            "overflow_x": null,
            "overflow_y": null,
            "padding": null,
            "right": null,
            "top": null,
            "visibility": null,
            "width": null
          }
        },
        "8e55cd5a46c84424b25056ff20384ace": {
          "model_module": "@jupyter-widgets/controls",
          "model_name": "ProgressStyleModel",
          "model_module_version": "1.5.0",
          "state": {
            "_model_module": "@jupyter-widgets/controls",
            "_model_module_version": "1.5.0",
            "_model_name": "ProgressStyleModel",
            "_view_count": null,
            "_view_module": "@jupyter-widgets/base",
            "_view_module_version": "1.2.0",
            "_view_name": "StyleView",
            "bar_color": null,
            "description_width": ""
          }
        },
        "2baa357b20a4472ab53a59cafb96d49c": {
          "model_module": "@jupyter-widgets/base",
          "model_name": "LayoutModel",
          "model_module_version": "1.2.0",
          "state": {
            "_model_module": "@jupyter-widgets/base",
            "_model_module_version": "1.2.0",
            "_model_name": "LayoutModel",
            "_view_count": null,
            "_view_module": "@jupyter-widgets/base",
            "_view_module_version": "1.2.0",
            "_view_name": "LayoutView",
            "align_content": null,
            "align_items": null,
            "align_self": null,
            "border": null,
            "bottom": null,
            "display": null,
            "flex": null,
            "flex_flow": null,
            "grid_area": null,
            "grid_auto_columns": null,
            "grid_auto_flow": null,
            "grid_auto_rows": null,
            "grid_column": null,
            "grid_gap": null,
            "grid_row": null,
            "grid_template_areas": null,
            "grid_template_columns": null,
            "grid_template_rows": null,
            "height": null,
            "justify_content": null,
            "justify_items": null,
            "left": null,
            "margin": null,
            "max_height": null,
            "max_width": null,
            "min_height": null,
            "min_width": null,
            "object_fit": null,
            "object_position": null,
            "order": null,
            "overflow": null,
            "overflow_x": null,
            "overflow_y": null,
            "padding": null,
            "right": null,
            "top": null,
            "visibility": null,
            "width": null
          }
        },
        "2c838092f6b849738ab6b9ca0bfdc7b2": {
          "model_module": "@jupyter-widgets/controls",
          "model_name": "DescriptionStyleModel",
          "model_module_version": "1.5.0",
          "state": {
            "_model_module": "@jupyter-widgets/controls",
            "_model_module_version": "1.5.0",
            "_model_name": "DescriptionStyleModel",
            "_view_count": null,
            "_view_module": "@jupyter-widgets/base",
            "_view_module_version": "1.2.0",
            "_view_name": "StyleView",
            "description_width": ""
          }
        },
        "8b042207714f4bbf889a36f76f0d5a48": {
          "model_module": "@jupyter-widgets/controls",
          "model_name": "HBoxModel",
          "model_module_version": "1.5.0",
          "state": {
            "_dom_classes": [],
            "_model_module": "@jupyter-widgets/controls",
            "_model_module_version": "1.5.0",
            "_model_name": "HBoxModel",
            "_view_count": null,
            "_view_module": "@jupyter-widgets/controls",
            "_view_module_version": "1.5.0",
            "_view_name": "HBoxView",
            "box_style": "",
            "children": [
              "IPY_MODEL_8857b9c22fe7413db290ff8282ed3de3",
              "IPY_MODEL_3a64d11a24d54e38b3a3a2995784e582",
              "IPY_MODEL_d26ea85a489e447fbbbd74ff24fa7e22"
            ],
            "layout": "IPY_MODEL_8f02c96909b741bf9d762fa181a55dcd"
          }
        },
        "8857b9c22fe7413db290ff8282ed3de3": {
          "model_module": "@jupyter-widgets/controls",
          "model_name": "HTMLModel",
          "model_module_version": "1.5.0",
          "state": {
            "_dom_classes": [],
            "_model_module": "@jupyter-widgets/controls",
            "_model_module_version": "1.5.0",
            "_model_name": "HTMLModel",
            "_view_count": null,
            "_view_module": "@jupyter-widgets/controls",
            "_view_module_version": "1.5.0",
            "_view_name": "HTMLView",
            "description": "",
            "description_tooltip": null,
            "layout": "IPY_MODEL_01f4794afd00498cbc6da306a6b99f55",
            "placeholder": "​",
            "style": "IPY_MODEL_05cee5e130624e6cb546284ed0994297",
            "value": "Downloading (…)cial_tokens_map.json: 100%"
          }
        },
        "3a64d11a24d54e38b3a3a2995784e582": {
          "model_module": "@jupyter-widgets/controls",
          "model_name": "FloatProgressModel",
          "model_module_version": "1.5.0",
          "state": {
            "_dom_classes": [],
            "_model_module": "@jupyter-widgets/controls",
            "_model_module_version": "1.5.0",
            "_model_name": "FloatProgressModel",
            "_view_count": null,
            "_view_module": "@jupyter-widgets/controls",
            "_view_module_version": "1.5.0",
            "_view_name": "ProgressView",
            "bar_style": "success",
            "description": "",
            "description_tooltip": null,
            "layout": "IPY_MODEL_eb12c5337b2847c59672c71468dd12c4",
            "max": 772,
            "min": 0,
            "orientation": "horizontal",
            "style": "IPY_MODEL_d91d2acf79d148e6a827b34a93f32edb",
            "value": 772
          }
        },
        "d26ea85a489e447fbbbd74ff24fa7e22": {
          "model_module": "@jupyter-widgets/controls",
          "model_name": "HTMLModel",
          "model_module_version": "1.5.0",
          "state": {
            "_dom_classes": [],
            "_model_module": "@jupyter-widgets/controls",
            "_model_module_version": "1.5.0",
            "_model_name": "HTMLModel",
            "_view_count": null,
            "_view_module": "@jupyter-widgets/controls",
            "_view_module_version": "1.5.0",
            "_view_name": "HTMLView",
            "description": "",
            "description_tooltip": null,
            "layout": "IPY_MODEL_4414dd4b49694dd4b5a56b5193968a45",
            "placeholder": "​",
            "style": "IPY_MODEL_bdd491f4488a43fbbc4ad602c21816f1",
            "value": " 772/772 [00:00&lt;00:00, 64.1kB/s]"
          }
        },
        "8f02c96909b741bf9d762fa181a55dcd": {
          "model_module": "@jupyter-widgets/base",
          "model_name": "LayoutModel",
          "model_module_version": "1.2.0",
          "state": {
            "_model_module": "@jupyter-widgets/base",
            "_model_module_version": "1.2.0",
            "_model_name": "LayoutModel",
            "_view_count": null,
            "_view_module": "@jupyter-widgets/base",
            "_view_module_version": "1.2.0",
            "_view_name": "LayoutView",
            "align_content": null,
            "align_items": null,
            "align_self": null,
            "border": null,
            "bottom": null,
            "display": null,
            "flex": null,
            "flex_flow": null,
            "grid_area": null,
            "grid_auto_columns": null,
            "grid_auto_flow": null,
            "grid_auto_rows": null,
            "grid_column": null,
            "grid_gap": null,
            "grid_row": null,
            "grid_template_areas": null,
            "grid_template_columns": null,
            "grid_template_rows": null,
            "height": null,
            "justify_content": null,
            "justify_items": null,
            "left": null,
            "margin": null,
            "max_height": null,
            "max_width": null,
            "min_height": null,
            "min_width": null,
            "object_fit": null,
            "object_position": null,
            "order": null,
            "overflow": null,
            "overflow_x": null,
            "overflow_y": null,
            "padding": null,
            "right": null,
            "top": null,
            "visibility": null,
            "width": null
          }
        },
        "01f4794afd00498cbc6da306a6b99f55": {
          "model_module": "@jupyter-widgets/base",
          "model_name": "LayoutModel",
          "model_module_version": "1.2.0",
          "state": {
            "_model_module": "@jupyter-widgets/base",
            "_model_module_version": "1.2.0",
            "_model_name": "LayoutModel",
            "_view_count": null,
            "_view_module": "@jupyter-widgets/base",
            "_view_module_version": "1.2.0",
            "_view_name": "LayoutView",
            "align_content": null,
            "align_items": null,
            "align_self": null,
            "border": null,
            "bottom": null,
            "display": null,
            "flex": null,
            "flex_flow": null,
            "grid_area": null,
            "grid_auto_columns": null,
            "grid_auto_flow": null,
            "grid_auto_rows": null,
            "grid_column": null,
            "grid_gap": null,
            "grid_row": null,
            "grid_template_areas": null,
            "grid_template_columns": null,
            "grid_template_rows": null,
            "height": null,
            "justify_content": null,
            "justify_items": null,
            "left": null,
            "margin": null,
            "max_height": null,
            "max_width": null,
            "min_height": null,
            "min_width": null,
            "object_fit": null,
            "object_position": null,
            "order": null,
            "overflow": null,
            "overflow_x": null,
            "overflow_y": null,
            "padding": null,
            "right": null,
            "top": null,
            "visibility": null,
            "width": null
          }
        },
        "05cee5e130624e6cb546284ed0994297": {
          "model_module": "@jupyter-widgets/controls",
          "model_name": "DescriptionStyleModel",
          "model_module_version": "1.5.0",
          "state": {
            "_model_module": "@jupyter-widgets/controls",
            "_model_module_version": "1.5.0",
            "_model_name": "DescriptionStyleModel",
            "_view_count": null,
            "_view_module": "@jupyter-widgets/base",
            "_view_module_version": "1.2.0",
            "_view_name": "StyleView",
            "description_width": ""
          }
        },
        "eb12c5337b2847c59672c71468dd12c4": {
          "model_module": "@jupyter-widgets/base",
          "model_name": "LayoutModel",
          "model_module_version": "1.2.0",
          "state": {
            "_model_module": "@jupyter-widgets/base",
            "_model_module_version": "1.2.0",
            "_model_name": "LayoutModel",
            "_view_count": null,
            "_view_module": "@jupyter-widgets/base",
            "_view_module_version": "1.2.0",
            "_view_name": "LayoutView",
            "align_content": null,
            "align_items": null,
            "align_self": null,
            "border": null,
            "bottom": null,
            "display": null,
            "flex": null,
            "flex_flow": null,
            "grid_area": null,
            "grid_auto_columns": null,
            "grid_auto_flow": null,
            "grid_auto_rows": null,
            "grid_column": null,
            "grid_gap": null,
            "grid_row": null,
            "grid_template_areas": null,
            "grid_template_columns": null,
            "grid_template_rows": null,
            "height": null,
            "justify_content": null,
            "justify_items": null,
            "left": null,
            "margin": null,
            "max_height": null,
            "max_width": null,
            "min_height": null,
            "min_width": null,
            "object_fit": null,
            "object_position": null,
            "order": null,
            "overflow": null,
            "overflow_x": null,
            "overflow_y": null,
            "padding": null,
            "right": null,
            "top": null,
            "visibility": null,
            "width": null
          }
        },
        "d91d2acf79d148e6a827b34a93f32edb": {
          "model_module": "@jupyter-widgets/controls",
          "model_name": "ProgressStyleModel",
          "model_module_version": "1.5.0",
          "state": {
            "_model_module": "@jupyter-widgets/controls",
            "_model_module_version": "1.5.0",
            "_model_name": "ProgressStyleModel",
            "_view_count": null,
            "_view_module": "@jupyter-widgets/base",
            "_view_module_version": "1.2.0",
            "_view_name": "StyleView",
            "bar_color": null,
            "description_width": ""
          }
        },
        "4414dd4b49694dd4b5a56b5193968a45": {
          "model_module": "@jupyter-widgets/base",
          "model_name": "LayoutModel",
          "model_module_version": "1.2.0",
          "state": {
            "_model_module": "@jupyter-widgets/base",
            "_model_module_version": "1.2.0",
            "_model_name": "LayoutModel",
            "_view_count": null,
            "_view_module": "@jupyter-widgets/base",
            "_view_module_version": "1.2.0",
            "_view_name": "LayoutView",
            "align_content": null,
            "align_items": null,
            "align_self": null,
            "border": null,
            "bottom": null,
            "display": null,
            "flex": null,
            "flex_flow": null,
            "grid_area": null,
            "grid_auto_columns": null,
            "grid_auto_flow": null,
            "grid_auto_rows": null,
            "grid_column": null,
            "grid_gap": null,
            "grid_row": null,
            "grid_template_areas": null,
            "grid_template_columns": null,
            "grid_template_rows": null,
            "height": null,
            "justify_content": null,
            "justify_items": null,
            "left": null,
            "margin": null,
            "max_height": null,
            "max_width": null,
            "min_height": null,
            "min_width": null,
            "object_fit": null,
            "object_position": null,
            "order": null,
            "overflow": null,
            "overflow_x": null,
            "overflow_y": null,
            "padding": null,
            "right": null,
            "top": null,
            "visibility": null,
            "width": null
          }
        },
        "bdd491f4488a43fbbc4ad602c21816f1": {
          "model_module": "@jupyter-widgets/controls",
          "model_name": "DescriptionStyleModel",
          "model_module_version": "1.5.0",
          "state": {
            "_model_module": "@jupyter-widgets/controls",
            "_model_module_version": "1.5.0",
            "_model_name": "DescriptionStyleModel",
            "_view_count": null,
            "_view_module": "@jupyter-widgets/base",
            "_view_module_version": "1.2.0",
            "_view_name": "StyleView",
            "description_width": ""
          }
        }
      }
    }
  },
  "cells": [
    {
      "cell_type": "markdown",
      "metadata": {
        "id": "view-in-github",
        "colab_type": "text"
      },
      "source": [
        "<a href=\"https://colab.research.google.com/github/xhiroga/til/blob/main/software-engineering/haystack/quickstart/haystack_03_scalable_qa_system.ipynb\" target=\"_parent\"><img src=\"https://colab.research.google.com/assets/colab-badge.svg\" alt=\"Open In Colab\"/></a>"
      ]
    },
    {
      "cell_type": "markdown",
      "source": [
        "# [Build a Scalable Question Answering System | Haystack](https://haystack.deepset.ai/tutorials/03_scalable_qa_system)"
      ],
      "metadata": {
        "id": "cXd0TbEdMrGM"
      }
    },
    {
      "cell_type": "code",
      "execution_count": 1,
      "metadata": {
        "colab": {
          "base_uri": "https://localhost:8080/"
        },
        "id": "eV0ipeZYMhvt",
        "outputId": "43369079-534c-48bc-b736-58b8d5878320"
      },
      "outputs": [
        {
          "output_type": "stream",
          "name": "stdout",
          "text": [
            "Sun Sep 24 03:19:05 2023       \n",
            "+-----------------------------------------------------------------------------+\n",
            "| NVIDIA-SMI 525.105.17   Driver Version: 525.105.17   CUDA Version: 12.0     |\n",
            "|-------------------------------+----------------------+----------------------+\n",
            "| GPU  Name        Persistence-M| Bus-Id        Disp.A | Volatile Uncorr. ECC |\n",
            "| Fan  Temp  Perf  Pwr:Usage/Cap|         Memory-Usage | GPU-Util  Compute M. |\n",
            "|                               |                      |               MIG M. |\n",
            "|===============================+======================+======================|\n",
            "|   0  NVIDIA A100-SXM...  Off  | 00000000:00:04.0 Off |                    0 |\n",
            "| N/A   35C    P0    44W / 400W |      0MiB / 40960MiB |      0%      Default |\n",
            "|                               |                      |             Disabled |\n",
            "+-------------------------------+----------------------+----------------------+\n",
            "                                                                               \n",
            "+-----------------------------------------------------------------------------+\n",
            "| Processes:                                                                  |\n",
            "|  GPU   GI   CI        PID   Type   Process name                  GPU Memory |\n",
            "|        ID   ID                                                   Usage      |\n",
            "|=============================================================================|\n",
            "|  No running processes found                                                 |\n",
            "+-----------------------------------------------------------------------------+\n"
          ]
        }
      ],
      "source": [
        "%%bash\n",
        "\n",
        "nvidia-smi"
      ]
    },
    {
      "cell_type": "code",
      "source": [
        "%%bash\n",
        "\n",
        "pip install --upgrade pip\n",
        "pip install farm-haystack[colab,preprocessing,elasticsearch,inference]\n"
      ],
      "metadata": {
        "colab": {
          "base_uri": "https://localhost:8080/"
        },
        "id": "C01UAvZXMocp",
        "outputId": "9263e4d2-53bd-4233-bab2-5140d8c4e21b"
      },
      "execution_count": 2,
      "outputs": [
        {
          "output_type": "stream",
          "name": "stdout",
          "text": [
            "Requirement already satisfied: pip in /usr/local/lib/python3.10/dist-packages (23.1.2)\n",
            "Collecting pip\n",
            "  Downloading pip-23.2.1-py3-none-any.whl (2.1 MB)\n",
            "     ━━━━━━━━━━━━━━━━━━━━━━━━━━━━━━━━━━━━━━━━ 2.1/2.1 MB 27.4 MB/s eta 0:00:00\n",
            "Installing collected packages: pip\n",
            "  Attempting uninstall: pip\n",
            "    Found existing installation: pip 23.1.2\n",
            "    Uninstalling pip-23.1.2:\n",
            "      Successfully uninstalled pip-23.1.2\n",
            "Successfully installed pip-23.2.1\n",
            "Collecting farm-haystack[colab,elasticsearch,inference,preprocessing]\n",
            "  Obtaining dependency information for farm-haystack[colab,elasticsearch,inference,preprocessing] from https://files.pythonhosted.org/packages/31/db/e81141e15cecf1abc1238d9aee55f66310274878a034dd96603703620e9c/farm_haystack-1.20.1-py3-none-any.whl.metadata\n",
            "  Downloading farm_haystack-1.20.1-py3-none-any.whl.metadata (25 kB)\n",
            "Collecting boilerpy3 (from farm-haystack[colab,elasticsearch,inference,preprocessing])\n",
            "  Downloading boilerpy3-1.0.6-py3-none-any.whl (22 kB)\n",
            "Collecting canals==0.7.0 (from farm-haystack[colab,elasticsearch,inference,preprocessing])\n",
            "  Obtaining dependency information for canals==0.7.0 from https://files.pythonhosted.org/packages/08/2f/62e9e455c4cf183ebf6672c47befabb6a36a37a8cdc86256a5632d6ace10/canals-0.7.0-py3-none-any.whl.metadata\n",
            "  Downloading canals-0.7.0-py3-none-any.whl.metadata (4.4 kB)\n",
            "Collecting events (from farm-haystack[colab,elasticsearch,inference,preprocessing])\n",
            "  Obtaining dependency information for events from https://files.pythonhosted.org/packages/25/ed/e47dec0626edd468c84c04d97769e7ab4ea6457b7f54dcb3f72b17fcd876/Events-0.5-py3-none-any.whl.metadata\n",
            "  Downloading Events-0.5-py3-none-any.whl.metadata (3.9 kB)\n",
            "Requirement already satisfied: jsonschema in /usr/local/lib/python3.10/dist-packages (from farm-haystack[colab,elasticsearch,inference,preprocessing]) (4.19.0)\n",
            "Collecting lazy-imports==0.3.1 (from farm-haystack[colab,elasticsearch,inference,preprocessing])\n",
            "  Downloading lazy_imports-0.3.1-py3-none-any.whl (12 kB)\n",
            "Requirement already satisfied: more-itertools in /usr/local/lib/python3.10/dist-packages (from farm-haystack[colab,elasticsearch,inference,preprocessing]) (10.1.0)\n",
            "Requirement already satisfied: networkx in /usr/local/lib/python3.10/dist-packages (from farm-haystack[colab,elasticsearch,inference,preprocessing]) (3.1)\n",
            "Requirement already satisfied: pandas in /usr/local/lib/python3.10/dist-packages (from farm-haystack[colab,elasticsearch,inference,preprocessing]) (1.5.3)\n",
            "Requirement already satisfied: pillow in /usr/local/lib/python3.10/dist-packages (from farm-haystack[colab,elasticsearch,inference,preprocessing]) (9.4.0)\n",
            "Requirement already satisfied: platformdirs in /usr/local/lib/python3.10/dist-packages (from farm-haystack[colab,elasticsearch,inference,preprocessing]) (3.10.0)\n",
            "Collecting posthog (from farm-haystack[colab,elasticsearch,inference,preprocessing])\n",
            "  Obtaining dependency information for posthog from https://files.pythonhosted.org/packages/a7/73/35758818228c70348be4c3c66a76653c62e894e0e3c3461453c5341ca926/posthog-3.0.2-py2.py3-none-any.whl.metadata\n",
            "  Downloading posthog-3.0.2-py2.py3-none-any.whl.metadata (2.0 kB)\n",
            "Collecting prompthub-py==4.0.0 (from farm-haystack[colab,elasticsearch,inference,preprocessing])\n",
            "  Obtaining dependency information for prompthub-py==4.0.0 from https://files.pythonhosted.org/packages/27/5f/8c4939e290ff93af79364b88ffe3902d29c234f94e8227cf0b7fce3c887f/prompthub_py-4.0.0-py3-none-any.whl.metadata\n",
            "  Downloading prompthub_py-4.0.0-py3-none-any.whl.metadata (2.2 kB)\n",
            "Requirement already satisfied: pydantic<2 in /usr/local/lib/python3.10/dist-packages (from farm-haystack[colab,elasticsearch,inference,preprocessing]) (1.10.12)\n",
            "Collecting quantulum3 (from farm-haystack[colab,elasticsearch,inference,preprocessing])\n",
            "  Downloading quantulum3-0.9.0-py3-none-any.whl (10.7 MB)\n",
            "     ━━━━━━━━━━━━━━━━━━━━━━━━━━━━━━━━━━━━━━━━ 10.7/10.7 MB 98.1 MB/s eta 0:00:00\n",
            "Collecting rank-bm25 (from farm-haystack[colab,elasticsearch,inference,preprocessing])\n",
            "  Downloading rank_bm25-0.2.2-py3-none-any.whl (8.6 kB)\n",
            "Requirement already satisfied: requests in /usr/local/lib/python3.10/dist-packages (from farm-haystack[colab,elasticsearch,inference,preprocessing]) (2.31.0)\n",
            "Collecting requests-cache<1.0.0 (from farm-haystack[colab,elasticsearch,inference,preprocessing])\n",
            "  Downloading requests_cache-0.9.8-py3-none-any.whl (48 kB)\n",
            "     ━━━━━━━━━━━━━━━━━━━━━━━━━━━━━━━━━━━━━━━━ 48.7/48.7 kB 7.0 MB/s eta 0:00:00\n",
            "Collecting scikit-learn>=1.3.0 (from farm-haystack[colab,elasticsearch,inference,preprocessing])\n",
            "  Obtaining dependency information for scikit-learn>=1.3.0 from https://files.pythonhosted.org/packages/7d/af/03d3a7d5719d00486c296ddd876e6f07a681bc4e079cb45348d2f261a748/scikit_learn-1.3.1-cp310-cp310-manylinux_2_17_x86_64.manylinux2014_x86_64.whl.metadata\n",
            "  Downloading scikit_learn-1.3.1-cp310-cp310-manylinux_2_17_x86_64.manylinux2014_x86_64.whl.metadata (11 kB)\n",
            "Collecting sseclient-py (from farm-haystack[colab,elasticsearch,inference,preprocessing])\n",
            "  Obtaining dependency information for sseclient-py from https://files.pythonhosted.org/packages/49/58/97655efdfeb5b4eeab85b1fc5d3fa1023661246c2ab2a26ea8e47402d4f2/sseclient_py-1.8.0-py2.py3-none-any.whl.metadata\n",
            "  Downloading sseclient_py-1.8.0-py2.py3-none-any.whl.metadata (2.0 kB)\n",
            "Requirement already satisfied: tenacity in /usr/local/lib/python3.10/dist-packages (from farm-haystack[colab,elasticsearch,inference,preprocessing]) (8.2.3)\n",
            "Collecting tiktoken<0.5.0,>=0.3.2 (from farm-haystack[colab,elasticsearch,inference,preprocessing])\n",
            "  Downloading tiktoken-0.4.0-cp310-cp310-manylinux_2_17_x86_64.manylinux2014_x86_64.whl (1.7 MB)\n",
            "     ━━━━━━━━━━━━━━━━━━━━━━━━━━━━━━━━━━━━━━━━ 1.7/1.7 MB 85.8 MB/s eta 0:00:00\n",
            "Requirement already satisfied: tqdm in /usr/local/lib/python3.10/dist-packages (from farm-haystack[colab,elasticsearch,inference,preprocessing]) (4.66.1)\n",
            "Collecting transformers==4.32.1 (from farm-haystack[colab,elasticsearch,inference,preprocessing])\n",
            "  Obtaining dependency information for transformers==4.32.1 from https://files.pythonhosted.org/packages/83/8d/f65f8138365462ace54458a9e164f4b28ce1141361970190eef36bdef986/transformers-4.32.1-py3-none-any.whl.metadata\n",
            "  Downloading transformers-4.32.1-py3-none-any.whl.metadata (118 kB)\n",
            "     ━━━━━━━━━━━━━━━━━━━━━━━━━━━━━━━━━━━━━━ 118.5/118.5 kB 17.4 MB/s eta 0:00:00\n",
            "Collecting pillow (from farm-haystack[colab,elasticsearch,inference,preprocessing])\n",
            "  Downloading Pillow-9.0.0-cp310-cp310-manylinux_2_17_x86_64.manylinux2014_x86_64.whl (4.3 MB)\n",
            "     ━━━━━━━━━━━━━━━━━━━━━━━━━━━━━━━━━━━━━━━━ 4.3/4.3 MB 72.0 MB/s eta 0:00:00\n",
            "Collecting langdetect (from farm-haystack[colab,elasticsearch,inference,preprocessing])\n",
            "  Downloading langdetect-1.0.9.tar.gz (981 kB)\n",
            "     ━━━━━━━━━━━━━━━━━━━━━━━━━━━━━━━━━━━━━━ 981.5/981.5 kB 69.7 MB/s eta 0:00:00\n",
            "  Preparing metadata (setup.py): started\n",
            "  Preparing metadata (setup.py): finished with status 'done'\n",
            "Requirement already satisfied: nltk in /usr/local/lib/python3.10/dist-packages (from farm-haystack[colab,elasticsearch,inference,preprocessing]) (3.8.1)\n",
            "Collecting huggingface-hub>=0.5.0 (from farm-haystack[colab,elasticsearch,inference,preprocessing])\n",
            "  Obtaining dependency information for huggingface-hub>=0.5.0 from https://files.pythonhosted.org/packages/72/21/51cddb8850ed3f4dbc21e57c3dabc49e64d5577857ddda7b2eb0ffc2ec0e/huggingface_hub-0.17.2-py3-none-any.whl.metadata\n",
            "  Downloading huggingface_hub-0.17.2-py3-none-any.whl.metadata (13 kB)\n",
            "Collecting sentence-transformers>=2.2.0 (from farm-haystack[colab,elasticsearch,inference,preprocessing])\n",
            "  Downloading sentence-transformers-2.2.2.tar.gz (85 kB)\n",
            "     ━━━━━━━━━━━━━━━━━━━━━━━━━━━━━━━━━━━━━━━━ 86.0/86.0 kB 12.9 MB/s eta 0:00:00\n",
            "  Preparing metadata (setup.py): started\n",
            "  Preparing metadata (setup.py): finished with status 'done'\n",
            "Requirement already satisfied: pyyaml<7.0,>=6.0 in /usr/local/lib/python3.10/dist-packages (from prompthub-py==4.0.0->farm-haystack[colab,elasticsearch,inference,preprocessing]) (6.0.1)\n",
            "Requirement already satisfied: filelock in /usr/local/lib/python3.10/dist-packages (from transformers==4.32.1->farm-haystack[colab,elasticsearch,inference,preprocessing]) (3.12.2)\n",
            "Requirement already satisfied: numpy>=1.17 in /usr/local/lib/python3.10/dist-packages (from transformers==4.32.1->farm-haystack[colab,elasticsearch,inference,preprocessing]) (1.23.5)\n",
            "Requirement already satisfied: packaging>=20.0 in /usr/local/lib/python3.10/dist-packages (from transformers==4.32.1->farm-haystack[colab,elasticsearch,inference,preprocessing]) (23.1)\n",
            "Requirement already satisfied: regex!=2019.12.17 in /usr/local/lib/python3.10/dist-packages (from transformers==4.32.1->farm-haystack[colab,elasticsearch,inference,preprocessing]) (2023.6.3)\n",
            "Collecting tokenizers!=0.11.3,<0.14,>=0.11.1 (from transformers==4.32.1->farm-haystack[colab,elasticsearch,inference,preprocessing])\n",
            "  Downloading tokenizers-0.13.3-cp310-cp310-manylinux_2_17_x86_64.manylinux2014_x86_64.whl (7.8 MB)\n",
            "     ━━━━━━━━━━━━━━━━━━━━━━━━━━━━━━━━━━━━━━━━ 7.8/7.8 MB 125.2 MB/s eta 0:00:00\n",
            "Collecting safetensors>=0.3.1 (from transformers==4.32.1->farm-haystack[colab,elasticsearch,inference,preprocessing])\n",
            "  Obtaining dependency information for safetensors>=0.3.1 from https://files.pythonhosted.org/packages/6c/f0/c17bbdb1e5f9dab29d44cade445135789f75f8f08ea2728d04493ea8412b/safetensors-0.3.3-cp310-cp310-manylinux_2_17_x86_64.manylinux2014_x86_64.whl.metadata\n",
            "  Downloading safetensors-0.3.3-cp310-cp310-manylinux_2_17_x86_64.manylinux2014_x86_64.whl.metadata (4.7 kB)\n",
            "Requirement already satisfied: torch!=1.12.0,>=1.9 in /usr/local/lib/python3.10/dist-packages (from transformers==4.32.1->farm-haystack[colab,elasticsearch,inference,preprocessing]) (2.0.1+cu118)\n",
            "Collecting accelerate>=0.20.3 (from transformers==4.32.1->farm-haystack[colab,elasticsearch,inference,preprocessing])\n",
            "  Obtaining dependency information for accelerate>=0.20.3 from https://files.pythonhosted.org/packages/d9/92/2d3aecf9f4a192968035880be3e2fc8b48d541c7128f7c936f430d6f96da/accelerate-0.23.0-py3-none-any.whl.metadata\n",
            "  Downloading accelerate-0.23.0-py3-none-any.whl.metadata (18 kB)\n",
            "Collecting sentencepiece!=0.1.92,>=0.1.91 (from transformers==4.32.1->farm-haystack[colab,elasticsearch,inference,preprocessing])\n",
            "  Downloading sentencepiece-0.1.99-cp310-cp310-manylinux_2_17_x86_64.manylinux2014_x86_64.whl (1.3 MB)\n",
            "     ━━━━━━━━━━━━━━━━━━━━━━━━━━━━━━━━━━━━━━━━ 1.3/1.3 MB 77.0 MB/s eta 0:00:00\n",
            "Requirement already satisfied: protobuf in /usr/local/lib/python3.10/dist-packages (from transformers==4.32.1->farm-haystack[colab,elasticsearch,inference,preprocessing]) (3.20.3)\n",
            "Requirement already satisfied: fsspec in /usr/local/lib/python3.10/dist-packages (from huggingface-hub>=0.5.0->farm-haystack[colab,elasticsearch,inference,preprocessing]) (2023.6.0)\n",
            "Requirement already satisfied: typing-extensions>=3.7.4.3 in /usr/local/lib/python3.10/dist-packages (from huggingface-hub>=0.5.0->farm-haystack[colab,elasticsearch,inference,preprocessing]) (4.5.0)\n",
            "Requirement already satisfied: charset-normalizer<4,>=2 in /usr/local/lib/python3.10/dist-packages (from requests->farm-haystack[colab,elasticsearch,inference,preprocessing]) (3.2.0)\n",
            "Requirement already satisfied: idna<4,>=2.5 in /usr/local/lib/python3.10/dist-packages (from requests->farm-haystack[colab,elasticsearch,inference,preprocessing]) (3.4)\n",
            "Requirement already satisfied: urllib3<3,>=1.21.1 in /usr/local/lib/python3.10/dist-packages (from requests->farm-haystack[colab,elasticsearch,inference,preprocessing]) (2.0.4)\n",
            "Requirement already satisfied: certifi>=2017.4.17 in /usr/local/lib/python3.10/dist-packages (from requests->farm-haystack[colab,elasticsearch,inference,preprocessing]) (2023.7.22)\n",
            "Requirement already satisfied: appdirs>=1.4.4 in /usr/local/lib/python3.10/dist-packages (from requests-cache<1.0.0->farm-haystack[colab,elasticsearch,inference,preprocessing]) (1.4.4)\n",
            "Requirement already satisfied: attrs>=21.2 in /usr/local/lib/python3.10/dist-packages (from requests-cache<1.0.0->farm-haystack[colab,elasticsearch,inference,preprocessing]) (23.1.0)\n",
            "Collecting cattrs>=22.2 (from requests-cache<1.0.0->farm-haystack[colab,elasticsearch,inference,preprocessing])\n",
            "  Obtaining dependency information for cattrs>=22.2 from https://files.pythonhosted.org/packages/3a/ba/05df14efaa0624fac6b1510e87f5ce446208d2f6ce50270a89b6268aebfe/cattrs-23.1.2-py3-none-any.whl.metadata\n",
            "  Downloading cattrs-23.1.2-py3-none-any.whl.metadata (9.3 kB)\n",
            "Collecting url-normalize>=1.4 (from requests-cache<1.0.0->farm-haystack[colab,elasticsearch,inference,preprocessing])\n",
            "  Downloading url_normalize-1.4.3-py2.py3-none-any.whl (6.8 kB)\n",
            "Requirement already satisfied: scipy>=1.5.0 in /usr/local/lib/python3.10/dist-packages (from scikit-learn>=1.3.0->farm-haystack[colab,elasticsearch,inference,preprocessing]) (1.11.2)\n",
            "Requirement already satisfied: joblib>=1.1.1 in /usr/local/lib/python3.10/dist-packages (from scikit-learn>=1.3.0->farm-haystack[colab,elasticsearch,inference,preprocessing]) (1.3.2)\n",
            "Requirement already satisfied: threadpoolctl>=2.0.0 in /usr/local/lib/python3.10/dist-packages (from scikit-learn>=1.3.0->farm-haystack[colab,elasticsearch,inference,preprocessing]) (3.2.0)\n",
            "Requirement already satisfied: torchvision in /usr/local/lib/python3.10/dist-packages (from sentence-transformers>=2.2.0->farm-haystack[colab,elasticsearch,inference,preprocessing]) (0.15.2+cu118)\n",
            "Collecting elastic-transport<8 (from farm-haystack[colab,elasticsearch,inference,preprocessing])\n",
            "  Downloading elastic_transport-7.16.0-py2.py3-none-any.whl (35 kB)\n",
            "Collecting elasticsearch<8,>=7.17 (from farm-haystack[colab,elasticsearch,inference,preprocessing])\n",
            "  Downloading elasticsearch-7.17.9-py2.py3-none-any.whl (385 kB)\n",
            "     ━━━━━━━━━━━━━━━━━━━━━━━━━━━━━━━━━━━━━━ 386.0/386.0 kB 42.0 MB/s eta 0:00:00\n",
            "Requirement already satisfied: jsonschema-specifications>=2023.03.6 in /usr/local/lib/python3.10/dist-packages (from jsonschema->farm-haystack[colab,elasticsearch,inference,preprocessing]) (2023.7.1)\n",
            "Requirement already satisfied: referencing>=0.28.4 in /usr/local/lib/python3.10/dist-packages (from jsonschema->farm-haystack[colab,elasticsearch,inference,preprocessing]) (0.30.2)\n",
            "Requirement already satisfied: rpds-py>=0.7.1 in /usr/local/lib/python3.10/dist-packages (from jsonschema->farm-haystack[colab,elasticsearch,inference,preprocessing]) (0.10.2)\n",
            "Requirement already satisfied: six in /usr/local/lib/python3.10/dist-packages (from langdetect->farm-haystack[colab,elasticsearch,inference,preprocessing]) (1.16.0)\n",
            "Requirement already satisfied: click in /usr/local/lib/python3.10/dist-packages (from nltk->farm-haystack[colab,elasticsearch,inference,preprocessing]) (8.1.7)\n",
            "Requirement already satisfied: python-dateutil>=2.8.1 in /usr/local/lib/python3.10/dist-packages (from pandas->farm-haystack[colab,elasticsearch,inference,preprocessing]) (2.8.2)\n",
            "Requirement already satisfied: pytz>=2020.1 in /usr/local/lib/python3.10/dist-packages (from pandas->farm-haystack[colab,elasticsearch,inference,preprocessing]) (2023.3.post1)\n",
            "Collecting monotonic>=1.5 (from posthog->farm-haystack[colab,elasticsearch,inference,preprocessing])\n",
            "  Downloading monotonic-1.6-py2.py3-none-any.whl (8.2 kB)\n",
            "Collecting backoff>=1.10.0 (from posthog->farm-haystack[colab,elasticsearch,inference,preprocessing])\n",
            "  Downloading backoff-2.2.1-py3-none-any.whl (15 kB)\n",
            "Requirement already satisfied: inflect in /usr/local/lib/python3.10/dist-packages (from quantulum3->farm-haystack[colab,elasticsearch,inference,preprocessing]) (7.0.0)\n",
            "Collecting num2words (from quantulum3->farm-haystack[colab,elasticsearch,inference,preprocessing])\n",
            "  Downloading num2words-0.5.12-py3-none-any.whl (125 kB)\n",
            "     ━━━━━━━━━━━━━━━━━━━━━━━━━━━━━━━━━━━━━━ 125.2/125.2 kB 18.5 MB/s eta 0:00:00\n",
            "Requirement already satisfied: psutil in /usr/local/lib/python3.10/dist-packages (from accelerate>=0.20.3->transformers==4.32.1->farm-haystack[colab,elasticsearch,inference,preprocessing]) (5.9.5)\n",
            "Requirement already satisfied: exceptiongroup in /usr/local/lib/python3.10/dist-packages (from cattrs>=22.2->requests-cache<1.0.0->farm-haystack[colab,elasticsearch,inference,preprocessing]) (1.1.3)\n",
            "Collecting urllib3<3,>=1.21.1 (from requests->farm-haystack[colab,elasticsearch,inference,preprocessing])\n",
            "  Obtaining dependency information for urllib3<3,>=1.21.1 from https://files.pythonhosted.org/packages/c5/05/c214b32d21c0b465506f95c4f28ccbcba15022e000b043b72b3df7728471/urllib3-1.26.16-py2.py3-none-any.whl.metadata\n",
            "  Downloading urllib3-1.26.16-py2.py3-none-any.whl.metadata (48 kB)\n",
            "     ━━━━━━━━━━━━━━━━━━━━━━━━━━━━━━━━━━━━━━━━ 48.4/48.4 kB 6.5 MB/s eta 0:00:00\n",
            "Requirement already satisfied: sympy in /usr/local/lib/python3.10/dist-packages (from torch!=1.12.0,>=1.9->transformers==4.32.1->farm-haystack[colab,elasticsearch,inference,preprocessing]) (1.12)\n",
            "Requirement already satisfied: jinja2 in /usr/local/lib/python3.10/dist-packages (from torch!=1.12.0,>=1.9->transformers==4.32.1->farm-haystack[colab,elasticsearch,inference,preprocessing]) (3.1.2)\n",
            "Requirement already satisfied: triton==2.0.0 in /usr/local/lib/python3.10/dist-packages (from torch!=1.12.0,>=1.9->transformers==4.32.1->farm-haystack[colab,elasticsearch,inference,preprocessing]) (2.0.0)\n",
            "Requirement already satisfied: cmake in /usr/local/lib/python3.10/dist-packages (from triton==2.0.0->torch!=1.12.0,>=1.9->transformers==4.32.1->farm-haystack[colab,elasticsearch,inference,preprocessing]) (3.27.4.1)\n",
            "Requirement already satisfied: lit in /usr/local/lib/python3.10/dist-packages (from triton==2.0.0->torch!=1.12.0,>=1.9->transformers==4.32.1->farm-haystack[colab,elasticsearch,inference,preprocessing]) (16.0.6)\n",
            "Collecting docopt>=0.6.2 (from num2words->quantulum3->farm-haystack[colab,elasticsearch,inference,preprocessing])\n",
            "  Downloading docopt-0.6.2.tar.gz (25 kB)\n",
            "  Preparing metadata (setup.py): started\n",
            "  Preparing metadata (setup.py): finished with status 'done'\n",
            "Requirement already satisfied: MarkupSafe>=2.0 in /usr/local/lib/python3.10/dist-packages (from jinja2->torch!=1.12.0,>=1.9->transformers==4.32.1->farm-haystack[colab,elasticsearch,inference,preprocessing]) (2.1.3)\n",
            "Requirement already satisfied: mpmath>=0.19 in /usr/local/lib/python3.10/dist-packages (from sympy->torch!=1.12.0,>=1.9->transformers==4.32.1->farm-haystack[colab,elasticsearch,inference,preprocessing]) (1.3.0)\n",
            "Downloading canals-0.7.0-py3-none-any.whl (32 kB)\n",
            "Downloading prompthub_py-4.0.0-py3-none-any.whl (6.9 kB)\n",
            "Downloading transformers-4.32.1-py3-none-any.whl (7.5 MB)\n",
            "   ━━━━━━━━━━━━━━━━━━━━━━━━━━━━━━━━━━━━━━━━ 7.5/7.5 MB 116.1 MB/s eta 0:00:00\n",
            "Downloading huggingface_hub-0.17.2-py3-none-any.whl (294 kB)\n",
            "   ━━━━━━━━━━━━━━━━━━━━━━━━━━━━━━━━━━━━━━━━ 294.9/294.9 kB 35.5 MB/s eta 0:00:00\n",
            "Downloading scikit_learn-1.3.1-cp310-cp310-manylinux_2_17_x86_64.manylinux2014_x86_64.whl (10.8 MB)\n",
            "   ━━━━━━━━━━━━━━━━━━━━━━━━━━━━━━━━━━━━━━━━ 10.8/10.8 MB 124.6 MB/s eta 0:00:00\n",
            "Downloading Events-0.5-py3-none-any.whl (6.8 kB)\n",
            "Downloading farm_haystack-1.20.1-py3-none-any.whl (789 kB)\n",
            "   ━━━━━━━━━━━━━━━━━━━━━━━━━━━━━━━━━━━━━━━━ 789.9/789.9 kB 68.6 MB/s eta 0:00:00\n",
            "Downloading posthog-3.0.2-py2.py3-none-any.whl (37 kB)\n",
            "Downloading sseclient_py-1.8.0-py2.py3-none-any.whl (8.8 kB)\n",
            "Downloading accelerate-0.23.0-py3-none-any.whl (258 kB)\n",
            "   ━━━━━━━━━━━━━━━━━━━━━━━━━━━━━━━━━━━━━━━━ 258.1/258.1 kB 33.9 MB/s eta 0:00:00\n",
            "Downloading cattrs-23.1.2-py3-none-any.whl (50 kB)\n",
            "   ━━━━━━━━━━━━━━━━━━━━━━━━━━━━━━━━━━━━━━━━ 50.8/50.8 kB 8.0 MB/s eta 0:00:00\n",
            "Downloading safetensors-0.3.3-cp310-cp310-manylinux_2_17_x86_64.manylinux2014_x86_64.whl (1.3 MB)\n",
            "   ━━━━━━━━━━━━━━━━━━━━━━━━━━━━━━━━━━━━━━━━ 1.3/1.3 MB 85.9 MB/s eta 0:00:00\n",
            "Downloading urllib3-1.26.16-py2.py3-none-any.whl (143 kB)\n",
            "   ━━━━━━━━━━━━━━━━━━━━━━━━━━━━━━━━━━━━━━━━ 143.1/143.1 kB 22.6 MB/s eta 0:00:00\n",
            "Building wheels for collected packages: sentence-transformers, langdetect, docopt\n",
            "  Building wheel for sentence-transformers (setup.py): started\n",
            "  Building wheel for sentence-transformers (setup.py): finished with status 'done'\n",
            "  Created wheel for sentence-transformers: filename=sentence_transformers-2.2.2-py3-none-any.whl size=125923 sha256=f7d10d5b930ddf2c6ba2fcb7b674e271d40c8e7163bddbdadc85b4b1bc72e64f\n",
            "  Stored in directory: /root/.cache/pip/wheels/62/f2/10/1e606fd5f02395388f74e7462910fe851042f97238cbbd902f\n",
            "  Building wheel for langdetect (setup.py): started\n",
            "  Building wheel for langdetect (setup.py): finished with status 'done'\n",
            "  Created wheel for langdetect: filename=langdetect-1.0.9-py3-none-any.whl size=993224 sha256=5807a3800e088061a6a071b9728e0dd9374f8232fc888fce7b45f0df8f3cc116\n",
            "  Stored in directory: /root/.cache/pip/wheels/95/03/7d/59ea870c70ce4e5a370638b5462a7711ab78fba2f655d05106\n",
            "  Building wheel for docopt (setup.py): started\n",
            "  Building wheel for docopt (setup.py): finished with status 'done'\n",
            "  Created wheel for docopt: filename=docopt-0.6.2-py2.py3-none-any.whl size=13705 sha256=f4d8339930918a84efc18539cc065d2bb4c1a790b48d8652e2eb6cc0608381f2\n",
            "  Stored in directory: /root/.cache/pip/wheels/fc/ab/d4/5da2067ac95b36618c629a5f93f809425700506f72c9732fac\n",
            "Successfully built sentence-transformers langdetect docopt\n",
            "Installing collected packages: tokenizers, sseclient-py, sentencepiece, safetensors, monotonic, events, docopt, urllib3, url-normalize, rank-bm25, pillow, num2words, lazy-imports, langdetect, cattrs, canals, boilerpy3, backoff, scikit-learn, elasticsearch, elastic-transport, tiktoken, requests-cache, quantulum3, prompthub-py, posthog, huggingface-hub, transformers, farm-haystack, accelerate, sentence-transformers\n",
            "  Attempting uninstall: urllib3\n",
            "    Found existing installation: urllib3 2.0.4\n",
            "    Uninstalling urllib3-2.0.4:\n",
            "      Successfully uninstalled urllib3-2.0.4\n",
            "  Attempting uninstall: pillow\n",
            "    Found existing installation: Pillow 9.4.0\n",
            "    Uninstalling Pillow-9.4.0:\n",
            "      Successfully uninstalled Pillow-9.4.0\n",
            "  Attempting uninstall: scikit-learn\n",
            "    Found existing installation: scikit-learn 1.2.2\n",
            "    Uninstalling scikit-learn-1.2.2:\n",
            "      Successfully uninstalled scikit-learn-1.2.2\n",
            "Successfully installed accelerate-0.23.0 backoff-2.2.1 boilerpy3-1.0.6 canals-0.7.0 cattrs-23.1.2 docopt-0.6.2 elastic-transport-7.16.0 elasticsearch-7.17.9 events-0.5 farm-haystack-1.20.1 huggingface-hub-0.17.2 langdetect-1.0.9 lazy-imports-0.3.1 monotonic-1.6 num2words-0.5.12 pillow-9.0.0 posthog-3.0.2 prompthub-py-4.0.0 quantulum3-0.9.0 rank-bm25-0.2.2 requests-cache-0.9.8 safetensors-0.3.3 scikit-learn-1.3.1 sentence-transformers-2.2.2 sentencepiece-0.1.99 sseclient-py-1.8.0 tiktoken-0.4.0 tokenizers-0.13.3 transformers-4.32.1 url-normalize-1.4.3 urllib3-1.26.16\n"
          ]
        },
        {
          "output_type": "stream",
          "name": "stderr",
          "text": [
            "WARNING: Running pip as the 'root' user can result in broken permissions and conflicting behaviour with the system package manager. It is recommended to use a virtual environment instead: https://pip.pypa.io/warnings/venv\n"
          ]
        }
      ]
    },
    {
      "cell_type": "code",
      "source": [
        "from haystack.telemetry import tutorial_running\n",
        "\n",
        "tutorial_running(3)\n"
      ],
      "metadata": {
        "id": "AmWJUeWKMtjZ"
      },
      "execution_count": 3,
      "outputs": []
    },
    {
      "cell_type": "code",
      "source": [
        "import logging\n",
        "\n",
        "logging.basicConfig(format=\"%(levelname)s - %(name)s -  %(message)s\", level=logging.WARNING)\n",
        "logging.getLogger(\"haystack\").setLevel(logging.INFO)\n"
      ],
      "metadata": {
        "id": "GUZYiNZCM4S4"
      },
      "execution_count": 4,
      "outputs": []
    },
    {
      "cell_type": "markdown",
      "source": [
        "## Initializing the ElasticsearchDocumentStore"
      ],
      "metadata": {
        "id": "39zNLVbSNAKJ"
      }
    },
    {
      "cell_type": "code",
      "source": [
        "%%bash\n",
        "\n",
        "wget https://artifacts.elastic.co/downloads/elasticsearch/elasticsearch-7.9.2-linux-x86_64.tar.gz -q\n",
        "tar -xzf elasticsearch-7.9.2-linux-x86_64.tar.gz\n",
        "chown -R daemon:daemon elasticsearch-7.9.2\n"
      ],
      "metadata": {
        "id": "7rAB0kAuM-4l"
      },
      "execution_count": 5,
      "outputs": []
    },
    {
      "cell_type": "code",
      "source": [
        "%%bash --bg\n",
        "\n",
        "sudo -u daemon -- elasticsearch-7.9.2/bin/elasticsearch\n"
      ],
      "metadata": {
        "id": "_owHoKceNB9Q"
      },
      "execution_count": 6,
      "outputs": []
    },
    {
      "cell_type": "code",
      "source": [
        "import time\n",
        "\n",
        "time.sleep(30)\n"
      ],
      "metadata": {
        "id": "NkN5Vw9KNOeL"
      },
      "execution_count": 7,
      "outputs": []
    },
    {
      "cell_type": "code",
      "source": [
        "import os\n",
        "from haystack.document_stores import ElasticsearchDocumentStore\n",
        "\n",
        "# Get the host where Elasticsearch is running, default to localhost\n",
        "host = os.environ.get(\"ELASTICSEARCH_HOST\", \"localhost\")\n",
        "\n",
        "document_store = ElasticsearchDocumentStore(host=host, username=\"\", password=\"\", index=\"document\")\n"
      ],
      "metadata": {
        "id": "L_SR2s1dNQ28"
      },
      "execution_count": 8,
      "outputs": []
    },
    {
      "cell_type": "markdown",
      "source": [
        "## Indexing Documents with a Pipeline"
      ],
      "metadata": {
        "id": "ItzVYb7bPxhD"
      }
    },
    {
      "cell_type": "code",
      "source": [
        "from haystack.utils import fetch_archive_from_http\n",
        "\n",
        "doc_dir = \"data/build_a_scalable_question_answering_system\"\n",
        "\n",
        "fetch_archive_from_http(\n",
        "    url=\"https://s3.eu-central-1.amazonaws.com/deepset.ai-farm-qa/datasets/documents/wiki_gameofthrones_txt3.zip\",\n",
        "    output_dir=doc_dir,\n",
        ")\n"
      ],
      "metadata": {
        "colab": {
          "base_uri": "https://localhost:8080/"
        },
        "id": "Ot1JX1KTPucW",
        "outputId": "c76039b1-6d84-4151-b548-a679d0f3953e"
      },
      "execution_count": 9,
      "outputs": [
        {
          "output_type": "stream",
          "name": "stderr",
          "text": [
            "INFO:haystack.utils.import_utils:Fetching from https://s3.eu-central-1.amazonaws.com/deepset.ai-farm-qa/datasets/documents/wiki_gameofthrones_txt3.zip to 'data/build_a_scalable_question_answering_system'\n"
          ]
        },
        {
          "output_type": "execute_result",
          "data": {
            "text/plain": [
              "True"
            ]
          },
          "metadata": {},
          "execution_count": 9
        }
      ]
    },
    {
      "cell_type": "code",
      "source": [
        "from haystack import Pipeline\n",
        "from haystack.nodes import TextConverter, PreProcessor\n",
        "\n",
        "indexing_pipeline = Pipeline()\n",
        "text_converter = TextConverter()\n",
        "preprocessor = PreProcessor(\n",
        "    clean_whitespace=True,\n",
        "    clean_header_footer=True,\n",
        "    clean_empty_lines=True,\n",
        "    split_by=\"word\",\n",
        "    split_length=200,\n",
        "    split_overlap=20,\n",
        "    split_respect_sentence_boundary=True,\n",
        ")\n"
      ],
      "metadata": {
        "colab": {
          "base_uri": "https://localhost:8080/"
        },
        "id": "O1jv9uSkP9fD",
        "outputId": "b98e0a9e-f604-4b6b-e6af-b5cce5f65c64"
      },
      "execution_count": 10,
      "outputs": [
        {
          "output_type": "stream",
          "name": "stderr",
          "text": [
            "[nltk_data] Downloading package punkt to /root/nltk_data...\n",
            "[nltk_data]   Unzipping tokenizers/punkt.zip.\n"
          ]
        }
      ]
    },
    {
      "cell_type": "code",
      "source": [
        "import os\n",
        "\n",
        "indexing_pipeline.add_node(component=text_converter, name=\"TextConverter\", inputs=[\"File\"])\n",
        "indexing_pipeline.add_node(component=preprocessor, name=\"PreProcessor\", inputs=[\"TextConverter\"])\n",
        "indexing_pipeline.add_node(component=document_store, name=\"DocumentStore\", inputs=[\"PreProcessor\"])\n"
      ],
      "metadata": {
        "id": "NGHNoN1YQ2Nz"
      },
      "execution_count": 11,
      "outputs": []
    },
    {
      "cell_type": "code",
      "source": [
        "!ls data/build_a_scalable_question_answering_system | head"
      ],
      "metadata": {
        "colab": {
          "base_uri": "https://localhost:8080/"
        },
        "id": "jh-8xP_JRZP_",
        "outputId": "c467c753-327f-48b7-cb56-a9de32542ced"
      },
      "execution_count": 13,
      "outputs": [
        {
          "output_type": "stream",
          "name": "stdout",
          "text": [
            "0_Game_of_Thrones__season_8_.txt\n",
            "101_Titties_and_Dragons.txt\n",
            "102_The_Princess_and_the_Queen.txt\n",
            "10_Beyond_the_Wall__Game_of_Thrones_.txt\n",
            "118_Dark_Wings__Dark_Words.txt\n",
            "119_Walk_of_Punishment.txt\n",
            "11_The_Dragon_and_the_Wolf.txt\n",
            "120_And_Now_His_Watch_Is_Ended.txt\n",
            "121_The_Bear_and_the_Maiden_Fair.txt\n",
            "126_Kissed_by_Fire.txt\n"
          ]
        }
      ]
    },
    {
      "cell_type": "code",
      "source": [
        "files_to_index = [doc_dir + \"/\" + f for f in os.listdir(doc_dir)]\n",
        "indexing_pipeline.run_batch(file_paths=files_to_index)\n"
      ],
      "metadata": {
        "id": "MyjSE7iJRKhb"
      },
      "execution_count": null,
      "outputs": []
    },
    {
      "cell_type": "markdown",
      "source": [
        "## Initializing the Retriever"
      ],
      "metadata": {
        "id": "OlB0gQ43RqB6"
      }
    },
    {
      "cell_type": "code",
      "source": [
        "from haystack.nodes import BM25Retriever\n",
        "\n",
        "retriever = BM25Retriever(document_store=document_store)\n"
      ],
      "metadata": {
        "id": "IrwiDB-xRgG9"
      },
      "execution_count": 15,
      "outputs": []
    },
    {
      "cell_type": "markdown",
      "source": [
        "## Initializing the Reader"
      ],
      "metadata": {
        "id": "EG0rYmBaRvJC"
      }
    },
    {
      "cell_type": "code",
      "source": [
        "from haystack.nodes import FARMReader\n",
        "\n",
        "reader = FARMReader(model_name_or_path=\"deepset/roberta-base-squad2\", use_gpu=True)\n"
      ],
      "metadata": {
        "colab": {
          "base_uri": "https://localhost:8080/",
          "height": 313,
          "referenced_widgets": [
            "34c88c435c064b4c9bb07425c534b5be",
            "335a95951c9e42d2a5a76176612c48d5",
            "bf53acc3a9da412dba67e3c8d4f636bf",
            "4edccde750b94c228f260d1d407a36c9",
            "c79965b9670c44bf9434ce27d0f48f33",
            "05e9d1fa5b0244508c97475318599661",
            "1b179c7dcda34441a0c237cb12c384b0",
            "80ebde6317ce43dc92b4a3c9fb8c557f",
            "8df49a7fbb8c4f4ab8eafd099a360e3a",
            "023d987d8c06419c9c0edee5b9ed2ba4",
            "62091db671254ae090d990e16f3f5b6e",
            "bce31734560648e99f7a622bd7d4441a",
            "307d348f507846d397bf8e6fb8dc6907",
            "265964e813a14e1b93cde6a81de4461f",
            "60c087ad945f446bab9cdf9e1be29331",
            "9c42d8c099d041569304045855abe056",
            "198634006b4b44208db29f8b4a647da2",
            "902604a71f684c83bffa86f9ad3552ce",
            "60aabc865029416fa9f1651997b8ed3c",
            "0b983c98f6a34503be3247abdca1d6b1",
            "ae2f7ffc7af54cba91130045a7e72a4c",
            "34c45e90b6c646ab8ac5515123af5b95",
            "b3ad74586bbe4272ae959d8ed39e841b",
            "494b985f885341e5b2c4dc59fdfc19bc",
            "6eead9e105474f76a167f95c842b03c9",
            "9fb57c09af7046e0bacd9cf472e20619",
            "3f42a1d589e543d8979cb617290ff6d3",
            "eb9aef2ead404edabb923457e5535efb",
            "677ec8d77d1448b5b347a37301a954e0",
            "8b4a230ff1444de687521d16b21c054b",
            "5d47187da29a4aa5a2bdfc5ad426b9e7",
            "2086a42a71b84551a003e2207288ef43",
            "72e169c5cc7c4f52918597b42d7a90d0",
            "162877c1b3ed44cfac433050b0126a8c",
            "72c57af4b74e42ed97154bcc496ddf71",
            "26346f5105214f1e889e87dd4a7fd4da",
            "4e18d63694364a7b91c1f0aaa4920275",
            "24f840bbe1724a17b48f33bdc4768bce",
            "d5484ef6166944d5979e57cb6440369f",
            "bae50e9f971d48b4801850aa85553008",
            "e59be2dad20e43fa8963360145dbc09e",
            "ed1540c87dcb40e6bdae8311635cd432",
            "a701ec9eb5f2493e9883483d08599bfd",
            "0df47e26994b4660a51f6b1c7c8a3914",
            "120ef9bf003a43ca96cc9c9af4d42ac4",
            "473c7751de604a8b9abab3de34707a44",
            "b000d908186b4603b561bbb351cf7477",
            "e719ddc5335b4f08b4b2d7a727603209",
            "a08915d0522346f68440d3630057ab0c",
            "9a5bfc4d21144544b44e0822f05e9fb1",
            "0a106c8537ac49cfaf676b08dd79aa8e",
            "0e0008b71649454498956f3df048f24c",
            "8e55cd5a46c84424b25056ff20384ace",
            "2baa357b20a4472ab53a59cafb96d49c",
            "2c838092f6b849738ab6b9ca0bfdc7b2",
            "8b042207714f4bbf889a36f76f0d5a48",
            "8857b9c22fe7413db290ff8282ed3de3",
            "3a64d11a24d54e38b3a3a2995784e582",
            "d26ea85a489e447fbbbd74ff24fa7e22",
            "8f02c96909b741bf9d762fa181a55dcd",
            "01f4794afd00498cbc6da306a6b99f55",
            "05cee5e130624e6cb546284ed0994297",
            "eb12c5337b2847c59672c71468dd12c4",
            "d91d2acf79d148e6a827b34a93f32edb",
            "4414dd4b49694dd4b5a56b5193968a45",
            "bdd491f4488a43fbbc4ad602c21816f1"
          ]
        },
        "id": "-jxQuBzgRsJM",
        "outputId": "329f7558-712b-4766-8b49-3c57823a198b"
      },
      "execution_count": 16,
      "outputs": [
        {
          "output_type": "stream",
          "name": "stderr",
          "text": [
            "INFO:haystack.modeling.utils:Using devices: CUDA:0 - Number of GPUs: 1\n",
            "INFO:haystack.modeling.utils:Using devices: CUDA:0 - Number of GPUs: 1\n"
          ]
        },
        {
          "output_type": "display_data",
          "data": {
            "text/plain": [
              "Downloading (…)lve/main/config.json:   0%|          | 0.00/571 [00:00<?, ?B/s]"
            ],
            "application/vnd.jupyter.widget-view+json": {
              "version_major": 2,
              "version_minor": 0,
              "model_id": "34c88c435c064b4c9bb07425c534b5be"
            }
          },
          "metadata": {}
        },
        {
          "output_type": "stream",
          "name": "stderr",
          "text": [
            "INFO:haystack.modeling.model.language_model: * LOADING MODEL: 'deepset/roberta-base-squad2' (Roberta)\n"
          ]
        },
        {
          "output_type": "display_data",
          "data": {
            "text/plain": [
              "Downloading model.safetensors:   0%|          | 0.00/496M [00:00<?, ?B/s]"
            ],
            "application/vnd.jupyter.widget-view+json": {
              "version_major": 2,
              "version_minor": 0,
              "model_id": "bce31734560648e99f7a622bd7d4441a"
            }
          },
          "metadata": {}
        },
        {
          "output_type": "stream",
          "name": "stderr",
          "text": [
            "INFO:haystack.modeling.model.language_model:Auto-detected model language: english\n",
            "INFO:haystack.modeling.model.language_model:Loaded 'deepset/roberta-base-squad2' (Roberta model) from model hub.\n"
          ]
        },
        {
          "output_type": "display_data",
          "data": {
            "text/plain": [
              "Downloading (…)okenizer_config.json:   0%|          | 0.00/79.0 [00:00<?, ?B/s]"
            ],
            "application/vnd.jupyter.widget-view+json": {
              "version_major": 2,
              "version_minor": 0,
              "model_id": "b3ad74586bbe4272ae959d8ed39e841b"
            }
          },
          "metadata": {}
        },
        {
          "output_type": "display_data",
          "data": {
            "text/plain": [
              "Downloading (…)olve/main/vocab.json:   0%|          | 0.00/899k [00:00<?, ?B/s]"
            ],
            "application/vnd.jupyter.widget-view+json": {
              "version_major": 2,
              "version_minor": 0,
              "model_id": "162877c1b3ed44cfac433050b0126a8c"
            }
          },
          "metadata": {}
        },
        {
          "output_type": "display_data",
          "data": {
            "text/plain": [
              "Downloading (…)olve/main/merges.txt:   0%|          | 0.00/456k [00:00<?, ?B/s]"
            ],
            "application/vnd.jupyter.widget-view+json": {
              "version_major": 2,
              "version_minor": 0,
              "model_id": "120ef9bf003a43ca96cc9c9af4d42ac4"
            }
          },
          "metadata": {}
        },
        {
          "output_type": "display_data",
          "data": {
            "text/plain": [
              "Downloading (…)cial_tokens_map.json:   0%|          | 0.00/772 [00:00<?, ?B/s]"
            ],
            "application/vnd.jupyter.widget-view+json": {
              "version_major": 2,
              "version_minor": 0,
              "model_id": "8b042207714f4bbf889a36f76f0d5a48"
            }
          },
          "metadata": {}
        },
        {
          "output_type": "stream",
          "name": "stderr",
          "text": [
            "INFO:haystack.modeling.utils:Using devices: CUDA:0 - Number of GPUs: 1\n"
          ]
        }
      ]
    },
    {
      "cell_type": "markdown",
      "source": [
        "## Creating the Retriever-Reader Pipeline"
      ],
      "metadata": {
        "id": "aqGTFb6aR5xQ"
      }
    },
    {
      "cell_type": "code",
      "source": [
        "from haystack import Pipeline\n",
        "\n",
        "querying_pipeline = Pipeline()\n",
        "querying_pipeline.add_node(component=retriever, name=\"Retriever\", inputs=[\"Query\"])\n",
        "querying_pipeline.add_node(component=reader, name=\"Reader\", inputs=[\"Retriever\"])\n"
      ],
      "metadata": {
        "id": "j4NVCnGmRwgi"
      },
      "execution_count": 17,
      "outputs": []
    },
    {
      "cell_type": "markdown",
      "source": [
        "## Asking a Question"
      ],
      "metadata": {
        "id": "zsxqTtjNSWn3"
      }
    },
    {
      "cell_type": "code",
      "source": [
        "prediction = querying_pipeline.run(\n",
        "    query=\"Who is the father of Arya Stark?\", params={\"Retriever\": {\"top_k\": 10}, \"Reader\": {\"top_k\": 5}}\n",
        ")\n"
      ],
      "metadata": {
        "colab": {
          "base_uri": "https://localhost:8080/"
        },
        "id": "F1e0kNcMSFvZ",
        "outputId": "a4993174-55cc-4ee8-eac9-39d4179c993c"
      },
      "execution_count": 18,
      "outputs": [
        {
          "output_type": "stream",
          "name": "stderr",
          "text": [
            "Inferencing Samples: 100%|██████████| 1/1 [00:03<00:00,  3.31s/ Batches]\n"
          ]
        }
      ]
    },
    {
      "cell_type": "code",
      "source": [
        "from pprint import pprint\n",
        "\n",
        "pprint(prediction)\n"
      ],
      "metadata": {
        "colab": {
          "base_uri": "https://localhost:8080/"
        },
        "id": "BlssE5fsSZ0M",
        "outputId": "6a5ebd14-8d42-4d09-bf57-23736f563c93"
      },
      "execution_count": 19,
      "outputs": [
        {
          "output_type": "stream",
          "name": "stdout",
          "text": [
            "{'answers': [<Answer {'answer': 'Eddard', 'type': 'extractive', 'score': 0.993372917175293, 'context': \"s Nymeria after a legendary warrior queen. She travels with her father, Eddard, to King's Landing when he is made Hand of the King. Before she leaves,\", 'offsets_in_document': [{'start': 207, 'end': 213}], 'offsets_in_context': [{'start': 72, 'end': 78}], 'document_ids': ['9e3c863097d66aeed9992e0b6bf1f2f4'], 'meta': {'_split_id': 4, '_split_overlap': [{'range': [0, 266], 'doc_id': '241c8775e39c6c937c67bbd10ccc471c'}, {'range': [960, 1200], 'doc_id': '87e8469dcf7354fd2a25fbd2ba07c543'}]}}>,\n",
            "             <Answer {'answer': 'Ned', 'type': 'extractive', 'score': 0.9753613471984863, 'context': \"k in the television series.\\n\\n====Season 1====\\nArya accompanies her father Ned and her sister Sansa to King's Landing. Before their departure, Arya's h\", 'offsets_in_document': [{'start': 630, 'end': 633}], 'offsets_in_context': [{'start': 74, 'end': 77}], 'document_ids': ['7d3360fa29130e69ea6b2ba5c5a8f9c8'], 'meta': {'_split_id': 13, '_split_overlap': [{'range': [0, 235], 'doc_id': 'e49395627d81a9d3a1c889db7f701b4'}, {'range': [949, 1168], 'doc_id': '653abd42ad47a1f7cbb188875a8d9e25'}]}}>,\n",
            "             <Answer {'answer': 'Lord Eddard Stark', 'type': 'extractive', 'score': 0.9566047191619873, 'context': 'rk daughters.\\n\\nDuring the Tourney of the Hand to honour her father Lord Eddard Stark, Sansa Stark is enchanted by the knights performing in the event.', 'offsets_in_document': [{'start': 804, 'end': 821}], 'offsets_in_context': [{'start': 67, 'end': 84}], 'document_ids': ['a80ae4f1d1187bde6a34a29aeeb0837d'], 'meta': {'_split_id': 3, '_split_overlap': [{'range': [0, 99], 'doc_id': '244e2a5926e7f89b5f267a9d99493c97'}, {'range': [889, 1110], 'doc_id': 'c4ea66d17668dd910673351c384d29d5'}]}}>,\n",
            "             <Answer {'answer': 'Joffrey', 'type': 'extractive', 'score': 0.641330361366272, 'context': \"Mycah, sparring in the woods with broomsticks.  Arya defends Mycah from Joffrey's torments and her direwolf Nymeria helps Arya fight off Joffrey, woun\", 'offsets_in_document': [{'start': 634, 'end': 641}], 'offsets_in_context': [{'start': 72, 'end': 79}], 'document_ids': ['9e3c863097d66aeed9992e0b6bf1f2f4'], 'meta': {'_split_id': 4, '_split_overlap': [{'range': [0, 266], 'doc_id': '241c8775e39c6c937c67bbd10ccc471c'}, {'range': [960, 1200], 'doc_id': '87e8469dcf7354fd2a25fbd2ba07c543'}]}}>,\n",
            "             <Answer {'answer': 'King Robert', 'type': 'extractive', 'score': 0.5891163349151611, 'context': \"en refuses to yield Gendry, who is actually a bastard son of the late King Robert, to the Lannisters.  The Night's Watch convoy is overrun and massacr\", 'offsets_in_document': [{'start': 820, 'end': 831}], 'offsets_in_context': [{'start': 70, 'end': 81}], 'document_ids': ['87e8469dcf7354fd2a25fbd2ba07c543'], 'meta': {'_split_id': 5, '_split_overlap': [{'range': [0, 240], 'doc_id': '9e3c863097d66aeed9992e0b6bf1f2f4'}, {'range': [962, 1184], 'doc_id': 'c056004103e1e9eeb382381b3c776f5d'}]}}>],\n",
            " 'documents': [<Document: {'content': '== Storylines ==\\n=== Novels ===\\n==== \\'\\'A Game of Thrones\\'\\' ====\\nCoat of arms of House Stark\\n\\nArya adopts a direwolf cub, which she names Nymeria after a legendary warrior queen. She travels with her father, Eddard, to King\\'s Landing when he is made Hand of the King. Before she leaves, her half-brother Jon Snow has a smallsword made for her as a parting gift, which she names \"Needle\" after her least favorite ladylike activity.\\n\\nWhile taking a walk together, Prince Joffrey and her sister Sansa happen upon Arya and her friend, the low-born butcher apprentice Mycah, sparring in the woods with broomsticks.  Arya defends Mycah from Joffrey\\'s torments and her direwolf Nymeria helps Arya fight off Joffrey, wounding his arm in the process.  Knowing that Nymeria will likely be killed in retribution, Arya chases her wolf away; but Sansa\\'s direwolf Lady is killed in Nymeria\\'s stead and Mycah is hunted down and killed by Sandor Clegane, Joffrey\\'s bodyguard.\\n\\nIn King\\'s Landing, her father discovers Arya\\'s possession of Needle, but instead of confiscating it he arranges for fencing lessons under the Braavosi swordmaster Syrio Forel, who teaches her the style of fighting known as \"water dancing\".  ', 'content_type': 'text', 'score': 0.7666465067367613, 'meta': {'_split_id': 4, '_split_overlap': [{'range': [0, 266], 'doc_id': '241c8775e39c6c937c67bbd10ccc471c'}, {'range': [960, 1200], 'doc_id': '87e8469dcf7354fd2a25fbd2ba07c543'}]}, 'id_hash_keys': ['content'], 'embedding': None, 'id': '9e3c863097d66aeed9992e0b6bf1f2f4'}>,\n",
            "               <Document: {'content': \"She was also the future bride of Prince Joffrey, and thus the future Queen of the Seven Kingdoms as well. She names her direwolf Lady; she is the smallest of the pack and the first to die, sentenced to death by Cersei after Arya's direwolf, Nymeria, bit a violent Joffrey.\\n\\n===Arya Stark===\\nMaisie Williams\\n\\n'''Arya Stark''' portrayed by Maisie Williams. Arya Stark of House Stark is the younger daughter and third child of Lord Eddard and Catelyn Stark of Winterfell. Ever the tomboy, Arya would rather be training to use weapons than sewing with a needle. She names her direwolf Nymeria, after a legendary warrior queen.\\n\\n===Robb Stark===\\nRichard Madden\\n\\n'''Robb Stark''' (seasons 1–3) portrayed by Richard Madden. Robb Stark of House Stark is the eldest son of Eddard and Catelyn Stark and the heir to Winterfell. His dire wolf is called Grey Wind. Robb becomes involved in the war against the Lannisters after his father, Ned Stark, is arrested for treason. Robb summons his bannermen for war against House Lannister and marches to the Riverlands. Eventually, crossing the river at the Twins becomes strategically necessary. \", 'content_type': 'text', 'score': 0.7524122846680525, 'meta': {'_split_id': 17, '_split_overlap': [{'range': [0, 105], 'doc_id': 'eb88ae1b1c38780164f39d99aab5b59e'}, {'range': [962, 1128], 'doc_id': '697049b2034dc9a8e9d5ec59027af7a2'}]}, 'id_hash_keys': ['content'], 'embedding': None, 'id': '726b0655306246943c29202b25bd4733'}>,\n",
            "               <Document: {'content': 'When Rafford begs for a healer, Arya cuts his throat in the same fashion as he had killed Lommy and throws his corpse into a canal.  She heads back to perform the play, knowing this murder will most likely ruin her Mercedene identity.\\n\\n=== Family tree of House Stark ===\\n\\n=== Television series ===\\n\\nArya Stark is portrayed by English actress Maisie Williams in the television adaption of the book series, this being Williams\\' first role as an actress. Williams was chosen from among 300 actresses across England.\\nMaisie Williams plays the role of Arya Stark in the television series.\\n\\n====Season 1====\\nArya accompanies her father Ned and her sister Sansa to King\\'s Landing. Before their departure, Arya\\'s half-brother Jon Snow gifts Arya a sword which she dubs \"Needle\". On the Kingsroad, Arya is sparring with a butcher\\'s boy, Mycah, when Sansa\\'s betrothed Prince Joffrey Baratheon attacks Mycah, prompting Arya\\'s direwolf Nymeria to bite Joffrey. Arya shoos Nymeria away so she is not killed, but is furious when Sansa later refuses to support her version of events. Mycah is later killed by Joffrey\\'s bodyguard Sandor \"The Hound\" Clegane, earning him Arya\\'s hatred. ', 'content_type': 'text', 'score': 0.7474909767058237, 'meta': {'_split_id': 13, '_split_overlap': [{'range': [0, 235], 'doc_id': 'e49395627d81a9d3a1c889db7f701b4'}, {'range': [949, 1168], 'doc_id': '653abd42ad47a1f7cbb188875a8d9e25'}]}, 'id_hash_keys': ['content'], 'embedding': None, 'id': '7d3360fa29130e69ea6b2ba5c5a8f9c8'}>,\n",
            "               <Document: {'content': 'She is the most beautiful woman in Westeros at the time of the events of \"A Song of Ice and Fire\".\\n\\n==Storylines==\\nCoat of arms of House Stark\\n\\n===\\'\\'A Game of Thrones\\'\\'===\\n\\nSansa Stark begins the novel by being betrothed to Crown Prince Joffrey Baratheon, believing Joffrey to be a gallant prince. While Joffrey and Sansa are walking through the woods, Joffrey notices Arya sparring with the butcher\\'s boy, Mycah. A fight breaks out and Joffrey is attacked by Nymeria (Arya\\'s direwolf) after Joffrey threatens to hurt Arya. Sansa lies to King Robert about the circumstances of the fight in order to protect both Joffrey and her sister Arya.  Since Arya ran off with her wolf to save it, Sansa\\'s wolf is killed instead, estranging the Stark daughters.\\n\\nDuring the Tourney of the Hand to honour her father Lord Eddard Stark, Sansa Stark is enchanted by the knights performing in the event.  At the request of his mother, Queen Cersei Lannister, Joffrey spends a portion of the tourney with Sansa, but near the end he commands his guard Sandor Clegane, better known as The Hound, to take her back to her quarters. ', 'content_type': 'text', 'score': 0.7452338269957905, 'meta': {'_split_id': 3, '_split_overlap': [{'range': [0, 99], 'doc_id': '244e2a5926e7f89b5f267a9d99493c97'}, {'range': [889, 1110], 'doc_id': 'c4ea66d17668dd910673351c384d29d5'}]}, 'id_hash_keys': ['content'], 'embedding': None, 'id': 'a80ae4f1d1187bde6a34a29aeeb0837d'}>,\n",
            "               <Document: {'content': '* \\'\\'\\'Lothar Frey\\'\\'\\' (seasons 3, 6) portrayed by Tom Brooke in season 3, and by Daniel Tuite in season 6. One of Lord Walder Frey\\'s many sons, nicknamed “Lame Lothar” because of his twisted leg. He and his half-brother Black Walder are sent by their father to Riverrun to propose a marriage between Lord Edmure Tully and Roslin Frey as terms for House Frey rejoining Robb Stark\\'s campaign against the Lannisters. He is one of the first to commence the \"Red Wedding\", stabbing Talisa Stark in the womb several times and killing her and her unborn child. In the sixth season, he is ordered by Walder to retake Riverrun from Brynden Tully. Though they succeed with Lannister help, he is killed by Arya Stark, who subsequently bakes him into a pie.\\n* \\'\\'\\'Black Walder Rivers\\'\\'\\' (seasons 3, 6) portrayed by Tim Plester. One of Lord Walder Frey\\'s many bastard sons, nicknamed “Black Walder” for his dark demeanor. He and his half-brother Lame Lothar are sent by their father to Riverrun to propose a marriage between Lord Edmure Tully and Roslin Frey as terms for House Frey rejoining Robb Stark\\'s campaign against the Lannister. ', 'content_type': 'text', 'score': 0.7447136878768036, 'meta': {'_split_id': 71, '_split_overlap': [{'range': [0, 104], 'doc_id': '5be30637fd1d2937cfad37edf31a8781'}, {'range': [906, 1121], 'doc_id': '99f108411616a2bc6724f10ce4536645'}]}, 'id_hash_keys': ['content'], 'embedding': None, 'id': 'ef7ad089df4cc85d00e671a3f32153a4'}>,\n",
            "               <Document: {'content': 'In King\\'s Landing, her father discovers Arya\\'s possession of Needle, but instead of confiscating it he arranges for fencing lessons under the Braavosi swordmaster Syrio Forel, who teaches her the style of fighting known as \"water dancing\".  After her father\\'s arrest, Syrio is killed protecting her and Arya narrowly escapes capture.  She later witnesses the public execution of her father before falling under the protection of the Night\\'s Watch recruiter Yoren.\\n\\n==== \\'\\'A Clash of Kings\\'\\' ====\\nArya escapes King\\'s Landing with Yoren and his party of recruits; and on the road, she clashes with the other Night\\'s Watch child recruits Lommy, Gendry, and Hot Pie but eventually befriends them. On the way, the party is attacked by Amory Lorch when Yoren refuses to yield Gendry, who is actually a bastard son of the late King Robert, to the Lannisters.  The Night\\'s Watch convoy is overrun and massacred, but Arya and the other children escape through a tunnel.  Before escaping, she rescues three prisoners locked in a wagon cage, among them a mysterious man named Jaqen H\\'ghar.\\n\\nArya and her friends are later captured by Ser Gregor Clegane and taken to Harrenhal as slave laborers.  ', 'content_type': 'text', 'score': 0.740692558914948, 'meta': {'_split_id': 5, '_split_overlap': [{'range': [0, 240], 'doc_id': '9e3c863097d66aeed9992e0b6bf1f2f4'}, {'range': [962, 1184], 'doc_id': 'c056004103e1e9eeb382381b3c776f5d'}]}, 'id_hash_keys': ['content'], 'embedding': None, 'id': '87e8469dcf7354fd2a25fbd2ba07c543'}>,\n",
            "               <Document: {'content': \"===On the Iron Islands===\\nReturning to his homeland, Theon Greyjoy tries to seduce a young woman, Yara. At Pyke, Theon presents his father Balon with Robb's offer that will make Balon King of the Iron Islands. Balon refuses, wishing to take his crown with Yara, revealed to be Theon's sister, at the helm of his fleet. Theon realises Balon's intention is to take the North for himself.\\n\\n===In the Red Waste===\\nRakharo's horse returns to Daenerys Targaryen's camp carrying his severed head, which Ser Jorah Mormont explains is a message from another khal, and Daenerys vows revenge.\\n\\n===On the Kingsroad===\\nCity Watchmen search the caravan for Gendry but are turned away by Yoren. Gendry tells Arya Stark that he knows she is a girl, and she reveals she is actually Arya Stark after learning that her father met Gendry before he was executed.\\n\\n===At Craster's Keep===\\nSamwell Tarly asks Jon Snow about taking Gilly, one of Craster's daughter-wives, with them but Jon refuses. Gilly is pregnant, and Jon wonders what happens to Craster's sons. That night, Jon follows Craster taking a newborn child into the woods, and sees a White Walker retrieve the baby, but Craster knocks Jon unconscious.\\n\\n\", 'content_type': 'text', 'score': 0.7354745312879696, 'meta': {'_split_id': 2, '_split_overlap': [{'range': [0, 209], 'doc_id': '6b872bd2585cd63b097ec40a38d4933f'}, {'range': [1042, 1192], 'doc_id': 'b89b1728d37d3eb4af9dc978160c12f8'}]}, 'id_hash_keys': ['content'], 'embedding': None, 'id': '8a495456ded3ab7e15cd66c6d3ca82ad'}>,\n",
            "               <Document: {'content': 'Tyrion is consigned to the Eyrie\\'s \"sky cells\" while Lysa prepares to pass judgment on him as an accomplice in her husband\\'s murder.\\n\\n===In the North===\\nAt Winterfell, Theon Greyjoy grows jealous of Tyrion after his favorite prostitute Ros taunts him. To take Bran\\'s mind off his paralysis and his mother\\'s departure, Maester Luwin teaches him the Dothraki art of horseback archery.\\n\\n===In King\\'s Landing===\\nAfter Ned Stark convinces King Robert not to join the tourney, the crowd watches the fearsome Ser Gregor \"The Mountain\" Clegane joust with Ser Loras Tyrell, the \"Knight of Flowers\", who wins by riding a mare in heat, distracting Clegane\\'s stallion. Clegane beheads his horse and attempts to kill Loras, but Sandor \"The Hound\" Clegane intervenes.\\n\\nVarys reveals to Ned that Jon Arryn was killed by a poison called the \"Tears of Lys\", and suggests that Arryn\\'s slain squire Ser Hugh of the Vale was the poisoner.\\n\\nIn training, Arya chases a cat through the Red Keep and overhears a conversation between Varys and Illyrio, who appear to be plotting against the throne. Arya tries to warn her father but is unable to identify the plotters. ', 'content_type': 'text', 'score': 0.7350875083806473, 'meta': {'_split_id': 2, '_split_overlap': [{'range': [0, 133], 'doc_id': '252cf0165e96af9e18d23e3796c36857'}, {'range': [920, 1143], 'doc_id': 'cf9e6741ebdb92e03e9d4d15634b8592'}]}, 'id_hash_keys': ['content'], 'embedding': None, 'id': '1d850d17893da5959cd677e4d82c144'}>,\n",
            "               <Document: {'content': '\"Asha\" is portrayed as a fairly provocative and independent woman, a captain of thirty ships, as opposed to her television counterpart Yara, who did not retain \"Asha\\'s\" traits, although her rivalry with Theon remained intact. Their father Balon Greyjoy was played by Patrick Malahide. Many of the characters involved in the Greyjoys\\' storyline weren\\'t introduced, most notably Balon\\'s brother Aeron Greyjoy. Nonetheless, the storyline received enormous praise, with the alteration of Yara\\'s name and persona being the only criticism.\\n\\nTom Wlaschiha is cast as Jaqen H\\'ghar, a mysterious prisoner who develops a murderous relationship with young Arya Stark (Maisie Williams). Wlaschiha\\'s pronunciation of his character\\'s name, \\'\\'Jack-in\\'\\', was adopted for use in the show. Natalie Dormer, best known for her portrayal as seductive Anne Boleyn in Showtime\\'s \\'\\'The Tudors\\'\\', was cast in a similar role as Margaery Tyrell, a noblewoman and the wife of the third claimant to the throne, Renly Baratheon. Gwendoline Christie played, to much praise, Brienne of Tarth, a female warrior who joins Renly Baratheon\\'s guard, but later becomes a follower of Catelyn Stark. To prepare for the role, Christie took up an intense training regimen, adding over a stone (6.4\\xa0kg) of muscle mass. ', 'content_type': 'text', 'score': 0.7348211242262005, 'meta': {'_split_id': 8, '_split_overlap': [{'range': [0, 284], 'doc_id': 'fb9fcfcfc15f4cc93dd8fc9718cf6d26'}, {'range': [1160, 1275], 'doc_id': 'b222d5c242e652f9e916e806aa358e42'}]}, 'id_hash_keys': ['content'], 'embedding': None, 'id': '937a3c260025a30112a7a29da8d1d242'}>,\n",
            "               <Document: {'content': \"Decades before the events of ''A Game of Thrones'', he was sent to the Citadel in Oldtown on the orders of his grandfather Daeron II, who felt there were too many Targaryens, and became a Maester (one of an order of scholars and healers). He was later offered the throne of the Seven Kingdoms after the death of his father Maekar, but ceded the rule to Aegon and joined the Night's Watch. By ''A Game of Thrones'', he is elderly and blind, but provides guidance to the men of the Watch. In ''A Feast for Crows'', Jon Snow sends him to the Citadel by sea, but Maester Aemon dies on the voyage between Braavos and Oldtown.\\n\\nIn the HBO television adaptation, he is portrayed by Peter Vaughan.\\n\\n=== Yoren ===\\nYoren is a recruiter of the Night's Watch. In ''A Game of Thrones'' Yoren travels with Tyrion Lannister from the Wall to King's Landing, and is present when Tyrion is arrested by Catelyn Stark. He then races to King's Landing to inform Eddard Stark. During Lord Eddard's execution, he finds Arya Stark and shields her from seeing her father's death. \", 'content_type': 'text', 'score': 0.7310199917885002, 'meta': {'_split_id': 91, '_split_overlap': [{'range': [0, 238], 'doc_id': 'f916c6de28e6deff0553506c9028ab28'}, {'range': [899, 1054], 'doc_id': '89ca63d9986390e978146fc69f289170'}]}, 'id_hash_keys': ['content'], 'embedding': None, 'id': '1a134f1ce82ea118cb873dfd9ba090e2'}>],\n",
            " 'no_ans_gap': 11.405390739440918,\n",
            " 'node_id': 'Reader',\n",
            " 'params': {'Reader': {'top_k': 5}, 'Retriever': {'top_k': 10}},\n",
            " 'query': 'Who is the father of Arya Stark?',\n",
            " 'root_node': 'Query'}\n"
          ]
        }
      ]
    },
    {
      "cell_type": "code",
      "source": [
        "from haystack.utils import print_answers\n",
        "\n",
        "print_answers(prediction, details=\"minimum\")  ## Choose from `minimum`, `medium` and `all`\n"
      ],
      "metadata": {
        "colab": {
          "base_uri": "https://localhost:8080/"
        },
        "id": "68297fePSlH-",
        "outputId": "d3b95751-1d39-42aa-c38f-a7a8d74795d5"
      },
      "execution_count": 20,
      "outputs": [
        {
          "output_type": "stream",
          "name": "stdout",
          "text": [
            "'Query: Who is the father of Arya Stark?'\n",
            "'Answers:'\n",
            "[   {   'answer': 'Eddard',\n",
            "        'context': 's Nymeria after a legendary warrior queen. She travels '\n",
            "                   \"with her father, Eddard, to King's Landing when he is made \"\n",
            "                   'Hand of the King. Before she leaves,'},\n",
            "    {   'answer': 'Ned',\n",
            "        'context': 'k in the television series.\\n'\n",
            "                   '\\n'\n",
            "                   '====Season 1====\\n'\n",
            "                   'Arya accompanies her father Ned and her sister Sansa to '\n",
            "                   \"King's Landing. Before their departure, Arya's h\"},\n",
            "    {   'answer': 'Lord Eddard Stark',\n",
            "        'context': 'rk daughters.\\n'\n",
            "                   '\\n'\n",
            "                   'During the Tourney of the Hand to honour her father Lord '\n",
            "                   'Eddard Stark, Sansa Stark is enchanted by the knights '\n",
            "                   'performing in the event.'},\n",
            "    {   'answer': 'Joffrey',\n",
            "        'context': 'Mycah, sparring in the woods with broomsticks.  Arya '\n",
            "                   \"defends Mycah from Joffrey's torments and her direwolf \"\n",
            "                   'Nymeria helps Arya fight off Joffrey, woun'},\n",
            "    {   'answer': 'King Robert',\n",
            "        'context': 'en refuses to yield Gendry, who is actually a bastard son '\n",
            "                   \"of the late King Robert, to the Lannisters.  The Night's \"\n",
            "                   'Watch convoy is overrun and massacr'}]\n"
          ]
        }
      ]
    },
    {
      "cell_type": "code",
      "source": [
        "pprint(querying_pipeline.run(\n",
        "    query=\"Where does Arya Stark live in?\", params={\"Retriever\": {\"top_k\": 10}, \"Reader\": {\"top_k\": 5}}\n",
        "))"
      ],
      "metadata": {
        "colab": {
          "base_uri": "https://localhost:8080/"
        },
        "id": "m9x2CRo9SnuV",
        "outputId": "905d3123-a03d-4a19-cf9b-cf1af77e36df"
      },
      "execution_count": 26,
      "outputs": [
        {
          "output_type": "stream",
          "name": "stderr",
          "text": [
            "Inferencing Samples: 100%|██████████| 1/1 [00:00<00:00, 12.45 Batches/s]"
          ]
        },
        {
          "output_type": "stream",
          "name": "stdout",
          "text": [
            "{'answers': [<Answer {'answer': 'Winterfell', 'type': 'extractive', 'score': 0.628581702709198, 'context': \"Stark is the oldest son of Eddard and Catelyn Stark's and the heir to Winterfell. His direwolf is called Grey Wind. Robb becomes involved in the war a\", 'offsets_in_document': [{'start': 689, 'end': 699}], 'offsets_in_context': [{'start': 70, 'end': 80}], 'document_ids': ['7ed7e4c40c15696ac06c27c8dcc77684'], 'meta': {'_split_id': 10, '_split_overlap': [{'range': [0, 175], 'doc_id': '2629f39cb972aea6477868dbcf9e79f6'}, {'range': [935, 1106], 'doc_id': 'a5fa1d00b634d3cdda5a8997d5020cb9'}]}}>,\n",
            "             <Answer {'answer': 'In the Riverlands', 'type': 'extractive', 'score': 0.41520828008651733, 'context': '==Plot==\\n\\n===In the Riverlands===\\nDisguised as Walder Frey, Arya Stark kills all the men of House Frey with poisoned wine, avenging the Red Wedding (\"', 'offsets_in_document': [{'start': 13, 'end': 30}], 'offsets_in_context': [{'start': 13, 'end': 30}], 'document_ids': ['62d97b0c10519dc27777ae58a42393c5'], 'meta': {'_split_id': 1, '_split_overlap': [{'range': [0, 284], 'doc_id': '18d7ae08f457da5b94e06fb7595b9632'}, {'range': [1031, 1164], 'doc_id': '5a47ebc4dcaee7fad25533d11b90c4ee'}]}}>,\n",
            "             <Answer {'answer': 'catacombs', 'type': 'extractive', 'score': 0.3235298991203308, 'context': 'because it\\'s a smaller environment, when they\\'re running around in the catacombs.\"==Credits and personnel==\\nPersonnel adapted from the album liner not', 'offsets_in_document': [{'start': 697, 'end': 706}], 'offsets_in_context': [{'start': 71, 'end': 80}], 'document_ids': ['988fc448e24d85bd87dcf5ea3572e82b'], 'meta': {'_split_id': 3, '_split_overlap': [{'range': [0, 140], 'doc_id': 'de1125d197f81839dbd845901bea7414'}, {'range': [1007, 1184], 'doc_id': 'd6b637002ac38897140234e82a4f7144'}]}}>,\n",
            "             <Answer {'answer': 'Braavos', 'type': 'extractive', 'score': 0.2838214635848999, 'context': \"ive out their lives in Vaes Dothrak, the Dothraki's sacred city.\\n\\n===In Braavos===\\nArya Stark, now blinded, is sent to beg on the streets. The Waif su\", 'offsets_in_document': [{'start': 797, 'end': 804}], 'offsets_in_context': [{'start': 72, 'end': 79}], 'document_ids': ['35ededa05ad4782ad219f51965c41e16'], 'meta': {'_split_id': 4, '_split_overlap': [{'range': [0, 162], 'doc_id': '4563c705212d754d5e15932f5456f84d'}, {'range': [864, 1039], 'doc_id': '54a70562b07691abd4865bc67c96e6b4'}]}}>,\n",
            "             <Answer {'answer': 'Vaes Dothrak', 'type': 'extractive', 'score': 0.13793408870697021, 'context': \"es to let her leave, as widows of Khals must live out their lives in Vaes Dothrak, the Dothraki's sacred city.\\n\\n===In Braavos===\\nArya Stark, now blind\", 'offsets_in_document': [{'start': 748, 'end': 760}], 'offsets_in_context': [{'start': 69, 'end': 81}], 'document_ids': ['35ededa05ad4782ad219f51965c41e16'], 'meta': {'_split_id': 4, '_split_overlap': [{'range': [0, 162], 'doc_id': '4563c705212d754d5e15932f5456f84d'}, {'range': [864, 1039], 'doc_id': '54a70562b07691abd4865bc67c96e6b4'}]}}>],\n",
            " 'documents': [<Document: {'content': 'James Poniewozik comments in \\'\\'TIME\\'\\', on Madden\\'s performance in \"The Pointy End\": \"both the script and Richard Madden show in deft, quick strokes how the crisis focuses him. (This is another case where having a live actor does a better job of showing a transition that seemed more abrupt in the book.)\"Madden said that he learned that the character would be killed off early on but otherwise read the books season by season, focusing primarily on the scripts: \"I\\'m, as an actor, forced to bend the path I put Robb on and change it and keep the surprises coming. Hopefully, I managed to do that.\"===Storylines===\\nRobb Stark is the oldest son of Eddard and Catelyn Stark\\'s and the heir to Winterfell. His direwolf is called Grey Wind. Robb becomes involved in the war against the Lannisters after his father, Ned Stark, is arrested for treason. Robb summons his bannermen for war against House Lannister and marches to the Riverlands. Eventually, crossing the river at the Twins becomes strategically necessary. To win permission to cross, Robb agrees to marry a daughter of Walder Frey, Lord of the Twins. ', 'content_type': 'text', 'score': 0.7803259739628786, 'meta': {'_split_id': 10, '_split_overlap': [{'range': [0, 175], 'doc_id': '2629f39cb972aea6477868dbcf9e79f6'}, {'range': [935, 1106], 'doc_id': 'a5fa1d00b634d3cdda5a8997d5020cb9'}]}, 'id_hash_keys': ['content'], 'embedding': None, 'id': '7ed7e4c40c15696ac06c27c8dcc77684'}>,\n",
            "               <Document: {'content': 'Contrary to most conventional epic fantasies, the characters of \\'\\'A Song of Ice and Fire\\'\\' are vulnerable so that, according to \\'\\'The Atlantic\\'\\', the reader \"cannot be sure that good shall triumph, which makes those instances where it does all the more exulting.\"Martin gets emotionally involved in the characters\\' lives during writing, which makes the chapters with dreadful events sometimes very difficult to write. Seeing the world through the characters\\' eyes requires a certain amount of empathy with them, including the villains, all of whom he has said he loves as if they were his own children. Martin found that some characters had minds of their own and took his writing in different directions. He returns to the intended story if it does not work out, but these detours sometimes prove more rewarding for him.\\n\\nArya Stark, Tyrion Lannister, Jon Snow, and Daenerys Targaryen generate the most feedback from readers. Martin has stated that Tyrion is his personal favorite, as the grayest of the gray characters, with his cunning and wit making him the most fun to write. Martin has also said that Bran Stark is the hardest character to write. ', 'content_type': 'text', 'score': 0.7707242315215297, 'meta': {'_split_id': 42, '_split_overlap': [{'range': [0, 262], 'doc_id': 'c0d6a0fa783eade89c1e6fbd6bc38db7'}, {'range': [927, 1152], 'doc_id': '1b80b277fc816a8cd5443294ead612bc'}]}, 'id_hash_keys': ['content'], 'embedding': None, 'id': 'f99f8c875d0a54e58fd0f9398e3b7bd4'}>,\n",
            "               <Document: {'content': '==Plot==\\n\\n===In the Riverlands===\\nDisguised as Walder Frey, Arya Stark kills all the men of House Frey with poisoned wine, avenging the Red Wedding (\"The Rains of Castamere\"). Arya proceeds south to assassinate Queen Cersei Lannister, and makes camp with friendly Lannister soldiers.\\n\\nSandor Clegane and the Brotherhood without Banners take shelter in the farm Sandor once robbed (\"Breaker of Chains\"); the farmer and his daughter are long dead inside. Beric Dondarrion admits he does not know why he has been repeatedly resurrected. Thoros of Myr shows Sandor a vision in the flames of White Walkers at a point where the Wall meets the sea. At night, Sandor buries the bodies. Discovering him, Thoros helps.\\n\\n===Beyond the Wall===\\nBran Stark and Meera Reed arrive at the Wall. Eddison Tollett lets them in. Meanwhile, the White Walkers and wights march south.\\n\\n===At Winterfell===\\nDespite Sansa Stark\\'s objections, Jon Snow forgives Alys Karstark and Ned Umber for their fathers\\' betrayals, and they swear loyalty to House Stark. Jon orders Tormund Giantsbane and the wildlings to fortify the Wall at Eastwatch-by-the-Sea, and all Northerners to train for battle. ', 'content_type': 'text', 'score': 0.7692785519817205, 'meta': {'_split_id': 1, '_split_overlap': [{'range': [0, 284], 'doc_id': '18d7ae08f457da5b94e06fb7595b9632'}, {'range': [1031, 1164], 'doc_id': '5a47ebc4dcaee7fad25533d11b90c4ee'}]}, 'id_hash_keys': ['content'], 'embedding': None, 'id': '62d97b0c10519dc27777ae58a42393c5'}>,\n",
            "               <Document: {'content': 'While wary at first, the dragons do not attack Tyrion and allow him to undo their shackles before retreating deeper into the dungeon.\\n\\n===In Braavos===\\nArya continues to train blind with The Waif, but still performs poorly in her duels. After one particular defeat, Arya is surprised when Jaqen H\\'ghar, whom she has not encountered for a while, appears and attempts to tempt her with food, bedding, and the return of her vision. Arya refuses all of Jaqen\\'s offers, and Jaqen tells Arya to follow him, telling her she no longer needs to live as a beggar on the streets.\\n\\n===Beyond the Wall===\\nBran Stark continues his training with the Three-eyed Raven. He witnesses a vision of a young Eddard, Benjen, and Lyanna Stark training together in Winterfell, and also learns Hodor\\'s real name, Wylis. However, the Three-eyed Raven pulls Bran out of the memory, warning him that he risks \"drowning\" in old memories. Outside the cave, Meera Reed stands watch aimlessly, though Leaf, the Child of the Forest assisting them, remarks that Bran will soon need Meera\\'s help when he is able to better use his visions.\\n\\n', 'content_type': 'text', 'score': 0.7441865690853839, 'meta': {'_split_id': 3, '_split_overlap': [{'range': [0, 134], 'doc_id': '6cbb588e1552f2475fd959dc0954a871'}, {'range': [908, 1103], 'doc_id': 'fdc11ba6e72eccfbdf50cedd58fa147a'}]}, 'id_hash_keys': ['content'], 'embedding': None, 'id': '260ececeac1e4862e3da89122a6000ae'}>,\n",
            "               <Document: {'content': \"The two discover that someone has set fire to all of the ships in Meereen's harbor, and Tyrion realizes that Daenerys' forces will be unable to sail to Westeros.\\n\\n===In the Dothraki Sea===\\nDaario Naharis and Jorah Mormont continue to trace Daenerys' location. Jorah takes a moment to observe his worsening greyscale. They discover her ring in the middle of thousands of hoof-prints, deducing that she has been taken by the Dothraki.\\n\\nDaenerys is presented to Khal Moro, who has taken her prisoner. Moro initially wishes to rape her, but treats her with respect after Daenerys explains that she was Khal Drogo's wife. Daenerys asks Moro to escort her back to Meereen, but he refuses to let her leave, as widows of Khals must live out their lives in Vaes Dothrak, the Dothraki's sacred city.\\n\\n===In Braavos===\\nArya Stark, now blinded, is sent to beg on the streets. The Waif suddenly appears and forces Arya to duel her using a wooden staff. Arya fails because of her blindness, and the Waif promises that she will return the following day.\\n\\n\", 'content_type': 'text', 'score': 0.7321399663580003, 'meta': {'_split_id': 4, '_split_overlap': [{'range': [0, 162], 'doc_id': '4563c705212d754d5e15932f5456f84d'}, {'range': [864, 1039], 'doc_id': '54a70562b07691abd4865bc67c96e6b4'}]}, 'id_hash_keys': ['content'], 'embedding': None, 'id': '35ededa05ad4782ad219f51965c41e16'}>,\n",
            "               <Document: {'content': \"Sansa tells Margaery that Cersei will not allow her to leave King's Landing, and Margaery says she would see Sansa wed to Ser Loras.\\n\\n===In the North===\\nBran dreams of chasing the three-eyed raven through the woods with Jojen, and climbs a tree in pursuit of the raven, but falls when Catelyn appears.\\n\\nArriving at what he believes is Deepwood Motte, Theon explains to his rescuer that he never killed the Stark boys, having Dagmer Cleftjaw burn two orphans instead, and reveals his remorse, declaring Eddard Stark was his true father. Theon then realises he has been taken back to the dungeon from which he escaped and is subdued by the guards, to the boy's amusement.\\n\\n===In the Riverlands===\\nLocke and his men taunt Jaime for the loss of his sword hand, and quickly beat him when he tries to attack. Brienne chastises Jaime for wanting to die, telling him to live and take revenge.\\n\\nArya, Gendry, and the Hound are taken to the Brotherhood's leader, Lord Beric Dondarrion. He calls the Hound a murderer, and Arya and the Hound argue over his execution of Mycah. Dondarrion sentences the Hound to face him in trial by combat.\\n\\n\", 'content_type': 'text', 'score': 0.7297611221443331, 'meta': {'_split_id': 1, '_split_overlap': [{'range': [0, 133], 'doc_id': '49ee44018e8b5678344aa627f683e89a'}, {'range': [976, 1128], 'doc_id': 'cbf8d51fa4d6234ea9756a3a4e51cf18'}]}, 'id_hash_keys': ['content'], 'embedding': None, 'id': '5d931c1c3e6aee8aee5625fb2a2ac86e'}>,\n",
            "               <Document: {'content': \"He also mentored her on how to move and think like a warrior: to be perceptive, move with grace, and command her fear. After Eddard Stark's arrest, Cersei Lannister sends men to capture Arya. Syrio orders Arya to run while he holds them off with only a wooden practice sword. He defeats five guardsmen but cannot bring down the armored Meryn Trant, who cuts his practice sword in half. Arya escapes. The fate of Syrio after that is unknown.\\n\\n===Royal court and officials===\\n* '''Qyburn''' (seasons 3–8) portrayed by Anton Lesser, Anton Lesser is an ex-maester who was found by Robb Stark at Harrenhal. He becomes a servant of Roose Bolton. Qyburn lost his title as a maester when he was caught performing human experiments on live patients. Qyburn justifies his actions for the sake of medical knowledge. He tends to Jaime after the latter loses his right hand and travels with him to King's Landing in the hope of having his title restored. In season 4, Qyburn cures Jaime of infection, allowing the skin to heal fully and has a solid gold hand forged for him, earning him Cersei's respect and gratitude. \", 'content_type': 'text', 'score': 0.7261607517587443, 'meta': {'_split_id': 165, '_split_overlap': [{'range': [0, 118], 'doc_id': 'dbe7c8edc47cd4630c0aaba41fca756a'}, {'range': [942, 1105], 'doc_id': '6e4a94df16b4c6533fbf614a743cd413'}]}, 'id_hash_keys': ['content'], 'embedding': None, 'id': 'af25fa0b29db675272103042f2b9d2a'}>,\n",
            "               <Document: {'content': 'Obviously the picture is guiding me, so I have to pull back and break away from it. I couldn\\'t keep it as a passacaglia all the way through. But there are definitely moments where it defaults to that.\"==Composition==\\n\"Light of the Seven\" has a duration of approximately ten minutes. When Djawadi originally composed the piece, he intended at first to make it a passacaglia. The instrumentation of \"Light of the Seven\" consists of piano, organ, strings and two boy soloists. On why he decided to use two young soloists instead of a full choir, Djawadi said, \"I felt that two of them were more haunting than using a full choir, because it\\'s a smaller environment, when they\\'re running around in the catacombs.\"==Credits and personnel==\\nPersonnel adapted from the album liner notes.\\n\\n* Ramin Djawadi – composer, primary artist, producer\\n\\n* David Benioff – liner notes\\n* D.B. Weiss – liner notes\\n\\n==Live performances==\\nDjawadi performing \"Light of the Seven\" at the \\'\\'Game of Thrones Live Concert Experience\\'\\'.\\nDjawadi has performed the piece with a live orchestra at the Game of Thrones Live Concert Experience, which consisted of 24 dates in cities across the United States and Canada.\\n\\n', 'content_type': 'text', 'score': 0.7241980362129684, 'meta': {'_split_id': 3, '_split_overlap': [{'range': [0, 140], 'doc_id': 'de1125d197f81839dbd845901bea7414'}, {'range': [1007, 1184], 'doc_id': 'd6b637002ac38897140234e82a4f7144'}]}, 'id_hash_keys': ['content'], 'embedding': None, 'id': '988fc448e24d85bd87dcf5ea3572e82b'}>,\n",
            "               <Document: {'content': \"Arya declines, as she does not want the life of a lady. Sansa and Arya tell Jon they don't trust Daenerys, but Jon defends her. Arya learns that Jon is the son of her aunt, Lyanna Stark, and Rhaegar Targaryen after Jon swears her and Sansa to secrecy about his true parentage.\\n\\nArya journeys south to King's Landing with the Hound to kill Cersei. The two infiltrate the Red Keep with the civilians Cersei is using to deter Daenerys' attack. Despite the city's surrender to Daenerys, she begins laying waste to the populace atop of Drogon. In his mission for revenge against his brother, the Mountain, the Hound seeks out the Mountain but urges Arya to leave and give up her quest for revenge to avoid a life consumed by it. Arya thanks the Hound, calling him by his name for the first time. She tries and fails to save the smallfolk, narrowly avoiding being incinerated in Daenerys' attack on the city, but survives. In the aftermath, Arya is reunited with Jon and warns him that he and the Starks are not safe from Daenerys. Jon tries but is unable to dissuade Daenerys from further destruction and ultimately assassinates her. \", 'content_type': 'text', 'score': 0.7227199507148546, 'meta': {'_split_id': 24, '_split_overlap': [{'range': [0, 127], 'doc_id': '55fce0bae27399698c83660b2e71f73d'}, {'range': [917, 1128], 'doc_id': '72e41afea1c6b39ced79fc284412bc5d'}]}, 'id_hash_keys': ['content'], 'embedding': None, 'id': '9330c95be4f0d26e8e31509973519c34'}>,\n",
            "               <Document: {'content': \"Hot Pie and Arya survive the attack on Yoren's band by Ser Amory Lorch, along with Gendry and Lommy Greenhands. They are later captured by soldiers of Ser Gregor Clegane, who kill Lommy. Like Arya, Hot Pie is made a servant at Harrenhal, in the kitchens. He escapes Harrenhal with Arya and Gendry and head to Riverrun. On the way, they are captured by the Brotherhood Without Banners, Hot Pie decides to stay at a local Inn to become a cook. In season 4, Hot Pie meets Brienne of Tarth and Podrick Payne on their journey to find Sansa Stark and tells them that Arya is likely still alive. Then when Arya passes through in season 7 he is able to give her the news that Jon Snow has retaken Winterfell.\\n* '''Septa Unella''' (seasons 5–6) portrayed by Hannah Waddingham, Hannah Waddingham Unella is a Septa of the Faith of the Seven and a devoted follower of the High Sparrow. She throws Cersei into a cell beneath the Sept of Baelor and repeatedly commands her to confess her sins. When Cersei finally does, Unella and some septas wash Cersei and cut off most of her hair. \", 'content_type': 'text', 'score': 0.7223045791307873, 'meta': {'_split_id': 157, '_split_overlap': [{'range': [0, 111], 'doc_id': 'e8deef78058978eaf6ccd32ee048c8c'}, {'range': [874, 1070], 'doc_id': '4a9f34785cdf56dea18afb4cb4f7b94e'}]}, 'id_hash_keys': ['content'], 'embedding': None, 'id': 'c0528f326ce5fe38a5e7a07f7e234cc6'}>],\n",
            " 'no_ans_gap': 1.3420963287353516,\n",
            " 'node_id': 'Reader',\n",
            " 'params': {'Reader': {'top_k': 5}, 'Retriever': {'top_k': 10}},\n",
            " 'query': 'Where does Arya Stark live in?',\n",
            " 'root_node': 'Query'}\n"
          ]
        },
        {
          "output_type": "stream",
          "name": "stderr",
          "text": [
            "\n"
          ]
        }
      ]
    },
    {
      "cell_type": "code",
      "source": [],
      "metadata": {
        "id": "6V1u2-lYSwdk"
      },
      "execution_count": null,
      "outputs": []
    }
  ]
}