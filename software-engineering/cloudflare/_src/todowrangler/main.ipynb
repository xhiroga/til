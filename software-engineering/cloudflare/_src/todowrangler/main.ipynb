{
 "cells": [
  {
   "cell_type": "code",
   "execution_count": 13,
   "metadata": {
    "vscode": {
     "languageId": "shellscript"
    }
   },
   "outputs": [
    {
     "name": "stdout",
     "output_type": "stream",
     "text": [
      "Delegating to locally-installed wrangler@2.17.0 over global wrangler@2.17.0...\n",
      "Run `npx wrangler kv:namespace create TODO_WRANGLER` to use the local version directly.\n",
      "\n",
      " ⛅️ wrangler 2.17.0 \n",
      "\u001b[38;2;255;136;0m--------------------\u001b[39m\n",
      "🌀 Creating namespace with title \"todowrangler-TODO_WRANGLER\"\n",
      "✨ Success!\n",
      "Add the following to your configuration file in your kv_namespaces array:\n",
      "{ binding = \"TODO_WRANGLER\", id = \"d637532f844a413fa4dbd7cab5395663\" }\n"
     ]
    }
   ],
   "source": [
    "!wrangler kv:namespace create \"TODO_WRANGLER\""
   ]
  },
  {
   "cell_type": "code",
   "execution_count": 1,
   "metadata": {
    "vscode": {
     "languageId": "shellscript"
    }
   },
   "outputs": [
    {
     "name": "stdout",
     "output_type": "stream",
     "text": [
      "Delegating to locally-installed wrangler@2.17.0 over global wrangler@2.17.0...\n",
      "Run `npx wrangler publish` to use the local version directly.\n",
      "\n",
      " ⛅️ wrangler 2.17.0 \n",
      "\u001b[38;2;255;136;0m--------------------\u001b[39m\n",
      "Your worker has access to the following bindings:\n",
      "- KV Namespaces:\n",
      "  - TODO_WRANGLER: d637532f844a413fa4dbd7cab5395663\n",
      "Total Upload: 0.32 KiB / gzip: 0.24 KiB\n",
      "Uploaded todowrangler (0.76 sec)\n",
      "Published todowrangler (0.49 sec)\n",
      "  https://todowrangler.hiroga10301054.workers.dev\n",
      "Current Deployment ID: 648f8137-5c97-488e-be64-b0498f3953ce\n"
     ]
    }
   ],
   "source": [
    "!wrangler publish"
   ]
  },
  {
   "cell_type": "code",
   "execution_count": 14,
   "metadata": {
    "vscode": {
     "languageId": "shellscript"
    }
   },
   "outputs": [
    {
     "name": "stdout",
     "output_type": "stream",
     "text": [
      "Delegating to locally-installed wrangler@2.17.0 over global wrangler@2.17.0...\n",
      "Run `npx wrangler kv:key put --binding=TODO_WRANGLER test data from wrangler` to use the local version directly.\n",
      "\n",
      " ⛅️ wrangler 2.17.0 \n",
      "\u001b[38;2;255;136;0m--------------------\u001b[39m\n",
      "Writing the value \"data from wrangler\" to key \"test\" on namespace d637532f844a413fa4dbd7cab5395663.\n"
     ]
    }
   ],
   "source": [
    "!wrangler kv:key put --binding=TODO_WRANGLER \"test\" \"data from wrangler\""
   ]
  },
  {
   "cell_type": "code",
   "execution_count": 15,
   "metadata": {
    "vscode": {
     "languageId": "shellscript"
    }
   },
   "outputs": [
    {
     "name": "stdout",
     "output_type": "stream",
     "text": [
      "Delegating to locally-installed wrangler@2.17.0 over global wrangler@2.17.0...\n",
      "Run `npx wrangler kv:key get --binding=TODO_WRANGLER test` to use the local version directly.\n",
      "\n",
      "data from wrangler"
     ]
    }
   ],
   "source": [
    "!wrangler kv:key get --binding=TODO_WRANGLER \"test\""
   ]
  },
  {
   "cell_type": "code",
   "execution_count": 3,
   "metadata": {
    "vscode": {
     "languageId": "shellscript"
    }
   },
   "outputs": [
    {
     "name": "stdout",
     "output_type": "stream",
     "text": [
      "Delegating to locally-installed wrangler@2.17.0 over global wrangler@2.17.0...\n",
      "Run `npx wrangler delete` to use the local version directly.\n",
      "\n",
      " ⛅️ wrangler 2.17.0 \n",
      "\u001b[38;2;255;136;0m--------------------\u001b[39m\n",
      "? Are you sure you want to delete todowrangler? This action cannot be undone.\n",
      "🤖 \u001b[2mUsing default value in non-interactive context:\u001b[22m \u001b[37m\u001b[1myes\u001b[22m\u001b[39m\n",
      "Successfully deleted todowrangler\n"
     ]
    }
   ],
   "source": [
    "!echo Y | wrangler delete"
   ]
  }
 ],
 "metadata": {
  "kernelspec": {
   "display_name": "Python 3",
   "language": "python",
   "name": "python3"
  },
  "language_info": {
   "codemirror_mode": {
    "name": "ipython",
    "version": 3
   },
   "file_extension": ".py",
   "mimetype": "text/x-python",
   "name": "python",
   "nbconvert_exporter": "python",
   "pygments_lexer": "ipython3",
   "version": "3.11.2"
  },
  "orig_nbformat": 4
 },
 "nbformat": 4,
 "nbformat_minor": 2
}
