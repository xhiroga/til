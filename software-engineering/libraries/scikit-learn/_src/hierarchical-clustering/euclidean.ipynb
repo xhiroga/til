{
 "cells": [
  {
   "cell_type": "markdown",
   "metadata": {},
   "source": [
    "Copied from [Scikit\\-learnを用いた階層的クラスタリング \\(Hierarchical clustering\\)の解説 – S\\-Analysis](https://data-analysis-stats.jp/%E6%A9%9F%E6%A2%B0%E5%AD%A6%E7%BF%92/scikit-learn%E3%82%92%E7%94%A8%E3%81%84%E3%81%9F%E9%9A%8E%E5%B1%A4%E7%9A%84%E3%82%AF%E3%83%A9%E3%82%B9%E3%82%BF%E3%83%AA%E3%83%B3%E3%82%B0-hierarchical-clustering%E3%81%AE%E8%A7%A3%E8%AA%AC/)"
   ]
  },
  {
   "cell_type": "code",
   "execution_count": 1,
   "metadata": {},
   "outputs": [
    {
     "data": {
      "image/png": "[encoded data removed]",
      "text/plain": [
       "<Figure size 432x288 with 1 Axes>"
      ]
     },
     "metadata": {
      "needs_background": "light"
     },
     "output_type": "display_data"
    }
   ],
   "source": [
    "import numpy as np\n",
    "from matplotlib import pyplot as plt\n",
    "from scipy.cluster.hierarchy import dendrogram\n",
    "from sklearn.datasets import load_iris\n",
    "from sklearn.cluster import AgglomerativeClustering\n",
    "\n",
    "iris = load_iris()\n",
    "X = iris.data\n",
    "\n",
    "def plot_dendrogram(model: AgglomerativeClustering, **kwargs):\n",
    "   # Create linkage matrix and then plot the dendrogram\n",
    "\n",
    "   # create the counts of samples under each node\n",
    "   counts = np.zeros(model.children_.shape[0])\n",
    "   n_samples = len(model.labels_)\n",
    "   for i, merge in enumerate(model.children_):\n",
    "      current_count = 0\n",
    "      for child_idx in merge:\n",
    "         if child_idx < n_samples:\n",
    "            current_count += 1 # leaf node\n",
    "         else:\n",
    "            current_count += counts[child_idx - n_samples]\n",
    "      counts[i] = current_count\n",
    "\n",
    "   linkage_matrix = np.column_stack([model.children_, model.distances_, counts]).astype(float)\n",
    "\n",
    "   # Plot the corresponding dendrogram\n",
    "   dendrogram(linkage_matrix, **kwargs)\n",
    "\n",
    "model = AgglomerativeClustering(affinity='euclidean', linkage='ward', distance_threshold=0, n_clusters=None)\n",
    "\n",
    "model = model.fit(X)\n",
    "\n",
    "plt.title('Euclidean, linkage=ward')\n",
    "# plot the top three levels of the dendrogram\n",
    "plot_dendrogram(model, truncate_mode='level', p=3)\n",
    "plt.xlabel(\"Number of points in node (or index of point if no parenthesis).\")\n",
    "plt.show()"
   ]
  }
 ],
 "metadata": {
  "kernelspec": {
   "display_name": "Python 3.10.5 ('.venv': poetry)",
   "language": "python",
   "name": "python3"
  },
  "language_info": {
   "codemirror_mode": {
    "name": "ipython",
    "version": 3
   },
   "file_extension": ".py",
   "mimetype": "text/x-python",
   "name": "python",
   "nbconvert_exporter": "python",
   "pygments_lexer": "ipython3",
   "version": "3.10.5"
  },
  "orig_nbformat": 4,
  "vscode": {
   "interpreter": {
    "hash": "7cff37891c9611de4495c764b71cc1c2642da4ac5692399831ab960ea423ad28"
   }
  }
 },
 "nbformat": 4,
 "nbformat_minor": 2
}
