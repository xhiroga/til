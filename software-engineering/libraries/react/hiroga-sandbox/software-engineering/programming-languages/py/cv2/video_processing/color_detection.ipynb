{
 "cells": [
  {
   "cell_type": "code",
   "execution_count": 9,
   "metadata": {},
   "outputs": [],
   "source": [
    "import cv2\n",
    "import numpy as np"
   ]
  },
  {
   "cell_type": "code",
   "execution_count": 10,
   "metadata": {},
   "outputs": [],
   "source": [
    "cap = cv2.VideoCapture(\"data/movie/Mobility.mp4\")\n",
    "while True:\n",
    "    cv2.namedWindow(\"img\", cv2.WINDOW_NORMAL)\n",
    "    cv2.resizeWindow(\"img\", 640, 480) # 動画の解像度が大きいため、処理用に小さくしておく\n",
    "    ret, frame = cap.read() # １フレームだけ読み込む\n",
    "    if ret == False: # 最終フレームならFalse\n",
    "        break\n",
    "    hsv = cv2.cvtColor(frame, cv2.COLOR_BGR2HSV) # frameはndarrayオブジェクトと推測\n",
    "    lower = np.array([20, 50, 50]) # 実際のHueの値は40(20*2)に当たる。S,Vに下限値を設けたのは、彩度が低すぎる色=白が混ざらないようにするため\n",
    "    upper = np.array([25,255,255])\n",
    "    frame_mask = cv2.inRange(hsv, lower, upper) # frame_maskのなかにマスキングされた色だけが保存されている\n",
    "    dst = cv2.bitwise_and(frame, frame, mask = frame_mask) # フレームの論理積を取る。maskパラメータを渡すことで、黄色を検出した範囲だけが残る\n",
    "    cv2.imshow(\"img\", dst)\n",
    "    if cv2.waitKey(10) == 27:\n",
    "        break\n",
    "cv2.destroyAllWindows()"
   ]
  },
  {
   "cell_type": "code",
   "execution_count": null,
   "metadata": {},
   "outputs": [],
   "source": []
  }
 ],
 "metadata": {
  "kernelspec": {
   "display_name": "Python 3",
   "language": "python",
   "name": "python3"
  },
  "language_info": {
   "codemirror_mode": {
    "name": "ipython",
    "version": 3
   },
   "file_extension": ".py",
   "mimetype": "text/x-python",
   "name": "python",
   "nbconvert_exporter": "python",
   "pygments_lexer": "ipython3",
   "version": "3.5.5"
  }
 },
 "nbformat": 4,
 "nbformat_minor": 2
}
