{
 "cells": [
  {
   "cell_type": "code",
   "execution_count": 1,
   "metadata": {},
   "outputs": [],
   "source": [
    "import csv"
   ]
  },
  {
   "cell_type": "code",
   "execution_count": 4,
   "metadata": {},
   "outputs": [
    {
     "name": "stdout",
     "output_type": "stream",
     "text": [
      "<class '_io.TextIOWrapper'>\n",
      "['Japan', ' Konnichiwa']\n",
      "['America', ' Hello']\n",
      "['China', ' Nihao']\n"
     ]
    }
   ],
   "source": [
    "with open(\"hello.csv\") as f:\n",
    "    print(type(f))\n",
    "    r = csv.reader(f)\n",
    "    for row in r:\n",
    "        print(row)"
   ]
  },
  {
   "cell_type": "code",
   "execution_count": 6,
   "metadata": {},
   "outputs": [
    {
     "name": "stdout",
     "output_type": "stream",
     "text": [
      "<class '_io.TextIOWrapper'>\n",
      "['Japan', ' Konnichiwa']\n",
      "['America', ' Hello']\n",
      "['China', ' Nihao']\n"
     ]
    }
   ],
   "source": [
    "# 読み込みモードはデフォルトでrtなので、これは結果変わらず。\n",
    "with open(\"hello.csv\", \"rt\") as f:\n",
    "    print(type(f))\n",
    "    r = csv.reader(f)\n",
    "    for row in r:\n",
    "        print(row)"
   ]
  },
  {
   "cell_type": "code",
   "execution_count": 7,
   "metadata": {},
   "outputs": [
    {
     "name": "stdout",
     "output_type": "stream",
     "text": [
      "<class 'str'>\n",
      "['J']\n",
      "['a']\n",
      "['p']\n",
      "['a']\n",
      "['n']\n",
      "['', '']\n",
      "[' ']\n",
      "['K']\n",
      "['o']\n",
      "['n']\n",
      "['n']\n",
      "['i']\n",
      "['c']\n",
      "['h']\n",
      "['i']\n",
      "['w']\n",
      "['a']\n",
      "[]\n",
      "['A']\n",
      "['m']\n",
      "['e']\n",
      "['r']\n",
      "['i']\n",
      "['c']\n",
      "['a']\n",
      "['', '']\n",
      "[' ']\n",
      "['H']\n",
      "['e']\n",
      "['l']\n",
      "['l']\n",
      "['o']\n",
      "[]\n",
      "['C']\n",
      "['h']\n",
      "['i']\n",
      "['n']\n",
      "['a']\n",
      "['', '']\n",
      "[' ']\n",
      "['N']\n",
      "['i']\n",
      "['h']\n",
      "['a']\n",
      "['o']\n"
     ]
    }
   ],
   "source": [
    "# strオブジェクトをcsv.reader()の入力にすると、１文字づつ読み取ってしまう。引数のオブジェクトはiterableである必要があるため。\n",
    "fr = open(\"hello.csv\", \"rt\").read()\n",
    "print(type(fr))\n",
    "r = csv.reader(fr)\n",
    "for row in r:\n",
    "    print(row)"
   ]
  },
  {
   "cell_type": "code",
   "execution_count": 8,
   "metadata": {},
   "outputs": [
    {
     "name": "stdout",
     "output_type": "stream",
     "text": [
      "<class 'list'>\n",
      "['Japan', ' Konnichiwa']\n",
      "['America', ' Hello']\n",
      "['China', ' Nihao']\n"
     ]
    }
   ],
   "source": [
    "# デミリタで区切って再びリストにすればOK\n",
    "fstr = open(\"hello.csv\", \"rt\").read().split(\"\\n\")\n",
    "print(type(fstr))\n",
    "r = csv.reader(fstr)\n",
    "for row in r:\n",
    "    print(row)"
   ]
  },
  {
   "cell_type": "code",
   "execution_count": 9,
   "metadata": {},
   "outputs": [
    {
     "name": "stdout",
     "output_type": "stream",
     "text": [
      "<class 'list'>\n",
      "['Japan', ' Konnichiwa']\n",
      "['America', ' Hello']\n",
      "['China', ' Nihao']\n"
     ]
    }
   ],
   "source": [
    "with open(\"hello.csv\", \"rt\") as f:\n",
    "    fstr = f.read().split(\"\\n\")\n",
    "print(type(fstr))\n",
    "r = csv.reader(fstr)\n",
    "for row in r:\n",
    "    print(row)"
   ]
  },
  {
   "cell_type": "code",
   "execution_count": null,
   "metadata": {},
   "outputs": [],
   "source": []
  }
 ],
 "metadata": {
  "kernelspec": {
   "display_name": "Python 3",
   "language": "python",
   "name": "python3"
  },
  "language_info": {
   "codemirror_mode": {
    "name": "ipython",
    "version": 3
   },
   "file_extension": ".py",
   "mimetype": "text/x-python",
   "name": "python",
   "nbconvert_exporter": "python",
   "pygments_lexer": "ipython3",
   "version": "3.7.0"
  }
 },
 "nbformat": 4,
 "nbformat_minor": 2
}
