{
 "cells": [
  {
   "cell_type": "markdown",
   "metadata": {},
   "source": [
    "## [Process](https://huggingface.co/docs/datasets/process)"
   ]
  },
  {
   "cell_type": "code",
   "execution_count": 34,
   "metadata": {},
   "outputs": [],
   "source": [
    "from datasets import load_dataset\n",
    "\n",
    "dataset = load_dataset(\"data/animal\") # ちなみに、`drop_label` の値にかかわらず、`metadata.csv`がある場合は未記載のファイルがあるとエラーになる。"
   ]
  },
  {
   "cell_type": "code",
   "execution_count": 35,
   "metadata": {},
   "outputs": [
    {
     "data": {
      "text/plain": [
       "{'image': <PIL.JpegImagePlugin.JpegImageFile image mode=RGB size=652x515>,\n",
       " 'label': 'dog'}"
      ]
     },
     "execution_count": 35,
     "metadata": {},
     "output_type": "execute_result"
    }
   ],
   "source": [
    "dataset[\"train\"][0]"
   ]
  },
  {
   "cell_type": "code",
   "execution_count": 37,
   "metadata": {},
   "outputs": [
    {
     "data": {
      "text/plain": [
       "{'image': [<PIL.JpegImagePlugin.JpegImageFile image mode=RGB size=652x515>,\n",
       "  <PIL.JpegImagePlugin.JpegImageFile image mode=RGB size=660x660>],\n",
       " 'label': ['dog', ' dog']}"
      ]
     },
     "execution_count": 37,
     "metadata": {},
     "output_type": "execute_result"
    }
   ],
   "source": [
    "dataset[\"train\"][0:]"
   ]
  },
  {
   "cell_type": "code",
   "execution_count": 38,
   "metadata": {},
   "outputs": [],
   "source": [
    "from torchvision import transforms\n",
    "\n",
    "# 辞書の値がリストであることに注意。\n",
    "# dataset[\"train\"][0] で呼び出した場合は、len(batch[\"image\"]) == 1 となる。\n",
    "# dataset[\"train\"][0:] で呼び出した場合は、len(batch[\"image\"]) は元配列の長さとなりそう。 \n",
    "def transform(batch: dict[str, list[any]]) -> dict[str, list[any]]:\n",
    "    cropped = [transforms.functional.center_crop(image, 100) for image in batch[\"image\"]]\n",
    "    return {\"image\": cropped, \"label\": batch[\"label\"]}\n",
    "\n",
    "dataset.set_transform(transform, [\"image\", \"label\"])"
   ]
  },
  {
   "cell_type": "code",
   "execution_count": 39,
   "metadata": {},
   "outputs": [
    {
     "data": {
      "text/plain": [
       "{'image': [<PIL.Image.Image image mode=RGB size=100x100>,\n",
       "  <PIL.Image.Image image mode=RGB size=100x100>],\n",
       " 'label': ['dog', ' dog']}"
      ]
     },
     "execution_count": 39,
     "metadata": {},
     "output_type": "execute_result"
    }
   ],
   "source": [
    "dataset[\"train\"][0:]"
   ]
  },
  {
   "cell_type": "code",
   "execution_count": null,
   "metadata": {},
   "outputs": [],
   "source": []
  }
 ],
 "metadata": {
  "kernelspec": {
   "display_name": "huggingface-datasets-vision-v2",
   "language": "python",
   "name": "python3"
  },
  "language_info": {
   "codemirror_mode": {
    "name": "ipython",
    "version": 3
   },
   "file_extension": ".py",
   "mimetype": "text/x-python",
   "name": "python",
   "nbconvert_exporter": "python",
   "pygments_lexer": "ipython3",
   "version": "3.12.1"
  }
 },
 "nbformat": 4,
 "nbformat_minor": 2
}
