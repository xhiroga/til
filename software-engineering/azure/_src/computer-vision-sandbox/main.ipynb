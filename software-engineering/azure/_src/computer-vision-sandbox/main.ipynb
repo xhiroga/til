{
 "cells": [
  {
   "cell_type": "code",
   "execution_count": 1,
   "metadata": {},
   "outputs": [
    {
     "name": "stdout",
     "output_type": "stream",
     "text": [
      "\n",
      "\u001b[0m\u001b[1mInitializing the backend...\u001b[0m\n",
      "\n",
      "\u001b[0m\u001b[1mInitializing provider plugins...\u001b[0m\n",
      "- Finding latest version of hashicorp/azurerm...\n",
      "- Installing hashicorp/azurerm v3.54.0...\n",
      "- Installed hashicorp/azurerm v3.54.0 (signed by HashiCorp)\n",
      "\n",
      "Terraform has created a lock file \u001b[1m.terraform.lock.hcl\u001b[0m to record the provider\n",
      "selections it made above. Include this file in your version control repository\n",
      "so that Terraform can guarantee to make the same selections by default when\n",
      "you run \"terraform init\" in the future.\u001b[0m\n",
      "\n",
      "\u001b[0m\u001b[1m\u001b[32mTerraform has been successfully initialized!\u001b[0m\u001b[32m\u001b[0m\n",
      "\u001b[0m\u001b[32m\n",
      "You may now begin working with Terraform. Try running \"terraform plan\" to see\n",
      "any changes that are required for your infrastructure. All Terraform commands\n",
      "should now work.\n",
      "\n",
      "If you ever set or change modules or backend configuration for Terraform,\n",
      "rerun this command to reinitialize your working directory. If you forget, other\n",
      "commands will detect it and remind you to do so if necessary.\u001b[0m\n"
     ]
    }
   ],
   "source": [
    "!terraform init"
   ]
  },
  {
   "cell_type": "code",
   "execution_count": 1,
   "metadata": {
    "vscode": {
     "languageId": "shellscript"
    }
   },
   "outputs": [
    {
     "name": "stdout",
     "output_type": "stream",
     "text": [
      "\n",
      "Terraform used the selected providers to generate the following execution plan.\n",
      "Resource actions are indicated with the following symbols:\n",
      "  \u001b[32m+\u001b[0m create\u001b[0m\n",
      "\n",
      "Terraform will perform the following actions:\n",
      "\n",
      "\u001b[1m  # azurerm_cognitive_account.cv_sandbox\u001b[0m will be created\n",
      "\u001b[0m  \u001b[32m+\u001b[0m\u001b[0m resource \"azurerm_cognitive_account\" \"cv_sandbox\" {\n",
      "      \u001b[32m+\u001b[0m\u001b[0m endpoint                           = (known after apply)\n",
      "      \u001b[32m+\u001b[0m\u001b[0m id                                 = (known after apply)\n",
      "      \u001b[32m+\u001b[0m\u001b[0m kind                               = \"ComputerVision\"\n",
      "      \u001b[32m+\u001b[0m\u001b[0m local_auth_enabled                 = true\n",
      "      \u001b[32m+\u001b[0m\u001b[0m location                           = \"japaneast\"\n",
      "      \u001b[32m+\u001b[0m\u001b[0m name                               = \"hiroga_cv_sandbox\"\n",
      "      \u001b[32m+\u001b[0m\u001b[0m outbound_network_access_restricted = false\n",
      "      \u001b[32m+\u001b[0m\u001b[0m primary_access_key                 = (sensitive value)\n",
      "      \u001b[32m+\u001b[0m\u001b[0m public_network_access_enabled      = true\n",
      "      \u001b[32m+\u001b[0m\u001b[0m resource_group_name                = \"cv-sandbox\"\n",
      "      \u001b[32m+\u001b[0m\u001b[0m secondary_access_key               = (sensitive value)\n",
      "      \u001b[32m+\u001b[0m\u001b[0m sku_name                           = \"F0\"\n",
      "      \u001b[32m+\u001b[0m\u001b[0m tags                               = {\n",
      "          \u001b[32m+\u001b[0m\u001b[0m \"Owner\" = \"hiroga\"\n",
      "        }\n",
      "    }\n",
      "\n",
      "\u001b[1m  # azurerm_resource_group.cv_sandbox\u001b[0m will be created\n",
      "\u001b[0m  \u001b[32m+\u001b[0m\u001b[0m resource \"azurerm_resource_group\" \"cv_sandbox\" {\n",
      "      \u001b[32m+\u001b[0m\u001b[0m id       = (known after apply)\n",
      "      \u001b[32m+\u001b[0m\u001b[0m location = \"japaneast\"\n",
      "      \u001b[32m+\u001b[0m\u001b[0m name     = \"cv-sandbox\"\n",
      "    }\n",
      "\n",
      "\u001b[1mPlan:\u001b[0m 2 to add, 0 to change, 0 to destroy.\n",
      "\u001b[0m\u001b[90m\n",
      "───────────────────────────────────────────────────────────────────────────────\u001b[0m\n",
      "\n",
      "Note: You didn't use the -out option to save this plan, so Terraform can't\n",
      "guarantee to take exactly these actions if you run \"terraform apply\" now.\n"
     ]
    }
   ],
   "source": [
    "!terraform plan"
   ]
  },
  {
   "cell_type": "code",
   "execution_count": 3,
   "metadata": {
    "vscode": {
     "languageId": "shellscript"
    }
   },
   "outputs": [
    {
     "name": "stdout",
     "output_type": "stream",
     "text": [
      "\n",
      "Terraform used the selected providers to generate the following execution plan.\n",
      "Resource actions are indicated with the following symbols:\n",
      "  \u001b[32m+\u001b[0m create\u001b[0m\n",
      "\n",
      "Terraform will perform the following actions:\n",
      "\n",
      "\u001b[1m  # azurerm_cognitive_account.cv_sandbox\u001b[0m will be created\n",
      "\u001b[0m  \u001b[32m+\u001b[0m\u001b[0m resource \"azurerm_cognitive_account\" \"cv_sandbox\" {\n",
      "      \u001b[32m+\u001b[0m\u001b[0m endpoint                           = (known after apply)\n",
      "      \u001b[32m+\u001b[0m\u001b[0m id                                 = (known after apply)\n",
      "      \u001b[32m+\u001b[0m\u001b[0m kind                               = \"ComputerVision\"\n",
      "      \u001b[32m+\u001b[0m\u001b[0m local_auth_enabled                 = true\n",
      "      \u001b[32m+\u001b[0m\u001b[0m location                           = \"japaneast\"\n",
      "      \u001b[32m+\u001b[0m\u001b[0m name                               = \"hiroga_cv_sandbox\"\n",
      "      \u001b[32m+\u001b[0m\u001b[0m outbound_network_access_restricted = false\n",
      "      \u001b[32m+\u001b[0m\u001b[0m primary_access_key                 = (sensitive value)\n",
      "      \u001b[32m+\u001b[0m\u001b[0m public_network_access_enabled      = true\n",
      "      \u001b[32m+\u001b[0m\u001b[0m resource_group_name                = \"cv-sandbox\"\n",
      "      \u001b[32m+\u001b[0m\u001b[0m secondary_access_key               = (sensitive value)\n",
      "      \u001b[32m+\u001b[0m\u001b[0m sku_name                           = \"F0\"\n",
      "      \u001b[32m+\u001b[0m\u001b[0m tags                               = {\n",
      "          \u001b[32m+\u001b[0m\u001b[0m \"Owner\" = \"hiroga\"\n",
      "        }\n",
      "    }\n",
      "\n",
      "\u001b[1m  # azurerm_resource_group.cv_sandbox\u001b[0m will be created\n",
      "\u001b[0m  \u001b[32m+\u001b[0m\u001b[0m resource \"azurerm_resource_group\" \"cv_sandbox\" {\n",
      "      \u001b[32m+\u001b[0m\u001b[0m id       = (known after apply)\n",
      "      \u001b[32m+\u001b[0m\u001b[0m location = \"japaneast\"\n",
      "      \u001b[32m+\u001b[0m\u001b[0m name     = \"cv-sandbox\"\n",
      "    }\n",
      "\n",
      "\u001b[1mPlan:\u001b[0m 2 to add, 0 to change, 0 to destroy.\n",
      "\u001b[0m\u001b[0m\u001b[1mazurerm_resource_group.cv_sandbox: Creating...\u001b[0m\u001b[0m\n",
      "\u001b[0m\u001b[1mazurerm_resource_group.cv_sandbox: Creation complete after 1s [id=/subscriptions/eb6531d0-ead7-457e-a987-f62f8e88a52f/resourceGroups/cv-sandbox]\u001b[0m\n",
      "\u001b[0m\u001b[1mazurerm_cognitive_account.cv_sandbox: Creating...\u001b[0m\u001b[0m\n",
      "\u001b[31m╷\u001b[0m\u001b[0m\n",
      "\u001b[31m│\u001b[0m \u001b[0m\u001b[1m\u001b[31mError: \u001b[0m\u001b[0m\u001b[1mcreating Account (Subscription: \"eb6531d0-ead7-457e-a987-f62f8e88a52f\"\n",
      "\u001b[31m│\u001b[0m \u001b[0mResource Group Name: \"cv-sandbox\"\n",
      "\u001b[31m│\u001b[0m \u001b[0mAccount Name: \"hiroga_cv_sandbox\"): cognitiveservicesaccounts.CognitiveServicesAccountsClient#AccountsCreate: Failure sending request: StatusCode=0 -- Original Error: Code=\"ResourceKindRequireAcceptTerms\" Message=\"This subscription cannot create ComputerVision until you agree to Responsible AI terms for this resource. You can agree to Responsible AI terms by creating a resource through the Azure Portal then trying again. For more detail go to https://go.microsoft.com/fwlink/?linkid=2164911\"\u001b[0m\n",
      "\u001b[31m│\u001b[0m \u001b[0m\n",
      "\u001b[31m│\u001b[0m \u001b[0m\u001b[0m  with azurerm_cognitive_account.cv_sandbox,\n",
      "\u001b[31m│\u001b[0m \u001b[0m  on main.tf line 10, in resource \"azurerm_cognitive_account\" \"cv_sandbox\":\n",
      "\u001b[31m│\u001b[0m \u001b[0m  10: resource \"azurerm_cognitive_account\" \"cv_sandbox\" \u001b[4m{\u001b[0m\u001b[0m\n",
      "\u001b[31m│\u001b[0m \u001b[0m\n",
      "\u001b[31m╵\u001b[0m\u001b[0m\n"
     ]
    }
   ],
   "source": [
    "!terraform apply -auto-approve"
   ]
  },
  {
   "attachments": {},
   "cell_type": "markdown",
   "metadata": {},
   "source": [
    "Creating a resource through the Azure Portal, and remove it."
   ]
  },
  {
   "cell_type": "code",
   "execution_count": 5,
   "metadata": {
    "vscode": {
     "languageId": "shellscript"
    }
   },
   "outputs": [
    {
     "name": "stdout",
     "output_type": "stream",
     "text": [
      "\u001b[0m\u001b[1mazurerm_resource_group.cv_sandbox: Refreshing state... [id=/subscriptions/eb6531d0-ead7-457e-a987-f62f8e88a52f/resourceGroups/cv-sandbox]\u001b[0m\n",
      "\n",
      "Terraform used the selected providers to generate the following execution plan.\n",
      "Resource actions are indicated with the following symbols:\n",
      "  \u001b[32m+\u001b[0m create\u001b[0m\n",
      "\n",
      "Terraform will perform the following actions:\n",
      "\n",
      "\u001b[1m  # azurerm_cognitive_account.cv_sandbox\u001b[0m will be created\n",
      "\u001b[0m  \u001b[32m+\u001b[0m\u001b[0m resource \"azurerm_cognitive_account\" \"cv_sandbox\" {\n",
      "      \u001b[32m+\u001b[0m\u001b[0m endpoint                           = (known after apply)\n",
      "      \u001b[32m+\u001b[0m\u001b[0m id                                 = (known after apply)\n",
      "      \u001b[32m+\u001b[0m\u001b[0m kind                               = \"ComputerVision\"\n",
      "      \u001b[32m+\u001b[0m\u001b[0m local_auth_enabled                 = true\n",
      "      \u001b[32m+\u001b[0m\u001b[0m location                           = \"japaneast\"\n",
      "      \u001b[32m+\u001b[0m\u001b[0m name                               = \"hiroga-cv-sandbox\"\n",
      "      \u001b[32m+\u001b[0m\u001b[0m outbound_network_access_restricted = false\n",
      "      \u001b[32m+\u001b[0m\u001b[0m primary_access_key                 = (sensitive value)\n",
      "      \u001b[32m+\u001b[0m\u001b[0m public_network_access_enabled      = true\n",
      "      \u001b[32m+\u001b[0m\u001b[0m resource_group_name                = \"cv-sandbox\"\n",
      "      \u001b[32m+\u001b[0m\u001b[0m secondary_access_key               = (sensitive value)\n",
      "      \u001b[32m+\u001b[0m\u001b[0m sku_name                           = \"F0\"\n",
      "      \u001b[32m+\u001b[0m\u001b[0m tags                               = {\n",
      "          \u001b[32m+\u001b[0m\u001b[0m \"Owner\" = \"hiroga\"\n",
      "        }\n",
      "    }\n",
      "\n",
      "\u001b[1mPlan:\u001b[0m 1 to add, 0 to change, 0 to destroy.\n",
      "\u001b[0m\u001b[0m\u001b[1mazurerm_cognitive_account.cv_sandbox: Creating...\u001b[0m\u001b[0m\n",
      "\u001b[0m\u001b[1mazurerm_cognitive_account.cv_sandbox: Creation complete after 2s [id=/subscriptions/eb6531d0-ead7-457e-a987-f62f8e88a52f/resourceGroups/cv-sandbox/providers/Microsoft.CognitiveServices/accounts/hiroga-cv-sandbox]\u001b[0m\n",
      "\u001b[0m\u001b[1m\u001b[32m\n",
      "Apply complete! Resources: 1 added, 0 changed, 0 destroyed.\n",
      "\u001b[0m"
     ]
    }
   ],
   "source": [
    "!terraform apply -auto-approve"
   ]
  },
  {
   "cell_type": "code",
   "execution_count": 33,
   "metadata": {},
   "outputs": [
    {
     "data": {
      "text/plain": [
       "True"
      ]
     },
     "execution_count": 33,
     "metadata": {},
     "output_type": "execute_result"
    }
   ],
   "source": [
    "from dotenv import load_dotenv\n",
    "\n",
    "load_dotenv()"
   ]
  },
  {
   "cell_type": "code",
   "execution_count": 36,
   "metadata": {},
   "outputs": [
    {
     "name": "stdout",
     "output_type": "stream",
     "text": [
      "{'language': 'en', 'textAngle': 0.0, 'orientation': 'Up', 'regions': [{'boundingBox': '21,16,304,451', 'lines': [{'boundingBox': '28,16,288,41', 'words': [{'boundingBox': '28,16,288,41', 'text': 'NOTHING'}]}, {'boundingBox': '27,66,283,52', 'words': [{'boundingBox': '27,66,283,52', 'text': 'EXISTS'}]}, {'boundingBox': '27,128,292,49', 'words': [{'boundingBox': '27,128,292,49', 'text': 'EXCEPT'}]}, {'boundingBox': '24,188,292,54', 'words': [{'boundingBox': '24,188,292,54', 'text': 'ATOMS'}]}, {'boundingBox': '22,253,297,32', 'words': [{'boundingBox': '22,253,105,32', 'text': 'AND'}, {'boundingBox': '144,253,175,32', 'text': 'EMPTY'}]}, {'boundingBox': '21,298,304,60', 'words': [{'boundingBox': '21,298,304,60', 'text': 'SPACE.'}]}, {'boundingBox': '26,387,294,37', 'words': [{'boundingBox': '26,387,210,37', 'text': 'Everything'}, {'boundingBox': '249,389,71,27', 'text': 'else'}]}, {'boundingBox': '127,431,198,36', 'words': [{'boundingBox': '127,431,31,29', 'text': 'is'}, {'boundingBox': '172,431,153,36', 'text': 'opinion.'}]}]}], 'modelVersion': '2021-04-01'}\n"
     ]
    }
   ],
   "source": [
    "import os\n",
    "import requests\n",
    "\n",
    "API_KEY = os.environ.get(\"KEY\")\n",
    "ENDPOINT = 'https://japaneast.cognitiveservices.azure.com/'\n",
    "\n",
    "headers = {'Ocp-Apim-Subscription-Key': API_KEY,\n",
    "           'Content-Type': 'application/octet-stream'}\n",
    "\n",
    "params = {'language': 'unk'}\n",
    "\n",
    "\n",
    "def image_to_bytes(image_path):\n",
    "    with open(image_path, \"rb\") as image_file:\n",
    "        image_data = image_file.read()\n",
    "    return image_data\n",
    "\n",
    "def url_to_bytes(image_url):\n",
    "    response = requests.get(image_url)\n",
    "    response.raise_for_status()\n",
    "    return response.content\n",
    "\n",
    "image_url = \"https://upload.wikimedia.org/wikipedia/commons/thumb/a/af/Atomist_quote_from_Democritus.png/338px-Atomist_quote_from_Democritus.png\"\n",
    "image_data = url_to_bytes(image_url)\n",
    "\n",
    "response = requests.post(ENDPOINT + \"vision/v3.2/ocr\", headers=headers,\n",
    "                            params=params,  data=image_data)\n",
    "print(response.json())\n"
   ]
  },
  {
   "cell_type": "code",
   "execution_count": 40,
   "metadata": {},
   "outputs": [],
   "source": [
    "image_url = \"https://upload.wikimedia.org/wikipedia/commons/thumb/a/af/Atomist_quote_from_Democritus.png/338px-Atomist_quote_from_Democritus.png\"\n",
    "image_data = url_to_bytes(image_url)\n",
    "params = { 'language ': 'ja','model-version':'2021-04-12'}\n",
    "response = requests.post(ENDPOINT + \"vision/v3.2/read/analyze\", headers=headers,\n",
    "                            params=params,  data=image_data)\n",
    "response.raise_for_status()\n",
    "operation_url = response.headers[\"Operation-Location\"]\n"
   ]
  },
  {
   "cell_type": "code",
   "execution_count": 41,
   "metadata": {},
   "outputs": [
    {
     "name": "stdout",
     "output_type": "stream",
     "text": [
      "{'status': 'succeeded', 'createdDateTime': '2023-04-29T02:53:13Z', 'lastUpdatedDateTime': '2023-04-29T02:53:14Z', 'analyzeResult': {'version': '3.2.0', 'modelVersion': '2021-04-12', 'readResults': [{'page': 1, 'angle': 0, 'width': 338, 'height': 479, 'unit': 'pixel', 'lines': [{'boundingBox': [25, 14, 318, 14, 318, 59, 25, 59], 'text': 'NOTHING', 'appearance': {'style': {'name': 'other', 'confidence': 0.878}}, 'words': [{'boundingBox': [25, 15, 296, 15, 296, 60, 25, 60], 'text': 'NOTHING', 'confidence': 0.994}]}, {'boundingBox': [24, 65, 315, 65, 314, 117, 24, 116], 'text': 'EXISTS', 'appearance': {'style': {'name': 'other', 'confidence': 0.878}}, 'words': [{'boundingBox': [25, 67, 289, 67, 287, 118, 24, 117], 'text': 'EXISTS', 'confidence': 0.994}]}, {'boundingBox': [24, 127, 318, 126, 319, 176, 24, 177], 'text': 'EXCEPT', 'appearance': {'style': {'name': 'other', 'confidence': 0.878}}, 'words': [{'boundingBox': [25, 128, 300, 127, 299, 177, 25, 176], 'text': 'EXCEPT', 'confidence': 0.996}]}, {'boundingBox': [24, 184, 318, 184, 318, 244, 24, 244], 'text': 'ATOMS', 'appearance': {'style': {'name': 'other', 'confidence': 0.878}}, 'words': [{'boundingBox': [27, 185, 298, 186, 299, 244, 29, 245], 'text': 'ATOMS', 'confidence': 0.994}]}, {'boundingBox': [20, 251, 320, 250, 320, 285, 20, 286], 'text': 'AND EMPTY', 'appearance': {'style': {'name': 'other', 'confidence': 0.878}}, 'words': [{'boundingBox': [24, 251, 110, 251, 109, 287, 23, 286], 'text': 'AND', 'confidence': 0.994}, {'boundingBox': [141, 251, 305, 251, 304, 286, 139, 287], 'text': 'EMPTY', 'confidence': 0.996}]}, {'boundingBox': [19, 294, 325, 295, 324, 360, 19, 360], 'text': 'SPACE.', 'appearance': {'style': {'name': 'other', 'confidence': 0.878}}, 'words': [{'boundingBox': [19, 295, 322, 297, 325, 360, 20, 361], 'text': 'SPACE.', 'confidence': 0.99}]}, {'boundingBox': [22, 387, 324, 387, 323, 425, 22, 424], 'text': 'Everything else', 'appearance': {'style': {'name': 'other', 'confidence': 0.878}}, 'words': [{'boundingBox': [23, 389, 230, 387, 229, 425, 23, 421], 'text': 'Everything', 'confidence': 0.994}, {'boundingBox': [245, 387, 317, 388, 316, 424, 244, 425], 'text': 'else', 'confidence': 0.994}]}, {'boundingBox': [124, 432, 326, 431, 326, 464, 124, 464], 'text': 'is opinion.', 'appearance': {'style': {'name': 'other', 'confidence': 0.878}}, 'words': [{'boundingBox': [126, 433, 155, 433, 154, 463, 124, 462], 'text': 'is', 'confidence': 0.994}, {'boundingBox': [166, 433, 326, 432, 325, 462, 164, 464], 'text': 'opinion.', 'confidence': 0.995}]}]}]}}\n"
     ]
    }
   ],
   "source": [
    "response_final = requests.get(operation_url, headers=headers)\n",
    "print(response_final.json())\n"
   ]
  }
 ],
 "metadata": {
  "kernelspec": {
   "display_name": "Python 3",
   "language": "python",
   "name": "python3"
  },
  "language_info": {
   "codemirror_mode": {
    "name": "ipython",
    "version": 3
   },
   "file_extension": ".py",
   "mimetype": "text/x-python",
   "name": "python",
   "nbconvert_exporter": "python",
   "pygments_lexer": "ipython3",
   "version": "3.11.2"
  },
  "orig_nbformat": 4
 },
 "nbformat": 4,
 "nbformat_minor": 2
}
