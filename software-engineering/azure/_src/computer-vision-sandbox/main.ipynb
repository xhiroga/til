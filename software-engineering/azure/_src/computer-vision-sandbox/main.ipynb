{
 "cells": [
  {
   "cell_type": "code",
   "execution_count": 1,
   "metadata": {},
   "outputs": [
    {
     "name": "stdout",
     "output_type": "stream",
     "text": [
      "\n",
      "\u001b[0m\u001b[1mInitializing the backend...\u001b[0m\n",
      "\n",
      "\u001b[0m\u001b[1mInitializing provider plugins...\u001b[0m\n",
      "- Finding latest version of hashicorp/azurerm...\n",
      "- Installing hashicorp/azurerm v3.54.0...\n",
      "- Installed hashicorp/azurerm v3.54.0 (signed by HashiCorp)\n",
      "\n",
      "Terraform has created a lock file \u001b[1m.terraform.lock.hcl\u001b[0m to record the provider\n",
      "selections it made above. Include this file in your version control repository\n",
      "so that Terraform can guarantee to make the same selections by default when\n",
      "you run \"terraform init\" in the future.\u001b[0m\n",
      "\n",
      "\u001b[0m\u001b[1m\u001b[32mTerraform has been successfully initialized!\u001b[0m\u001b[32m\u001b[0m\n",
      "\u001b[0m\u001b[32m\n",
      "You may now begin working with Terraform. Try running \"terraform plan\" to see\n",
      "any changes that are required for your infrastructure. All Terraform commands\n",
      "should now work.\n",
      "\n",
      "If you ever set or change modules or backend configuration for Terraform,\n",
      "rerun this command to reinitialize your working directory. If you forget, other\n",
      "commands will detect it and remind you to do so if necessary.\u001b[0m\n"
     ]
    }
   ],
   "source": [
    "!terraform init"
   ]
  },
  {
   "cell_type": "code",
   "execution_count": 1,
   "metadata": {
    "vscode": {
     "languageId": "shellscript"
    }
   },
   "outputs": [
    {
     "name": "stdout",
     "output_type": "stream",
     "text": [
      "\n",
      "Terraform used the selected providers to generate the following execution plan.\n",
      "Resource actions are indicated with the following symbols:\n",
      "  \u001b[32m+\u001b[0m create\u001b[0m\n",
      "\n",
      "Terraform will perform the following actions:\n",
      "\n",
      "\u001b[1m  # azurerm_cognitive_account.cv_sandbox\u001b[0m will be created\n",
      "\u001b[0m  \u001b[32m+\u001b[0m\u001b[0m resource \"azurerm_cognitive_account\" \"cv_sandbox\" {\n",
      "      \u001b[32m+\u001b[0m\u001b[0m endpoint                           = (known after apply)\n",
      "      \u001b[32m+\u001b[0m\u001b[0m id                                 = (known after apply)\n",
      "      \u001b[32m+\u001b[0m\u001b[0m kind                               = \"ComputerVision\"\n",
      "      \u001b[32m+\u001b[0m\u001b[0m local_auth_enabled                 = true\n",
      "      \u001b[32m+\u001b[0m\u001b[0m location                           = \"japaneast\"\n",
      "      \u001b[32m+\u001b[0m\u001b[0m name                               = \"hiroga_cv_sandbox\"\n",
      "      \u001b[32m+\u001b[0m\u001b[0m outbound_network_access_restricted = false\n",
      "      \u001b[32m+\u001b[0m\u001b[0m primary_access_key                 = (sensitive value)\n",
      "      \u001b[32m+\u001b[0m\u001b[0m public_network_access_enabled      = true\n",
      "      \u001b[32m+\u001b[0m\u001b[0m resource_group_name                = \"cv-sandbox\"\n",
      "      \u001b[32m+\u001b[0m\u001b[0m secondary_access_key               = (sensitive value)\n",
      "      \u001b[32m+\u001b[0m\u001b[0m sku_name                           = \"F0\"\n",
      "      \u001b[32m+\u001b[0m\u001b[0m tags                               = {\n",
      "          \u001b[32m+\u001b[0m\u001b[0m \"Owner\" = \"hiroga\"\n",
      "        }\n",
      "    }\n",
      "\n",
      "\u001b[1m  # azurerm_resource_group.cv_sandbox\u001b[0m will be created\n",
      "\u001b[0m  \u001b[32m+\u001b[0m\u001b[0m resource \"azurerm_resource_group\" \"cv_sandbox\" {\n",
      "      \u001b[32m+\u001b[0m\u001b[0m id       = (known after apply)\n",
      "      \u001b[32m+\u001b[0m\u001b[0m location = \"japaneast\"\n",
      "      \u001b[32m+\u001b[0m\u001b[0m name     = \"cv-sandbox\"\n",
      "    }\n",
      "\n",
      "\u001b[1mPlan:\u001b[0m 2 to add, 0 to change, 0 to destroy.\n",
      "\u001b[0m\u001b[90m\n",
      "───────────────────────────────────────────────────────────────────────────────\u001b[0m\n",
      "\n",
      "Note: You didn't use the -out option to save this plan, so Terraform can't\n",
      "guarantee to take exactly these actions if you run \"terraform apply\" now.\n"
     ]
    }
   ],
   "source": [
    "!terraform plan"
   ]
  },
  {
   "cell_type": "code",
   "execution_count": 3,
   "metadata": {
    "vscode": {
     "languageId": "shellscript"
    }
   },
   "outputs": [
    {
     "name": "stdout",
     "output_type": "stream",
     "text": [
      "\n",
      "Terraform used the selected providers to generate the following execution plan.\n",
      "Resource actions are indicated with the following symbols:\n",
      "  \u001b[32m+\u001b[0m create\u001b[0m\n",
      "\n",
      "Terraform will perform the following actions:\n",
      "\n",
      "\u001b[1m  # azurerm_cognitive_account.cv_sandbox\u001b[0m will be created\n",
      "\u001b[0m  \u001b[32m+\u001b[0m\u001b[0m resource \"azurerm_cognitive_account\" \"cv_sandbox\" {\n",
      "      \u001b[32m+\u001b[0m\u001b[0m endpoint                           = (known after apply)\n",
      "      \u001b[32m+\u001b[0m\u001b[0m id                                 = (known after apply)\n",
      "      \u001b[32m+\u001b[0m\u001b[0m kind                               = \"ComputerVision\"\n",
      "      \u001b[32m+\u001b[0m\u001b[0m local_auth_enabled                 = true\n",
      "      \u001b[32m+\u001b[0m\u001b[0m location                           = \"japaneast\"\n",
      "      \u001b[32m+\u001b[0m\u001b[0m name                               = \"hiroga_cv_sandbox\"\n",
      "      \u001b[32m+\u001b[0m\u001b[0m outbound_network_access_restricted = false\n",
      "      \u001b[32m+\u001b[0m\u001b[0m primary_access_key                 = (sensitive value)\n",
      "      \u001b[32m+\u001b[0m\u001b[0m public_network_access_enabled      = true\n",
      "      \u001b[32m+\u001b[0m\u001b[0m resource_group_name                = \"cv-sandbox\"\n",
      "      \u001b[32m+\u001b[0m\u001b[0m secondary_access_key               = (sensitive value)\n",
      "      \u001b[32m+\u001b[0m\u001b[0m sku_name                           = \"F0\"\n",
      "      \u001b[32m+\u001b[0m\u001b[0m tags                               = {\n",
      "          \u001b[32m+\u001b[0m\u001b[0m \"Owner\" = \"hiroga\"\n",
      "        }\n",
      "    }\n",
      "\n",
      "\u001b[1m  # azurerm_resource_group.cv_sandbox\u001b[0m will be created\n",
      "\u001b[0m  \u001b[32m+\u001b[0m\u001b[0m resource \"azurerm_resource_group\" \"cv_sandbox\" {\n",
      "      \u001b[32m+\u001b[0m\u001b[0m id       = (known after apply)\n",
      "      \u001b[32m+\u001b[0m\u001b[0m location = \"japaneast\"\n",
      "      \u001b[32m+\u001b[0m\u001b[0m name     = \"cv-sandbox\"\n",
      "    }\n",
      "\n",
      "\u001b[1mPlan:\u001b[0m 2 to add, 0 to change, 0 to destroy.\n",
      "\u001b[0m\u001b[0m\u001b[1mazurerm_resource_group.cv_sandbox: Creating...\u001b[0m\u001b[0m\n",
      "\u001b[0m\u001b[1mazurerm_resource_group.cv_sandbox: Creation complete after 1s [id=/subscriptions/eb6531d0-ead7-457e-a987-f62f8e88a52f/resourceGroups/cv-sandbox]\u001b[0m\n",
      "\u001b[0m\u001b[1mazurerm_cognitive_account.cv_sandbox: Creating...\u001b[0m\u001b[0m\n",
      "\u001b[31m╷\u001b[0m\u001b[0m\n",
      "\u001b[31m│\u001b[0m \u001b[0m\u001b[1m\u001b[31mError: \u001b[0m\u001b[0m\u001b[1mcreating Account (Subscription: \"eb6531d0-ead7-457e-a987-f62f8e88a52f\"\n",
      "\u001b[31m│\u001b[0m \u001b[0mResource Group Name: \"cv-sandbox\"\n",
      "\u001b[31m│\u001b[0m \u001b[0mAccount Name: \"hiroga_cv_sandbox\"): cognitiveservicesaccounts.CognitiveServicesAccountsClient#AccountsCreate: Failure sending request: StatusCode=0 -- Original Error: Code=\"ResourceKindRequireAcceptTerms\" Message=\"This subscription cannot create ComputerVision until you agree to Responsible AI terms for this resource. You can agree to Responsible AI terms by creating a resource through the Azure Portal then trying again. For more detail go to https://go.microsoft.com/fwlink/?linkid=2164911\"\u001b[0m\n",
      "\u001b[31m│\u001b[0m \u001b[0m\n",
      "\u001b[31m│\u001b[0m \u001b[0m\u001b[0m  with azurerm_cognitive_account.cv_sandbox,\n",
      "\u001b[31m│\u001b[0m \u001b[0m  on main.tf line 10, in resource \"azurerm_cognitive_account\" \"cv_sandbox\":\n",
      "\u001b[31m│\u001b[0m \u001b[0m  10: resource \"azurerm_cognitive_account\" \"cv_sandbox\" \u001b[4m{\u001b[0m\u001b[0m\n",
      "\u001b[31m│\u001b[0m \u001b[0m\n",
      "\u001b[31m╵\u001b[0m\u001b[0m\n"
     ]
    }
   ],
   "source": [
    "!terraform apply -auto-approve"
   ]
  },
  {
   "attachments": {},
   "cell_type": "markdown",
   "metadata": {},
   "source": [
    "Creating a resource through the Azure Portal, and remove it."
   ]
  },
  {
   "cell_type": "code",
   "execution_count": 5,
   "metadata": {
    "vscode": {
     "languageId": "shellscript"
    }
   },
   "outputs": [
    {
     "name": "stdout",
     "output_type": "stream",
     "text": [
      "\u001b[0m\u001b[1mazurerm_resource_group.cv_sandbox: Refreshing state... [id=/subscriptions/eb6531d0-ead7-457e-a987-f62f8e88a52f/resourceGroups/cv-sandbox]\u001b[0m\n",
      "\n",
      "Terraform used the selected providers to generate the following execution plan.\n",
      "Resource actions are indicated with the following symbols:\n",
      "  \u001b[32m+\u001b[0m create\u001b[0m\n",
      "\n",
      "Terraform will perform the following actions:\n",
      "\n",
      "\u001b[1m  # azurerm_cognitive_account.cv_sandbox\u001b[0m will be created\n",
      "\u001b[0m  \u001b[32m+\u001b[0m\u001b[0m resource \"azurerm_cognitive_account\" \"cv_sandbox\" {\n",
      "      \u001b[32m+\u001b[0m\u001b[0m endpoint                           = (known after apply)\n",
      "      \u001b[32m+\u001b[0m\u001b[0m id                                 = (known after apply)\n",
      "      \u001b[32m+\u001b[0m\u001b[0m kind                               = \"ComputerVision\"\n",
      "      \u001b[32m+\u001b[0m\u001b[0m local_auth_enabled                 = true\n",
      "      \u001b[32m+\u001b[0m\u001b[0m location                           = \"japaneast\"\n",
      "      \u001b[32m+\u001b[0m\u001b[0m name                               = \"hiroga-cv-sandbox\"\n",
      "      \u001b[32m+\u001b[0m\u001b[0m outbound_network_access_restricted = false\n",
      "      \u001b[32m+\u001b[0m\u001b[0m primary_access_key                 = (sensitive value)\n",
      "      \u001b[32m+\u001b[0m\u001b[0m public_network_access_enabled      = true\n",
      "      \u001b[32m+\u001b[0m\u001b[0m resource_group_name                = \"cv-sandbox\"\n",
      "      \u001b[32m+\u001b[0m\u001b[0m secondary_access_key               = (sensitive value)\n",
      "      \u001b[32m+\u001b[0m\u001b[0m sku_name                           = \"F0\"\n",
      "      \u001b[32m+\u001b[0m\u001b[0m tags                               = {\n",
      "          \u001b[32m+\u001b[0m\u001b[0m \"Owner\" = \"hiroga\"\n",
      "        }\n",
      "    }\n",
      "\n",
      "\u001b[1mPlan:\u001b[0m 1 to add, 0 to change, 0 to destroy.\n",
      "\u001b[0m\u001b[0m\u001b[1mazurerm_cognitive_account.cv_sandbox: Creating...\u001b[0m\u001b[0m\n",
      "\u001b[0m\u001b[1mazurerm_cognitive_account.cv_sandbox: Creation complete after 2s [id=/subscriptions/eb6531d0-ead7-457e-a987-f62f8e88a52f/resourceGroups/cv-sandbox/providers/Microsoft.CognitiveServices/accounts/hiroga-cv-sandbox]\u001b[0m\n",
      "\u001b[0m\u001b[1m\u001b[32m\n",
      "Apply complete! Resources: 1 added, 0 changed, 0 destroyed.\n",
      "\u001b[0m"
     ]
    }
   ],
   "source": [
    "!terraform apply -auto-approve"
   ]
  },
  {
   "cell_type": "code",
   "execution_count": 33,
   "metadata": {},
   "outputs": [
    {
     "data": {
      "text/plain": [
       "True"
      ]
     },
     "execution_count": 33,
     "metadata": {},
     "output_type": "execute_result"
    }
   ],
   "source": [
    "from dotenv import load_dotenv\n",
    "\n",
    "load_dotenv()"
   ]
  },
  {
   "cell_type": "code",
   "execution_count": 36,
   "metadata": {},
   "outputs": [
    {
     "name": "stdout",
     "output_type": "stream",
     "text": [
      "{'language': 'en', 'textAngle': 0.0, 'orientation': 'Up', 'regions': [{'boundingBox': '21,16,304,451', 'lines': [{'boundingBox': '28,16,288,41', 'words': [{'boundingBox': '28,16,288,41', 'text': 'NOTHING'}]}, {'boundingBox': '27,66,283,52', 'words': [{'boundingBox': '27,66,283,52', 'text': 'EXISTS'}]}, {'boundingBox': '27,128,292,49', 'words': [{'boundingBox': '27,128,292,49', 'text': 'EXCEPT'}]}, {'boundingBox': '24,188,292,54', 'words': [{'boundingBox': '24,188,292,54', 'text': 'ATOMS'}]}, {'boundingBox': '22,253,297,32', 'words': [{'boundingBox': '22,253,105,32', 'text': 'AND'}, {'boundingBox': '144,253,175,32', 'text': 'EMPTY'}]}, {'boundingBox': '21,298,304,60', 'words': [{'boundingBox': '21,298,304,60', 'text': 'SPACE.'}]}, {'boundingBox': '26,387,294,37', 'words': [{'boundingBox': '26,387,210,37', 'text': 'Everything'}, {'boundingBox': '249,389,71,27', 'text': 'else'}]}, {'boundingBox': '127,431,198,36', 'words': [{'boundingBox': '127,431,31,29', 'text': 'is'}, {'boundingBox': '172,431,153,36', 'text': 'opinion.'}]}]}], 'modelVersion': '2021-04-01'}\n"
     ]
    }
   ],
   "source": [
    "import os\n",
    "import requests\n",
    "\n",
    "API_KEY = os.environ.get(\"KEY\")\n",
    "ENDPOINT = 'https://japaneast.cognitiveservices.azure.com/'\n",
    "\n",
    "headers = {'Ocp-Apim-Subscription-Key': API_KEY,\n",
    "           'Content-Type': 'application/octet-stream'}\n",
    "\n",
    "params = {'language': 'unk'}\n",
    "\n",
    "\n",
    "def image_to_bytes(image_path):\n",
    "    with open(image_path, \"rb\") as image_file:\n",
    "        image_data = image_file.read()\n",
    "    return image_data\n",
    "\n",
    "def url_to_bytes(image_url):\n",
    "    response = requests.get(image_url)\n",
    "    response.raise_for_status()\n",
    "    return response.content\n",
    "\n",
    "image_url = \"https://upload.wikimedia.org/wikipedia/commons/thumb/a/af/Atomist_quote_from_Democritus.png/338px-Atomist_quote_from_Democritus.png\"\n",
    "image_data = url_to_bytes(image_url)\n",
    "\n",
    "response = requests.post(ENDPOINT + \"vision/v3.2/ocr\", headers=headers,\n",
    "                            params=params,  data=image_data)\n",
    "print(response.json())\n"
   ]
  },
  {
   "cell_type": "code",
   "execution_count": 40,
   "metadata": {},
   "outputs": [],
   "source": [
    "image_url = \"https://upload.wikimedia.org/wikipedia/commons/thumb/a/af/Atomist_quote_from_Democritus.png/338px-Atomist_quote_from_Democritus.png\"\n",
    "image_data = url_to_bytes(image_url)\n",
    "params = { 'language ': 'ja','model-version':'2021-04-12'}\n",
    "response = requests.post(ENDPOINT + \"vision/v3.2/read/analyze\", headers=headers,\n",
    "                            params=params,  data=image_data)\n",
    "response.raise_for_status()\n",
    "operation_url = response.headers[\"Operation-Location\"]\n"
   ]
  },
  {
   "cell_type": "code",
   "execution_count": 41,
   "metadata": {},
   "outputs": [
    {
     "name": "stdout",
     "output_type": "stream",
     "text": [
      "{'status': 'succeeded', 'createdDateTime': '2023-04-29T02:53:13Z', 'lastUpdatedDateTime': '2023-04-29T02:53:14Z', 'analyzeResult': {'version': '3.2.0', 'modelVersion': '2021-04-12', 'readResults': [{'page': 1, 'angle': 0, 'width': 338, 'height': 479, 'unit': 'pixel', 'lines': [{'boundingBox': [25, 14, 318, 14, 318, 59, 25, 59], 'text': 'NOTHING', 'appearance': {'style': {'name': 'other', 'confidence': 0.878}}, 'words': [{'boundingBox': [25, 15, 296, 15, 296, 60, 25, 60], 'text': 'NOTHING', 'confidence': 0.994}]}, {'boundingBox': [24, 65, 315, 65, 314, 117, 24, 116], 'text': 'EXISTS', 'appearance': {'style': {'name': 'other', 'confidence': 0.878}}, 'words': [{'boundingBox': [25, 67, 289, 67, 287, 118, 24, 117], 'text': 'EXISTS', 'confidence': 0.994}]}, {'boundingBox': [24, 127, 318, 126, 319, 176, 24, 177], 'text': 'EXCEPT', 'appearance': {'style': {'name': 'other', 'confidence': 0.878}}, 'words': [{'boundingBox': [25, 128, 300, 127, 299, 177, 25, 176], 'text': 'EXCEPT', 'confidence': 0.996}]}, {'boundingBox': [24, 184, 318, 184, 318, 244, 24, 244], 'text': 'ATOMS', 'appearance': {'style': {'name': 'other', 'confidence': 0.878}}, 'words': [{'boundingBox': [27, 185, 298, 186, 299, 244, 29, 245], 'text': 'ATOMS', 'confidence': 0.994}]}, {'boundingBox': [20, 251, 320, 250, 320, 285, 20, 286], 'text': 'AND EMPTY', 'appearance': {'style': {'name': 'other', 'confidence': 0.878}}, 'words': [{'boundingBox': [24, 251, 110, 251, 109, 287, 23, 286], 'text': 'AND', 'confidence': 0.994}, {'boundingBox': [141, 251, 305, 251, 304, 286, 139, 287], 'text': 'EMPTY', 'confidence': 0.996}]}, {'boundingBox': [19, 294, 325, 295, 324, 360, 19, 360], 'text': 'SPACE.', 'appearance': {'style': {'name': 'other', 'confidence': 0.878}}, 'words': [{'boundingBox': [19, 295, 322, 297, 325, 360, 20, 361], 'text': 'SPACE.', 'confidence': 0.99}]}, {'boundingBox': [22, 387, 324, 387, 323, 425, 22, 424], 'text': 'Everything else', 'appearance': {'style': {'name': 'other', 'confidence': 0.878}}, 'words': [{'boundingBox': [23, 389, 230, 387, 229, 425, 23, 421], 'text': 'Everything', 'confidence': 0.994}, {'boundingBox': [245, 387, 317, 388, 316, 424, 244, 425], 'text': 'else', 'confidence': 0.994}]}, {'boundingBox': [124, 432, 326, 431, 326, 464, 124, 464], 'text': 'is opinion.', 'appearance': {'style': {'name': 'other', 'confidence': 0.878}}, 'words': [{'boundingBox': [126, 433, 155, 433, 154, 463, 124, 462], 'text': 'is', 'confidence': 0.994}, {'boundingBox': [166, 433, 326, 432, 325, 462, 164, 464], 'text': 'opinion.', 'confidence': 0.995}]}]}]}}\n"
     ]
    }
   ],
   "source": [
    "response_final = requests.get(operation_url, headers=headers)\n",
    "print(response_final.json())\n"
   ]
  },
  {
   "cell_type": "markdown",
   "metadata": {},
   "source": [
    "## 日本語の読み取り結果は、言語を指定した場合とそうでない場合でどのくらい違う？"
   ]
  },
  {
   "cell_type": "code",
   "execution_count": 43,
   "metadata": {},
   "outputs": [
    {
     "name": "stdout",
     "output_type": "stream",
     "text": [
      "{'language': 'ja', 'textAngle': 0.0, 'orientation': 'Up', 'regions': [{'boundingBox': '402,357,1682,1194', 'lines': [{'boundingBox': '1301,357,41,37', 'words': [{'boundingBox': '1301,357,41,37', 'text': '証'}]}, {'boundingBox': '1167,360,107,41', 'words': [{'boundingBox': '1167,360,41,39', 'text': '領'}, {'boundingBox': '1234,365,40,36', 'text': '収'}]}, {'boundingBox': '413,502,121,28', 'words': [{'boundingBox': '413,504,27,26', 'text': '氏'}, {'boundingBox': '509,502,25,27', 'text': '名'}]}, {'boundingBox': '607,492,275,40', 'words': [{'boundingBox': '607,496,42,36', 'text': '小'}, {'boundingBox': '654,493,42,38', 'text': '笠'}, {'boundingBox': '699,493,45,38', 'text': '原'}, {'boundingBox': '795,492,41,39', 'text': '寛'}, {'boundingBox': '844,493,38,37', 'text': '明'}]}, {'boundingBox': '934,492,44,39', 'words': [{'boundingBox': '934,492,44,39', 'text': '様'}]}, {'boundingBox': '602,576,114,24', 'words': [{'boundingBox': '602,576,114,24', 'text': '8704358'}]}, {'boundingBox': '406,579,120,26', 'words': [{'boundingBox': '406,579,24,26', 'text': 'カ'}, {'boundingBox': '433,583,11,22', 'text': 'ノ'}, {'boundingBox': '447,581,16,22', 'text': 'レ'}, {'boundingBox': '465,580,27,25', 'text': 'テ'}, {'boundingBox': '493,580,33,22', 'text': 'ID'}]}, {'boundingBox': '402,646,384,40', 'words': [{'boundingBox': '402,650,33,33', 'text': 'ご'}, {'boundingBox': '436,650,37,36', 'text': '請'}, {'boundingBox': '476,650,35,34', 'text': '求'}, {'boundingBox': '516,649,35,33', 'text': '金'}, {'boundingBox': '554,649,38,33', 'text': '額'}, {'boundingBox': '595,648,35,34', 'text': '合'}, {'boundingBox': '635,647,36,34', 'text': '計'}, {'boundingBox': '679,647,11,33', 'text': '('}, {'boundingBox': '694,646,36,35', 'text': '税'}, {'boundingBox': '735,647,36,32', 'text': '込'}, {'boundingBox': '776,646,10,33', 'text': ')'}]}, {'boundingBox': '821,775,109,29', 'words': [{'boundingBox': '821,776,29,28', 'text': '内'}, {'boundingBox': '899,775,31,29', 'text': '容'}]}, {'boundingBox': '442,780,91,31', 'words': [{'boundingBox': '442,782,29,29', 'text': '受'}, {'boundingBox': '474,780,31,30', 'text': '診'}, {'boundingBox': '511,782,22,26', 'text': '日'}]}, {'boundingBox': '606,837,92,28', 'words': [{'boundingBox': '606,838,29,27', 'text': '診'}, {'boundingBox': '637,837,29,27', 'text': '察'}, {'boundingBox': '668,837,30,27', 'text': '料'}]}, {'boundingBox': '418,841,134,27', 'words': [{'boundingBox': '418,845,58,22', 'text': '2022'}, {'boundingBox': '477,842,15,26', 'text': '/'}, {'boundingBox': '493,844,13,21', 'text': '8'}, {'boundingBox': '508,841,14,26', 'text': '/'}, {'boundingBox': '524,843,28,21', 'text': '30'}]}, {'boundingBox': '602,876,277,29', 'words': [{'boundingBox': '602,882,15,21', 'text': 'A'}, {'boundingBox': '619,878,29,26', 'text': '型'}, {'boundingBox': '649,878,31,27', 'text': '肝'}, {'boundingBox': '682,877,28,28', 'text': '炎'}, {'boundingBox': '718,877,9,27', 'text': '['}, {'boundingBox': '729,876,30,28', 'text': '輸'}, {'boundingBox': '760,878,30,25', 'text': '入'}, {'boundingBox': '792,876,10,28', 'text': ']'}, {'boundingBox': '809,880,11,21', 'text': '1'}, {'boundingBox': '825,877,28,26', 'text': '回'}, {'boundingBox': '861,877,18,25', 'text': '目'}]}, {'boundingBox': '600,919,121,26', 'words': [{'boundingBox': '600,919,31,26', 'text': '腸'}, {'boundingBox': '634,919,28,25', 'text': 'チ'}, {'boundingBox': '668,922,23,21', 'text': 'フ'}, {'boundingBox': '696,922,25,19', 'text': 'ス'}]}, {'boundingBox': '597,958,157,29', 'words': [{'boundingBox': '597,958,32,28', 'text': '破'}, {'boundingBox': '630,958,30,29', 'text': '傷'}, {'boundingBox': '661,960,30,26', 'text': '風'}, {'boundingBox': '694,958,28,27', 'text': '追'}, {'boundingBox': '724,958,30,26', 'text': '加'}]}, {'boundingBox': '602,997,278,31', 'words': [{'boundingBox': '602,1003,18,25', 'text': '日'}, {'boundingBox': '627,1000,30,28', 'text': '本'}, {'boundingBox': '658,1000,31,27', 'text': '脳'}, {'boundingBox': '692,999,28,29', 'text': '炎'}, {'boundingBox': '728,999,9,28', 'text': '['}, {'boundingBox': '741,1000,27,27', 'text': '国'}, {'boundingBox': '771,998,29,28', 'text': '産'}, {'boundingBox': '803,998,9,28', 'text': ']'}, {'boundingBox': '820,997,28,28', 'text': '追'}, {'boundingBox': '850,997,30,27', 'text': '加'}]}, {'boundingBox': '940,649,139,31', 'words': [{'boundingBox': '940,649,19,27', 'text': '\\\\'}, {'boundingBox': '961,649,37,27', 'text': '42'}, {'boundingBox': '1002,670,6,10', 'text': ','}, {'boundingBox': '1022,650,57,27', 'text': '020'}]}, {'boundingBox': '1623,695,92,28', 'words': [{'boundingBox': '1623,695,30,28', 'text': '発'}, {'boundingBox': '1656,695,30,28', 'text': '行'}, {'boundingBox': '1693,697,22,25', 'text': '日'}]}, {'boundingBox': '1784,697,253,29', 'words': [{'boundingBox': '1784,699,64,23', 'text': '2022'}, {'boundingBox': '1860,697,29,29', 'text': '年'}, {'boundingBox': '1902,701,14,22', 'text': '8'}, {'boundingBox': '1930,698,23,28', 'text': '月'}, {'boundingBox': '1969,702,31,22', 'text': '30'}, {'boundingBox': '2015,701,22,25', 'text': '日'}]}, {'boundingBox': '1599,804,393,30', 'words': [{'boundingBox': '1599,814,6,6', 'text': '・'}, {'boundingBox': '1618,804,29,27', 'text': '本'}, {'boundingBox': '1650,804,28,27', 'text': '書'}, {'boundingBox': '1682,808,25,20', 'text': 'の'}, {'boundingBox': '1711,805,29,26', 'text': '再'}, {'boundingBox': '1741,806,29,26', 'text': '発'}, {'boundingBox': '1772,805,28,27', 'text': '行'}, {'boundingBox': '1805,807,26,23', 'text': 'は'}, {'boundingBox': '1833,805,29,27', 'text': '致'}, {'boundingBox': '1868,807,22,23', 'text': 'し'}, {'boundingBox': '1894,806,24,26', 'text': 'ま'}, {'boundingBox': '1922,808,29,23', 'text': 'せ'}, {'boundingBox': '1955,808,25,23', 'text': 'ん'}, {'boundingBox': '1983,826,9,8', 'text': '。'}]}, {'boundingBox': '1601,843,483,31', 'words': [{'boundingBox': '1601,853,7,6', 'text': '・'}, {'boundingBox': '1621,843,29,28', 'text': '本'}, {'boundingBox': '1651,844,30,27', 'text': '領'}, {'boundingBox': '1683,844,28,26', 'text': '収'}, {'boundingBox': '1714,845,30,26', 'text': '証'}, {'boundingBox': '1747,846,26,24', 'text': 'は'}, {'boundingBox': '1776,844,27,26', 'text': '大'}, {'boundingBox': '1805,845,28,26', 'text': '切'}, {'boundingBox': '1838,846,25,24', 'text': 'に'}, {'boundingBox': '1866,845,29,27', 'text': '保'}, {'boundingBox': '1897,845,26,27', 'text': '管'}, {'boundingBox': '1931,847,23,23', 'text': 'し'}, {'boundingBox': '1957,849,25,22', 'text': 'て'}, {'boundingBox': '1986,847,27,25', 'text': '下'}, {'boundingBox': '2021,846,19,26', 'text': 'さ'}, {'boundingBox': '2046,850,26,20', 'text': 'い'}, {'boundingBox': '2076,866,8,8', 'text': '。'}]}, {'boundingBox': '1738,927,151,22', 'words': [{'boundingBox': '1738,927,151,22', 'text': '2022034125'}]}, {'boundingBox': '1289,776,65,30', 'words': [{'boundingBox': '1289,777,30,29', 'text': '金'}, {'boundingBox': '1322,776,32,29', 'text': '額'}]}, {'boundingBox': '1311,838,93,25', 'words': [{'boundingBox': '1311,839,15,21', 'text': '\\\\'}, {'boundingBox': '1328,839,13,20', 'text': '2'}, {'boundingBox': '1344,855,5,8', 'text': ','}, {'boundingBox': '1359,838,45,21', 'text': '970'}]}, {'boundingBox': '1297,877,108,25', 'words': [{'boundingBox': '1297,878,14,21', 'text': '\\\\'}, {'boundingBox': '1315,878,27,21', 'text': '15'}, {'boundingBox': '1345,894,6,8', 'text': ','}, {'boundingBox': '1360,877,45,22', 'text': '400'}]}, {'boundingBox': '1298,917,108,25', 'words': [{'boundingBox': '1298,918,14,21', 'text': '\\\\'}, {'boundingBox': '1316,917,27,22', 'text': '13'}, {'boundingBox': '1347,934,4,8', 'text': ','}, {'boundingBox': '1362,917,44,22', 'text': '200'}]}, {'boundingBox': '1314,958,94,26', 'words': [{'boundingBox': '1314,958,15,22', 'text': '\\\\'}, {'boundingBox': '1332,958,12,22', 'text': '3'}, {'boundingBox': '1348,975,4,9', 'text': ','}, {'boundingBox': '1363,958,45,22', 'text': '850'}]}, {'boundingBox': '1315,999,93,26', 'words': [{'boundingBox': '1315,999,15,22', 'text': '\\\\'}, {'boundingBox': '1332,999,13,22', 'text': '6'}, {'boundingBox': '1348,1016,5,9', 'text': ','}, {'boundingBox': '1364,999,44,23', 'text': '600'}]}, {'boundingBox': '1606,1259,307,34', 'words': [{'boundingBox': '1606,1262,31,31', 'text': '医'}, {'boundingBox': '1639,1260,32,33', 'text': '療'}, {'boundingBox': '1675,1261,32,32', 'text': '法'}, {'boundingBox': '1711,1262,31,30', 'text': '人'}, {'boundingBox': '1744,1260,34,32', 'text': '社'}, {'boundingBox': '1780,1261,30,31', 'text': '団'}, {'boundingBox': '1813,1259,33,33', 'text': '佳'}, {'boundingBox': '1848,1259,31,33', 'text': '有'}, {'boundingBox': '1882,1259,31,32', 'text': '会'}]}, {'boundingBox': '1609,1300,305,31', 'words': [{'boundingBox': '1609,1300,28,31', 'text': '品'}, {'boundingBox': '1642,1300,29,31', 'text': '川'}, {'boundingBox': '1676,1300,25,31', 'text': 'ィ'}, {'boundingBox': '1704,1311,32,6', 'text': 'ー'}, {'boundingBox': '1739,1304,26,23', 'text': 'ス'}, {'boundingBox': '1769,1300,16,30', 'text': 'ト'}, {'boundingBox': '1788,1301,23,28', 'text': 'ク'}, {'boundingBox': '1814,1300,16,30', 'text': 'リ'}, {'boundingBox': '1835,1306,29,18', 'text': 'ニ'}, {'boundingBox': '1867,1309,22,22', 'text': 'ッ'}, {'boundingBox': '1892,1300,22,28', 'text': 'ク'}]}, {'boundingBox': '1609,1344,437,33', 'words': [{'boundingBox': '1609,1347,151,30', 'text': 'Shinagawa'}, {'boundingBox': '1772,1346,64,25', 'text': 'East'}, {'boundingBox': '1847,1344,107,26', 'text': 'Medical'}, {'boundingBox': '1967,1344,79,25', 'text': 'Clinic'}]}, {'boundingBox': '1614,1388,171,30', 'words': [{'boundingBox': '1614,1388,25,30', 'text': '〒'}, {'boundingBox': '1648,1390,49,27', 'text': '108'}, {'boundingBox': '1699,1401,16,3', 'text': 'ー'}, {'boundingBox': '1717,1389,68,27', 'text': '6102'}]}, {'boundingBox': '1613,1427,401,37', 'words': [{'boundingBox': '1613,1431,33,33', 'text': '東'}, {'boundingBox': '1648,1431,32,32', 'text': '京'}, {'boundingBox': '1682,1430,34,34', 'text': '都'}, {'boundingBox': '1719,1429,32,33', 'text': '港'}, {'boundingBox': '1756,1431,30,31', 'text': '区'}, {'boundingBox': '1788,1428,33,33', 'text': '港'}, {'boundingBox': '1823,1427,31,34', 'text': '南'}, {'boundingBox': '1859,1432,19,26', 'text': '2'}, {'boundingBox': '1883,1442,27,4', 'text': 'ー'}, {'boundingBox': '1917,1431,39,26', 'text': '15'}, {'boundingBox': '1962,1442,26,3', 'text': 'ー'}, {'boundingBox': '1995,1430,19,27', 'text': '2'}]}, {'boundingBox': '1616,1470,389,38', 'words': [{'boundingBox': '1616,1476,30,32', 'text': '品'}, {'boundingBox': '1649,1475,31,33', 'text': '川'}, {'boundingBox': '1684,1475,26,32', 'text': 'イ'}, {'boundingBox': '1713,1479,28,24', 'text': 'ン'}, {'boundingBox': '1744,1475,23,30', 'text': 'タ'}, {'boundingBox': '1771,1485,32,7', 'text': 'ー'}, {'boundingBox': '1806,1476,31,28', 'text': 'シ'}, {'boundingBox': '1838,1475,30,29', 'text': 'テ'}, {'boundingBox': '1870,1480,22,26', 'text': 'ィ'}, {'boundingBox': '1893,1476,24,26', 'text': 'B'}, {'boundingBox': '1918,1470,35,35', 'text': '棟'}, {'boundingBox': '1954,1475,15,26', 'text': '2'}, {'boundingBox': '1972,1471,33,34', 'text': '階'}]}, {'boundingBox': '1615,1520,292,31', 'words': [{'boundingBox': '1615,1524,65,27', 'text': 'TEL'}, {'boundingBox': '1692,1523,34,27', 'text': '03'}, {'boundingBox': '1728,1534,17,3', 'text': 'ー'}, {'boundingBox': '1748,1521,68,28', 'text': '5783'}, {'boundingBox': '1819,1532,16,4', 'text': 'ー'}, {'boundingBox': '1838,1520,69,28', 'text': '5521'}]}]}], 'modelVersion': '2021-04-01'}\n"
     ]
    }
   ],
   "source": [
    "## 日本語を指定\n",
    "image_url = \"https://bnz07pap001files.storage.live.com/y4mIem1t6IrWKwXw_r7fGApFr6Lb2Z6a6mILAjOOWwwG0tEPMSpxhn3JrfWLxa03m6dfMAeAE9x6LQsS6y6nXvDRGHBZ-aLKyETF7tJ99zKoyFWuxWSlcgsvYNW68a-NZV5CiIV1qwyRUpgX0eK1ZtOAbVwxyuNWjtStTdBEnPuJ8TaWVOt4EUGBOFAzf-5aX3U?encodeFailures=1&width=2408&height=1806\"\n",
    "image_data = url_to_bytes(image_url)\n",
    "params = {'language': 'ja'}\n",
    "\n",
    "response = requests.post(ENDPOINT + \"vision/v3.2/ocr\", headers=headers,\n",
    "                            params=params,  data=image_data)\n",
    "print(response.json())"
   ]
  },
  {
   "cell_type": "code",
   "execution_count": 44,
   "metadata": {},
   "outputs": [
    {
     "name": "stdout",
     "output_type": "stream",
     "text": [
      "{'language': 'ja', 'textAngle': 0.0, 'orientation': 'Up', 'regions': [{'boundingBox': '402,357,1682,1194', 'lines': [{'boundingBox': '1301,357,41,37', 'words': [{'boundingBox': '1301,357,41,37', 'text': '証'}]}, {'boundingBox': '1167,360,107,41', 'words': [{'boundingBox': '1167,360,41,39', 'text': '領'}, {'boundingBox': '1234,365,40,36', 'text': '収'}]}, {'boundingBox': '413,502,121,28', 'words': [{'boundingBox': '413,504,27,26', 'text': '氏'}, {'boundingBox': '509,502,25,27', 'text': '名'}]}, {'boundingBox': '607,492,275,40', 'words': [{'boundingBox': '607,496,42,36', 'text': '小'}, {'boundingBox': '654,493,42,38', 'text': '笠'}, {'boundingBox': '699,493,45,38', 'text': '原'}, {'boundingBox': '795,492,41,39', 'text': '寛'}, {'boundingBox': '844,493,38,37', 'text': '明'}]}, {'boundingBox': '934,492,44,39', 'words': [{'boundingBox': '934,492,44,39', 'text': '様'}]}, {'boundingBox': '602,576,114,24', 'words': [{'boundingBox': '602,576,114,24', 'text': '8704358'}]}, {'boundingBox': '406,579,120,26', 'words': [{'boundingBox': '406,579,24,26', 'text': 'カ'}, {'boundingBox': '433,583,11,22', 'text': 'ノ'}, {'boundingBox': '447,581,16,22', 'text': 'レ'}, {'boundingBox': '465,580,27,25', 'text': 'テ'}, {'boundingBox': '493,580,33,22', 'text': 'ID'}]}, {'boundingBox': '402,646,384,40', 'words': [{'boundingBox': '402,650,33,33', 'text': 'ご'}, {'boundingBox': '436,650,37,36', 'text': '請'}, {'boundingBox': '476,650,35,34', 'text': '求'}, {'boundingBox': '516,649,35,33', 'text': '金'}, {'boundingBox': '554,649,38,33', 'text': '額'}, {'boundingBox': '595,648,35,34', 'text': '合'}, {'boundingBox': '635,647,36,34', 'text': '計'}, {'boundingBox': '679,647,11,33', 'text': '('}, {'boundingBox': '694,646,36,35', 'text': '税'}, {'boundingBox': '735,647,36,32', 'text': '込'}, {'boundingBox': '776,646,10,33', 'text': ')'}]}, {'boundingBox': '940,649,139,31', 'words': [{'boundingBox': '940,649,19,27', 'text': '\\\\'}, {'boundingBox': '961,649,37,27', 'text': '42'}, {'boundingBox': '1002,670,6,10', 'text': ','}, {'boundingBox': '1022,650,57,27', 'text': '020'}]}, {'boundingBox': '1623,695,92,28', 'words': [{'boundingBox': '1623,695,30,28', 'text': '発'}, {'boundingBox': '1656,695,30,28', 'text': '行'}, {'boundingBox': '1693,697,22,25', 'text': '日'}]}, {'boundingBox': '1784,697,253,29', 'words': [{'boundingBox': '1784,699,64,23', 'text': '2022'}, {'boundingBox': '1860,697,29,29', 'text': '年'}, {'boundingBox': '1902,701,14,22', 'text': '8'}, {'boundingBox': '1930,698,23,28', 'text': '月'}, {'boundingBox': '1969,702,31,22', 'text': '30'}, {'boundingBox': '2015,701,22,25', 'text': '日'}]}, {'boundingBox': '821,775,109,29', 'words': [{'boundingBox': '821,776,29,28', 'text': '内'}, {'boundingBox': '899,775,31,29', 'text': '容'}]}, {'boundingBox': '1289,776,65,30', 'words': [{'boundingBox': '1289,777,30,29', 'text': '金'}, {'boundingBox': '1322,776,32,29', 'text': '額'}]}, {'boundingBox': '442,780,91,31', 'words': [{'boundingBox': '442,782,29,29', 'text': '受'}, {'boundingBox': '474,780,31,30', 'text': '診'}, {'boundingBox': '511,782,22,26', 'text': '日'}]}, {'boundingBox': '1599,804,393,30', 'words': [{'boundingBox': '1599,814,6,6', 'text': '・'}, {'boundingBox': '1618,804,29,27', 'text': '本'}, {'boundingBox': '1650,804,28,27', 'text': '書'}, {'boundingBox': '1682,808,25,20', 'text': 'の'}, {'boundingBox': '1711,805,29,26', 'text': '再'}, {'boundingBox': '1741,806,29,26', 'text': '発'}, {'boundingBox': '1772,805,28,27', 'text': '行'}, {'boundingBox': '1805,807,26,23', 'text': 'は'}, {'boundingBox': '1833,805,29,27', 'text': '致'}, {'boundingBox': '1868,807,22,23', 'text': 'し'}, {'boundingBox': '1894,806,24,26', 'text': 'ま'}, {'boundingBox': '1922,808,29,23', 'text': 'せ'}, {'boundingBox': '1955,808,25,23', 'text': 'ん'}, {'boundingBox': '1983,826,9,8', 'text': '。'}]}, {'boundingBox': '606,837,92,28', 'words': [{'boundingBox': '606,838,29,27', 'text': '診'}, {'boundingBox': '637,837,29,27', 'text': '察'}, {'boundingBox': '668,837,30,27', 'text': '料'}]}, {'boundingBox': '1311,838,93,25', 'words': [{'boundingBox': '1311,839,15,21', 'text': '\\\\'}, {'boundingBox': '1328,839,13,20', 'text': '2'}, {'boundingBox': '1344,855,5,8', 'text': ','}, {'boundingBox': '1359,838,45,21', 'text': '970'}]}, {'boundingBox': '418,841,134,27', 'words': [{'boundingBox': '418,845,58,22', 'text': '2022'}, {'boundingBox': '477,842,15,26', 'text': '/'}, {'boundingBox': '493,844,13,21', 'text': '8'}, {'boundingBox': '508,841,14,26', 'text': '/'}, {'boundingBox': '524,843,28,21', 'text': '30'}]}, {'boundingBox': '1601,843,483,31', 'words': [{'boundingBox': '1601,853,7,6', 'text': '・'}, {'boundingBox': '1621,843,29,28', 'text': '本'}, {'boundingBox': '1651,844,30,27', 'text': '領'}, {'boundingBox': '1683,844,28,26', 'text': '収'}, {'boundingBox': '1714,845,30,26', 'text': '証'}, {'boundingBox': '1747,846,26,24', 'text': 'は'}, {'boundingBox': '1776,844,27,26', 'text': '大'}, {'boundingBox': '1805,845,28,26', 'text': '切'}, {'boundingBox': '1838,846,25,24', 'text': 'に'}, {'boundingBox': '1866,845,29,27', 'text': '保'}, {'boundingBox': '1897,845,26,27', 'text': '管'}, {'boundingBox': '1931,847,23,23', 'text': 'し'}, {'boundingBox': '1957,849,25,22', 'text': 'て'}, {'boundingBox': '1986,847,27,25', 'text': '下'}, {'boundingBox': '2021,846,19,26', 'text': 'さ'}, {'boundingBox': '2046,850,26,20', 'text': 'い'}, {'boundingBox': '2076,866,8,8', 'text': '。'}]}, {'boundingBox': '602,876,277,29', 'words': [{'boundingBox': '602,882,15,21', 'text': 'A'}, {'boundingBox': '619,878,29,26', 'text': '型'}, {'boundingBox': '649,878,31,27', 'text': '肝'}, {'boundingBox': '682,877,28,28', 'text': '炎'}, {'boundingBox': '718,877,9,27', 'text': '['}, {'boundingBox': '729,876,30,28', 'text': '輸'}, {'boundingBox': '760,878,30,25', 'text': '入'}, {'boundingBox': '792,876,10,28', 'text': ']'}, {'boundingBox': '809,880,11,21', 'text': '1'}, {'boundingBox': '825,877,28,26', 'text': '回'}, {'boundingBox': '861,877,18,25', 'text': '目'}]}, {'boundingBox': '1297,877,108,25', 'words': [{'boundingBox': '1297,878,14,21', 'text': '\\\\'}, {'boundingBox': '1315,878,27,21', 'text': '15'}, {'boundingBox': '1345,894,6,8', 'text': ','}, {'boundingBox': '1360,877,45,22', 'text': '400'}]}, {'boundingBox': '1298,917,108,25', 'words': [{'boundingBox': '1298,918,14,21', 'text': '\\\\'}, {'boundingBox': '1316,917,27,22', 'text': '13'}, {'boundingBox': '1347,934,4,8', 'text': ','}, {'boundingBox': '1362,917,44,22', 'text': '200'}]}, {'boundingBox': '600,919,121,26', 'words': [{'boundingBox': '600,919,31,26', 'text': '腸'}, {'boundingBox': '634,919,28,25', 'text': 'チ'}, {'boundingBox': '668,922,23,21', 'text': 'フ'}, {'boundingBox': '696,922,25,19', 'text': 'ス'}]}, {'boundingBox': '1738,927,151,22', 'words': [{'boundingBox': '1738,927,151,22', 'text': '2022034125'}]}, {'boundingBox': '597,958,157,29', 'words': [{'boundingBox': '597,958,32,28', 'text': '破'}, {'boundingBox': '630,958,30,29', 'text': '傷'}, {'boundingBox': '661,960,30,26', 'text': '風'}, {'boundingBox': '694,958,28,27', 'text': '追'}, {'boundingBox': '724,958,30,26', 'text': '加'}]}, {'boundingBox': '1314,958,94,26', 'words': [{'boundingBox': '1314,958,15,22', 'text': '\\\\'}, {'boundingBox': '1332,958,12,22', 'text': '3'}, {'boundingBox': '1348,975,4,9', 'text': ','}, {'boundingBox': '1363,958,45,22', 'text': '850'}]}, {'boundingBox': '602,997,278,31', 'words': [{'boundingBox': '602,1003,18,25', 'text': '日'}, {'boundingBox': '627,1000,30,28', 'text': '本'}, {'boundingBox': '658,1000,31,27', 'text': '脳'}, {'boundingBox': '692,999,28,29', 'text': '炎'}, {'boundingBox': '728,999,9,28', 'text': '['}, {'boundingBox': '741,1000,27,27', 'text': '国'}, {'boundingBox': '771,998,29,28', 'text': '産'}, {'boundingBox': '803,998,9,28', 'text': ']'}, {'boundingBox': '820,997,28,28', 'text': '追'}, {'boundingBox': '850,997,30,27', 'text': '加'}]}, {'boundingBox': '1315,999,93,26', 'words': [{'boundingBox': '1315,999,15,22', 'text': '\\\\'}, {'boundingBox': '1332,999,13,22', 'text': '6'}, {'boundingBox': '1348,1016,5,9', 'text': ','}, {'boundingBox': '1364,999,44,23', 'text': '600'}]}, {'boundingBox': '1606,1259,307,34', 'words': [{'boundingBox': '1606,1262,31,31', 'text': '医'}, {'boundingBox': '1639,1260,32,33', 'text': '療'}, {'boundingBox': '1675,1261,32,32', 'text': '法'}, {'boundingBox': '1711,1262,31,30', 'text': '人'}, {'boundingBox': '1744,1260,34,32', 'text': '社'}, {'boundingBox': '1780,1261,30,31', 'text': '団'}, {'boundingBox': '1813,1259,33,33', 'text': '佳'}, {'boundingBox': '1848,1259,31,33', 'text': '有'}, {'boundingBox': '1882,1259,31,32', 'text': '会'}]}, {'boundingBox': '1609,1300,305,31', 'words': [{'boundingBox': '1609,1300,28,31', 'text': '品'}, {'boundingBox': '1642,1300,29,31', 'text': '川'}, {'boundingBox': '1676,1300,25,31', 'text': 'ィ'}, {'boundingBox': '1704,1311,32,6', 'text': 'ー'}, {'boundingBox': '1739,1304,26,23', 'text': 'ス'}, {'boundingBox': '1769,1300,16,30', 'text': 'ト'}, {'boundingBox': '1788,1301,23,28', 'text': 'ク'}, {'boundingBox': '1814,1300,16,30', 'text': 'リ'}, {'boundingBox': '1835,1306,29,18', 'text': 'ニ'}, {'boundingBox': '1867,1309,22,22', 'text': 'ッ'}, {'boundingBox': '1892,1300,22,28', 'text': 'ク'}]}, {'boundingBox': '1609,1344,437,33', 'words': [{'boundingBox': '1609,1347,151,30', 'text': 'Shinagawa'}, {'boundingBox': '1772,1346,64,25', 'text': 'East'}, {'boundingBox': '1847,1344,107,26', 'text': 'Medical'}, {'boundingBox': '1967,1344,79,25', 'text': 'Clinic'}]}, {'boundingBox': '1614,1388,171,30', 'words': [{'boundingBox': '1614,1388,25,30', 'text': '〒'}, {'boundingBox': '1648,1390,49,27', 'text': '108'}, {'boundingBox': '1699,1401,16,3', 'text': 'ー'}, {'boundingBox': '1717,1389,68,27', 'text': '6102'}]}, {'boundingBox': '1613,1427,401,37', 'words': [{'boundingBox': '1613,1431,33,33', 'text': '東'}, {'boundingBox': '1648,1431,32,32', 'text': '京'}, {'boundingBox': '1682,1430,34,34', 'text': '都'}, {'boundingBox': '1719,1429,32,33', 'text': '港'}, {'boundingBox': '1756,1431,30,31', 'text': '区'}, {'boundingBox': '1788,1428,33,33', 'text': '港'}, {'boundingBox': '1823,1427,31,34', 'text': '南'}, {'boundingBox': '1859,1432,19,26', 'text': '2'}, {'boundingBox': '1883,1442,27,4', 'text': 'ー'}, {'boundingBox': '1917,1431,39,26', 'text': '15'}, {'boundingBox': '1962,1442,26,3', 'text': 'ー'}, {'boundingBox': '1995,1430,19,27', 'text': '2'}]}, {'boundingBox': '1616,1470,389,38', 'words': [{'boundingBox': '1616,1476,30,32', 'text': '品'}, {'boundingBox': '1649,1475,31,33', 'text': '川'}, {'boundingBox': '1684,1475,26,32', 'text': 'イ'}, {'boundingBox': '1713,1479,28,24', 'text': 'ン'}, {'boundingBox': '1744,1475,23,30', 'text': 'タ'}, {'boundingBox': '1771,1485,32,7', 'text': 'ー'}, {'boundingBox': '1806,1476,31,28', 'text': 'シ'}, {'boundingBox': '1838,1475,30,29', 'text': 'テ'}, {'boundingBox': '1870,1480,22,26', 'text': 'ィ'}, {'boundingBox': '1893,1476,24,26', 'text': 'B'}, {'boundingBox': '1918,1470,35,35', 'text': '棟'}, {'boundingBox': '1954,1475,15,26', 'text': '2'}, {'boundingBox': '1972,1471,33,34', 'text': '階'}]}, {'boundingBox': '1615,1520,292,31', 'words': [{'boundingBox': '1615,1524,65,27', 'text': 'TEL'}, {'boundingBox': '1692,1523,34,27', 'text': '03'}, {'boundingBox': '1728,1534,17,3', 'text': 'ー'}, {'boundingBox': '1748,1521,68,28', 'text': '5783'}, {'boundingBox': '1819,1532,16,4', 'text': 'ー'}, {'boundingBox': '1838,1520,69,28', 'text': '5521'}]}]}], 'modelVersion': '2021-04-01'}\n"
     ]
    }
   ],
   "source": [
    "## 未指定\n",
    "image_url = \"https://bnz07pap001files.storage.live.com/y4mIem1t6IrWKwXw_r7fGApFr6Lb2Z6a6mILAjOOWwwG0tEPMSpxhn3JrfWLxa03m6dfMAeAE9x6LQsS6y6nXvDRGHBZ-aLKyETF7tJ99zKoyFWuxWSlcgsvYNW68a-NZV5CiIV1qwyRUpgX0eK1ZtOAbVwxyuNWjtStTdBEnPuJ8TaWVOt4EUGBOFAzf-5aX3U?encodeFailures=1&width=2408&height=1806\"\n",
    "image_data = url_to_bytes(image_url)\n",
    "params = {'language': 'unk'}\n",
    "\n",
    "response = requests.post(ENDPOINT + \"vision/v3.2/ocr\", headers=headers,\n",
    "                            params=params,  data=image_data)\n",
    "print(response.json())"
   ]
  },
  {
   "attachments": {},
   "cell_type": "markdown",
   "metadata": {},
   "source": [
    "ほとんど変わらない。"
   ]
  },
  {
   "attachments": {},
   "cell_type": "markdown",
   "metadata": {},
   "source": [
    "## /ocr と /read/analyze って結果は違うのかな？"
   ]
  },
  {
   "cell_type": "code",
   "execution_count": 45,
   "metadata": {},
   "outputs": [],
   "source": [
    "## 日本語を指定し、/read/analyzeを利用\n",
    "image_url = \"https://bnz07pap001files.storage.live.com/y4mIem1t6IrWKwXw_r7fGApFr6Lb2Z6a6mILAjOOWwwG0tEPMSpxhn3JrfWLxa03m6dfMAeAE9x6LQsS6y6nXvDRGHBZ-aLKyETF7tJ99zKoyFWuxWSlcgsvYNW68a-NZV5CiIV1qwyRUpgX0eK1ZtOAbVwxyuNWjtStTdBEnPuJ8TaWVOt4EUGBOFAzf-5aX3U?encodeFailures=1&width=2408&height=1806\"\n",
    "image_data = url_to_bytes(image_url)\n",
    "params = { 'language ': 'ja','model-version':'2021-04-12'}\n",
    "response = requests.post(ENDPOINT + \"vision/v3.2/read/analyze\", headers=headers,\n",
    "                            params=params,  data=image_data)\n",
    "response.raise_for_status()\n",
    "operation_url = response.headers[\"Operation-Location\"]\n"
   ]
  },
  {
   "cell_type": "code",
   "execution_count": 46,
   "metadata": {},
   "outputs": [
    {
     "name": "stdout",
     "output_type": "stream",
     "text": [
      "{'status': 'succeeded', 'createdDateTime': '2023-04-29T03:04:51Z', 'lastUpdatedDateTime': '2023-04-29T03:04:52Z', 'analyzeResult': {'version': '3.2.0', 'modelVersion': '2021-04-12', 'readResults': [{'page': 1, 'angle': -0.5846, 'width': 2408, 'height': 1806, 'unit': 'pixel', 'lines': [{'boundingBox': [1164, 356, 1346, 351, 1347, 399, 1166, 403], 'text': '領 収 証', 'words': [{'boundingBox': [1166, 357, 1200, 357, 1202, 403, 1168, 403], 'text': '領', 'confidence': 0.995}, {'boundingBox': [1227, 357, 1262, 357, 1262, 403, 1228, 403], 'text': '収', 'confidence': 0.992}, {'boundingBox': [1301, 354, 1335, 353, 1335, 398, 1301, 400], 'text': '証', 'confidence': 0.994}]}, {'boundingBox': [410, 501, 440, 499, 442, 530, 413, 532], 'text': '氏', 'words': [{'boundingBox': [411, 501, 434, 499, 436, 530, 413, 532], 'text': '氏', 'confidence': 0.994}]}, {'boundingBox': [510, 499, 541, 496, 539, 530, 508, 534], 'text': '名', 'words': [{'boundingBox': [508, 499, 533, 496, 536, 530, 511, 533], 'text': '名', 'confidence': 0.998}]}, {'boundingBox': [599, 490, 978, 488, 978, 534, 599, 537], 'text': '小笠原 寬明 様', 'words': [{'boundingBox': [607, 492, 640, 491, 641, 537, 607, 537], 'text': '小', 'confidence': 0.998}, {'boundingBox': [655, 491, 688, 490, 689, 536, 655, 537], 'text': '笠', 'confidence': 0.992}, {'boundingBox': [699, 490, 733, 490, 734, 536, 700, 536], 'text': '原', 'confidence': 0.994}, {'boundingBox': [795, 489, 829, 489, 830, 536, 796, 536], 'text': '寬', 'confidence': 0.727}, {'boundingBox': [840, 489, 874, 489, 874, 535, 841, 536], 'text': '明', 'confidence': 0.992}, {'boundingBox': [936, 489, 970, 489, 970, 535, 937, 535], 'text': '様', 'confidence': 0.917}]}, {'boundingBox': [405, 575, 529, 575, 529, 607, 406, 608], 'text': 'カルテID', 'words': [{'boundingBox': [406, 576, 427, 576, 427, 609, 406, 609], 'text': 'カ', 'confidence': 0.996}, {'boundingBox': [433, 576, 457, 577, 457, 609, 433, 609], 'text': 'ル', 'confidence': 0.998}, {'boundingBox': [463, 577, 486, 576, 486, 608, 463, 609], 'text': 'テ', 'confidence': 0.996}, {'boundingBox': [487, 576, 524, 575, 524, 607, 487, 608], 'text': 'ID', 'confidence': 0.988}]}, {'boundingBox': [603, 575, 724, 575, 724, 601, 603, 602], 'text': '8704358', 'words': [{'boundingBox': [605, 576, 717, 575, 717, 601, 603, 602], 'text': '8704358', 'confidence': 0.992}]}, {'boundingBox': [398, 648, 784, 642, 785, 683, 398, 690], 'text': 'ご請求金額合計(税込)', 'words': [{'boundingBox': [400, 649, 427, 648, 426, 691, 398, 691], 'text': 'ご', 'confidence': 0.996}, {'boundingBox': [438, 648, 469, 647, 468, 690, 436, 691], 'text': '請', 'confidence': 0.995}, {'boundingBox': [477, 647, 509, 647, 508, 689, 476, 690], 'text': '求', 'confidence': 0.996}, {'boundingBox': [516, 646, 548, 646, 547, 689, 516, 689], 'text': '金', 'confidence': 0.998}, {'boundingBox': [556, 646, 587, 645, 587, 688, 555, 688], 'text': '額', 'confidence': 0.994}, {'boundingBox': [595, 645, 627, 645, 626, 687, 595, 688], 'text': '合', 'confidence': 0.996}, {'boundingBox': [634, 645, 666, 644, 666, 686, 634, 687], 'text': '計', 'confidence': 0.996}, {'boundingBox': [671, 644, 693, 644, 693, 686, 671, 686], 'text': '(', 'confidence': 0.998}, {'boundingBox': [693, 644, 725, 643, 725, 685, 693, 686], 'text': '税', 'confidence': 0.995}, {'boundingBox': [738, 643, 768, 643, 769, 685, 739, 685], 'text': '込', 'confidence': 0.995}, {'boundingBox': [769, 643, 784, 643, 785, 684, 770, 685], 'text': ')', 'confidence': 0.998}]}, {'boundingBox': [940, 644, 1082, 645, 1082, 682, 939, 680], 'text': '¥42, 020', 'words': [{'boundingBox': [941, 645, 1014, 646, 1013, 682, 940, 680], 'text': '¥42,', 'confidence': 0.991}, {'boundingBox': [1014, 646, 1083, 646, 1082, 682, 1014, 682], 'text': '020', 'confidence': 0.993}]}, {'boundingBox': [1623, 691, 1717, 693, 1717, 726, 1623, 724], 'text': '発行日', 'words': [{'boundingBox': [1624, 691, 1649, 692, 1648, 725, 1623, 724], 'text': '発', 'confidence': 0.996}, {'boundingBox': [1653, 692, 1677, 692, 1677, 725, 1652, 725], 'text': '行', 'confidence': 0.997}, {'boundingBox': [1688, 692, 1713, 693, 1712, 726, 1687, 725], 'text': '日', 'confidence': 0.996}]}, {'boundingBox': [1772, 695, 2041, 695, 2041, 732, 1772, 729], 'text': '2022年8月 30日', 'words': [{'boundingBox': [1778, 696, 1851, 696, 1851, 729, 1778, 728], 'text': '2022', 'confidence': 0.991}, {'boundingBox': [1861, 696, 1885, 696, 1884, 730, 1861, 729], 'text': '年', 'confidence': 0.995}, {'boundingBox': [1897, 696, 1921, 696, 1920, 731, 1897, 730], 'text': '8', 'confidence': 0.996}, {'boundingBox': [1927, 696, 1950, 696, 1950, 731, 1926, 731], 'text': '月', 'confidence': 0.998}, {'boundingBox': [1965, 696, 2004, 696, 2003, 732, 1964, 731], 'text': '30', 'confidence': 0.994}, {'boundingBox': [2012, 696, 2035, 695, 2035, 733, 2011, 732], 'text': '日', 'confidence': 0.997}]}, {'boundingBox': [440, 779, 535, 777, 536, 810, 441, 812], 'text': '受診日', 'words': [{'boundingBox': [443, 779, 467, 778, 468, 811, 443, 812], 'text': '受', 'confidence': 0.996}, {'boundingBox': [473, 778, 498, 778, 499, 811, 474, 811], 'text': '診', 'confidence': 0.997}, {'boundingBox': [504, 778, 529, 777, 530, 810, 505, 811], 'text': '日', 'confidence': 0.996}]}, {'boundingBox': [820, 774, 859, 773, 860, 808, 821, 808], 'text': '内', 'words': [{'boundingBox': [820, 773, 842, 773, 843, 808, 820, 808], 'text': '内', 'confidence': 0.94}]}, {'boundingBox': [890, 773, 930, 772, 930, 807, 890, 807], 'text': '容', 'words': [{'boundingBox': [900, 772, 926, 772, 927, 807, 900, 807], 'text': '容', 'confidence': 0.998}]}, {'boundingBox': [1284, 773, 1360, 772, 1361, 807, 1286, 808], 'text': '金額', 'words': [{'boundingBox': [1287, 773, 1313, 773, 1314, 808, 1287, 808], 'text': '金', 'confidence': 0.998}, {'boundingBox': [1322, 772, 1348, 772, 1349, 807, 1322, 807], 'text': '額', 'confidence': 0.994}]}, {'boundingBox': [414, 840, 553, 839, 553, 869, 414, 870], 'text': '2022/8/30', 'words': [{'boundingBox': [415, 841, 552, 839, 552, 869, 415, 871], 'text': '2022/8/30', 'confidence': 0.991}]}, {'boundingBox': [606, 837, 697, 834, 698, 865, 606, 868], 'text': '診察料', 'words': [{'boundingBox': [608, 837, 630, 837, 631, 868, 608, 868], 'text': '診', 'confidence': 0.994}, {'boundingBox': [638, 837, 660, 836, 661, 867, 638, 868], 'text': '察', 'confidence': 0.995}, {'boundingBox': [670, 836, 692, 835, 693, 866, 670, 867], 'text': '料', 'confidence': 0.995}]}, {'boundingBox': [1593, 800, 2001, 804, 2001, 840, 1593, 837], 'text': '·本書の再発行は致しません。', 'words': [{'boundingBox': [1594, 801, 1615, 801, 1616, 837, 1595, 838], 'text': '·', 'confidence': 0.93}, {'boundingBox': [1616, 801, 1643, 801, 1644, 836, 1618, 837], 'text': '本', 'confidence': 0.997}, {'boundingBox': [1650, 801, 1676, 801, 1676, 836, 1651, 836], 'text': '書', 'confidence': 0.995}, {'boundingBox': [1676, 801, 1703, 801, 1704, 835, 1677, 836], 'text': 'の', 'confidence': 0.996}, {'boundingBox': [1710, 801, 1737, 801, 1737, 835, 1710, 835], 'text': '再', 'confidence': 0.994}, {'boundingBox': [1741, 801, 1770, 802, 1770, 835, 1741, 835], 'text': '発', 'confidence': 0.995}, {'boundingBox': [1772, 802, 1799, 802, 1799, 835, 1772, 835], 'text': '行', 'confidence': 0.997}, {'boundingBox': [1803, 802, 1830, 803, 1829, 835, 1803, 835], 'text': 'は', 'confidence': 0.996}, {'boundingBox': [1834, 803, 1860, 803, 1859, 836, 1833, 835], 'text': '致', 'confidence': 0.994}, {'boundingBox': [1861, 803, 1888, 804, 1886, 836, 1860, 836], 'text': 'し', 'confidence': 0.998}, {'boundingBox': [1894, 804, 1921, 805, 1919, 837, 1893, 836], 'text': 'ま', 'confidence': 0.998}, {'boundingBox': [1923, 805, 1950, 806, 1948, 838, 1921, 837], 'text': 'せ', 'confidence': 0.998}, {'boundingBox': [1952, 806, 1977, 807, 1975, 839, 1950, 838], 'text': 'ん', 'confidence': 0.998}, {'boundingBox': [1978, 807, 2001, 808, 1998, 840, 1976, 839], 'text': '。', 'confidence': 0.996}]}, {'boundingBox': [1309, 835, 1405, 834, 1406, 861, 1309, 865], 'text': '¥2,970', 'appearance': {'style': {'name': 'other', 'confidence': 0.878}}, 'words': [{'boundingBox': [1312, 836, 1404, 835, 1404, 861, 1309, 866], 'text': '¥2,970', 'confidence': 0.995}]}, {'boundingBox': [602, 873, 882, 872, 882, 908, 602, 909], 'text': 'A型肝炎[輸入]1回目', 'words': [{'boundingBox': [603, 875, 619, 874, 619, 908, 603, 908], 'text': 'A', 'confidence': 0.996}, {'boundingBox': [619, 874, 644, 874, 644, 909, 619, 908], 'text': '型', 'confidence': 0.995}, {'boundingBox': [650, 874, 674, 874, 674, 909, 650, 909], 'text': '肝', 'confidence': 0.996}, {'boundingBox': [683, 874, 707, 874, 707, 909, 683, 909], 'text': '炎', 'confidence': 0.991}, {'boundingBox': [709, 874, 728, 874, 728, 909, 709, 909], 'text': '[', 'confidence': 0.995}, {'boundingBox': [728, 874, 755, 874, 755, 909, 729, 909], 'text': '輸', 'confidence': 0.985}, {'boundingBox': [761, 874, 786, 873, 786, 909, 761, 909], 'text': '入', 'confidence': 0.996}, {'boundingBox': [787, 873, 824, 873, 824, 909, 788, 909], 'text': ']1', 'confidence': 0.989}, {'boundingBox': [825, 873, 849, 873, 849, 908, 825, 909], 'text': '回', 'confidence': 0.998}, {'boundingBox': [855, 873, 880, 873, 880, 907, 855, 908], 'text': '目', 'confidence': 0.998}]}, {'boundingBox': [1595, 839, 2087, 843, 2087, 879, 1595, 875], 'text': '·本領収証は大切に保管して下さい。', 'words': [{'boundingBox': [1596, 840, 1616, 840, 1617, 875, 1597, 876], 'text': '·', 'confidence': 0.942}, {'boundingBox': [1620, 840, 1646, 840, 1647, 875, 1621, 875], 'text': '本', 'confidence': 0.996}, {'boundingBox': [1651, 840, 1677, 840, 1678, 875, 1652, 875], 'text': '領', 'confidence': 0.993}, {'boundingBox': [1681, 840, 1707, 840, 1708, 875, 1682, 875], 'text': '収', 'confidence': 0.994}, {'boundingBox': [1714, 841, 1742, 841, 1743, 874, 1715, 875], 'text': '証', 'confidence': 0.995}, {'boundingBox': [1744, 841, 1770, 841, 1771, 874, 1745, 874], 'text': 'は', 'confidence': 0.995}, {'boundingBox': [1775, 841, 1801, 841, 1801, 875, 1775, 874], 'text': '大', 'confidence': 0.997}, {'boundingBox': [1807, 841, 1834, 841, 1834, 875, 1808, 875], 'text': '切', 'confidence': 0.996}, {'boundingBox': [1835, 841, 1862, 842, 1862, 875, 1836, 875], 'text': 'に', 'confidence': 0.996}, {'boundingBox': [1866, 842, 1892, 842, 1892, 875, 1866, 875], 'text': '保', 'confidence': 0.996}, {'boundingBox': [1896, 842, 1922, 842, 1923, 876, 1897, 875], 'text': '管', 'confidence': 0.998}, {'boundingBox': [1924, 842, 1950, 843, 1951, 876, 1925, 876], 'text': 'し', 'confidence': 0.997}, {'boundingBox': [1955, 843, 1981, 843, 1981, 877, 1955, 876], 'text': 'て', 'confidence': 0.998}, {'boundingBox': [1987, 843, 2014, 844, 2014, 878, 1987, 877], 'text': '下', 'confidence': 0.996}, {'boundingBox': [2015, 844, 2040, 844, 2041, 878, 2015, 878], 'text': 'さ', 'confidence': 0.995}, {'boundingBox': [2041, 844, 2067, 845, 2067, 879, 2041, 878], 'text': 'い', 'confidence': 0.996}, {'boundingBox': [2069, 845, 2087, 845, 2087, 880, 2069, 879], 'text': '。', 'confidence': 0.996}]}, {'boundingBox': [1296, 875, 1408, 873, 1408, 902, 1297, 904], 'text': '¥15,400', 'appearance': {'style': {'name': 'other', 'confidence': 0.878}}, 'words': [{'boundingBox': [1297, 876, 1405, 874, 1405, 903, 1297, 904], 'text': '¥15,400', 'confidence': 0.993}]}, {'boundingBox': [595, 917, 723, 916, 724, 945, 596, 947], 'text': '腸チフス', 'words': [{'boundingBox': [601, 918, 623, 918, 624, 948, 602, 948], 'text': '腸', 'confidence': 0.993}, {'boundingBox': [633, 917, 655, 917, 656, 947, 633, 948], 'text': 'チ', 'confidence': 0.995}, {'boundingBox': [663, 917, 685, 917, 685, 947, 663, 947], 'text': 'フ', 'confidence': 0.996}, {'boundingBox': [696, 916, 719, 916, 719, 946, 697, 946], 'text': 'ス', 'confidence': 0.996}]}, {'boundingBox': [1297, 914, 1407, 914, 1407, 940, 1297, 941], 'text': '¥13,200', 'appearance': {'style': {'name': 'other', 'confidence': 0.878}}, 'words': [{'boundingBox': [1297, 915, 1404, 914, 1404, 941, 1299, 942], 'text': '¥13,200', 'confidence': 0.995}]}, {'boundingBox': [596, 958, 756, 955, 757, 986, 597, 989], 'text': '破傷風追加', 'words': [{'boundingBox': [598, 958, 621, 958, 622, 989, 599, 990], 'text': '破', 'confidence': 0.995}, {'boundingBox': [629, 957, 652, 957, 653, 989, 630, 989], 'text': '傷', 'confidence': 0.994}, {'boundingBox': [662, 957, 685, 956, 686, 988, 663, 988], 'text': '風', 'confidence': 0.996}, {'boundingBox': [695, 956, 718, 956, 719, 987, 696, 988], 'text': '追', 'confidence': 0.996}, {'boundingBox': [724, 956, 748, 956, 748, 986, 724, 987], 'text': '加', 'confidence': 0.996}]}, {'boundingBox': [1627, 922, 1674, 923, 1674, 954, 1626, 954], 'text': 'No .:', 'words': [{'boundingBox': [1626, 922, 1650, 922, 1650, 954, 1626, 953], 'text': 'No', 'confidence': 0.989}, {'boundingBox': [1651, 922, 1673, 922, 1673, 954, 1650, 954], 'text': '.:', 'confidence': 0.949}]}, {'boundingBox': [1732, 922, 1887, 924, 1887, 955, 1732, 953], 'text': '2022034125', 'words': [{'boundingBox': [1733, 923, 1888, 926, 1886, 955, 1732, 953], 'text': '2022034125', 'confidence': 0.991}]}, {'boundingBox': [1312, 955, 1410, 954, 1410, 981, 1312, 982], 'text': '¥3,850', 'appearance': {'style': {'name': 'other', 'confidence': 0.878}}, 'words': [{'boundingBox': [1313, 956, 1405, 955, 1405, 982, 1313, 982], 'text': '¥3,850', 'confidence': 0.995}]}, {'boundingBox': [597, 999, 883, 995, 884, 1026, 597, 1030], 'text': '日本脳炎[国産]追加', 'words': [{'boundingBox': [597, 1000, 618, 1000, 618, 1030, 597, 1030], 'text': '日', 'confidence': 0.996}, {'boundingBox': [628, 1000, 650, 999, 650, 1030, 628, 1030], 'text': '本', 'confidence': 0.996}, {'boundingBox': [661, 999, 683, 999, 683, 1030, 661, 1030], 'text': '脳', 'confidence': 0.991}, {'boundingBox': [690, 998, 713, 998, 712, 1029, 690, 1030], 'text': '炎', 'confidence': 0.994}, {'boundingBox': [720, 998, 739, 998, 739, 1029, 720, 1029], 'text': '[', 'confidence': 0.996}, {'boundingBox': [739, 998, 761, 997, 762, 1029, 739, 1029], 'text': '国', 'confidence': 0.996}, {'boundingBox': [773, 997, 795, 997, 795, 1029, 773, 1029], 'text': '産', 'confidence': 0.971}, {'boundingBox': [798, 997, 819, 996, 819, 1028, 798, 1028], 'text': ']', 'confidence': 0.995}, {'boundingBox': [820, 996, 844, 996, 844, 1028, 820, 1028], 'text': '追', 'confidence': 0.995}, {'boundingBox': [851, 996, 873, 995, 873, 1027, 851, 1028], 'text': '加', 'confidence': 0.996}]}, {'boundingBox': [1311, 996, 1410, 995, 1410, 1023, 1311, 1024], 'text': '¥6,600', 'words': [{'boundingBox': [1312, 996, 1410, 995, 1410, 1024, 1312, 1025], 'text': '¥6,600', 'confidence': 0.974}]}, {'boundingBox': [1815, 991, 1906, 991, 1906, 1024, 1815, 1023], 'text': '領収印', 'words': [{'boundingBox': [1816, 991, 1841, 991, 1841, 1024, 1816, 1023], 'text': '領', 'confidence': 0.994}, {'boundingBox': [1845, 991, 1869, 991, 1869, 1024, 1845, 1024], 'text': '収', 'confidence': 0.965}, {'boundingBox': [1875, 991, 1900, 991, 1900, 1024, 1875, 1024], 'text': '印', 'confidence': 0.993}]}, {'boundingBox': [1796, 1041, 1922, 1034, 1926, 1098, 1798, 1102], 'text': '領収', 'words': [{'boundingBox': [1797, 1039, 1845, 1037, 1848, 1101, 1800, 1103], 'text': '領', 'confidence': 0.483}, {'boundingBox': [1857, 1036, 1905, 1034, 1908, 1098, 1860, 1100], 'text': '収', 'confidence': 0.907}]}, {'boundingBox': [1783, 1116, 1942, 1111, 1944, 1147, 1784, 1152], 'text': '品川イースト', 'words': [{'boundingBox': [1787, 1118, 1809, 1116, 1810, 1152, 1788, 1152], 'text': '品', 'confidence': 0.985}, {'boundingBox': [1810, 1116, 1835, 1115, 1836, 1151, 1810, 1152], 'text': '川', 'confidence': 0.848}, {'boundingBox': [1839, 1115, 1865, 1114, 1865, 1150, 1840, 1151], 'text': 'イ', 'confidence': 0.995}, {'boundingBox': [1867, 1114, 1892, 1113, 1892, 1150, 1867, 1150], 'text': 'ー', 'confidence': 0.965}, {'boundingBox': [1894, 1113, 1919, 1112, 1919, 1149, 1894, 1150], 'text': 'ス', 'confidence': 0.97}, {'boundingBox': [1926, 1112, 1943, 1111, 1943, 1148, 1926, 1148], 'text': 'ト', 'confidence': 0.242}]}, {'boundingBox': [1793, 1147, 1934, 1132, 1935, 1168, 1797, 1182], 'text': 'クリニック', 'words': [{'boundingBox': [1799, 1148, 1824, 1146, 1827, 1179, 1802, 1181], 'text': 'ク', 'confidence': 0.965}, {'boundingBox': [1826, 1146, 1850, 1144, 1852, 1176, 1828, 1179], 'text': 'リ', 'confidence': 0.987}, {'boundingBox': [1852, 1144, 1876, 1141, 1878, 1174, 1854, 1176], 'text': 'ニ', 'confidence': 0.941}, {'boundingBox': [1880, 1140, 1903, 1137, 1904, 1172, 1881, 1174], 'text': 'ッ', 'confidence': 0.991}, {'boundingBox': [1904, 1137, 1928, 1134, 1929, 1170, 1905, 1172], 'text': 'ク', 'confidence': 0.885}]}, {'boundingBox': [1603, 1258, 1918, 1258, 1918, 1296, 1603, 1296], 'text': '医療法人社団佳有会', 'words': [{'boundingBox': [1603, 1258, 1631, 1258, 1632, 1297, 1604, 1297], 'text': '医', 'confidence': 0.996}, {'boundingBox': [1638, 1258, 1667, 1258, 1668, 1297, 1639, 1297], 'text': '療', 'confidence': 0.995}, {'boundingBox': [1671, 1258, 1700, 1258, 1701, 1297, 1672, 1297], 'text': '法', 'confidence': 0.995}, {'boundingBox': [1710, 1258, 1739, 1258, 1739, 1297, 1710, 1297], 'text': '人', 'confidence': 0.996}, {'boundingBox': [1743, 1258, 1772, 1258, 1772, 1297, 1743, 1297], 'text': '社', 'confidence': 0.992}, {'boundingBox': [1779, 1258, 1808, 1258, 1808, 1297, 1779, 1297], 'text': '団', 'confidence': 0.991}, {'boundingBox': [1812, 1258, 1841, 1259, 1841, 1297, 1812, 1297], 'text': '佳', 'confidence': 0.994}, {'boundingBox': [1846, 1259, 1875, 1259, 1874, 1297, 1845, 1297], 'text': '有', 'confidence': 0.996}, {'boundingBox': [1884, 1259, 1913, 1259, 1912, 1297, 1884, 1297], 'text': '会', 'confidence': 0.996}]}, {'boundingBox': [1607, 1296, 1917, 1296, 1917, 1335, 1608, 1336], 'text': '品川イーストクリニック', 'words': [{'boundingBox': [1608, 1297, 1635, 1297, 1636, 1336, 1609, 1337], 'text': '品', 'confidence': 0.998}, {'boundingBox': [1636, 1297, 1668, 1297, 1669, 1336, 1637, 1336], 'text': '川', 'confidence': 0.995}, {'boundingBox': [1670, 1297, 1699, 1297, 1699, 1335, 1671, 1336], 'text': 'イ', 'confidence': 0.996}, {'boundingBox': [1699, 1297, 1729, 1298, 1729, 1335, 1700, 1335], 'text': 'ー', 'confidence': 0.993}, {'boundingBox': [1736, 1298, 1762, 1298, 1762, 1334, 1737, 1334], 'text': 'ス', 'confidence': 0.997}, {'boundingBox': [1763, 1298, 1783, 1298, 1784, 1334, 1763, 1334], 'text': 'ト', 'confidence': 0.996}, {'boundingBox': [1784, 1298, 1807, 1298, 1807, 1334, 1784, 1334], 'text': 'ク', 'confidence': 0.996}, {'boundingBox': [1808, 1298, 1831, 1298, 1831, 1334, 1808, 1334], 'text': 'リ', 'confidence': 0.996}, {'boundingBox': [1831, 1298, 1860, 1298, 1860, 1333, 1832, 1334], 'text': 'ニ', 'confidence': 0.996}, {'boundingBox': [1861, 1298, 1886, 1298, 1886, 1334, 1861, 1333], 'text': 'ッ', 'confidence': 0.988}, {'boundingBox': [1887, 1298, 1917, 1298, 1917, 1334, 1887, 1334], 'text': 'ク', 'confidence': 0.997}]}, {'boundingBox': [1609, 1344, 2049, 1340, 2050, 1375, 1609, 1379], 'text': 'Shinagawa East Medical Clinic', 'appearance': {'style': {'name': 'other', 'confidence': 0.878}}, 'words': [{'boundingBox': [1609, 1345, 1758, 1344, 1759, 1378, 1611, 1380], 'text': 'Shinagawa', 'confidence': 0.994}, {'boundingBox': [1765, 1344, 1832, 1343, 1832, 1377, 1766, 1378], 'text': 'East', 'confidence': 0.994}, {'boundingBox': [1839, 1343, 1953, 1342, 1953, 1376, 1839, 1377], 'text': 'Medical', 'confidence': 0.996}, {'boundingBox': [1960, 1342, 2047, 1341, 2046, 1376, 1960, 1376], 'text': 'Clinic', 'confidence': 0.996}]}, {'boundingBox': [1609, 1386, 1788, 1383, 1789, 1419, 1610, 1423], 'text': '〒108-6102', 'words': [{'boundingBox': [1609, 1386, 1636, 1386, 1638, 1423, 1612, 1424], 'text': '〒', 'confidence': 0.995}, {'boundingBox': [1638, 1386, 1789, 1384, 1790, 1418, 1640, 1422], 'text': '108-6102', 'confidence': 0.989}]}, {'boundingBox': [1609, 1428, 2013, 1425, 2014, 1465, 1609, 1468], 'text': '東京都港区港南2-15-2', 'words': [{'boundingBox': [1611, 1428, 1640, 1428, 1640, 1468, 1610, 1468], 'text': '東', 'confidence': 0.994}, {'boundingBox': [1645, 1428, 1674, 1428, 1674, 1468, 1645, 1468], 'text': '京', 'confidence': 0.996}, {'boundingBox': [1682, 1428, 1711, 1428, 1711, 1468, 1682, 1468], 'text': '都', 'confidence': 0.994}, {'boundingBox': [1718, 1428, 1748, 1427, 1748, 1468, 1719, 1468], 'text': '港', 'confidence': 0.996}, {'boundingBox': [1753, 1427, 1782, 1427, 1783, 1468, 1753, 1468], 'text': '区', 'confidence': 0.99}, {'boundingBox': [1787, 1427, 1817, 1427, 1817, 1467, 1787, 1468], 'text': '港', 'confidence': 0.996}, {'boundingBox': [1818, 1427, 1848, 1427, 1848, 1467, 1819, 1467], 'text': '南', 'confidence': 0.995}, {'boundingBox': [1853, 1427, 2012, 1426, 2013, 1464, 1853, 1467], 'text': '2-15-2', 'confidence': 0.633}]}, {'boundingBox': [1612, 1471, 2009, 1466, 2009, 1508, 1612, 1513], 'text': '品川インターシティB棟2階', 'words': [{'boundingBox': [1614, 1473, 1644, 1473, 1646, 1513, 1616, 1513], 'text': '品', 'confidence': 0.999}, {'boundingBox': [1646, 1473, 1675, 1472, 1677, 1512, 1648, 1513], 'text': '川', 'confidence': 0.998}, {'boundingBox': [1677, 1472, 1703, 1472, 1705, 1512, 1679, 1512], 'text': 'イ', 'confidence': 0.995}, {'boundingBox': [1704, 1472, 1734, 1471, 1735, 1511, 1706, 1512], 'text': 'ン', 'confidence': 0.998}, {'boundingBox': [1736, 1471, 1764, 1471, 1766, 1511, 1737, 1511], 'text': 'タ', 'confidence': 0.995}, {'boundingBox': [1765, 1471, 1795, 1470, 1796, 1511, 1766, 1511], 'text': 'ー', 'confidence': 0.996}, {'boundingBox': [1802, 1470, 1832, 1470, 1833, 1510, 1803, 1511], 'text': 'シ', 'confidence': 0.996}, {'boundingBox': [1834, 1469, 1864, 1469, 1865, 1510, 1835, 1510], 'text': 'テ', 'confidence': 0.993}, {'boundingBox': [1866, 1469, 1889, 1469, 1890, 1510, 1867, 1510], 'text': 'ィ', 'confidence': 0.991}, {'boundingBox': [1890, 1469, 1919, 1468, 1919, 1510, 1890, 1510], 'text': 'B', 'confidence': 0.994}, {'boundingBox': [1919, 1468, 1948, 1467, 1948, 1509, 1919, 1510], 'text': '棟', 'confidence': 0.985}, {'boundingBox': [1948, 1467, 1974, 1467, 1974, 1509, 1948, 1509], 'text': '2', 'confidence': 0.997}, {'boundingBox': [1975, 1467, 2005, 1466, 2004, 1509, 1975, 1509], 'text': '階', 'confidence': 0.997}]}, {'boundingBox': [1616, 1518, 1905, 1514, 1905, 1551, 1616, 1554], 'text': 'TEL 03-5783-5521', 'words': [{'boundingBox': [1617, 1519, 1679, 1519, 1679, 1554, 1617, 1554], 'text': 'TEL', 'confidence': 0.994}, {'boundingBox': [1685, 1519, 1904, 1515, 1904, 1552, 1685, 1554], 'text': '03-5783-5521', 'confidence': 0.981}]}]}]}}\n"
     ]
    }
   ],
   "source": [
    "response_final = requests.get(operation_url, headers=headers)\n",
    "print(response_final.json())"
   ]
  },
  {
   "attachments": {},
   "cell_type": "markdown",
   "metadata": {},
   "source": [
    "boundingBox.textが返却されている！"
   ]
  },
  {
   "attachments": {},
   "cell_type": "markdown",
   "metadata": {},
   "source": [
    "## モデルの違いはある？"
   ]
  },
  {
   "cell_type": "code",
   "execution_count": 48,
   "metadata": {},
   "outputs": [],
   "source": [
    "image_url = \"https://bnz07pap001files.storage.live.com/y4mIem1t6IrWKwXw_r7fGApFr6Lb2Z6a6mILAjOOWwwG0tEPMSpxhn3JrfWLxa03m6dfMAeAE9x6LQsS6y6nXvDRGHBZ-aLKyETF7tJ99zKoyFWuxWSlcgsvYNW68a-NZV5CiIV1qwyRUpgX0eK1ZtOAbVwxyuNWjtStTdBEnPuJ8TaWVOt4EUGBOFAzf-5aX3U?encodeFailures=1&width=2408&height=1806\"\n",
    "image_data = url_to_bytes(image_url)\n",
    "params = {'language': 'ja', 'model-version': \"2022-04-30\"}  # <https://learn.microsoft.com/ja-jp/azure/cognitive-services/computer-vision/how-to/call-read-api>\n",
    "\n",
    "response = requests.post(ENDPOINT + \"vision/v3.2/read/analyze\", headers=headers,\n",
    "                            params=params,  data=image_data)\n",
    "response.raise_for_status()\n",
    "operation_url = response.headers[\"Operation-Location\"]\n"
   ]
  },
  {
   "cell_type": "code",
   "execution_count": 49,
   "metadata": {},
   "outputs": [
    {
     "name": "stdout",
     "output_type": "stream",
     "text": [
      "{'status': 'succeeded', 'createdDateTime': '2023-04-29T03:15:37Z', 'lastUpdatedDateTime': '2023-04-29T03:15:37Z', 'analyzeResult': {'version': '3.2.0', 'modelVersion': '2022-04-30', 'readResults': [{'page': 1, 'angle': -0.308, 'width': 2408, 'height': 1806, 'unit': 'pixel', 'language': 'ja', 'lines': [{'boundingBox': [1165, 354, 1344, 352, 1345, 397, 1166, 401], 'text': '領 収 証', 'appearance': {'style': {'name': 'other', 'confidence': 0.972}}, 'words': [{'boundingBox': [1172, 355, 1199, 355, 1199, 401, 1173, 401], 'text': '領', 'confidence': 0.994}, {'boundingBox': [1225, 356, 1257, 356, 1258, 401, 1226, 401], 'text': '収', 'confidence': 0.995}, {'boundingBox': [1313, 354, 1339, 353, 1339, 396, 1313, 397], 'text': '証', 'confidence': 0.996}]}, {'boundingBox': [407, 499, 547, 499, 547, 533, 407, 534], 'text': '氏 名', 'appearance': {'style': {'name': 'other', 'confidence': 0.972}}, 'words': [{'boundingBox': [418, 502, 438, 501, 437, 533, 417, 533], 'text': '氏', 'confidence': 0.995}, {'boundingBox': [518, 500, 538, 501, 537, 534, 517, 534], 'text': '名', 'confidence': 0.996}]}, {'boundingBox': [603, 490, 758, 490, 758, 534, 603, 534], 'text': '小笠原', 'appearance': {'style': {'name': 'other', 'confidence': 0.972}}, 'words': [{'boundingBox': [605, 493, 636, 492, 635, 533, 605, 533], 'text': '小', 'confidence': 0.995}, {'boundingBox': [661, 491, 691, 490, 690, 534, 660, 533], 'text': '笠', 'confidence': 0.987}, {'boundingBox': [711, 491, 736, 491, 734, 534, 709, 534], 'text': '原', 'confidence': 0.995}]}, {'boundingBox': [757, 489, 978, 489, 978, 533, 757, 532], 'text': '寛明 様', 'appearance': {'style': {'name': 'other', 'confidence': 0.972}}, 'words': [{'boundingBox': [805, 490, 830, 490, 829, 532, 804, 532], 'text': '寛', 'confidence': 0.554}, {'boundingBox': [850, 489, 875, 489, 875, 533, 849, 533], 'text': '明', 'confidence': 0.996}, {'boundingBox': [951, 490, 976, 491, 976, 534, 951, 534], 'text': '様', 'confidence': 0.812}]}, {'boundingBox': [401, 577, 528, 575, 529, 605, 402, 608], 'text': 'カルテID', 'appearance': {'style': {'name': 'other', 'confidence': 0.972}}, 'words': [{'boundingBox': [407, 578, 424, 577, 425, 607, 407, 608], 'text': 'カ', 'confidence': 0.959}, {'boundingBox': [430, 577, 448, 576, 449, 606, 431, 607], 'text': 'ル', 'confidence': 0.997}, {'boundingBox': [470, 576, 488, 576, 488, 606, 470, 606], 'text': 'テ', 'confidence': 0.993}, {'boundingBox': [490, 576, 519, 576, 519, 606, 490, 606], 'text': 'ID', 'confidence': 0.979}]}, {'boundingBox': [601, 575, 716, 573, 717, 599, 601, 600], 'text': '8704358', 'appearance': {'style': {'name': 'other', 'confidence': 0.972}}, 'words': [{'boundingBox': [601, 575, 713, 574, 713, 600, 601, 600], 'text': '8704358', 'confidence': 0.991}]}, {'boundingBox': [401, 645, 788, 639, 788, 683, 401, 686], 'text': 'ご請求金額合計(税込)', 'appearance': {'style': {'name': 'other', 'confidence': 0.972}}, 'words': [{'boundingBox': [403, 648, 423, 648, 422, 685, 402, 685], 'text': 'ご', 'confidence': 0.997}, {'boundingBox': [447, 648, 471, 647, 470, 686, 446, 685], 'text': '請', 'confidence': 0.995}, {'boundingBox': [484, 647, 508, 647, 507, 686, 483, 686], 'text': '求', 'confidence': 0.995}, {'boundingBox': [527, 646, 551, 646, 550, 686, 526, 686], 'text': '金', 'confidence': 0.996}, {'boundingBox': [564, 646, 588, 645, 587, 686, 563, 686], 'text': '額', 'confidence': 0.994}, {'boundingBox': [607, 645, 631, 644, 629, 686, 605, 686], 'text': '合', 'confidence': 0.996}, {'boundingBox': [644, 644, 668, 643, 667, 686, 643, 686], 'text': '計', 'confidence': 0.996}, {'boundingBox': [671, 643, 695, 643, 693, 685, 669, 686], 'text': '(', 'confidence': 0.997}, {'boundingBox': [703, 642, 732, 642, 730, 684, 701, 685], 'text': '税', 'confidence': 0.995}, {'boundingBox': [745, 641, 766, 641, 764, 684, 744, 684], 'text': '込', 'confidence': 0.996}, {'boundingBox': [767, 640, 787, 640, 785, 683, 765, 684], 'text': ')', 'confidence': 0.995}]}, {'boundingBox': [937, 644, 1079, 646, 1078, 680, 937, 677], 'text': '¥42,020', 'appearance': {'style': {'name': 'other', 'confidence': 0.972}}, 'words': [{'boundingBox': [938, 645, 1077, 646, 1076, 680, 938, 677], 'text': '¥42,020', 'confidence': 0.988}]}, {'boundingBox': [1619, 691, 1721, 691, 1721, 725, 1619, 724], 'text': '発行日', 'appearance': {'style': {'name': 'other', 'confidence': 0.972}}, 'words': [{'boundingBox': [1625, 692, 1644, 692, 1644, 725, 1625, 725], 'text': '発', 'confidence': 0.997}, {'boundingBox': [1664, 692, 1683, 692, 1682, 725, 1663, 725], 'text': '行', 'confidence': 0.997}, {'boundingBox': [1694, 693, 1713, 693, 1711, 726, 1692, 725], 'text': '日', 'confidence': 0.996}]}, {'boundingBox': [1778, 694, 2042, 697, 2042, 729, 1778, 725], 'text': '2022年 8月 30日', 'appearance': {'style': {'name': 'other', 'confidence': 0.972}}, 'words': [{'boundingBox': [1779, 695, 1848, 695, 1848, 726, 1779, 726], 'text': '2022', 'confidence': 0.992}, {'boundingBox': [1866, 695, 1885, 696, 1885, 727, 1867, 727], 'text': '年', 'confidence': 0.997}, {'boundingBox': [1896, 696, 1914, 696, 1915, 727, 1896, 727], 'text': '8', 'confidence': 0.997}, {'boundingBox': [1933, 696, 1952, 696, 1952, 728, 1933, 728], 'text': '月', 'confidence': 0.996}, {'boundingBox': [1962, 696, 1997, 697, 1998, 729, 1963, 728], 'text': '30', 'confidence': 0.995}, {'boundingBox': [2016, 697, 2035, 698, 2035, 730, 2017, 730], 'text': '日', 'confidence': 0.997}]}, {'boundingBox': [442, 778, 535, 777, 535, 810, 441, 810], 'text': '受診日', 'appearance': {'style': {'name': 'other', 'confidence': 0.972}}, 'words': [{'boundingBox': [446, 777, 466, 777, 466, 810, 446, 810], 'text': '受', 'confidence': 0.997}, {'boundingBox': [482, 777, 501, 777, 501, 810, 482, 810], 'text': '診', 'confidence': 0.996}, {'boundingBox': [512, 777, 532, 777, 532, 810, 512, 810], 'text': '日', 'confidence': 0.996}]}, {'boundingBox': [814, 773, 935, 773, 935, 804, 814, 804], 'text': '内 容', 'appearance': {'style': {'name': 'other', 'confidence': 0.972}}, 'words': [{'boundingBox': [819, 774, 837, 774, 837, 804, 819, 804], 'text': '内', 'confidence': 0.98}, {'boundingBox': [907, 773, 925, 774, 925, 805, 907, 804], 'text': '容', 'confidence': 0.997}]}, {'boundingBox': [1283, 776, 1356, 774, 1356, 807, 1283, 808], 'text': '金額', 'appearance': {'style': {'name': 'other', 'confidence': 0.972}}, 'words': [{'boundingBox': [1297, 775, 1316, 774, 1317, 807, 1297, 808], 'text': '金', 'confidence': 0.997}, {'boundingBox': [1327, 774, 1347, 774, 1348, 807, 1328, 807], 'text': '額', 'confidence': 0.991}]}, {'boundingBox': [1593, 803, 1994, 806, 1993, 835, 1593, 831], 'text': '·本書の再発行は致しません。', 'appearance': {'style': {'name': 'other', 'confidence': 0.972}}, 'words': [{'boundingBox': [1594, 803, 1604, 803, 1603, 832, 1593, 832], 'text': '·', 'confidence': 0.937}, {'boundingBox': [1624, 803, 1641, 803, 1641, 832, 1624, 832], 'text': '本', 'confidence': 0.996}, {'boundingBox': [1658, 803, 1675, 803, 1675, 832, 1658, 832], 'text': '書', 'confidence': 0.995}, {'boundingBox': [1681, 803, 1697, 803, 1697, 832, 1680, 832], 'text': 'の', 'confidence': 0.996}, {'boundingBox': [1718, 804, 1735, 804, 1734, 832, 1717, 832], 'text': '再', 'confidence': 0.996}, {'boundingBox': [1748, 804, 1765, 804, 1764, 832, 1747, 832], 'text': '発', 'confidence': 0.997}, {'boundingBox': [1782, 804, 1798, 804, 1798, 833, 1781, 832], 'text': '行', 'confidence': 0.996}, {'boundingBox': [1800, 804, 1817, 804, 1817, 833, 1800, 833], 'text': 'は', 'confidence': 0.996}, {'boundingBox': [1838, 805, 1854, 805, 1854, 833, 1837, 833], 'text': '致', 'confidence': 0.996}, {'boundingBox': [1864, 805, 1881, 805, 1880, 834, 1863, 834], 'text': 'し', 'confidence': 0.997}, {'boundingBox': [1901, 806, 1918, 806, 1917, 835, 1901, 834], 'text': 'ま', 'confidence': 0.998}, {'boundingBox': [1931, 806, 1948, 806, 1947, 835, 1931, 835], 'text': 'せ', 'confidence': 0.996}, {'boundingBox': [1954, 807, 1970, 807, 1970, 836, 1953, 835], 'text': 'ん', 'confidence': 0.998}, {'boundingBox': [1980, 807, 1994, 807, 1993, 836, 1979, 836], 'text': '。', 'confidence': 0.996}]}, {'boundingBox': [413, 839, 555, 839, 555, 868, 413, 868], 'text': '2022/8/30', 'appearance': {'style': {'name': 'other', 'confidence': 0.972}}, 'words': [{'boundingBox': [415, 841, 552, 840, 551, 869, 414, 866], 'text': '2022/8/30', 'confidence': 0.992}]}, {'boundingBox': [604, 837, 698, 835, 698, 864, 605, 866], 'text': '診察料', 'appearance': {'style': {'name': 'other', 'confidence': 0.972}}, 'words': [{'boundingBox': [613, 837, 630, 837, 631, 866, 614, 866], 'text': '診', 'confidence': 0.995}, {'boundingBox': [643, 837, 660, 836, 660, 865, 644, 866], 'text': '察', 'confidence': 0.992}, {'boundingBox': [673, 836, 694, 836, 694, 864, 674, 865], 'text': '料', 'confidence': 0.995}]}, {'boundingBox': [1310, 836, 1404, 836, 1404, 861, 1310, 862], 'text': '¥2,970', 'appearance': {'style': {'name': 'other', 'confidence': 0.972}}, 'words': [{'boundingBox': [1310, 837, 1401, 836, 1401, 862, 1311, 863], 'text': '¥2,970', 'confidence': 0.995}]}, {'boundingBox': [600, 875, 879, 872, 880, 903, 600, 907], 'text': 'A型肝炎[輸入]1回目', 'appearance': {'style': {'name': 'other', 'confidence': 0.972}}, 'words': [{'boundingBox': [601, 876, 616, 876, 616, 907, 601, 907], 'text': 'A', 'confidence': 0.996}, {'boundingBox': [622, 876, 640, 876, 640, 907, 622, 907], 'text': '型', 'confidence': 0.992}, {'boundingBox': [658, 876, 676, 876, 676, 907, 658, 907], 'text': '肝', 'confidence': 0.996}, {'boundingBox': [686, 876, 704, 875, 704, 906, 686, 906], 'text': '炎', 'confidence': 0.984}, {'boundingBox': [710, 875, 728, 875, 728, 906, 710, 906], 'text': '[', 'confidence': 0.993}, {'boundingBox': [738, 875, 756, 875, 756, 905, 738, 906], 'text': '輸', 'confidence': 0.989}, {'boundingBox': [766, 875, 784, 875, 784, 905, 766, 905], 'text': '入', 'confidence': 0.995}, {'boundingBox': [786, 874, 820, 874, 820, 904, 786, 905], 'text': ']1', 'confidence': 0.98}, {'boundingBox': [830, 874, 848, 873, 848, 903, 830, 904], 'text': '回', 'confidence': 0.996}, {'boundingBox': [862, 873, 877, 873, 877, 903, 862, 903], 'text': '目', 'confidence': 0.996}]}, {'boundingBox': [1597, 842, 2085, 844, 2085, 874, 1597, 871], 'text': '·本領収証は大切に保管して下さい。', 'appearance': {'style': {'name': 'other', 'confidence': 0.972}}, 'words': [{'boundingBox': [1599, 843, 1610, 843, 1608, 871, 1597, 871], 'text': '·', 'confidence': 0.934}, {'boundingBox': [1627, 843, 1645, 843, 1643, 871, 1626, 871], 'text': '本', 'confidence': 0.997}, {'boundingBox': [1658, 843, 1676, 843, 1674, 871, 1657, 871], 'text': '領', 'confidence': 0.995}, {'boundingBox': [1689, 842, 1707, 842, 1705, 872, 1688, 871], 'text': '収', 'confidence': 0.995}, {'boundingBox': [1720, 842, 1738, 842, 1736, 872, 1719, 872], 'text': '証', 'confidence': 0.996}, {'boundingBox': [1740, 842, 1761, 842, 1759, 872, 1738, 872], 'text': 'は', 'confidence': 0.995}, {'boundingBox': [1778, 842, 1796, 842, 1794, 873, 1777, 872], 'text': '大', 'confidence': 0.996}, {'boundingBox': [1809, 842, 1831, 842, 1829, 873, 1808, 873], 'text': '切', 'confidence': 0.995}, {'boundingBox': [1833, 842, 1850, 842, 1849, 873, 1831, 873], 'text': 'に', 'confidence': 0.996}, {'boundingBox': [1875, 843, 1893, 843, 1891, 873, 1874, 873], 'text': '保', 'confidence': 0.996}, {'boundingBox': [1906, 843, 1924, 843, 1922, 874, 1905, 874], 'text': '管', 'confidence': 0.995}, {'boundingBox': [1926, 843, 1943, 843, 1942, 874, 1924, 874], 'text': 'し', 'confidence': 0.998}, {'boundingBox': [1960, 844, 1978, 844, 1977, 874, 1959, 874], 'text': 'て', 'confidence': 0.996}, {'boundingBox': [1991, 844, 2009, 844, 2008, 874, 1990, 874], 'text': '下', 'confidence': 0.995}, {'boundingBox': [2019, 845, 2040, 845, 2039, 875, 2017, 874], 'text': 'さ', 'confidence': 0.995}, {'boundingBox': [2042, 845, 2059, 846, 2058, 875, 2041, 875], 'text': 'い', 'confidence': 0.996}, {'boundingBox': [2069, 846, 2083, 846, 2082, 875, 2068, 875], 'text': '。', 'confidence': 0.995}]}, {'boundingBox': [1296, 875, 1405, 875, 1405, 900, 1296, 901], 'text': '¥15,400', 'appearance': {'style': {'name': 'other', 'confidence': 0.972}}, 'words': [{'boundingBox': [1298, 875, 1403, 875, 1403, 901, 1297, 902], 'text': '¥15,400', 'confidence': 0.994}]}, {'boundingBox': [599, 918, 722, 916, 723, 942, 599, 946], 'text': '腸チフス', 'appearance': {'style': {'name': 'other', 'confidence': 0.972}}, 'words': [{'boundingBox': [607, 919, 623, 919, 623, 946, 607, 947], 'text': '腸', 'confidence': 0.992}, {'boundingBox': [639, 918, 655, 918, 655, 945, 639, 945], 'text': 'チ', 'confidence': 0.997}, {'boundingBox': [671, 918, 687, 917, 687, 944, 671, 944], 'text': 'フ', 'confidence': 0.995}, {'boundingBox': [703, 917, 719, 916, 719, 943, 703, 943], 'text': 'ス', 'confidence': 0.996}]}, {'boundingBox': [1296, 915, 1406, 914, 1406, 941, 1296, 942], 'text': '¥13,200', 'appearance': {'style': {'name': 'other', 'confidence': 0.972}}, 'words': [{'boundingBox': [1297, 916, 1403, 915, 1403, 942, 1297, 942], 'text': '¥13,200', 'confidence': 0.995}]}, {'boundingBox': [1627, 923, 1672, 922, 1671, 949, 1626, 949], 'text': 'No .:', 'appearance': {'style': {'name': 'other', 'confidence': 0.972}}, 'words': [{'boundingBox': [1626, 922, 1648, 922, 1648, 949, 1626, 949], 'text': 'No', 'confidence': 0.978}, {'boundingBox': [1648, 922, 1669, 922, 1669, 949, 1648, 949], 'text': '.:', 'confidence': 0.987}]}, {'boundingBox': [595, 957, 757, 957, 758, 986, 595, 987], 'text': '破傷風追加', 'appearance': {'style': {'name': 'other', 'confidence': 0.972}}, 'words': [{'boundingBox': [604, 957, 621, 958, 622, 988, 605, 988], 'text': '破', 'confidence': 0.995}, {'boundingBox': [638, 958, 655, 958, 656, 987, 639, 987], 'text': '傷', 'confidence': 0.996}, {'boundingBox': [668, 958, 685, 958, 686, 986, 669, 986], 'text': '風', 'confidence': 0.995}, {'boundingBox': [698, 958, 715, 958, 716, 985, 699, 986], 'text': '追', 'confidence': 0.996}, {'boundingBox': [728, 958, 745, 958, 746, 985, 729, 985], 'text': '加', 'confidence': 0.996}]}, {'boundingBox': [1728, 924, 1892, 926, 1891, 955, 1728, 951], 'text': '2022034125', 'appearance': {'style': {'name': 'other', 'confidence': 0.972}}, 'words': [{'boundingBox': [1733, 924, 1892, 927, 1891, 956, 1733, 950], 'text': '2022034125', 'confidence': 0.993}]}, {'boundingBox': [1314, 955, 1408, 954, 1408, 981, 1314, 982], 'text': '¥3,850', 'appearance': {'style': {'name': 'other', 'confidence': 0.972}}, 'words': [{'boundingBox': [1315, 956, 1407, 955, 1407, 982, 1315, 983], 'text': '¥3,850', 'confidence': 0.992}]}, {'boundingBox': [600, 998, 880, 995, 881, 1026, 600, 1029], 'text': '日本脳炎[国産]追加', 'appearance': {'style': {'name': 'other', 'confidence': 0.972}}, 'words': [{'boundingBox': [601, 998, 616, 998, 615, 1029, 600, 1030], 'text': '日', 'confidence': 0.996}, {'boundingBox': [630, 998, 648, 998, 648, 1029, 630, 1029], 'text': '本', 'confidence': 0.996}, {'boundingBox': [667, 998, 685, 998, 684, 1028, 666, 1028], 'text': '脳', 'confidence': 0.937}, {'boundingBox': [699, 997, 717, 997, 716, 1028, 698, 1028], 'text': '炎', 'confidence': 0.987}, {'boundingBox': [723, 997, 741, 997, 740, 1027, 722, 1028], 'text': '[', 'confidence': 0.979}, {'boundingBox': [747, 997, 766, 997, 765, 1027, 746, 1027], 'text': '国', 'confidence': 0.997}, {'boundingBox': [780, 997, 798, 996, 797, 1027, 779, 1027], 'text': '産', 'confidence': 0.931}, {'boundingBox': [800, 996, 822, 996, 821, 1027, 799, 1027], 'text': ']', 'confidence': 0.993}, {'boundingBox': [828, 996, 846, 996, 845, 1027, 827, 1027], 'text': '追', 'confidence': 0.996}, {'boundingBox': [857, 996, 875, 995, 873, 1027, 855, 1027], 'text': '加', 'confidence': 0.996}]}, {'boundingBox': [1312, 996, 1410, 996, 1411, 1023, 1312, 1024], 'text': '¥6,600', 'appearance': {'style': {'name': 'other', 'confidence': 0.972}}, 'words': [{'boundingBox': [1312, 997, 1405, 996, 1405, 1024, 1312, 1025], 'text': '¥6,600', 'confidence': 0.956}]}, {'boundingBox': [1815, 992, 1906, 994, 1906, 1021, 1815, 1019], 'text': '領収印', 'appearance': {'style': {'name': 'other', 'confidence': 0.972}}, 'words': [{'boundingBox': [1820, 992, 1836, 993, 1835, 1019, 1819, 1019], 'text': '領', 'confidence': 0.99}, {'boundingBox': [1851, 994, 1867, 995, 1865, 1021, 1850, 1020], 'text': '収', 'confidence': 0.984}, {'boundingBox': [1879, 995, 1895, 995, 1892, 1021, 1877, 1021], 'text': '印', 'confidence': 0.996}]}, {'boundingBox': [1799, 1039, 1918, 1039, 1919, 1098, 1799, 1096], 'text': '領収', 'appearance': {'style': {'name': 'handwriting', 'confidence': 0.5}}, 'words': [{'boundingBox': [1799, 1039, 1836, 1039, 1836, 1097, 1799, 1097], 'text': '領', 'confidence': 0.71}, {'boundingBox': [1851, 1039, 1891, 1039, 1891, 1098, 1851, 1097], 'text': '収', 'confidence': 0.977}]}, {'boundingBox': [1786, 1115, 1945, 1114, 1945, 1150, 1786, 1152], 'text': '品川イースト', 'appearance': {'style': {'name': 'handwriting', 'confidence': 0.936}}, 'words': [{'boundingBox': [1786, 1117, 1808, 1117, 1808, 1152, 1787, 1152], 'text': '品', 'confidence': 0.995}, {'boundingBox': [1809, 1117, 1833, 1116, 1833, 1152, 1809, 1152], 'text': '川', 'confidence': 0.873}, {'boundingBox': [1837, 1116, 1862, 1115, 1861, 1152, 1837, 1152], 'text': 'イ', 'confidence': 0.987}, {'boundingBox': [1866, 1115, 1890, 1115, 1890, 1152, 1866, 1152], 'text': 'ー', 'confidence': 0.963}, {'boundingBox': [1895, 1115, 1919, 1115, 1918, 1152, 1894, 1152], 'text': 'ス', 'confidence': 0.996}, {'boundingBox': [1923, 1115, 1944, 1115, 1943, 1152, 1922, 1152], 'text': 'ト', 'confidence': 0.924}]}, {'boundingBox': [1789, 1139, 1934, 1128, 1935, 1165, 1791, 1174], 'text': 'クリニック', 'appearance': {'style': {'name': 'other', 'confidence': 0.744}}, 'words': [{'boundingBox': [1801, 1139, 1823, 1140, 1824, 1174, 1803, 1174], 'text': 'ク', 'confidence': 0.982}, {'boundingBox': [1824, 1140, 1847, 1140, 1848, 1173, 1825, 1174], 'text': 'リ', 'confidence': 0.995}, {'boundingBox': [1851, 1140, 1874, 1138, 1874, 1171, 1851, 1173], 'text': 'ニ', 'confidence': 0.945}, {'boundingBox': [1878, 1138, 1901, 1134, 1901, 1169, 1878, 1171], 'text': 'ッ', 'confidence': 0.998}, {'boundingBox': [1905, 1134, 1928, 1129, 1927, 1166, 1904, 1168], 'text': 'ク', 'confidence': 0.972}]}, {'boundingBox': [1602, 1259, 1913, 1258, 1913, 1292, 1602, 1293], 'text': '医療法人社団佳有会', 'appearance': {'style': {'name': 'other', 'confidence': 0.972}}, 'words': [{'boundingBox': [1609, 1260, 1630, 1260, 1629, 1293, 1609, 1293], 'text': '医', 'confidence': 0.997}, {'boundingBox': [1645, 1260, 1666, 1260, 1665, 1294, 1645, 1293], 'text': '療', 'confidence': 0.996}, {'boundingBox': [1682, 1259, 1702, 1259, 1701, 1294, 1681, 1294], 'text': '法', 'confidence': 0.996}, {'boundingBox': [1713, 1259, 1734, 1259, 1733, 1294, 1712, 1294], 'text': '人', 'confidence': 0.996}, {'boundingBox': [1754, 1259, 1774, 1259, 1773, 1294, 1753, 1294], 'text': '社', 'confidence': 0.996}, {'boundingBox': [1786, 1259, 1806, 1259, 1805, 1294, 1785, 1294], 'text': '団', 'confidence': 0.995}, {'boundingBox': [1822, 1259, 1842, 1259, 1841, 1293, 1821, 1294], 'text': '佳', 'confidence': 0.996}, {'boundingBox': [1858, 1259, 1878, 1258, 1877, 1293, 1857, 1293], 'text': '有', 'confidence': 0.995}, {'boundingBox': [1889, 1258, 1910, 1258, 1909, 1293, 1889, 1293], 'text': '会', 'confidence': 0.996}]}, {'boundingBox': [1609, 1297, 1917, 1297, 1917, 1331, 1609, 1332], 'text': '品川イーストクリニック', 'appearance': {'style': {'name': 'other', 'confidence': 0.972}}, 'words': [{'boundingBox': [1610, 1298, 1630, 1298, 1632, 1332, 1612, 1332], 'text': '品', 'confidence': 0.997}, {'boundingBox': [1637, 1298, 1657, 1298, 1659, 1332, 1639, 1332], 'text': '川', 'confidence': 0.995}, {'boundingBox': [1682, 1298, 1702, 1298, 1703, 1332, 1683, 1332], 'text': 'イ', 'confidence': 0.993}, {'boundingBox': [1709, 1298, 1729, 1298, 1730, 1332, 1710, 1332], 'text': 'ー', 'confidence': 0.981}, {'boundingBox': [1740, 1298, 1760, 1298, 1761, 1332, 1741, 1332], 'text': 'ス', 'confidence': 0.996}, {'boundingBox': [1763, 1298, 1783, 1298, 1783, 1332, 1763, 1332], 'text': 'ト', 'confidence': 0.996}, {'boundingBox': [1790, 1298, 1807, 1298, 1807, 1332, 1790, 1332], 'text': 'ク', 'confidence': 0.995}, {'boundingBox': [1807, 1298, 1828, 1298, 1828, 1332, 1808, 1332], 'text': 'リ', 'confidence': 0.997}, {'boundingBox': [1834, 1298, 1855, 1297, 1854, 1331, 1834, 1332], 'text': 'ニ', 'confidence': 0.995}, {'boundingBox': [1861, 1297, 1881, 1297, 1881, 1331, 1861, 1331], 'text': 'ッ', 'confidence': 0.997}, {'boundingBox': [1888, 1297, 1913, 1297, 1912, 1330, 1888, 1331], 'text': 'ク', 'confidence': 0.995}]}, {'boundingBox': [1604, 1345, 2046, 1340, 2046, 1372, 1605, 1376], 'text': 'Shinagawa East Medical Clinic', 'appearance': {'style': {'name': 'other', 'confidence': 0.972}}, 'words': [{'boundingBox': [1605, 1345, 1759, 1344, 1760, 1376, 1606, 1376], 'text': 'Shinagawa', 'confidence': 0.992}, {'boundingBox': [1769, 1344, 1837, 1344, 1837, 1375, 1770, 1376], 'text': 'East', 'confidence': 0.991}, {'boundingBox': [1839, 1344, 1959, 1342, 1960, 1373, 1839, 1375], 'text': 'Medical', 'confidence': 0.995}, {'boundingBox': [1961, 1342, 2045, 1341, 2046, 1371, 1962, 1373], 'text': 'Clinic', 'confidence': 0.992}]}, {'boundingBox': [1613, 1387, 1787, 1386, 1787, 1417, 1613, 1420], 'text': '〒108-6102', 'appearance': {'style': {'name': 'other', 'confidence': 0.972}}, 'words': [{'boundingBox': [1615, 1389, 1633, 1388, 1633, 1419, 1615, 1420], 'text': '〒', 'confidence': 0.993}, {'boundingBox': [1639, 1388, 1784, 1386, 1785, 1418, 1639, 1419], 'text': '108-6102', 'confidence': 0.989}]}, {'boundingBox': [1609, 1430, 2016, 1426, 2016, 1462, 1609, 1466], 'text': '東京都港区港南2-15-2', 'appearance': {'style': {'name': 'other', 'confidence': 0.972}}, 'words': [{'boundingBox': [1616, 1430, 1642, 1430, 1641, 1465, 1616, 1465], 'text': '東', 'confidence': 0.995}, {'boundingBox': [1654, 1430, 1675, 1430, 1674, 1466, 1653, 1465], 'text': '京', 'confidence': 0.996}, {'boundingBox': [1687, 1430, 1708, 1429, 1707, 1466, 1686, 1466], 'text': '都', 'confidence': 0.995}, {'boundingBox': [1724, 1429, 1745, 1429, 1745, 1466, 1724, 1466], 'text': '港', 'confidence': 0.996}, {'boundingBox': [1757, 1429, 1778, 1429, 1778, 1466, 1757, 1466], 'text': '区', 'confidence': 0.993}, {'boundingBox': [1794, 1429, 1815, 1428, 1816, 1465, 1794, 1465], 'text': '港', 'confidence': 0.996}, {'boundingBox': [1832, 1428, 1853, 1428, 1853, 1465, 1832, 1465], 'text': '南', 'confidence': 0.992}, {'boundingBox': [1855, 1428, 2012, 1427, 2013, 1461, 1856, 1465], 'text': '2-15-2', 'confidence': 0.814}]}, {'boundingBox': [1614, 1472, 2009, 1467, 2010, 1505, 1614, 1511], 'text': '品川インターシティB棟2階', 'appearance': {'style': {'name': 'other', 'confidence': 0.972}}, 'words': [{'boundingBox': [1616, 1472, 1638, 1472, 1638, 1511, 1616, 1512], 'text': '品', 'confidence': 0.996}, {'boundingBox': [1645, 1472, 1668, 1472, 1667, 1511, 1645, 1511], 'text': '川', 'confidence': 0.996}, {'boundingBox': [1690, 1472, 1712, 1472, 1712, 1510, 1689, 1510], 'text': 'イ', 'confidence': 0.996}, {'boundingBox': [1714, 1472, 1737, 1471, 1736, 1509, 1714, 1510], 'text': 'ン', 'confidence': 0.996}, {'boundingBox': [1744, 1471, 1766, 1471, 1766, 1508, 1743, 1509], 'text': 'タ', 'confidence': 0.997}, {'boundingBox': [1774, 1471, 1796, 1471, 1795, 1508, 1773, 1508], 'text': 'ー', 'confidence': 0.993}, {'boundingBox': [1803, 1471, 1830, 1470, 1829, 1507, 1802, 1508], 'text': 'シ', 'confidence': 0.995}, {'boundingBox': [1843, 1470, 1865, 1470, 1864, 1507, 1842, 1507], 'text': 'テ', 'confidence': 0.996}, {'boundingBox': [1867, 1470, 1891, 1470, 1890, 1506, 1866, 1507], 'text': 'ィ', 'confidence': 0.995}, {'boundingBox': [1892, 1470, 1914, 1469, 1913, 1506, 1891, 1506], 'text': 'B', 'confidence': 0.996}, {'boundingBox': [1932, 1469, 1951, 1469, 1949, 1506, 1930, 1506], 'text': '棟', 'confidence': 0.996}, {'boundingBox': [1951, 1469, 1973, 1468, 1972, 1505, 1950, 1506], 'text': '2', 'confidence': 0.996}, {'boundingBox': [1981, 1468, 2003, 1468, 2001, 1505, 1979, 1505], 'text': '階', 'confidence': 0.997}]}, {'boundingBox': [1617, 1519, 1905, 1516, 1905, 1548, 1618, 1553], 'text': 'TEL 03-5783-5521', 'appearance': {'style': {'name': 'other', 'confidence': 0.972}}, 'words': [{'boundingBox': [1618, 1520, 1669, 1519, 1670, 1553, 1619, 1554], 'text': 'TEL', 'confidence': 0.995}, {'boundingBox': [1685, 1519, 1902, 1516, 1901, 1549, 1685, 1552], 'text': '03-5783-5521', 'confidence': 0.989}]}]}]}}\n"
     ]
    }
   ],
   "source": [
    "response_final = requests.get(operation_url, headers=headers)\n",
    "print(response_final.json())"
   ]
  },
  {
   "attachments": {},
   "cell_type": "markdown",
   "metadata": {},
   "source": [
    "文字どうしの間隔が離れている場合でも、一連のtextとして認識されるようになっている。\n",
    "例えば2021年・2022年モデルの両方で認識できていた\"領　収　証\"は、文字間が一文字分くらいしか離れていない。\n",
    "一方、2022年モデルでだけ認識できた\"氏　名\"は、文字間が2文字くらい空いている。よって、性能が向上していると言えそうだ。"
   ]
  }
 ],
 "metadata": {
  "kernelspec": {
   "display_name": "Python 3",
   "language": "python",
   "name": "python3"
  },
  "language_info": {
   "codemirror_mode": {
    "name": "ipython",
    "version": 3
   },
   "file_extension": ".py",
   "mimetype": "text/x-python",
   "name": "python",
   "nbconvert_exporter": "python",
   "pygments_lexer": "ipython3",
   "version": "3.11.2"
  },
  "orig_nbformat": 4
 },
 "nbformat": 4,
 "nbformat_minor": 2
}
