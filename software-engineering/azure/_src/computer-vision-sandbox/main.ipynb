{
 "cells": [
  {
   "cell_type": "code",
   "execution_count": 1,
   "metadata": {},
   "outputs": [
    {
     "name": "stdout",
     "output_type": "stream",
     "text": [
      "\n",
      "\u001b[0m\u001b[1mInitializing the backend...\u001b[0m\n",
      "\n",
      "\u001b[0m\u001b[1mInitializing provider plugins...\u001b[0m\n",
      "- Finding latest version of hashicorp/azurerm...\n",
      "- Installing hashicorp/azurerm v3.54.0...\n",
      "- Installed hashicorp/azurerm v3.54.0 (signed by HashiCorp)\n",
      "\n",
      "Terraform has created a lock file \u001b[1m.terraform.lock.hcl\u001b[0m to record the provider\n",
      "selections it made above. Include this file in your version control repository\n",
      "so that Terraform can guarantee to make the same selections by default when\n",
      "you run \"terraform init\" in the future.\u001b[0m\n",
      "\n",
      "\u001b[0m\u001b[1m\u001b[32mTerraform has been successfully initialized!\u001b[0m\u001b[32m\u001b[0m\n",
      "\u001b[0m\u001b[32m\n",
      "You may now begin working with Terraform. Try running \"terraform plan\" to see\n",
      "any changes that are required for your infrastructure. All Terraform commands\n",
      "should now work.\n",
      "\n",
      "If you ever set or change modules or backend configuration for Terraform,\n",
      "rerun this command to reinitialize your working directory. If you forget, other\n",
      "commands will detect it and remind you to do so if necessary.\u001b[0m\n"
     ]
    }
   ],
   "source": [
    "!terraform init"
   ]
  },
  {
   "cell_type": "code",
   "execution_count": 1,
   "metadata": {
    "vscode": {
     "languageId": "shellscript"
    }
   },
   "outputs": [
    {
     "name": "stdout",
     "output_type": "stream",
     "text": [
      "\n",
      "Terraform used the selected providers to generate the following execution plan.\n",
      "Resource actions are indicated with the following symbols:\n",
      "  \u001b[32m+\u001b[0m create\u001b[0m\n",
      "\n",
      "Terraform will perform the following actions:\n",
      "\n",
      "\u001b[1m  # azurerm_cognitive_account.cv_sandbox\u001b[0m will be created\n",
      "\u001b[0m  \u001b[32m+\u001b[0m\u001b[0m resource \"azurerm_cognitive_account\" \"cv_sandbox\" {\n",
      "      \u001b[32m+\u001b[0m\u001b[0m endpoint                           = (known after apply)\n",
      "      \u001b[32m+\u001b[0m\u001b[0m id                                 = (known after apply)\n",
      "      \u001b[32m+\u001b[0m\u001b[0m kind                               = \"ComputerVision\"\n",
      "      \u001b[32m+\u001b[0m\u001b[0m local_auth_enabled                 = true\n",
      "      \u001b[32m+\u001b[0m\u001b[0m location                           = \"japaneast\"\n",
      "      \u001b[32m+\u001b[0m\u001b[0m name                               = \"hiroga_cv_sandbox\"\n",
      "      \u001b[32m+\u001b[0m\u001b[0m outbound_network_access_restricted = false\n",
      "      \u001b[32m+\u001b[0m\u001b[0m primary_access_key                 = (sensitive value)\n",
      "      \u001b[32m+\u001b[0m\u001b[0m public_network_access_enabled      = true\n",
      "      \u001b[32m+\u001b[0m\u001b[0m resource_group_name                = \"cv-sandbox\"\n",
      "      \u001b[32m+\u001b[0m\u001b[0m secondary_access_key               = (sensitive value)\n",
      "      \u001b[32m+\u001b[0m\u001b[0m sku_name                           = \"F0\"\n",
      "      \u001b[32m+\u001b[0m\u001b[0m tags                               = {\n",
      "          \u001b[32m+\u001b[0m\u001b[0m \"Owner\" = \"hiroga\"\n",
      "        }\n",
      "    }\n",
      "\n",
      "\u001b[1m  # azurerm_resource_group.cv_sandbox\u001b[0m will be created\n",
      "\u001b[0m  \u001b[32m+\u001b[0m\u001b[0m resource \"azurerm_resource_group\" \"cv_sandbox\" {\n",
      "      \u001b[32m+\u001b[0m\u001b[0m id       = (known after apply)\n",
      "      \u001b[32m+\u001b[0m\u001b[0m location = \"japaneast\"\n",
      "      \u001b[32m+\u001b[0m\u001b[0m name     = \"cv-sandbox\"\n",
      "    }\n",
      "\n",
      "\u001b[1mPlan:\u001b[0m 2 to add, 0 to change, 0 to destroy.\n",
      "\u001b[0m\u001b[90m\n",
      "───────────────────────────────────────────────────────────────────────────────\u001b[0m\n",
      "\n",
      "Note: You didn't use the -out option to save this plan, so Terraform can't\n",
      "guarantee to take exactly these actions if you run \"terraform apply\" now.\n"
     ]
    }
   ],
   "source": [
    "!terraform plan"
   ]
  },
  {
   "cell_type": "code",
   "execution_count": 3,
   "metadata": {
    "vscode": {
     "languageId": "shellscript"
    }
   },
   "outputs": [
    {
     "name": "stdout",
     "output_type": "stream",
     "text": [
      "\n",
      "Terraform used the selected providers to generate the following execution plan.\n",
      "Resource actions are indicated with the following symbols:\n",
      "  \u001b[32m+\u001b[0m create\u001b[0m\n",
      "\n",
      "Terraform will perform the following actions:\n",
      "\n",
      "\u001b[1m  # azurerm_cognitive_account.cv_sandbox\u001b[0m will be created\n",
      "\u001b[0m  \u001b[32m+\u001b[0m\u001b[0m resource \"azurerm_cognitive_account\" \"cv_sandbox\" {\n",
      "      \u001b[32m+\u001b[0m\u001b[0m endpoint                           = (known after apply)\n",
      "      \u001b[32m+\u001b[0m\u001b[0m id                                 = (known after apply)\n",
      "      \u001b[32m+\u001b[0m\u001b[0m kind                               = \"ComputerVision\"\n",
      "      \u001b[32m+\u001b[0m\u001b[0m local_auth_enabled                 = true\n",
      "      \u001b[32m+\u001b[0m\u001b[0m location                           = \"japaneast\"\n",
      "      \u001b[32m+\u001b[0m\u001b[0m name                               = \"hiroga_cv_sandbox\"\n",
      "      \u001b[32m+\u001b[0m\u001b[0m outbound_network_access_restricted = false\n",
      "      \u001b[32m+\u001b[0m\u001b[0m primary_access_key                 = (sensitive value)\n",
      "      \u001b[32m+\u001b[0m\u001b[0m public_network_access_enabled      = true\n",
      "      \u001b[32m+\u001b[0m\u001b[0m resource_group_name                = \"cv-sandbox\"\n",
      "      \u001b[32m+\u001b[0m\u001b[0m secondary_access_key               = (sensitive value)\n",
      "      \u001b[32m+\u001b[0m\u001b[0m sku_name                           = \"F0\"\n",
      "      \u001b[32m+\u001b[0m\u001b[0m tags                               = {\n",
      "          \u001b[32m+\u001b[0m\u001b[0m \"Owner\" = \"hiroga\"\n",
      "        }\n",
      "    }\n",
      "\n",
      "\u001b[1m  # azurerm_resource_group.cv_sandbox\u001b[0m will be created\n",
      "\u001b[0m  \u001b[32m+\u001b[0m\u001b[0m resource \"azurerm_resource_group\" \"cv_sandbox\" {\n",
      "      \u001b[32m+\u001b[0m\u001b[0m id       = (known after apply)\n",
      "      \u001b[32m+\u001b[0m\u001b[0m location = \"japaneast\"\n",
      "      \u001b[32m+\u001b[0m\u001b[0m name     = \"cv-sandbox\"\n",
      "    }\n",
      "\n",
      "\u001b[1mPlan:\u001b[0m 2 to add, 0 to change, 0 to destroy.\n",
      "\u001b[0m\u001b[0m\u001b[1mazurerm_resource_group.cv_sandbox: Creating...\u001b[0m\u001b[0m\n",
      "\u001b[0m\u001b[1mazurerm_resource_group.cv_sandbox: Creation complete after 1s [id=/subscriptions/eb6531d0-ead7-457e-a987-f62f8e88a52f/resourceGroups/cv-sandbox]\u001b[0m\n",
      "\u001b[0m\u001b[1mazurerm_cognitive_account.cv_sandbox: Creating...\u001b[0m\u001b[0m\n",
      "\u001b[31m╷\u001b[0m\u001b[0m\n",
      "\u001b[31m│\u001b[0m \u001b[0m\u001b[1m\u001b[31mError: \u001b[0m\u001b[0m\u001b[1mcreating Account (Subscription: \"eb6531d0-ead7-457e-a987-f62f8e88a52f\"\n",
      "\u001b[31m│\u001b[0m \u001b[0mResource Group Name: \"cv-sandbox\"\n",
      "\u001b[31m│\u001b[0m \u001b[0mAccount Name: \"hiroga_cv_sandbox\"): cognitiveservicesaccounts.CognitiveServicesAccountsClient#AccountsCreate: Failure sending request: StatusCode=0 -- Original Error: Code=\"ResourceKindRequireAcceptTerms\" Message=\"This subscription cannot create ComputerVision until you agree to Responsible AI terms for this resource. You can agree to Responsible AI terms by creating a resource through the Azure Portal then trying again. For more detail go to https://go.microsoft.com/fwlink/?linkid=2164911\"\u001b[0m\n",
      "\u001b[31m│\u001b[0m \u001b[0m\n",
      "\u001b[31m│\u001b[0m \u001b[0m\u001b[0m  with azurerm_cognitive_account.cv_sandbox,\n",
      "\u001b[31m│\u001b[0m \u001b[0m  on main.tf line 10, in resource \"azurerm_cognitive_account\" \"cv_sandbox\":\n",
      "\u001b[31m│\u001b[0m \u001b[0m  10: resource \"azurerm_cognitive_account\" \"cv_sandbox\" \u001b[4m{\u001b[0m\u001b[0m\n",
      "\u001b[31m│\u001b[0m \u001b[0m\n",
      "\u001b[31m╵\u001b[0m\u001b[0m\n"
     ]
    }
   ],
   "source": [
    "!terraform apply -auto-approve"
   ]
  },
  {
   "attachments": {},
   "cell_type": "markdown",
   "metadata": {},
   "source": [
    "Creating a resource through the Azure Portal, and remove it."
   ]
  },
  {
   "cell_type": "code",
   "execution_count": 5,
   "metadata": {
    "vscode": {
     "languageId": "shellscript"
    }
   },
   "outputs": [
    {
     "name": "stdout",
     "output_type": "stream",
     "text": [
      "\u001b[0m\u001b[1mazurerm_resource_group.cv_sandbox: Refreshing state... [id=/subscriptions/eb6531d0-ead7-457e-a987-f62f8e88a52f/resourceGroups/cv-sandbox]\u001b[0m\n",
      "\n",
      "Terraform used the selected providers to generate the following execution plan.\n",
      "Resource actions are indicated with the following symbols:\n",
      "  \u001b[32m+\u001b[0m create\u001b[0m\n",
      "\n",
      "Terraform will perform the following actions:\n",
      "\n",
      "\u001b[1m  # azurerm_cognitive_account.cv_sandbox\u001b[0m will be created\n",
      "\u001b[0m  \u001b[32m+\u001b[0m\u001b[0m resource \"azurerm_cognitive_account\" \"cv_sandbox\" {\n",
      "      \u001b[32m+\u001b[0m\u001b[0m endpoint                           = (known after apply)\n",
      "      \u001b[32m+\u001b[0m\u001b[0m id                                 = (known after apply)\n",
      "      \u001b[32m+\u001b[0m\u001b[0m kind                               = \"ComputerVision\"\n",
      "      \u001b[32m+\u001b[0m\u001b[0m local_auth_enabled                 = true\n",
      "      \u001b[32m+\u001b[0m\u001b[0m location                           = \"japaneast\"\n",
      "      \u001b[32m+\u001b[0m\u001b[0m name                               = \"hiroga-cv-sandbox\"\n",
      "      \u001b[32m+\u001b[0m\u001b[0m outbound_network_access_restricted = false\n",
      "      \u001b[32m+\u001b[0m\u001b[0m primary_access_key                 = (sensitive value)\n",
      "      \u001b[32m+\u001b[0m\u001b[0m public_network_access_enabled      = true\n",
      "      \u001b[32m+\u001b[0m\u001b[0m resource_group_name                = \"cv-sandbox\"\n",
      "      \u001b[32m+\u001b[0m\u001b[0m secondary_access_key               = (sensitive value)\n",
      "      \u001b[32m+\u001b[0m\u001b[0m sku_name                           = \"F0\"\n",
      "      \u001b[32m+\u001b[0m\u001b[0m tags                               = {\n",
      "          \u001b[32m+\u001b[0m\u001b[0m \"Owner\" = \"hiroga\"\n",
      "        }\n",
      "    }\n",
      "\n",
      "\u001b[1mPlan:\u001b[0m 1 to add, 0 to change, 0 to destroy.\n",
      "\u001b[0m\u001b[0m\u001b[1mazurerm_cognitive_account.cv_sandbox: Creating...\u001b[0m\u001b[0m\n",
      "\u001b[0m\u001b[1mazurerm_cognitive_account.cv_sandbox: Creation complete after 2s [id=/subscriptions/eb6531d0-ead7-457e-a987-f62f8e88a52f/resourceGroups/cv-sandbox/providers/Microsoft.CognitiveServices/accounts/hiroga-cv-sandbox]\u001b[0m\n",
      "\u001b[0m\u001b[1m\u001b[32m\n",
      "Apply complete! Resources: 1 added, 0 changed, 0 destroyed.\n",
      "\u001b[0m"
     ]
    }
   ],
   "source": [
    "!terraform apply -auto-approve"
   ]
  },
  {
   "cell_type": "code",
   "execution_count": 59,
   "metadata": {},
   "outputs": [
    {
     "data": {
      "text/plain": [
       "True"
      ]
     },
     "execution_count": 59,
     "metadata": {},
     "output_type": "execute_result"
    }
   ],
   "source": [
    "from dotenv import load_dotenv\n",
    "\n",
    "load_dotenv()"
   ]
  },
  {
   "cell_type": "code",
   "execution_count": 60,
   "metadata": {},
   "outputs": [],
   "source": [
    "import os\n",
    "import requests\n",
    "\n",
    "API_KEY = os.environ.get(\"KEY\")\n",
    "ENDPOINT = 'https://japaneast.cognitiveservices.azure.com/'\n",
    "\n",
    "headers = {'Ocp-Apim-Subscription-Key': API_KEY,\n",
    "           'Content-Type': 'application/octet-stream'}"
   ]
  },
  {
   "cell_type": "code",
   "execution_count": 36,
   "metadata": {},
   "outputs": [
    {
     "name": "stdout",
     "output_type": "stream",
     "text": [
      "{'language': 'en', 'textAngle': 0.0, 'orientation': 'Up', 'regions': [{'boundingBox': '21,16,304,451', 'lines': [{'boundingBox': '28,16,288,41', 'words': [{'boundingBox': '28,16,288,41', 'text': 'NOTHING'}]}, {'boundingBox': '27,66,283,52', 'words': [{'boundingBox': '27,66,283,52', 'text': 'EXISTS'}]}, {'boundingBox': '27,128,292,49', 'words': [{'boundingBox': '27,128,292,49', 'text': 'EXCEPT'}]}, {'boundingBox': '24,188,292,54', 'words': [{'boundingBox': '24,188,292,54', 'text': 'ATOMS'}]}, {'boundingBox': '22,253,297,32', 'words': [{'boundingBox': '22,253,105,32', 'text': 'AND'}, {'boundingBox': '144,253,175,32', 'text': 'EMPTY'}]}, {'boundingBox': '21,298,304,60', 'words': [{'boundingBox': '21,298,304,60', 'text': 'SPACE.'}]}, {'boundingBox': '26,387,294,37', 'words': [{'boundingBox': '26,387,210,37', 'text': 'Everything'}, {'boundingBox': '249,389,71,27', 'text': 'else'}]}, {'boundingBox': '127,431,198,36', 'words': [{'boundingBox': '127,431,31,29', 'text': 'is'}, {'boundingBox': '172,431,153,36', 'text': 'opinion.'}]}]}], 'modelVersion': '2021-04-01'}\n"
     ]
    }
   ],
   "source": [
    "params = {'language': 'unk'}\n",
    "\n",
    "def image_to_bytes(image_path):\n",
    "    with open(image_path, \"rb\") as image_file:\n",
    "        image_data = image_file.read()\n",
    "    return image_data\n",
    "\n",
    "def url_to_bytes(image_url):\n",
    "    response = requests.get(image_url)\n",
    "    response.raise_for_status()\n",
    "    return response.content\n",
    "\n",
    "image_url = \"https://upload.wikimedia.org/wikipedia/commons/thumb/a/af/Atomist_quote_from_Democritus.png/338px-Atomist_quote_from_Democritus.png\"\n",
    "image_data = url_to_bytes(image_url)\n",
    "\n",
    "response = requests.post(ENDPOINT + \"vision/v3.2/ocr\", headers=headers,\n",
    "                            params=params,  data=image_data)\n",
    "print(response.json())\n"
   ]
  },
  {
   "cell_type": "code",
   "execution_count": 40,
   "metadata": {},
   "outputs": [],
   "source": [
    "image_url = \"https://upload.wikimedia.org/wikipedia/commons/thumb/a/af/Atomist_quote_from_Democritus.png/338px-Atomist_quote_from_Democritus.png\"\n",
    "image_data = url_to_bytes(image_url)\n",
    "params = { 'language ': 'ja','model-version':'2021-04-12'}\n",
    "response = requests.post(ENDPOINT + \"vision/v3.2/read/analyze\", headers=headers,\n",
    "                            params=params,  data=image_data)\n",
    "response.raise_for_status()\n",
    "operation_url = response.headers[\"Operation-Location\"]\n"
   ]
  },
  {
   "cell_type": "code",
   "execution_count": 41,
   "metadata": {},
   "outputs": [
    {
     "name": "stdout",
     "output_type": "stream",
     "text": [
      "{'status': 'succeeded', 'createdDateTime': '2023-04-29T02:53:13Z', 'lastUpdatedDateTime': '2023-04-29T02:53:14Z', 'analyzeResult': {'version': '3.2.0', 'modelVersion': '2021-04-12', 'readResults': [{'page': 1, 'angle': 0, 'width': 338, 'height': 479, 'unit': 'pixel', 'lines': [{'boundingBox': [25, 14, 318, 14, 318, 59, 25, 59], 'text': 'NOTHING', 'appearance': {'style': {'name': 'other', 'confidence': 0.878}}, 'words': [{'boundingBox': [25, 15, 296, 15, 296, 60, 25, 60], 'text': 'NOTHING', 'confidence': 0.994}]}, {'boundingBox': [24, 65, 315, 65, 314, 117, 24, 116], 'text': 'EXISTS', 'appearance': {'style': {'name': 'other', 'confidence': 0.878}}, 'words': [{'boundingBox': [25, 67, 289, 67, 287, 118, 24, 117], 'text': 'EXISTS', 'confidence': 0.994}]}, {'boundingBox': [24, 127, 318, 126, 319, 176, 24, 177], 'text': 'EXCEPT', 'appearance': {'style': {'name': 'other', 'confidence': 0.878}}, 'words': [{'boundingBox': [25, 128, 300, 127, 299, 177, 25, 176], 'text': 'EXCEPT', 'confidence': 0.996}]}, {'boundingBox': [24, 184, 318, 184, 318, 244, 24, 244], 'text': 'ATOMS', 'appearance': {'style': {'name': 'other', 'confidence': 0.878}}, 'words': [{'boundingBox': [27, 185, 298, 186, 299, 244, 29, 245], 'text': 'ATOMS', 'confidence': 0.994}]}, {'boundingBox': [20, 251, 320, 250, 320, 285, 20, 286], 'text': 'AND EMPTY', 'appearance': {'style': {'name': 'other', 'confidence': 0.878}}, 'words': [{'boundingBox': [24, 251, 110, 251, 109, 287, 23, 286], 'text': 'AND', 'confidence': 0.994}, {'boundingBox': [141, 251, 305, 251, 304, 286, 139, 287], 'text': 'EMPTY', 'confidence': 0.996}]}, {'boundingBox': [19, 294, 325, 295, 324, 360, 19, 360], 'text': 'SPACE.', 'appearance': {'style': {'name': 'other', 'confidence': 0.878}}, 'words': [{'boundingBox': [19, 295, 322, 297, 325, 360, 20, 361], 'text': 'SPACE.', 'confidence': 0.99}]}, {'boundingBox': [22, 387, 324, 387, 323, 425, 22, 424], 'text': 'Everything else', 'appearance': {'style': {'name': 'other', 'confidence': 0.878}}, 'words': [{'boundingBox': [23, 389, 230, 387, 229, 425, 23, 421], 'text': 'Everything', 'confidence': 0.994}, {'boundingBox': [245, 387, 317, 388, 316, 424, 244, 425], 'text': 'else', 'confidence': 0.994}]}, {'boundingBox': [124, 432, 326, 431, 326, 464, 124, 464], 'text': 'is opinion.', 'appearance': {'style': {'name': 'other', 'confidence': 0.878}}, 'words': [{'boundingBox': [126, 433, 155, 433, 154, 463, 124, 462], 'text': 'is', 'confidence': 0.994}, {'boundingBox': [166, 433, 326, 432, 325, 462, 164, 464], 'text': 'opinion.', 'confidence': 0.995}]}]}]}}\n"
     ]
    }
   ],
   "source": [
    "response_final = requests.get(operation_url, headers=headers)\n",
    "print(response_final.json())\n"
   ]
  },
  {
   "cell_type": "markdown",
   "metadata": {},
   "source": [
    "## 日本語の読み取り結果は、言語を指定した場合とそうでない場合でどのくらい違う？"
   ]
  },
  {
   "cell_type": "code",
   "execution_count": 62,
   "metadata": {},
   "outputs": [
    {
     "name": "stdout",
     "output_type": "stream",
     "text": [
      "{'language': 'ja', 'textAngle': 0.0, 'orientation': 'Up', 'regions': [{'boundingBox': '673,598,2816,1999', 'lines': [{'boundingBox': '2179,598,69,62', 'words': [{'boundingBox': '2179,598,69,62', 'text': '証'}]}, {'boundingBox': '1954,603,180,68', 'words': [{'boundingBox': '1954,603,69,65', 'text': '領'}, {'boundingBox': '2066,611,68,60', 'text': '収'}]}, {'boundingBox': '691,840,204,49', 'words': [{'boundingBox': '691,845,47,44', 'text': '氏'}, {'boundingBox': '853,840,42,46', 'text': '名'}]}, {'boundingBox': '1017,824,459,67', 'words': [{'boundingBox': '1017,830,70,61', 'text': '小'}, {'boundingBox': '1096,826,70,62', 'text': '笠'}, {'boundingBox': '1170,826,75,63', 'text': '原'}, {'boundingBox': '1331,824,69,64', 'text': '寛'}, {'boundingBox': '1413,826,63,62', 'text': '明'}]}, {'boundingBox': '1564,824,74,65', 'words': [{'boundingBox': '1564,824,74,65', 'text': '様'}]}, {'boundingBox': '1009,965,191,39', 'words': [{'boundingBox': '1009,965,191,39', 'text': '8704358'}]}, {'boundingBox': '680,969,200,44', 'words': [{'boundingBox': '680,969,40,44', 'text': 'カ'}, {'boundingBox': '725,976,19,37', 'text': 'ノ'}, {'boundingBox': '748,973,27,37', 'text': 'レ'}, {'boundingBox': '779,971,45,42', 'text': 'テ'}, {'boundingBox': '826,971,54,37', 'text': 'ID'}]}, {'boundingBox': '673,1082,644,66', 'words': [{'boundingBox': '673,1089,56,54', 'text': 'ご'}, {'boundingBox': '731,1089,60,59', 'text': '請'}, {'boundingBox': '797,1089,58,56', 'text': '求'}, {'boundingBox': '863,1087,59,56', 'text': '金'}, {'boundingBox': '928,1086,62,57', 'text': '額'}, {'boundingBox': '997,1084,58,58', 'text': '合'}, {'boundingBox': '1063,1083,60,57', 'text': '計'}, {'boundingBox': '1137,1084,19,55', 'text': '('}, {'boundingBox': '1162,1082,61,58', 'text': '税'}, {'boundingBox': '1230,1083,60,54', 'text': '込'}, {'boundingBox': '1299,1083,18,55', 'text': ')'}]}, {'boundingBox': '1375,1297,182,50', 'words': [{'boundingBox': '1375,1299,47,48', 'text': '内'}, {'boundingBox': '1505,1297,52,50', 'text': '容'}]}, {'boundingBox': '1015,1402,153,46', 'words': [{'boundingBox': '1015,1403,48,45', 'text': '診'}, {'boundingBox': '1067,1402,48,46', 'text': '察'}, {'boundingBox': '1119,1402,49,46', 'text': '料'}]}, {'boundingBox': '699,1408,225,45', 'words': [{'boundingBox': '699,1415,98,36', 'text': '2022'}, {'boundingBox': '799,1410,25,43', 'text': '/'}, {'boundingBox': '826,1414,22,34', 'text': '8'}, {'boundingBox': '850,1408,25,44', 'text': '/'}, {'boundingBox': '877,1412,47,35', 'text': '30'}]}, {'boundingBox': '1009,1467,463,49', 'words': [{'boundingBox': '1009,1476,25,35', 'text': 'A'}, {'boundingBox': '1037,1470,48,44', 'text': '型'}, {'boundingBox': '1088,1471,51,44', 'text': '肝'}, {'boundingBox': '1142,1468,47,48', 'text': '炎'}, {'boundingBox': '1202,1469,15,45', 'text': '['}, {'boundingBox': '1221,1467,49,47', 'text': '輸'}, {'boundingBox': '1273,1470,49,42', 'text': '入'}, {'boundingBox': '1326,1467,16,46', 'text': ']'}, {'boundingBox': '1355,1473,17,35', 'text': '1'}, {'boundingBox': '1381,1469,47,43', 'text': '回'}, {'boundingBox': '1442,1469,30,42', 'text': '目'}]}, {'boundingBox': '1005,1539,203,44', 'words': [{'boundingBox': '1005,1539,51,44', 'text': '腸'}, {'boundingBox': '1062,1539,46,42', 'text': 'チ'}, {'boundingBox': '1118,1543,39,35', 'text': 'フ'}, {'boundingBox': '1168,1544,40,32', 'text': 'ス'}]}, {'boundingBox': '1000,1603,263,49', 'words': [{'boundingBox': '1000,1605,53,47', 'text': '破'}, {'boundingBox': '1055,1605,50,47', 'text': '傷'}, {'boundingBox': '1107,1607,50,44', 'text': '風'}, {'boundingBox': '1163,1604,47,46', 'text': '追'}, {'boundingBox': '1212,1603,51,45', 'text': '加'}]}, {'boundingBox': '1008,1670,465,52', 'words': [{'boundingBox': '1008,1679,29,41', 'text': '日'}, {'boundingBox': '1050,1674,51,48', 'text': '本'}, {'boundingBox': '1102,1675,52,45', 'text': '脳'}, {'boundingBox': '1158,1673,47,48', 'text': '炎'}, {'boundingBox': '1218,1673,16,47', 'text': '['}, {'boundingBox': '1239,1674,47,46', 'text': '国'}, {'boundingBox': '1291,1672,50,46', 'text': '産'}, {'boundingBox': '1345,1671,15,47', 'text': ']'}, {'boundingBox': '1372,1670,47,47', 'text': '追'}, {'boundingBox': '1423,1670,50,45', 'text': '加'}]}, {'boundingBox': '1574,1087,233,52', 'words': [{'boundingBox': '1574,1087,32,44', 'text': '\\\\'}, {'boundingBox': '1609,1087,62,44', 'text': '42'}, {'boundingBox': '1676,1123,12,16', 'text': ','}, {'boundingBox': '1711,1088,96,45', 'text': '020'}]}, {'boundingBox': '2717,1164,694,54', 'words': [{'boundingBox': '2717,1164,50,46', 'text': '発'}, {'boundingBox': '2772,1164,51,47', 'text': '行'}, {'boundingBox': '2835,1168,37,41', 'text': '日'}, {'boundingBox': '2987,1171,107,38', 'text': '2022'}, {'boundingBox': '3114,1167,49,48', 'text': '年'}, {'boundingBox': '3184,1173,24,38', 'text': '8'}, {'boundingBox': '3232,1169,40,47', 'text': '月'}, {'boundingBox': '3297,1175,51,37', 'text': '30'}, {'boundingBox': '3374,1174,37,44', 'text': '日'}]}, {'boundingBox': '2677,1346,658,51', 'words': [{'boundingBox': '2677,1363,12,10', 'text': '・'}, {'boundingBox': '2710,1346,49,44', 'text': '本'}, {'boundingBox': '2761,1346,50,45', 'text': '書'}, {'boundingBox': '2816,1353,43,33', 'text': 'の'}, {'boundingBox': '2865,1348,48,43', 'text': '再'}, {'boundingBox': '2915,1349,48,43', 'text': '発'}, {'boundingBox': '2965,1348,50,44', 'text': '行'}, {'boundingBox': '3022,1351,44,40', 'text': 'は'}, {'boundingBox': '3069,1348,50,45', 'text': '致'}, {'boundingBox': '3127,1352,38,38', 'text': 'し'}, {'boundingBox': '3172,1351,41,41', 'text': 'ま'}, {'boundingBox': '3219,1352,47,39', 'text': 'せ'}, {'boundingBox': '3274,1352,41,40', 'text': 'ん'}, {'boundingBox': '3320,1383,15,14', 'text': '。'}]}, {'boundingBox': '2680,1412,809,52', 'words': [{'boundingBox': '2680,1429,12,10', 'text': '・'}, {'boundingBox': '2714,1412,49,45', 'text': '本'}, {'boundingBox': '2764,1413,51,46', 'text': '領'}, {'boundingBox': '2818,1413,48,44', 'text': '収'}, {'boundingBox': '2869,1415,50,42', 'text': '証'}, {'boundingBox': '2925,1413,44,43', 'text': 'は'}, {'boundingBox': '2973,1413,47,44', 'text': '大'}, {'boundingBox': '3022,1415,47,44', 'text': '切'}, {'boundingBox': '3078,1417,42,40', 'text': 'に'}, {'boundingBox': '3124,1416,49,44', 'text': '保'}, {'boundingBox': '3176,1415,45,46', 'text': '管'}, {'boundingBox': '3232,1419,39,39', 'text': 'し'}, {'boundingBox': '3277,1421,41,37', 'text': 'て'}, {'boundingBox': '3326,1419,44,42', 'text': '下'}, {'boundingBox': '3383,1416,32,44', 'text': 'さ'}, {'boundingBox': '3426,1423,44,34', 'text': 'い'}, {'boundingBox': '3475,1449,14,15', 'text': '。'}]}, {'boundingBox': '2910,1552,252,38', 'words': [{'boundingBox': '2910,1552,252,38', 'text': '2022034125'}]}, {'boundingBox': '2157,1300,111,49', 'words': [{'boundingBox': '2157,1301,51,48', 'text': '金'}, {'boundingBox': '2214,1300,54,48', 'text': '額'}]}, {'boundingBox': '2195,1403,155,41', 'words': [{'boundingBox': '2195,1405,25,35', 'text': '\\\\'}, {'boundingBox': '2224,1405,21,34', 'text': '2'}, {'boundingBox': '2251,1431,8,13', 'text': ','}, {'boundingBox': '2275,1403,75,35', 'text': '970'}]}, {'boundingBox': '2171,1469,182,42', 'words': [{'boundingBox': '2171,1471,25,35', 'text': '\\\\'}, {'boundingBox': '2202,1470,45,36', 'text': '15'}, {'boundingBox': '2253,1497,8,14', 'text': ','}, {'boundingBox': '2277,1469,76,35', 'text': '400'}]}, {'boundingBox': '2173,1536,182,42', 'words': [{'boundingBox': '2173,1537,24,35', 'text': '\\\\'}, {'boundingBox': '2202,1536,47,36', 'text': '13'}, {'boundingBox': '2255,1564,8,14', 'text': ','}, {'boundingBox': '2279,1536,76,36', 'text': '200'}]}, {'boundingBox': '2200,1604,157,43', 'words': [{'boundingBox': '2200,1604,25,36', 'text': '\\\\'}, {'boundingBox': '2230,1604,21,36', 'text': '3'}, {'boundingBox': '2256,1633,9,14', 'text': ','}, {'boundingBox': '2282,1604,75,37', 'text': '850'}]}, {'boundingBox': '2201,1673,157,43', 'words': [{'boundingBox': '2201,1673,26,37', 'text': '\\\\'}, {'boundingBox': '2231,1673,22,37', 'text': '6'}, {'boundingBox': '2258,1702,7,14', 'text': ','}, {'boundingBox': '2283,1673,75,38', 'text': '600'}]}, {'boundingBox': '3045,1860,209,54', 'words': [{'boundingBox': '3045,1878,22,34', 'text': 'ハ'}, {'boundingBox': '3070,1873,4,4', 'text': '・'}, {'boundingBox': '3090,1868,28,46', 'text': 'イ'}, {'boundingBox': '3132,1882,41,12', 'text': 'ー'}, {'boundingBox': '3177,1866,39,40', 'text': 'ス'}, {'boundingBox': '3231,1860,23,45', 'text': 'ト'}]}, {'boundingBox': '2689,2107,514,58', 'words': [{'boundingBox': '2689,2113,52,52', 'text': '医'}, {'boundingBox': '2744,2110,54,55', 'text': '療'}, {'boundingBox': '2804,2111,55,53', 'text': '法'}, {'boundingBox': '2864,2112,53,52', 'text': '人'}, {'boundingBox': '2921,2110,58,54', 'text': '社'}, {'boundingBox': '2980,2111,50,52', 'text': '団'}, {'boundingBox': '3035,2109,57,54', 'text': '佳'}, {'boundingBox': '3094,2107,53,56', 'text': '有'}, {'boundingBox': '3151,2108,52,54', 'text': '会'}]}, {'boundingBox': '2694,2176,511,54', 'words': [{'boundingBox': '2694,2177,47,52', 'text': '品'}, {'boundingBox': '2749,2177,49,53', 'text': '川'}, {'boundingBox': '2806,2177,42,51', 'text': 'ィ'}, {'boundingBox': '2853,2195,53,10', 'text': 'ー'}, {'boundingBox': '2911,2182,44,40', 'text': 'ス'}, {'boundingBox': '2961,2176,28,51', 'text': 'ト'}, {'boundingBox': '2994,2178,38,48', 'text': 'ク'}, {'boundingBox': '3038,2176,26,50', 'text': 'リ'}, {'boundingBox': '3073,2188,48,29', 'text': 'ニ'}, {'boundingBox': '3126,2191,37,38', 'text': 'ッ'}, {'boundingBox': '3167,2176,38,49', 'text': 'ク'}]}, {'boundingBox': '2695,2250,731,56', 'words': [{'boundingBox': '2695,2255,252,51', 'text': 'Shinagawa'}, {'boundingBox': '2968,2254,107,42', 'text': 'East'}, {'boundingBox': '3093,2251,179,44', 'text': 'Medical'}, {'boundingBox': '3294,2250,132,43', 'text': 'Clinic'}]}, {'boundingBox': '2702,2324,287,51', 'words': [{'boundingBox': '2702,2324,42,51', 'text': '〒'}, {'boundingBox': '2758,2328,83,45', 'text': '108'}, {'boundingBox': '2845,2346,27,5', 'text': 'ー'}, {'boundingBox': '2875,2326,114,47', 'text': '6102'}]}, {'boundingBox': '2700,2388,671,64', 'words': [{'boundingBox': '2700,2395,56,56', 'text': '東'}, {'boundingBox': '2758,2395,55,55', 'text': '京'}, {'boundingBox': '2817,2394,56,58', 'text': '都'}, {'boundingBox': '2877,2393,56,56', 'text': '港'}, {'boundingBox': '2940,2395,51,54', 'text': '区'}, {'boundingBox': '2994,2392,55,55', 'text': '港'}, {'boundingBox': '3052,2388,53,60', 'text': '南'}, {'boundingBox': '3113,2397,31,44', 'text': '2'}, {'boundingBox': '3152,2415,46,6', 'text': 'ー'}, {'boundingBox': '3209,2395,66,46', 'text': '15'}, {'boundingBox': '3285,2414,44,6', 'text': 'ー'}, {'boundingBox': '3340,2395,31,45', 'text': '2'}]}, {'boundingBox': '2707,2462,651,63', 'words': [{'boundingBox': '2707,2472,48,53', 'text': '品'}, {'boundingBox': '2761,2470,51,55', 'text': '川'}, {'boundingBox': '2821,2470,42,52', 'text': 'イ'}, {'boundingBox': '2868,2476,48,41', 'text': 'ン'}, {'boundingBox': '2920,2470,40,50', 'text': 'タ'}, {'boundingBox': '2966,2488,53,9', 'text': 'ー'}, {'boundingBox': '3025,2472,50,45', 'text': 'シ'}, {'boundingBox': '3077,2469,51,49', 'text': 'テ'}, {'boundingBox': '3132,2478,35,43', 'text': 'ィ'}, {'boundingBox': '3170,2471,41,44', 'text': 'B'}, {'boundingBox': '3211,2462,60,58', 'text': '棟'}, {'boundingBox': '3271,2470,27,44', 'text': '2'}, {'boundingBox': '3302,2462,56,58', 'text': '階'}]}, {'boundingBox': '2704,2546,489,51', 'words': [{'boundingBox': '2704,2551,110,46', 'text': 'TEL'}, {'boundingBox': '2834,2549,56,46', 'text': '03'}, {'boundingBox': '2894,2568,29,5', 'text': 'ー'}, {'boundingBox': '2927,2547,115,47', 'text': '5783'}, {'boundingBox': '3045,2566,28,6', 'text': 'ー'}, {'boundingBox': '3077,2546,116,46', 'text': '5521'}]}]}], 'modelVersion': '2021-04-01'}\n"
     ]
    }
   ],
   "source": [
    "## 日本語を指定\n",
    "image_url = \"https://bnz07pap001files.storage.live.com/y4mPqREQH0nlmIEDpM4MSz2V8GijgLNsO0fuyanRq6poVohhpozBsVM5mFChWd2THXyJlqLqliJ8wAx3lDmWYA5u-QNFAJTIGPYNi8nHiJAnm325GKKz1vKODN3GYW_073y32E5ZeYucoQrHhxRSpy6OMysp-lRwAE5sJi5ruP7DEk?width=4032&height=3024&cropmode=none\"\n",
    "image_data = url_to_bytes(image_url)\n",
    "params = {'language': 'ja'}\n",
    "\n",
    "response = requests.post(ENDPOINT + \"vision/v3.2/ocr\", headers=headers,\n",
    "                            params=params,  data=image_data)\n",
    "print(response.json())"
   ]
  },
  {
   "cell_type": "code",
   "execution_count": 63,
   "metadata": {},
   "outputs": [
    {
     "name": "stdout",
     "output_type": "stream",
     "text": [
      "{'language': 'ja', 'textAngle': 0.0, 'orientation': 'Up', 'regions': [{'boundingBox': '673,598,2816,1999', 'lines': [{'boundingBox': '2179,598,69,62', 'words': [{'boundingBox': '2179,598,69,62', 'text': '証'}]}, {'boundingBox': '1954,603,180,68', 'words': [{'boundingBox': '1954,603,69,65', 'text': '領'}, {'boundingBox': '2066,611,68,60', 'text': '収'}]}, {'boundingBox': '691,840,204,49', 'words': [{'boundingBox': '691,845,47,44', 'text': '氏'}, {'boundingBox': '853,840,42,46', 'text': '名'}]}, {'boundingBox': '1017,824,459,67', 'words': [{'boundingBox': '1017,830,70,61', 'text': '小'}, {'boundingBox': '1096,826,70,62', 'text': '笠'}, {'boundingBox': '1170,826,75,63', 'text': '原'}, {'boundingBox': '1331,824,69,64', 'text': '寛'}, {'boundingBox': '1413,826,63,62', 'text': '明'}]}, {'boundingBox': '1564,824,74,65', 'words': [{'boundingBox': '1564,824,74,65', 'text': '様'}]}, {'boundingBox': '1009,965,191,39', 'words': [{'boundingBox': '1009,965,191,39', 'text': '8704358'}]}, {'boundingBox': '680,969,200,44', 'words': [{'boundingBox': '680,969,40,44', 'text': 'カ'}, {'boundingBox': '725,976,19,37', 'text': 'ノ'}, {'boundingBox': '748,973,27,37', 'text': 'レ'}, {'boundingBox': '779,971,45,42', 'text': 'テ'}, {'boundingBox': '826,971,54,37', 'text': 'ID'}]}, {'boundingBox': '673,1082,644,66', 'words': [{'boundingBox': '673,1089,56,54', 'text': 'ご'}, {'boundingBox': '731,1089,60,59', 'text': '請'}, {'boundingBox': '797,1089,58,56', 'text': '求'}, {'boundingBox': '863,1087,59,56', 'text': '金'}, {'boundingBox': '928,1086,62,57', 'text': '額'}, {'boundingBox': '997,1084,58,58', 'text': '合'}, {'boundingBox': '1063,1083,60,57', 'text': '計'}, {'boundingBox': '1137,1084,19,55', 'text': '('}, {'boundingBox': '1162,1082,61,58', 'text': '税'}, {'boundingBox': '1230,1083,60,54', 'text': '込'}, {'boundingBox': '1299,1083,18,55', 'text': ')'}]}, {'boundingBox': '1574,1087,233,52', 'words': [{'boundingBox': '1574,1087,32,44', 'text': '\\\\'}, {'boundingBox': '1609,1087,62,44', 'text': '42'}, {'boundingBox': '1676,1123,12,16', 'text': ','}, {'boundingBox': '1711,1088,96,45', 'text': '020'}]}, {'boundingBox': '2717,1164,694,54', 'words': [{'boundingBox': '2717,1164,50,46', 'text': '発'}, {'boundingBox': '2772,1164,51,47', 'text': '行'}, {'boundingBox': '2835,1168,37,41', 'text': '日'}, {'boundingBox': '2987,1171,107,38', 'text': '2022'}, {'boundingBox': '3114,1167,49,48', 'text': '年'}, {'boundingBox': '3184,1173,24,38', 'text': '8'}, {'boundingBox': '3232,1169,40,47', 'text': '月'}, {'boundingBox': '3297,1175,51,37', 'text': '30'}, {'boundingBox': '3374,1174,37,44', 'text': '日'}]}, {'boundingBox': '1375,1297,182,50', 'words': [{'boundingBox': '1375,1299,47,48', 'text': '内'}, {'boundingBox': '1505,1297,52,50', 'text': '容'}]}, {'boundingBox': '2157,1300,111,49', 'words': [{'boundingBox': '2157,1301,51,48', 'text': '金'}, {'boundingBox': '2214,1300,54,48', 'text': '額'}]}, {'boundingBox': '2677,1346,658,51', 'words': [{'boundingBox': '2677,1363,12,10', 'text': '・'}, {'boundingBox': '2710,1346,49,44', 'text': '本'}, {'boundingBox': '2761,1346,50,45', 'text': '書'}, {'boundingBox': '2816,1353,43,33', 'text': 'の'}, {'boundingBox': '2865,1348,48,43', 'text': '再'}, {'boundingBox': '2915,1349,48,43', 'text': '発'}, {'boundingBox': '2965,1348,50,44', 'text': '行'}, {'boundingBox': '3022,1351,44,40', 'text': 'は'}, {'boundingBox': '3069,1348,50,45', 'text': '致'}, {'boundingBox': '3127,1352,38,38', 'text': 'し'}, {'boundingBox': '3172,1351,41,41', 'text': 'ま'}, {'boundingBox': '3219,1352,47,39', 'text': 'せ'}, {'boundingBox': '3274,1352,41,40', 'text': 'ん'}, {'boundingBox': '3320,1383,15,14', 'text': '。'}]}, {'boundingBox': '1015,1402,153,46', 'words': [{'boundingBox': '1015,1403,48,45', 'text': '診'}, {'boundingBox': '1067,1402,48,46', 'text': '察'}, {'boundingBox': '1119,1402,49,46', 'text': '料'}]}, {'boundingBox': '2195,1403,155,41', 'words': [{'boundingBox': '2195,1405,25,35', 'text': '\\\\'}, {'boundingBox': '2224,1405,21,34', 'text': '2'}, {'boundingBox': '2251,1431,8,13', 'text': ','}, {'boundingBox': '2275,1403,75,35', 'text': '970'}]}, {'boundingBox': '699,1408,225,45', 'words': [{'boundingBox': '699,1415,98,36', 'text': '2022'}, {'boundingBox': '799,1410,25,43', 'text': '/'}, {'boundingBox': '826,1414,22,34', 'text': '8'}, {'boundingBox': '850,1408,25,44', 'text': '/'}, {'boundingBox': '877,1412,47,35', 'text': '30'}]}, {'boundingBox': '2680,1412,809,52', 'words': [{'boundingBox': '2680,1429,12,10', 'text': '・'}, {'boundingBox': '2714,1412,49,45', 'text': '本'}, {'boundingBox': '2764,1413,51,46', 'text': '領'}, {'boundingBox': '2818,1413,48,44', 'text': '収'}, {'boundingBox': '2869,1415,50,42', 'text': '証'}, {'boundingBox': '2925,1413,44,43', 'text': 'は'}, {'boundingBox': '2973,1413,47,44', 'text': '大'}, {'boundingBox': '3022,1415,47,44', 'text': '切'}, {'boundingBox': '3078,1417,42,40', 'text': 'に'}, {'boundingBox': '3124,1416,49,44', 'text': '保'}, {'boundingBox': '3176,1415,45,46', 'text': '管'}, {'boundingBox': '3232,1419,39,39', 'text': 'し'}, {'boundingBox': '3277,1421,41,37', 'text': 'て'}, {'boundingBox': '3326,1419,44,42', 'text': '下'}, {'boundingBox': '3383,1416,32,44', 'text': 'さ'}, {'boundingBox': '3426,1423,44,34', 'text': 'い'}, {'boundingBox': '3475,1449,14,15', 'text': '。'}]}, {'boundingBox': '1009,1467,463,49', 'words': [{'boundingBox': '1009,1476,25,35', 'text': 'A'}, {'boundingBox': '1037,1470,48,44', 'text': '型'}, {'boundingBox': '1088,1471,51,44', 'text': '肝'}, {'boundingBox': '1142,1468,47,48', 'text': '炎'}, {'boundingBox': '1202,1469,15,45', 'text': '['}, {'boundingBox': '1221,1467,49,47', 'text': '輸'}, {'boundingBox': '1273,1470,49,42', 'text': '入'}, {'boundingBox': '1326,1467,16,46', 'text': ']'}, {'boundingBox': '1355,1473,17,35', 'text': '1'}, {'boundingBox': '1381,1469,47,43', 'text': '回'}, {'boundingBox': '1442,1469,30,42', 'text': '目'}]}, {'boundingBox': '2171,1469,182,42', 'words': [{'boundingBox': '2171,1471,25,35', 'text': '\\\\'}, {'boundingBox': '2202,1470,45,36', 'text': '15'}, {'boundingBox': '2253,1497,8,14', 'text': ','}, {'boundingBox': '2277,1469,76,35', 'text': '400'}]}, {'boundingBox': '2173,1536,182,42', 'words': [{'boundingBox': '2173,1537,24,35', 'text': '\\\\'}, {'boundingBox': '2202,1536,47,36', 'text': '13'}, {'boundingBox': '2255,1564,8,14', 'text': ','}, {'boundingBox': '2279,1536,76,36', 'text': '200'}]}, {'boundingBox': '1005,1539,203,44', 'words': [{'boundingBox': '1005,1539,51,44', 'text': '腸'}, {'boundingBox': '1062,1539,46,42', 'text': 'チ'}, {'boundingBox': '1118,1543,39,35', 'text': 'フ'}, {'boundingBox': '1168,1544,40,32', 'text': 'ス'}]}, {'boundingBox': '2910,1552,252,38', 'words': [{'boundingBox': '2910,1552,252,38', 'text': '2022034125'}]}, {'boundingBox': '1000,1603,263,49', 'words': [{'boundingBox': '1000,1605,53,47', 'text': '破'}, {'boundingBox': '1055,1605,50,47', 'text': '傷'}, {'boundingBox': '1107,1607,50,44', 'text': '風'}, {'boundingBox': '1163,1604,47,46', 'text': '追'}, {'boundingBox': '1212,1603,51,45', 'text': '加'}]}, {'boundingBox': '2200,1604,157,43', 'words': [{'boundingBox': '2200,1604,25,36', 'text': '\\\\'}, {'boundingBox': '2230,1604,21,36', 'text': '3'}, {'boundingBox': '2256,1633,9,14', 'text': ','}, {'boundingBox': '2282,1604,75,37', 'text': '850'}]}, {'boundingBox': '1008,1670,465,52', 'words': [{'boundingBox': '1008,1679,29,41', 'text': '日'}, {'boundingBox': '1050,1674,51,48', 'text': '本'}, {'boundingBox': '1102,1675,52,45', 'text': '脳'}, {'boundingBox': '1158,1673,47,48', 'text': '炎'}, {'boundingBox': '1218,1673,16,47', 'text': '['}, {'boundingBox': '1239,1674,47,46', 'text': '国'}, {'boundingBox': '1291,1672,50,46', 'text': '産'}, {'boundingBox': '1345,1671,15,47', 'text': ']'}, {'boundingBox': '1372,1670,47,47', 'text': '追'}, {'boundingBox': '1423,1670,50,45', 'text': '加'}]}, {'boundingBox': '2201,1673,157,43', 'words': [{'boundingBox': '2201,1673,26,37', 'text': '\\\\'}, {'boundingBox': '2231,1673,22,37', 'text': '6'}, {'boundingBox': '2258,1702,7,14', 'text': ','}, {'boundingBox': '2283,1673,75,38', 'text': '600'}]}, {'boundingBox': '3045,1860,209,54', 'words': [{'boundingBox': '3045,1878,22,34', 'text': 'ハ'}, {'boundingBox': '3070,1873,4,4', 'text': '・'}, {'boundingBox': '3090,1868,28,46', 'text': 'イ'}, {'boundingBox': '3132,1882,41,12', 'text': 'ー'}, {'boundingBox': '3177,1866,39,40', 'text': 'ス'}, {'boundingBox': '3231,1860,23,45', 'text': 'ト'}]}, {'boundingBox': '2689,2107,514,58', 'words': [{'boundingBox': '2689,2113,52,52', 'text': '医'}, {'boundingBox': '2744,2110,54,55', 'text': '療'}, {'boundingBox': '2804,2111,55,53', 'text': '法'}, {'boundingBox': '2864,2112,53,52', 'text': '人'}, {'boundingBox': '2921,2110,58,54', 'text': '社'}, {'boundingBox': '2980,2111,50,52', 'text': '団'}, {'boundingBox': '3035,2109,57,54', 'text': '佳'}, {'boundingBox': '3094,2107,53,56', 'text': '有'}, {'boundingBox': '3151,2108,52,54', 'text': '会'}]}, {'boundingBox': '2694,2176,511,54', 'words': [{'boundingBox': '2694,2177,47,52', 'text': '品'}, {'boundingBox': '2749,2177,49,53', 'text': '川'}, {'boundingBox': '2806,2177,42,51', 'text': 'ィ'}, {'boundingBox': '2853,2195,53,10', 'text': 'ー'}, {'boundingBox': '2911,2182,44,40', 'text': 'ス'}, {'boundingBox': '2961,2176,28,51', 'text': 'ト'}, {'boundingBox': '2994,2178,38,48', 'text': 'ク'}, {'boundingBox': '3038,2176,26,50', 'text': 'リ'}, {'boundingBox': '3073,2188,48,29', 'text': 'ニ'}, {'boundingBox': '3126,2191,37,38', 'text': 'ッ'}, {'boundingBox': '3167,2176,38,49', 'text': 'ク'}]}, {'boundingBox': '2695,2250,731,56', 'words': [{'boundingBox': '2695,2255,252,51', 'text': 'Shinagawa'}, {'boundingBox': '2968,2254,107,42', 'text': 'East'}, {'boundingBox': '3093,2251,179,44', 'text': 'Medical'}, {'boundingBox': '3294,2250,132,43', 'text': 'Clinic'}]}, {'boundingBox': '2702,2324,287,51', 'words': [{'boundingBox': '2702,2324,42,51', 'text': '〒'}, {'boundingBox': '2758,2328,83,45', 'text': '108'}, {'boundingBox': '2845,2346,27,5', 'text': 'ー'}, {'boundingBox': '2875,2326,114,47', 'text': '6102'}]}, {'boundingBox': '2700,2388,671,64', 'words': [{'boundingBox': '2700,2395,56,56', 'text': '東'}, {'boundingBox': '2758,2395,55,55', 'text': '京'}, {'boundingBox': '2817,2394,56,58', 'text': '都'}, {'boundingBox': '2877,2393,56,56', 'text': '港'}, {'boundingBox': '2940,2395,51,54', 'text': '区'}, {'boundingBox': '2994,2392,55,55', 'text': '港'}, {'boundingBox': '3052,2388,53,60', 'text': '南'}, {'boundingBox': '3113,2397,31,44', 'text': '2'}, {'boundingBox': '3152,2415,46,6', 'text': 'ー'}, {'boundingBox': '3209,2395,66,46', 'text': '15'}, {'boundingBox': '3285,2414,44,6', 'text': 'ー'}, {'boundingBox': '3340,2395,31,45', 'text': '2'}]}, {'boundingBox': '2707,2462,651,63', 'words': [{'boundingBox': '2707,2472,48,53', 'text': '品'}, {'boundingBox': '2761,2470,51,55', 'text': '川'}, {'boundingBox': '2821,2470,42,52', 'text': 'イ'}, {'boundingBox': '2868,2476,48,41', 'text': 'ン'}, {'boundingBox': '2920,2470,40,50', 'text': 'タ'}, {'boundingBox': '2966,2488,53,9', 'text': 'ー'}, {'boundingBox': '3025,2472,50,45', 'text': 'シ'}, {'boundingBox': '3077,2469,51,49', 'text': 'テ'}, {'boundingBox': '3132,2478,35,43', 'text': 'ィ'}, {'boundingBox': '3170,2471,41,44', 'text': 'B'}, {'boundingBox': '3211,2462,60,58', 'text': '棟'}, {'boundingBox': '3271,2470,27,44', 'text': '2'}, {'boundingBox': '3302,2462,56,58', 'text': '階'}]}, {'boundingBox': '2704,2546,489,51', 'words': [{'boundingBox': '2704,2551,110,46', 'text': 'TEL'}, {'boundingBox': '2834,2549,56,46', 'text': '03'}, {'boundingBox': '2894,2568,29,5', 'text': 'ー'}, {'boundingBox': '2927,2547,115,47', 'text': '5783'}, {'boundingBox': '3045,2566,28,6', 'text': 'ー'}, {'boundingBox': '3077,2546,116,46', 'text': '5521'}]}]}], 'modelVersion': '2021-04-01'}\n"
     ]
    }
   ],
   "source": [
    "## 未指定\n",
    "image_url = \"https://bnz07pap001files.storage.live.com/y4mPqREQH0nlmIEDpM4MSz2V8GijgLNsO0fuyanRq6poVohhpozBsVM5mFChWd2THXyJlqLqliJ8wAx3lDmWYA5u-QNFAJTIGPYNi8nHiJAnm325GKKz1vKODN3GYW_073y32E5ZeYucoQrHhxRSpy6OMysp-lRwAE5sJi5ruP7DEk?width=4032&height=3024&cropmode=none\"\n",
    "image_data = url_to_bytes(image_url)\n",
    "params = {'language': 'unk'}\n",
    "\n",
    "response = requests.post(ENDPOINT + \"vision/v3.2/ocr\", headers=headers,\n",
    "                            params=params,  data=image_data)\n",
    "print(response.json())"
   ]
  },
  {
   "attachments": {},
   "cell_type": "markdown",
   "metadata": {},
   "source": [
    "ほとんど変わらない。"
   ]
  },
  {
   "attachments": {},
   "cell_type": "markdown",
   "metadata": {},
   "source": [
    "## /ocr と /read/analyze って結果は違うのかな？"
   ]
  },
  {
   "cell_type": "code",
   "execution_count": 64,
   "metadata": {},
   "outputs": [],
   "source": [
    "## 日本語を指定し、/read/analyzeを利用\n",
    "image_url = \"https://bnz07pap001files.storage.live.com/y4mPqREQH0nlmIEDpM4MSz2V8GijgLNsO0fuyanRq6poVohhpozBsVM5mFChWd2THXyJlqLqliJ8wAx3lDmWYA5u-QNFAJTIGPYNi8nHiJAnm325GKKz1vKODN3GYW_073y32E5ZeYucoQrHhxRSpy6OMysp-lRwAE5sJi5ruP7DEk?width=4032&height=3024&cropmode=none\"\n",
    "image_data = url_to_bytes(image_url)\n",
    "params = { 'language ': 'ja','model-version':'2021-04-12'}\n",
    "response = requests.post(ENDPOINT + \"vision/v3.2/read/analyze\", headers=headers,\n",
    "                            params=params,  data=image_data)\n",
    "response.raise_for_status()\n",
    "operation_url = response.headers[\"Operation-Location\"]\n"
   ]
  },
  {
   "cell_type": "code",
   "execution_count": 46,
   "metadata": {},
   "outputs": [
    {
     "name": "stdout",
     "output_type": "stream",
     "text": [
      "{'status': 'succeeded', 'createdDateTime': '2023-04-29T03:04:51Z', 'lastUpdatedDateTime': '2023-04-29T03:04:52Z', 'analyzeResult': {'version': '3.2.0', 'modelVersion': '2021-04-12', 'readResults': [{'page': 1, 'angle': -0.5846, 'width': 2408, 'height': 1806, 'unit': 'pixel', 'lines': [{'boundingBox': [1164, 356, 1346, 351, 1347, 399, 1166, 403], 'text': '領 収 証', 'words': [{'boundingBox': [1166, 357, 1200, 357, 1202, 403, 1168, 403], 'text': '領', 'confidence': 0.995}, {'boundingBox': [1227, 357, 1262, 357, 1262, 403, 1228, 403], 'text': '収', 'confidence': 0.992}, {'boundingBox': [1301, 354, 1335, 353, 1335, 398, 1301, 400], 'text': '証', 'confidence': 0.994}]}, {'boundingBox': [410, 501, 440, 499, 442, 530, 413, 532], 'text': '氏', 'words': [{'boundingBox': [411, 501, 434, 499, 436, 530, 413, 532], 'text': '氏', 'confidence': 0.994}]}, {'boundingBox': [510, 499, 541, 496, 539, 530, 508, 534], 'text': '名', 'words': [{'boundingBox': [508, 499, 533, 496, 536, 530, 511, 533], 'text': '名', 'confidence': 0.998}]}, {'boundingBox': [599, 490, 978, 488, 978, 534, 599, 537], 'text': '小笠原 寬明 様', 'words': [{'boundingBox': [607, 492, 640, 491, 641, 537, 607, 537], 'text': '小', 'confidence': 0.998}, {'boundingBox': [655, 491, 688, 490, 689, 536, 655, 537], 'text': '笠', 'confidence': 0.992}, {'boundingBox': [699, 490, 733, 490, 734, 536, 700, 536], 'text': '原', 'confidence': 0.994}, {'boundingBox': [795, 489, 829, 489, 830, 536, 796, 536], 'text': '寬', 'confidence': 0.727}, {'boundingBox': [840, 489, 874, 489, 874, 535, 841, 536], 'text': '明', 'confidence': 0.992}, {'boundingBox': [936, 489, 970, 489, 970, 535, 937, 535], 'text': '様', 'confidence': 0.917}]}, {'boundingBox': [405, 575, 529, 575, 529, 607, 406, 608], 'text': 'カルテID', 'words': [{'boundingBox': [406, 576, 427, 576, 427, 609, 406, 609], 'text': 'カ', 'confidence': 0.996}, {'boundingBox': [433, 576, 457, 577, 457, 609, 433, 609], 'text': 'ル', 'confidence': 0.998}, {'boundingBox': [463, 577, 486, 576, 486, 608, 463, 609], 'text': 'テ', 'confidence': 0.996}, {'boundingBox': [487, 576, 524, 575, 524, 607, 487, 608], 'text': 'ID', 'confidence': 0.988}]}, {'boundingBox': [603, 575, 724, 575, 724, 601, 603, 602], 'text': '8704358', 'words': [{'boundingBox': [605, 576, 717, 575, 717, 601, 603, 602], 'text': '8704358', 'confidence': 0.992}]}, {'boundingBox': [398, 648, 784, 642, 785, 683, 398, 690], 'text': 'ご請求金額合計(税込)', 'words': [{'boundingBox': [400, 649, 427, 648, 426, 691, 398, 691], 'text': 'ご', 'confidence': 0.996}, {'boundingBox': [438, 648, 469, 647, 468, 690, 436, 691], 'text': '請', 'confidence': 0.995}, {'boundingBox': [477, 647, 509, 647, 508, 689, 476, 690], 'text': '求', 'confidence': 0.996}, {'boundingBox': [516, 646, 548, 646, 547, 689, 516, 689], 'text': '金', 'confidence': 0.998}, {'boundingBox': [556, 646, 587, 645, 587, 688, 555, 688], 'text': '額', 'confidence': 0.994}, {'boundingBox': [595, 645, 627, 645, 626, 687, 595, 688], 'text': '合', 'confidence': 0.996}, {'boundingBox': [634, 645, 666, 644, 666, 686, 634, 687], 'text': '計', 'confidence': 0.996}, {'boundingBox': [671, 644, 693, 644, 693, 686, 671, 686], 'text': '(', 'confidence': 0.998}, {'boundingBox': [693, 644, 725, 643, 725, 685, 693, 686], 'text': '税', 'confidence': 0.995}, {'boundingBox': [738, 643, 768, 643, 769, 685, 739, 685], 'text': '込', 'confidence': 0.995}, {'boundingBox': [769, 643, 784, 643, 785, 684, 770, 685], 'text': ')', 'confidence': 0.998}]}, {'boundingBox': [940, 644, 1082, 645, 1082, 682, 939, 680], 'text': '¥42, 020', 'words': [{'boundingBox': [941, 645, 1014, 646, 1013, 682, 940, 680], 'text': '¥42,', 'confidence': 0.991}, {'boundingBox': [1014, 646, 1083, 646, 1082, 682, 1014, 682], 'text': '020', 'confidence': 0.993}]}, {'boundingBox': [1623, 691, 1717, 693, 1717, 726, 1623, 724], 'text': '発行日', 'words': [{'boundingBox': [1624, 691, 1649, 692, 1648, 725, 1623, 724], 'text': '発', 'confidence': 0.996}, {'boundingBox': [1653, 692, 1677, 692, 1677, 725, 1652, 725], 'text': '行', 'confidence': 0.997}, {'boundingBox': [1688, 692, 1713, 693, 1712, 726, 1687, 725], 'text': '日', 'confidence': 0.996}]}, {'boundingBox': [1772, 695, 2041, 695, 2041, 732, 1772, 729], 'text': '2022年8月 30日', 'words': [{'boundingBox': [1778, 696, 1851, 696, 1851, 729, 1778, 728], 'text': '2022', 'confidence': 0.991}, {'boundingBox': [1861, 696, 1885, 696, 1884, 730, 1861, 729], 'text': '年', 'confidence': 0.995}, {'boundingBox': [1897, 696, 1921, 696, 1920, 731, 1897, 730], 'text': '8', 'confidence': 0.996}, {'boundingBox': [1927, 696, 1950, 696, 1950, 731, 1926, 731], 'text': '月', 'confidence': 0.998}, {'boundingBox': [1965, 696, 2004, 696, 2003, 732, 1964, 731], 'text': '30', 'confidence': 0.994}, {'boundingBox': [2012, 696, 2035, 695, 2035, 733, 2011, 732], 'text': '日', 'confidence': 0.997}]}, {'boundingBox': [440, 779, 535, 777, 536, 810, 441, 812], 'text': '受診日', 'words': [{'boundingBox': [443, 779, 467, 778, 468, 811, 443, 812], 'text': '受', 'confidence': 0.996}, {'boundingBox': [473, 778, 498, 778, 499, 811, 474, 811], 'text': '診', 'confidence': 0.997}, {'boundingBox': [504, 778, 529, 777, 530, 810, 505, 811], 'text': '日', 'confidence': 0.996}]}, {'boundingBox': [820, 774, 859, 773, 860, 808, 821, 808], 'text': '内', 'words': [{'boundingBox': [820, 773, 842, 773, 843, 808, 820, 808], 'text': '内', 'confidence': 0.94}]}, {'boundingBox': [890, 773, 930, 772, 930, 807, 890, 807], 'text': '容', 'words': [{'boundingBox': [900, 772, 926, 772, 927, 807, 900, 807], 'text': '容', 'confidence': 0.998}]}, {'boundingBox': [1284, 773, 1360, 772, 1361, 807, 1286, 808], 'text': '金額', 'words': [{'boundingBox': [1287, 773, 1313, 773, 1314, 808, 1287, 808], 'text': '金', 'confidence': 0.998}, {'boundingBox': [1322, 772, 1348, 772, 1349, 807, 1322, 807], 'text': '額', 'confidence': 0.994}]}, {'boundingBox': [414, 840, 553, 839, 553, 869, 414, 870], 'text': '2022/8/30', 'words': [{'boundingBox': [415, 841, 552, 839, 552, 869, 415, 871], 'text': '2022/8/30', 'confidence': 0.991}]}, {'boundingBox': [606, 837, 697, 834, 698, 865, 606, 868], 'text': '診察料', 'words': [{'boundingBox': [608, 837, 630, 837, 631, 868, 608, 868], 'text': '診', 'confidence': 0.994}, {'boundingBox': [638, 837, 660, 836, 661, 867, 638, 868], 'text': '察', 'confidence': 0.995}, {'boundingBox': [670, 836, 692, 835, 693, 866, 670, 867], 'text': '料', 'confidence': 0.995}]}, {'boundingBox': [1593, 800, 2001, 804, 2001, 840, 1593, 837], 'text': '·本書の再発行は致しません。', 'words': [{'boundingBox': [1594, 801, 1615, 801, 1616, 837, 1595, 838], 'text': '·', 'confidence': 0.93}, {'boundingBox': [1616, 801, 1643, 801, 1644, 836, 1618, 837], 'text': '本', 'confidence': 0.997}, {'boundingBox': [1650, 801, 1676, 801, 1676, 836, 1651, 836], 'text': '書', 'confidence': 0.995}, {'boundingBox': [1676, 801, 1703, 801, 1704, 835, 1677, 836], 'text': 'の', 'confidence': 0.996}, {'boundingBox': [1710, 801, 1737, 801, 1737, 835, 1710, 835], 'text': '再', 'confidence': 0.994}, {'boundingBox': [1741, 801, 1770, 802, 1770, 835, 1741, 835], 'text': '発', 'confidence': 0.995}, {'boundingBox': [1772, 802, 1799, 802, 1799, 835, 1772, 835], 'text': '行', 'confidence': 0.997}, {'boundingBox': [1803, 802, 1830, 803, 1829, 835, 1803, 835], 'text': 'は', 'confidence': 0.996}, {'boundingBox': [1834, 803, 1860, 803, 1859, 836, 1833, 835], 'text': '致', 'confidence': 0.994}, {'boundingBox': [1861, 803, 1888, 804, 1886, 836, 1860, 836], 'text': 'し', 'confidence': 0.998}, {'boundingBox': [1894, 804, 1921, 805, 1919, 837, 1893, 836], 'text': 'ま', 'confidence': 0.998}, {'boundingBox': [1923, 805, 1950, 806, 1948, 838, 1921, 837], 'text': 'せ', 'confidence': 0.998}, {'boundingBox': [1952, 806, 1977, 807, 1975, 839, 1950, 838], 'text': 'ん', 'confidence': 0.998}, {'boundingBox': [1978, 807, 2001, 808, 1998, 840, 1976, 839], 'text': '。', 'confidence': 0.996}]}, {'boundingBox': [1309, 835, 1405, 834, 1406, 861, 1309, 865], 'text': '¥2,970', 'appearance': {'style': {'name': 'other', 'confidence': 0.878}}, 'words': [{'boundingBox': [1312, 836, 1404, 835, 1404, 861, 1309, 866], 'text': '¥2,970', 'confidence': 0.995}]}, {'boundingBox': [602, 873, 882, 872, 882, 908, 602, 909], 'text': 'A型肝炎[輸入]1回目', 'words': [{'boundingBox': [603, 875, 619, 874, 619, 908, 603, 908], 'text': 'A', 'confidence': 0.996}, {'boundingBox': [619, 874, 644, 874, 644, 909, 619, 908], 'text': '型', 'confidence': 0.995}, {'boundingBox': [650, 874, 674, 874, 674, 909, 650, 909], 'text': '肝', 'confidence': 0.996}, {'boundingBox': [683, 874, 707, 874, 707, 909, 683, 909], 'text': '炎', 'confidence': 0.991}, {'boundingBox': [709, 874, 728, 874, 728, 909, 709, 909], 'text': '[', 'confidence': 0.995}, {'boundingBox': [728, 874, 755, 874, 755, 909, 729, 909], 'text': '輸', 'confidence': 0.985}, {'boundingBox': [761, 874, 786, 873, 786, 909, 761, 909], 'text': '入', 'confidence': 0.996}, {'boundingBox': [787, 873, 824, 873, 824, 909, 788, 909], 'text': ']1', 'confidence': 0.989}, {'boundingBox': [825, 873, 849, 873, 849, 908, 825, 909], 'text': '回', 'confidence': 0.998}, {'boundingBox': [855, 873, 880, 873, 880, 907, 855, 908], 'text': '目', 'confidence': 0.998}]}, {'boundingBox': [1595, 839, 2087, 843, 2087, 879, 1595, 875], 'text': '·本領収証は大切に保管して下さい。', 'words': [{'boundingBox': [1596, 840, 1616, 840, 1617, 875, 1597, 876], 'text': '·', 'confidence': 0.942}, {'boundingBox': [1620, 840, 1646, 840, 1647, 875, 1621, 875], 'text': '本', 'confidence': 0.996}, {'boundingBox': [1651, 840, 1677, 840, 1678, 875, 1652, 875], 'text': '領', 'confidence': 0.993}, {'boundingBox': [1681, 840, 1707, 840, 1708, 875, 1682, 875], 'text': '収', 'confidence': 0.994}, {'boundingBox': [1714, 841, 1742, 841, 1743, 874, 1715, 875], 'text': '証', 'confidence': 0.995}, {'boundingBox': [1744, 841, 1770, 841, 1771, 874, 1745, 874], 'text': 'は', 'confidence': 0.995}, {'boundingBox': [1775, 841, 1801, 841, 1801, 875, 1775, 874], 'text': '大', 'confidence': 0.997}, {'boundingBox': [1807, 841, 1834, 841, 1834, 875, 1808, 875], 'text': '切', 'confidence': 0.996}, {'boundingBox': [1835, 841, 1862, 842, 1862, 875, 1836, 875], 'text': 'に', 'confidence': 0.996}, {'boundingBox': [1866, 842, 1892, 842, 1892, 875, 1866, 875], 'text': '保', 'confidence': 0.996}, {'boundingBox': [1896, 842, 1922, 842, 1923, 876, 1897, 875], 'text': '管', 'confidence': 0.998}, {'boundingBox': [1924, 842, 1950, 843, 1951, 876, 1925, 876], 'text': 'し', 'confidence': 0.997}, {'boundingBox': [1955, 843, 1981, 843, 1981, 877, 1955, 876], 'text': 'て', 'confidence': 0.998}, {'boundingBox': [1987, 843, 2014, 844, 2014, 878, 1987, 877], 'text': '下', 'confidence': 0.996}, {'boundingBox': [2015, 844, 2040, 844, 2041, 878, 2015, 878], 'text': 'さ', 'confidence': 0.995}, {'boundingBox': [2041, 844, 2067, 845, 2067, 879, 2041, 878], 'text': 'い', 'confidence': 0.996}, {'boundingBox': [2069, 845, 2087, 845, 2087, 880, 2069, 879], 'text': '。', 'confidence': 0.996}]}, {'boundingBox': [1296, 875, 1408, 873, 1408, 902, 1297, 904], 'text': '¥15,400', 'appearance': {'style': {'name': 'other', 'confidence': 0.878}}, 'words': [{'boundingBox': [1297, 876, 1405, 874, 1405, 903, 1297, 904], 'text': '¥15,400', 'confidence': 0.993}]}, {'boundingBox': [595, 917, 723, 916, 724, 945, 596, 947], 'text': '腸チフス', 'words': [{'boundingBox': [601, 918, 623, 918, 624, 948, 602, 948], 'text': '腸', 'confidence': 0.993}, {'boundingBox': [633, 917, 655, 917, 656, 947, 633, 948], 'text': 'チ', 'confidence': 0.995}, {'boundingBox': [663, 917, 685, 917, 685, 947, 663, 947], 'text': 'フ', 'confidence': 0.996}, {'boundingBox': [696, 916, 719, 916, 719, 946, 697, 946], 'text': 'ス', 'confidence': 0.996}]}, {'boundingBox': [1297, 914, 1407, 914, 1407, 940, 1297, 941], 'text': '¥13,200', 'appearance': {'style': {'name': 'other', 'confidence': 0.878}}, 'words': [{'boundingBox': [1297, 915, 1404, 914, 1404, 941, 1299, 942], 'text': '¥13,200', 'confidence': 0.995}]}, {'boundingBox': [596, 958, 756, 955, 757, 986, 597, 989], 'text': '破傷風追加', 'words': [{'boundingBox': [598, 958, 621, 958, 622, 989, 599, 990], 'text': '破', 'confidence': 0.995}, {'boundingBox': [629, 957, 652, 957, 653, 989, 630, 989], 'text': '傷', 'confidence': 0.994}, {'boundingBox': [662, 957, 685, 956, 686, 988, 663, 988], 'text': '風', 'confidence': 0.996}, {'boundingBox': [695, 956, 718, 956, 719, 987, 696, 988], 'text': '追', 'confidence': 0.996}, {'boundingBox': [724, 956, 748, 956, 748, 986, 724, 987], 'text': '加', 'confidence': 0.996}]}, {'boundingBox': [1627, 922, 1674, 923, 1674, 954, 1626, 954], 'text': 'No .:', 'words': [{'boundingBox': [1626, 922, 1650, 922, 1650, 954, 1626, 953], 'text': 'No', 'confidence': 0.989}, {'boundingBox': [1651, 922, 1673, 922, 1673, 954, 1650, 954], 'text': '.:', 'confidence': 0.949}]}, {'boundingBox': [1732, 922, 1887, 924, 1887, 955, 1732, 953], 'text': '2022034125', 'words': [{'boundingBox': [1733, 923, 1888, 926, 1886, 955, 1732, 953], 'text': '2022034125', 'confidence': 0.991}]}, {'boundingBox': [1312, 955, 1410, 954, 1410, 981, 1312, 982], 'text': '¥3,850', 'appearance': {'style': {'name': 'other', 'confidence': 0.878}}, 'words': [{'boundingBox': [1313, 956, 1405, 955, 1405, 982, 1313, 982], 'text': '¥3,850', 'confidence': 0.995}]}, {'boundingBox': [597, 999, 883, 995, 884, 1026, 597, 1030], 'text': '日本脳炎[国産]追加', 'words': [{'boundingBox': [597, 1000, 618, 1000, 618, 1030, 597, 1030], 'text': '日', 'confidence': 0.996}, {'boundingBox': [628, 1000, 650, 999, 650, 1030, 628, 1030], 'text': '本', 'confidence': 0.996}, {'boundingBox': [661, 999, 683, 999, 683, 1030, 661, 1030], 'text': '脳', 'confidence': 0.991}, {'boundingBox': [690, 998, 713, 998, 712, 1029, 690, 1030], 'text': '炎', 'confidence': 0.994}, {'boundingBox': [720, 998, 739, 998, 739, 1029, 720, 1029], 'text': '[', 'confidence': 0.996}, {'boundingBox': [739, 998, 761, 997, 762, 1029, 739, 1029], 'text': '国', 'confidence': 0.996}, {'boundingBox': [773, 997, 795, 997, 795, 1029, 773, 1029], 'text': '産', 'confidence': 0.971}, {'boundingBox': [798, 997, 819, 996, 819, 1028, 798, 1028], 'text': ']', 'confidence': 0.995}, {'boundingBox': [820, 996, 844, 996, 844, 1028, 820, 1028], 'text': '追', 'confidence': 0.995}, {'boundingBox': [851, 996, 873, 995, 873, 1027, 851, 1028], 'text': '加', 'confidence': 0.996}]}, {'boundingBox': [1311, 996, 1410, 995, 1410, 1023, 1311, 1024], 'text': '¥6,600', 'words': [{'boundingBox': [1312, 996, 1410, 995, 1410, 1024, 1312, 1025], 'text': '¥6,600', 'confidence': 0.974}]}, {'boundingBox': [1815, 991, 1906, 991, 1906, 1024, 1815, 1023], 'text': '領収印', 'words': [{'boundingBox': [1816, 991, 1841, 991, 1841, 1024, 1816, 1023], 'text': '領', 'confidence': 0.994}, {'boundingBox': [1845, 991, 1869, 991, 1869, 1024, 1845, 1024], 'text': '収', 'confidence': 0.965}, {'boundingBox': [1875, 991, 1900, 991, 1900, 1024, 1875, 1024], 'text': '印', 'confidence': 0.993}]}, {'boundingBox': [1796, 1041, 1922, 1034, 1926, 1098, 1798, 1102], 'text': '領収', 'words': [{'boundingBox': [1797, 1039, 1845, 1037, 1848, 1101, 1800, 1103], 'text': '領', 'confidence': 0.483}, {'boundingBox': [1857, 1036, 1905, 1034, 1908, 1098, 1860, 1100], 'text': '収', 'confidence': 0.907}]}, {'boundingBox': [1783, 1116, 1942, 1111, 1944, 1147, 1784, 1152], 'text': '品川イースト', 'words': [{'boundingBox': [1787, 1118, 1809, 1116, 1810, 1152, 1788, 1152], 'text': '品', 'confidence': 0.985}, {'boundingBox': [1810, 1116, 1835, 1115, 1836, 1151, 1810, 1152], 'text': '川', 'confidence': 0.848}, {'boundingBox': [1839, 1115, 1865, 1114, 1865, 1150, 1840, 1151], 'text': 'イ', 'confidence': 0.995}, {'boundingBox': [1867, 1114, 1892, 1113, 1892, 1150, 1867, 1150], 'text': 'ー', 'confidence': 0.965}, {'boundingBox': [1894, 1113, 1919, 1112, 1919, 1149, 1894, 1150], 'text': 'ス', 'confidence': 0.97}, {'boundingBox': [1926, 1112, 1943, 1111, 1943, 1148, 1926, 1148], 'text': 'ト', 'confidence': 0.242}]}, {'boundingBox': [1793, 1147, 1934, 1132, 1935, 1168, 1797, 1182], 'text': 'クリニック', 'words': [{'boundingBox': [1799, 1148, 1824, 1146, 1827, 1179, 1802, 1181], 'text': 'ク', 'confidence': 0.965}, {'boundingBox': [1826, 1146, 1850, 1144, 1852, 1176, 1828, 1179], 'text': 'リ', 'confidence': 0.987}, {'boundingBox': [1852, 1144, 1876, 1141, 1878, 1174, 1854, 1176], 'text': 'ニ', 'confidence': 0.941}, {'boundingBox': [1880, 1140, 1903, 1137, 1904, 1172, 1881, 1174], 'text': 'ッ', 'confidence': 0.991}, {'boundingBox': [1904, 1137, 1928, 1134, 1929, 1170, 1905, 1172], 'text': 'ク', 'confidence': 0.885}]}, {'boundingBox': [1603, 1258, 1918, 1258, 1918, 1296, 1603, 1296], 'text': '医療法人社団佳有会', 'words': [{'boundingBox': [1603, 1258, 1631, 1258, 1632, 1297, 1604, 1297], 'text': '医', 'confidence': 0.996}, {'boundingBox': [1638, 1258, 1667, 1258, 1668, 1297, 1639, 1297], 'text': '療', 'confidence': 0.995}, {'boundingBox': [1671, 1258, 1700, 1258, 1701, 1297, 1672, 1297], 'text': '法', 'confidence': 0.995}, {'boundingBox': [1710, 1258, 1739, 1258, 1739, 1297, 1710, 1297], 'text': '人', 'confidence': 0.996}, {'boundingBox': [1743, 1258, 1772, 1258, 1772, 1297, 1743, 1297], 'text': '社', 'confidence': 0.992}, {'boundingBox': [1779, 1258, 1808, 1258, 1808, 1297, 1779, 1297], 'text': '団', 'confidence': 0.991}, {'boundingBox': [1812, 1258, 1841, 1259, 1841, 1297, 1812, 1297], 'text': '佳', 'confidence': 0.994}, {'boundingBox': [1846, 1259, 1875, 1259, 1874, 1297, 1845, 1297], 'text': '有', 'confidence': 0.996}, {'boundingBox': [1884, 1259, 1913, 1259, 1912, 1297, 1884, 1297], 'text': '会', 'confidence': 0.996}]}, {'boundingBox': [1607, 1296, 1917, 1296, 1917, 1335, 1608, 1336], 'text': '品川イーストクリニック', 'words': [{'boundingBox': [1608, 1297, 1635, 1297, 1636, 1336, 1609, 1337], 'text': '品', 'confidence': 0.998}, {'boundingBox': [1636, 1297, 1668, 1297, 1669, 1336, 1637, 1336], 'text': '川', 'confidence': 0.995}, {'boundingBox': [1670, 1297, 1699, 1297, 1699, 1335, 1671, 1336], 'text': 'イ', 'confidence': 0.996}, {'boundingBox': [1699, 1297, 1729, 1298, 1729, 1335, 1700, 1335], 'text': 'ー', 'confidence': 0.993}, {'boundingBox': [1736, 1298, 1762, 1298, 1762, 1334, 1737, 1334], 'text': 'ス', 'confidence': 0.997}, {'boundingBox': [1763, 1298, 1783, 1298, 1784, 1334, 1763, 1334], 'text': 'ト', 'confidence': 0.996}, {'boundingBox': [1784, 1298, 1807, 1298, 1807, 1334, 1784, 1334], 'text': 'ク', 'confidence': 0.996}, {'boundingBox': [1808, 1298, 1831, 1298, 1831, 1334, 1808, 1334], 'text': 'リ', 'confidence': 0.996}, {'boundingBox': [1831, 1298, 1860, 1298, 1860, 1333, 1832, 1334], 'text': 'ニ', 'confidence': 0.996}, {'boundingBox': [1861, 1298, 1886, 1298, 1886, 1334, 1861, 1333], 'text': 'ッ', 'confidence': 0.988}, {'boundingBox': [1887, 1298, 1917, 1298, 1917, 1334, 1887, 1334], 'text': 'ク', 'confidence': 0.997}]}, {'boundingBox': [1609, 1344, 2049, 1340, 2050, 1375, 1609, 1379], 'text': 'Shinagawa East Medical Clinic', 'appearance': {'style': {'name': 'other', 'confidence': 0.878}}, 'words': [{'boundingBox': [1609, 1345, 1758, 1344, 1759, 1378, 1611, 1380], 'text': 'Shinagawa', 'confidence': 0.994}, {'boundingBox': [1765, 1344, 1832, 1343, 1832, 1377, 1766, 1378], 'text': 'East', 'confidence': 0.994}, {'boundingBox': [1839, 1343, 1953, 1342, 1953, 1376, 1839, 1377], 'text': 'Medical', 'confidence': 0.996}, {'boundingBox': [1960, 1342, 2047, 1341, 2046, 1376, 1960, 1376], 'text': 'Clinic', 'confidence': 0.996}]}, {'boundingBox': [1609, 1386, 1788, 1383, 1789, 1419, 1610, 1423], 'text': '〒108-6102', 'words': [{'boundingBox': [1609, 1386, 1636, 1386, 1638, 1423, 1612, 1424], 'text': '〒', 'confidence': 0.995}, {'boundingBox': [1638, 1386, 1789, 1384, 1790, 1418, 1640, 1422], 'text': '108-6102', 'confidence': 0.989}]}, {'boundingBox': [1609, 1428, 2013, 1425, 2014, 1465, 1609, 1468], 'text': '東京都港区港南2-15-2', 'words': [{'boundingBox': [1611, 1428, 1640, 1428, 1640, 1468, 1610, 1468], 'text': '東', 'confidence': 0.994}, {'boundingBox': [1645, 1428, 1674, 1428, 1674, 1468, 1645, 1468], 'text': '京', 'confidence': 0.996}, {'boundingBox': [1682, 1428, 1711, 1428, 1711, 1468, 1682, 1468], 'text': '都', 'confidence': 0.994}, {'boundingBox': [1718, 1428, 1748, 1427, 1748, 1468, 1719, 1468], 'text': '港', 'confidence': 0.996}, {'boundingBox': [1753, 1427, 1782, 1427, 1783, 1468, 1753, 1468], 'text': '区', 'confidence': 0.99}, {'boundingBox': [1787, 1427, 1817, 1427, 1817, 1467, 1787, 1468], 'text': '港', 'confidence': 0.996}, {'boundingBox': [1818, 1427, 1848, 1427, 1848, 1467, 1819, 1467], 'text': '南', 'confidence': 0.995}, {'boundingBox': [1853, 1427, 2012, 1426, 2013, 1464, 1853, 1467], 'text': '2-15-2', 'confidence': 0.633}]}, {'boundingBox': [1612, 1471, 2009, 1466, 2009, 1508, 1612, 1513], 'text': '品川インターシティB棟2階', 'words': [{'boundingBox': [1614, 1473, 1644, 1473, 1646, 1513, 1616, 1513], 'text': '品', 'confidence': 0.999}, {'boundingBox': [1646, 1473, 1675, 1472, 1677, 1512, 1648, 1513], 'text': '川', 'confidence': 0.998}, {'boundingBox': [1677, 1472, 1703, 1472, 1705, 1512, 1679, 1512], 'text': 'イ', 'confidence': 0.995}, {'boundingBox': [1704, 1472, 1734, 1471, 1735, 1511, 1706, 1512], 'text': 'ン', 'confidence': 0.998}, {'boundingBox': [1736, 1471, 1764, 1471, 1766, 1511, 1737, 1511], 'text': 'タ', 'confidence': 0.995}, {'boundingBox': [1765, 1471, 1795, 1470, 1796, 1511, 1766, 1511], 'text': 'ー', 'confidence': 0.996}, {'boundingBox': [1802, 1470, 1832, 1470, 1833, 1510, 1803, 1511], 'text': 'シ', 'confidence': 0.996}, {'boundingBox': [1834, 1469, 1864, 1469, 1865, 1510, 1835, 1510], 'text': 'テ', 'confidence': 0.993}, {'boundingBox': [1866, 1469, 1889, 1469, 1890, 1510, 1867, 1510], 'text': 'ィ', 'confidence': 0.991}, {'boundingBox': [1890, 1469, 1919, 1468, 1919, 1510, 1890, 1510], 'text': 'B', 'confidence': 0.994}, {'boundingBox': [1919, 1468, 1948, 1467, 1948, 1509, 1919, 1510], 'text': '棟', 'confidence': 0.985}, {'boundingBox': [1948, 1467, 1974, 1467, 1974, 1509, 1948, 1509], 'text': '2', 'confidence': 0.997}, {'boundingBox': [1975, 1467, 2005, 1466, 2004, 1509, 1975, 1509], 'text': '階', 'confidence': 0.997}]}, {'boundingBox': [1616, 1518, 1905, 1514, 1905, 1551, 1616, 1554], 'text': 'TEL 03-5783-5521', 'words': [{'boundingBox': [1617, 1519, 1679, 1519, 1679, 1554, 1617, 1554], 'text': 'TEL', 'confidence': 0.994}, {'boundingBox': [1685, 1519, 1904, 1515, 1904, 1552, 1685, 1554], 'text': '03-5783-5521', 'confidence': 0.981}]}]}]}}\n"
     ]
    }
   ],
   "source": [
    "response_final = requests.get(operation_url, headers=headers)\n",
    "print(response_final.json())"
   ]
  },
  {
   "attachments": {},
   "cell_type": "markdown",
   "metadata": {},
   "source": [
    "boundingBox.textが返却されている！"
   ]
  },
  {
   "attachments": {},
   "cell_type": "markdown",
   "metadata": {},
   "source": [
    "## モデルの違いはある？"
   ]
  },
  {
   "cell_type": "code",
   "execution_count": 65,
   "metadata": {},
   "outputs": [],
   "source": [
    "image_url = \"https://bnz07pap001files.storage.live.com/y4mPqREQH0nlmIEDpM4MSz2V8GijgLNsO0fuyanRq6poVohhpozBsVM5mFChWd2THXyJlqLqliJ8wAx3lDmWYA5u-QNFAJTIGPYNi8nHiJAnm325GKKz1vKODN3GYW_073y32E5ZeYucoQrHhxRSpy6OMysp-lRwAE5sJi5ruP7DEk?width=4032&height=3024&cropmode=none\"\n",
    "image_data = url_to_bytes(image_url)\n",
    "params = {'language': 'ja', 'model-version': \"2022-04-30\"}  # <https://learn.microsoft.com/ja-jp/azure/cognitive-services/computer-vision/how-to/call-read-api>\n",
    "\n",
    "response = requests.post(ENDPOINT + \"vision/v3.2/read/analyze\", headers=headers,\n",
    "                            params=params,  data=image_data)\n",
    "response.raise_for_status()\n",
    "operation_url = response.headers[\"Operation-Location\"]\n"
   ]
  },
  {
   "cell_type": "code",
   "execution_count": 66,
   "metadata": {},
   "outputs": [
    {
     "name": "stdout",
     "output_type": "stream",
     "text": [
      "{'status': 'succeeded', 'createdDateTime': '2023-04-30T22:36:12Z', 'lastUpdatedDateTime': '2023-04-30T22:36:13Z', 'analyzeResult': {'version': '3.2.0', 'modelVersion': '2022-04-30', 'readResults': [{'page': 1, 'angle': -0.1976, 'width': 4032, 'height': 3024, 'unit': 'pixel', 'language': 'ja', 'lines': [{'boundingBox': [1949, 593, 2251, 590, 2252, 666, 1951, 671], 'text': '領 収 証', 'appearance': {'style': {'name': 'other', 'confidence': 0.972}}, 'words': [{'boundingBox': [1971, 594, 2015, 595, 2016, 671, 1973, 671], 'text': '領', 'confidence': 0.995}, {'boundingBox': [2059, 596, 2103, 596, 2103, 671, 2059, 671], 'text': '収', 'confidence': 0.995}, {'boundingBox': [2205, 592, 2249, 591, 2247, 660, 2204, 664], 'text': '証', 'confidence': 0.996}]}, {'boundingBox': [682, 828, 1489, 818, 1490, 891, 683, 895], 'text': '氏 名 小笠原 寬明', 'appearance': {'style': {'name': 'other', 'confidence': 0.972}}, 'words': [{'boundingBox': [694, 840, 734, 838, 735, 893, 695, 892], 'text': '氏', 'confidence': 0.99}, {'boundingBox': [853, 833, 902, 831, 902, 895, 854, 895], 'text': '名', 'confidence': 0.995}, {'boundingBox': [1013, 827, 1052, 826, 1052, 895, 1012, 895], 'text': '小', 'confidence': 0.983}, {'boundingBox': [1119, 824, 1159, 823, 1158, 895, 1118, 895], 'text': '笠', 'confidence': 0.962}, {'boundingBox': [1199, 822, 1239, 822, 1237, 895, 1197, 895], 'text': '原', 'confidence': 0.993}, {'boundingBox': [1358, 820, 1398, 819, 1396, 894, 1356, 895], 'text': '寬', 'confidence': 0.937}, {'boundingBox': [1438, 819, 1478, 819, 1475, 893, 1436, 894], 'text': '明', 'confidence': 0.996}]}, {'boundingBox': [1499, 817, 1637, 820, 1636, 894, 1496, 889], 'text': '様', 'appearance': {'style': {'name': 'other', 'confidence': 0.972}}, 'words': [{'boundingBox': [1589, 819, 1634, 820, 1632, 894, 1587, 893], 'text': '様', 'confidence': 0.963}]}, {'boundingBox': [672, 965, 886, 964, 886, 1020, 672, 1020], 'text': 'カルテID', 'appearance': {'style': {'name': 'other', 'confidence': 0.972}}, 'words': [{'boundingBox': [674, 970, 705, 968, 707, 1018, 676, 1018], 'text': 'カ', 'confidence': 0.973}, {'boundingBox': [716, 968, 753, 967, 755, 1018, 717, 1018], 'text': 'ル', 'confidence': 0.995}, {'boundingBox': [784, 966, 811, 965, 812, 1019, 786, 1019], 'text': 'テ', 'confidence': 0.995}, {'boundingBox': [812, 965, 871, 965, 872, 1021, 813, 1019], 'text': 'ID', 'confidence': 0.991}]}, {'boundingBox': [1003, 963, 1205, 963, 1205, 1005, 1003, 1005], 'text': '8704358', 'appearance': {'style': {'name': 'other', 'confidence': 0.972}}, 'words': [{'boundingBox': [1004, 964, 1196, 963, 1196, 1006, 1004, 1006], 'text': '8704358', 'confidence': 0.987}]}, {'boundingBox': [668, 1085, 1315, 1071, 1316, 1142, 668, 1151], 'text': 'ご請求金額合計(税込)', 'appearance': {'style': {'name': 'other', 'confidence': 0.972}}, 'words': [{'boundingBox': [674, 1091, 708, 1090, 702, 1151, 668, 1151], 'text': 'ご', 'confidence': 0.997}, {'boundingBox': [748, 1088, 789, 1086, 785, 1151, 743, 1151], 'text': '請', 'confidence': 0.993}, {'boundingBox': [812, 1085, 852, 1084, 848, 1151, 807, 1151], 'text': '求', 'confidence': 0.996}, {'boundingBox': [884, 1083, 925, 1081, 921, 1151, 880, 1151], 'text': '金', 'confidence': 0.996}, {'boundingBox': [947, 1080, 988, 1079, 985, 1150, 944, 1151], 'text': '額', 'confidence': 0.995}, {'boundingBox': [1020, 1078, 1060, 1077, 1058, 1149, 1017, 1150], 'text': '合', 'confidence': 0.997}, {'boundingBox': [1083, 1076, 1124, 1075, 1122, 1148, 1081, 1149], 'text': '計', 'confidence': 0.996}, {'boundingBox': [1128, 1075, 1169, 1074, 1168, 1147, 1127, 1148], 'text': '(', 'confidence': 0.998}, {'boundingBox': [1182, 1074, 1223, 1073, 1222, 1146, 1181, 1147], 'text': '税', 'confidence': 0.995}, {'boundingBox': [1246, 1073, 1286, 1072, 1286, 1144, 1245, 1145], 'text': '込', 'confidence': 0.996}, {'boundingBox': [1291, 1072, 1316, 1072, 1316, 1143, 1291, 1144], 'text': ')', 'confidence': 0.995}]}, {'boundingBox': [1571, 1079, 1807, 1082, 1806, 1137, 1571, 1135], 'text': '¥42,020', 'appearance': {'style': {'name': 'other', 'confidence': 0.972}}, 'words': [{'boundingBox': [1574, 1080, 1806, 1083, 1804, 1138, 1571, 1135], 'text': '¥42,020', 'confidence': 0.993}]}, {'boundingBox': [2713, 1158, 2887, 1158, 2887, 1215, 2713, 1215], 'text': '発行日', 'appearance': {'style': {'name': 'other', 'confidence': 0.972}}, 'words': [{'boundingBox': [2723, 1160, 2755, 1159, 2753, 1214, 2722, 1214], 'text': '発', 'confidence': 0.997}, {'boundingBox': [2787, 1159, 2819, 1159, 2815, 1213, 2784, 1213], 'text': '行', 'confidence': 0.997}, {'boundingBox': [2837, 1160, 2869, 1161, 2864, 1215, 2833, 1214], 'text': '日', 'confidence': 0.996}]}, {'boundingBox': [2977, 1161, 3417, 1168, 3416, 1221, 2977, 1213], 'text': '2022年8月 30 日', 'appearance': {'style': {'name': 'other', 'confidence': 0.972}}, 'words': [{'boundingBox': [2979, 1162, 3094, 1164, 3094, 1216, 2979, 1215], 'text': '2022', 'confidence': 0.992}, {'boundingBox': [3125, 1164, 3156, 1165, 3156, 1217, 3125, 1217], 'text': '年', 'confidence': 0.997}, {'boundingBox': [3173, 1165, 3204, 1165, 3205, 1218, 3174, 1217], 'text': '8', 'confidence': 0.997}, {'boundingBox': [3236, 1166, 3267, 1166, 3268, 1219, 3236, 1219], 'text': '月', 'confidence': 0.997}, {'boundingBox': [3291, 1167, 3350, 1168, 3351, 1221, 3292, 1220], 'text': '30', 'confidence': 0.995}, {'boundingBox': [3374, 1168, 3405, 1168, 3407, 1222, 3376, 1222], 'text': '日', 'confidence': 0.997}]}, {'boundingBox': [740, 1303, 899, 1302, 897, 1360, 739, 1358], 'text': '受診日', 'appearance': {'style': {'name': 'other', 'confidence': 0.972}}, 'words': [{'boundingBox': [749, 1302, 783, 1302, 783, 1360, 748, 1360], 'text': '受', 'confidence': 0.997}, {'boundingBox': [803, 1302, 845, 1302, 845, 1360, 803, 1360], 'text': '診', 'confidence': 0.994}, {'boundingBox': [857, 1302, 892, 1302, 892, 1360, 857, 1360], 'text': '日', 'confidence': 0.996}]}, {'boundingBox': [1361, 1294, 1565, 1294, 1565, 1348, 1361, 1349], 'text': '内 容', 'appearance': {'style': {'name': 'other', 'confidence': 0.972}}, 'words': [{'boundingBox': [1372, 1297, 1403, 1296, 1402, 1348, 1371, 1349], 'text': '内', 'confidence': 0.937}, {'boundingBox': [1517, 1295, 1549, 1295, 1548, 1349, 1517, 1348], 'text': '容', 'confidence': 0.997}]}, {'boundingBox': [2148, 1299, 2273, 1297, 2273, 1352, 2148, 1353], 'text': '金額', 'appearance': {'style': {'name': 'other', 'confidence': 0.972}}, 'words': [{'boundingBox': [2171, 1298, 2204, 1297, 2205, 1352, 2172, 1353], 'text': '金', 'confidence': 0.997}, {'boundingBox': [2222, 1297, 2255, 1297, 2256, 1352, 2223, 1352], 'text': '額', 'confidence': 0.995}]}, {'boundingBox': [2669, 1346, 3344, 1349, 3344, 1397, 2669, 1392], 'text': '·本書の再発行は致しません。', 'appearance': {'style': {'name': 'other', 'confidence': 0.972}}, 'words': [{'boundingBox': [2669, 1347, 2686, 1347, 2686, 1392, 2669, 1392], 'text': '·', 'confidence': 0.946}, {'boundingBox': [2714, 1347, 2743, 1346, 2742, 1393, 2714, 1393], 'text': '本', 'confidence': 0.997}, {'boundingBox': [2771, 1346, 2799, 1346, 2799, 1394, 2770, 1393], 'text': '書', 'confidence': 0.996}, {'boundingBox': [2809, 1346, 2843, 1346, 2842, 1394, 2808, 1394], 'text': 'の', 'confidence': 0.995}, {'boundingBox': [2878, 1346, 2906, 1346, 2905, 1395, 2877, 1394], 'text': '再', 'confidence': 0.996}, {'boundingBox': [2928, 1346, 2956, 1346, 2955, 1395, 2927, 1395], 'text': '発', 'confidence': 0.997}, {'boundingBox': [2984, 1347, 3013, 1347, 3011, 1396, 2983, 1395], 'text': '行', 'confidence': 0.996}, {'boundingBox': [3016, 1347, 3044, 1347, 3042, 1396, 3014, 1396], 'text': 'は', 'confidence': 0.996}, {'boundingBox': [3078, 1347, 3107, 1348, 3104, 1397, 3076, 1396], 'text': '致', 'confidence': 0.993}, {'boundingBox': [3116, 1348, 3151, 1348, 3148, 1397, 3114, 1397], 'text': 'し', 'confidence': 0.996}, {'boundingBox': [3179, 1348, 3207, 1349, 3204, 1397, 3176, 1397], 'text': 'ま', 'confidence': 0.998}, {'boundingBox': [3229, 1349, 3257, 1350, 3254, 1398, 3226, 1398], 'text': 'せ', 'confidence': 0.996}, {'boundingBox': [3267, 1350, 3301, 1351, 3298, 1398, 3264, 1398], 'text': 'ん', 'confidence': 0.995}, {'boundingBox': [3311, 1351, 3339, 1351, 3335, 1398, 3307, 1398], 'text': '。', 'confidence': 0.995}]}, {'boundingBox': [693, 1406, 933, 1406, 932, 1456, 693, 1452], 'text': '2022/8/30', 'appearance': {'style': {'name': 'other', 'confidence': 0.972}}, 'words': [{'boundingBox': [694, 1407, 920, 1407, 921, 1457, 693, 1451], 'text': '2022/8/30', 'confidence': 0.994}]}, {'boundingBox': [1003, 1402, 1166, 1401, 1166, 1449, 1003, 1450], 'text': '診察料', 'appearance': {'style': {'name': 'other', 'confidence': 0.972}}, 'words': [{'boundingBox': [1025, 1402, 1053, 1402, 1052, 1450, 1024, 1450], 'text': '診', 'confidence': 0.995}, {'boundingBox': [1081, 1403, 1109, 1402, 1108, 1450, 1080, 1450], 'text': '察', 'confidence': 0.982}, {'boundingBox': [1131, 1402, 1159, 1402, 1158, 1449, 1130, 1450], 'text': '料', 'confidence': 0.997}]}, {'boundingBox': [2194, 1397, 2352, 1397, 2352, 1442, 2194, 1440], 'text': '¥2,970', 'appearance': {'style': {'name': 'other', 'confidence': 0.972}}, 'words': [{'boundingBox': [2195, 1398, 2346, 1398, 2344, 1443, 2195, 1439], 'text': '¥2,970', 'confidence': 0.995}]}, {'boundingBox': [2674, 1410, 3492, 1414, 3492, 1464, 2674, 1458], 'text': '·本領収証は大切に保管して下さい。', 'appearance': {'style': {'name': 'other', 'confidence': 0.972}}, 'words': [{'boundingBox': [2677, 1412, 2694, 1411, 2692, 1460, 2674, 1460], 'text': '·', 'confidence': 0.933}, {'boundingBox': [2722, 1411, 2751, 1411, 2748, 1460, 2720, 1460], 'text': '本', 'confidence': 0.996}, {'boundingBox': [2779, 1411, 2807, 1410, 2805, 1460, 2777, 1460], 'text': '領', 'confidence': 0.996}, {'boundingBox': [2829, 1410, 2858, 1410, 2856, 1460, 2827, 1460], 'text': '収', 'confidence': 0.992}, {'boundingBox': [2886, 1410, 2915, 1410, 2912, 1460, 2884, 1460], 'text': '証', 'confidence': 0.995}, {'boundingBox': [2918, 1410, 2946, 1410, 2944, 1460, 2916, 1460], 'text': 'は', 'confidence': 0.995}, {'boundingBox': [2981, 1410, 3009, 1410, 3007, 1461, 2979, 1460], 'text': '大', 'confidence': 0.995}, {'boundingBox': [3031, 1411, 3060, 1411, 3057, 1461, 3029, 1461], 'text': '切', 'confidence': 0.998}, {'boundingBox': [3069, 1411, 3098, 1411, 3095, 1461, 3067, 1461], 'text': 'に', 'confidence': 0.996}, {'boundingBox': [3139, 1412, 3167, 1412, 3165, 1461, 3136, 1461], 'text': '保', 'confidence': 0.996}, {'boundingBox': [3189, 1413, 3217, 1413, 3215, 1462, 3187, 1462], 'text': '管', 'confidence': 0.996}, {'boundingBox': [3227, 1413, 3255, 1414, 3253, 1462, 3225, 1462], 'text': 'し', 'confidence': 0.998}, {'boundingBox': [3284, 1414, 3312, 1415, 3310, 1462, 3281, 1462], 'text': 'て', 'confidence': 0.997}, {'boundingBox': [3340, 1416, 3369, 1417, 3366, 1463, 3338, 1463], 'text': '下', 'confidence': 0.996}, {'boundingBox': [3384, 1417, 3413, 1418, 3411, 1463, 3382, 1463], 'text': 'さ', 'confidence': 0.998}, {'boundingBox': [3422, 1418, 3451, 1419, 3448, 1464, 3420, 1463], 'text': 'い', 'confidence': 0.996}, {'boundingBox': [3466, 1420, 3490, 1420, 3488, 1464, 3464, 1464], 'text': '。', 'confidence': 0.994}]}, {'boundingBox': [1000, 1466, 1479, 1461, 1479, 1512, 1000, 1516], 'text': 'A型肝炎[輸入]1回目', 'appearance': {'style': {'name': 'other', 'confidence': 0.972}}, 'words': [{'boundingBox': [1003, 1468, 1032, 1468, 1031, 1516, 1003, 1516], 'text': 'A', 'confidence': 0.995}, {'boundingBox': [1041, 1468, 1070, 1468, 1070, 1516, 1041, 1516], 'text': '型', 'confidence': 0.993}, {'boundingBox': [1099, 1467, 1128, 1467, 1128, 1515, 1099, 1515], 'text': '肝', 'confidence': 0.996}, {'boundingBox': [1151, 1467, 1180, 1467, 1179, 1515, 1150, 1515], 'text': '炎', 'confidence': 0.984}, {'boundingBox': [1189, 1466, 1218, 1466, 1218, 1515, 1189, 1515], 'text': '[', 'confidence': 0.989}, {'boundingBox': [1235, 1466, 1264, 1465, 1263, 1514, 1234, 1514], 'text': '輸', 'confidence': 0.987}, {'boundingBox': [1286, 1465, 1315, 1465, 1314, 1514, 1285, 1514], 'text': '入', 'confidence': 0.993}, {'boundingBox': [1318, 1465, 1380, 1464, 1378, 1514, 1317, 1514], 'text': ']1', 'confidence': 0.989}, {'boundingBox': [1396, 1463, 1425, 1463, 1423, 1514, 1395, 1514], 'text': '回', 'confidence': 0.996}, {'boundingBox': [1447, 1462, 1476, 1462, 1475, 1514, 1446, 1514], 'text': '目', 'confidence': 0.996}]}, {'boundingBox': [2169, 1464, 2350, 1463, 2350, 1511, 2169, 1513], 'text': '¥15,400', 'appearance': {'style': {'name': 'other', 'confidence': 0.972}}, 'words': [{'boundingBox': [2170, 1467, 2347, 1464, 2347, 1513, 2170, 1511], 'text': '¥15,400', 'confidence': 0.987}]}, {'boundingBox': [1000, 1538, 1212, 1534, 1213, 1580, 1002, 1585], 'text': '腸チフス', 'appearance': {'style': {'name': 'other', 'confidence': 0.972}}, 'words': [{'boundingBox': [1015, 1538, 1043, 1537, 1043, 1585, 1016, 1585], 'text': '腸', 'confidence': 0.993}, {'boundingBox': [1071, 1536, 1099, 1536, 1098, 1583, 1070, 1584], 'text': 'チ', 'confidence': 0.996}, {'boundingBox': [1121, 1535, 1149, 1535, 1146, 1582, 1119, 1583], 'text': 'フ', 'confidence': 0.995}, {'boundingBox': [1177, 1534, 1205, 1534, 1201, 1582, 1173, 1582], 'text': 'ス', 'confidence': 0.996}]}, {'boundingBox': [2169, 1532, 2360, 1532, 2360, 1578, 2169, 1579], 'text': '¥13,200', 'appearance': {'style': {'name': 'other', 'confidence': 0.972}}, 'words': [{'boundingBox': [2171, 1533, 2351, 1532, 2349, 1579, 2170, 1578], 'text': '¥13,200', 'confidence': 0.987}]}, {'boundingBox': [2727, 1547, 2800, 1546, 2797, 1589, 2726, 1589], 'text': 'No .:', 'appearance': {'style': {'name': 'other', 'confidence': 0.972}}, 'words': [{'boundingBox': [2726, 1546, 2761, 1546, 2761, 1589, 2726, 1589], 'text': 'No', 'confidence': 0.995}, {'boundingBox': [2762, 1546, 2794, 1546, 2795, 1589, 2762, 1589], 'text': '.:', 'confidence': 0.981}]}, {'boundingBox': [2901, 1546, 3169, 1550, 3168, 1598, 2901, 1592], 'text': '2022034125', 'appearance': {'style': {'name': 'other', 'confidence': 0.972}}, 'words': [{'boundingBox': [2903, 1546, 3167, 1550, 3167, 1599, 2904, 1592], 'text': '2022034125', 'confidence': 0.993}]}, {'boundingBox': [996, 1603, 1264, 1602, 1265, 1651, 996, 1652], 'text': '破傷風追加', 'appearance': {'style': {'name': 'other', 'confidence': 0.972}}, 'words': [{'boundingBox': [1011, 1604, 1039, 1604, 1038, 1652, 1011, 1653], 'text': '破', 'confidence': 0.994}, {'boundingBox': [1073, 1603, 1101, 1603, 1099, 1650, 1072, 1651], 'text': '傷', 'confidence': 0.996}, {'boundingBox': [1122, 1603, 1150, 1603, 1148, 1650, 1121, 1650], 'text': '風', 'confidence': 0.995}, {'boundingBox': [1178, 1603, 1206, 1604, 1203, 1650, 1176, 1650], 'text': '追', 'confidence': 0.996}, {'boundingBox': [1222, 1604, 1250, 1605, 1246, 1651, 1218, 1651], 'text': '加', 'confidence': 0.995}]}, {'boundingBox': [2200, 1599, 2360, 1601, 2359, 1647, 2200, 1645], 'text': '¥3,850', 'appearance': {'style': {'name': 'other', 'confidence': 0.972}}, 'words': [{'boundingBox': [2200, 1599, 2348, 1602, 2346, 1647, 2202, 1645], 'text': '¥3,850', 'confidence': 0.995}]}, {'boundingBox': [1003, 1671, 1480, 1666, 1481, 1716, 1003, 1723], 'text': '日本脳炎[国産]追加', 'appearance': {'style': {'name': 'other', 'confidence': 0.972}}, 'words': [{'boundingBox': [1003, 1673, 1028, 1672, 1031, 1723, 1006, 1723], 'text': '日', 'confidence': 0.996}, {'boundingBox': [1059, 1672, 1089, 1671, 1091, 1722, 1061, 1723], 'text': '本', 'confidence': 0.996}, {'boundingBox': [1112, 1671, 1143, 1670, 1144, 1722, 1114, 1722], 'text': '脳', 'confidence': 0.856}, {'boundingBox': [1166, 1670, 1196, 1669, 1197, 1721, 1167, 1722], 'text': '炎', 'confidence': 0.981}, {'boundingBox': [1206, 1669, 1236, 1669, 1237, 1721, 1207, 1721], 'text': '[', 'confidence': 0.988}, {'boundingBox': [1247, 1669, 1277, 1668, 1277, 1720, 1247, 1721], 'text': '国', 'confidence': 0.996}, {'boundingBox': [1307, 1668, 1337, 1668, 1337, 1719, 1307, 1720], 'text': '産', 'confidence': 0.947}, {'boundingBox': [1341, 1668, 1371, 1667, 1370, 1719, 1340, 1719], 'text': ']', 'confidence': 0.991}, {'boundingBox': [1388, 1667, 1418, 1667, 1417, 1718, 1387, 1719], 'text': '追', 'confidence': 0.997}, {'boundingBox': [1435, 1667, 1465, 1667, 1463, 1717, 1434, 1718], 'text': '加', 'confidence': 0.996}]}, {'boundingBox': [2206, 1666, 2360, 1666, 2361, 1714, 2206, 1716], 'text': '¥6,600', 'appearance': {'style': {'name': 'other', 'confidence': 0.972}}, 'words': [{'boundingBox': [2206, 1667, 2359, 1667, 2355, 1715, 2206, 1717], 'text': '¥6,600', 'confidence': 0.983}]}, {'boundingBox': [3038, 1662, 3196, 1665, 3195, 1710, 3037, 1706], 'text': '領収印', 'appearance': {'style': {'name': 'other', 'confidence': 0.972}}, 'words': [{'boundingBox': [3046, 1663, 3078, 1664, 3076, 1707, 3044, 1706], 'text': '領', 'confidence': 0.995}, {'boundingBox': [3098, 1665, 3130, 1665, 3127, 1709, 3096, 1708], 'text': '収', 'confidence': 0.993}, {'boundingBox': [3145, 1665, 3171, 1665, 3167, 1710, 3141, 1710], 'text': '印', 'confidence': 0.996}]}, {'boundingBox': [3018, 1751, 3212, 1743, 3212, 1837, 3018, 1836], 'text': '領収', 'appearance': {'style': {'name': 'other', 'confidence': 0.815}}, 'words': [{'boundingBox': [3018, 1746, 3076, 1745, 3078, 1838, 3018, 1838], 'text': '領', 'confidence': 0.793}, {'boundingBox': [3099, 1745, 3164, 1743, 3165, 1837, 3101, 1838], 'text': '収', 'confidence': 0.982}]}, {'boundingBox': [2989, 1867, 3257, 1867, 3257, 1935, 2988, 1933], 'text': '品川イース', 'appearance': {'style': {'name': 'handwriting', 'confidence': 0.966}}, 'words': [{'boundingBox': [2994, 1870, 3027, 1869, 3027, 1932, 2994, 1932], 'text': '品', 'confidence': 0.99}, {'boundingBox': [3028, 1869, 3072, 1867, 3071, 1933, 3028, 1932], 'text': '川', 'confidence': 0.787}, {'boundingBox': [3079, 1867, 3121, 1867, 3120, 1933, 3078, 1933], 'text': 'イ', 'confidence': 0.945}, {'boundingBox': [3122, 1867, 3163, 1867, 3162, 1934, 3121, 1933], 'text': 'ー', 'confidence': 0.707}, {'boundingBox': [3165, 1867, 3208, 1869, 3206, 1935, 3163, 1934], 'text': 'ス', 'confidence': 0.811}]}, {'boundingBox': [3001, 1909, 3224, 1897, 3226, 1956, 3002, 1965], 'text': 'クリニック', 'appearance': {'style': {'name': 'handwriting', 'confidence': 0.563}}, 'words': [{'boundingBox': [3013, 1910, 3050, 1911, 3051, 1965, 3014, 1965], 'text': 'ク', 'confidence': 0.995}, {'boundingBox': [3056, 1911, 3093, 1910, 3094, 1964, 3058, 1965], 'text': 'リ', 'confidence': 0.995}, {'boundingBox': [3099, 1910, 3136, 1908, 3138, 1962, 3101, 1964], 'text': 'ニ', 'confidence': 0.996}, {'boundingBox': [3150, 1907, 3185, 1903, 3186, 1958, 3151, 1961], 'text': 'ッ', 'confidence': 0.996}, {'boundingBox': [3186, 1902, 3222, 1898, 3224, 1955, 3187, 1958], 'text': 'ク', 'confidence': 0.995}]}, {'boundingBox': [2686, 2107, 3209, 2107, 3209, 2166, 2686, 2166], 'text': '医療法人社団佳有会', 'appearance': {'style': {'name': 'other', 'confidence': 0.972}}, 'words': [{'boundingBox': [2698, 2108, 2732, 2108, 2731, 2165, 2696, 2165], 'text': '医', 'confidence': 0.997}, {'boundingBox': [2759, 2108, 2794, 2108, 2793, 2165, 2758, 2165], 'text': '療', 'confidence': 0.996}, {'boundingBox': [2813, 2108, 2847, 2108, 2846, 2165, 2812, 2165], 'text': '法', 'confidence': 0.996}, {'boundingBox': [2874, 2107, 2909, 2107, 2908, 2165, 2873, 2165], 'text': '人', 'confidence': 0.995}, {'boundingBox': [2936, 2107, 2970, 2107, 2970, 2166, 2935, 2166], 'text': '社', 'confidence': 0.996}, {'boundingBox': [2997, 2107, 3032, 2107, 3031, 2166, 2997, 2166], 'text': '団', 'confidence': 0.996}, {'boundingBox': [3059, 2107, 3093, 2107, 3093, 2167, 3058, 2166], 'text': '佳', 'confidence': 0.995}, {'boundingBox': [3112, 2107, 3147, 2107, 3147, 2167, 3112, 2167], 'text': '有', 'confidence': 0.995}, {'boundingBox': [3174, 2107, 3208, 2107, 3208, 2167, 3174, 2167], 'text': '会', 'confidence': 0.996}]}, {'boundingBox': [2692, 2174, 3208, 2171, 3209, 2228, 2692, 2232], 'text': '品川イーストクリニック', 'appearance': {'style': {'name': 'other', 'confidence': 0.972}}, 'words': [{'boundingBox': [2695, 2174, 2729, 2174, 2728, 2232, 2694, 2232], 'text': '品', 'confidence': 0.996}, {'boundingBox': [2741, 2174, 2783, 2174, 2781, 2232, 2740, 2232], 'text': '川', 'confidence': 0.995}, {'boundingBox': [2817, 2174, 2851, 2173, 2850, 2232, 2816, 2232], 'text': 'イ', 'confidence': 0.995}, {'boundingBox': [2862, 2173, 2896, 2173, 2896, 2232, 2861, 2232], 'text': 'ー', 'confidence': 0.988}, {'boundingBox': [2915, 2173, 2949, 2173, 2949, 2232, 2915, 2232], 'text': 'ス', 'confidence': 0.996}, {'boundingBox': [2953, 2173, 2987, 2173, 2987, 2231, 2953, 2232], 'text': 'ト', 'confidence': 0.996}, {'boundingBox': [2999, 2173, 3028, 2172, 3028, 2231, 2998, 2231], 'text': 'ク', 'confidence': 0.996}, {'boundingBox': [3029, 2172, 3063, 2172, 3063, 2230, 3029, 2231], 'text': 'リ', 'confidence': 0.996}, {'boundingBox': [3075, 2172, 3109, 2172, 3109, 2229, 3074, 2230], 'text': 'ニ', 'confidence': 0.993}, {'boundingBox': [3120, 2172, 3154, 2172, 3154, 2228, 3120, 2229], 'text': 'ッ', 'confidence': 0.997}, {'boundingBox': [3173, 2171, 3207, 2171, 3207, 2227, 3173, 2228], 'text': 'ク', 'confidence': 0.997}]}, {'boundingBox': [2693, 2251, 3429, 2245, 3430, 2297, 2693, 2304], 'text': 'Shinagawa East Medical Clinic', 'appearance': {'style': {'name': 'other', 'confidence': 0.972}}, 'words': [{'boundingBox': [2694, 2252, 2942, 2249, 2942, 2303, 2694, 2304], 'text': 'Shinagawa', 'confidence': 0.991}, {'boundingBox': [2959, 2249, 3074, 2248, 3075, 2301, 2960, 2302], 'text': 'East', 'confidence': 0.99}, {'boundingBox': [3077, 2248, 3275, 2246, 3276, 2299, 3078, 2301], 'text': 'Medical', 'confidence': 0.993}, {'boundingBox': [3279, 2246, 3421, 2246, 3422, 2297, 3280, 2299], 'text': 'Clinic', 'confidence': 0.991}]}, {'boundingBox': [2703, 2322, 2993, 2321, 2993, 2374, 2703, 2375], 'text': '〒108-6102', 'appearance': {'style': {'name': 'other', 'confidence': 0.972}}, 'words': [{'boundingBox': [2705, 2324, 2735, 2323, 2736, 2375, 2707, 2376], 'text': '〒', 'confidence': 0.992}, {'boundingBox': [2745, 2323, 2988, 2323, 2987, 2374, 2746, 2374], 'text': '108-6102', 'confidence': 0.99}]}, {'boundingBox': [2699, 2393, 3375, 2388, 3376, 2448, 2699, 2453], 'text': '東京都港区港南2-15-2', 'appearance': {'style': {'name': 'other', 'confidence': 0.972}}, 'words': [{'boundingBox': [2710, 2394, 2746, 2394, 2744, 2453, 2709, 2453], 'text': '東', 'confidence': 0.996}, {'boundingBox': [2773, 2393, 2808, 2393, 2807, 2453, 2772, 2453], 'text': '京', 'confidence': 0.996}, {'boundingBox': [2828, 2393, 2863, 2393, 2862, 2453, 2826, 2453], 'text': '都', 'confidence': 0.995}, {'boundingBox': [2891, 2393, 2926, 2392, 2924, 2453, 2889, 2453], 'text': '港', 'confidence': 0.996}, {'boundingBox': [2946, 2392, 2981, 2392, 2979, 2453, 2944, 2453], 'text': '区', 'confidence': 0.995}, {'boundingBox': [3008, 2392, 3043, 2392, 3041, 2453, 3006, 2453], 'text': '港', 'confidence': 0.996}, {'boundingBox': [3071, 2391, 3106, 2391, 3104, 2452, 3069, 2452], 'text': '南', 'confidence': 0.99}, {'boundingBox': [3110, 2391, 3373, 2389, 3370, 2446, 3108, 2452], 'text': '2-15-2', 'confidence': 0.925}]}, {'boundingBox': [2702, 2466, 3365, 2459, 3365, 2523, 2702, 2531], 'text': '品川インターシティB棟2階', 'appearance': {'style': {'name': 'other', 'confidence': 0.972}}, 'words': [{'boundingBox': [2705, 2466, 2742, 2466, 2742, 2532, 2705, 2532], 'text': '品', 'confidence': 0.996}, {'boundingBox': [2755, 2466, 2792, 2465, 2792, 2530, 2755, 2531], 'text': '川', 'confidence': 0.996}, {'boundingBox': [2830, 2465, 2862, 2465, 2862, 2529, 2829, 2529], 'text': 'イ', 'confidence': 0.996}, {'boundingBox': [2863, 2464, 2900, 2464, 2900, 2528, 2863, 2529], 'text': 'ン', 'confidence': 0.997}, {'boundingBox': [2921, 2464, 2959, 2464, 2958, 2527, 2921, 2527], 'text': 'タ', 'confidence': 0.997}, {'boundingBox': [2963, 2464, 3000, 2463, 3000, 2526, 2962, 2527], 'text': 'ー', 'confidence': 0.995}, {'boundingBox': [3021, 2463, 3059, 2463, 3058, 2525, 3021, 2526], 'text': 'シ', 'confidence': 0.995}, {'boundingBox': [3079, 2462, 3117, 2462, 3116, 2524, 3079, 2525], 'text': 'テ', 'confidence': 0.994}, {'boundingBox': [3129, 2462, 3162, 2462, 3161, 2524, 3129, 2524], 'text': 'ィ', 'confidence': 0.996}, {'boundingBox': [3163, 2462, 3200, 2461, 3199, 2524, 3162, 2524], 'text': 'B', 'confidence': 0.995}, {'boundingBox': [3229, 2461, 3262, 2461, 3260, 2523, 3228, 2523], 'text': '棟', 'confidence': 0.996}, {'boundingBox': [3263, 2461, 3300, 2460, 3299, 2523, 3261, 2523], 'text': '2', 'confidence': 0.996}, {'boundingBox': [3313, 2460, 3350, 2460, 3349, 2523, 3311, 2523], 'text': '階', 'confidence': 0.998}]}, {'boundingBox': [2704, 2545, 3188, 2538, 3189, 2593, 2705, 2601], 'text': 'TEL 03-5783-5521', 'appearance': {'style': {'name': 'other', 'confidence': 0.972}}, 'words': [{'boundingBox': [2705, 2545, 2797, 2544, 2799, 2600, 2706, 2602], 'text': 'TEL', 'confidence': 0.995}, {'boundingBox': [2823, 2543, 3185, 2539, 3185, 2593, 2824, 2600], 'text': '03-5783-5521', 'confidence': 0.99}]}]}]}}\n"
     ]
    }
   ],
   "source": [
    "response_final = requests.get(operation_url, headers=headers)\n",
    "print(response_final.json())"
   ]
  },
  {
   "attachments": {},
   "cell_type": "markdown",
   "metadata": {},
   "source": [
    "文字どうしの間隔が離れている場合でも、一連のtextとして認識されるようになっている。\n",
    "例えば2021年・2022年モデルの両方で認識できていた\"領　収　証\"は、文字間が一文字分くらいしか離れていない。\n",
    "一方、2022年モデルでだけ認識できた\"氏　名\"は、文字間が2文字くらい空いている。よって、性能が向上していると言えそうだ。"
   ]
  }
 ],
 "metadata": {
  "kernelspec": {
   "display_name": "Python 3",
   "language": "python",
   "name": "python3"
  },
  "language_info": {
   "codemirror_mode": {
    "name": "ipython",
    "version": 3
   },
   "file_extension": ".py",
   "mimetype": "text/x-python",
   "name": "python",
   "nbconvert_exporter": "python",
   "pygments_lexer": "ipython3",
   "version": "3.11.2"
  },
  "orig_nbformat": 4
 },
 "nbformat": 4,
 "nbformat_minor": 2
}
