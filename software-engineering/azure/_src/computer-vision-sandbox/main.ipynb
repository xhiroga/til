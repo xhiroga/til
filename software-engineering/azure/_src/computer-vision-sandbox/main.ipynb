{
 "cells": [
  {
   "cell_type": "code",
   "execution_count": 1,
   "metadata": {},
   "outputs": [
    {
     "name": "stdout",
     "output_type": "stream",
     "text": [
      "\n",
      "\u001b[0m\u001b[1mInitializing the backend...\u001b[0m\n",
      "\n",
      "\u001b[0m\u001b[1mInitializing provider plugins...\u001b[0m\n",
      "- Finding latest version of hashicorp/azurerm...\n",
      "- Installing hashicorp/azurerm v3.54.0...\n",
      "- Installed hashicorp/azurerm v3.54.0 (signed by HashiCorp)\n",
      "\n",
      "Terraform has created a lock file \u001b[1m.terraform.lock.hcl\u001b[0m to record the provider\n",
      "selections it made above. Include this file in your version control repository\n",
      "so that Terraform can guarantee to make the same selections by default when\n",
      "you run \"terraform init\" in the future.\u001b[0m\n",
      "\n",
      "\u001b[0m\u001b[1m\u001b[32mTerraform has been successfully initialized!\u001b[0m\u001b[32m\u001b[0m\n",
      "\u001b[0m\u001b[32m\n",
      "You may now begin working with Terraform. Try running \"terraform plan\" to see\n",
      "any changes that are required for your infrastructure. All Terraform commands\n",
      "should now work.\n",
      "\n",
      "If you ever set or change modules or backend configuration for Terraform,\n",
      "rerun this command to reinitialize your working directory. If you forget, other\n",
      "commands will detect it and remind you to do so if necessary.\u001b[0m\n"
     ]
    }
   ],
   "source": [
    "!terraform init"
   ]
  },
  {
   "cell_type": "code",
   "execution_count": 1,
   "metadata": {
    "vscode": {
     "languageId": "shellscript"
    }
   },
   "outputs": [
    {
     "name": "stdout",
     "output_type": "stream",
     "text": [
      "\n",
      "Terraform used the selected providers to generate the following execution plan.\n",
      "Resource actions are indicated with the following symbols:\n",
      "  \u001b[32m+\u001b[0m create\u001b[0m\n",
      "\n",
      "Terraform will perform the following actions:\n",
      "\n",
      "\u001b[1m  # azurerm_cognitive_account.cv_sandbox\u001b[0m will be created\n",
      "\u001b[0m  \u001b[32m+\u001b[0m\u001b[0m resource \"azurerm_cognitive_account\" \"cv_sandbox\" {\n",
      "      \u001b[32m+\u001b[0m\u001b[0m endpoint                           = (known after apply)\n",
      "      \u001b[32m+\u001b[0m\u001b[0m id                                 = (known after apply)\n",
      "      \u001b[32m+\u001b[0m\u001b[0m kind                               = \"ComputerVision\"\n",
      "      \u001b[32m+\u001b[0m\u001b[0m local_auth_enabled                 = true\n",
      "      \u001b[32m+\u001b[0m\u001b[0m location                           = \"japaneast\"\n",
      "      \u001b[32m+\u001b[0m\u001b[0m name                               = \"hiroga_cv_sandbox\"\n",
      "      \u001b[32m+\u001b[0m\u001b[0m outbound_network_access_restricted = false\n",
      "      \u001b[32m+\u001b[0m\u001b[0m primary_access_key                 = (sensitive value)\n",
      "      \u001b[32m+\u001b[0m\u001b[0m public_network_access_enabled      = true\n",
      "      \u001b[32m+\u001b[0m\u001b[0m resource_group_name                = \"cv-sandbox\"\n",
      "      \u001b[32m+\u001b[0m\u001b[0m secondary_access_key               = (sensitive value)\n",
      "      \u001b[32m+\u001b[0m\u001b[0m sku_name                           = \"F0\"\n",
      "      \u001b[32m+\u001b[0m\u001b[0m tags                               = {\n",
      "          \u001b[32m+\u001b[0m\u001b[0m \"Owner\" = \"hiroga\"\n",
      "        }\n",
      "    }\n",
      "\n",
      "\u001b[1m  # azurerm_resource_group.cv_sandbox\u001b[0m will be created\n",
      "\u001b[0m  \u001b[32m+\u001b[0m\u001b[0m resource \"azurerm_resource_group\" \"cv_sandbox\" {\n",
      "      \u001b[32m+\u001b[0m\u001b[0m id       = (known after apply)\n",
      "      \u001b[32m+\u001b[0m\u001b[0m location = \"japaneast\"\n",
      "      \u001b[32m+\u001b[0m\u001b[0m name     = \"cv-sandbox\"\n",
      "    }\n",
      "\n",
      "\u001b[1mPlan:\u001b[0m 2 to add, 0 to change, 0 to destroy.\n",
      "\u001b[0m\u001b[90m\n",
      "───────────────────────────────────────────────────────────────────────────────\u001b[0m\n",
      "\n",
      "Note: You didn't use the -out option to save this plan, so Terraform can't\n",
      "guarantee to take exactly these actions if you run \"terraform apply\" now.\n"
     ]
    }
   ],
   "source": [
    "!terraform plan"
   ]
  },
  {
   "cell_type": "code",
   "execution_count": 3,
   "metadata": {
    "vscode": {
     "languageId": "shellscript"
    }
   },
   "outputs": [
    {
     "name": "stdout",
     "output_type": "stream",
     "text": [
      "\n",
      "Terraform used the selected providers to generate the following execution plan.\n",
      "Resource actions are indicated with the following symbols:\n",
      "  \u001b[32m+\u001b[0m create\u001b[0m\n",
      "\n",
      "Terraform will perform the following actions:\n",
      "\n",
      "\u001b[1m  # azurerm_cognitive_account.cv_sandbox\u001b[0m will be created\n",
      "\u001b[0m  \u001b[32m+\u001b[0m\u001b[0m resource \"azurerm_cognitive_account\" \"cv_sandbox\" {\n",
      "      \u001b[32m+\u001b[0m\u001b[0m endpoint                           = (known after apply)\n",
      "      \u001b[32m+\u001b[0m\u001b[0m id                                 = (known after apply)\n",
      "      \u001b[32m+\u001b[0m\u001b[0m kind                               = \"ComputerVision\"\n",
      "      \u001b[32m+\u001b[0m\u001b[0m local_auth_enabled                 = true\n",
      "      \u001b[32m+\u001b[0m\u001b[0m location                           = \"japaneast\"\n",
      "      \u001b[32m+\u001b[0m\u001b[0m name                               = \"hiroga_cv_sandbox\"\n",
      "      \u001b[32m+\u001b[0m\u001b[0m outbound_network_access_restricted = false\n",
      "      \u001b[32m+\u001b[0m\u001b[0m primary_access_key                 = (sensitive value)\n",
      "      \u001b[32m+\u001b[0m\u001b[0m public_network_access_enabled      = true\n",
      "      \u001b[32m+\u001b[0m\u001b[0m resource_group_name                = \"cv-sandbox\"\n",
      "      \u001b[32m+\u001b[0m\u001b[0m secondary_access_key               = (sensitive value)\n",
      "      \u001b[32m+\u001b[0m\u001b[0m sku_name                           = \"F0\"\n",
      "      \u001b[32m+\u001b[0m\u001b[0m tags                               = {\n",
      "          \u001b[32m+\u001b[0m\u001b[0m \"Owner\" = \"hiroga\"\n",
      "        }\n",
      "    }\n",
      "\n",
      "\u001b[1m  # azurerm_resource_group.cv_sandbox\u001b[0m will be created\n",
      "\u001b[0m  \u001b[32m+\u001b[0m\u001b[0m resource \"azurerm_resource_group\" \"cv_sandbox\" {\n",
      "      \u001b[32m+\u001b[0m\u001b[0m id       = (known after apply)\n",
      "      \u001b[32m+\u001b[0m\u001b[0m location = \"japaneast\"\n",
      "      \u001b[32m+\u001b[0m\u001b[0m name     = \"cv-sandbox\"\n",
      "    }\n",
      "\n",
      "\u001b[1mPlan:\u001b[0m 2 to add, 0 to change, 0 to destroy.\n",
      "\u001b[0m\u001b[0m\u001b[1mazurerm_resource_group.cv_sandbox: Creating...\u001b[0m\u001b[0m\n",
      "\u001b[0m\u001b[1mazurerm_resource_group.cv_sandbox: Creation complete after 1s [id=/subscriptions/eb6531d0-ead7-457e-a987-f62f8e88a52f/resourceGroups/cv-sandbox]\u001b[0m\n",
      "\u001b[0m\u001b[1mazurerm_cognitive_account.cv_sandbox: Creating...\u001b[0m\u001b[0m\n",
      "\u001b[31m╷\u001b[0m\u001b[0m\n",
      "\u001b[31m│\u001b[0m \u001b[0m\u001b[1m\u001b[31mError: \u001b[0m\u001b[0m\u001b[1mcreating Account (Subscription: \"eb6531d0-ead7-457e-a987-f62f8e88a52f\"\n",
      "\u001b[31m│\u001b[0m \u001b[0mResource Group Name: \"cv-sandbox\"\n",
      "\u001b[31m│\u001b[0m \u001b[0mAccount Name: \"hiroga_cv_sandbox\"): cognitiveservicesaccounts.CognitiveServicesAccountsClient#AccountsCreate: Failure sending request: StatusCode=0 -- Original Error: Code=\"ResourceKindRequireAcceptTerms\" Message=\"This subscription cannot create ComputerVision until you agree to Responsible AI terms for this resource. You can agree to Responsible AI terms by creating a resource through the Azure Portal then trying again. For more detail go to https://go.microsoft.com/fwlink/?linkid=2164911\"\u001b[0m\n",
      "\u001b[31m│\u001b[0m \u001b[0m\n",
      "\u001b[31m│\u001b[0m \u001b[0m\u001b[0m  with azurerm_cognitive_account.cv_sandbox,\n",
      "\u001b[31m│\u001b[0m \u001b[0m  on main.tf line 10, in resource \"azurerm_cognitive_account\" \"cv_sandbox\":\n",
      "\u001b[31m│\u001b[0m \u001b[0m  10: resource \"azurerm_cognitive_account\" \"cv_sandbox\" \u001b[4m{\u001b[0m\u001b[0m\n",
      "\u001b[31m│\u001b[0m \u001b[0m\n",
      "\u001b[31m╵\u001b[0m\u001b[0m\n"
     ]
    }
   ],
   "source": [
    "!terraform apply -auto-approve"
   ]
  },
  {
   "attachments": {},
   "cell_type": "markdown",
   "metadata": {},
   "source": [
    "Creating a resource through the Azure Portal, and remove it."
   ]
  },
  {
   "cell_type": "code",
   "execution_count": 5,
   "metadata": {
    "vscode": {
     "languageId": "shellscript"
    }
   },
   "outputs": [
    {
     "name": "stdout",
     "output_type": "stream",
     "text": [
      "\u001b[0m\u001b[1mazurerm_resource_group.cv_sandbox: Refreshing state... [id=/subscriptions/eb6531d0-ead7-457e-a987-f62f8e88a52f/resourceGroups/cv-sandbox]\u001b[0m\n",
      "\n",
      "Terraform used the selected providers to generate the following execution plan.\n",
      "Resource actions are indicated with the following symbols:\n",
      "  \u001b[32m+\u001b[0m create\u001b[0m\n",
      "\n",
      "Terraform will perform the following actions:\n",
      "\n",
      "\u001b[1m  # azurerm_cognitive_account.cv_sandbox\u001b[0m will be created\n",
      "\u001b[0m  \u001b[32m+\u001b[0m\u001b[0m resource \"azurerm_cognitive_account\" \"cv_sandbox\" {\n",
      "      \u001b[32m+\u001b[0m\u001b[0m endpoint                           = (known after apply)\n",
      "      \u001b[32m+\u001b[0m\u001b[0m id                                 = (known after apply)\n",
      "      \u001b[32m+\u001b[0m\u001b[0m kind                               = \"ComputerVision\"\n",
      "      \u001b[32m+\u001b[0m\u001b[0m local_auth_enabled                 = true\n",
      "      \u001b[32m+\u001b[0m\u001b[0m location                           = \"japaneast\"\n",
      "      \u001b[32m+\u001b[0m\u001b[0m name                               = \"hiroga-cv-sandbox\"\n",
      "      \u001b[32m+\u001b[0m\u001b[0m outbound_network_access_restricted = false\n",
      "      \u001b[32m+\u001b[0m\u001b[0m primary_access_key                 = (sensitive value)\n",
      "      \u001b[32m+\u001b[0m\u001b[0m public_network_access_enabled      = true\n",
      "      \u001b[32m+\u001b[0m\u001b[0m resource_group_name                = \"cv-sandbox\"\n",
      "      \u001b[32m+\u001b[0m\u001b[0m secondary_access_key               = (sensitive value)\n",
      "      \u001b[32m+\u001b[0m\u001b[0m sku_name                           = \"F0\"\n",
      "      \u001b[32m+\u001b[0m\u001b[0m tags                               = {\n",
      "          \u001b[32m+\u001b[0m\u001b[0m \"Owner\" = \"hiroga\"\n",
      "        }\n",
      "    }\n",
      "\n",
      "\u001b[1mPlan:\u001b[0m 1 to add, 0 to change, 0 to destroy.\n",
      "\u001b[0m\u001b[0m\u001b[1mazurerm_cognitive_account.cv_sandbox: Creating...\u001b[0m\u001b[0m\n",
      "\u001b[0m\u001b[1mazurerm_cognitive_account.cv_sandbox: Creation complete after 2s [id=/subscriptions/eb6531d0-ead7-457e-a987-f62f8e88a52f/resourceGroups/cv-sandbox/providers/Microsoft.CognitiveServices/accounts/hiroga-cv-sandbox]\u001b[0m\n",
      "\u001b[0m\u001b[1m\u001b[32m\n",
      "Apply complete! Resources: 1 added, 0 changed, 0 destroyed.\n",
      "\u001b[0m"
     ]
    }
   ],
   "source": [
    "!terraform apply -auto-approve"
   ]
  },
  {
   "cell_type": "code",
   "execution_count": 33,
   "metadata": {},
   "outputs": [
    {
     "data": {
      "text/plain": [
       "True"
      ]
     },
     "execution_count": 33,
     "metadata": {},
     "output_type": "execute_result"
    }
   ],
   "source": [
    "from dotenv import load_dotenv\n",
    "\n",
    "load_dotenv()"
   ]
  },
  {
   "cell_type": "code",
   "execution_count": 34,
   "metadata": {},
   "outputs": [
    {
     "name": "stdout",
     "output_type": "stream",
     "text": [
      "{'language': 'en', 'textAngle': 0.0, 'orientation': 'Up', 'regions': [{'boundingBox': '21,16,304,451', 'lines': [{'boundingBox': '28,16,288,41', 'words': [{'boundingBox': '28,16,288,41', 'text': 'NOTHING'}]}, {'boundingBox': '27,66,283,52', 'words': [{'boundingBox': '27,66,283,52', 'text': 'EXISTS'}]}, {'boundingBox': '27,128,292,49', 'words': [{'boundingBox': '27,128,292,49', 'text': 'EXCEPT'}]}, {'boundingBox': '24,188,292,54', 'words': [{'boundingBox': '24,188,292,54', 'text': 'ATOMS'}]}, {'boundingBox': '22,253,297,32', 'words': [{'boundingBox': '22,253,105,32', 'text': 'AND'}, {'boundingBox': '144,253,175,32', 'text': 'EMPTY'}]}, {'boundingBox': '21,298,304,60', 'words': [{'boundingBox': '21,298,304,60', 'text': 'SPACE.'}]}, {'boundingBox': '26,387,294,37', 'words': [{'boundingBox': '26,387,210,37', 'text': 'Everything'}, {'boundingBox': '249,389,71,27', 'text': 'else'}]}, {'boundingBox': '127,431,198,36', 'words': [{'boundingBox': '127,431,31,29', 'text': 'is'}, {'boundingBox': '172,431,153,36', 'text': 'opinion.'}]}]}], 'modelVersion': '2021-04-01'}\n"
     ]
    },
    {
     "data": {
      "text/plain": [
       "{'language': 'en',\n",
       " 'textAngle': 0.0,\n",
       " 'orientation': 'Up',\n",
       " 'regions': [{'boundingBox': '21,16,304,451',\n",
       "   'lines': [{'boundingBox': '28,16,288,41',\n",
       "     'words': [{'boundingBox': '28,16,288,41', 'text': 'NOTHING'}]},\n",
       "    {'boundingBox': '27,66,283,52',\n",
       "     'words': [{'boundingBox': '27,66,283,52', 'text': 'EXISTS'}]},\n",
       "    {'boundingBox': '27,128,292,49',\n",
       "     'words': [{'boundingBox': '27,128,292,49', 'text': 'EXCEPT'}]},\n",
       "    {'boundingBox': '24,188,292,54',\n",
       "     'words': [{'boundingBox': '24,188,292,54', 'text': 'ATOMS'}]},\n",
       "    {'boundingBox': '22,253,297,32',\n",
       "     'words': [{'boundingBox': '22,253,105,32', 'text': 'AND'},\n",
       "      {'boundingBox': '144,253,175,32', 'text': 'EMPTY'}]},\n",
       "    {'boundingBox': '21,298,304,60',\n",
       "     'words': [{'boundingBox': '21,298,304,60', 'text': 'SPACE.'}]},\n",
       "    {'boundingBox': '26,387,294,37',\n",
       "     'words': [{'boundingBox': '26,387,210,37', 'text': 'Everything'},\n",
       "      {'boundingBox': '249,389,71,27', 'text': 'else'}]},\n",
       "    {'boundingBox': '127,431,198,36',\n",
       "     'words': [{'boundingBox': '127,431,31,29', 'text': 'is'},\n",
       "      {'boundingBox': '172,431,153,36', 'text': 'opinion.'}]}]}],\n",
       " 'modelVersion': '2021-04-01'}"
      ]
     },
     "execution_count": 34,
     "metadata": {},
     "output_type": "execute_result"
    }
   ],
   "source": [
    "import os\n",
    "import requests\n",
    "\n",
    "API_KEY = os.environ.get(\"KEY\")\n",
    "IMAGE_PATH = os.environ.get(\"IMAGE_PATH_2\")\n",
    "URL_OCR = 'https://japaneast.cognitiveservices.azure.com/vision/v3.2/ocr'\n",
    "\n",
    "headers = {'Ocp-Apim-Subscription-Key': API_KEY,\n",
    "           'Content-Type': 'application/octet-stream'}\n",
    "\n",
    "params = {'language': 'unk'}\n",
    "\n",
    "\n",
    "def image_to_bytes(image_path):\n",
    "    with open(image_path, \"rb\") as image_file:\n",
    "        image_data = image_file.read()\n",
    "    return image_data\n",
    "\n",
    "\n",
    "def main():\n",
    "    image_data = image_to_bytes(IMAGE_PATH)\n",
    "    response = requests.post(URL_OCR, headers=headers,\n",
    "                             params=params,  data=image_data)\n",
    "    print(response.json())\n",
    "    return response.json()\n",
    "\n",
    "main()"
   ]
  }
 ],
 "metadata": {
  "kernelspec": {
   "display_name": "Python 3",
   "language": "python",
   "name": "python3"
  },
  "language_info": {
   "codemirror_mode": {
    "name": "ipython",
    "version": 3
   },
   "file_extension": ".py",
   "mimetype": "text/x-python",
   "name": "python",
   "nbconvert_exporter": "python",
   "pygments_lexer": "ipython3",
   "version": "3.11.2"
  },
  "orig_nbformat": 4
 },
 "nbformat": 4,
 "nbformat_minor": 2
}
