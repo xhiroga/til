{
 "cells": [
  {
   "cell_type": "code",
   "execution_count": 1,
   "metadata": {},
   "outputs": [
    {
     "name": "stdout",
     "output_type": "stream",
     "text": [
      "\n",
      "\u001b[0m\u001b[1mInitializing the backend...\u001b[0m\n",
      "\n",
      "\u001b[0m\u001b[1mInitializing provider plugins...\u001b[0m\n",
      "- Finding latest version of hashicorp/azurerm...\n",
      "- Installing hashicorp/azurerm v3.54.0...\n",
      "- Installed hashicorp/azurerm v3.54.0 (signed by HashiCorp)\n",
      "\n",
      "Terraform has created a lock file \u001b[1m.terraform.lock.hcl\u001b[0m to record the provider\n",
      "selections it made above. Include this file in your version control repository\n",
      "so that Terraform can guarantee to make the same selections by default when\n",
      "you run \"terraform init\" in the future.\u001b[0m\n",
      "\n",
      "\u001b[0m\u001b[1m\u001b[32mTerraform has been successfully initialized!\u001b[0m\u001b[32m\u001b[0m\n",
      "\u001b[0m\u001b[32m\n",
      "You may now begin working with Terraform. Try running \"terraform plan\" to see\n",
      "any changes that are required for your infrastructure. All Terraform commands\n",
      "should now work.\n",
      "\n",
      "If you ever set or change modules or backend configuration for Terraform,\n",
      "rerun this command to reinitialize your working directory. If you forget, other\n",
      "commands will detect it and remind you to do so if necessary.\u001b[0m\n"
     ]
    }
   ],
   "source": [
    "!terraform init"
   ]
  },
  {
   "cell_type": "code",
   "execution_count": 1,
   "metadata": {
    "vscode": {
     "languageId": "shellscript"
    }
   },
   "outputs": [
    {
     "name": "stdout",
     "output_type": "stream",
     "text": [
      "\n",
      "Terraform used the selected providers to generate the following execution plan.\n",
      "Resource actions are indicated with the following symbols:\n",
      "  \u001b[32m+\u001b[0m create\u001b[0m\n",
      "\n",
      "Terraform will perform the following actions:\n",
      "\n",
      "\u001b[1m  # azurerm_cognitive_account.cv_sandbox\u001b[0m will be created\n",
      "\u001b[0m  \u001b[32m+\u001b[0m\u001b[0m resource \"azurerm_cognitive_account\" \"cv_sandbox\" {\n",
      "      \u001b[32m+\u001b[0m\u001b[0m endpoint                           = (known after apply)\n",
      "      \u001b[32m+\u001b[0m\u001b[0m id                                 = (known after apply)\n",
      "      \u001b[32m+\u001b[0m\u001b[0m kind                               = \"ComputerVision\"\n",
      "      \u001b[32m+\u001b[0m\u001b[0m local_auth_enabled                 = true\n",
      "      \u001b[32m+\u001b[0m\u001b[0m location                           = \"japaneast\"\n",
      "      \u001b[32m+\u001b[0m\u001b[0m name                               = \"hiroga_cv_sandbox\"\n",
      "      \u001b[32m+\u001b[0m\u001b[0m outbound_network_access_restricted = false\n",
      "      \u001b[32m+\u001b[0m\u001b[0m primary_access_key                 = (sensitive value)\n",
      "      \u001b[32m+\u001b[0m\u001b[0m public_network_access_enabled      = true\n",
      "      \u001b[32m+\u001b[0m\u001b[0m resource_group_name                = \"cv-sandbox\"\n",
      "      \u001b[32m+\u001b[0m\u001b[0m secondary_access_key               = (sensitive value)\n",
      "      \u001b[32m+\u001b[0m\u001b[0m sku_name                           = \"F0\"\n",
      "      \u001b[32m+\u001b[0m\u001b[0m tags                               = {\n",
      "          \u001b[32m+\u001b[0m\u001b[0m \"Owner\" = \"hiroga\"\n",
      "        }\n",
      "    }\n",
      "\n",
      "\u001b[1m  # azurerm_resource_group.cv_sandbox\u001b[0m will be created\n",
      "\u001b[0m  \u001b[32m+\u001b[0m\u001b[0m resource \"azurerm_resource_group\" \"cv_sandbox\" {\n",
      "      \u001b[32m+\u001b[0m\u001b[0m id       = (known after apply)\n",
      "      \u001b[32m+\u001b[0m\u001b[0m location = \"japaneast\"\n",
      "      \u001b[32m+\u001b[0m\u001b[0m name     = \"cv-sandbox\"\n",
      "    }\n",
      "\n",
      "\u001b[1mPlan:\u001b[0m 2 to add, 0 to change, 0 to destroy.\n",
      "\u001b[0m\u001b[90m\n",
      "───────────────────────────────────────────────────────────────────────────────\u001b[0m\n",
      "\n",
      "Note: You didn't use the -out option to save this plan, so Terraform can't\n",
      "guarantee to take exactly these actions if you run \"terraform apply\" now.\n"
     ]
    }
   ],
   "source": [
    "!terraform plan"
   ]
  },
  {
   "cell_type": "code",
   "execution_count": 3,
   "metadata": {
    "vscode": {
     "languageId": "shellscript"
    }
   },
   "outputs": [
    {
     "name": "stdout",
     "output_type": "stream",
     "text": [
      "\n",
      "Terraform used the selected providers to generate the following execution plan.\n",
      "Resource actions are indicated with the following symbols:\n",
      "  \u001b[32m+\u001b[0m create\u001b[0m\n",
      "\n",
      "Terraform will perform the following actions:\n",
      "\n",
      "\u001b[1m  # azurerm_cognitive_account.cv_sandbox\u001b[0m will be created\n",
      "\u001b[0m  \u001b[32m+\u001b[0m\u001b[0m resource \"azurerm_cognitive_account\" \"cv_sandbox\" {\n",
      "      \u001b[32m+\u001b[0m\u001b[0m endpoint                           = (known after apply)\n",
      "      \u001b[32m+\u001b[0m\u001b[0m id                                 = (known after apply)\n",
      "      \u001b[32m+\u001b[0m\u001b[0m kind                               = \"ComputerVision\"\n",
      "      \u001b[32m+\u001b[0m\u001b[0m local_auth_enabled                 = true\n",
      "      \u001b[32m+\u001b[0m\u001b[0m location                           = \"japaneast\"\n",
      "      \u001b[32m+\u001b[0m\u001b[0m name                               = \"hiroga_cv_sandbox\"\n",
      "      \u001b[32m+\u001b[0m\u001b[0m outbound_network_access_restricted = false\n",
      "      \u001b[32m+\u001b[0m\u001b[0m primary_access_key                 = (sensitive value)\n",
      "      \u001b[32m+\u001b[0m\u001b[0m public_network_access_enabled      = true\n",
      "      \u001b[32m+\u001b[0m\u001b[0m resource_group_name                = \"cv-sandbox\"\n",
      "      \u001b[32m+\u001b[0m\u001b[0m secondary_access_key               = (sensitive value)\n",
      "      \u001b[32m+\u001b[0m\u001b[0m sku_name                           = \"F0\"\n",
      "      \u001b[32m+\u001b[0m\u001b[0m tags                               = {\n",
      "          \u001b[32m+\u001b[0m\u001b[0m \"Owner\" = \"hiroga\"\n",
      "        }\n",
      "    }\n",
      "\n",
      "\u001b[1m  # azurerm_resource_group.cv_sandbox\u001b[0m will be created\n",
      "\u001b[0m  \u001b[32m+\u001b[0m\u001b[0m resource \"azurerm_resource_group\" \"cv_sandbox\" {\n",
      "      \u001b[32m+\u001b[0m\u001b[0m id       = (known after apply)\n",
      "      \u001b[32m+\u001b[0m\u001b[0m location = \"japaneast\"\n",
      "      \u001b[32m+\u001b[0m\u001b[0m name     = \"cv-sandbox\"\n",
      "    }\n",
      "\n",
      "\u001b[1mPlan:\u001b[0m 2 to add, 0 to change, 0 to destroy.\n",
      "\u001b[0m\u001b[0m\u001b[1mazurerm_resource_group.cv_sandbox: Creating...\u001b[0m\u001b[0m\n",
      "\u001b[0m\u001b[1mazurerm_resource_group.cv_sandbox: Creation complete after 1s [id=/subscriptions/eb6531d0-ead7-457e-a987-f62f8e88a52f/resourceGroups/cv-sandbox]\u001b[0m\n",
      "\u001b[0m\u001b[1mazurerm_cognitive_account.cv_sandbox: Creating...\u001b[0m\u001b[0m\n",
      "\u001b[31m╷\u001b[0m\u001b[0m\n",
      "\u001b[31m│\u001b[0m \u001b[0m\u001b[1m\u001b[31mError: \u001b[0m\u001b[0m\u001b[1mcreating Account (Subscription: \"eb6531d0-ead7-457e-a987-f62f8e88a52f\"\n",
      "\u001b[31m│\u001b[0m \u001b[0mResource Group Name: \"cv-sandbox\"\n",
      "\u001b[31m│\u001b[0m \u001b[0mAccount Name: \"hiroga_cv_sandbox\"): cognitiveservicesaccounts.CognitiveServicesAccountsClient#AccountsCreate: Failure sending request: StatusCode=0 -- Original Error: Code=\"ResourceKindRequireAcceptTerms\" Message=\"This subscription cannot create ComputerVision until you agree to Responsible AI terms for this resource. You can agree to Responsible AI terms by creating a resource through the Azure Portal then trying again. For more detail go to https://go.microsoft.com/fwlink/?linkid=2164911\"\u001b[0m\n",
      "\u001b[31m│\u001b[0m \u001b[0m\n",
      "\u001b[31m│\u001b[0m \u001b[0m\u001b[0m  with azurerm_cognitive_account.cv_sandbox,\n",
      "\u001b[31m│\u001b[0m \u001b[0m  on main.tf line 10, in resource \"azurerm_cognitive_account\" \"cv_sandbox\":\n",
      "\u001b[31m│\u001b[0m \u001b[0m  10: resource \"azurerm_cognitive_account\" \"cv_sandbox\" \u001b[4m{\u001b[0m\u001b[0m\n",
      "\u001b[31m│\u001b[0m \u001b[0m\n",
      "\u001b[31m╵\u001b[0m\u001b[0m\n"
     ]
    }
   ],
   "source": [
    "!terraform apply -auto-approve"
   ]
  },
  {
   "attachments": {},
   "cell_type": "markdown",
   "metadata": {},
   "source": [
    "Creating a resource through the Azure Portal, and remove it."
   ]
  },
  {
   "cell_type": "code",
   "execution_count": 5,
   "metadata": {
    "vscode": {
     "languageId": "shellscript"
    }
   },
   "outputs": [
    {
     "name": "stdout",
     "output_type": "stream",
     "text": [
      "\u001b[0m\u001b[1mazurerm_resource_group.cv_sandbox: Refreshing state... [id=/subscriptions/eb6531d0-ead7-457e-a987-f62f8e88a52f/resourceGroups/cv-sandbox]\u001b[0m\n",
      "\n",
      "Terraform used the selected providers to generate the following execution plan.\n",
      "Resource actions are indicated with the following symbols:\n",
      "  \u001b[32m+\u001b[0m create\u001b[0m\n",
      "\n",
      "Terraform will perform the following actions:\n",
      "\n",
      "\u001b[1m  # azurerm_cognitive_account.cv_sandbox\u001b[0m will be created\n",
      "\u001b[0m  \u001b[32m+\u001b[0m\u001b[0m resource \"azurerm_cognitive_account\" \"cv_sandbox\" {\n",
      "      \u001b[32m+\u001b[0m\u001b[0m endpoint                           = (known after apply)\n",
      "      \u001b[32m+\u001b[0m\u001b[0m id                                 = (known after apply)\n",
      "      \u001b[32m+\u001b[0m\u001b[0m kind                               = \"ComputerVision\"\n",
      "      \u001b[32m+\u001b[0m\u001b[0m local_auth_enabled                 = true\n",
      "      \u001b[32m+\u001b[0m\u001b[0m location                           = \"japaneast\"\n",
      "      \u001b[32m+\u001b[0m\u001b[0m name                               = \"hiroga-cv-sandbox\"\n",
      "      \u001b[32m+\u001b[0m\u001b[0m outbound_network_access_restricted = false\n",
      "      \u001b[32m+\u001b[0m\u001b[0m primary_access_key                 = (sensitive value)\n",
      "      \u001b[32m+\u001b[0m\u001b[0m public_network_access_enabled      = true\n",
      "      \u001b[32m+\u001b[0m\u001b[0m resource_group_name                = \"cv-sandbox\"\n",
      "      \u001b[32m+\u001b[0m\u001b[0m secondary_access_key               = (sensitive value)\n",
      "      \u001b[32m+\u001b[0m\u001b[0m sku_name                           = \"F0\"\n",
      "      \u001b[32m+\u001b[0m\u001b[0m tags                               = {\n",
      "          \u001b[32m+\u001b[0m\u001b[0m \"Owner\" = \"hiroga\"\n",
      "        }\n",
      "    }\n",
      "\n",
      "\u001b[1mPlan:\u001b[0m 1 to add, 0 to change, 0 to destroy.\n",
      "\u001b[0m\u001b[0m\u001b[1mazurerm_cognitive_account.cv_sandbox: Creating...\u001b[0m\u001b[0m\n",
      "\u001b[0m\u001b[1mazurerm_cognitive_account.cv_sandbox: Creation complete after 2s [id=/subscriptions/eb6531d0-ead7-457e-a987-f62f8e88a52f/resourceGroups/cv-sandbox/providers/Microsoft.CognitiveServices/accounts/hiroga-cv-sandbox]\u001b[0m\n",
      "\u001b[0m\u001b[1m\u001b[32m\n",
      "Apply complete! Resources: 1 added, 0 changed, 0 destroyed.\n",
      "\u001b[0m"
     ]
    }
   ],
   "source": [
    "!terraform apply -auto-approve"
   ]
  }
 ],
 "metadata": {
  "kernelspec": {
   "display_name": "Python 3",
   "language": "python",
   "name": "python3"
  },
  "language_info": {
   "codemirror_mode": {
    "name": "ipython",
    "version": 3
   },
   "file_extension": ".py",
   "mimetype": "text/x-python",
   "name": "python",
   "nbconvert_exporter": "python",
   "pygments_lexer": "ipython3",
   "version": "3.11.2"
  },
  "orig_nbformat": 4
 },
 "nbformat": 4,
 "nbformat_minor": 2
}
