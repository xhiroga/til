{
 "cells": [
  {
   "cell_type": "code",
   "execution_count": 11,
   "metadata": {},
   "outputs": [],
   "source": [
    ":dep chrono = \"0.4.38\"\n",
    ":dep polars = { version = \"0.42.0\", features = [\"lazy\"] }"
   ]
  },
  {
   "cell_type": "code",
   "execution_count": 12,
   "metadata": {},
   "outputs": [
    {
     "name": "stdout",
     "output_type": "stream",
     "text": [
      "shape: (3, 4)\n",
      "┌─────────┬─────────────────────┬───────┬────────┐\n",
      "│ integer ┆ date                ┆ float ┆ string │\n",
      "│ ---     ┆ ---                 ┆ ---   ┆ ---    │\n",
      "│ i32     ┆ datetime[ms]        ┆ f64   ┆ str    │\n",
      "╞═════════╪═════════════════════╪═══════╪════════╡\n",
      "│ 1       ┆ 2025-01-01 00:00:00 ┆ 4.0   ┆ a      │\n",
      "│ 2       ┆ 2025-01-02 00:00:00 ┆ 5.0   ┆ b      │\n",
      "│ 3       ┆ 2025-01-03 00:00:00 ┆ 6.0   ┆ c      │\n",
      "└─────────┴─────────────────────┴───────┴────────┘\n"
     ]
    }
   ],
   "source": [
    "use std::fs::File;\n",
    "\n",
    "use chrono::prelude::*;\n",
    "use polars::prelude::*;\n",
    "\n",
    "let mut df: DataFrame = df!(\n",
    "    \"integer\" => &[1, 2, 3],\n",
    "    \"date\" => &[\n",
    "            NaiveDate::from_ymd_opt(2025, 1, 1).unwrap().and_hms_opt(0, 0, 0).unwrap(),\n",
    "            NaiveDate::from_ymd_opt(2025, 1, 2).unwrap().and_hms_opt(0, 0, 0).unwrap(),\n",
    "            NaiveDate::from_ymd_opt(2025, 1, 3).unwrap().and_hms_opt(0, 0, 0).unwrap(),\n",
    "    ],\n",
    "    \"float\" => &[4.0, 5.0, 6.0],\n",
    "    \"string\" => &[\"a\", \"b\", \"c\"],\n",
    ")\n",
    ".unwrap();\n",
    "println!(\"{}\", df);"
   ]
  },
  {
   "cell_type": "code",
   "execution_count": 17,
   "metadata": {},
   "outputs": [
    {
     "name": "stdout",
     "output_type": "stream",
     "text": [
      "shape: (3, 4)\n",
      "┌─────────┬─────────────────────────┬───────┬────────┐\n",
      "│ integer ┆ date                    ┆ float ┆ string │\n",
      "│ ---     ┆ ---                     ┆ ---   ┆ ---    │\n",
      "│ i64     ┆ str                     ┆ f64   ┆ str    │\n",
      "╞═════════╪═════════════════════════╪═══════╪════════╡\n",
      "│ 1       ┆ 2025-01-01T00:00:00.000 ┆ 4.0   ┆ a      │\n",
      "│ 2       ┆ 2025-01-02T00:00:00.000 ┆ 5.0   ┆ b      │\n",
      "│ 3       ┆ 2025-01-03T00:00:00.000 ┆ 6.0   ┆ c      │\n",
      "└─────────┴─────────────────────────┴───────┴────────┘\n"
     ]
    }
   ],
   "source": [
    "let mut file: File = File::create(\"data/output.csv\").expect(\"could not create file\");\n",
    "CsvWriter::new(&mut file)\n",
    "    .include_header(true)\n",
    "    .with_separator(b',')\n",
    "    .finish(&mut df)?;\n",
    "let df_csv: DataFrame = CsvReadOptions::default()\n",
    "    .with_infer_schema_length(None)\n",
    "    .with_has_header(true)\n",
    "    .try_into_reader_with_file_path(Some(\"data/output.csv\".into()))?\n",
    "    .finish()?;\n",
    "println!(\"{}\", df_csv);"
   ]
  },
  {
   "cell_type": "markdown",
   "metadata": {},
   "source": [
    "## Data structures"
   ]
  },
  {
   "cell_type": "code",
   "execution_count": 19,
   "metadata": {},
   "outputs": [
    {
     "name": "stdout",
     "output_type": "stream",
     "text": [
      "shape: (5,)\n",
      "Series: 'a' [i32]\n",
      "[\n",
      "\t1\n",
      "\t2\n",
      "\t3\n",
      "\t4\n",
      "\t5\n",
      "]\n"
     ]
    }
   ],
   "source": [
    "use polars::prelude::*;\n",
    "\n",
    "let s = Series::new(\"a\", [1, 2, 3, 4, 5]);\n",
    "\n",
    "println!(\"{}\", s);"
   ]
  },
  {
   "cell_type": "code",
   "execution_count": 22,
   "metadata": {},
   "outputs": [
    {
     "name": "stdout",
     "output_type": "stream",
     "text": [
      "shape: (5, 3)\n",
      "┌─────────┬─────────────────────┬───────┐\n",
      "│ integer ┆ date                ┆ float │\n",
      "│ ---     ┆ ---                 ┆ ---   │\n",
      "│ i32     ┆ datetime[ms]        ┆ f64   │\n",
      "╞═════════╪═════════════════════╪═══════╡\n",
      "│ 1       ┆ 2025-01-01 00:00:00 ┆ 4.0   │\n",
      "│ 2       ┆ 2025-01-02 00:00:00 ┆ 5.0   │\n",
      "│ 3       ┆ 2025-01-03 00:00:00 ┆ 6.0   │\n",
      "│ 4       ┆ 2025-01-04 00:00:00 ┆ 7.0   │\n",
      "│ 5       ┆ 2025-01-05 00:00:00 ┆ 8.0   │\n",
      "└─────────┴─────────────────────┴───────┘\n"
     ]
    }
   ],
   "source": [
    "use chrono::NaiveDate;\n",
    "\n",
    "let df: DataFrame = df!(\n",
    "    \"integer\" => &[1, 2, 3, 4, 5],\n",
    "    \"date\" => &[\n",
    "        NaiveDate::from_ymd_opt(2025, 1, 1).unwrap().and_hms_opt(0, 0, 0).unwrap(),\n",
    "        NaiveDate::from_ymd_opt(2025, 1, 2).unwrap().and_hms_opt(0, 0, 0).unwrap(),\n",
    "        NaiveDate::from_ymd_opt(2025, 1, 3).unwrap().and_hms_opt(0, 0, 0).unwrap(),\n",
    "        NaiveDate::from_ymd_opt(2025, 1, 4).unwrap().and_hms_opt(0, 0, 0).unwrap(),\n",
    "        NaiveDate::from_ymd_opt(2025, 1, 5).unwrap().and_hms_opt(0, 0, 0).unwrap(),\n",
    "    ],\n",
    "    \"float\" => &[4.0, 5.0, 6.0, 7.0, 8.0]\n",
    ")\n",
    ".unwrap();\n",
    "\n",
    "println!(\"{}\", df);"
   ]
  },
  {
   "cell_type": "code",
   "execution_count": null,
   "metadata": {},
   "outputs": [],
   "source": []
  }
 ],
 "metadata": {
  "kernelspec": {
   "display_name": "Rust",
   "language": "rust",
   "name": "rust"
  },
  "language_info": {
   "codemirror_mode": "rust",
   "file_extension": ".rs",
   "mimetype": "text/rust",
   "name": "rust",
   "pygment_lexer": "rust",
   "version": ""
  }
 },
 "nbformat": 4,
 "nbformat_minor": 2
}
