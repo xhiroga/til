{
 "cells": [
  {
   "cell_type": "markdown",
   "metadata": {},
   "source": [
    "# 2 つの文字列 $X, Y$ のシャッフル\n"
   ]
  },
  {
   "cell_type": "markdown",
   "metadata": {},
   "source": [
    "「パタトカクシーー」のような文字列を、「パトカー」と「タクシー」のシャッフルと呼ぶことにする。\n"
   ]
  },
  {
   "cell_type": "markdown",
   "metadata": {},
   "source": [
    "3 つの文字列 $A[1..n], B[1..m], C[1..n+m]$ が与えられた時、$C[2..n+m]$は$A[2..n], B[1..m]$または$A[1..n], B[2..m]$のシャッフルである。\n",
    "\n",
    "A の最初の i 文字と B の最初の j 文字から C の最初の i+j 文字が構成できるかを、関数 `isShuffle(i, j)`で判定する。関数は次の再帰方程式で定義する。なお、定義にあたってインデックスを 0 オリジンに変えている。\n",
    "\n",
    "$$\n",
    "\\text{isShuffle}(i, j) =\n",
    "\\begin{cases}\n",
    "\\text{True} & \\text{if } i = 0 \\text{ and } j = 0 \\\\\n",
    "(\\text{isShuffle}(i-1, j) \\land A[i] = C[i+j]) \\lor (\\text{isShuffle}(i, j-1) \\land B[j] = C[i+j]) & \\text{otherwise}\n",
    "\\end{cases}\n",
    "$$\n"
   ]
  },
  {
   "cell_type": "code",
   "execution_count": 7,
   "metadata": {},
   "outputs": [
    {
     "name": "stdout",
     "output_type": "stream",
     "text": [
      "env: PYTHON_LOGLEVEL=DEBUG\n"
     ]
    }
   ],
   "source": [
    "%env PYTHON_LOGLEVEL=DEBUG"
   ]
  },
  {
   "cell_type": "code",
   "execution_count": 8,
   "metadata": {},
   "outputs": [],
   "source": [
    "from logging import getLogger, StreamHandler, WARNING\n",
    "import os\n",
    "\n",
    "PYTHON_LOGLEVEL = os.environ.get(\"PYTHON_LOGLEVEL\", WARNING)\n",
    "logger = getLogger(__name__)\n",
    "handler = StreamHandler()\n",
    "handler.setLevel(PYTHON_LOGLEVEL)\n",
    "logger.setLevel(PYTHON_LOGLEVEL)\n",
    "logger.addHandler(handler)\n",
    "logger.propagate = False"
   ]
  },
  {
   "cell_type": "code",
   "execution_count": 37,
   "metadata": {},
   "outputs": [],
   "source": [
    "from collections import defaultdict\n",
    "\n",
    "\n",
    "def wrap(a: str, b: str, c: str) -> bool:\n",
    "    if len(a) + len(b) != len(c):\n",
    "        return False\n",
    "\n",
    "    mem = defaultdict(lambda: defaultdict(lambda: None))\n",
    "    mem[0][0] = True\n",
    "\n",
    "    # Take the last index as arguments\n",
    "    def isShuffle(i, j) -> bool:\n",
    "        if mem[i][j] is not None:\n",
    "            logger.debug(f\"{i=}, {j=}, {mem[i][j]=}\")\n",
    "            return mem[i][j]\n",
    "\n",
    "        if i < 0 and j < 0:\n",
    "            return True\n",
    "\n",
    "        lastCharFromA = i >= 0 and isShuffle(i - 1, j) and c[i + j + 1] == a[i]\n",
    "        lastCharFromB = j >= 0 and isShuffle(i, j - 1) and c[i + j + 1] == b[j]\n",
    "        logger.debug(\n",
    "            f\"{i=}, {j=}, {a[0:i+1]=}, {b[0:j+1]=}, {c[0:i+j+2]=}, {lastCharFromA=}, {lastCharFromB=}\"\n",
    "        )\n",
    "        mem[i][j] = lastCharFromA or lastCharFromB\n",
    "        return mem[i][j]\n",
    "\n",
    "    return isShuffle(len(a) - 1, len(b) - 1)"
   ]
  },
  {
   "cell_type": "code",
   "execution_count": 38,
   "metadata": {},
   "outputs": [
    {
     "name": "stderr",
     "output_type": "stream",
     "text": [
      "i=-1, j=0, a[0:i+1]='', b[0:j+1]='タ', c[0:i+j+2]='パ', lastCharFromA=False, lastCharFromB=False\n",
      "i=-1, j=1, a[0:i+1]='', b[0:j+1]='タク', c[0:i+j+2]='パタ', lastCharFromA=False, lastCharFromB=False\n",
      "i=-1, j=2, a[0:i+1]='', b[0:j+1]='タクシ', c[0:i+j+2]='パタト', lastCharFromA=False, lastCharFromB=False\n",
      "i=-1, j=3, a[0:i+1]='', b[0:j+1]='タクシー', c[0:i+j+2]='パタトカ', lastCharFromA=False, lastCharFromB=False\n",
      "i=-1, j=2, mem[i][j]=False\n",
      "i=-1, j=1, mem[i][j]=False\n",
      "i=0, j=0, mem[i][j]=True\n",
      "i=0, j=1, a[0:i+1]='パ', b[0:j+1]='タク', c[0:i+j+2]='パタト', lastCharFromA=False, lastCharFromB=False\n",
      "i=0, j=2, a[0:i+1]='パ', b[0:j+1]='タクシ', c[0:i+j+2]='パタトカ', lastCharFromA=False, lastCharFromB=False\n",
      "i=0, j=3, a[0:i+1]='パ', b[0:j+1]='タクシー', c[0:i+j+2]='パタトカク', lastCharFromA=False, lastCharFromB=False\n",
      "i=0, j=2, mem[i][j]=False\n",
      "i=0, j=1, mem[i][j]=False\n",
      "i=0, j=0, mem[i][j]=True\n",
      "i=0, j=-1, a[0:i+1]='パ', b[0:j+1]='', c[0:i+j+2]='パ', lastCharFromA=True, lastCharFromB=False\n",
      "i=1, j=-1, a[0:i+1]='パト', b[0:j+1]='', c[0:i+j+2]='パタ', lastCharFromA=False, lastCharFromB=False\n",
      "i=1, j=0, a[0:i+1]='パト', b[0:j+1]='タ', c[0:i+j+2]='パタト', lastCharFromA=True, lastCharFromB=False\n",
      "i=1, j=1, a[0:i+1]='パト', b[0:j+1]='タク', c[0:i+j+2]='パタトカ', lastCharFromA=False, lastCharFromB=False\n",
      "i=1, j=2, a[0:i+1]='パト', b[0:j+1]='タクシ', c[0:i+j+2]='パタトカク', lastCharFromA=False, lastCharFromB=False\n",
      "i=1, j=3, a[0:i+1]='パト', b[0:j+1]='タクシー', c[0:i+j+2]='パタトカクシ', lastCharFromA=False, lastCharFromB=False\n",
      "i=1, j=2, mem[i][j]=False\n",
      "i=1, j=1, mem[i][j]=False\n",
      "i=1, j=0, mem[i][j]=True\n",
      "i=1, j=-1, mem[i][j]=False\n",
      "i=2, j=-1, a[0:i+1]='パトカ', b[0:j+1]='', c[0:i+j+2]='パタト', lastCharFromA=False, lastCharFromB=False\n",
      "i=2, j=0, a[0:i+1]='パトカ', b[0:j+1]='タ', c[0:i+j+2]='パタトカ', lastCharFromA=True, lastCharFromB=False\n",
      "i=2, j=1, a[0:i+1]='パトカ', b[0:j+1]='タク', c[0:i+j+2]='パタトカク', lastCharFromA=False, lastCharFromB=True\n",
      "i=2, j=2, a[0:i+1]='パトカ', b[0:j+1]='タクシ', c[0:i+j+2]='パタトカクシ', lastCharFromA=False, lastCharFromB=True\n",
      "i=2, j=3, a[0:i+1]='パトカ', b[0:j+1]='タクシー', c[0:i+j+2]='パタトカクシー', lastCharFromA=False, lastCharFromB=True\n",
      "i=2, j=2, mem[i][j]=True\n",
      "i=2, j=1, mem[i][j]=True\n",
      "i=2, j=0, mem[i][j]=True\n",
      "i=2, j=-1, mem[i][j]=False\n",
      "i=3, j=-1, a[0:i+1]='パトカー', b[0:j+1]='', c[0:i+j+2]='パタトカ', lastCharFromA=False, lastCharFromB=False\n",
      "i=3, j=0, a[0:i+1]='パトカー', b[0:j+1]='タ', c[0:i+j+2]='パタトカク', lastCharFromA=False, lastCharFromB=False\n",
      "i=3, j=1, a[0:i+1]='パトカー', b[0:j+1]='タク', c[0:i+j+2]='パタトカクシ', lastCharFromA=False, lastCharFromB=False\n",
      "i=3, j=2, a[0:i+1]='パトカー', b[0:j+1]='タクシ', c[0:i+j+2]='パタトカクシー', lastCharFromA=True, lastCharFromB=False\n",
      "i=3, j=3, a[0:i+1]='パトカー', b[0:j+1]='タクシー', c[0:i+j+2]='パタトカクシーー', lastCharFromA=True, lastCharFromB=True\n"
     ]
    }
   ],
   "source": [
    "expected = True\n",
    "actual = wrap(\"パトカー\", \"タクシー\", \"パタトカクシーー\")\n",
    "assert expected == actual"
   ]
  },
  {
   "cell_type": "code",
   "execution_count": null,
   "metadata": {},
   "outputs": [],
   "source": []
  }
 ],
 "metadata": {
  "kernelspec": {
   "display_name": ".venv",
   "language": "python",
   "name": "python3"
  },
  "language_info": {
   "codemirror_mode": {
    "name": "ipython",
    "version": 3
   },
   "file_extension": ".py",
   "mimetype": "text/x-python",
   "name": "python",
   "nbconvert_exporter": "python",
   "pygments_lexer": "ipython3",
   "version": "3.12.3"
  }
 },
 "nbformat": 4,
 "nbformat_minor": 2
}
