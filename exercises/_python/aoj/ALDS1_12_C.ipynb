{
 "cells": [
  {
   "cell_type": "markdown",
   "metadata": {},
   "source": [
    "# 単一始点最短経路\n"
   ]
  },
  {
   "cell_type": "code",
   "execution_count": 4,
   "metadata": {},
   "outputs": [],
   "source": [
    "import heapq\n",
    "from logging import basicConfig, root, DEBUG, WARNING\n",
    "\n",
    "basicConfig(level=DEBUG if \"get_ipython\" in globals() else WARNING)\n",
    "\n",
    "\n",
    "def dijkstra(adjacency_list: list[list[tuple[int, int]]]) -> str:\n",
    "    pq: list[tuple[int, int]] = []\n",
    "    distances = [float(\"inf\")] * len(adjacency_list)\n",
    "    distances[0] = 0\n",
    "\n",
    "    heapq.heapify(pq)\n",
    "    heapq.heappush(pq, (0, 0))\n",
    "    parent_cost, parent = heapq.heappop(pq)\n",
    "    while True:\n",
    "        for vertex, cost in adjacency_list[parent]:\n",
    "            total_cost = parent_cost + cost\n",
    "            root.debug(f\"{parent=}, {parent_cost=}, {vertex=}, {cost=}, {distances=}\")\n",
    "            if total_cost < distances[vertex]:\n",
    "                distances[vertex] = total_cost\n",
    "                root.debug(\n",
    "                    f\"{parent=}, {parent_cost=}, {vertex=}, {cost=}, {distances=}\"\n",
    "                )\n",
    "                heapq.heappush(pq, (total_cost, vertex))\n",
    "                root.debug(f\"{pq=}\")\n",
    "        try:\n",
    "            parent_cost, parent = heapq.heappop(pq)\n",
    "            root.debug(f\"{pq=}\")\n",
    "        except IndexError as _:\n",
    "            joined = \"\\n\".join([f\"{i} {cost}\" for i, cost in enumerate(distances)])\n",
    "            return joined\n"
   ]
  },
  {
   "cell_type": "code",
   "execution_count": 5,
   "metadata": {},
   "outputs": [
    {
     "name": "stderr",
     "output_type": "stream",
     "text": [
      "DEBUG:root:parent=0, parent_cost=0, vertex=2, cost=3, distances=[0, inf, inf, inf, inf]\n",
      "DEBUG:root:parent=0, parent_cost=0, vertex=2, cost=3, distances=[0, inf, 3, inf, inf]\n",
      "DEBUG:root:pq=[(3, 2)]\n",
      "DEBUG:root:parent=0, parent_cost=0, vertex=3, cost=1, distances=[0, inf, 3, inf, inf]\n",
      "DEBUG:root:parent=0, parent_cost=0, vertex=3, cost=1, distances=[0, inf, 3, 1, inf]\n",
      "DEBUG:root:pq=[(1, 3), (3, 2)]\n",
      "DEBUG:root:parent=0, parent_cost=0, vertex=1, cost=2, distances=[0, inf, 3, 1, inf]\n",
      "DEBUG:root:parent=0, parent_cost=0, vertex=1, cost=2, distances=[0, 2, 3, 1, inf]\n",
      "DEBUG:root:pq=[(1, 3), (3, 2), (2, 1)]\n",
      "DEBUG:root:pq=[(2, 1), (3, 2)]\n",
      "DEBUG:root:parent=3, parent_cost=1, vertex=2, cost=1, distances=[0, 2, 3, 1, inf]\n",
      "DEBUG:root:parent=3, parent_cost=1, vertex=2, cost=1, distances=[0, 2, 2, 1, inf]\n",
      "DEBUG:root:pq=[(2, 1), (3, 2), (2, 2)]\n",
      "DEBUG:root:parent=3, parent_cost=1, vertex=0, cost=1, distances=[0, 2, 2, 1, inf]\n",
      "DEBUG:root:parent=3, parent_cost=1, vertex=1, cost=4, distances=[0, 2, 2, 1, inf]\n",
      "DEBUG:root:parent=3, parent_cost=1, vertex=4, cost=3, distances=[0, 2, 2, 1, inf]\n",
      "DEBUG:root:parent=3, parent_cost=1, vertex=4, cost=3, distances=[0, 2, 2, 1, 4]\n",
      "DEBUG:root:pq=[(2, 1), (3, 2), (2, 2), (4, 4)]\n",
      "DEBUG:root:pq=[(2, 2), (3, 2), (4, 4)]\n",
      "DEBUG:root:parent=1, parent_cost=2, vertex=0, cost=2, distances=[0, 2, 2, 1, 4]\n",
      "DEBUG:root:parent=1, parent_cost=2, vertex=3, cost=4, distances=[0, 2, 2, 1, 4]\n",
      "DEBUG:root:pq=[(3, 2), (4, 4)]\n",
      "DEBUG:root:parent=2, parent_cost=2, vertex=0, cost=3, distances=[0, 2, 2, 1, 4]\n",
      "DEBUG:root:parent=2, parent_cost=2, vertex=3, cost=1, distances=[0, 2, 2, 1, 4]\n",
      "DEBUG:root:parent=2, parent_cost=2, vertex=4, cost=1, distances=[0, 2, 2, 1, 4]\n",
      "DEBUG:root:parent=2, parent_cost=2, vertex=4, cost=1, distances=[0, 2, 2, 1, 3]\n",
      "DEBUG:root:pq=[(3, 2), (4, 4), (3, 4)]\n",
      "DEBUG:root:pq=[(3, 4), (4, 4)]\n",
      "DEBUG:root:parent=2, parent_cost=3, vertex=0, cost=3, distances=[0, 2, 2, 1, 3]\n",
      "DEBUG:root:parent=2, parent_cost=3, vertex=3, cost=1, distances=[0, 2, 2, 1, 3]\n",
      "DEBUG:root:parent=2, parent_cost=3, vertex=4, cost=1, distances=[0, 2, 2, 1, 3]\n",
      "DEBUG:root:pq=[(4, 4)]\n",
      "DEBUG:root:parent=4, parent_cost=3, vertex=2, cost=1, distances=[0, 2, 2, 1, 3]\n",
      "DEBUG:root:parent=4, parent_cost=3, vertex=3, cost=3, distances=[0, 2, 2, 1, 3]\n",
      "DEBUG:root:pq=[]\n",
      "DEBUG:root:parent=4, parent_cost=4, vertex=2, cost=1, distances=[0, 2, 2, 1, 3]\n",
      "DEBUG:root:parent=4, parent_cost=4, vertex=3, cost=3, distances=[0, 2, 2, 1, 3]\n"
     ]
    }
   ],
   "source": [
    "expected = \"\"\"\n",
    "0 0\n",
    "1 2\n",
    "2 2\n",
    "3 1\n",
    "4 3\n",
    "\"\"\".strip()\n",
    "actual = dijkstra(\n",
    "    [\n",
    "        [(2, 3), (3, 1), (1, 2)],\n",
    "        [(0, 2), (3, 4)],\n",
    "        [(0, 3), (3, 1), (4, 1)],\n",
    "        [(2, 1), (0, 1), (1, 4), (4, 3)],\n",
    "        [(2, 1), (3, 3)],\n",
    "    ]\n",
    ")\n",
    "assert expected == actual\n"
   ]
  },
  {
   "cell_type": "code",
   "execution_count": null,
   "metadata": {},
   "outputs": [],
   "source": [
    "heapq.heappop([])"
   ]
  }
 ],
 "metadata": {
  "kernelspec": {
   "display_name": "til_machine_learning_py312",
   "language": "python",
   "name": "python3"
  },
  "language_info": {
   "codemirror_mode": {
    "name": "ipython",
    "version": 3
   },
   "file_extension": ".py",
   "mimetype": "text/x-python",
   "name": "python",
   "nbconvert_exporter": "python",
   "pygments_lexer": "ipython3",
   "version": "3.12.3"
  }
 },
 "nbformat": 4,
 "nbformat_minor": 2
}
