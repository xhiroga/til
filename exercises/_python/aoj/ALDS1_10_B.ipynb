{
 "cells": [
  {
   "cell_type": "markdown",
   "metadata": {},
   "source": [
    "# 連鎖行列積\n"
   ]
  },
  {
   "cell_type": "markdown",
   "metadata": {},
   "source": [
    "ボトムアップ型の動的計画法で書いた。"
   ]
  },
  {
   "cell_type": "code",
   "execution_count": 8,
   "metadata": {},
   "outputs": [],
   "source": [
    "from sys import maxsize\n",
    "from collections import defaultdict\n",
    "from logging import basicConfig, root, DEBUG, WARNING\n",
    "\n",
    "basicConfig(level=DEBUG if \"get_ipython\" in globals() else WARNING)\n",
    "\n",
    "\n",
    "def matrix_chain_multiplication(n: int, matrices: list[tuple[int, int]]) -> int:\n",
    "    # 2個の行列の積を、4つの行列の積と同様に求められるように、1つだけの行列の積を0として定義しておく\n",
    "    m: defaultdict[int, defaultdict[int, int]] = defaultdict(\n",
    "        lambda: defaultdict(lambda: 0)\n",
    "    )\n",
    "\n",
    "    # 1周目では2個の行列の計算回数の最少を、2周目では3個の…\n",
    "    for length in range(2, n + 1):\n",
    "        # 行列が6つで、3周目に4つを合計する場合、左側の行列=iは0, 1, 2 の3つのみを取る\n",
    "        for left in range(0, n - length + 1):\n",
    "            right = left + length - 1\n",
    "            m[left][right] = maxsize\n",
    "\n",
    "            for k in range(left, right):\n",
    "                m[left][right] = min(\n",
    "                    m[left][right],\n",
    "                    m[left][k]\n",
    "                    + m[k + 1][right]\n",
    "                    + matrices[left][0] * matrices[k][1] * matrices[right][1],\n",
    "                )\n",
    "                root.debug(f\"{left=}, {right=}, {k=}, {m[left][right]=}\")\n",
    "\n",
    "    return m[0][n - 1]\n"
   ]
  },
  {
   "cell_type": "code",
   "execution_count": 9,
   "metadata": {},
   "outputs": [
    {
     "name": "stderr",
     "output_type": "stream",
     "text": [
      "DEBUG:root:left=0, right=1, k=0, m[left][right]=15750\n",
      "DEBUG:root:left=1, right=2, k=1, m[left][right]=2625\n",
      "DEBUG:root:left=2, right=3, k=2, m[left][right]=750\n",
      "DEBUG:root:left=3, right=4, k=3, m[left][right]=1000\n",
      "DEBUG:root:left=4, right=5, k=4, m[left][right]=5000\n",
      "DEBUG:root:left=0, right=2, k=0, m[left][right]=7875\n",
      "DEBUG:root:left=0, right=2, k=1, m[left][right]=7875\n",
      "DEBUG:root:left=1, right=3, k=1, m[left][right]=6000\n",
      "DEBUG:root:left=1, right=3, k=2, m[left][right]=4375\n",
      "DEBUG:root:left=2, right=4, k=2, m[left][right]=2500\n",
      "DEBUG:root:left=2, right=4, k=3, m[left][right]=2500\n",
      "DEBUG:root:left=3, right=5, k=3, m[left][right]=6250\n",
      "DEBUG:root:left=3, right=5, k=4, m[left][right]=3500\n",
      "DEBUG:root:left=0, right=3, k=0, m[left][right]=14875\n",
      "DEBUG:root:left=0, right=3, k=1, m[left][right]=14875\n",
      "DEBUG:root:left=0, right=3, k=2, m[left][right]=9375\n",
      "DEBUG:root:left=1, right=4, k=1, m[left][right]=13000\n",
      "DEBUG:root:left=1, right=4, k=2, m[left][right]=7125\n",
      "DEBUG:root:left=1, right=4, k=3, m[left][right]=7125\n",
      "DEBUG:root:left=2, right=5, k=2, m[left][right]=5375\n",
      "DEBUG:root:left=2, right=5, k=3, m[left][right]=5375\n",
      "DEBUG:root:left=2, right=5, k=4, m[left][right]=5375\n",
      "DEBUG:root:left=0, right=4, k=0, m[left][right]=28125\n",
      "DEBUG:root:left=0, right=4, k=1, m[left][right]=27250\n",
      "DEBUG:root:left=0, right=4, k=2, m[left][right]=11875\n",
      "DEBUG:root:left=0, right=4, k=3, m[left][right]=11875\n",
      "DEBUG:root:left=1, right=5, k=1, m[left][right]=18500\n",
      "DEBUG:root:left=1, right=5, k=2, m[left][right]=10500\n",
      "DEBUG:root:left=1, right=5, k=3, m[left][right]=10500\n",
      "DEBUG:root:left=1, right=5, k=4, m[left][right]=10500\n",
      "DEBUG:root:left=0, right=5, k=0, m[left][right]=36750\n",
      "DEBUG:root:left=0, right=5, k=1, m[left][right]=32375\n",
      "DEBUG:root:left=0, right=5, k=2, m[left][right]=15125\n",
      "DEBUG:root:left=0, right=5, k=3, m[left][right]=15125\n",
      "DEBUG:root:left=0, right=5, k=4, m[left][right]=15125\n"
     ]
    }
   ],
   "source": [
    "expected = 15125\n",
    "actual = matrix_chain_multiplication(\n",
    "    6, [(30, 35), (35, 15), (15, 5), (5, 10), (10, 20), (20, 25)]\n",
    ")\n",
    "assert expected == actual\n"
   ]
  },
  {
   "cell_type": "code",
   "execution_count": null,
   "metadata": {},
   "outputs": [],
   "source": []
  }
 ],
 "metadata": {
  "kernelspec": {
   "display_name": "til_machine_learning_py312",
   "language": "python",
   "name": "python3"
  },
  "language_info": {
   "codemirror_mode": {
    "name": "ipython",
    "version": 3
   },
   "file_extension": ".py",
   "mimetype": "text/x-python",
   "name": "python",
   "nbconvert_exporter": "python",
   "pygments_lexer": "ipython3",
   "version": "3.12.3"
  }
 },
 "nbformat": 4,
 "nbformat_minor": 2
}
