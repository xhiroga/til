{
 "cells": [
  {
   "cell_type": "markdown",
   "metadata": {},
   "source": [
    "# 個数制限なしナップサック問題"
   ]
  },
  {
   "cell_type": "markdown",
   "metadata": {},
   "source": [
    "https://judge.u-aizu.ac.jp/onlinejudge/description.jsp?id=DPL_1_C"
   ]
  },
  {
   "cell_type": "code",
   "execution_count": 2,
   "metadata": {},
   "outputs": [],
   "source": [
    "from collections import defaultdict\n",
    "\n",
    "\n",
    "def kp(knapsack: tuple[int, int], items: list[tuple[int, int]]) -> int:\n",
    "    # 1 ~ ナップサックの重さ までの階級別に、コスパのチャンピオンを求める。\n",
    "    # 1周目はアイテム1つのみ、2周目はアイテム2つ目まで、のように参加者を徐々に増やす。最新の参加者を含むアイテムの組み合わせが、その階級におけるチャンピオンに挑戦する形を採る。\n",
    "\n",
    "    print(f\"{knapsack=}, {items=}\")\n",
    "    _, knapsack_weight = knapsack\n",
    "    champions: defaultdict[int, int] = defaultdict(lambda: 0)\n",
    "    for j in range(1, knapsack_weight + 1):\n",
    "        # print(j)\n",
    "        for item in items:\n",
    "            current_value = 0\n",
    "            item_value, item_weight = item\n",
    "            if item_weight <= j:\n",
    "                current_value += item_value\n",
    "            if item_weight < j:\n",
    "                champion_value = champions[j - item_weight]\n",
    "                current_value += champion_value\n",
    "            if champions[j] < current_value:\n",
    "                champions[j] = current_value\n",
    "\n",
    "    return champions[knapsack_weight]\n"
   ]
  },
  {
   "cell_type": "code",
   "execution_count": 3,
   "metadata": {},
   "outputs": [
    {
     "name": "stdout",
     "output_type": "stream",
     "text": [
      "(0, 0) []\n",
      "(1, 10) [(1, 10)]\n"
     ]
    }
   ],
   "source": [
    "# Test\n",
    "assert kp((0, 0), []) == 0\n",
    "assert kp((1, 10), [(1, 10)]) == 1\n"
   ]
  },
  {
   "cell_type": "code",
   "execution_count": 12,
   "metadata": {},
   "outputs": [],
   "source": [
    "def parse(input: str) -> tuple[tuple[int, int], list[tuple[int, int]]]:\n",
    "    lines = input.splitlines()\n",
    "    items = [(int(item.split()[0]), int(item.split()[1])) for item in lines]\n",
    "    return (items[0], items[1:])"
   ]
  },
  {
   "cell_type": "code",
   "execution_count": 13,
   "metadata": {},
   "outputs": [
    {
     "name": "stdout",
     "output_type": "stream",
     "text": [
      "(4, 8) [(4, 2), (5, 2), (2, 1), (8, 3)]\n"
     ]
    }
   ],
   "source": [
    "input = \"\"\"\n",
    "4 8\n",
    "4 2\n",
    "5 2\n",
    "2 1\n",
    "8 3\n",
    "\"\"\".strip()\n",
    "\n",
    "expected = 21\n",
    "knapsack, items = parse(input)\n",
    "actual = kp(knapsack, items)\n",
    "assert expected == actual, f\"{expected=}, {actual=}\""
   ]
  },
  {
   "cell_type": "code",
   "execution_count": 14,
   "metadata": {},
   "outputs": [
    {
     "name": "stdout",
     "output_type": "stream",
     "text": [
      "(2, 20) [(5, 9), (4, 10)]\n"
     ]
    }
   ],
   "source": [
    "input = \"\"\"\n",
    "2 20\n",
    "5 9\n",
    "4 10\n",
    "\"\"\".strip()\n",
    "\n",
    "expected = 10\n",
    "knapsack, items = parse(input)\n",
    "actual = kp(knapsack, items)\n",
    "assert expected == actual, f\"{expected=}, {actual=}\""
   ]
  },
  {
   "cell_type": "code",
   "execution_count": 15,
   "metadata": {},
   "outputs": [
    {
     "name": "stdout",
     "output_type": "stream",
     "text": [
      "(3, 9) [(2, 1), (3, 1), (5, 2)]\n"
     ]
    }
   ],
   "source": [
    "input = \"\"\"\n",
    "3 9\n",
    "2 1\n",
    "3 1\n",
    "5 2\n",
    "\"\"\".strip()\n",
    "\n",
    "expected = 27\n",
    "knapsack, items = parse(input)\n",
    "actual = kp(knapsack, items)\n",
    "assert expected == actual, f\"{expected=}, {actual=}\""
   ]
  },
  {
   "cell_type": "code",
   "execution_count": null,
   "metadata": {},
   "outputs": [],
   "source": []
  }
 ],
 "metadata": {
  "kernelspec": {
   "display_name": "til-machine-learning",
   "language": "python",
   "name": "python3"
  },
  "language_info": {
   "codemirror_mode": {
    "name": "ipython",
    "version": 3
   },
   "file_extension": ".py",
   "mimetype": "text/x-python",
   "name": "python",
   "nbconvert_exporter": "python",
   "pygments_lexer": "ipython3",
   "version": "3.12.3"
  }
 },
 "nbformat": 4,
 "nbformat_minor": 2
}
