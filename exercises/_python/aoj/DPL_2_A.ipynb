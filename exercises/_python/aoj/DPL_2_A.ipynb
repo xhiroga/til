{
 "cells": [
  {
   "cell_type": "markdown",
   "metadata": {},
   "source": [
    "# [巡回セールスマン問題](https://judge.u-aizu.ac.jp/onlinejudge/description.jsp?id=DPL_2_A)"
   ]
  },
  {
   "cell_type": "markdown",
   "metadata": {},
   "source": [
    "巡回セールスマン問題における最適な小構造は次の通り。\n",
    "\n",
    "頂点AからBまでの最短路があるとき、経路内に頂点Cが含まれるとして、頂点Aから頂点Cと、頂点Bから頂点Cのいずれも、その途中に通る頂点が同じであるという前提の元、最短経路である。"
   ]
  },
  {
   "cell_type": "code",
   "execution_count": 12,
   "metadata": {},
   "outputs": [],
   "source": [
    "from bitarray import bitarray\n",
    "from collections import defaultdict\n",
    "\n",
    "\n",
    "def traveling_salesman_problem(input):\n",
    "    lines = input.strip().split(\"\\n\")\n",
    "    v, _ = map(int, lines[0].split())\n",
    "    edges = [tuple(map(int, line.split())) for line in lines[1:]]\n",
    "\n",
    "    matrix = defaultdict(lambda: defaultdict(lambda: float(\"inf\")))\n",
    "    for s, t, d in edges:\n",
    "        matrix[s][t] = d\n",
    "\n",
    "    dp = {}\n",
    "\n",
    "    def bit_dp(visited: bitarray, current: int) -> int:\n",
    "        print(f\"{visited=}, {current=}\")\n",
    "        key = (visited.to01(), current)\n",
    "        if key in dp:\n",
    "            return dp[key]\n",
    "        if visited.count(1) == 1:\n",
    "            return matrix[current][0]\n",
    "\n",
    "        shortest = float(\"inf\")\n",
    "        for neighbor in range(v):\n",
    "            if visited[neighbor] and matrix[current][neighbor] < float(\"inf\"):\n",
    "                visited[neighbor] = 0\n",
    "                dist = bit_dp(visited, neighbor) + matrix[current][neighbor]\n",
    "                visited[neighbor] = 1\n",
    "                if dist < shortest:\n",
    "                    shortest = dist\n",
    "\n",
    "        dp[key] = shortest\n",
    "        return shortest\n",
    "\n",
    "    visited_all = bitarray(\"1\" * v)\n",
    "    shortest_cycle = bit_dp(visited_all, 0)\n",
    "    return -1 if shortest_cycle == float(\"inf\") else shortest_cycle"
   ]
  },
  {
   "cell_type": "code",
   "execution_count": 13,
   "metadata": {},
   "outputs": [
    {
     "name": "stdout",
     "output_type": "stream",
     "text": [
      "visited=bitarray('1111'), current=0\n",
      "visited=bitarray('1011'), current=1\n",
      "visited=bitarray('1001'), current=2\n",
      "visited=bitarray('0001'), current=0\n",
      "visited=bitarray('1000'), current=3\n",
      "visited=bitarray('1010'), current=3\n",
      "visited=bitarray('1000'), current=2\n"
     ]
    }
   ],
   "source": [
    "input = \"\"\"\n",
    "4 6\n",
    "0 1 2\n",
    "1 2 3\n",
    "1 3 9\n",
    "2 0 1\n",
    "2 3 6\n",
    "3 2 4\n",
    "\"\"\".strip()\n",
    "\n",
    "expected = 16\n",
    "\n",
    "actual = traveling_salesman_problem(input)\n",
    "\n",
    "assert expected == actual"
   ]
  },
  {
   "cell_type": "code",
   "execution_count": 14,
   "metadata": {},
   "outputs": [
    {
     "name": "stdout",
     "output_type": "stream",
     "text": [
      "visited=bitarray('111'), current=0\n",
      "visited=bitarray('101'), current=1\n",
      "visited=bitarray('100'), current=2\n",
      "visited=bitarray('110'), current=2\n"
     ]
    }
   ],
   "source": [
    "input = \"\"\"\n",
    "3 3\n",
    "0 1 1\n",
    "1 2 1\n",
    "0 2 1\n",
    "\"\"\".strip()\n",
    "\n",
    "expected = -1\n",
    "\n",
    "actual = traveling_salesman_problem(input)\n",
    "\n",
    "assert expected == actual"
   ]
  },
  {
   "cell_type": "code",
   "execution_count": null,
   "metadata": {},
   "outputs": [],
   "source": []
  }
 ],
 "metadata": {
  "kernelspec": {
   "display_name": ".venv",
   "language": "python",
   "name": "python3"
  },
  "language_info": {
   "codemirror_mode": {
    "name": "ipython",
    "version": 3
   },
   "file_extension": ".py",
   "mimetype": "text/x-python",
   "name": "python",
   "nbconvert_exporter": "python",
   "pygments_lexer": "ipython3",
   "version": "3.12.3"
  }
 },
 "nbformat": 4,
 "nbformat_minor": 2
}
