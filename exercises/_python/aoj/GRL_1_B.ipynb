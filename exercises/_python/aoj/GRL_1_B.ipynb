{
 "cells": [
  {
   "cell_type": "markdown",
   "metadata": {},
   "source": [
    "# 単一始点最短経路（負の重みをもつ辺を含む）"
   ]
  },
  {
   "cell_type": "code",
   "execution_count": 4,
   "metadata": {},
   "outputs": [],
   "source": [
    "import sys\n",
    "from collections import defaultdict\n",
    "\n",
    "\n",
    "def weights(v: int, d: dict[int, int]) -> list[str]:\n",
    "    return [str(d[i]) for i in range(v)]\n",
    "\n",
    "\n",
    "def bellman_ford(input: str) -> str:\n",
    "    lines = input.split(\"\\n\")\n",
    "    v, _, r = map(int, lines[0].split(\" \"))\n",
    "    lines = lines[1:]\n",
    "    edges = []\n",
    "    for line in lines:\n",
    "        edges.append(tuple(int(word) for word in line.split(\" \")))\n",
    "\n",
    "    d = defaultdict(lambda: sys.maxsize)\n",
    "    d[r] = 0\n",
    "    print(weights(v, d))\n",
    "\n",
    "    for _ in range(v - 1):\n",
    "        for start, goal, weight in edges:\n",
    "            if d[start] != sys.maxsize and d[start] + weight < d[goal]:\n",
    "                d[goal] = d[start] + weight\n",
    "                print(weights(v, d))\n",
    "\n",
    "    # 負閉路が存在するかだけならループ1回で良い。不平路の影響を受ける頂点を知りたい場合は、追加で v-1 回ループする。\n",
    "    for start, goal, weight in edges:\n",
    "        if d[start] != sys.maxsize and d[start] + weight < d[goal]:\n",
    "            print(weights(v, d))\n",
    "            return \"NEGATIVE CYCLE\"\n",
    "\n",
    "    return \"\\n\".join(weights(v, d)).upper()"
   ]
  },
  {
   "cell_type": "code",
   "execution_count": 5,
   "metadata": {},
   "outputs": [
    {
     "name": "stdout",
     "output_type": "stream",
     "text": [
      "['0', '9223372036854775807', '9223372036854775807', '9223372036854775807']\n",
      "['0', '2', '9223372036854775807', '9223372036854775807']\n",
      "['0', '2', '3', '9223372036854775807']\n",
      "['0', '2', '-3', '9223372036854775807']\n",
      "['0', '2', '-3', '3']\n",
      "['0', '2', '-3', '-1']\n"
     ]
    }
   ],
   "source": [
    "input = \"\"\"\n",
    "4 5 0\n",
    "0 1 2\n",
    "0 2 3\n",
    "1 2 -5\n",
    "1 3 1\n",
    "2 3 2\n",
    "\"\"\".strip()\n",
    "\n",
    "expected = \"\"\"\n",
    "0\n",
    "2\n",
    "-3\n",
    "-1\n",
    "\"\"\".strip()\n",
    "\n",
    "actual = bellman_ford(input)\n",
    "\n",
    "assert expected == actual"
   ]
  },
  {
   "cell_type": "code",
   "execution_count": 6,
   "metadata": {},
   "outputs": [
    {
     "name": "stdout",
     "output_type": "stream",
     "text": [
      "['0', '9223372036854775807', '9223372036854775807', '9223372036854775807']\n",
      "['0', '2', '9223372036854775807', '9223372036854775807']\n",
      "['0', '2', '3', '9223372036854775807']\n",
      "['0', '2', '-3', '9223372036854775807']\n",
      "['0', '2', '-3', '3']\n",
      "['0', '2', '-3', '-1']\n",
      "['0', '-1', '-3', '-1']\n",
      "['0', '-1', '-6', '-1']\n",
      "['0', '-1', '-6', '-4']\n",
      "['0', '-4', '-6', '-4']\n",
      "['0', '-4', '-9', '-4']\n",
      "['0', '-4', '-9', '-7']\n",
      "['0', '-7', '-9', '-7']\n",
      "['0', '-7', '-9', '-7']\n"
     ]
    }
   ],
   "source": [
    "input = \"\"\"\n",
    "4 6 0\n",
    "0 1 2\n",
    "0 2 3\n",
    "1 2 -5\n",
    "1 3 1\n",
    "2 3 2\n",
    "3 1 0\n",
    "\"\"\".strip()\n",
    "\n",
    "expected = \"NEGATIVE CYCLE\"\n",
    "actual = bellman_ford(input)\n",
    "assert expected == actual"
   ]
  },
  {
   "cell_type": "code",
   "execution_count": 8,
   "metadata": {},
   "outputs": [
    {
     "name": "stdout",
     "output_type": "stream",
     "text": [
      "['9223372036854775807', '0', '9223372036854775807', '9223372036854775807']\n",
      "['9223372036854775807', '0', '-5', '9223372036854775807']\n",
      "['9223372036854775807', '0', '-5', '1']\n",
      "['9223372036854775807', '0', '-5', '-3']\n"
     ]
    }
   ],
   "source": [
    "input = \"\"\"\n",
    "4 5 1\n",
    "0 1 2\n",
    "0 2 3\n",
    "1 2 -5\n",
    "1 3 1\n",
    "2 3 2\n",
    "\"\"\".strip()\n",
    "\n",
    "expected = f\"\"\"\n",
    "{sys.maxsize}\n",
    "0\n",
    "-5\n",
    "-3\n",
    "\"\"\".strip()\n",
    "actual = bellman_ford(input)\n",
    "assert expected == actual"
   ]
  },
  {
   "cell_type": "code",
   "execution_count": null,
   "metadata": {},
   "outputs": [],
   "source": []
  }
 ],
 "metadata": {
  "kernelspec": {
   "display_name": ".venv",
   "language": "python",
   "name": "python3"
  },
  "language_info": {
   "codemirror_mode": {
    "name": "ipython",
    "version": 3
   },
   "file_extension": ".py",
   "mimetype": "text/x-python",
   "name": "python",
   "nbconvert_exporter": "python",
   "pygments_lexer": "ipython3",
   "version": "3.12.3"
  }
 },
 "nbformat": 4,
 "nbformat_minor": 2
}
