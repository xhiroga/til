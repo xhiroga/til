{
 "cells": [
  {
   "cell_type": "markdown",
   "metadata": {},
   "source": [
    "# 優先度付きキュー\n"
   ]
  },
  {
   "cell_type": "code",
   "execution_count": 2,
   "metadata": {},
   "outputs": [],
   "source": [
    "import sys\n",
    "from logging import basicConfig, root as logger, DEBUG, WARNING\n",
    "\n",
    "basicConfig(level=DEBUG if \"get_ipython\" in globals() else WARNING)\n",
    "\n",
    "\n",
    "class PrioritizedQueue:\n",
    "    def __init__(self, list: list[int] = []):\n",
    "        self._array = [sys.maxsize] + list\n",
    "\n",
    "    @property\n",
    "    def array(self) -> list:\n",
    "        return self._array[1:]\n",
    "\n",
    "    def max_heapify(self, root: int) -> None:\n",
    "        logger.debug(f\"{self._array=}\")\n",
    "        left = root * 2\n",
    "        right = left + 1\n",
    "        max_i = root\n",
    "\n",
    "        if len(self._array) - 1 < left:\n",
    "            return\n",
    "\n",
    "        if self._array[root] < self._array[left]:\n",
    "            max_i = left\n",
    "\n",
    "        if right < len(self._array) and self._array[max_i] < self._array[right]:\n",
    "            max_i = right\n",
    "\n",
    "        if max_i != root:\n",
    "            self._array[root], self._array[max_i] = (\n",
    "                self._array[max_i],\n",
    "                self._array[root],\n",
    "            )\n",
    "            self.max_heapify(max_i)\n",
    "\n",
    "    def insert(self, num: int) -> None:\n",
    "        logger.debug(f\"{self._array=}\")\n",
    "        # 螺旋本では`increaseKey`メソッドに分けて実装している箇所\n",
    "        self._array.append(num)\n",
    "        logger.debug(f\"{self._array=}\")\n",
    "        current = len(self._array) - 1\n",
    "        parent = current // 2\n",
    "        while self._array[parent] < self._array[current]:\n",
    "            self._array[parent], self._array[current] = (\n",
    "                self._array[current],\n",
    "                self._array[parent],\n",
    "            )\n",
    "            logger.debug(f\"{self._array=}\")\n",
    "            current = parent\n",
    "            parent = current // 2\n",
    "\n",
    "    def extract(self) -> int:\n",
    "        last = self._array.pop()\n",
    "        if len(self._array) == 1:\n",
    "            return last\n",
    "        extracted, self._array[1] = self._array[1], last\n",
    "        self.max_heapify(1)\n",
    "        return extracted\n"
   ]
  },
  {
   "cell_type": "code",
   "execution_count": 3,
   "metadata": {},
   "outputs": [
    {
     "name": "stderr",
     "output_type": "stream",
     "text": [
      "DEBUG:root:self._array=[9223372036854775807, 2, 3, 1]\n",
      "DEBUG:root:self._array=[9223372036854775807, 3, 2, 1]\n"
     ]
    }
   ],
   "source": [
    "expected = [3, 2, 1]\n",
    "pq = PrioritizedQueue([2, 3, 1])\n",
    "pq.max_heapify(1)\n",
    "actual = pq.array\n",
    "assert expected == actual\n"
   ]
  },
  {
   "cell_type": "code",
   "execution_count": 4,
   "metadata": {},
   "outputs": [
    {
     "name": "stderr",
     "output_type": "stream",
     "text": [
      "DEBUG:root:self._array=[9223372036854775807, 5, 4]\n",
      "DEBUG:root:self._array=[9223372036854775807, 5, 4, 6]\n",
      "DEBUG:root:self._array=[9223372036854775807, 6, 4, 5]\n"
     ]
    }
   ],
   "source": [
    "expected = [6, 4, 5]\n",
    "pq = PrioritizedQueue([5, 4])\n",
    "pq.insert(6)\n",
    "actual = pq.array\n",
    "assert expected == actual\n"
   ]
  },
  {
   "cell_type": "code",
   "execution_count": 5,
   "metadata": {},
   "outputs": [
    {
     "name": "stderr",
     "output_type": "stream",
     "text": [
      "DEBUG:root:self._array=[9223372036854775807, 4, 6, 8]\n",
      "DEBUG:root:self._array=[9223372036854775807, 8, 6, 4]\n"
     ]
    }
   ],
   "source": [
    "expected_extracted = 10\n",
    "expected_array = [8, 6, 4]\n",
    "pq = PrioritizedQueue([10, 6, 8, 4])\n",
    "actual_extracted = pq.extract()\n",
    "actual_array = pq.array\n",
    "assert expected_extracted == actual_extracted\n",
    "assert expected_array == actual_array\n"
   ]
  },
  {
   "cell_type": "code",
   "execution_count": 17,
   "metadata": {},
   "outputs": [],
   "source": [
    "def execute(commands: list[tuple[str, int]]) -> list[int]:\n",
    "    logger.debug(f\"{commands=}\")\n",
    "    pq = PrioritizedQueue()\n",
    "    extracted = []\n",
    "    for cmd, num in commands:\n",
    "        if cmd == \"insert\":\n",
    "            pq.insert(num)\n",
    "        elif cmd == \"extract\":\n",
    "            extracted.append(pq.extract())\n",
    "    return extracted\n"
   ]
  },
  {
   "cell_type": "code",
   "execution_count": 21,
   "metadata": {},
   "outputs": [],
   "source": [
    "def line_to_set(line: str) -> tuple[str, int]:\n",
    "    splitted = line.split(\" \")\n",
    "    if len(splitted) == 2:\n",
    "        return (splitted[0], int(splitted[1]))\n",
    "    else:\n",
    "        return (splitted[0], 0)\n",
    "\n",
    "\n",
    "def parse(input: str) -> list[tuple[str, int]]:\n",
    "    lines = input.splitlines()\n",
    "    return [line_to_set(line) for line in lines]\n"
   ]
  },
  {
   "cell_type": "code",
   "execution_count": 22,
   "metadata": {},
   "outputs": [],
   "source": [
    "input = \"\"\"\n",
    "insert 10\n",
    "end\n",
    "\"\"\".strip()\n",
    "expected = [(\"insert\", 10), (\"end\", 0)]\n",
    "actual = parse(input)\n",
    "assert expected == actual, f\"{expected=}, {actual=}\"\n"
   ]
  },
  {
   "cell_type": "code",
   "execution_count": 23,
   "metadata": {},
   "outputs": [
    {
     "name": "stderr",
     "output_type": "stream",
     "text": [
      "DEBUG:root:commands=[('insert', 8), ('insert', 2), ('extract', 0), ('insert', 10), ('extract', 0), ('insert', 11), ('extract', 0), ('extract', 0), ('end', 0)]\n",
      "DEBUG:root:self._array=[9223372036854775807]\n",
      "DEBUG:root:self._array=[9223372036854775807, 8]\n",
      "DEBUG:root:self._array=[9223372036854775807, 8]\n",
      "DEBUG:root:self._array=[9223372036854775807, 8, 2]\n",
      "DEBUG:root:self._array=[9223372036854775807, 2]\n",
      "DEBUG:root:self._array=[9223372036854775807, 2]\n",
      "DEBUG:root:self._array=[9223372036854775807, 2, 10]\n",
      "DEBUG:root:self._array=[9223372036854775807, 10, 2]\n",
      "DEBUG:root:self._array=[9223372036854775807, 2]\n",
      "DEBUG:root:self._array=[9223372036854775807, 2]\n",
      "DEBUG:root:self._array=[9223372036854775807, 2, 11]\n",
      "DEBUG:root:self._array=[9223372036854775807, 11, 2]\n",
      "DEBUG:root:self._array=[9223372036854775807, 2]\n"
     ]
    }
   ],
   "source": [
    "input = \"\"\"\n",
    "insert 8\n",
    "insert 2\n",
    "extract\n",
    "insert 10\n",
    "extract\n",
    "insert 11\n",
    "extract\n",
    "extract\n",
    "end\n",
    "\"\"\".strip()\n",
    "expected = [8, 10, 11, 2]\n",
    "actual = execute(parse(input))\n",
    "assert expected == actual\n"
   ]
  },
  {
   "cell_type": "markdown",
   "metadata": {},
   "source": [
    "## 標準ライブラリによる優先度付きキュー\n"
   ]
  },
  {
   "cell_type": "code",
   "execution_count": 37,
   "metadata": {},
   "outputs": [],
   "source": [
    "import heapq\n",
    "\n",
    "pq = [5, 9, 6, 7, 4, 1, 0]\n",
    "# WARN: heapq.heapify() はミュータブル！\n",
    "heapq.heapify(pq)\n",
    "popped = heapq.heappop(pq)\n",
    "assert 0 == popped\n"
   ]
  },
  {
   "cell_type": "code",
   "execution_count": 39,
   "metadata": {},
   "outputs": [
    {
     "ename": "AssertionError",
     "evalue": "",
     "output_type": "error",
     "traceback": [
      "\u001b[1;31m---------------------------------------------------------------------------\u001b[0m",
      "\u001b[1;31mAssertionError\u001b[0m                            Traceback (most recent call last)",
      "Cell \u001b[1;32mIn[39], line 8\u001b[0m\n\u001b[0;32m      6\u001b[0m heapq\u001b[38;5;241m.\u001b[39mheappush(pq, \u001b[38;5;241m99\u001b[39m)\n\u001b[0;32m      7\u001b[0m popped \u001b[38;5;241m=\u001b[39m heapq\u001b[38;5;241m.\u001b[39mheappop(pq)\n\u001b[1;32m----> 8\u001b[0m \u001b[38;5;28;01massert\u001b[39;00m \u001b[38;5;241m99\u001b[39m \u001b[38;5;241m==\u001b[39m popped\n",
      "\u001b[1;31mAssertionError\u001b[0m: "
     ]
    }
   ],
   "source": [
    "pq = [10, 20, 30, 40, 50]\n",
    "# heapq._heapify_max(pq)\n",
    "# WARN: `heapq.heappush(pq, int)`すると崩れるし、そもそもPublic API ではないため、`_heapify_max`は使わないのが無難。\n",
    "# https://discuss.python.org/t/make-max-heap-functions-public-in-heapq/16944/12\n",
    "\n",
    "heapq.heappush(pq, 99)\n",
    "popped = heapq.heappop(pq)\n",
    "assert 99 == popped\n"
   ]
  },
  {
   "cell_type": "code",
   "execution_count": null,
   "metadata": {},
   "outputs": [],
   "source": []
  }
 ],
 "metadata": {
  "kernelspec": {
   "display_name": "til_machine_learning_py312",
   "language": "python",
   "name": "python3"
  },
  "language_info": {
   "codemirror_mode": {
    "name": "ipython",
    "version": 3
   },
   "file_extension": ".py",
   "mimetype": "text/x-python",
   "name": "python",
   "nbconvert_exporter": "python",
   "pygments_lexer": "ipython3",
   "version": "3.12.3"
  }
 },
 "nbformat": 4,
 "nbformat_minor": 2
}
