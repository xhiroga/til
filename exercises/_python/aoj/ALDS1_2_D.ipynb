{
 "cells": [
  {
   "cell_type": "markdown",
   "metadata": {},
   "source": [
    "# シェルソート\n"
   ]
  },
  {
   "cell_type": "markdown",
   "metadata": {},
   "source": [
    "挿入ソートでは、未整理のデータから取り出した値を、整理済みデータのどこに挿入すべきかがパッと分かると効率が良い。\n",
    "\n",
    "そこで、なるべく整理済みのデータの最後尾（または先頭）に位置づけられるように前処理をしてしまおう、というのがシェルソートである。\n",
    "\n",
    "（逆に、整理済みデータから挿入箇所を探すところを工夫したのがバイナリソート（二分探索挿入ソート）となる。）\n"
   ]
  },
  {
   "cell_type": "markdown",
   "metadata": {},
   "source": [
    "シェルソートでは、未整理の配列$A$を間隔 $g$ ごとの配列 $A_{modg0} = [a_0,a_g,a_{2g},...], A_{modg1} = [a_1,a_{g+1},a_{2g+1}, ...], ...$ に分けたうえで挿入ソートを行い、ラフに前処理をする。\n",
    "\n",
    "この挿入ソートを行う際に、部分配列の最後尾に注目するやり方（螺旋本ではこちら）の他に、$g$ 種類の部分配列ごとに挿入ソートを終わらせるやり方があると思われる。本実装は後者で行う。\n"
   ]
  },
  {
   "cell_type": "code",
   "execution_count": 7,
   "metadata": {},
   "outputs": [],
   "source": [
    "from logging import basicConfig, root, DEBUG, WARNING\n",
    "\n",
    "basicConfig(level=DEBUG if \"get_ipython\" in globals() else WARNING)\n",
    "\n",
    "\n",
    "def insertion_sort(nums: list[int], g: int) -> list[int]:\n",
    "    # mod(g)==0, mod(g)==1...の部分配列ごとに挿入ソートする。\n",
    "    for rem in range(0, g):\n",
    "        root.debug(f\"{g=}, {rem=}\")\n",
    "        # 1周目は [rem, rem+g] を、2週目は [rem, rem+g, rem+2g] を...のように挿入ソートを行う。\n",
    "        last = rem + g\n",
    "        while last < len(nums):\n",
    "            root.debug(f\"{g=}, {rem=}, {last=}\")\n",
    "            # challenger を g づつ減らしてループする。\n",
    "            challenged = last - g\n",
    "            while 0 <= challenged:\n",
    "                root.debug(f\"{g=}, {rem=}, {last=}, {challenged=}\")\n",
    "                if nums[challenged] > nums[challenged + g]:\n",
    "                    tmp = nums[challenged]\n",
    "                    nums[challenged] = nums[challenged + g]\n",
    "                    nums[challenged + g] = tmp\n",
    "                challenged -= g\n",
    "                root.debug(f\"{nums=}\")\n",
    "\n",
    "            last += g\n",
    "            root.debug(f\"{nums=}\")\n",
    "\n",
    "        root.debug(f\"{nums=}\")\n",
    "\n",
    "    return nums"
   ]
  },
  {
   "cell_type": "code",
   "execution_count": 8,
   "metadata": {},
   "outputs": [],
   "source": [
    "def shell_sort(nums: list[int]) -> tuple[int, list[int], list[int]]:\n",
    "    G_asc = []\n",
    "    h = 1\n",
    "    while h < len(nums):\n",
    "        G_asc.append(h)\n",
    "        h = 3 * h + 1\n",
    "    G = G_asc[::-1]\n",
    "    root.debug(G)\n",
    "\n",
    "    for g in G:\n",
    "        # 呼び出し先で再代入を行わない限りは、メソッドを跨いでも同じオブジェクトが参照されるため、ここで再代入を行わない書き方も可能である。\n",
    "        # しかし、呼び出し元がMutableを期待している時に、呼び出し先がImmutableな挙動だと、動かすまで誤りが分からない。\n",
    "        # したがって、呼び出し元でImmutableを強制し、バグを未然に防ぐ。\n",
    "        nums = insertion_sort(nums, g)\n",
    "\n",
    "    return (len(G), G, nums)"
   ]
  },
  {
   "cell_type": "code",
   "execution_count": 10,
   "metadata": {},
   "outputs": [
    {
     "name": "stderr",
     "output_type": "stream",
     "text": [
      "DEBUG:root:[4, 1]\n",
      "DEBUG:root:g=4, rem=0\n",
      "DEBUG:root:g=4, rem=0, last=4\n",
      "DEBUG:root:g=4, rem=0, last=4, challenged=0\n",
      "DEBUG:root:nums=[2, 1, 4, 3, 5]\n",
      "DEBUG:root:nums=[2, 1, 4, 3, 5]\n",
      "DEBUG:root:nums=[2, 1, 4, 3, 5]\n",
      "DEBUG:root:g=4, rem=1\n",
      "DEBUG:root:nums=[2, 1, 4, 3, 5]\n",
      "DEBUG:root:g=4, rem=2\n",
      "DEBUG:root:nums=[2, 1, 4, 3, 5]\n",
      "DEBUG:root:g=4, rem=3\n",
      "DEBUG:root:nums=[2, 1, 4, 3, 5]\n",
      "DEBUG:root:g=1, rem=0\n",
      "DEBUG:root:g=1, rem=0, last=1\n",
      "DEBUG:root:g=1, rem=0, last=1, challenged=0\n",
      "DEBUG:root:nums=[1, 2, 4, 3, 5]\n",
      "DEBUG:root:nums=[1, 2, 4, 3, 5]\n",
      "DEBUG:root:g=1, rem=0, last=2\n",
      "DEBUG:root:g=1, rem=0, last=2, challenged=1\n",
      "DEBUG:root:nums=[1, 2, 4, 3, 5]\n",
      "DEBUG:root:g=1, rem=0, last=2, challenged=0\n",
      "DEBUG:root:nums=[1, 2, 4, 3, 5]\n",
      "DEBUG:root:nums=[1, 2, 4, 3, 5]\n",
      "DEBUG:root:g=1, rem=0, last=3\n",
      "DEBUG:root:g=1, rem=0, last=3, challenged=2\n",
      "DEBUG:root:nums=[1, 2, 3, 4, 5]\n",
      "DEBUG:root:g=1, rem=0, last=3, challenged=1\n",
      "DEBUG:root:nums=[1, 2, 3, 4, 5]\n",
      "DEBUG:root:g=1, rem=0, last=3, challenged=0\n",
      "DEBUG:root:nums=[1, 2, 3, 4, 5]\n",
      "DEBUG:root:nums=[1, 2, 3, 4, 5]\n",
      "DEBUG:root:g=1, rem=0, last=4\n",
      "DEBUG:root:g=1, rem=0, last=4, challenged=3\n",
      "DEBUG:root:nums=[1, 2, 3, 4, 5]\n",
      "DEBUG:root:g=1, rem=0, last=4, challenged=2\n",
      "DEBUG:root:nums=[1, 2, 3, 4, 5]\n",
      "DEBUG:root:g=1, rem=0, last=4, challenged=1\n",
      "DEBUG:root:nums=[1, 2, 3, 4, 5]\n",
      "DEBUG:root:g=1, rem=0, last=4, challenged=0\n",
      "DEBUG:root:nums=[1, 2, 3, 4, 5]\n",
      "DEBUG:root:nums=[1, 2, 3, 4, 5]\n",
      "DEBUG:root:nums=[1, 2, 3, 4, 5]\n"
     ]
    }
   ],
   "source": [
    "input = \"\"\"\n",
    "5\n",
    "5\n",
    "1\n",
    "4\n",
    "3\n",
    "2\n",
    "\"\"\".strip()\n",
    "expected = (2, [4, 1], [1, 2, 3, 4, 5])\n",
    "actual = shell_sort([int(num) for num in input.splitlines()[1:]])\n",
    "assert expected == actual"
   ]
  },
  {
   "cell_type": "code",
   "execution_count": null,
   "metadata": {},
   "outputs": [],
   "source": []
  }
 ],
 "metadata": {
  "kernelspec": {
   "display_name": "til_machine_learning_py312",
   "language": "python",
   "name": "python3"
  },
  "language_info": {
   "codemirror_mode": {
    "name": "ipython",
    "version": 3
   },
   "file_extension": ".py",
   "mimetype": "text/x-python",
   "name": "python",
   "nbconvert_exporter": "python",
   "pygments_lexer": "ipython3",
   "version": "3.12.3"
  }
 },
 "nbformat": 4,
 "nbformat_minor": 2
}
