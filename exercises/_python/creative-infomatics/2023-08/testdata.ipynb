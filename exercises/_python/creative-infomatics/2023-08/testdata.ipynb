{
 "cells": [
  {
   "cell_type": "code",
   "execution_count": 6,
   "metadata": {},
   "outputs": [],
   "source": [
    "import random\n",
    "\n",
    "def generate_random_combination() -> str:\n",
    "    x = random.randint(0, 999)\n",
    "    s = random.randint(0, 999)\n",
    "    t = random.randint(s, 999)  # ensure s <= t\n",
    "    return f\"{x},{s},{t}\"\n",
    "\n",
    "\n",
    "def testdata1(filename: str) -> None:\n",
    "    lines = []\n",
    "    for _ in range(100):\n",
    "        lines.append(generate_random_combination())\n",
    "    \n",
    "    lines = \",\".join(lines)\n",
    "\n",
    "    with open(filename, mode=\"w\") as f:\n",
    "        f.write(lines)\n",
    "\n",
    "\n",
    "testdata1(\"data/data1_test.txt\")\n"
   ]
  },
  {
   "cell_type": "code",
   "execution_count": 15,
   "metadata": {},
   "outputs": [],
   "source": [
    "import random\n",
    "\n",
    "def generate_random_assignment() -> str:\n",
    "    m = random.randint(0,999)\n",
    "    n = random.randint(0,999)\n",
    "    return f\"{m},{n}\"\n",
    "\n",
    "def testdata2(filename: str, count:int =100) -> None:\n",
    "    lines = []\n",
    "    for _ in range(count):\n",
    "        lines.append(generate_random_assignment())\n",
    "    \n",
    "    lines = \",\".join(lines)\n",
    "\n",
    "    with open(filename, mode=\"w\") as f:\n",
    "        f.write(lines)\n",
    "\n",
    "testdata2(\"data/data2_test.txt\")"
   ]
  },
  {
   "cell_type": "code",
   "execution_count": 8,
   "metadata": {},
   "outputs": [],
   "source": [
    "testdata1(\"data/data3a1_test.txt\")\n",
    "testdata2(\"data/data3a2_test.txt\")\n"
   ]
  },
  {
   "cell_type": "code",
   "execution_count": 9,
   "metadata": {},
   "outputs": [],
   "source": [
    "testdata1(\"data/data4a1_test.txt\")\n",
    "testdata2(\"data/data4a2_test.txt\")\n"
   ]
  },
  {
   "cell_type": "code",
   "execution_count": 10,
   "metadata": {},
   "outputs": [],
   "source": [
    "testdata1(\"data/data5a1_test.txt\")\n",
    "testdata2(\"data/data5a2_test.txt\")\n"
   ]
  },
  {
   "cell_type": "code",
   "execution_count": 16,
   "metadata": {},
   "outputs": [],
   "source": [
    "testdata1(\"data/data6a1_test.txt\")\n",
    "testdata2(\"data/data6a2_test.txt\", 500)\n"
   ]
  },
  {
   "cell_type": "code",
   "execution_count": null,
   "metadata": {},
   "outputs": [],
   "source": []
  }
 ],
 "metadata": {
  "kernelspec": {
   "display_name": ".venv",
   "language": "python",
   "name": "python3"
  },
  "language_info": {
   "codemirror_mode": {
    "name": "ipython",
    "version": 3
   },
   "file_extension": ".py",
   "mimetype": "text/x-python",
   "name": "python",
   "nbconvert_exporter": "python",
   "pygments_lexer": "ipython3",
   "version": "3.12.3"
  }
 },
 "nbformat": 4,
 "nbformat_minor": 2
}
