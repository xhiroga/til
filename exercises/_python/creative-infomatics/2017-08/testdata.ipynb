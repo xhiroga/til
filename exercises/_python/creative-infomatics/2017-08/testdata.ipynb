{
 "cells": [
  {
   "cell_type": "code",
   "execution_count": 19,
   "metadata": {},
   "outputs": [],
   "source": [
    "import numpy as np\n",
    "\n",
    "\n",
    "def test_data(m: int, n: int) -> str:\n",
    "    # Create a 2D array with shape (m, n) filled with random integers\n",
    "    array = np.random.randint(0, 100, size=(m, n)).astype(int)\n",
    "\n",
    "    # Convert the array to a string in the desired format\n",
    "    result = \",\".join([\" \".join(map(str, row)) for row in array]) + \".\"\n",
    "\n",
    "    return result"
   ]
  },
  {
   "cell_type": "code",
   "execution_count": 20,
   "metadata": {},
   "outputs": [
    {
     "name": "stdout",
     "output_type": "stream",
     "text": [
      "m=179, n=126\n"
     ]
    }
   ],
   "source": [
    "m = np.random.randint(1, 201)\n",
    "n = np.random.randint(1, 151)\n",
    "print(f\"{m=}, {n=}\")\n",
    "\n",
    "with open(\"data/mat1_test.txt\", mode=\"w\") as f:\n",
    "    f.write(test_data(m, n))\n",
    "\n",
    "with open(\"data/mat2_test.txt\", mode=\"w\") as f:\n",
    "    f.write(test_data(n, m))"
   ]
  },
  {
   "cell_type": "code",
   "execution_count": null,
   "metadata": {},
   "outputs": [],
   "source": []
  }
 ],
 "metadata": {
  "kernelspec": {
   "display_name": ".venv",
   "language": "python",
   "name": "python3"
  },
  "language_info": {
   "codemirror_mode": {
    "name": "ipython",
    "version": 3
   },
   "file_extension": ".py",
   "mimetype": "text/x-python",
   "name": "python",
   "nbconvert_exporter": "python",
   "pygments_lexer": "ipython3",
   "version": "3.12.3"
  }
 },
 "nbformat": 4,
 "nbformat_minor": 2
}
