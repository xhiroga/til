{
 "cells": [
  {
   "cell_type": "code",
   "execution_count": 25,
   "metadata": {},
   "outputs": [],
   "source": [
    "import numpy as np\n",
    "\n",
    "\n",
    "def read_matrix(file_name: str) -> np.ndarray:\n",
    "    with open(file_name, \"r\") as f:\n",
    "        # joined is \"0 1 2,9 8 7,3 4 10, ...\"\n",
    "        joined = f.read().strip().removesuffix(\".\")\n",
    "        matrix = [list(map(int, row.split())) for row in joined.split(\",\")]\n",
    "    return np.array(matrix)"
   ]
  },
  {
   "cell_type": "code",
   "execution_count": 26,
   "metadata": {},
   "outputs": [
    {
     "name": "stdout",
     "output_type": "stream",
     "text": [
      "(179, 126)\n"
     ]
    }
   ],
   "source": [
    "def question2() -> None:\n",
    "    matrix = read_matrix(\"data/mat1_test.txt\")\n",
    "    print(matrix.shape)\n",
    "\n",
    "\n",
    "question2()"
   ]
  },
  {
   "cell_type": "code",
   "execution_count": 27,
   "metadata": {},
   "outputs": [],
   "source": [
    "def calc_trace(mat1: np.ndarray, mat2: np.ndarray) -> int:\n",
    "    prod = np.dot(mat1, mat2)\n",
    "    return np.trace(prod)\n",
    "\n",
    "\n",
    "assert calc_trace(np.array([[1, 2], [3, 4]]), np.array([[5, 6], [7, 8]])) == 69"
   ]
  },
  {
   "cell_type": "code",
   "execution_count": 28,
   "metadata": {},
   "outputs": [
    {
     "name": "stdout",
     "output_type": "stream",
     "text": [
      "mat1.shape=(179, 126), mat2.shape=(126, 179)\n",
      "question3()=np.int64(55491263)\n"
     ]
    }
   ],
   "source": [
    "def question3() -> int:\n",
    "    mat1 = read_matrix(\"data/mat1_test.txt\")\n",
    "    mat2 = read_matrix(\"data/mat2_test.txt\")\n",
    "    print(f\"{mat1.shape=}, {mat2.shape=}\")\n",
    "    trace = calc_trace(mat1, mat2)\n",
    "    return trace\n",
    "\n",
    "\n",
    "print(f\"{question3()=}\")"
   ]
  },
  {
   "cell_type": "code",
   "execution_count": 3,
   "metadata": {},
   "outputs": [],
   "source": [
    "def calc_order(m: int, n: int, s: int) -> int:\n",
    "    order = 0\n",
    "    # 積のm行目のm列ごとに2n個の値を読み出す\n",
    "    if s < n + n:\n",
    "        for _ in range(m):\n",
    "            order += m * 2 * n\n",
    "    # しかし、n+m <= s の場合は、Aのm行目の値はメモリから溢れないので、1度の読み込みで良い\n",
    "    elif n + n <= s < n + m * n:\n",
    "        for _ in range(m):\n",
    "            order += n + m * n\n",
    "    # 更に、Aのm行目とBの全要素を覚えてもまだ余裕がある場合、Bについても1度の読み込みで良い\n",
    "    elif n + m * n <= s:\n",
    "        order = m * n + m * n\n",
    "\n",
    "    return order\n",
    "\n",
    "\n",
    "expected4_1 = 3 * 3 * (2 + 2)\n",
    "actual4_1 = calc_order(3, 2, 1)\n",
    "assert expected4_1 == actual4_1, print(f\"{expected4_1=}, {actual4_1=}\")\n",
    "\n",
    "expected4_2 = 3 * 3 * (2 + 2) - 3 * (2 * (3 - 1))\n",
    "actual4_2 = calc_order(3, 2, 4)\n",
    "assert expected4_2 == actual4_2, print(f\"{expected4_2=}, {actual4_2=}\")\n",
    "\n",
    "expected4_3 = 3 * 2 + 2 * 3\n",
    "actual4_3 = calc_order(3, 2, 8)\n",
    "assert expected4_3 == actual4_3, print(f\"{expected4_3=}, {actual4_3=}\")"
   ]
  },
  {
   "cell_type": "markdown",
   "metadata": {},
   "source": [
    "## 問5\n",
    "\n",
    "1. u\n",
    "2. p\n",
    "3. v\n",
    "4. p\n",
    "5. w\n",
    "6. p\n"
   ]
  },
  {
   "cell_type": "code",
   "execution_count": null,
   "metadata": {},
   "outputs": [],
   "source": []
  }
 ],
 "metadata": {
  "kernelspec": {
   "display_name": ".venv",
   "language": "python",
   "name": "python3"
  },
  "language_info": {
   "codemirror_mode": {
    "name": "ipython",
    "version": 3
   },
   "file_extension": ".py",
   "mimetype": "text/x-python",
   "name": "python",
   "nbconvert_exporter": "python",
   "pygments_lexer": "ipython3",
   "version": "3.12.3"
  }
 },
 "nbformat": 4,
 "nbformat_minor": 2
}
