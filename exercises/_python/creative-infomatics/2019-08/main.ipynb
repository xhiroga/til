{
 "cells": [
  {
   "cell_type": "code",
   "execution_count": 1,
   "metadata": {},
   "outputs": [],
   "source": [
    "DICT = \"ABCDEFGHIJKLMNOPQRSTUVWXYZ\" + \"abcdefghijklmnopqrstuvwxyz\" + \"0123456789\" + \"@#\"\n",
    "\n",
    "\n",
    "def decode_text(text: str) -> str:\n",
    "    decoded = \"\"\n",
    "    for char in list(text):\n",
    "        index = DICT.index(char)\n",
    "        decoded += format(index, \"b\").zfill(6)\n",
    "\n",
    "    return decoded"
   ]
  },
  {
   "cell_type": "code",
   "execution_count": 2,
   "metadata": {},
   "outputs": [],
   "source": [
    "expected = \"000000\" + \"000001\" + \"000010\"\n",
    "actual = decode_text(\"ABC\")\n",
    "assert actual == expected"
   ]
  },
  {
   "cell_type": "code",
   "execution_count": 3,
   "metadata": {},
   "outputs": [],
   "source": [
    "expected = \"000111\" + \"111110\" + \"111111\"\n",
    "actual = decode_text(\"H@#\")\n",
    "assert actual == expected"
   ]
  },
  {
   "cell_type": "code",
   "execution_count": 4,
   "metadata": {},
   "outputs": [],
   "source": [
    "def read_line(file_name: str) -> str:\n",
    "    with open(file_name, \"r\") as f:\n",
    "        return f.readline().strip()"
   ]
  },
  {
   "cell_type": "code",
   "execution_count": 5,
   "metadata": {},
   "outputs": [
    {
     "name": "stdout",
     "output_type": "stream",
     "text": [
      "decoded[310:320]='0010100011'\n"
     ]
    }
   ],
   "source": [
    "def question1():\n",
    "    text = read_line(\"data/data1_test.txt\")\n",
    "    decoded = decode_text(text)\n",
    "    print(f\"{decoded[310:320]=}\")\n",
    "\n",
    "\n",
    "question1()"
   ]
  },
  {
   "cell_type": "code",
   "execution_count": 6,
   "metadata": {},
   "outputs": [],
   "source": [
    "def unpack(bits: str) -> str:\n",
    "    decoded = \"\"\n",
    "    i = 0\n",
    "    while True:\n",
    "        if len(bits) <= i:\n",
    "            break\n",
    "\n",
    "        byte = bits[i : i + 8]\n",
    "        if byte != \"00000000\":\n",
    "            decoded += byte\n",
    "            i += 8\n",
    "        else:\n",
    "            p_byte, d_byte = bits[i + 8 : i + 16], bits[i + 16 : i + 24]\n",
    "            print(f\"{p_byte=}, {d_byte=}\")\n",
    "            if d_byte == \"00000000\":\n",
    "                decoded += \"00000000\"\n",
    "            else:\n",
    "                p, d = int(p_byte, 2), int(d_byte, 2)\n",
    "                prev = \"\"\n",
    "                if p - d + 1 == 1:\n",
    "                    prev = decoded[-p * 8 :]\n",
    "                else:\n",
    "                    prev = decoded[-p * 8 : -(p - d) * 8]\n",
    "                print(f\"{p=}, {d=}, {prev=}\")\n",
    "                decoded += prev\n",
    "            i += 24\n",
    "\n",
    "    return decoded"
   ]
  },
  {
   "cell_type": "code",
   "execution_count": 7,
   "metadata": {},
   "outputs": [],
   "source": [
    "def h2b(hex: str) -> str:\n",
    "    digits = len(hex) * 4\n",
    "    return format(int(hex, 16), \"b\").lstrip(\"0b\").zfill(digits)"
   ]
  },
  {
   "cell_type": "code",
   "execution_count": 8,
   "metadata": {},
   "outputs": [],
   "source": [
    "def b2h(bits: str) -> str:\n",
    "    if bits == \"\":\n",
    "        return bits\n",
    "    return {format(int(bits, 2), \"x\")}"
   ]
  },
  {
   "cell_type": "code",
   "execution_count": 9,
   "metadata": {},
   "outputs": [],
   "source": [
    "assert h2b(\"00\") == \"00000000\"\n",
    "assert h2b(\"FF\") == \"11111111\"\n",
    "assert h2b(\"EEEE\") == \"1110111011101110\""
   ]
  },
  {
   "cell_type": "code",
   "execution_count": 10,
   "metadata": {},
   "outputs": [],
   "source": [
    "expected = h2b(\"112233\")\n",
    "actual = unpack(h2b(\"112233\"))\n",
    "assert actual == expected"
   ]
  },
  {
   "cell_type": "code",
   "execution_count": 11,
   "metadata": {},
   "outputs": [
    {
     "name": "stdout",
     "output_type": "stream",
     "text": [
      "p_byte='00000110', d_byte='00000101'\n",
      "p=6, d=5, prev='0100001001000011010001000100010101000110'\n",
      "b2h(actual)={'41424344454647424344454648'}, b2h(expected)={'41424344454647424344454648'}\n"
     ]
    }
   ],
   "source": [
    "expected = h2b(\"41424344454647424344454648\")\n",
    "actual = unpack(h2b(\"4142434445464700060548\"))\n",
    "print(f\"{b2h(actual)=}, {b2h(expected)=}\")\n",
    "assert actual == expected"
   ]
  },
  {
   "cell_type": "code",
   "execution_count": 12,
   "metadata": {},
   "outputs": [],
   "source": [
    "from collections import defaultdict\n",
    "\n",
    "\n",
    "def wrap_encrypt_dp(bits: str) -> str:\n",
    "    # NOTE: dpオブジェクトをセルのスコープに置くと、前回のループの状態を引き継いでしまう!!!\n",
    "    dp = defaultdict(lambda: None)\n",
    "    dp[0] = \"\"\n",
    "\n",
    "    def encrypt_dp(bits: str) -> str:\n",
    "        if dp[len(bits)] is not None:\n",
    "            return dp[len(bits)]\n",
    "\n",
    "        if len(bits) < 64:\n",
    "            dp[len(bits)] = bits\n",
    "            return bits\n",
    "\n",
    "        best_encryption = None\n",
    "        for 複製探索中の右端 in range(len(bits), 63, -8):\n",
    "            for 複製探索中のbit数 in range(32, min(複製探索中の右端, 256 * 8), 8):\n",
    "                # 非常に細かいことを言うと、通常は圧縮してお得になるのは4Byteからだが、0x00が含まれる場合は2Byteからお得になる\n",
    "                # しかし時間制限がある中で流石にそこまでケアできない\n",
    "                encrypted = bits[複製探索中の右端:].replace(\n",
    "                    \"00000000\", \"00000000\" + \"00000000\" + \"00000000\"\n",
    "                )\n",
    "                複製探索中の左端 = 複製探索中の右端 - 複製探索中のbit数\n",
    "                try:\n",
    "                    start_index = bits[0:複製探索中の左端].index(\n",
    "                        bits[複製探索中の左端:複製探索中の右端]\n",
    "                    )\n",
    "                    print(\n",
    "                        f\"{b2h(bits[0:複製探索中の左端])}, {b2h(bits[複製探索中の左端:複製探索中の右端])}, {b2h(bits[複製探索中の右端:])}, Found\"\n",
    "                    )\n",
    "                    返るbit数 = 複製探索中の左端 - start_index\n",
    "                    p_bit = format(返るbit数 // 8, \"b\").lstrip(\"0b\").zfill(8)\n",
    "                    d_bit = format(複製探索中のbit数 // 8, \"b\").lstrip(\"0b\").zfill(8)\n",
    "                    encrypted = (\n",
    "                        encrypt_dp(bits[0:複製探索中の左端])\n",
    "                        + \"00000000\"\n",
    "                        + p_bit\n",
    "                        + d_bit\n",
    "                        + encrypted\n",
    "                    )\n",
    "                    print(\n",
    "                        f\"{b2h(bits[0:複製探索中の左端])}, {b2h(bits[複製探索中の左端:複製探索中の右端])}, {b2h(bits[複製探索中の右端:])}, {b2h(encrypted)=}\"\n",
    "                    )\n",
    "                except ValueError:\n",
    "                    print(\n",
    "                        f\"{b2h(bits[0:複製探索中の左端])}, {b2h(bits[複製探索中の左端:複製探索中の右端])}, {b2h(bits[複製探索中の右端:])}, NotFound\"\n",
    "                    )\n",
    "                    encrypted = (\n",
    "                        bits[0:複製探索中の右端].replace(\n",
    "                            \"00000000\", \"00000000\" + \"00000000\" + \"00000000\"\n",
    "                        )\n",
    "                        + encrypted\n",
    "                    )\n",
    "                except TypeError as e:\n",
    "                    print(e)\n",
    "                finally:\n",
    "                    if best_encryption is None or len(encrypted) < len(best_encryption):\n",
    "                        best_encryption = encrypted\n",
    "\n",
    "        dp[len(bits)] = best_encryption\n",
    "        return best_encryption\n",
    "\n",
    "    return encrypt_dp(bits)"
   ]
  },
  {
   "cell_type": "code",
   "execution_count": 13,
   "metadata": {},
   "outputs": [],
   "source": [
    "expected = h2b(\"00\")\n",
    "actual = wrap_encrypt_dp(h2b(\"00\"))\n",
    "assert actual == expected"
   ]
  },
  {
   "cell_type": "code",
   "execution_count": 14,
   "metadata": {},
   "outputs": [
    {
     "name": "stdout",
     "output_type": "stream",
     "text": [
      "{'11223344'}, {'11223344'}, , Found\n",
      "{'11223344'}, {'11223344'}, , b2h(encrypted)={'11223344000404'}\n",
      "{'112233'}, {'4411223344'}, , NotFound\n",
      "{'1122'}, {'334411223344'}, , NotFound\n",
      "{'11'}, {'22334411223344'}, , NotFound\n",
      "b2h(actual)={'11223344000404'}, b2h(expected)={'11223344000404'}\n"
     ]
    }
   ],
   "source": [
    "expected = h2b(\"11223344000404\")\n",
    "actual = wrap_encrypt_dp(h2b(\"1122334411223344\"))\n",
    "print(f\"{b2h(actual)=}, {b2h(expected)=}\")\n",
    "assert actual == expected"
   ]
  },
  {
   "cell_type": "code",
   "execution_count": 16,
   "metadata": {},
   "outputs": [
    {
     "name": "stdout",
     "output_type": "stream",
     "text": [
      "{'414243444546474243'}, {'44454648'}, , NotFound\n",
      "{'4142434445464742'}, {'4344454648'}, , NotFound\n",
      "{'41424344454647'}, {'424344454648'}, , NotFound\n",
      "{'414243444546'}, {'47424344454648'}, , NotFound\n",
      "{'4142434445'}, {'4647424344454648'}, , NotFound\n",
      "{'41424344'}, {'454647424344454648'}, , NotFound\n",
      "{'414243'}, {'44454647424344454648'}, , NotFound\n",
      "{'4142'}, {'4344454647424344454648'}, , NotFound\n",
      "{'41'}, {'424344454647424344454648'}, , NotFound\n",
      "{'4142434445464742'}, {'43444546'}, {'48'}, Found\n",
      "{'41424344'}, {'45464742'}, , NotFound\n",
      "{'414243'}, {'4445464742'}, , NotFound\n",
      "{'4142'}, {'434445464742'}, , NotFound\n",
      "{'41'}, {'42434445464742'}, , NotFound\n",
      "{'4142434445464742'}, {'43444546'}, {'48'}, b2h(encrypted)={'414243444546474200060448'}\n",
      "{'41424344454647'}, {'4243444546'}, {'48'}, Found\n",
      "{'41424344454647'}, {'4243444546'}, {'48'}, b2h(encrypted)={'4142434445464700060548'}\n",
      "{'414243444546'}, {'474243444546'}, {'48'}, NotFound\n",
      "{'4142434445'}, {'46474243444546'}, {'48'}, NotFound\n",
      "{'41424344'}, {'4546474243444546'}, {'48'}, NotFound\n",
      "{'414243'}, {'444546474243444546'}, {'48'}, NotFound\n",
      "{'4142'}, {'43444546474243444546'}, {'48'}, NotFound\n",
      "{'41'}, {'4243444546474243444546'}, {'48'}, NotFound\n",
      "{'41424344454647'}, {'42434445'}, {'4648'}, Found\n",
      "{'41424344454647'}, {'42434445'}, {'4648'}, b2h(encrypted)={'414243444546470006044648'}\n",
      "{'414243444546'}, {'4742434445'}, {'4648'}, NotFound\n",
      "{'4142434445'}, {'464742434445'}, {'4648'}, NotFound\n",
      "{'41424344'}, {'45464742434445'}, {'4648'}, NotFound\n",
      "{'414243'}, {'4445464742434445'}, {'4648'}, NotFound\n",
      "{'4142'}, {'434445464742434445'}, {'4648'}, NotFound\n",
      "{'41'}, {'42434445464742434445'}, {'4648'}, NotFound\n",
      "{'414243444546'}, {'47424344'}, {'454648'}, NotFound\n",
      "{'4142434445'}, {'4647424344'}, {'454648'}, NotFound\n",
      "{'41424344'}, {'454647424344'}, {'454648'}, NotFound\n",
      "{'414243'}, {'44454647424344'}, {'454648'}, NotFound\n",
      "{'4142'}, {'4344454647424344'}, {'454648'}, NotFound\n",
      "{'41'}, {'424344454647424344'}, {'454648'}, NotFound\n",
      "{'4142434445'}, {'46474243'}, {'44454648'}, NotFound\n",
      "{'41424344'}, {'4546474243'}, {'44454648'}, NotFound\n",
      "{'414243'}, {'444546474243'}, {'44454648'}, NotFound\n",
      "{'4142'}, {'43444546474243'}, {'44454648'}, NotFound\n",
      "{'41'}, {'4243444546474243'}, {'44454648'}, NotFound\n",
      "{'41424344'}, {'45464742'}, {'4344454648'}, NotFound\n",
      "{'414243'}, {'4445464742'}, {'4344454648'}, NotFound\n",
      "{'4142'}, {'434445464742'}, {'4344454648'}, NotFound\n",
      "{'41'}, {'42434445464742'}, {'4344454648'}, NotFound\n"
     ]
    }
   ],
   "source": [
    "expected = h2b(\"4142434445464700060548\")\n",
    "actual = wrap_encrypt_dp(h2b(\"41424344454647424344454648\"))\n",
    "assert actual == expected"
   ]
  },
  {
   "cell_type": "code",
   "execution_count": null,
   "metadata": {},
   "outputs": [],
   "source": []
  }
 ],
 "metadata": {
  "kernelspec": {
   "display_name": ".venv",
   "language": "python",
   "name": "python3"
  },
  "language_info": {
   "codemirror_mode": {
    "name": "ipython",
    "version": 3
   },
   "file_extension": ".py",
   "mimetype": "text/x-python",
   "name": "python",
   "nbconvert_exporter": "python",
   "pygments_lexer": "ipython3",
   "version": "3.12.3"
  }
 },
 "nbformat": 4,
 "nbformat_minor": 2
}
