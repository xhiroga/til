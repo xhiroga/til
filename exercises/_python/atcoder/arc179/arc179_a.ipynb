{
 "cells": [
  {
   "cell_type": "code",
   "execution_count": 57,
   "metadata": {},
   "outputs": [],
   "source": [
    "def func(_: int, k: int, a: list[int]):\n",
    "    sum_all = sum(a)\n",
    "    if k <= 0:\n",
    "        if k <= sum_all:\n",
    "            return f\"Yes\\n{' '.join([str(i) for i in sorted(a, reverse=True)])}\"\n",
    "        else:\n",
    "            return \"No\"\n",
    "    else:\n",
    "        return f\"Yes\\n{' '.join([str(i) for i in sorted(a)])}\""
   ]
  },
  {
   "cell_type": "code",
   "execution_count": 58,
   "metadata": {},
   "outputs": [],
   "source": [
    "def parse() -> tuple[int, int, list[int]]:\n",
    "    n, k = (int(num) for num in input().split(\" \"))\n",
    "    a = [int(num) for num in input().split(\" \")]\n",
    "    return (n, k, a)"
   ]
  },
  {
   "cell_type": "code",
   "execution_count": 59,
   "metadata": {},
   "outputs": [],
   "source": [
    "from unittest.mock import patch"
   ]
  },
  {
   "cell_type": "code",
   "execution_count": 65,
   "metadata": {},
   "outputs": [
    {
     "name": "stdout",
     "output_type": "stream",
     "text": [
      "Yes\n",
      "-3 -1 2 4\n"
     ]
    }
   ],
   "source": [
    "with patch(\"builtins.input\", side_effect=[\"4 1\", \"-1 2 -3 4\"]):\n",
    "    expected = \"Yes\\n-3 -1 2 4\"\n",
    "    n, k, a = parse()\n",
    "    actual = func(n, k, a)\n",
    "    print(actual)\n",
    "    assert expected == actual"
   ]
  },
  {
   "cell_type": "code",
   "execution_count": 61,
   "metadata": {},
   "outputs": [
    {
     "name": "stdout",
     "output_type": "stream",
     "text": [
      "No\n"
     ]
    }
   ],
   "source": [
    "with patch(\"builtins.input\", side_effect=[\"4 -1\", \"1 -2 3 -4\"]):\n",
    "    expected = \"No\"\n",
    "    n, k, a = parse()\n",
    "    actual = func(n, k, a)\n",
    "    print(actual)\n",
    "    assert expected == actual"
   ]
  },
  {
   "cell_type": "code",
   "execution_count": 62,
   "metadata": {},
   "outputs": [
    {
     "name": "stdout",
     "output_type": "stream",
     "text": [
      "No\n"
     ]
    }
   ],
   "source": [
    "with patch(\"builtins.input\", side_effect=[\"1 0\", \"-1\"]):\n",
    "    expected = \"No\"\n",
    "    n, k, a = parse()\n",
    "    actual = func(n, k, a)\n",
    "    print(actual)\n",
    "    assert expected == actual"
   ]
  },
  {
   "cell_type": "code",
   "execution_count": 63,
   "metadata": {},
   "outputs": [
    {
     "name": "stdout",
     "output_type": "stream",
     "text": [
      "Yes\n",
      "0\n"
     ]
    }
   ],
   "source": [
    "with patch(\"builtins.input\", side_effect=[\"1 0\", \"0\"]):\n",
    "    expected = \"Yes\\n0\"\n",
    "    n, k, a = parse()\n",
    "    actual = func(n, k, a)\n",
    "    print(actual)\n",
    "    assert expected == actual"
   ]
  },
  {
   "cell_type": "code",
   "execution_count": null,
   "metadata": {},
   "outputs": [],
   "source": []
  }
 ],
 "metadata": {
  "kernelspec": {
   "display_name": ".venv",
   "language": "python",
   "name": "python3"
  },
  "language_info": {
   "codemirror_mode": {
    "name": "ipython",
    "version": 3
   },
   "file_extension": ".py",
   "mimetype": "text/x-python",
   "name": "python",
   "nbconvert_exporter": "python",
   "pygments_lexer": "ipython3",
   "version": "3.12.3"
  }
 },
 "nbformat": 4,
 "nbformat_minor": 2
}
