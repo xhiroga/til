{
 "cells": [
  {
   "cell_type": "code",
   "execution_count": 3,
   "metadata": {},
   "outputs": [
    {
     "name": "stdout",
     "output_type": "stream",
     "text": [
      "env: PYTHON_LOGLEVEL=DEBUG\n"
     ]
    }
   ],
   "source": [
    "%env PYTHON_LOGLEVEL=DEBUG"
   ]
  },
  {
   "cell_type": "code",
   "execution_count": null,
   "metadata": {},
   "outputs": [],
   "source": [
    "from logging import getLogger, StreamHandler, WARNING\n",
    "import os\n",
    "\n",
    "PYTHON_LOGLEVEL = os.environ.get(\"PYTHON_LOGLEVEL\", WARNING)\n",
    "logger = getLogger(__name__)\n",
    "handler = StreamHandler()\n",
    "handler.setLevel(PYTHON_LOGLEVEL)\n",
    "logger.setLevel(PYTHON_LOGLEVEL)\n",
    "logger.addHandler(handler)\n",
    "logger.propagate = False"
   ]
  },
  {
   "cell_type": "code",
   "execution_count": 4,
   "metadata": {},
   "outputs": [],
   "source": [
    "from collections import defaultdict\n",
    "\n",
    "\n",
    "def portable_gate(_: int, edges: list[tuple[int, int]]):\n",
    "    # 0. （これから何度も探索するので）木を表で持つ\n",
    "    # 1. グラフの任意のパスから深さ優先探索を行い、最も深い点を探す\n",
    "    # 2. 最も深い点から再度、深さ優先探索を行う\n",
    "    # 3. スタックに訪問する点を積む際、積んだあとにPopまたは探索終了になる点を分岐点と呼ぶ\n",
    "    # 4. 分岐点に対して動的計画法でコストの良いパターンを探す\n",
    "\n",
    "    tree = defaultdict(lambda: defaultdict(lambda: False))\n",
    "    for u, v in edges:\n",
    "        tree[u][v] = True\n",
    "        tree[v][u] = True\n",
    "    logger.debug(f\"{tree=}\")"
   ]
  },
  {
   "cell_type": "code",
   "execution_count": 5,
   "metadata": {},
   "outputs": [],
   "source": [
    "def parse() -> tuple[int, list[tuple[int, int]]]:\n",
    "    n = int(input())\n",
    "    pairs = []\n",
    "    while True:\n",
    "        line = input()\n",
    "        if not line:\n",
    "            break\n",
    "        pair = tuple(map(int, line.split()))\n",
    "        pairs.append(pair)\n",
    "    return (n, pairs)"
   ]
  },
  {
   "cell_type": "code",
   "execution_count": 6,
   "metadata": {},
   "outputs": [],
   "source": [
    "from unittest.mock import patch"
   ]
  },
  {
   "cell_type": "code",
   "execution_count": 7,
   "metadata": {},
   "outputs": [
    {
     "name": "stderr",
     "output_type": "stream",
     "text": [
      "tree=defaultdict(<function portable_gate.<locals>.<lambda> at 0x10aa63740>, {1: defaultdict(<function portable_gate.<locals>.<lambda>.<locals>.<lambda> at 0x10aa63600>, {2: True, 3: True, 4: True}), 2: defaultdict(<function portable_gate.<locals>.<lambda>.<locals>.<lambda> at 0x10aa63c40>, {1: True}), 3: defaultdict(<function portable_gate.<locals>.<lambda>.<locals>.<lambda> at 0x10aa63b00>, {1: True}), 4: defaultdict(<function portable_gate.<locals>.<lambda>.<locals>.<lambda> at 0x10aa639c0>, {1: True})})\n"
     ]
    },
    {
     "name": "stdout",
     "output_type": "stream",
     "text": [
      "None\n"
     ]
    },
    {
     "ename": "AssertionError",
     "evalue": "",
     "output_type": "error",
     "traceback": [
      "\u001b[0;31m---------------------------------------------------------------------------\u001b[0m",
      "\u001b[0;31mAssertionError\u001b[0m                            Traceback (most recent call last)",
      "Cell \u001b[0;32mIn[7], line 6\u001b[0m\n\u001b[1;32m      4\u001b[0m actual \u001b[38;5;241m=\u001b[39m portable_gate(n, edges)\n\u001b[1;32m      5\u001b[0m \u001b[38;5;28mprint\u001b[39m(actual)\n\u001b[0;32m----> 6\u001b[0m \u001b[38;5;28;01massert\u001b[39;00m expected \u001b[38;5;241m==\u001b[39m actual\n",
      "\u001b[0;31mAssertionError\u001b[0m: "
     ]
    }
   ],
   "source": [
    "with patch(\"builtins.input\", side_effect=[\"4\", \"1 2\", \"1 3\", \"1 4\", None]):\n",
    "    expected = \"3\"\n",
    "    n, edges = parse()\n",
    "    actual = portable_gate(n, edges)\n",
    "    print(actual)\n",
    "    assert expected == actual"
   ]
  },
  {
   "cell_type": "code",
   "execution_count": null,
   "metadata": {},
   "outputs": [],
   "source": []
  }
 ],
 "metadata": {
  "kernelspec": {
   "display_name": ".venv",
   "language": "python",
   "name": "python3"
  },
  "language_info": {
   "codemirror_mode": {
    "name": "ipython",
    "version": 3
   },
   "file_extension": ".py",
   "mimetype": "text/x-python",
   "name": "python",
   "nbconvert_exporter": "python",
   "pygments_lexer": "ipython3",
   "version": "3.12.3"
  }
 },
 "nbformat": 4,
 "nbformat_minor": 2
}
