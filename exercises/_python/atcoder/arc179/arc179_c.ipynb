{
 "cells": [
  {
   "cell_type": "code",
   "execution_count": 4,
   "metadata": {},
   "outputs": [],
   "source": [
    "from collections import defaultdict\n",
    "from logging import basicConfig, root, DEBUG, WARNING\n",
    "\n",
    "basicConfig(level=DEBUG if \"get_ipython\" in globals() else WARNING)\n",
    "\n",
    "\n",
    "def portable_gate(_: int, edges: list[tuple[int, int]]) -> None:\n",
    "    # 0. （これから何度も探索するので）木を表で持つ\n",
    "    # 1. グラフの任意のパスから深さ優先探索を行い、最も深い点を探す\n",
    "    # 2. 最も深い点から再度、深さ優先探索を行う\n",
    "    # 3. スタックに訪問する点を積む際、積んだあとにPopまたは探索終了になる点を分岐点と呼ぶ\n",
    "    # 4. 分岐点に対して動的計画法でコストの良いパターンを探す\n",
    "\n",
    "    tree: defaultdict[int, defaultdict[int, int]] = defaultdict(\n",
    "        lambda: defaultdict(lambda: False)\n",
    "    )\n",
    "    for u, v in edges:\n",
    "        tree[u][v] = True\n",
    "        tree[v][u] = True\n",
    "    root.debug(f\"{tree=}\")"
   ]
  },
  {
   "cell_type": "code",
   "execution_count": 7,
   "metadata": {},
   "outputs": [],
   "source": [
    "def parse() -> tuple[int, list[tuple[int, int]]]:\n",
    "    n = int(input())\n",
    "    pairs = []\n",
    "    while True:\n",
    "        line = input()\n",
    "        if not line:\n",
    "            break\n",
    "        pair = tuple(map(int, line.split()))\n",
    "        pairs.append(pair)\n",
    "    return (n, pairs)  # type: ignore"
   ]
  },
  {
   "cell_type": "code",
   "execution_count": null,
   "metadata": {},
   "outputs": [],
   "source": [
    "from unittest.mock import patch\n",
    "\n",
    "with patch(\"builtins.input\", side_effect=[\"4\", \"1 2\", \"1 3\", \"1 4\", None]):\n",
    "    expected = \"3\"\n",
    "    n, edges = parse()\n",
    "    actual = portable_gate(n, edges)\n",
    "    print(actual)\n",
    "    assert expected == actual"
   ]
  },
  {
   "cell_type": "code",
   "execution_count": null,
   "metadata": {},
   "outputs": [],
   "source": []
  }
 ],
 "metadata": {
  "kernelspec": {
   "display_name": ".venv",
   "language": "python",
   "name": "python3"
  },
  "language_info": {
   "codemirror_mode": {
    "name": "ipython",
    "version": 3
   },
   "file_extension": ".py",
   "mimetype": "text/x-python",
   "name": "python",
   "nbconvert_exporter": "python",
   "pygments_lexer": "ipython3",
   "version": "3.12.3"
  }
 },
 "nbformat": 4,
 "nbformat_minor": 2
}
