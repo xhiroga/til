{
 "cells": [
  {
   "cell_type": "code",
   "execution_count": 2,
   "metadata": {},
   "outputs": [],
   "source": [
    "from functools import lru_cache\n",
    "from logging import basicConfig, root, DEBUG, WARNING\n",
    "\n",
    "basicConfig(level=DEBUG if \"get_ipython\" in globals() else WARNING)\n",
    "invincible_hands = {\"R\": [\"R\", \"P\"], \"S\": [\"S\", \"R\"], \"P\": [\"P\", \"S\"]}\n",
    "\n",
    "\n",
    "def atcoder_janken3() -> int:\n",
    "    _ = int(input())\n",
    "    enemy_hands = input()\n",
    "\n",
    "    @lru_cache\n",
    "    def max_win(i: int, next_hand: str) -> int:\n",
    "        if i == -1:\n",
    "            return 0\n",
    "\n",
    "        enemy_hand = enemy_hands[i]\n",
    "        valid_hands = [\n",
    "            hand for hand in invincible_hands[enemy_hand] if hand != next_hand\n",
    "        ]\n",
    "        root.debug(f\"{enemy_hand=}, {valid_hands=}\")\n",
    "\n",
    "        won = max(\n",
    "            [\n",
    "                max_win(i - 1, hand) + (1 if hand != enemy_hand else 0)\n",
    "                for hand in valid_hands\n",
    "            ]\n",
    "        )\n",
    "        root.debug(f\"{enemy_hand=}, {valid_hands=}, {won=}\")\n",
    "        return won\n",
    "\n",
    "    return max_win(len(enemy_hands) - 1, None)"
   ]
  },
  {
   "cell_type": "code",
   "execution_count": 3,
   "metadata": {},
   "outputs": [
    {
     "name": "stderr",
     "output_type": "stream",
     "text": [
      "DEBUG:root:enemy_hand='S', valid_hands=['S', 'R']\n",
      "DEBUG:root:enemy_hand='R', valid_hands=['R', 'P']\n",
      "DEBUG:root:enemy_hand='S', valid_hands=['S']\n",
      "DEBUG:root:enemy_hand='S', valid_hands=['R']\n",
      "DEBUG:root:enemy_hand='R', valid_hands=['P']\n",
      "DEBUG:root:enemy_hand='P', valid_hands=['S']\n",
      "DEBUG:root:enemy_hand='P', valid_hands=['S'], won=1\n",
      "DEBUG:root:enemy_hand='R', valid_hands=['P'], won=2\n",
      "DEBUG:root:enemy_hand='S', valid_hands=['R'], won=3\n",
      "DEBUG:root:enemy_hand='S', valid_hands=['S'], won=3\n",
      "DEBUG:root:enemy_hand='S', valid_hands=['S', 'R']\n",
      "DEBUG:root:enemy_hand='S', valid_hands=['S']\n",
      "DEBUG:root:enemy_hand='R', valid_hands=['R', 'P']\n",
      "DEBUG:root:enemy_hand='P', valid_hands=['P', 'S']\n",
      "DEBUG:root:enemy_hand='P', valid_hands=['P', 'S'], won=1\n",
      "DEBUG:root:enemy_hand='R', valid_hands=['R', 'P'], won=2\n",
      "DEBUG:root:enemy_hand='S', valid_hands=['S'], won=2\n",
      "DEBUG:root:enemy_hand='S', valid_hands=['S', 'R'], won=3\n",
      "DEBUG:root:enemy_hand='R', valid_hands=['R', 'P'], won=4\n",
      "DEBUG:root:enemy_hand='R', valid_hands=['P']\n",
      "DEBUG:root:enemy_hand='R', valid_hands=['P'], won=4\n",
      "DEBUG:root:enemy_hand='S', valid_hands=['S', 'R'], won=5\n"
     ]
    },
    {
     "name": "stdout",
     "output_type": "stream",
     "text": [
      "5\n"
     ]
    }
   ],
   "source": [
    "from unittest.mock import patch\n",
    "\n",
    "with patch(\n",
    "    \"builtins.input\",\n",
    "    side_effect=\"\"\"\\\n",
    "6\n",
    "PRSSRS\n",
    "\"\"\".splitlines(),\n",
    "):\n",
    "    expected = 5\n",
    "    actual = atcoder_janken3()\n",
    "    print(actual)\n",
    "    assert expected == actual, print(f\"{expected=}, {actual=}\")"
   ]
  },
  {
   "cell_type": "code",
   "execution_count": null,
   "metadata": {},
   "outputs": [],
   "source": []
  }
 ],
 "metadata": {
  "kernelspec": {
   "display_name": ".venv",
   "language": "python",
   "name": "python3"
  },
  "language_info": {
   "codemirror_mode": {
    "name": "ipython",
    "version": 3
   },
   "file_extension": ".py",
   "mimetype": "text/x-python",
   "name": "python",
   "nbconvert_exporter": "python",
   "pygments_lexer": "ipython3",
   "version": "3.12.3"
  }
 },
 "nbformat": 4,
 "nbformat_minor": 2
}
