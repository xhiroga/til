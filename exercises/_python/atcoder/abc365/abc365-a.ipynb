{
 "cells": [
  {
   "cell_type": "code",
   "execution_count": 1,
   "metadata": {},
   "outputs": [],
   "source": [
    "def leap_year() -> int:\n",
    "    year = int(input())\n",
    "    if year % 4 == 0 and (year % 100 != 0 or year % 400 == 0):\n",
    "        return 366\n",
    "    else:\n",
    "        return 365"
   ]
  },
  {
   "cell_type": "code",
   "execution_count": 2,
   "metadata": {},
   "outputs": [
    {
     "name": "stdout",
     "output_type": "stream",
     "text": [
      "365\n"
     ]
    }
   ],
   "source": [
    "from unittest.mock import patch\n",
    "\n",
    "with patch(\n",
    "    \"builtins.input\",\n",
    "    side_effect=[\"2023\"],\n",
    "):\n",
    "    expected = 365\n",
    "    actual = leap_year()\n",
    "    print(actual)\n",
    "    assert expected == actual, print(f\"{expected=}, {actual=}\")"
   ]
  },
  {
   "cell_type": "code",
   "execution_count": 3,
   "metadata": {},
   "outputs": [
    {
     "name": "stdout",
     "output_type": "stream",
     "text": [
      "366\n"
     ]
    }
   ],
   "source": [
    "from unittest.mock import patch\n",
    "\n",
    "with patch(\n",
    "    \"builtins.input\",\n",
    "    side_effect=[\"1992\"],\n",
    "):\n",
    "    expected = 366\n",
    "    actual = leap_year()\n",
    "    print(actual)\n",
    "    assert expected == actual, print(f\"{expected=}, {actual=}\")"
   ]
  },
  {
   "cell_type": "code",
   "execution_count": null,
   "metadata": {},
   "outputs": [],
   "source": []
  }
 ],
 "metadata": {
  "kernelspec": {
   "display_name": ".venv",
   "language": "python",
   "name": "python3"
  },
  "language_info": {
   "codemirror_mode": {
    "name": "ipython",
    "version": 3
   },
   "file_extension": ".py",
   "mimetype": "text/x-python",
   "name": "python",
   "nbconvert_exporter": "python",
   "pygments_lexer": "ipython3",
   "version": "3.12.3"
  }
 },
 "nbformat": 4,
 "nbformat_minor": 2
}
