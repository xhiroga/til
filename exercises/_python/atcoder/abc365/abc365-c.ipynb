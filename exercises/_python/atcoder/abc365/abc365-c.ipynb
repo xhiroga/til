{
 "cells": [
  {
   "cell_type": "code",
   "execution_count": 14,
   "metadata": {},
   "outputs": [],
   "source": [
    "from logging import basicConfig, root, DEBUG, WARNING\n",
    "\n",
    "basicConfig(level=DEBUG if \"get_ipython\" in globals() else WARNING)\n",
    "\n",
    "\n",
    "def transportation_expenses() -> int | str:\n",
    "    n, m = map(int, input().split())\n",
    "    expenses = list(map(int, input().split()))\n",
    "\n",
    "    min_expense = min(expenses)\n",
    "    steps = []\n",
    "    previous = min_expense\n",
    "    sorted_expenses = sorted(expenses)\n",
    "    for expense in sorted_expenses:\n",
    "        steps.append(expense - previous)\n",
    "        previous = expense\n",
    "\n",
    "    残り予算 = m - min_expense * n\n",
    "    if 残り予算 <= 0:\n",
    "        root.debug(f\"{n=}, {m=}, {残り予算=}\")\n",
    "        return m // n\n",
    "\n",
    "    for i, step in enumerate(steps):\n",
    "        調整中の参加者数 = n - i\n",
    "        if 残り予算 - step * 調整中の参加者数 <= 0:\n",
    "            root.debug(f\"{n=}, {m=}, {i=}, {steps=}, {残り予算=}, {調整中の参加者数=}\")\n",
    "            return min_expense + sum(steps[:i]) + 残り予算 // 調整中の参加者数\n",
    "        else:\n",
    "            残り予算 -= step * 調整中の参加者数\n",
    "\n",
    "    root.debug(f\"{n=}, {m=}, {残り予算=}\")\n",
    "    return \"infinite\""
   ]
  },
  {
   "cell_type": "markdown",
   "metadata": {},
   "source": [
    "単体テスト\n",
    "\n",
    "- [x] 1番目に近い人に合わせても予算オーバー\n",
    "  - [x] 1番目に近い人に合わせても予算ピッタリ\n",
    "  - [x] 1番目に近い人に合わせても大幅にオーバー\n",
    "- [x] i番目に近い人に合わせると予算オーバー\n",
    "  - [x] i番目に近い人に合わせると予算ピッタリ\n",
    "  - [x] i番目に近い人に合わせると大幅にオーバー\n",
    "- [x] 1番目に遠い人に合わせると予算オーバー\n",
    "  - [x] 1番目に遠い人に合わせると予算ピッタリ\n",
    "  - [x] 1番目に遠い人に合わせると大幅にオーバー\n",
    "- [x] 上限を無限に大きくできる\n",
    "\n",
    "- [x] 参加者が1名\n",
    "- [ ] 予算が1円\n",
    "  - [ ] 予算1円で支払い可能\n",
    "  - [x] 予算1円で予算オーバー\n",
    "- [x] 参加者の交通費が1円"
   ]
  },
  {
   "cell_type": "code",
   "execution_count": 15,
   "metadata": {},
   "outputs": [
    {
     "name": "stderr",
     "output_type": "stream",
     "text": [
      "DEBUG:root:n=4, m=8, i=2, steps=[0, 1, 1, 1], 残り予算=1, 調整中の参加者数=2\n"
     ]
    },
    {
     "name": "stdout",
     "output_type": "stream",
     "text": [
      "2\n"
     ]
    }
   ],
   "source": [
    "from unittest.mock import patch\n",
    "\n",
    "with patch(\n",
    "    \"builtins.input\",\n",
    "    side_effect=\"\"\"\\\n",
    "4 8\n",
    "1 3 2 4\n",
    "\"\"\".splitlines(),\n",
    "):\n",
    "    expected = 2\n",
    "    actual = transportation_expenses()\n",
    "    print(actual)\n",
    "    assert expected == actual, print(f\"{expected=}, {actual=}\")"
   ]
  },
  {
   "cell_type": "code",
   "execution_count": 16,
   "metadata": {},
   "outputs": [
    {
     "name": "stderr",
     "output_type": "stream",
     "text": [
      "DEBUG:root:n=3, m=20, 残り予算=10\n"
     ]
    },
    {
     "name": "stdout",
     "output_type": "stream",
     "text": [
      "infinite\n"
     ]
    }
   ],
   "source": [
    "from unittest.mock import patch\n",
    "\n",
    "with patch(\n",
    "    \"builtins.input\",\n",
    "    side_effect=\"\"\"\\\n",
    "3 20\n",
    "5 3 2\n",
    "\"\"\".splitlines(),\n",
    "):\n",
    "    expected = \"infinite\"\n",
    "    actual = transportation_expenses()\n",
    "    print(actual)\n",
    "    assert expected == actual, print(f\"{expected=}, {actual=}\")"
   ]
  },
  {
   "cell_type": "code",
   "execution_count": 17,
   "metadata": {},
   "outputs": [
    {
     "name": "stderr",
     "output_type": "stream",
     "text": [
      "DEBUG:root:n=10, m=23, i=4, steps=[0, 1, 0, 0, 3, 0, 1, 1, 0, 2], 残り予算=4, 調整中の参加者数=6\n"
     ]
    },
    {
     "name": "stdout",
     "output_type": "stream",
     "text": [
      "2\n"
     ]
    }
   ],
   "source": [
    "from unittest.mock import patch\n",
    "\n",
    "with patch(\n",
    "    \"builtins.input\",\n",
    "    side_effect=\"\"\"\\\n",
    "10 23\n",
    "2 5 6 5 2 1 7 9 7 2\n",
    "\"\"\".splitlines(),\n",
    "):\n",
    "    expected = 2\n",
    "    actual = transportation_expenses()\n",
    "    print(actual)\n",
    "    assert expected == actual, print(f\"{expected=}, {actual=}\")"
   ]
  },
  {
   "cell_type": "code",
   "execution_count": 18,
   "metadata": {},
   "outputs": [
    {
     "name": "stderr",
     "output_type": "stream",
     "text": [
      "DEBUG:root:n=10, m=20, i=4, steps=[0, 1, 0, 0, 3, 0, 1, 1, 0, 2], 残り予算=1, 調整中の参加者数=6\n"
     ]
    },
    {
     "name": "stdout",
     "output_type": "stream",
     "text": [
      "2\n"
     ]
    }
   ],
   "source": [
    "from unittest.mock import patch\n",
    "\n",
    "with patch(\n",
    "    \"builtins.input\",\n",
    "    side_effect=\"\"\"\\\n",
    "10 20\n",
    "2 5 6 5 2 1 7 9 7 2\n",
    "\"\"\".splitlines(),\n",
    "):\n",
    "    expected = 2\n",
    "    actual = transportation_expenses()\n",
    "    print(actual)\n",
    "    assert expected == actual, print(f\"{expected=}, {actual=}\")"
   ]
  },
  {
   "cell_type": "code",
   "execution_count": 19,
   "metadata": {},
   "outputs": [
    {
     "name": "stderr",
     "output_type": "stream",
     "text": [
      "DEBUG:root:n=3, m=20000000, i=1, steps=[0, 9999999, 99990000000], 残り予算=19999997, 調整中の参加者数=2\n"
     ]
    },
    {
     "name": "stdout",
     "output_type": "stream",
     "text": [
      "9999999\n"
     ]
    }
   ],
   "source": [
    "from unittest.mock import patch\n",
    "\n",
    "with patch(\n",
    "    \"builtins.input\",\n",
    "    side_effect=\"\"\"\\\n",
    "3 20000000\n",
    "1 10000000 100000000000\n",
    "\"\"\".splitlines(),\n",
    "):\n",
    "    expected = 9999999\n",
    "    actual = transportation_expenses()\n",
    "    print(actual)\n",
    "    assert expected == actual, print(f\"{expected=}, {actual=}\")"
   ]
  },
  {
   "cell_type": "code",
   "execution_count": 20,
   "metadata": {},
   "outputs": [
    {
     "name": "stderr",
     "output_type": "stream",
     "text": [
      "DEBUG:root:n=4, m=24, i=2, steps=[0, 0, 4, 0], 残り予算=8, 調整中の参加者数=2\n"
     ]
    },
    {
     "name": "stdout",
     "output_type": "stream",
     "text": [
      "8\n"
     ]
    }
   ],
   "source": [
    "from unittest.mock import patch\n",
    "\n",
    "with patch(\n",
    "    \"builtins.input\",\n",
    "    side_effect=\"\"\"\\\n",
    "4 24\n",
    "4 4 8 8\n",
    "\"\"\".splitlines(),\n",
    "):\n",
    "    expected = 8\n",
    "    actual = transportation_expenses()\n",
    "    print(actual)\n",
    "    assert expected == actual, print(f\"{expected=}, {actual=}\")"
   ]
  },
  {
   "cell_type": "code",
   "execution_count": 21,
   "metadata": {},
   "outputs": [
    {
     "name": "stderr",
     "output_type": "stream",
     "text": [
      "DEBUG:root:n=3, m=100000000, i=2, steps=[0, 0, 999999999], 残り予算=99999997, 調整中の参加者数=1\n"
     ]
    },
    {
     "name": "stdout",
     "output_type": "stream",
     "text": [
      "99999998\n"
     ]
    }
   ],
   "source": [
    "from unittest.mock import patch\n",
    "\n",
    "with patch(\n",
    "    \"builtins.input\",\n",
    "    side_effect=f\"\"\"\\\n",
    "3 {10**8}\n",
    "1 1 {10**9}\n",
    "\"\"\".splitlines(),\n",
    "):\n",
    "    expected = 10**8 - 2\n",
    "    actual = transportation_expenses()\n",
    "    print(actual)\n",
    "    assert expected == actual, print(f\"{expected=}, {actual=}\")"
   ]
  },
  {
   "cell_type": "code",
   "execution_count": 22,
   "metadata": {},
   "outputs": [
    {
     "name": "stderr",
     "output_type": "stream",
     "text": [
      "DEBUG:root:n=1, m=200000000, 残り予算=-800000000\n"
     ]
    },
    {
     "name": "stdout",
     "output_type": "stream",
     "text": [
      "200000000\n"
     ]
    }
   ],
   "source": [
    "from unittest.mock import patch\n",
    "\n",
    "with patch(\n",
    "    \"builtins.input\",\n",
    "    side_effect=f\"\"\"\\\n",
    "1 {2*10**8}\n",
    "{10**9}\n",
    "\"\"\".splitlines(),\n",
    "):\n",
    "    expected = 2 * 10**8\n",
    "    actual = transportation_expenses()\n",
    "    print(actual)\n",
    "    assert expected == actual, print(f\"{expected=}, {actual=}\")"
   ]
  },
  {
   "cell_type": "code",
   "execution_count": 23,
   "metadata": {},
   "outputs": [
    {
     "name": "stderr",
     "output_type": "stream",
     "text": [
      "DEBUG:root:n=200000, m=1, 残り予算=-199999\n"
     ]
    },
    {
     "name": "stdout",
     "output_type": "stream",
     "text": [
      "0\n"
     ]
    }
   ],
   "source": [
    "from unittest.mock import patch\n",
    "\n",
    "with patch(\n",
    "    \"builtins.input\",\n",
    "    side_effect=f\"\"\"\\\n",
    "{2*10**5} 1\n",
    "{('1 ' * (2*10**5)).strip()}\n",
    "\"\"\".splitlines(),\n",
    "):\n",
    "    expected = 0\n",
    "    actual = transportation_expenses()\n",
    "    print(actual)\n",
    "    assert expected == actual, print(f\"{expected=}, {actual=}\")"
   ]
  },
  {
   "cell_type": "code",
   "execution_count": 24,
   "metadata": {},
   "outputs": [
    {
     "name": "stderr",
     "output_type": "stream",
     "text": [
      "DEBUG:root:n=200000, m=200000, 残り予算=0\n"
     ]
    },
    {
     "name": "stdout",
     "output_type": "stream",
     "text": [
      "1\n"
     ]
    }
   ],
   "source": [
    "from unittest.mock import patch\n",
    "\n",
    "with patch(\n",
    "    \"builtins.input\",\n",
    "    side_effect=f\"\"\"\\\n",
    "{2*10**5} {2*10**5}\n",
    "{('1 ' * (2*10**5)).strip()}\n",
    "\"\"\".splitlines(),\n",
    "):\n",
    "    expected = 1\n",
    "    actual = transportation_expenses()\n",
    "    print(actual)\n",
    "    assert expected == actual, print(f\"{expected=}, {actual=}\")"
   ]
  },
  {
   "cell_type": "code",
   "execution_count": null,
   "metadata": {},
   "outputs": [],
   "source": []
  }
 ],
 "metadata": {
  "kernelspec": {
   "display_name": ".venv",
   "language": "python",
   "name": "python3"
  },
  "language_info": {
   "codemirror_mode": {
    "name": "ipython",
    "version": 3
   },
   "file_extension": ".py",
   "mimetype": "text/x-python",
   "name": "python",
   "nbconvert_exporter": "python",
   "pygments_lexer": "ipython3",
   "version": "3.12.3"
  }
 },
 "nbformat": 4,
 "nbformat_minor": 2
}
