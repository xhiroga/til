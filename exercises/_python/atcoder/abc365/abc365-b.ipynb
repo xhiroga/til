{
 "cells": [
  {
   "cell_type": "code",
   "execution_count": 1,
   "metadata": {},
   "outputs": [],
   "source": [
    "def second_best() -> int:\n",
    "    _ = int(input())\n",
    "    nums = list(map(int, input().split()))\n",
    "\n",
    "    if len(nums) < 2:\n",
    "        raise ValueError()\n",
    "\n",
    "    first_max = max(nums)\n",
    "    second_max = max([num for num in nums if num != first_max])\n",
    "\n",
    "    return nums.index(second_max) + 1\n"
   ]
  },
  {
   "cell_type": "code",
   "execution_count": 2,
   "metadata": {},
   "outputs": [
    {
     "name": "stdout",
     "output_type": "stream",
     "text": [
      "3\n"
     ]
    }
   ],
   "source": [
    "from unittest.mock import patch\n",
    "\n",
    "with patch(\n",
    "    \"builtins.input\",\n",
    "    side_effect=\"\"\"\\\n",
    "4\n",
    "8 2 5 1\n",
    "\"\"\".splitlines(),\n",
    "):\n",
    "    expected = 3\n",
    "    actual = second_best()\n",
    "    print(actual)\n",
    "    assert expected == actual, print(f\"{expected=}, {actual=}\")"
   ]
  },
  {
   "cell_type": "code",
   "execution_count": 3,
   "metadata": {},
   "outputs": [
    {
     "name": "stdout",
     "output_type": "stream",
     "text": [
      "6\n"
     ]
    }
   ],
   "source": [
    "from unittest.mock import patch\n",
    "\n",
    "with patch(\n",
    "    \"builtins.input\",\n",
    "    side_effect=\"\"\"\\\n",
    "8\n",
    "1 2 3 4 5 10 9 11\n",
    "\"\"\".splitlines(),\n",
    "):\n",
    "    expected = 6\n",
    "    actual = second_best()\n",
    "    print(actual)\n",
    "    assert expected == actual, print(f\"{expected=}, {actual=}\")"
   ]
  },
  {
   "cell_type": "code",
   "execution_count": null,
   "metadata": {},
   "outputs": [],
   "source": []
  }
 ],
 "metadata": {
  "kernelspec": {
   "display_name": ".venv",
   "language": "python",
   "name": "python3"
  },
  "language_info": {
   "codemirror_mode": {
    "name": "ipython",
    "version": 3
   },
   "file_extension": ".py",
   "mimetype": "text/x-python",
   "name": "python",
   "nbconvert_exporter": "python",
   "pygments_lexer": "ipython3",
   "version": "3.12.3"
  }
 },
 "nbformat": 4,
 "nbformat_minor": 2
}
