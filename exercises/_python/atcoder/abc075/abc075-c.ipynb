{
 "cells": [
  {
   "cell_type": "markdown",
   "metadata": {},
   "source": [
    "# C - Bridge"
   ]
  },
  {
   "cell_type": "code",
   "execution_count": 15,
   "metadata": {},
   "outputs": [],
   "source": [
    "# networkxなし\n",
    "def union_find(n: int, edges: list[tuple[int, int]]) -> list[int]:\n",
    "    # AtCoderは1オリジン\n",
    "    parents = {i: i for i in range(1, n + 1)}\n",
    "    sizes = {\n",
    "        u: 1 for u in parents.keys()\n",
    "    }  # 自身を根としたときの木のノードの数の最高記録\n",
    "\n",
    "    def find(u: int) -> int:\n",
    "        if parents[u] != u:\n",
    "            parents[u] = find(parents[u])\n",
    "        return parents[u]\n",
    "\n",
    "    def union(u: int, v: int) -> None:\n",
    "        root_u, root_v = find(u), find(v)\n",
    "        if root_u != root_v:\n",
    "            if sizes[root_u] >= sizes[root_v]:\n",
    "                parents[root_v] = root_u\n",
    "                sizes[root_u] += sizes[root_v]\n",
    "            else:\n",
    "                parents[root_u] = root_v\n",
    "                sizes[root_v] += sizes[root_u]\n",
    "\n",
    "    for u, v in edges:\n",
    "        union(u, v)\n",
    "\n",
    "    return [find(u) for u in parents.keys()]\n",
    "\n",
    "\n",
    "def bridge() -> int:\n",
    "    n, _ = map(int, input().split())\n",
    "    edges: list[tuple[int, int]] = []\n",
    "    for _ in range(n):\n",
    "        # mypyに対して`split()`の返り値の配列の長さを示せないため、明示的にunpackして要素数を確定させる\n",
    "        u, v = map(int, input().split())\n",
    "        edges.append((u, v))\n",
    "    bridges = []\n",
    "    for i, edge in enumerate(edges):\n",
    "        rest = edges[0:i] + edges[i + 1 :]\n",
    "        # 無向グラフにおける連結の判定のためにUnion-Findを用いる\n",
    "        roots = union_find(n, rest)\n",
    "        components = set(roots)\n",
    "        if len(components) > 1:\n",
    "            bridges.append(edge)\n",
    "\n",
    "    return len(bridges)"
   ]
  },
  {
   "cell_type": "code",
   "execution_count": 14,
   "metadata": {},
   "outputs": [],
   "source": [
    "from unittest.mock import patch\n",
    "\n",
    "with patch(\n",
    "    \"builtins.input\",\n",
    "    side_effect=\"\"\"\n",
    "7 7\n",
    "1 3\n",
    "2 7\n",
    "3 4\n",
    "4 5\n",
    "4 6\n",
    "5 6\n",
    "6 7\n",
    "\"\"\".strip().splitlines(),\n",
    "):\n",
    "    expected = 4\n",
    "    actual = bridge()\n",
    "    assert expected == actual, print(f\"{expected=}, {actual=}\")"
   ]
  },
  {
   "cell_type": "code",
   "execution_count": 7,
   "metadata": {},
   "outputs": [],
   "source": [
    "from unittest.mock import patch\n",
    "\n",
    "with patch(\n",
    "    \"builtins.input\",\n",
    "    side_effect=\"\"\"\n",
    "3 3\n",
    "1 2\n",
    "1 3\n",
    "2 3\n",
    "\"\"\".strip().splitlines(),\n",
    "):\n",
    "    expected = 0\n",
    "    actual = bridge()\n",
    "    assert expected == actual, print(f\"{expected=}, {actual=}\")"
   ]
  },
  {
   "cell_type": "markdown",
   "metadata": {},
   "source": [
    "[AtCoderで使えるnetworkx ケーススタディ](https://qiita.com/yH3PO4/items/ffd81081c254895939c0)を参考にした。"
   ]
  },
  {
   "cell_type": "code",
   "execution_count": 19,
   "metadata": {},
   "outputs": [],
   "source": [
    "# networkxあり\n",
    "import networkx as nx\n",
    "\n",
    "\n",
    "def bridge_x() -> int:\n",
    "    n, _ = map(int, input().split())\n",
    "    edges: list[tuple[int, int]] = []\n",
    "    for _ in range(n):\n",
    "        u, v = map(int, input().split())\n",
    "        edges.append((u, v))\n",
    "    graph = nx.Graph()\n",
    "    graph.add_nodes_from(range(1, n + 1))\n",
    "    graph.add_edges_from(edges)\n",
    "    return len(tuple(nx.bridges(graph)))"
   ]
  },
  {
   "cell_type": "code",
   "execution_count": 20,
   "metadata": {},
   "outputs": [],
   "source": [
    "from unittest.mock import patch\n",
    "\n",
    "with patch(\n",
    "    \"builtins.input\",\n",
    "    side_effect=\"\"\"\n",
    "7 7\n",
    "1 3\n",
    "2 7\n",
    "3 4\n",
    "4 5\n",
    "4 6\n",
    "5 6\n",
    "6 7\n",
    "\"\"\".strip().splitlines(),\n",
    "):\n",
    "    expected = 4\n",
    "    actual = bridge_x()\n",
    "    assert expected == actual, print(f\"{expected=}, {actual=}\")"
   ]
  },
  {
   "cell_type": "code",
   "execution_count": 13,
   "metadata": {},
   "outputs": [],
   "source": [
    "from unittest.mock import patch\n",
    "\n",
    "with patch(\n",
    "    \"builtins.input\",\n",
    "    side_effect=\"\"\"\n",
    "3 3\n",
    "1 2\n",
    "1 3\n",
    "2 3\n",
    "\"\"\".strip().splitlines(),\n",
    "):\n",
    "    expected = 0\n",
    "    actual = bridge_x()\n",
    "    assert expected == actual, print(f\"{expected=}, {actual=}\")"
   ]
  },
  {
   "cell_type": "code",
   "execution_count": null,
   "metadata": {},
   "outputs": [],
   "source": []
  }
 ],
 "metadata": {
  "kernelspec": {
   "display_name": ".venv",
   "language": "python",
   "name": "python3"
  },
  "language_info": {
   "codemirror_mode": {
    "name": "ipython",
    "version": 3
   },
   "file_extension": ".py",
   "mimetype": "text/x-python",
   "name": "python",
   "nbconvert_exporter": "python",
   "pygments_lexer": "ipython3",
   "version": "3.12.3"
  }
 },
 "nbformat": 4,
 "nbformat_minor": 2
}
