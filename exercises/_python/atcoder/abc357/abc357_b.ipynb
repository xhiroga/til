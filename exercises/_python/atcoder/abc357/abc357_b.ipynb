{
 "cells": [
  {
   "cell_type": "code",
   "execution_count": 1,
   "metadata": {},
   "outputs": [
    {
     "name": "stdout",
     "output_type": "stream",
     "text": [
      "env: PYTHON_LOGLEVEL=DEBUG\n"
     ]
    }
   ],
   "source": [
    "%env PYTHON_LOGLEVEL=DEBUG"
   ]
  },
  {
   "cell_type": "code",
   "execution_count": 6,
   "metadata": {},
   "outputs": [],
   "source": [
    "from logging import getLogger, StreamHandler, WARNING\n",
    "import os\n",
    "\n",
    "PYTHON_LOGLEVEL = os.environ.get(\"PYTHON_LOGLEVEL\", WARNING)\n",
    "logger = getLogger(__name__)\n",
    "handler = StreamHandler()\n",
    "handler.setLevel(PYTHON_LOGLEVEL)\n",
    "logger.setLevel(PYTHON_LOGLEVEL)\n",
    "logger.addHandler(handler)\n",
    "logger.propagate = False"
   ]
  },
  {
   "cell_type": "code",
   "execution_count": 7,
   "metadata": {},
   "outputs": [],
   "source": [
    "def uppercase_and_lowercase(s: str) -> str:\n",
    "    diff = 0\n",
    "    for char in s:\n",
    "        if char.isupper():\n",
    "            diff += 1\n",
    "        else:\n",
    "            diff -= 1\n",
    "\n",
    "    if diff < 0:\n",
    "        return s.lower()\n",
    "    elif diff == 0:\n",
    "        return s\n",
    "    else:\n",
    "        return s.upper()"
   ]
  },
  {
   "cell_type": "code",
   "execution_count": 8,
   "metadata": {},
   "outputs": [
    {
     "name": "stdout",
     "output_type": "stream",
     "text": [
      "atcoder\n"
     ]
    }
   ],
   "source": [
    "from unittest.mock import patch\n",
    "\n",
    "with patch(\"builtins.input\", side_effect=[\"AtCoder\"]):\n",
    "    expected = \"atcoder\"\n",
    "    actual = uppercase_and_lowercase(input())\n",
    "    print(actual)\n",
    "    assert expected == actual"
   ]
  },
  {
   "cell_type": "code",
   "execution_count": 9,
   "metadata": {},
   "outputs": [
    {
     "name": "stdout",
     "output_type": "stream",
     "text": [
      "SUNTORY\n"
     ]
    }
   ],
   "source": [
    "from unittest.mock import patch\n",
    "\n",
    "with patch(\"builtins.input\", side_effect=[\"SunTORY\"]):\n",
    "    expected = \"SUNTORY\"\n",
    "    actual = uppercase_and_lowercase(input())\n",
    "    print(actual)\n",
    "    assert expected == actual"
   ]
  },
  {
   "cell_type": "code",
   "execution_count": 10,
   "metadata": {},
   "outputs": [
    {
     "name": "stdout",
     "output_type": "stream",
     "text": [
      "a\n"
     ]
    }
   ],
   "source": [
    "from unittest.mock import patch\n",
    "\n",
    "with patch(\"builtins.input\", side_effect=[\"a\"]):\n",
    "    expected = \"a\"\n",
    "    actual = uppercase_and_lowercase(input())\n",
    "    print(actual)\n",
    "    assert expected == actual"
   ]
  },
  {
   "cell_type": "code",
   "execution_count": null,
   "metadata": {},
   "outputs": [],
   "source": []
  }
 ],
 "metadata": {
  "kernelspec": {
   "display_name": ".venv",
   "language": "python",
   "name": "python3"
  },
  "language_info": {
   "codemirror_mode": {
    "name": "ipython",
    "version": 3
   },
   "file_extension": ".py",
   "mimetype": "text/x-python",
   "name": "python",
   "nbconvert_exporter": "python",
   "pygments_lexer": "ipython3",
   "version": "3.12.3"
  }
 },
 "nbformat": 4,
 "nbformat_minor": 2
}
