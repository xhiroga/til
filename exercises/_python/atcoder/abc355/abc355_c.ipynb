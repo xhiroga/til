{
 "cells": [
  {
   "cell_type": "code",
   "execution_count": 4,
   "metadata": {},
   "outputs": [],
   "source": [
    "def bingo(nums: tuple[int, list[int]]):\n",
    "    n, turns = nums\n",
    "\n",
    "    rows = [0 for _ in range(n)]\n",
    "    columns = [0 for _ in range(n)]\n",
    "    slopes = [0, 0]\n",
    "\n",
    "    for i, turn in enumerate(turns):\n",
    "        row = (turn - 1) // n\n",
    "        rows[row] += 1\n",
    "        if rows[row] >= n:\n",
    "            return i + 1\n",
    "\n",
    "        column = (turn - 1) % n\n",
    "        columns[column] += 1\n",
    "        if columns[column] >= n:\n",
    "            return i + 1\n",
    "\n",
    "        if row == column:\n",
    "            slopes[0] += 1\n",
    "            if slopes[0] >= n:\n",
    "                return i + 1\n",
    "\n",
    "        if n - 1 - row == column:\n",
    "            slopes[1] += 1\n",
    "            if slopes[1] >= n:\n",
    "                return i + 1\n",
    "        # print(f\"{i=}, {rows=}, {columns=}, {slopes=}\")\n",
    "\n",
    "    return -1"
   ]
  },
  {
   "cell_type": "code",
   "execution_count": 5,
   "metadata": {},
   "outputs": [],
   "source": [
    "def parse():\n",
    "    n, _ = [int(n) for n in input().split(\" \")]\n",
    "    turns = [int(n) for n in input().split(\" \")]\n",
    "    return (n, turns)"
   ]
  },
  {
   "cell_type": "code",
   "execution_count": 6,
   "metadata": {},
   "outputs": [
    {
     "name": "stdout",
     "output_type": "stream",
     "text": [
      "i=0, rows=[0, 1, 0], columns=[0, 1, 0], slopes=[1, 1]\n",
      "i=1, rows=[1, 1, 0], columns=[1, 1, 0], slopes=[2, 1]\n",
      "i=2, rows=[1, 1, 1], columns=[1, 2, 0], slopes=[2, 1]\n"
     ]
    }
   ],
   "source": [
    "from unittest.mock import patch\n",
    "\n",
    "with patch(\"builtins.input\", side_effect=[\"3 5\", \"5 1 8 9 7\"]):\n",
    "    expected = 4\n",
    "    actual = bingo(parse())\n",
    "    assert expected == actual"
   ]
  },
  {
   "cell_type": "code",
   "execution_count": 7,
   "metadata": {},
   "outputs": [
    {
     "name": "stdout",
     "output_type": "stream",
     "text": [
      "i=0, rows=[0, 0, 0, 1], columns=[1, 0, 0, 0], slopes=[0, 1]\n",
      "i=1, rows=[0, 0, 1, 1], columns=[2, 0, 0, 0], slopes=[0, 1]\n",
      "i=2, rows=[0, 1, 1, 1], columns=[2, 1, 0, 0], slopes=[1, 1]\n",
      "i=3, rows=[0, 2, 1, 1], columns=[3, 1, 0, 0], slopes=[1, 1]\n",
      "i=4, rows=[1, 2, 1, 1], columns=[3, 2, 0, 0], slopes=[1, 1]\n",
      "i=5, rows=[1, 3, 1, 1], columns=[3, 2, 1, 0], slopes=[1, 2]\n",
      "i=6, rows=[1, 3, 1, 2], columns=[3, 2, 1, 1], slopes=[2, 2]\n",
      "i=7, rows=[1, 3, 1, 3], columns=[3, 3, 1, 1], slopes=[2, 2]\n"
     ]
    }
   ],
   "source": [
    "from unittest.mock import patch\n",
    "\n",
    "with patch(\"builtins.input\", side_effect=[\"4 12\", \"13 9 6 5 2 7 16 14 8 3 10 11\"]):\n",
    "    expected = 9\n",
    "    actual = bingo(parse())\n",
    "    assert expected == actual"
   ]
  },
  {
   "cell_type": "code",
   "execution_count": null,
   "metadata": {},
   "outputs": [],
   "source": []
  }
 ],
 "metadata": {
  "kernelspec": {
   "display_name": "Python 3",
   "language": "python",
   "name": "python3"
  },
  "language_info": {
   "codemirror_mode": {
    "name": "ipython",
    "version": 3
   },
   "file_extension": ".py",
   "mimetype": "text/x-python",
   "name": "python",
   "nbconvert_exporter": "python",
   "pygments_lexer": "ipython3",
   "version": "3.9.6"
  }
 },
 "nbformat": 4,
 "nbformat_minor": 2
}
