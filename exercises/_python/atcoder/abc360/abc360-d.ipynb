{
 "cells": [
  {
   "cell_type": "code",
   "execution_count": 15,
   "metadata": {},
   "outputs": [],
   "source": [
    "# TLE...\n",
    "def ghost_ants():\n",
    "    n, t = tuple(map(int, input().split()))\n",
    "    directions = list(input())\n",
    "    ants = tuple(map(int, input().split()))\n",
    "\n",
    "    count = 0\n",
    "    for i, ant in enumerate(ants):\n",
    "        if directions[i] == \"0\":\n",
    "            continue\n",
    "        else:\n",
    "            terminal = ant + t * 2\n",
    "            for j, another in enumerate(ants[i + 1 : n]):\n",
    "                if terminal < another:\n",
    "                    break\n",
    "                if directions[i + 1 + j] == \"0\":\n",
    "                    count += 1\n",
    "\n",
    "    return count"
   ]
  },
  {
   "cell_type": "code",
   "execution_count": 16,
   "metadata": {},
   "outputs": [
    {
     "name": "stdout",
     "output_type": "stream",
     "text": [
      "5\n"
     ]
    }
   ],
   "source": [
    "from unittest.mock import patch\n",
    "\n",
    "with patch(\"builtins.input\", side_effect=[\"6 3\", \"101010\", \"-5 -1 0 1 2 4\"]):\n",
    "    expected = 5\n",
    "    actual = ghost_ants()\n",
    "    print(actual)\n",
    "    assert expected == actual"
   ]
  },
  {
   "cell_type": "code",
   "execution_count": 17,
   "metadata": {},
   "outputs": [
    {
     "name": "stdout",
     "output_type": "stream",
     "text": [
      "14\n"
     ]
    }
   ],
   "source": [
    "from unittest.mock import patch\n",
    "\n",
    "with patch(\n",
    "    \"builtins.input\",\n",
    "    side_effect=[\n",
    "        \"13 656320850\",\n",
    "        \"0100110011101\",\n",
    "        \"-900549713 -713494784 -713078652 -687818593 -517374932 -498415009 -472742091 -390030458 -379340552 -237481538 -44636942 352721061 695864366\",\n",
    "    ],\n",
    "):\n",
    "    expected = 14\n",
    "    actual = ghost_ants()\n",
    "    print(actual)\n",
    "    assert expected == actual"
   ]
  },
  {
   "cell_type": "code",
   "execution_count": null,
   "metadata": {},
   "outputs": [],
   "source": []
  }
 ],
 "metadata": {
  "kernelspec": {
   "display_name": ".venv",
   "language": "python",
   "name": "python3"
  },
  "language_info": {
   "codemirror_mode": {
    "name": "ipython",
    "version": 3
   },
   "file_extension": ".py",
   "mimetype": "text/x-python",
   "name": "python",
   "nbconvert_exporter": "python",
   "pygments_lexer": "ipython3",
   "version": "3.12.3"
  }
 },
 "nbformat": 4,
 "nbformat_minor": 2
}
