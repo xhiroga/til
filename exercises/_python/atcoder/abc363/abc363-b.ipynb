{
 "cells": [
  {
   "cell_type": "code",
   "execution_count": 4,
   "metadata": {},
   "outputs": [],
   "source": [
    "def japanese_cursed_doll() -> int:\n",
    "    n, t, p = map(int, input().split())\n",
    "    ls = sorted(list(map(int, input().split())), reverse=True)\n",
    "    return max(t - ls[p-1], 0)"
   ]
  },
  {
   "cell_type": "code",
   "execution_count": 5,
   "metadata": {},
   "outputs": [
    {
     "name": "stdout",
     "output_type": "stream",
     "text": [
      "7\n"
     ]
    }
   ],
   "source": [
    "from unittest.mock import patch\n",
    "\n",
    "with patch(\n",
    "    \"builtins.input\",\n",
    "    side_effect=\"\"\"\n",
    "5 10 3\n",
    "3 11 1 6 2\n",
    "\"\"\".strip().splitlines(),\n",
    "):\n",
    "    expected = 7\n",
    "    actual = japanese_cursed_doll()\n",
    "    print(actual)\n",
    "    assert expected == actual, print(f\"{expected=}, {actual=}\")"
   ]
  },
  {
   "cell_type": "code",
   "execution_count": 6,
   "metadata": {},
   "outputs": [
    {
     "name": "stdout",
     "output_type": "stream",
     "text": [
      "0\n"
     ]
    }
   ],
   "source": [
    "from unittest.mock import patch\n",
    "\n",
    "with patch(\n",
    "    \"builtins.input\",\n",
    "    side_effect=\"\"\"\n",
    "2 5 2\n",
    "10 10\n",
    "\"\"\".strip().splitlines(),\n",
    "):\n",
    "    expected = 0\n",
    "    actual = japanese_cursed_doll()\n",
    "    print(actual)\n",
    "    assert expected == actual, print(f\"{expected=}, {actual=}\")"
   ]
  },
  {
   "cell_type": "code",
   "execution_count": null,
   "metadata": {},
   "outputs": [],
   "source": []
  }
 ],
 "metadata": {
  "kernelspec": {
   "display_name": ".venv",
   "language": "python",
   "name": "python3"
  },
  "language_info": {
   "codemirror_mode": {
    "name": "ipython",
    "version": 3
   },
   "file_extension": ".py",
   "mimetype": "text/x-python",
   "name": "python",
   "nbconvert_exporter": "python",
   "pygments_lexer": "ipython3",
   "version": "3.12.3"
  }
 },
 "nbformat": 4,
 "nbformat_minor": 2
}
