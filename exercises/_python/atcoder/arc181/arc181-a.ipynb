{
 "cells": [
  {
   "cell_type": "code",
   "execution_count": 26,
   "metadata": {},
   "outputs": [],
   "source": [
    "from logging import basicConfig, root, DEBUG, WARNING\n",
    "\n",
    "basicConfig(level=DEBUG if \"get_ipython\" in globals() else WARNING)\n",
    "\n",
    "\n",
    "def solve(ps: list[int]) -> int:\n",
    "    # すでに 1,2,...,N であるかのチェック\n",
    "    if all(i + 1 == p for i, p in enumerate(ps)):\n",
    "        root.debug(f\"すでに昇順, {ps=}\")\n",
    "        return 0\n",
    "\n",
    "    # 3回かかるケースのチェック\n",
    "    if ps[0] == len(ps) and ps[-1] == 1:\n",
    "        root.debug(\n",
    "            f\"左端に最大、右端に最小があり2回での並び替え不可, {ps[0]=}, {ps[-1]=}\"\n",
    "        )\n",
    "        return 3\n",
    "\n",
    "    # p_i = i かつ max(p_1,p_2,...p_{i-1}) < p_i < min(p_{i+1},p_{i+2},...,p_N) であるかのチェック\n",
    "    for i, p in enumerate(ps):\n",
    "        i_based_1 = i + 1\n",
    "        if i_based_1 != p:\n",
    "            continue\n",
    "\n",
    "        if i_based_1 == 1 and p < min(ps[i + 1 :]):\n",
    "            root.debug(\"k=1で操作を行うと1回で並び替え可能\")\n",
    "            return 1\n",
    "        elif i_based_1 == len(ps) and max(ps[:i]) < p:\n",
    "            root.debug(\"k=Nで操作を行うと1回で並び替え可能\")\n",
    "            return 1\n",
    "        elif max(ps[:i]) < p and p < min(ps[i + 1 :]):\n",
    "            root.debug(f\"k=i_based_1で操作を行うと1回で並び替え可能, {i_based_1=}\")\n",
    "            return 1\n",
    "\n",
    "    # 上記以外は全て2回で並び替え可能\n",
    "    root.debug(\"操作回数0,1,3に該当せず\")\n",
    "    return 2\n",
    "\n",
    "\n",
    "def sort_left_and_right() -> str:\n",
    "    t = int(input())\n",
    "    solutions = []\n",
    "    for _ in range(t):\n",
    "        _ = int(input())\n",
    "        ps = list(map(int, input().split()))\n",
    "        solutions.append(str(solve(ps)))\n",
    "    return \"\\n\".join(solutions)\n"
   ]
  },
  {
   "cell_type": "markdown",
   "metadata": {},
   "source": [
    "単体テスト\n",
    "\n",
    "- [x] 並び替え不要\n",
    "- [x] k=1で1手で並び替え可能\n",
    "- [x] k=Nで1手で並び替え可能\n",
    "- [x] k=iで2手で並び替え可能\n",
    "- [x] 3手で並び替え可能"
   ]
  },
  {
   "cell_type": "code",
   "execution_count": 27,
   "metadata": {},
   "outputs": [
    {
     "name": "stderr",
     "output_type": "stream",
     "text": [
      "DEBUG:root:k=i_based_1で操作を行うと1回で並び替え可能, i_based_1=3\n",
      "DEBUG:root:すでに昇順, ps=[1, 2, 3]\n",
      "DEBUG:root:操作回数0,1,3に該当せず\n"
     ]
    },
    {
     "name": "stdout",
     "output_type": "stream",
     "text": [
      "1\n",
      "0\n",
      "2\n"
     ]
    }
   ],
   "source": [
    "from unittest.mock import patch\n",
    "\n",
    "with patch(\n",
    "    \"builtins.input\",\n",
    "    side_effect=\"\"\"\\\n",
    "3\n",
    "5\n",
    "2 1 3 5 4\n",
    "3\n",
    "1 2 3\n",
    "7\n",
    "3 2 1 7 5 6 4\\\n",
    "\"\"\".splitlines(),\n",
    "):\n",
    "    expected = \"\"\"\\\n",
    "1\n",
    "0\n",
    "2\\\n",
    "\"\"\"\n",
    "    actual = sort_left_and_right()\n",
    "    print(actual)\n",
    "    assert expected == actual, print(f\"{expected=}, {actual=}\")"
   ]
  },
  {
   "cell_type": "code",
   "execution_count": 28,
   "metadata": {},
   "outputs": [
    {
     "name": "stderr",
     "output_type": "stream",
     "text": [
      "DEBUG:root:k=1で操作を行うと1回で並び替え可能\n",
      "DEBUG:root:k=Nで操作を行うと1回で並び替え可能\n",
      "DEBUG:root:左端に最大、右端に最小があり2回での並び替え不可, ps[0]=4, ps[-1]=1\n"
     ]
    },
    {
     "name": "stdout",
     "output_type": "stream",
     "text": [
      "1\n",
      "1\n",
      "3\n"
     ]
    }
   ],
   "source": [
    "from unittest.mock import patch\n",
    "\n",
    "with patch(\n",
    "    \"builtins.input\",\n",
    "    side_effect=\"\"\"\\\n",
    "3\n",
    "5\n",
    "1 5 4 3 2\n",
    "5\n",
    "4 3 2 1 5\n",
    "4\n",
    "4 3 2 1\\\n",
    "\"\"\".splitlines(),\n",
    "):\n",
    "    expected = \"\"\"\\\n",
    "1\n",
    "1\n",
    "3\\\n",
    "\"\"\"\n",
    "    actual = sort_left_and_right()\n",
    "    print(actual)\n",
    "    assert expected == actual, print(f\"{expected=}, {actual=}\")"
   ]
  },
  {
   "cell_type": "code",
   "execution_count": null,
   "metadata": {},
   "outputs": [],
   "source": []
  }
 ],
 "metadata": {
  "kernelspec": {
   "display_name": ".venv",
   "language": "python",
   "name": "python3"
  },
  "language_info": {
   "codemirror_mode": {
    "name": "ipython",
    "version": 3
   },
   "file_extension": ".py",
   "mimetype": "text/x-python",
   "name": "python",
   "nbconvert_exporter": "python",
   "pygments_lexer": "ipython3",
   "version": "3.12.3"
  }
 },
 "nbformat": 4,
 "nbformat_minor": 2
}
