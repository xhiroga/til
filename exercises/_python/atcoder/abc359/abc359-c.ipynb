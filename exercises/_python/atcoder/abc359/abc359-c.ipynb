{
 "cells": [
  {
   "cell_type": "code",
   "execution_count": 1,
   "metadata": {},
   "outputs": [],
   "source": [
    "def tile_distance_2():\n",
    "    s_x, s_y = [int(num) for num in input().split()]\n",
    "    t_x, t_y = [int(num) for num in input().split()]\n",
    "    v_border = abs(t_y - s_y)\n",
    "    s_parity = s_y % 2\n",
    "    t_parity = t_y % 2\n",
    "    s_xth_block = (s_x + s_parity) // 2\n",
    "    t_xth_block = (t_x + t_parity) // 2\n",
    "    h_border = 0\n",
    "    if s_parity == t_parity:\n",
    "        h_border = abs(t_xth_block - s_xth_block)\n",
    "    elif s_parity == 0 and t_parity == 1:\n",
    "        h_border = min(\n",
    "            abs(t_xth_block - s_xth_block), abs(t_xth_block - (s_xth_block + 1))\n",
    "        )\n",
    "    elif s_parity == 1 and t_parity == 0:\n",
    "        h_border = min(\n",
    "            abs(t_xth_block - s_xth_block), abs((t_xth_block + 1) - s_xth_block)\n",
    "        )\n",
    "\n",
    "    return v_border + max(h_border - max(v_border - 1, 0), 0)"
   ]
  },
  {
   "cell_type": "code",
   "execution_count": 2,
   "metadata": {},
   "outputs": [
    {
     "name": "stdout",
     "output_type": "stream",
     "text": [
      "5\n"
     ]
    }
   ],
   "source": [
    "from unittest.mock import patch\n",
    "\n",
    "with patch(\"builtins.input\", side_effect=[\"5 0\", \"2 5\"]):\n",
    "    expected = 5\n",
    "    actual = tile_distance_2()\n",
    "    print(actual)\n",
    "    assert expected == actual"
   ]
  },
  {
   "cell_type": "code",
   "execution_count": 3,
   "metadata": {},
   "outputs": [
    {
     "name": "stdout",
     "output_type": "stream",
     "text": [
      "0\n"
     ]
    }
   ],
   "source": [
    "from unittest.mock import patch\n",
    "\n",
    "with patch(\"builtins.input\", side_effect=[\"3 1\", \"4 1\"]):\n",
    "    expected = 0\n",
    "    actual = tile_distance_2()\n",
    "    print(actual)\n",
    "    assert expected == actual"
   ]
  },
  {
   "cell_type": "code",
   "execution_count": 4,
   "metadata": {},
   "outputs": [
    {
     "name": "stdout",
     "output_type": "stream",
     "text": [
      "1794977862420151\n"
     ]
    }
   ],
   "source": [
    "from unittest.mock import patch\n",
    "\n",
    "with patch(\n",
    "    \"builtins.input\",\n",
    "    side_effect=[\n",
    "        \"2552608206527595 5411232866732612\",\n",
    "        \"771856005518028 7206210729152763\",\n",
    "    ],\n",
    "):\n",
    "    expected = 1794977862420151\n",
    "    actual = tile_distance_2()\n",
    "    print(actual)\n",
    "    assert expected == actual"
   ]
  },
  {
   "cell_type": "code",
   "execution_count": 5,
   "metadata": {},
   "outputs": [
    {
     "name": "stdout",
     "output_type": "stream",
     "text": [
      "20000000000000000\n"
     ]
    }
   ],
   "source": [
    "from unittest.mock import patch\n",
    "\n",
    "with patch(\n",
    "    \"builtins.input\",\n",
    "    side_effect=[\n",
    "        \"0 0\",\n",
    "        f\"{2*(10**16)} {2*(10**16)}\",\n",
    "    ],\n",
    "):\n",
    "    expected = 20000000000000000\n",
    "    actual = tile_distance_2()\n",
    "    print(actual)\n",
    "    assert expected == actual"
   ]
  },
  {
   "cell_type": "code",
   "execution_count": 6,
   "metadata": {},
   "outputs": [
    {
     "name": "stdout",
     "output_type": "stream",
     "text": [
      "0\n"
     ]
    }
   ],
   "source": [
    "from unittest.mock import patch\n",
    "\n",
    "with patch(\n",
    "    \"builtins.input\",\n",
    "    side_effect=[\n",
    "        f\"{2*(10**16)} {2*(10**16)}\",\n",
    "        f\"{2*(10**16)} {2*(10**16)}\",\n",
    "    ],\n",
    "):\n",
    "    expected = 0\n",
    "    actual = tile_distance_2()\n",
    "    print(actual)\n",
    "    assert expected == actual"
   ]
  },
  {
   "cell_type": "code",
   "execution_count": 7,
   "metadata": {},
   "outputs": [
    {
     "name": "stdout",
     "output_type": "stream",
     "text": [
      "1\n"
     ]
    }
   ],
   "source": [
    "# 水平に戻るケース\n",
    "from unittest.mock import patch\n",
    "\n",
    "with patch(\"builtins.input\", side_effect=[\"3 0\", \"0 0\"]):\n",
    "    expected = 1\n",
    "    actual = tile_distance_2()\n",
    "    print(actual)\n",
    "    assert expected == actual"
   ]
  },
  {
   "cell_type": "code",
   "execution_count": 8,
   "metadata": {},
   "outputs": [
    {
     "name": "stdout",
     "output_type": "stream",
     "text": [
      "1\n"
     ]
    }
   ],
   "source": [
    "# マンハッタン距離3で移動距離1 x 奇数行から1上がるケース\n",
    "from unittest.mock import patch\n",
    "\n",
    "with patch(\"builtins.input\", side_effect=[\"1 1\", \"3 2\"]):\n",
    "    expected = 1\n",
    "    actual = tile_distance_2()\n",
    "    print(actual)\n",
    "    assert expected == actual"
   ]
  },
  {
   "cell_type": "code",
   "execution_count": 9,
   "metadata": {},
   "outputs": [
    {
     "name": "stdout",
     "output_type": "stream",
     "text": [
      "1\n"
     ]
    }
   ],
   "source": [
    "# マンハッタン距離3で移動距離2 x 偶数行から2下がるケース\n",
    "from unittest.mock import patch\n",
    "\n",
    "with patch(\"builtins.input\", side_effect=[\"2 0\", \"1 0\"]):\n",
    "    expected = 1\n",
    "    actual = tile_distance_2()\n",
    "    print(actual)\n",
    "    assert expected == actual"
   ]
  },
  {
   "cell_type": "code",
   "execution_count": 10,
   "metadata": {},
   "outputs": [],
   "source": [
    "from unittest.mock import patch\n",
    "\n",
    "# 偶数列偶数行 → 偶数列偶数行 （上右）\n",
    "with patch(\"builtins.input\", side_effect=[\"2 2\", \"4 4\"]):\n",
    "    assert 2 == tile_distance_2()\n",
    "\n",
    "# 偶数列偶数行 → 偶数列偶数行 （下左）\n",
    "with patch(\"builtins.input\", side_effect=[\"2 2\", \"0 0\"]):\n",
    "    assert 2 == tile_distance_2()\n",
    "\n",
    "# 偶数列偶数行 → 奇数列偶数行 （上右）\n",
    "with patch(\"builtins.input\", side_effect=[\"2 2\", \"5 4\"]):\n",
    "    assert 2 == tile_distance_2()\n",
    "\n",
    "# 偶数列偶数行 → 奇数列偶数行 （下左）\n",
    "with patch(\"builtins.input\", side_effect=[\"2 2\", \"1 0\"]):\n",
    "    assert 2 == tile_distance_2()\n",
    "\n",
    "# 偶数列偶数行 → 偶数列奇数行 （上右）\n",
    "with patch(\"builtins.input\", side_effect=[\"2 2\", \"4 3\"]):\n",
    "    assert 1 == tile_distance_2()\n",
    "\n",
    "# 偶数列偶数行 → 偶数列奇数行 （下左）\n",
    "with patch(\"builtins.input\", side_effect=[\"2 2\", \"0 1\"]):\n",
    "    assert 2 == tile_distance_2()\n",
    "\n",
    "# 偶数列偶数行 → 奇数列奇数行 （上右）\n",
    "with patch(\"builtins.input\", side_effect=[\"2 2\", \"3 3\"]):\n",
    "    assert 1 == tile_distance_2()\n",
    "\n",
    "# 偶数列偶数行 → 奇数列奇数行 （下左）\n",
    "with patch(\"builtins.input\", side_effect=[\"2 2\", \"1 1\"]):\n",
    "    assert 1 == tile_distance_2()"
   ]
  },
  {
   "cell_type": "code",
   "execution_count": null,
   "metadata": {},
   "outputs": [],
   "source": []
  }
 ],
 "metadata": {
  "kernelspec": {
   "display_name": ".venv",
   "language": "python",
   "name": "python3"
  },
  "language_info": {
   "codemirror_mode": {
    "name": "ipython",
    "version": 3
   },
   "file_extension": ".py",
   "mimetype": "text/x-python",
   "name": "python",
   "nbconvert_exporter": "python",
   "pygments_lexer": "ipython3",
   "version": "3.12.3"
  }
 },
 "nbformat": 4,
 "nbformat_minor": 2
}
