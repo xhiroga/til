{
 "cells": [
  {
   "cell_type": "markdown",
   "metadata": {},
   "source": [
    "# B - Coloring Matrix"
   ]
  },
  {
   "cell_type": "markdown",
   "metadata": {},
   "source": [
    "numpyの練習のために挑戦。[解説](https://atcoder.jp/contests/abc298/editorial/6229?lang=ja)を参考にした。"
   ]
  },
  {
   "cell_type": "code",
   "execution_count": 1,
   "metadata": {},
   "outputs": [
    {
     "name": "stderr",
     "output_type": "stream",
     "text": [
      "Version 1.0.5\n"
     ]
    }
   ],
   "source": [
    "%load_ext nb_mypy\n",
    "%nb_mypy mypy-options --strict"
   ]
  },
  {
   "cell_type": "code",
   "execution_count": 3,
   "metadata": {},
   "outputs": [],
   "source": [
    "import numpy as np\n",
    "\n",
    "\n",
    "def coloring_matrix() -> str:\n",
    "    n = int(input())\n",
    "    a_ = [list(map(int, input().split())) for i in range(n)]\n",
    "    b_ = [list(map(int, input().split())) for i in range(n)]\n",
    "\n",
    "    a = np.array(a_)\n",
    "    b = np.array(b_)\n",
    "    print(f\"{a=}, {b=}\")\n",
    "\n",
    "    for _ in range(4):\n",
    "        # aにおいて1のマスは、bでは全て1である → 全てのマスでb>=aである\n",
    "        if np.min(b - a) >= 0:\n",
    "            return \"Yes\"\n",
    "        a = np.rot90(a)\n",
    "\n",
    "    return \"No\""
   ]
  },
  {
   "cell_type": "code",
   "execution_count": 4,
   "metadata": {},
   "outputs": [
    {
     "name": "stdout",
     "output_type": "stream",
     "text": [
      "a=array([[0, 1, 1],\n",
      "       [1, 0, 0],\n",
      "       [0, 1, 0]]), b=array([[1, 1, 0],\n",
      "       [0, 0, 1],\n",
      "       [1, 1, 1]])\n"
     ]
    }
   ],
   "source": [
    "from unittest.mock import patch\n",
    "\n",
    "with patch(\n",
    "    \"builtins.input\",\n",
    "    side_effect=\"\"\"\n",
    "3\n",
    "0 1 1\n",
    "1 0 0\n",
    "0 1 0\n",
    "1 1 0\n",
    "0 0 1\n",
    "1 1 1\n",
    "\"\"\".strip().splitlines(),\n",
    "):\n",
    "    expected = \"Yes\"\n",
    "    actual = coloring_matrix()\n",
    "    assert expected == actual, print(f\"{expected=}, {actual=}\")"
   ]
  },
  {
   "cell_type": "code",
   "execution_count": null,
   "metadata": {},
   "outputs": [],
   "source": []
  }
 ],
 "metadata": {
  "kernelspec": {
   "display_name": ".venv",
   "language": "python",
   "name": "python3"
  },
  "language_info": {
   "codemirror_mode": {
    "name": "ipython",
    "version": 3
   },
   "file_extension": ".py",
   "mimetype": "text/x-python",
   "name": "python",
   "nbconvert_exporter": "python",
   "pygments_lexer": "ipython3",
   "version": "3.12.3"
  }
 },
 "nbformat": 4,
 "nbformat_minor": 2
}
